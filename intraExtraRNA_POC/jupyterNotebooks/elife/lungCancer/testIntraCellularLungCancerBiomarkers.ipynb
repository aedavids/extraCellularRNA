{
 "cells": [
  {
   "cell_type": "markdown",
   "id": "b18a6a76-4f7c-4999-909a-482ea5038458",
   "metadata": {},
   "source": [
    "# TestIntraCellularLungCancerBiomarkers\n",
    "Andrew E. Davidson  \n",
    "aedavids@ucsc.edu  \n",
    "1/15/24  \n",
    "\n",
    "Copyright (c) 2020-2023, Regents of the University of California All rights reserved. https://polyformproject.org/licenses/noncommercial/1.0.0\n",
    "\n",
    "Our goal is to see if the lung cancer biomarkers we found using our 1 vs. All deconvolution pipeline will work on extracelluar RNA plasma samples. The first step is to see how well these bio markers work on intracellular samples. Will using our GTEx_TCGA training, validation and test data sets\n",
    "\n",
    "**Traing Set results**  \n",
    "- 341 healthy lung sample\n",
    "- 610 lung cancer. (LUAD, LUSC)\n",
    "- sensitivity = 0.994, specificity = 1.0\n",
    "- bio markers\n",
    "```\n",
    "LUAD genes:\n",
    "['AC011944.1', 'ATP13A4-AS1', 'AC090004.1', 'GXYLT1P3', 'AC126323.6', 'AC111149.2', 'AL365181.4', '(TCCAC)n', 'BPIFA2', 'IGHJ5']\n",
    "\n",
    "LUSC genes:\n",
    "['FMO6P', 'AC121493.1', 'AP001120.2', 'LINC01249', 'AP000344.1', '(TCTATG)n', 'AC092140.2', 'AP001360.1', 'ENPP7P11', 'AC018521.2']\n",
    "\n",
    " healthy control Lung genes:\n",
    "['FPR3', 'CSF3', 'SLAMF8', 'ENTPD2', 'MAGEE1', 'PCAT19', 'GRIP2', 'PTGIR', 'RND1', 'CHRNB1']\n",
    "```\n",
    "\n",
    "**Holdout Set Results**  \n",
    "TODO AEDWIP we do not have deseq scalling factors for hold out sets. we ran our 1vsAll docker in terra on\n",
    "the training data set only. we have the code to calculate the scaling factors. run on all 26K samples then split out validate and test.\n",
    "\n",
    "double check that the training scaling factors did not change\n"
   ]
  },
  {
   "cell_type": "code",
   "execution_count": 1,
   "id": "6579c1b7-b479-40c8-8f9c-b05ba1174e13",
   "metadata": {},
   "outputs": [
    {
     "name": "stdout",
     "output_type": "stream",
     "text": [
      "outDir:\n",
      "/private/groups/kimlab/aedavids/elife/testIntraCellularLungCancerBiomarkers.out\n",
      "\n",
      "modelOutDir ;\n",
      "/private/groups/kimlab/aedavids/elife/testIntraCellularLungCancerBiomarkers.out/model\n",
      "\n",
      "imgOut :\n",
      "/private/groups/kimlab/aedavids/elife/testIntraCellularLungCancerBiomarkers.out/img\n"
     ]
    }
   ],
   "source": [
    "import ipynbname\n",
    "import joblib\n",
    "import os\n",
    "import pandas as pd\n",
    "import scikitplot as skplt\n",
    "import sys\n",
    "\n",
    "notebookName = ipynbname.name()\n",
    "notebookPath = ipynbname.path()\n",
    "notebookDir = os.path.dirname(notebookPath)\n",
    "\n",
    "#outDir = f'{notebookDir}/{notebookName}.out'\n",
    "outDir = f'/private/groups/kimlab/aedavids/elife/{notebookName}.out'\n",
    "os.makedirs(outDir, exist_ok=True)\n",
    "print(f'outDir:\\n{outDir}')\n",
    "\n",
    "modelOutDir = os.path.join(outDir, \"model\")\n",
    "os.makedirs(modelOutDir, exist_ok=True)\n",
    "print(f'\\nmodelOutDir ;\\n{modelOutDir}')\n",
    "\n",
    "imgOut = f'{outDir}/img'\n",
    "os.makedirs(imgOut, exist_ok=True)\n",
    "print(f'\\nimgOut :\\n{imgOut}')\n",
    "\n",
    "LOCAL_CACHE_DIR=f\"/scratch/aedavids/tmp/\""
   ]
  },
  {
   "cell_type": "code",
   "execution_count": 2,
   "id": "29630af4-0be3-4fc5-a548-85f5160e3ade",
   "metadata": {},
   "outputs": [
    {
     "name": "stdout",
     "output_type": "stream",
     "text": [
      "deconvolutionModules: /private/home/aedavids/extraCellularRNA/intraExtraRNA_POC/jupyterNotebooks/elife/lungCancer/../../../../deconvolutionAnalysis/python\n",
      "\n",
      "PYTHONPATH: :/private/home/aedavids/extraCellularRNA/src:/private/home/aedavids/extraCellularRNA/intraExtraRNA_POC/jupyterNotebooks/elife/lungCancer/../../../../deconvolutionAnalysis/python\n",
      "\n",
      "intraExtraRNA_POCModules: /private/home/aedavids/extraCellularRNA/intraExtraRNA_POC/jupyterNotebooks/elife/lungCancer/../../../python/src\n",
      "\n",
      "PYTHONPATH: :/private/home/aedavids/extraCellularRNA/src:/private/home/aedavids/extraCellularRNA/intraExtraRNA_POC/jupyterNotebooks/elife/lungCancer/../../../../deconvolutionAnalysis/python:/private/home/aedavids/extraCellularRNA/intraExtraRNA_POC/jupyterNotebooks/elife/lungCancer/../../../python/src\n",
      "\n",
      "PYTHONPATH: :/private/home/aedavids/extraCellularRNA/src:/private/home/aedavids/extraCellularRNA/intraExtraRNA_POC/jupyterNotebooks/elife/lungCancer/../../../../deconvolutionAnalysis/python:/private/home/aedavids/extraCellularRNA/intraExtraRNA_POC/jupyterNotebooks/elife/lungCancer/../../../python/src\n",
      "\n",
      "\n",
      "sys.path:\n",
      "['/private/home/aedavids/extraCellularRNA/intraExtraRNA_POC/jupyterNotebooks/elife/lungCancer', '/private/home/aedavids/extraCellularRNA/intraExtraRNA_POC/jupyterNotebooks/elife/lungCancer', '/private/home/aedavids/extraCellularRNA/src', '/private/home/aedavids/miniconda3/envs/extraCellularRNA/lib/python311.zip', '/private/home/aedavids/miniconda3/envs/extraCellularRNA/lib/python3.11', '/private/home/aedavids/miniconda3/envs/extraCellularRNA/lib/python3.11/lib-dynload', '', '/private/home/aedavids/miniconda3/envs/extraCellularRNA/lib/python3.11/site-packages', '/private/home/aedavids/miniconda3/envs/extraCellularRNA/lib/python3.11/site-packages/setuptools-57.4.0-py3.9.egg', '/private/home/aedavids/miniconda3/envs/extraCellularRNA/lib/python3.11/site-packages/pip-21.1.3-py3.9.egg', '/private/home/aedavids/extraCellularRNA/intraExtraRNA_POC/jupyterNotebooks/elife/lungCancer/../../../../deconvolutionAnalysis/python', '/private/home/aedavids/extraCellularRNA/intraExtraRNA_POC/jupyterNotebooks/elife/lungCancer/../../../python/src']\n",
      "\n"
     ]
    }
   ],
   "source": [
    "# setting the python path allows us to run python scripts from using\n",
    "# the CLI. \n",
    "ORIG_PYTHONPATH = os.environ['PYTHONPATH']\n",
    "\n",
    "deconvolutionModules = notebookPath.parent.joinpath(\"../../../../deconvolutionAnalysis/python/\")\n",
    "print(\"deconvolutionModules: {}\\n\".format(deconvolutionModules))\n",
    "\n",
    "PYTHONPATH = ORIG_PYTHONPATH + f':{deconvolutionModules}'\n",
    "print(\"PYTHONPATH: {}\\n\".format(PYTHONPATH))\n",
    "\n",
    "intraExtraRNA_POCModules=notebookPath.parent.joinpath(\"../../../python/src\")\n",
    "print(\"intraExtraRNA_POCModules: {}\\n\".format(intraExtraRNA_POCModules))\n",
    "\n",
    "PYTHONPATH = PYTHONPATH + f':{intraExtraRNA_POCModules}'\n",
    "print(\"PYTHONPATH: {}\\n\".format(PYTHONPATH))\n",
    "\n",
    "os.environ[\"PYTHONPATH\"] = PYTHONPATH\n",
    "PYTHONPATH = os.environ[\"PYTHONPATH\"]\n",
    "print(\"PYTHONPATH: {}\\n\".format(PYTHONPATH))\n",
    "\n",
    "# to be able to import our local python files we need to set the sys.path\n",
    "# https://stackoverflow.com/a/50155834\n",
    "sys.path.append( str(deconvolutionModules) )\n",
    "sys.path.append( str(intraExtraRNA_POCModules) )\n",
    "print(\"\\nsys.path:\\n{}\\n\".format(sys.path))"
   ]
  },
  {
   "cell_type": "code",
   "execution_count": 3,
   "id": "a65c367f-4144-4237-9a8d-12c8bac6299d",
   "metadata": {},
   "outputs": [],
   "source": [
    "from sklearn.metrics import confusion_matrix\n",
    "from sklearn.preprocessing import LabelEncoder, StandardScaler\n",
    "from sklearn.linear_model import LogisticRegression\n",
    "\n",
    "from analysis.signatureMatrixMetrics import checkForSparcity\n",
    "from analysis.utilities import loadDictionary\n",
    "from confusion_matrix.cf_matrix import make_confusion_matrix\n",
    "from intraExtraRNA.deseqUtilities import normalize\n",
    "from intraExtraRNA.utilities import load, selectSamples"
   ]
  },
  {
   "cell_type": "markdown",
   "id": "20067fbb-8d1a-41a6-b066-2d212883cb36",
   "metadata": {},
   "source": [
    "## Load data"
   ]
  },
  {
   "cell_type": "code",
   "execution_count": 4,
   "id": "432ce244-7752-4086-a26f-70b14894fed9",
   "metadata": {},
   "outputs": [
    {
     "name": "stdout",
     "output_type": "stream",
     "text": [
      "localTargetPath:\n",
      "/scratch/aedavids/tmp/private/groups/kimlab/aedavids/deconvolution/1vsAll-~gender_category/best10CuratedDegree1_ce467ff/training/best10CuratedDegree1.sh.out/upsetPlot.out/best10_from_best500FindAllDegree1_wl500.intersection.dict\n",
      "\n",
      "LUAD genes:\n",
      "['AC011944.1', 'ATP13A4-AS1', 'AC090004.1', 'GXYLT1P3', 'AC126323.6', 'AC111149.2', 'AL365181.4', '(TCCAC)n', 'BPIFA2', 'IGHJ5']\n",
      "\n",
      "LUSC genes:\n",
      "['FMO6P', 'AC121493.1', 'AP001120.2', 'LINC01249', 'AP000344.1', '(TCTATG)n', 'AC092140.2', 'AP001360.1', 'ENPP7P11', 'AC018521.2']\n",
      "\n",
      " healthy control Lung genes:\n",
      "['FPR3', 'CSF3', 'SLAMF8', 'ENTPD2', 'MAGEE1', 'PCAT19', 'GRIP2', 'PTGIR', 'RND1', 'CHRNB1']\n"
     ]
    }
   ],
   "source": [
    "# select lung cancer signature, (biomarker), genes\n",
    "deconvolutionRoot = \"/private/groups/kimlab/aedavids/deconvolution/1vsAll-~gender_category\"\n",
    "pipelineStageName = \"best10CuratedDegree1_ce467ff\"\n",
    "upsetPlotDir = f'{deconvolutionRoot}/{pipelineStageName}/training/best10CuratedDegree1.sh.out/upsetPlot.out'\n",
    "# the deconvolution gene signature matrix gene name are the values in the intersection dictionary\n",
    "intersectionDictPath = f'{upsetPlotDir}/best10_from_best500FindAllDegree1_wl500.intersection.dict'\n",
    "intersectionDictPath = load(intersectionDictPath, localCacheDir=LOCAL_CACHE_DIR, verbose=True)\n",
    "\n",
    "#print(intersectionDictPath)\n",
    "intersectionDict = loadDictionary(intersectionDictPath)\n",
    "\n",
    "LUADGenes = intersectionDict[ ('LUAD',) ]\n",
    "print(f'LUAD genes:\\n{LUADGenes}')\n",
    "\n",
    "LUSCGenes = intersectionDict[ ('LUSC',) ]\n",
    "print(f'\\nLUSC genes:\\n{LUSCGenes}')\n",
    "\n",
    "# Lung is our healthy control\n",
    "controlGenes = intersectionDict[ ('Lung',) ]\n",
    "print(f'\\n healthy control Lung genes:\\n{controlGenes}')\n",
    "\n",
    "lungGenes = LUADGenes + LUSCGenes + controlGenes"
   ]
  },
  {
   "cell_type": "code",
   "execution_count": 5,
   "id": "c48df723-26b0-4bbd-85fa-a86e24b22615",
   "metadata": {},
   "outputs": [
    {
     "name": "stdout",
     "output_type": "stream",
     "text": [
      "localTargetPath:\n",
      "/scratch/aedavids/tmp/private/groups/kimlab/GTEx_TCGA/groupbyGeneTrainingSets/GTEx_TCGA_TrainGroupby.csv\n",
      "\n",
      "localTargetPath:/scratch/aedavids/tmp/private/groups/kimlab/GTEx_TCGA/groupbyGeneTrainingSets/GTEx_TCGA_TrainGroupby.csv does not exits\n",
      "copy /private/groups/kimlab/GTEx_TCGA/groupbyGeneTrainingSets/GTEx_TCGA_TrainGroupby.csv to local cache\n",
      "CPU times: user 6min 57s, sys: 34.1 s, total: 7min 32s\n",
      "Wall time: 7min 36s\n"
     ]
    }
   ],
   "source": [
    "%%time\n",
    "# load gene count data\n",
    "rootDir = \"/private/groups/kimlab/GTEx_TCGA\"\n",
    "sampleDataRoot = rootDir + \"/groupbyGeneTrainingSets\"\n",
    "trainGroupByGeneCountFilePath = sampleDataRoot + \"/GTEx_TCGA_TrainGroupby.csv\"    \n",
    "groupByGeneCountFilePath = load(trainGroupByGeneCountFilePath, localCacheDir=LOCAL_CACHE_DIR, verbose=True)\n",
    "groupedByGeneDF = pd.read_csv(groupByGeneCountFilePath, sep=\",\", index_col=\"geneId\")"
   ]
  },
  {
   "cell_type": "code",
   "execution_count": 6,
   "id": "f99da7e6-d469-4970-bd47-45f245493118",
   "metadata": {},
   "outputs": [
    {
     "name": "stdout",
     "output_type": "stream",
     "text": [
      "groupedByGeneDF.shape : (74777, 15801)\n"
     ]
    },
    {
     "data": {
      "text/html": [
       "<div>\n",
       "<style scoped>\n",
       "    .dataframe tbody tr th:only-of-type {\n",
       "        vertical-align: middle;\n",
       "    }\n",
       "\n",
       "    .dataframe tbody tr th {\n",
       "        vertical-align: top;\n",
       "    }\n",
       "\n",
       "    .dataframe thead th {\n",
       "        text-align: right;\n",
       "    }\n",
       "</style>\n",
       "<table border=\"1\" class=\"dataframe\">\n",
       "  <thead>\n",
       "    <tr style=\"text-align: right;\">\n",
       "      <th></th>\n",
       "      <th>GTEX-1117F-0226-SM-5GZZ7</th>\n",
       "      <th>GTEX-1117F-0526-SM-5EGHJ</th>\n",
       "      <th>GTEX-1117F-0726-SM-5GIEN</th>\n",
       "    </tr>\n",
       "    <tr>\n",
       "      <th>geneId</th>\n",
       "      <th></th>\n",
       "      <th></th>\n",
       "      <th></th>\n",
       "    </tr>\n",
       "  </thead>\n",
       "  <tbody>\n",
       "    <tr>\n",
       "      <th>(A)n</th>\n",
       "      <td>9</td>\n",
       "      <td>1</td>\n",
       "      <td>3</td>\n",
       "    </tr>\n",
       "    <tr>\n",
       "      <th>(AAA)n</th>\n",
       "      <td>0</td>\n",
       "      <td>0</td>\n",
       "      <td>0</td>\n",
       "    </tr>\n",
       "    <tr>\n",
       "      <th>(AAAAAAC)n</th>\n",
       "      <td>0</td>\n",
       "      <td>0</td>\n",
       "      <td>0</td>\n",
       "    </tr>\n",
       "  </tbody>\n",
       "</table>\n",
       "</div>"
      ],
      "text/plain": [
       "            GTEX-1117F-0226-SM-5GZZ7  GTEX-1117F-0526-SM-5EGHJ  \\\n",
       "geneId                                                           \n",
       "(A)n                               9                         1   \n",
       "(AAA)n                             0                         0   \n",
       "(AAAAAAC)n                         0                         0   \n",
       "\n",
       "            GTEX-1117F-0726-SM-5GIEN  \n",
       "geneId                                \n",
       "(A)n                               3  \n",
       "(AAA)n                             0  \n",
       "(AAAAAAC)n                         0  "
      ]
     },
     "execution_count": 6,
     "metadata": {},
     "output_type": "execute_result"
    }
   ],
   "source": [
    "print(f'groupedByGeneDF.shape : {groupedByGeneDF.shape}')\n",
    "groupedByGeneDF.iloc[0:3, 0:3]"
   ]
  },
  {
   "cell_type": "code",
   "execution_count": 7,
   "id": "e58353f2-6855-48f6-8afe-3fc8513531c3",
   "metadata": {},
   "outputs": [
    {
     "name": "stdout",
     "output_type": "stream",
     "text": [
      "localTargetPath:\n",
      "/scratch/aedavids/tmp/private/groups/kimlab/GTEx_TCGA/groupbyGeneTrainingSets/GTEx_TCGA_TrainColData.csv\n",
      "\n",
      "localTargetPath:/scratch/aedavids/tmp/private/groups/kimlab/GTEx_TCGA/groupbyGeneTrainingSets/GTEx_TCGA_TrainColData.csv does not exits\n",
      "copy /private/groups/kimlab/GTEx_TCGA/groupbyGeneTrainingSets/GTEx_TCGA_TrainColData.csv to local cache\n",
      "colDataDF.shape : (15801, 6)\n",
      "CPU times: user 35 ms, sys: 19.2 ms, total: 54.2 ms\n",
      "Wall time: 54.7 ms\n"
     ]
    },
    {
     "data": {
      "text/html": [
       "<div>\n",
       "<style scoped>\n",
       "    .dataframe tbody tr th:only-of-type {\n",
       "        vertical-align: middle;\n",
       "    }\n",
       "\n",
       "    .dataframe tbody tr th {\n",
       "        vertical-align: top;\n",
       "    }\n",
       "\n",
       "    .dataframe thead th {\n",
       "        text-align: right;\n",
       "    }\n",
       "</style>\n",
       "<table border=\"1\" class=\"dataframe\">\n",
       "  <thead>\n",
       "    <tr style=\"text-align: right;\">\n",
       "      <th></th>\n",
       "      <th>sample_id</th>\n",
       "      <th>participant_id</th>\n",
       "      <th>category</th>\n",
       "      <th>gender</th>\n",
       "      <th>age</th>\n",
       "      <th>dataSet</th>\n",
       "    </tr>\n",
       "  </thead>\n",
       "  <tbody>\n",
       "    <tr>\n",
       "      <th>0</th>\n",
       "      <td>GTEX-1117F-0226-SM-5GZZ7</td>\n",
       "      <td>GTEX-1117F</td>\n",
       "      <td>Adipose_Subcutaneous</td>\n",
       "      <td>Female</td>\n",
       "      <td>66.0</td>\n",
       "      <td>GTEx</td>\n",
       "    </tr>\n",
       "    <tr>\n",
       "      <th>1</th>\n",
       "      <td>GTEX-1117F-0526-SM-5EGHJ</td>\n",
       "      <td>GTEX-1117F</td>\n",
       "      <td>Artery_Tibial</td>\n",
       "      <td>Female</td>\n",
       "      <td>66.0</td>\n",
       "      <td>GTEx</td>\n",
       "    </tr>\n",
       "    <tr>\n",
       "      <th>2</th>\n",
       "      <td>GTEX-1117F-0726-SM-5GIEN</td>\n",
       "      <td>GTEX-1117F</td>\n",
       "      <td>Heart_Atrial_Appendage</td>\n",
       "      <td>Female</td>\n",
       "      <td>66.0</td>\n",
       "      <td>GTEx</td>\n",
       "    </tr>\n",
       "  </tbody>\n",
       "</table>\n",
       "</div>"
      ],
      "text/plain": [
       "                  sample_id participant_id                category  gender  \\\n",
       "0  GTEX-1117F-0226-SM-5GZZ7     GTEX-1117F    Adipose_Subcutaneous  Female   \n",
       "1  GTEX-1117F-0526-SM-5EGHJ     GTEX-1117F           Artery_Tibial  Female   \n",
       "2  GTEX-1117F-0726-SM-5GIEN     GTEX-1117F  Heart_Atrial_Appendage  Female   \n",
       "\n",
       "    age dataSet  \n",
       "0  66.0    GTEx  \n",
       "1  66.0    GTEx  \n",
       "2  66.0    GTEx  "
      ]
     },
     "execution_count": 7,
     "metadata": {},
     "output_type": "execute_result"
    }
   ],
   "source": [
    "%%time\n",
    "# load meta data\n",
    "trainingColDataFilePath = sampleDataRoot + \"/GTEx_TCGA_TrainColData.csv\"\n",
    "colDataFilePath = load(trainingColDataFilePath, localCacheDir=LOCAL_CACHE_DIR, verbose=True)\n",
    "colDataDF = pd.read_csv(colDataFilePath, sep=\",\")\n",
    "print(f'colDataDF.shape : {colDataDF.shape}')\n",
    "colDataDF.iloc[0:3, :]"
   ]
  },
  {
   "cell_type": "code",
   "execution_count": 8,
   "id": "dd6fcd7c-7edc-4cc8-9fbb-f6e8305bcef8",
   "metadata": {},
   "outputs": [
    {
     "name": "stdout",
     "output_type": "stream",
     "text": [
      "localTargetPath:\n",
      "/scratch/aedavids/tmp/private/groups/kimlab/GTEx_TCGA/1vsAll/estimatedSizeFactors.csv\n",
      "\n",
      "localTargetPath:/scratch/aedavids/tmp/private/groups/kimlab/GTEx_TCGA/1vsAll/estimatedSizeFactors.csv does not exits\n",
      "copy /private/groups/kimlab/GTEx_TCGA/1vsAll/estimatedSizeFactors.csv to local cache\n",
      "CPU times: user 4.5 ms, sys: 11.7 ms, total: 16.2 ms\n",
      "Wall time: 16.6 ms\n"
     ]
    }
   ],
   "source": [
    "%%time\n",
    "# load scaling factors\n",
    "oneVsAllDataDir = rootDir + \"/1vsAll\"    \n",
    "estimatedScalingFactorsFilePath = oneVsAllDataDir + \"/estimatedSizeFactors.csv\"\n",
    "scalingFactorsPath = load(estimatedScalingFactorsFilePath, localCacheDir=LOCAL_CACHE_DIR, verbose=True)\n",
    "scalingFactorDF = pd.read_csv(scalingFactorsPath, sep=\",\")"
   ]
  },
  {
   "cell_type": "markdown",
   "id": "00980b1d-be6b-40da-aef2-fd2bfe69f922",
   "metadata": {},
   "source": [
    "## Prepare Data"
   ]
  },
  {
   "cell_type": "code",
   "execution_count": 9,
   "id": "96b2e3a8-54e0-4d1d-9821-56a84dfc58f1",
   "metadata": {},
   "outputs": [
    {
     "name": "stdout",
     "output_type": "stream",
     "text": [
      "(15801, 74777)\n"
     ]
    }
   ],
   "source": [
    "normalizedDF = normalize(groupedByGeneDF, scalingFactorDF)\n",
    "print(normalizedDF.shape)"
   ]
  },
  {
   "cell_type": "code",
   "execution_count": 10,
   "id": "c678ace9-c4c6-4f05-aa5f-24d6413fc2b9",
   "metadata": {},
   "outputs": [
    {
     "name": "stdout",
     "output_type": "stream",
     "text": [
      "normLungDF.shape : (957, 74777)\n"
     ]
    },
    {
     "data": {
      "text/html": [
       "<div>\n",
       "<style scoped>\n",
       "    .dataframe tbody tr th:only-of-type {\n",
       "        vertical-align: middle;\n",
       "    }\n",
       "\n",
       "    .dataframe tbody tr th {\n",
       "        vertical-align: top;\n",
       "    }\n",
       "\n",
       "    .dataframe thead th {\n",
       "        text-align: right;\n",
       "    }\n",
       "</style>\n",
       "<table border=\"1\" class=\"dataframe\">\n",
       "  <thead>\n",
       "    <tr style=\"text-align: right;\">\n",
       "      <th>geneId</th>\n",
       "      <th>(A)n</th>\n",
       "      <th>(AAA)n</th>\n",
       "      <th>(AAAAAAC)n</th>\n",
       "    </tr>\n",
       "  </thead>\n",
       "  <tbody>\n",
       "    <tr>\n",
       "      <th>GTEX-111CU-0326-SM-5GZXO</th>\n",
       "      <td>1.996123</td>\n",
       "      <td>0.0</td>\n",
       "      <td>0.0</td>\n",
       "    </tr>\n",
       "    <tr>\n",
       "      <th>GTEX-111VG-0726-SM-5GIDC</th>\n",
       "      <td>12.348089</td>\n",
       "      <td>0.0</td>\n",
       "      <td>0.0</td>\n",
       "    </tr>\n",
       "    <tr>\n",
       "      <th>GTEX-1122O-0126-SM-5GICA</th>\n",
       "      <td>7.747472</td>\n",
       "      <td>0.0</td>\n",
       "      <td>0.0</td>\n",
       "    </tr>\n",
       "  </tbody>\n",
       "</table>\n",
       "</div>"
      ],
      "text/plain": [
       "geneId                         (A)n  (AAA)n  (AAAAAAC)n\n",
       "GTEX-111CU-0326-SM-5GZXO   1.996123     0.0         0.0\n",
       "GTEX-111VG-0726-SM-5GIDC  12.348089     0.0         0.0\n",
       "GTEX-1122O-0126-SM-5GICA   7.747472     0.0         0.0"
      ]
     },
     "execution_count": 10,
     "metadata": {},
     "output_type": "execute_result"
    }
   ],
   "source": [
    "normLungDF = selectSamples(colDataDF, normalizedDF, ['LUAD', 'LUSC', 'Lung'])\n",
    "print(f'normLungDF.shape : {normLungDF.shape}')\n",
    "normLungDF.iloc[0:3, 0:3]"
   ]
  },
  {
   "cell_type": "code",
   "execution_count": 11,
   "id": "e6767e35-8c59-43dc-8faa-77f335b45b19",
   "metadata": {},
   "outputs": [
    {
     "name": "stdout",
     "output_type": "stream",
     "text": [
      "normLungDF.shape (957, 30)\n"
     ]
    },
    {
     "data": {
      "text/html": [
       "<div>\n",
       "<style scoped>\n",
       "    .dataframe tbody tr th:only-of-type {\n",
       "        vertical-align: middle;\n",
       "    }\n",
       "\n",
       "    .dataframe tbody tr th {\n",
       "        vertical-align: top;\n",
       "    }\n",
       "\n",
       "    .dataframe thead th {\n",
       "        text-align: right;\n",
       "    }\n",
       "</style>\n",
       "<table border=\"1\" class=\"dataframe\">\n",
       "  <thead>\n",
       "    <tr style=\"text-align: right;\">\n",
       "      <th>geneId</th>\n",
       "      <th>AC011944.1</th>\n",
       "      <th>ATP13A4-AS1</th>\n",
       "      <th>AC090004.1</th>\n",
       "    </tr>\n",
       "  </thead>\n",
       "  <tbody>\n",
       "    <tr>\n",
       "      <th>GTEX-111CU-0326-SM-5GZXO</th>\n",
       "      <td>22.955418</td>\n",
       "      <td>677.683873</td>\n",
       "      <td>3.992247</td>\n",
       "    </tr>\n",
       "    <tr>\n",
       "      <th>GTEX-111VG-0726-SM-5GIDC</th>\n",
       "      <td>2.058015</td>\n",
       "      <td>11.319081</td>\n",
       "      <td>2.058015</td>\n",
       "    </tr>\n",
       "    <tr>\n",
       "      <th>GTEX-1122O-0126-SM-5GICA</th>\n",
       "      <td>15.494945</td>\n",
       "      <td>4.842170</td>\n",
       "      <td>0.000000</td>\n",
       "    </tr>\n",
       "  </tbody>\n",
       "</table>\n",
       "</div>"
      ],
      "text/plain": [
       "geneId                    AC011944.1  ATP13A4-AS1  AC090004.1\n",
       "GTEX-111CU-0326-SM-5GZXO   22.955418   677.683873    3.992247\n",
       "GTEX-111VG-0726-SM-5GIDC    2.058015    11.319081    2.058015\n",
       "GTEX-1122O-0126-SM-5GICA   15.494945     4.842170    0.000000"
      ]
     },
     "execution_count": 11,
     "metadata": {},
     "output_type": "execute_result"
    }
   ],
   "source": [
    "normLungDF = normLungDF[ lungGenes ]\n",
    "print(f'normLungDF.shape {normLungDF.shape}')\n",
    "normLungDF.iloc[0:3, 0:3]"
   ]
  },
  {
   "cell_type": "code",
   "execution_count": 12,
   "id": "0d4e60da-0341-47b8-9bce-d895fef77af9",
   "metadata": {},
   "outputs": [
    {
     "data": {
      "text/html": [
       "<div>\n",
       "<style scoped>\n",
       "    .dataframe tbody tr th:only-of-type {\n",
       "        vertical-align: middle;\n",
       "    }\n",
       "\n",
       "    .dataframe tbody tr th {\n",
       "        vertical-align: top;\n",
       "    }\n",
       "\n",
       "    .dataframe thead th {\n",
       "        text-align: right;\n",
       "    }\n",
       "</style>\n",
       "<table border=\"1\" class=\"dataframe\">\n",
       "  <thead>\n",
       "    <tr style=\"text-align: right;\">\n",
       "      <th></th>\n",
       "      <th>sample_id</th>\n",
       "      <th>participant_id</th>\n",
       "      <th>gender</th>\n",
       "      <th>age</th>\n",
       "      <th>dataSet</th>\n",
       "    </tr>\n",
       "    <tr>\n",
       "      <th>category</th>\n",
       "      <th></th>\n",
       "      <th></th>\n",
       "      <th></th>\n",
       "      <th></th>\n",
       "      <th></th>\n",
       "    </tr>\n",
       "  </thead>\n",
       "  <tbody>\n",
       "    <tr>\n",
       "      <th>LUAD</th>\n",
       "      <td>309</td>\n",
       "      <td>309</td>\n",
       "      <td>309</td>\n",
       "      <td>309</td>\n",
       "      <td>309</td>\n",
       "    </tr>\n",
       "    <tr>\n",
       "      <th>LUSC</th>\n",
       "      <td>301</td>\n",
       "      <td>301</td>\n",
       "      <td>301</td>\n",
       "      <td>301</td>\n",
       "      <td>301</td>\n",
       "    </tr>\n",
       "    <tr>\n",
       "      <th>Lung</th>\n",
       "      <td>347</td>\n",
       "      <td>347</td>\n",
       "      <td>347</td>\n",
       "      <td>347</td>\n",
       "      <td>347</td>\n",
       "    </tr>\n",
       "  </tbody>\n",
       "</table>\n",
       "</div>"
      ],
      "text/plain": [
       "          sample_id  participant_id  gender  age  dataSet\n",
       "category                                                 \n",
       "LUAD            309             309     309  309      309\n",
       "LUSC            301             301     301  301      301\n",
       "Lung            347             347     347  347      347"
      ]
     },
     "metadata": {},
     "output_type": "display_data"
    }
   ],
   "source": [
    "# santity check\n",
    "selectRows = colDataDF.loc[:, \"category\"].isin(['LUAD', 'LUSC', 'Lung'])\n",
    "lungColDataDF = colDataDF.loc[selectRows, :]\n",
    "display( lungColDataDF.groupby(by=\"category\").count() )\n",
    "assert 957 == 309 + 301 + 347 , \"ERROR number of samples does not agree\""
   ]
  },
  {
   "cell_type": "code",
   "execution_count": 13,
   "id": "b4d1aba1-d883-45e5-ac84-f1d89b2c1402",
   "metadata": {},
   "outputs": [
    {
     "data": {
      "text/html": [
       "<div>\n",
       "<style scoped>\n",
       "    .dataframe tbody tr th:only-of-type {\n",
       "        vertical-align: middle;\n",
       "    }\n",
       "\n",
       "    .dataframe tbody tr th {\n",
       "        vertical-align: top;\n",
       "    }\n",
       "\n",
       "    .dataframe thead th {\n",
       "        text-align: right;\n",
       "    }\n",
       "</style>\n",
       "<table border=\"1\" class=\"dataframe\">\n",
       "  <thead>\n",
       "    <tr style=\"text-align: right;\">\n",
       "      <th></th>\n",
       "      <th>oneHot</th>\n",
       "    </tr>\n",
       "    <tr>\n",
       "      <th>cat</th>\n",
       "      <th></th>\n",
       "    </tr>\n",
       "  </thead>\n",
       "  <tbody>\n",
       "    <tr>\n",
       "      <th>Lung</th>\n",
       "      <td>347</td>\n",
       "    </tr>\n",
       "    <tr>\n",
       "      <th>LungCancer</th>\n",
       "      <td>610</td>\n",
       "    </tr>\n",
       "  </tbody>\n",
       "</table>\n",
       "</div>"
      ],
      "text/plain": [
       "            oneHot\n",
       "cat               \n",
       "Lung           347\n",
       "LungCancer     610"
      ]
     },
     "metadata": {},
     "output_type": "display_data"
    },
    {
     "data": {
      "text/html": [
       "<div>\n",
       "<style scoped>\n",
       "    .dataframe tbody tr th:only-of-type {\n",
       "        vertical-align: middle;\n",
       "    }\n",
       "\n",
       "    .dataframe tbody tr th {\n",
       "        vertical-align: top;\n",
       "    }\n",
       "\n",
       "    .dataframe thead th {\n",
       "        text-align: right;\n",
       "    }\n",
       "</style>\n",
       "<table border=\"1\" class=\"dataframe\">\n",
       "  <thead>\n",
       "    <tr style=\"text-align: right;\">\n",
       "      <th></th>\n",
       "      <th>cat</th>\n",
       "      <th>oneHot</th>\n",
       "    </tr>\n",
       "  </thead>\n",
       "  <tbody>\n",
       "    <tr>\n",
       "      <th>0</th>\n",
       "      <td>Lung</td>\n",
       "      <td>0</td>\n",
       "    </tr>\n",
       "    <tr>\n",
       "      <th>1</th>\n",
       "      <td>Lung</td>\n",
       "      <td>0</td>\n",
       "    </tr>\n",
       "    <tr>\n",
       "      <th>2</th>\n",
       "      <td>Lung</td>\n",
       "      <td>0</td>\n",
       "    </tr>\n",
       "    <tr>\n",
       "      <th>3</th>\n",
       "      <td>Lung</td>\n",
       "      <td>0</td>\n",
       "    </tr>\n",
       "    <tr>\n",
       "      <th>4</th>\n",
       "      <td>Lung</td>\n",
       "      <td>0</td>\n",
       "    </tr>\n",
       "  </tbody>\n",
       "</table>\n",
       "</div>"
      ],
      "text/plain": [
       "    cat  oneHot\n",
       "0  Lung       0\n",
       "1  Lung       0\n",
       "2  Lung       0\n",
       "3  Lung       0\n",
       "4  Lung       0"
      ]
     },
     "metadata": {},
     "output_type": "display_data"
    },
    {
     "name": "stdout",
     "output_type": "stream",
     "text": [
      "\n"
     ]
    },
    {
     "data": {
      "text/html": [
       "<div>\n",
       "<style scoped>\n",
       "    .dataframe tbody tr th:only-of-type {\n",
       "        vertical-align: middle;\n",
       "    }\n",
       "\n",
       "    .dataframe tbody tr th {\n",
       "        vertical-align: top;\n",
       "    }\n",
       "\n",
       "    .dataframe thead th {\n",
       "        text-align: right;\n",
       "    }\n",
       "</style>\n",
       "<table border=\"1\" class=\"dataframe\">\n",
       "  <thead>\n",
       "    <tr style=\"text-align: right;\">\n",
       "      <th></th>\n",
       "      <th>cat</th>\n",
       "      <th>oneHot</th>\n",
       "    </tr>\n",
       "  </thead>\n",
       "  <tbody>\n",
       "    <tr>\n",
       "      <th>952</th>\n",
       "      <td>LungCancer</td>\n",
       "      <td>1</td>\n",
       "    </tr>\n",
       "    <tr>\n",
       "      <th>953</th>\n",
       "      <td>LungCancer</td>\n",
       "      <td>1</td>\n",
       "    </tr>\n",
       "    <tr>\n",
       "      <th>954</th>\n",
       "      <td>LungCancer</td>\n",
       "      <td>1</td>\n",
       "    </tr>\n",
       "    <tr>\n",
       "      <th>955</th>\n",
       "      <td>LungCancer</td>\n",
       "      <td>1</td>\n",
       "    </tr>\n",
       "    <tr>\n",
       "      <th>956</th>\n",
       "      <td>LungCancer</td>\n",
       "      <td>1</td>\n",
       "    </tr>\n",
       "  </tbody>\n",
       "</table>\n",
       "</div>"
      ],
      "text/plain": [
       "            cat  oneHot\n",
       "952  LungCancer       1\n",
       "953  LungCancer       1\n",
       "954  LungCancer       1\n",
       "955  LungCancer       1\n",
       "956  LungCancer       1"
      ]
     },
     "execution_count": 13,
     "metadata": {},
     "output_type": "execute_result"
    }
   ],
   "source": [
    "# create labels\n",
    "\n",
    "# lump LUAD and LUSC\n",
    "selectLUAD_LUSC_rows = lungColDataDF.loc[:, 'category'].isin( ['LUAD', 'LUSC'])\n",
    "lungColDataDF.loc[selectLUAD_LUSC_rows, 'category'] = \"LungCancer\"\n",
    "\n",
    "# selectSamples = colDataDF.loc[:, \"sample_id\"].isin(lungDF.index)\n",
    "# conditionList = colDataDF.loc[selectSamples, 'category'].tolist()\n",
    "conditionList = lungColDataDF.loc[:, 'category'].tolist()\n",
    "\n",
    "labelEncoder = LabelEncoder()\n",
    "y = labelEncoder.fit_transform(conditionList)\n",
    "\n",
    "# quick visual check\n",
    "tmpDF = pd.DataFrame( {\n",
    "    'cat':conditionList,\n",
    "    'oneHot': y } )\n",
    "\n",
    "display(tmpDF.groupby(by=\"cat\").count())\n",
    "display(tmpDF.head())\n",
    "print()\n",
    "tmpDF.tail()"
   ]
  },
  {
   "cell_type": "code",
   "execution_count": 14,
   "id": "f5b50427-c6c3-4d0b-a404-f10967632a7f",
   "metadata": {},
   "outputs": [
    {
     "name": "stdout",
     "output_type": "stream",
     "text": [
      "(957, 30)\n"
     ]
    }
   ],
   "source": [
    "# XNP = groupedByGeneDF.values #.transpose()\n",
    "XNP = normLungDF.values\n",
    "print(XNP.shape)"
   ]
  },
  {
   "cell_type": "markdown",
   "id": "bc5c3e38-bd87-4897-8854-fe5cc01fbfe7",
   "metadata": {},
   "source": [
    "# Check for sparcity"
   ]
  },
  {
   "cell_type": "code",
   "execution_count": 16,
   "id": "3d2edb52-45e6-4fcd-968d-213c246ba472",
   "metadata": {},
   "outputs": [
    {
     "name": "stdout",
     "output_type": "stream",
     "text": [
      "sparcity % values ! = 0 : 72.4521072796935%\n",
      "\n",
      "rowSumSummaryDF\n",
      "\n"
     ]
    },
    {
     "data": {
      "text/html": [
       "<div>\n",
       "<style scoped>\n",
       "    .dataframe tbody tr th:only-of-type {\n",
       "        vertical-align: middle;\n",
       "    }\n",
       "\n",
       "    .dataframe tbody tr th {\n",
       "        vertical-align: top;\n",
       "    }\n",
       "\n",
       "    .dataframe thead th {\n",
       "        text-align: right;\n",
       "    }\n",
       "</style>\n",
       "<table border=\"1\" class=\"dataframe\">\n",
       "  <thead>\n",
       "    <tr style=\"text-align: right;\">\n",
       "      <th></th>\n",
       "      <th>mean</th>\n",
       "      <th>std</th>\n",
       "      <th>median</th>\n",
       "    </tr>\n",
       "    <tr>\n",
       "      <th>category</th>\n",
       "      <th></th>\n",
       "      <th></th>\n",
       "      <th></th>\n",
       "    </tr>\n",
       "  </thead>\n",
       "  <tbody>\n",
       "    <tr>\n",
       "      <th>Lung</th>\n",
       "      <td>21.651297</td>\n",
       "      <td>1.914960</td>\n",
       "      <td>22.0</td>\n",
       "    </tr>\n",
       "    <tr>\n",
       "      <th>LungCancer</th>\n",
       "      <td>21.783607</td>\n",
       "      <td>2.284177</td>\n",
       "      <td>22.0</td>\n",
       "    </tr>\n",
       "  </tbody>\n",
       "</table>\n",
       "</div>"
      ],
      "text/plain": [
       "                 mean       std  median\n",
       "category                               \n",
       "Lung        21.651297  1.914960    22.0\n",
       "LungCancer  21.783607  2.284177    22.0"
      ]
     },
     "metadata": {},
     "output_type": "display_data"
    },
    {
     "name": "stdout",
     "output_type": "stream",
     "text": [
      "\n",
      "geneCountSeries: number of non zero values for each gene\n",
      "\n"
     ]
    },
    {
     "data": {
      "text/plain": [
       "geneId\n",
       "AC011944.1     901\n",
       "ATP13A4-AS1    829\n",
       "AC090004.1     450\n",
       "GXYLT1P3       433\n",
       "AC126323.6     467\n",
       "AC111149.2     730\n",
       "AL365181.4     523\n",
       "(TCCAC)n       388\n",
       "BPIFA2         714\n",
       "IGHJ5          590\n",
       "FMO6P          852\n",
       "AC121493.1     729\n",
       "AP001120.2     212\n",
       "LINC01249      302\n",
       "AP000344.1     557\n",
       "(TCTATG)n      588\n",
       "AC092140.2     692\n",
       "AP001360.1     306\n",
       "ENPP7P11       715\n",
       "AC018521.2     273\n",
       "FPR3           957\n",
       "CSF3           938\n",
       "SLAMF8         957\n",
       "ENTPD2         957\n",
       "MAGEE1         957\n",
       "PCAT19         957\n",
       "GRIP2          956\n",
       "PTGIR          957\n",
       "RND1           957\n",
       "CHRNB1         957\n",
       "dtype: int64"
      ]
     },
     "metadata": {},
     "output_type": "display_data"
    },
    {
     "name": "stdout",
     "output_type": "stream",
     "text": [
      "\n",
      "rowSumDF: number of non zero values for each sample \n",
      "\n"
     ]
    },
    {
     "data": {
      "text/html": [
       "<div>\n",
       "<style scoped>\n",
       "    .dataframe tbody tr th:only-of-type {\n",
       "        vertical-align: middle;\n",
       "    }\n",
       "\n",
       "    .dataframe tbody tr th {\n",
       "        vertical-align: top;\n",
       "    }\n",
       "\n",
       "    .dataframe thead th {\n",
       "        text-align: right;\n",
       "    }\n",
       "</style>\n",
       "<table border=\"1\" class=\"dataframe\">\n",
       "  <thead>\n",
       "    <tr style=\"text-align: right;\">\n",
       "      <th></th>\n",
       "      <th>sample_id</th>\n",
       "      <th>category</th>\n",
       "      <th>rowSum</th>\n",
       "    </tr>\n",
       "  </thead>\n",
       "  <tbody>\n",
       "    <tr>\n",
       "      <th>5</th>\n",
       "      <td>GTEX-111CU-0326-SM-5GZXO</td>\n",
       "      <td>Lung</td>\n",
       "      <td>22</td>\n",
       "    </tr>\n",
       "    <tr>\n",
       "      <th>29</th>\n",
       "      <td>GTEX-111VG-0726-SM-5GIDC</td>\n",
       "      <td>Lung</td>\n",
       "      <td>22</td>\n",
       "    </tr>\n",
       "    <tr>\n",
       "      <th>50</th>\n",
       "      <td>GTEX-1122O-0126-SM-5GICA</td>\n",
       "      <td>Lung</td>\n",
       "      <td>21</td>\n",
       "    </tr>\n",
       "    <tr>\n",
       "      <th>67</th>\n",
       "      <td>GTEX-1128S-0726-SM-5N9D6</td>\n",
       "      <td>Lung</td>\n",
       "      <td>23</td>\n",
       "    </tr>\n",
       "    <tr>\n",
       "      <th>101</th>\n",
       "      <td>GTEX-117YW-0526-SM-5H11C</td>\n",
       "      <td>Lung</td>\n",
       "      <td>21</td>\n",
       "    </tr>\n",
       "    <tr>\n",
       "      <th>...</th>\n",
       "      <td>...</td>\n",
       "      <td>...</td>\n",
       "      <td>...</td>\n",
       "    </tr>\n",
       "    <tr>\n",
       "      <th>13915</th>\n",
       "      <td>LUSC-O2-A52Q-TP</td>\n",
       "      <td>LungCancer</td>\n",
       "      <td>18</td>\n",
       "    </tr>\n",
       "    <tr>\n",
       "      <th>13916</th>\n",
       "      <td>LUSC-O2-A52S-TP</td>\n",
       "      <td>LungCancer</td>\n",
       "      <td>24</td>\n",
       "    </tr>\n",
       "    <tr>\n",
       "      <th>13917</th>\n",
       "      <td>LUSC-O2-A52W-TP</td>\n",
       "      <td>LungCancer</td>\n",
       "      <td>22</td>\n",
       "    </tr>\n",
       "    <tr>\n",
       "      <th>13918</th>\n",
       "      <td>LUSC-O2-A5IB-TP</td>\n",
       "      <td>LungCancer</td>\n",
       "      <td>25</td>\n",
       "    </tr>\n",
       "    <tr>\n",
       "      <th>13919</th>\n",
       "      <td>LUSC-XC-AA0X-TP</td>\n",
       "      <td>LungCancer</td>\n",
       "      <td>23</td>\n",
       "    </tr>\n",
       "  </tbody>\n",
       "</table>\n",
       "<p>957 rows × 3 columns</p>\n",
       "</div>"
      ],
      "text/plain": [
       "                      sample_id    category  rowSum\n",
       "5      GTEX-111CU-0326-SM-5GZXO        Lung      22\n",
       "29     GTEX-111VG-0726-SM-5GIDC        Lung      22\n",
       "50     GTEX-1122O-0126-SM-5GICA        Lung      21\n",
       "67     GTEX-1128S-0726-SM-5N9D6        Lung      23\n",
       "101    GTEX-117YW-0526-SM-5H11C        Lung      21\n",
       "...                         ...         ...     ...\n",
       "13915           LUSC-O2-A52Q-TP  LungCancer      18\n",
       "13916           LUSC-O2-A52S-TP  LungCancer      24\n",
       "13917           LUSC-O2-A52W-TP  LungCancer      22\n",
       "13918           LUSC-O2-A5IB-TP  LungCancer      25\n",
       "13919           LUSC-XC-AA0X-TP  LungCancer      23\n",
       "\n",
       "[957 rows x 3 columns]"
      ]
     },
     "metadata": {},
     "output_type": "display_data"
    }
   ],
   "source": [
    "noZeroDF, rowSumDF, rowSumSummaryDF, geneCountSeries, sparcity = checkForSparcity(normLungDF, lungColDataDF)\n",
    "print(f'sparcity % values ! = 0 : {sparcity * 100}%')\n",
    "\n",
    "print(f'\\nrowSumSummaryDF\\n')\n",
    "display( rowSumSummaryDF )\n",
    "\n",
    "print(f'\\ngeneCountSeries: number of non zero values for each gene\\n')\n",
    "display( geneCountSeries )\n",
    "\n",
    "print(f'\\nrowSumDF: number of non zero values for each sample \\n')\n",
    "display(rowSumDF )"
   ]
  },
  {
   "cell_type": "markdown",
   "id": "c33beb76-ddf3-4d69-9238-4c5cacc8cf1a",
   "metadata": {},
   "source": [
    "## Train Logistic Regression model"
   ]
  },
  {
   "cell_type": "code",
   "execution_count": 17,
   "id": "49f414c3-9732-457b-a2c9-863b87ff5190",
   "metadata": {},
   "outputs": [
    {
     "name": "stdout",
     "output_type": "stream",
     "text": [
      "/private/groups/kimlab/aedavids/elife/testIntraCellularLungCancerBiomarkers.out/model/standardScaler.data\n",
      "CPU times: user 317 ms, sys: 631 ms, total: 948 ms\n",
      "Wall time: 69.3 ms\n"
     ]
    }
   ],
   "source": [
    "%%time\n",
    "# # https://scikit-learn.org/stable/modules/generated/sklearn.linear_model.LogisticRegression.html\n",
    "lrModel = LogisticRegression()\n",
    "# #             , penalty='l2' # regularization some penalities do not work with some solvers\n",
    "# # tol=0.0001\n",
    "# # lrModel.fit(XNP, y, C=1.0 \n",
    "# #             ,random_state=42           \n",
    "# #             ,solver='lbfgs' |\n",
    "# #             , max_iterint=100\n",
    "# #           )\n",
    "\n",
    "# save the scaler\n",
    "scaler = StandardScaler().fit(XNP)\n",
    "ScalerFilePath = os.path.join(modelOutDir, \"standardScaler.data\")\n",
    "print(ScalerFilePath)\n",
    "# use joblip to save our model\n",
    "joblib.dump(scaler, ScalerFilePath)\n",
    "\n",
    "XScaled = scaler.transform(XNP)\n",
    "\n",
    "lrModel = lrModel.fit(XScaled, y)"
   ]
  },
  {
   "cell_type": "code",
   "execution_count": 18,
   "id": "588bce20-f050-4965-aba0-78a93b449bff",
   "metadata": {},
   "outputs": [
    {
     "data": {
      "text/plain": [
       "['/private/groups/kimlab/aedavids/elife/testIntraCellularLungCancerBiomarkers.out/model/logisticRegresion.data']"
      ]
     },
     "execution_count": 18,
     "metadata": {},
     "output_type": "execute_result"
    }
   ],
   "source": [
    "# save the model\n",
    "# add an attribute containing the list of feature names\n",
    "lrModel.features = lungGenes\n",
    "modelFilePath =  os.path.join(modelOutDir, \"logisticRegresion.data\")\n",
    "joblib.dump(lrModel, modelFilePath)"
   ]
  },
  {
   "cell_type": "markdown",
   "id": "ee70cd89-a7bb-4c51-b22f-6023b3f7a2e1",
   "metadata": {},
   "source": [
    "## Evaluate Training Data Set and Plot"
   ]
  },
  {
   "cell_type": "code",
   "execution_count": 19,
   "id": "b0253c9c-8b1d-47c2-ad78-8fb0ff8cfb34",
   "metadata": {},
   "outputs": [
    {
     "name": "stdout",
     "output_type": "stream",
     "text": [
      "LogisticRegression() Accuracy : 1.00\n"
     ]
    }
   ],
   "source": [
    "yHat = lrModel.predict(XScaled)\n",
    "print('{} Accuracy : {:.2f}'.format(lrModel, lrModel.score(XScaled, y)))"
   ]
  },
  {
   "cell_type": "code",
   "execution_count": 20,
   "id": "03e1bab3-c072-40b6-a839-68739af82d2b",
   "metadata": {},
   "outputs": [
    {
     "name": "stdout",
     "output_type": "stream",
     "text": [
      "[[345   2]\n",
      " [  0 610]]\n"
     ]
    }
   ],
   "source": [
    "confusionMatrixData = confusion_matrix(y, yHat)\n",
    "print(confusionMatrixData)"
   ]
  },
  {
   "cell_type": "code",
   "execution_count": 21,
   "id": "8aa20d37-e0b5-4fcd-96b3-1af06fc29f47",
   "metadata": {},
   "outputs": [
    {
     "data": {
      "image/png": "[encoded data removed]",
      "text/plain": [
       "<Figure size 640x480 with 1 Axes>"
      ]
     },
     "metadata": {},
     "output_type": "display_data"
    }
   ],
   "source": [
    "labels = ['True Neg', 'False Pos', 'False Neg', 'True Pos']\n",
    "#categories = ['Zero', 'One']\n",
    "categories = [ 'Healthy Lung', 'Lung Cancer',]\n",
    "title = \"Training Set Intracellular Lung & Lung Cancer. Intracellular deconvoled 1vsAll biomarkers\"\n",
    "fig,panel = make_confusion_matrix(confusionMatrixData, \n",
    "                      # group_names=labels,\n",
    "                      categories=categories, \n",
    "                      cbar=False,\n",
    "                      count=True,\n",
    "                      cmap='Blues',\n",
    "                      title=title\n",
    "                     )"
   ]
  },
  {
   "cell_type": "code",
   "execution_count": 22,
   "id": "81e21e17-a909-4417-8f08-500ffc1b7416",
   "metadata": {},
   "outputs": [
    {
     "name": "stdout",
     "output_type": "stream",
     "text": [
      "/private/groups/kimlab/aedavids/elife/testIntraCellularLungCancerBiomarkers.out/img/trainingConfusionMatrix.png\n"
     ]
    }
   ],
   "source": [
    "imgFilePath = imgOut + \"/trainingConfusionMatrix.png\"\n",
    "print(imgFilePath)\n",
    "fig.savefig(imgFilePath, dpi=600, bbox_inches='tight', facecolor=\"white\", transparent=True)"
   ]
  },
  {
   "cell_type": "code",
   "execution_count": 23,
   "id": "7d22a1bb-4303-41d6-bf96-95d044610edf",
   "metadata": {},
   "outputs": [
    {
     "name": "stdout",
     "output_type": "stream",
     "text": [
      "/private/groups/kimlab/aedavids/elife/testIntraCellularLungCancerBiomarkers.out/img/trainingConfusionMatrix.png\n",
      "saving:\n",
      "/private/groups/kimlab/aedavids/elife/testIntraCellularLungCancerBiomarkers.out/img/trainingROC.png\n"
     ]
    },
    {
     "data": {
      "image/png": "[encoded data removed]",
      "text/plain": [
       "<Figure size 640x480 with 1 Axes>"
      ]
     },
     "metadata": {},
     "output_type": "display_data"
    }
   ],
   "source": [
    "def plotROC():\n",
    "    # https://scikit-plot.readthedocs.io/en/stable/metrics.html#scikitplot.metrics.plot_roc\n",
    "    yProbability = lrModel.predict_proba(XScaled)\n",
    "    rocPanel = skplt.metrics.plot_roc(y, yProbability,\n",
    "                          title=\"Elife 'Healthy Donner' & 'Lung Cancer'. Intracellular Deconvoled 1vsAll Biomarkers ROC Curves\"\n",
    "                          )\n",
    "    imgRocFilePath = imgOut + \"/trainingROC.png\"\n",
    "    print(imgFilePath)\n",
    "    fig =rocPanel.get_figure()\n",
    "    fig.savefig(imgFilePath, dpi=600, bbox_inches='tight', facecolor=\"white\", transparent=True)\n",
    "    print(f'saving:\\n{imgRocFilePath}')\n",
    "\n",
    "plotROC()"
   ]
  },
  {
   "cell_type": "markdown",
   "id": "39f23b4b-c883-41ce-b845-06ac5fcf0266",
   "metadata": {},
   "source": [
    "## Evaluate Validation Hold Out Data Set and Plot"
   ]
  },
  {
   "cell_type": "code",
   "execution_count": 24,
   "id": "59928339-db8f-480b-bec9-5076eb834d4c",
   "metadata": {},
   "outputs": [
    {
     "ename": "SyntaxError",
     "evalue": "invalid decimal literal (1395577489.py, line 13)",
     "output_type": "error",
     "traceback": [
      "\u001b[0;36m  Cell \u001b[0;32mIn[24], line 13\u001b[0;36m\u001b[0m\n\u001b[0;31m    aedwip we do not have deseq scalling factors for hold out sets. we ran our 1vsAll docker in terra on\u001b[0m\n\u001b[0m                                                                               ^\u001b[0m\n\u001b[0;31mSyntaxError\u001b[0m\u001b[0;31m:\u001b[0m invalid decimal literal\n"
     ]
    }
   ],
   "source": [
    "# load\n",
    "valGroupByGeneCountFilePath = sampleDataRoot + \"/GTEx_TCGA_ValidateGroupby.csv\"    \n",
    "valGroupByGeneCountFilePath = load(valGroupByGeneCountFilePath, localCacheDir=LOCAL_CACHE_DIR, verbose=True)\n",
    "valGroupedByGeneDF = pd.read_csv(valGroupByGeneCountFilePath, sep=\",\", index_col=\"geneId\")\n",
    "\n",
    "# load meta data\n",
    "valColDataFilePath = sampleDataRoot + \"/GTEx_TCGA_ValidateColData.csv\"\n",
    "valColDataFilePath = load(valColDataFilePath, localCacheDir=LOCAL_CACHE_DIR, verbose=True)\n",
    "valColDataDF = pd.read_csv(valColDataFilePath, sep=\",\")\n",
    "print(f'valColDataDF.shape : {valColDataDF.shape}')\n",
    "colDataDF.iloc[0:3, :]\n",
    "\n",
    "aedwip we do not have deseq scalling factors for hold out sets. we ran our 1vsAll docker in terra on\n",
    "the training data set only\n",
    "\n",
    "aedwip estimatedScalingFactorsFilePath = oneVsAllDataDir + \"/estimatedSizeFactors.csv\"\n",
    "scalingFactorsPath = load(estimatedScalingFactorsFilePath, localCacheDir=LOCAL_CACHE_DIR, verbose=True)\n",
    "scalingFactorDF = pd.read_csv(scalingFactorsPath, sep=\",\")"
   ]
  },
  {
   "cell_type": "code",
   "execution_count": null,
   "id": "99ae0872-de59-4d18-9f93-0b98c5fcadf4",
   "metadata": {},
   "outputs": [],
   "source": [
    "see cells  9, 10, 13. 14. 15 scale only do not fit anything, 17, 18, 19"
   ]
  },
  {
   "cell_type": "code",
   "execution_count": null,
   "id": "eeb5cbb6-9e17-4fe9-8226-3561f928ba47",
   "metadata": {},
   "outputs": [],
   "source": []
  }
 ],
 "metadata": {
  "kernelspec": {
   "display_name": "Python 3 (ipykernel)",
   "language": "python",
   "name": "python3"
  },
  "language_info": {
   "codemirror_mode": {
    "name": "ipython",
    "version": 3
   },
   "file_extension": ".py",
   "mimetype": "text/x-python",
   "name": "python",
   "nbconvert_exporter": "python",
   "pygments_lexer": "ipython3",
   "version": "3.11.4"
  }
 },
 "nbformat": 4,
 "nbformat_minor": 5
}
