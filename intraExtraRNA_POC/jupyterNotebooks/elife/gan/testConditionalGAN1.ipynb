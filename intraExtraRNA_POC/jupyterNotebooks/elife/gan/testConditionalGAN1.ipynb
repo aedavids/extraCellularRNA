{
 "cells": [
  {
   "cell_type": "markdown",
   "id": "c1b0af83-52d7-4d53-8871-f0ba62739233",
   "metadata": {},
   "source": [
    "# testConditionalGAN1\n",
    "\n",
    "Andrew E. Davidson\n",
    "aedavids@ucsc.edu\n",
    "8/29/24\n",
    "\n",
    "Copyright (c) 2020-2023, Regents of the University of California All rights reserved. \n",
    "https://polyformproject.org/licenses/noncommercial/1.0.0  \n",
    "\n",
    "AIM: create a simple GAN that is easy to test our basic framework  \n",
    "\n",
    "generate y = x^2\n",
    "\n",
    "ref: chapter 6. in Generative Advisarial Networks with Python"
   ]
  },
  {
   "cell_type": "code",
   "execution_count": 1,
   "id": "7f000aa4-d18f-452f-8728-ad11135a5862",
   "metadata": {},
   "outputs": [
    {
     "name": "stderr",
     "output_type": "stream",
     "text": [
      "2024-10-14 16:43:13.996091: I tensorflow/core/platform/cpu_feature_guard.cc:210] This TensorFlow binary is optimized to use available CPU instructions in performance-critical operations.\n",
      "To enable the following instructions: SSE4.1 SSE4.2 AVX AVX2 FMA, in other operations, rebuild TensorFlow with the appropriate compiler flags.\n"
     ]
    },
    {
     "name": "stdout",
     "output_type": "stream",
     "text": [
      "imgOut:\n",
      "/private/home/aedavids/extraCellularRNA/intraExtraRNA_POC/jupyterNotebooks/elife/gan/testConditionalGAN1.out/img\n"
     ]
    }
   ],
   "source": [
    "import ipynbname\n",
    "\n",
    "from numpy import hstack\n",
    "from numpy import zeros\n",
    "from numpy import ones\n",
    "from numpy.random import rand\n",
    "from numpy.random import randn\n",
    "import os\n",
    "from keras.models import Sequential\n",
    "from keras.layers import Dense\n",
    "from keras.layers import Input\n",
    "from matplotlib import pyplot\n",
    "\n",
    "notebookName = ipynbname.name()\n",
    "notebookPath = ipynbname.path()\n",
    "notebookDir = os.path.dirname(notebookPath)\n",
    "\n",
    "outDir = f'{notebookDir}/{notebookName}.out'\n",
    "imgOut = f'{outDir}/img'\n",
    "print(f'imgOut:\\n{imgOut}')"
   ]
  },
  {
   "cell_type": "code",
   "execution_count": 2,
   "id": "b871c8c5-3f05-49cf-b18f-ba060b79cca6",
   "metadata": {},
   "outputs": [
    {
     "name": "stdout",
     "output_type": "stream",
     "text": [
      "tensorflow: 2.17.0\n",
      "keras: 3.6.0\n"
     ]
    }
   ],
   "source": [
    "import tensorflow\n",
    "print('tensorflow: %s' % tensorflow.__version__)\n",
    "import keras\n",
    "print('keras: %s' % keras.__version__)"
   ]
  },
  {
   "cell_type": "markdown",
   "id": "8c37fe76-9f4f-4b98-a5e0-f1dc4e04a9a2",
   "metadata": {},
   "source": [
    "## define models"
   ]
  },
  {
   "cell_type": "code",
   "execution_count": 3,
   "id": "42782033-e2ab-4fb7-a9dd-0242fb08e5e8",
   "metadata": {},
   "outputs": [],
   "source": [
    "# define the standalone discriminator model\n",
    "def defineDiscriminator(n_inputs=2):\n",
    "    '''\n",
    "    the discriminator is a binary classifier. ie real or fake\n",
    "    if real y = 1\n",
    "    if fake y = 0\n",
    "    '''\n",
    "    model = Sequential(name=\"discriminator\")\n",
    "    model.add( Input( shape=(n_inputs,)) )\n",
    "    # model.add(Dense(25, activation='relu', kernel_initializer='he_uniform', input_dim=n_inputs))\n",
    "    model.add(Dense(25, activation='relu', kernel_initializer='he_uniform'))\n",
    "    model.add(Dense(1, activation='sigmoid'))\n",
    "    \n",
    "    # compile model\n",
    "    #model.compile(loss='binary_crossentropy', optimizer='adam', metrics=['accuracy'])\n",
    "\n",
    "    model.compile(\n",
    "        optimizer=keras.optimizers.Adam(learning_rate=1e-3),\n",
    "        loss=keras.losses.BinaryCrossentropy(),\n",
    "        metrics=[\n",
    "            keras.metrics.BinaryAccuracy(),\n",
    "            keras.metrics.FalseNegatives(),\n",
    "        ],\n",
    "    )\n",
    "    \n",
    "    return model"
   ]
  },
  {
   "cell_type": "code",
   "execution_count": 4,
   "id": "3627d18f-1b50-4b90-8c22-d27b26ee8829",
   "metadata": {},
   "outputs": [],
   "source": [
    "# define the standalone generator model\n",
    "def defineGenerator(latent_dim, n_outputs=2):\n",
    "    model = Sequential(name=\"generator\")\n",
    "    model.add( Input(shape=(latent_dim,)) )\n",
    "    # model.add(Dense(15, activation='relu', kernel_initializer='he_uniform', input_dim=latent_dim))\n",
    "    model.add(Dense(15, activation='relu', kernel_initializer='he_uniform'))\n",
    "    # activation is linear. ie we want to generate real numbers\n",
    "    model.add(Dense(n_outputs, activation='linear'))\n",
    "\n",
    "    # notice we do not compile the generator\n",
    "    \n",
    "    return model"
   ]
  },
  {
   "cell_type": "code",
   "execution_count": 5,
   "id": "b060bf6c-70c3-453d-b1a8-780de346a56f",
   "metadata": {},
   "outputs": [],
   "source": [
    "# define the combined generator and discriminator model, for updating the generator\n",
    "def defineGan(generator, discriminator):\n",
    "    # make weights in the discriminator not trainable\n",
    "    discriminator.trainable = False\n",
    "    \n",
    "    # connect them\n",
    "    model = Sequential(name=\"GAN\")\n",
    "    \n",
    "    # AEDWIP ???model.add( Input(shape=(1,)) )\n",
    "    \n",
    "    # add generator\n",
    "    model.add(generator)\n",
    "    \n",
    "    # add the discriminator\n",
    "    model.add(discriminator)\n",
    "    \n",
    "    # compile model\n",
    "    model.compile(loss='binary_crossentropy', optimizer='adam')\n",
    "    \n",
    "    return model"
   ]
  },
  {
   "cell_type": "markdown",
   "id": "0d958d01-7556-4bc8-9ec0-0f1745dfaee5",
   "metadata": {},
   "source": [
    "## define data utility functions"
   ]
  },
  {
   "cell_type": "code",
   "execution_count": 6,
   "id": "89881931-a34c-43c8-b829-09d1d84aa88c",
   "metadata": {},
   "outputs": [],
   "source": [
    "# generate n real samples with class labels\n",
    "def generateRealSamples(n):\n",
    "    '''\n",
    "    first col of X is x\n",
    "    the second col of X is x^2\n",
    "    \n",
    "    y = 1 for real samples\n",
    "    '''\n",
    "    # generate inputs in [-0.5, 0.5]\n",
    "    X1 = rand(n) - 0.5\n",
    "    \n",
    "    # generate outputs X^2\n",
    "    X2 = X1 * X1\n",
    "    \n",
    "    # stack arrays\n",
    "    X1 = X1.reshape(n, 1)\n",
    "    X2 = X2.reshape(n, 1)\n",
    "    X = hstack((X1, X2))\n",
    "    \n",
    "    # generate class labels\n",
    "    y = ones((n, 1))\n",
    "    \n",
    "    return X, y"
   ]
  },
  {
   "cell_type": "code",
   "execution_count": 7,
   "id": "e33e2e44-75c0-4cd1-a58e-4eecbcde270a",
   "metadata": {},
   "outputs": [],
   "source": [
    "# generate points in latent space as input for the generator\n",
    "def generateLatentPoints(latent_dim, n):\n",
    "    '''\n",
    "    generate noise vector. noice is normally distributed.\n",
    "    '''\n",
    "    # generate points in the latent space\n",
    "    x_input = randn(latent_dim * n)\n",
    "    \n",
    "    # reshape into a batch of inputs for the network\n",
    "    x_input = x_input.reshape(n, latent_dim)\n",
    "    \n",
    "    return x_input"
   ]
  },
  {
   "cell_type": "code",
   "execution_count": 8,
   "id": "f5591dbe-d698-4eb6-9122-679465a5593d",
   "metadata": {},
   "outputs": [],
   "source": [
    "# use the generator to generate n fake examples, with class labels\n",
    "def generateFakeSamples(generator, latent_dim, n):\n",
    "    '''\n",
    "    y = 0 for fake samples\n",
    "    '''\n",
    "    # generate points in latent space\n",
    "    x_input = generateLatentPoints(latent_dim, n)\n",
    "    \n",
    "    # predict outputs\n",
    "    X = generator.predict(x_input)\n",
    "    \n",
    "    # create class labels\n",
    "    y = zeros((n, 1))\n",
    "    \n",
    "    return X, y"
   ]
  },
  {
   "cell_type": "markdown",
   "id": "070df2aa-eaed-4a68-ba4c-db763b30f7e3",
   "metadata": {},
   "source": [
    "## debug"
   ]
  },
  {
   "cell_type": "code",
   "execution_count": 9,
   "id": "50f2cc75-b9bc-4908-a219-082cb461102c",
   "metadata": {},
   "outputs": [],
   "source": [
    "def printLastLayerWeights( model ) :\n",
    "    last_layer = model.layers[-1]\n",
    "    weights = last_layer.get_weights()\n",
    "\n",
    "    print(f'modelName : {model.name} last layer weights :\\n{weights}')"
   ]
  },
  {
   "cell_type": "code",
   "execution_count": 10,
   "id": "55cf70e1-b980-438d-99e4-04b5b0dd9c11",
   "metadata": {},
   "outputs": [],
   "source": [
    "def generateRealTrainingExamples(batchSize, debug=False):\n",
    "    x_real, y_real = generateRealSamples(batchSize)\n",
    "    if debug:\n",
    "        print(f'x_real :\\n{x_real} ')\n",
    "        print(f'y_real :\\n{y_real}')\n",
    "\n",
    "    return (x_real, y_real)"
   ]
  },
  {
   "cell_type": "code",
   "execution_count": 11,
   "id": "9c685d92-95eb-45ce-aaf6-f4d97f7dd0e5",
   "metadata": {},
   "outputs": [],
   "source": [
    "def generateFakeTrainingExamples(generator, latent_dim, batchSize, debug=False):\n",
    "    # prepare fake examples\n",
    "    x_fake, y_fake = generateFakeSamples(generator, latent_dim, batchSize)\n",
    "\n",
    "    if debug:\n",
    "        print(f'x_fake :\\n{x_fake}')\n",
    "        print(f'y_fake :\\n{y_fake}')    \n",
    "\n",
    "    return (x_fake, y_fake)"
   ]
  },
  {
   "cell_type": "code",
   "execution_count": 15,
   "id": "e4d1b014-50a9-4ad3-a4a2-8d2c689888a0",
   "metadata": {},
   "outputs": [
    {
     "data": {
      "text/html": [
       "<pre style=\"white-space:pre;overflow-x:auto;line-height:normal;font-family:Menlo,'DejaVu Sans Mono',consolas,'Courier New',monospace\"><span style=\"font-weight: bold\">Model: \"discriminator\"</span>\n",
       "</pre>\n"
      ],
      "text/plain": [
       "\u001b[1mModel: \"discriminator\"\u001b[0m\n"
      ]
     },
     "metadata": {},
     "output_type": "display_data"
    },
    {
     "data": {
      "text/html": [
       "<pre style=\"white-space:pre;overflow-x:auto;line-height:normal;font-family:Menlo,'DejaVu Sans Mono',consolas,'Courier New',monospace\">┏━━━━━━━━━━━━━━━━━━━━━━━━━━━━━━━━━┳━━━━━━━━━━━━━━━━━━━━━━━━┳━━━━━━━━━━━━━━━┓\n",
       "┃<span style=\"font-weight: bold\"> Layer (type)                    </span>┃<span style=\"font-weight: bold\"> Output Shape           </span>┃<span style=\"font-weight: bold\">       Param # </span>┃\n",
       "┡━━━━━━━━━━━━━━━━━━━━━━━━━━━━━━━━━╇━━━━━━━━━━━━━━━━━━━━━━━━╇━━━━━━━━━━━━━━━┩\n",
       "│ dense_12 (<span style=\"color: #0087ff; text-decoration-color: #0087ff\">Dense</span>)                │ (<span style=\"color: #00d7ff; text-decoration-color: #00d7ff\">None</span>, <span style=\"color: #00af00; text-decoration-color: #00af00\">25</span>)             │            <span style=\"color: #00af00; text-decoration-color: #00af00\">75</span> │\n",
       "├─────────────────────────────────┼────────────────────────┼───────────────┤\n",
       "│ dense_13 (<span style=\"color: #0087ff; text-decoration-color: #0087ff\">Dense</span>)                │ (<span style=\"color: #00d7ff; text-decoration-color: #00d7ff\">None</span>, <span style=\"color: #00af00; text-decoration-color: #00af00\">1</span>)              │            <span style=\"color: #00af00; text-decoration-color: #00af00\">26</span> │\n",
       "└─────────────────────────────────┴────────────────────────┴───────────────┘\n",
       "</pre>\n"
      ],
      "text/plain": [
       "┏━━━━━━━━━━━━━━━━━━━━━━━━━━━━━━━━━┳━━━━━━━━━━━━━━━━━━━━━━━━┳━━━━━━━━━━━━━━━┓\n",
       "┃\u001b[1m \u001b[0m\u001b[1mLayer (type)                   \u001b[0m\u001b[1m \u001b[0m┃\u001b[1m \u001b[0m\u001b[1mOutput Shape          \u001b[0m\u001b[1m \u001b[0m┃\u001b[1m \u001b[0m\u001b[1m      Param #\u001b[0m\u001b[1m \u001b[0m┃\n",
       "┡━━━━━━━━━━━━━━━━━━━━━━━━━━━━━━━━━╇━━━━━━━━━━━━━━━━━━━━━━━━╇━━━━━━━━━━━━━━━┩\n",
       "│ dense_12 (\u001b[38;5;33mDense\u001b[0m)                │ (\u001b[38;5;45mNone\u001b[0m, \u001b[38;5;34m25\u001b[0m)             │            \u001b[38;5;34m75\u001b[0m │\n",
       "├─────────────────────────────────┼────────────────────────┼───────────────┤\n",
       "│ dense_13 (\u001b[38;5;33mDense\u001b[0m)                │ (\u001b[38;5;45mNone\u001b[0m, \u001b[38;5;34m1\u001b[0m)              │            \u001b[38;5;34m26\u001b[0m │\n",
       "└─────────────────────────────────┴────────────────────────┴───────────────┘\n"
      ]
     },
     "metadata": {},
     "output_type": "display_data"
    },
    {
     "data": {
      "text/html": [
       "<pre style=\"white-space:pre;overflow-x:auto;line-height:normal;font-family:Menlo,'DejaVu Sans Mono',consolas,'Courier New',monospace\"><span style=\"font-weight: bold\"> Total params: </span><span style=\"color: #00af00; text-decoration-color: #00af00\">101</span> (404.00 B)\n",
       "</pre>\n"
      ],
      "text/plain": [
       "\u001b[1m Total params: \u001b[0m\u001b[38;5;34m101\u001b[0m (404.00 B)\n"
      ]
     },
     "metadata": {},
     "output_type": "display_data"
    },
    {
     "data": {
      "text/html": [
       "<pre style=\"white-space:pre;overflow-x:auto;line-height:normal;font-family:Menlo,'DejaVu Sans Mono',consolas,'Courier New',monospace\"><span style=\"font-weight: bold\"> Trainable params: </span><span style=\"color: #00af00; text-decoration-color: #00af00\">101</span> (404.00 B)\n",
       "</pre>\n"
      ],
      "text/plain": [
       "\u001b[1m Trainable params: \u001b[0m\u001b[38;5;34m101\u001b[0m (404.00 B)\n"
      ]
     },
     "metadata": {},
     "output_type": "display_data"
    },
    {
     "data": {
      "text/html": [
       "<pre style=\"white-space:pre;overflow-x:auto;line-height:normal;font-family:Menlo,'DejaVu Sans Mono',consolas,'Courier New',monospace\"><span style=\"font-weight: bold\"> Non-trainable params: </span><span style=\"color: #00af00; text-decoration-color: #00af00\">0</span> (0.00 B)\n",
       "</pre>\n"
      ],
      "text/plain": [
       "\u001b[1m Non-trainable params: \u001b[0m\u001b[38;5;34m0\u001b[0m (0.00 B)\n"
      ]
     },
     "metadata": {},
     "output_type": "display_data"
    },
    {
     "name": "stdout",
     "output_type": "stream",
     "text": [
      "\n"
     ]
    },
    {
     "data": {
      "text/html": [
       "<pre style=\"white-space:pre;overflow-x:auto;line-height:normal;font-family:Menlo,'DejaVu Sans Mono',consolas,'Courier New',monospace\"><span style=\"font-weight: bold\">Model: \"generator\"</span>\n",
       "</pre>\n"
      ],
      "text/plain": [
       "\u001b[1mModel: \"generator\"\u001b[0m\n"
      ]
     },
     "metadata": {},
     "output_type": "display_data"
    },
    {
     "data": {
      "text/html": [
       "<pre style=\"white-space:pre;overflow-x:auto;line-height:normal;font-family:Menlo,'DejaVu Sans Mono',consolas,'Courier New',monospace\">┏━━━━━━━━━━━━━━━━━━━━━━━━━━━━━━━━━┳━━━━━━━━━━━━━━━━━━━━━━━━┳━━━━━━━━━━━━━━━┓\n",
       "┃<span style=\"font-weight: bold\"> Layer (type)                    </span>┃<span style=\"font-weight: bold\"> Output Shape           </span>┃<span style=\"font-weight: bold\">       Param # </span>┃\n",
       "┡━━━━━━━━━━━━━━━━━━━━━━━━━━━━━━━━━╇━━━━━━━━━━━━━━━━━━━━━━━━╇━━━━━━━━━━━━━━━┩\n",
       "│ dense_14 (<span style=\"color: #0087ff; text-decoration-color: #0087ff\">Dense</span>)                │ (<span style=\"color: #00d7ff; text-decoration-color: #00d7ff\">None</span>, <span style=\"color: #00af00; text-decoration-color: #00af00\">15</span>)             │            <span style=\"color: #00af00; text-decoration-color: #00af00\">90</span> │\n",
       "├─────────────────────────────────┼────────────────────────┼───────────────┤\n",
       "│ dense_15 (<span style=\"color: #0087ff; text-decoration-color: #0087ff\">Dense</span>)                │ (<span style=\"color: #00d7ff; text-decoration-color: #00d7ff\">None</span>, <span style=\"color: #00af00; text-decoration-color: #00af00\">2</span>)              │            <span style=\"color: #00af00; text-decoration-color: #00af00\">32</span> │\n",
       "└─────────────────────────────────┴────────────────────────┴───────────────┘\n",
       "</pre>\n"
      ],
      "text/plain": [
       "┏━━━━━━━━━━━━━━━━━━━━━━━━━━━━━━━━━┳━━━━━━━━━━━━━━━━━━━━━━━━┳━━━━━━━━━━━━━━━┓\n",
       "┃\u001b[1m \u001b[0m\u001b[1mLayer (type)                   \u001b[0m\u001b[1m \u001b[0m┃\u001b[1m \u001b[0m\u001b[1mOutput Shape          \u001b[0m\u001b[1m \u001b[0m┃\u001b[1m \u001b[0m\u001b[1m      Param #\u001b[0m\u001b[1m \u001b[0m┃\n",
       "┡━━━━━━━━━━━━━━━━━━━━━━━━━━━━━━━━━╇━━━━━━━━━━━━━━━━━━━━━━━━╇━━━━━━━━━━━━━━━┩\n",
       "│ dense_14 (\u001b[38;5;33mDense\u001b[0m)                │ (\u001b[38;5;45mNone\u001b[0m, \u001b[38;5;34m15\u001b[0m)             │            \u001b[38;5;34m90\u001b[0m │\n",
       "├─────────────────────────────────┼────────────────────────┼───────────────┤\n",
       "│ dense_15 (\u001b[38;5;33mDense\u001b[0m)                │ (\u001b[38;5;45mNone\u001b[0m, \u001b[38;5;34m2\u001b[0m)              │            \u001b[38;5;34m32\u001b[0m │\n",
       "└─────────────────────────────────┴────────────────────────┴───────────────┘\n"
      ]
     },
     "metadata": {},
     "output_type": "display_data"
    },
    {
     "data": {
      "text/html": [
       "<pre style=\"white-space:pre;overflow-x:auto;line-height:normal;font-family:Menlo,'DejaVu Sans Mono',consolas,'Courier New',monospace\"><span style=\"font-weight: bold\"> Total params: </span><span style=\"color: #00af00; text-decoration-color: #00af00\">122</span> (488.00 B)\n",
       "</pre>\n"
      ],
      "text/plain": [
       "\u001b[1m Total params: \u001b[0m\u001b[38;5;34m122\u001b[0m (488.00 B)\n"
      ]
     },
     "metadata": {},
     "output_type": "display_data"
    },
    {
     "data": {
      "text/html": [
       "<pre style=\"white-space:pre;overflow-x:auto;line-height:normal;font-family:Menlo,'DejaVu Sans Mono',consolas,'Courier New',monospace\"><span style=\"font-weight: bold\"> Trainable params: </span><span style=\"color: #00af00; text-decoration-color: #00af00\">122</span> (488.00 B)\n",
       "</pre>\n"
      ],
      "text/plain": [
       "\u001b[1m Trainable params: \u001b[0m\u001b[38;5;34m122\u001b[0m (488.00 B)\n"
      ]
     },
     "metadata": {},
     "output_type": "display_data"
    },
    {
     "data": {
      "text/html": [
       "<pre style=\"white-space:pre;overflow-x:auto;line-height:normal;font-family:Menlo,'DejaVu Sans Mono',consolas,'Courier New',monospace\"><span style=\"font-weight: bold\"> Non-trainable params: </span><span style=\"color: #00af00; text-decoration-color: #00af00\">0</span> (0.00 B)\n",
       "</pre>\n"
      ],
      "text/plain": [
       "\u001b[1m Non-trainable params: \u001b[0m\u001b[38;5;34m0\u001b[0m (0.00 B)\n"
      ]
     },
     "metadata": {},
     "output_type": "display_data"
    },
    {
     "name": "stdout",
     "output_type": "stream",
     "text": [
      "\n"
     ]
    },
    {
     "data": {
      "text/html": [
       "<pre style=\"white-space:pre;overflow-x:auto;line-height:normal;font-family:Menlo,'DejaVu Sans Mono',consolas,'Courier New',monospace\"><span style=\"font-weight: bold\">Model: \"GAN\"</span>\n",
       "</pre>\n"
      ],
      "text/plain": [
       "\u001b[1mModel: \"GAN\"\u001b[0m\n"
      ]
     },
     "metadata": {},
     "output_type": "display_data"
    },
    {
     "data": {
      "text/html": [
       "<pre style=\"white-space:pre;overflow-x:auto;line-height:normal;font-family:Menlo,'DejaVu Sans Mono',consolas,'Courier New',monospace\">┏━━━━━━━━━━━━━━━━━━━━━━━━━━━━━━━━━┳━━━━━━━━━━━━━━━━━━━━━━━━┳━━━━━━━━━━━━━━━┓\n",
       "┃<span style=\"font-weight: bold\"> Layer (type)                    </span>┃<span style=\"font-weight: bold\"> Output Shape           </span>┃<span style=\"font-weight: bold\">       Param # </span>┃\n",
       "┡━━━━━━━━━━━━━━━━━━━━━━━━━━━━━━━━━╇━━━━━━━━━━━━━━━━━━━━━━━━╇━━━━━━━━━━━━━━━┩\n",
       "│ generator (<span style=\"color: #0087ff; text-decoration-color: #0087ff\">Sequential</span>)          │ (<span style=\"color: #00d7ff; text-decoration-color: #00d7ff\">None</span>, <span style=\"color: #00af00; text-decoration-color: #00af00\">2</span>)              │           <span style=\"color: #00af00; text-decoration-color: #00af00\">122</span> │\n",
       "├─────────────────────────────────┼────────────────────────┼───────────────┤\n",
       "│ discriminator (<span style=\"color: #0087ff; text-decoration-color: #0087ff\">Sequential</span>)      │ (<span style=\"color: #00d7ff; text-decoration-color: #00d7ff\">None</span>, <span style=\"color: #00af00; text-decoration-color: #00af00\">1</span>)              │           <span style=\"color: #00af00; text-decoration-color: #00af00\">101</span> │\n",
       "└─────────────────────────────────┴────────────────────────┴───────────────┘\n",
       "</pre>\n"
      ],
      "text/plain": [
       "┏━━━━━━━━━━━━━━━━━━━━━━━━━━━━━━━━━┳━━━━━━━━━━━━━━━━━━━━━━━━┳━━━━━━━━━━━━━━━┓\n",
       "┃\u001b[1m \u001b[0m\u001b[1mLayer (type)                   \u001b[0m\u001b[1m \u001b[0m┃\u001b[1m \u001b[0m\u001b[1mOutput Shape          \u001b[0m\u001b[1m \u001b[0m┃\u001b[1m \u001b[0m\u001b[1m      Param #\u001b[0m\u001b[1m \u001b[0m┃\n",
       "┡━━━━━━━━━━━━━━━━━━━━━━━━━━━━━━━━━╇━━━━━━━━━━━━━━━━━━━━━━━━╇━━━━━━━━━━━━━━━┩\n",
       "│ generator (\u001b[38;5;33mSequential\u001b[0m)          │ (\u001b[38;5;45mNone\u001b[0m, \u001b[38;5;34m2\u001b[0m)              │           \u001b[38;5;34m122\u001b[0m │\n",
       "├─────────────────────────────────┼────────────────────────┼───────────────┤\n",
       "│ discriminator (\u001b[38;5;33mSequential\u001b[0m)      │ (\u001b[38;5;45mNone\u001b[0m, \u001b[38;5;34m1\u001b[0m)              │           \u001b[38;5;34m101\u001b[0m │\n",
       "└─────────────────────────────────┴────────────────────────┴───────────────┘\n"
      ]
     },
     "metadata": {},
     "output_type": "display_data"
    },
    {
     "data": {
      "text/html": [
       "<pre style=\"white-space:pre;overflow-x:auto;line-height:normal;font-family:Menlo,'DejaVu Sans Mono',consolas,'Courier New',monospace\"><span style=\"font-weight: bold\"> Total params: </span><span style=\"color: #00af00; text-decoration-color: #00af00\">223</span> (892.00 B)\n",
       "</pre>\n"
      ],
      "text/plain": [
       "\u001b[1m Total params: \u001b[0m\u001b[38;5;34m223\u001b[0m (892.00 B)\n"
      ]
     },
     "metadata": {},
     "output_type": "display_data"
    },
    {
     "data": {
      "text/html": [
       "<pre style=\"white-space:pre;overflow-x:auto;line-height:normal;font-family:Menlo,'DejaVu Sans Mono',consolas,'Courier New',monospace\"><span style=\"font-weight: bold\"> Trainable params: </span><span style=\"color: #00af00; text-decoration-color: #00af00\">122</span> (488.00 B)\n",
       "</pre>\n"
      ],
      "text/plain": [
       "\u001b[1m Trainable params: \u001b[0m\u001b[38;5;34m122\u001b[0m (488.00 B)\n"
      ]
     },
     "metadata": {},
     "output_type": "display_data"
    },
    {
     "data": {
      "text/html": [
       "<pre style=\"white-space:pre;overflow-x:auto;line-height:normal;font-family:Menlo,'DejaVu Sans Mono',consolas,'Courier New',monospace\"><span style=\"font-weight: bold\"> Non-trainable params: </span><span style=\"color: #00af00; text-decoration-color: #00af00\">101</span> (404.00 B)\n",
       "</pre>\n"
      ],
      "text/plain": [
       "\u001b[1m Non-trainable params: \u001b[0m\u001b[38;5;34m101\u001b[0m (404.00 B)\n"
      ]
     },
     "metadata": {},
     "output_type": "display_data"
    },
    {
     "name": "stdout",
     "output_type": "stream",
     "text": [
      "\n",
      "\u001b[1m1/1\u001b[0m \u001b[32m━━━━━━━━━━━━━━━━━━━━\u001b[0m\u001b[37m\u001b[0m \u001b[1m0s\u001b[0m 44ms/step\n",
      "\n",
      "################# test discriminator train_on_batch\n",
      "after discriminator.train_on_batch()\n",
      "modelName : discriminator last layer weights :\n",
      "[array([[ 0.4115125 ],\n",
      "       [ 0.0590893 ],\n",
      "       [ 0.3830902 ],\n",
      "       [ 0.3691857 ],\n",
      "       [-0.30142432],\n",
      "       [-0.08652845],\n",
      "       [ 0.10284191],\n",
      "       [ 0.28164166],\n",
      "       [ 0.04798526],\n",
      "       [ 0.30651772],\n",
      "       [-0.44862366],\n",
      "       [ 0.1269998 ],\n",
      "       [ 0.07528514],\n",
      "       [-0.0610241 ],\n",
      "       [ 0.16293591],\n",
      "       [ 0.37725383],\n",
      "       [-0.02035037],\n",
      "       [ 0.09504509],\n",
      "       [-0.25850153],\n",
      "       [-0.40130383],\n",
      "       [ 0.35154438],\n",
      "       [-0.453604  ],\n",
      "       [-0.09244302],\n",
      "       [ 0.45489007],\n",
      "       [-0.1785185 ]], dtype=float32), array([0.], dtype=float32)]\n",
      "before gan.train_on_batch()\n",
      "\n",
      " gan_model.train_on_batch dis last layer weight\n",
      "modelName : discriminator last layer weights :\n",
      "[array([[ 0.4115125 ],\n",
      "       [ 0.0590893 ],\n",
      "       [ 0.3830902 ],\n",
      "       [ 0.3691857 ],\n",
      "       [-0.30142432],\n",
      "       [-0.08652845],\n",
      "       [ 0.10284191],\n",
      "       [ 0.28164166],\n",
      "       [ 0.04798526],\n",
      "       [ 0.30651772],\n",
      "       [-0.44862366],\n",
      "       [ 0.1269998 ],\n",
      "       [ 0.07528514],\n",
      "       [-0.0610241 ],\n",
      "       [ 0.16293591],\n",
      "       [ 0.37725383],\n",
      "       [-0.02035037],\n",
      "       [ 0.09504509],\n",
      "       [-0.25850153],\n",
      "       [-0.40130383],\n",
      "       [ 0.35154438],\n",
      "       [-0.453604  ],\n",
      "       [-0.09244302],\n",
      "       [ 0.45489007],\n",
      "       [-0.1785185 ]], dtype=float32), array([0.], dtype=float32)]\n",
      "\n",
      " gan_model.train_on_batch gan last layer weight\n",
      "modelName : GAN last layer weights :\n",
      "[array([[ 2.66600013e-01, -1.60093665e-01,  3.87831569e-01,\n",
      "         8.96968722e-01, -1.52209222e+00,  1.35588646e-01,\n",
      "        -7.50735521e-01, -1.03197217e+00,  1.36515260e-01,\n",
      "        -1.55628562e+00, -1.17361307e+00,  2.16097116e-01,\n",
      "        -1.10232329e+00, -1.71703255e+00, -4.08687711e-01,\n",
      "        -1.09885216e-01, -9.26200092e-01, -6.25001550e-01,\n",
      "        -7.99207091e-01, -1.53826237e-01, -9.33426738e-01,\n",
      "         1.53143275e+00, -1.34950709e+00,  9.78233457e-01,\n",
      "         7.94425130e-01],\n",
      "       [-1.50380993e+00,  1.24662817e+00, -1.55714822e+00,\n",
      "         2.85182834e-01, -1.09217000e+00,  1.38433564e+00,\n",
      "        -1.72402334e+00, -6.00112081e-01, -1.49563146e+00,\n",
      "         1.26482952e+00, -1.53452003e+00, -1.05657351e+00,\n",
      "         1.29695976e+00, -1.28094411e+00, -1.01873040e+00,\n",
      "         1.38763916e+00, -5.36403775e-01, -1.71625614e-03,\n",
      "        -1.10061288e+00,  9.11572099e-01, -4.64600325e-01,\n",
      "        -4.24482346e-01,  2.41008043e-01,  1.52289999e+00,\n",
      "         1.24865663e+00]], dtype=float32), array([0., 0., 0., 0., 0., 0., 0., 0., 0., 0., 0., 0., 0., 0., 0., 0., 0.,\n",
      "       0., 0., 0., 0., 0., 0., 0., 0.], dtype=float32), array([[ 0.4115125 ],\n",
      "       [ 0.0590893 ],\n",
      "       [ 0.3830902 ],\n",
      "       [ 0.3691857 ],\n",
      "       [-0.30142432],\n",
      "       [-0.08652845],\n",
      "       [ 0.10284191],\n",
      "       [ 0.28164166],\n",
      "       [ 0.04798526],\n",
      "       [ 0.30651772],\n",
      "       [-0.44862366],\n",
      "       [ 0.1269998 ],\n",
      "       [ 0.07528514],\n",
      "       [-0.0610241 ],\n",
      "       [ 0.16293591],\n",
      "       [ 0.37725383],\n",
      "       [-0.02035037],\n",
      "       [ 0.09504509],\n",
      "       [-0.25850153],\n",
      "       [-0.40130383],\n",
      "       [ 0.35154438],\n",
      "       [-0.453604  ],\n",
      "       [-0.09244302],\n",
      "       [ 0.45489007],\n",
      "       [-0.1785185 ]], dtype=float32), array([0.], dtype=float32)]\n"
     ]
    }
   ],
   "source": [
    "def debugGAN():\n",
    "\n",
    "    # create the discriminator\n",
    "    discriminator = defineDiscriminator()\n",
    "    discriminator.summary()\n",
    "    \n",
    "    # create the generator\n",
    "    latent_dim = 5    \n",
    "    generator = defineGenerator(latent_dim)\n",
    "    print()\n",
    "    generator.summary()\n",
    "    \n",
    "    #create the gan\n",
    "    gan_model = defineGan(generator, discriminator)\n",
    "    print()\n",
    "    gan_model.summary()\n",
    "    print()\n",
    "\n",
    "    \n",
    "    halfBatchSize = 3\n",
    "    batchSize = halfBatchSize * 2\n",
    "    x_real, y_real = generateRealTrainingExamples(halfBatchSize)\n",
    "    x_fake, y_fake = generateFakeTrainingExamples(generator, latent_dim, halfBatchSize)\n",
    "\n",
    "    print(f'\\n################# test discriminator train_on_batch')\n",
    "    print(f'after discriminator.train_on_batch()')\n",
    "    printLastLayerWeights( discriminator )\n",
    "\n",
    "    # when we create the GAN model trainable was set to FALSE\n",
    "    # tran_on_batch() AttributeError: 'NoneType' object has no attribute 'update_state'\n",
    "    # discriminator.trainable = True     \n",
    "    # discriminator.train_on_batch(x_real, y_real)\n",
    "    # print(f'\\nafter discriminator.train_on_batch()')\n",
    "    # printLastLayerWeights( discriminator )\n",
    "\n",
    "\n",
    "\n",
    "    # print(f'\\n################# after create GAN : test discriminator train_on_batch')\n",
    "    # # AssertionError: Called a function referencing variables which have been deleted. This likely means that function-local variables were created and not referenced elsewhere in the program. This is generally a mistake; consider storing variables in an object attribute on first call.\n",
    "    # discriminator.trainable = True     \n",
    "\n",
    "    # x_real, y_real = generateRealTrainingExamples(half_batch)\n",
    "    # x_fake, y_fake = generateFakeTrainingExamples(generator, latent_dim, half_batch)\n",
    "\n",
    "    # discriminator.train_on_batch(x_real, y_real)\n",
    "    # print(f'after discriminator.train_on_batch()')\n",
    "    # printLastLayerWeights( discriminator )    \n",
    "\n",
    "    print(f'before gan.train_on_batch()')    \n",
    "    # prepare points in latent space as input for the generator\n",
    "    x_gan = generateLatentPoints(latent_dim, batchSize)\n",
    "    \n",
    "    # create inverted labels for the fake samples\n",
    "    # we want the discriminator to think the fakes are real\n",
    "    y_gan = ones((batchSize, 1))\n",
    "    \n",
    "    # update the generator via the discriminator's error\n",
    "    gan_model.train_on_batch(x_gan, y_gan) # AEDWIP return_dict=False\n",
    "    print(f'\\n gan_model.train_on_batch dis last layer weight')\n",
    "    printLastLayerWeights( discriminator )\n",
    "\n",
    "    print(f'\\n gan_model.train_on_batch gan last layer weight')\n",
    "    printLastLayerWeights( gan_model )\n",
    "\n",
    "    # print(f'\\n################# test GAN train_on_batch')\n",
    "\n",
    "\n",
    "debugGAN()"
   ]
  },
  {
   "cell_type": "code",
   "execution_count": null,
   "id": "b15e01ca-4689-4817-9618-c710f1b5189a",
   "metadata": {},
   "outputs": [],
   "source": [
    "xxx"
   ]
  },
  {
   "cell_type": "code",
   "execution_count": null,
   "id": "993f7953-cb75-400a-a8b2-f27c9c6e6245",
   "metadata": {},
   "outputs": [],
   "source": [
    "# evaluate the discriminator and plot real and fake points\n",
    "def summarizePerformance(epoch, generator, discriminator, latent_dim, n=100):\n",
    "    # prepare real samples\n",
    "    x_real, y_real = generateRealSamples(n)\n",
    "    \n",
    "    # evaluate discriminator on real examples\n",
    "    _, acc_real = discriminator.evaluate(x_real, y_real, verbose=0)\n",
    "    \n",
    "    # prepare fake examples\n",
    "    x_fake, y_fake = generateFakeSamples(generator, latent_dim, n)\n",
    "    \n",
    "    # evaluate discriminator on fake examples\n",
    "    _, acc_fake = discriminator.evaluate(x_fake, y_fake, verbose=0)\n",
    "    \n",
    "    # summarize discriminator performance\n",
    "    print(epoch, acc_real, acc_fake)\n",
    "    \n",
    "    # scatter plot real and fake data points\n",
    "    pyplot.scatter(x_real[:, 0], x_real[:, 1], color='red')\n",
    "    pyplot.scatter(x_fake[:, 0], x_fake[:, 1], color='blue')\n",
    "    \n",
    "    \n",
    "    # save plot to file\n",
    "    filename = imgOut + '/generated_plot_e%03d.png' % (epoch+1)\n",
    "    pyplot.savefig(filename)\n",
    "    pyplot.close()"
   ]
  },
  {
   "cell_type": "code",
   "execution_count": null,
   "id": "091cab61-80e8-4045-8461-0cac57ed9fdf",
   "metadata": {},
   "outputs": [],
   "source": [
    "# train the generator and discriminator\n",
    "def train(g_model, d_model, gan_model, latent_dim, n_epochs=10000, n_batch=128, n_eval=2000):\n",
    "    # determine half the size of one batch, for updating the discriminator\n",
    "    half_batch = int(n_batch / 2)\n",
    "    \n",
    "    # manually enumerate epochs\n",
    "    for i in range(n_epochs):\n",
    "        # prepare real samples\n",
    "        x_real, y_real = generateRealSamples(half_batch)\n",
    "        \n",
    "        # prepare fake examples\n",
    "        x_fake, y_fake = generateFakeSamples(g_model, latent_dim, half_batch)\n",
    "        \n",
    "        # update discriminator\n",
    "        # train_on_batch : Runs a single gradient update on a single batch of data\n",
    "        d_model.train_on_batch(x_real, y_real) # AEDWIP syreturn_dict=False\n",
    "        d_model.train_on_batch(x_fake, y_fake) # AEDWIP return_dict=False\n",
    "        \n",
    "        # prepare points in latent space as input for the generator\n",
    "        x_gan = generateLatentPoints(latent_dim, n_batch)\n",
    "        \n",
    "        # create inverted labels for the fake samples\n",
    "        # we want the discriminator to think the fakes are real\n",
    "        y_gan = ones((n_batch, 1))\n",
    "        \n",
    "        # update the generator via the discriminator's error\n",
    "        gan_model.train_on_batch(x_gan, y_gan) # AEDWIP return_dict=False\n",
    "        \n",
    "        # evaluate the model every n_eval epochs\n",
    "        if (i+1) % n_eval == 0:\n",
    "            summarizePerformance(i, g_model, d_model, latent_dim)"
   ]
  },
  {
   "cell_type": "code",
   "execution_count": null,
   "id": "3191e5ee-5267-4012-bb2e-ae1a7829809d",
   "metadata": {},
   "outputs": [],
   "source": [
    "%%time\n",
    "# size of the latent space\n",
    "latent_dim = 5\n",
    "\n",
    "# create the discriminator\n",
    "discriminator = defineDiscriminator()\n",
    "discriminator.summary()\n",
    "\n",
    "# # create the generator\n",
    "generator = defineGenerator(latent_dim)\n",
    "generator.summary()\n",
    "\n",
    "# # create the gan\n",
    "# gan_model = defineGan(generator, discriminator)\n",
    "\n",
    "# # train model\n",
    "# train(generator, discriminator, gan_model, latent_dim)"
   ]
  },
  {
   "cell_type": "code",
   "execution_count": null,
   "id": "dd4531cc-b74c-48d2-8cd6-ec7a190ffda2",
   "metadata": {},
   "outputs": [],
   "source": [
    "4.83717840e-01 * 4.83717840e-01"
   ]
  },
  {
   "cell_type": "code",
   "execution_count": null,
   "id": "105ad8ed-e421-436a-8376-5b0989e7c07f",
   "metadata": {},
   "outputs": [],
   "source": [
    "0.05250786  * 0.05250786 "
   ]
  },
  {
   "cell_type": "code",
   "execution_count": null,
   "id": "d29e6109-5988-4a20-a289-763207c6e3a5",
   "metadata": {},
   "outputs": [],
   "source": []
  }
 ],
 "metadata": {
  "kernelspec": {
   "display_name": "Python 3 (ipykernel)",
   "language": "python",
   "name": "python3"
  },
  "language_info": {
   "codemirror_mode": {
    "name": "ipython",
    "version": 3
   },
   "file_extension": ".py",
   "mimetype": "text/x-python",
   "name": "python",
   "nbconvert_exporter": "python",
   "pygments_lexer": "ipython3",
   "version": "3.11.10"
  }
 },
 "nbformat": 4,
 "nbformat_minor": 5
}
