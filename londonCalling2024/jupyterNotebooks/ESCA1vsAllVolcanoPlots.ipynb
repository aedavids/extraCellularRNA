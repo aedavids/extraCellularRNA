{
 "cells": [
  {
   "cell_type": "markdown",
   "id": "556941ec-1c56-4b9d-acf9-b81f5cbe4b04",
   "metadata": {},
   "source": [
    "# ESCA 1vsAll Volcano Plots\n",
    "Andrew E. Davidson  \n",
    "aedavids@ucsc.edu  \n",
    "5/1/24\n",
    "\n",
    "Copyright (c) 2020-2023, Regents of the University of California All rights reserved. https://polyformproject.org/licenses/noncommercial/1.0.0\n",
    "\n",
    "ref: extraCellularRNA/terra/jupyterNotebooks/cibersort/volcanoPlots.ipynb"
   ]
  },
  {
   "cell_type": "code",
   "execution_count": 1,
   "id": "2acfc238-452d-4e67-8319-c189493a42a4",
   "metadata": {},
   "outputs": [
    {
     "name": "stdout",
     "output_type": "stream",
     "text": [
      "outDir:\n",
      "/private/home/aedavids/extraCellularRNA/londonCalling2024/jupyterNotebooks/ESCA1vsAllVolcanoPlots.out\n",
      "\n",
      "imgOut :\n",
      "/private/home/aedavids/extraCellularRNA/londonCalling2024/jupyterNotebooks/ESCA1vsAllVolcanoPlots.out/img\n"
     ]
    },
    {
     "name": "stderr",
     "output_type": "stream",
     "text": [
      "/data/tmp/ipykernel_1333786/2060745374.py:5: DeprecationWarning: \n",
      "Pyarrow will become a required dependency of pandas in the next major release of pandas (pandas 3.0),\n",
      "(to allow more performant data types, such as the Arrow string type, and better interoperability with other libraries)\n",
      "but was not found to be installed on your system.\n",
      "If this would cause problems for you,\n",
      "please provide us feedback at https://github.com/pandas-dev/pandas/issues/54466\n",
      "        \n",
      "  import pandas as pd\n"
     ]
    }
   ],
   "source": [
    "import ipynbname\n",
    "from IPython.display import display\n",
    "from IPython.display import Image\n",
    "import pathlib as pl\n",
    "import pandas as pd\n",
    "import os\n",
    "import sys\n",
    "\n",
    "notebookName = ipynbname.name()\n",
    "notebookPath = ipynbname.path()\n",
    "notebookDir = os.path.dirname(notebookPath)\n",
    "\n",
    "outDir = f'{notebookDir}/{notebookName}.out'\n",
    "os.makedirs(outDir, exist_ok=True)\n",
    "print(f'outDir:\\n{outDir}')\n",
    "\n",
    "imgOut = f'{outDir}/img'\n",
    "os.makedirs(imgOut, exist_ok=True)\n",
    "print(f'\\nimgOut :\\n{imgOut}')"
   ]
  },
  {
   "cell_type": "code",
   "execution_count": 2,
   "id": "007a0010-1251-4315-865a-3b53008cda28",
   "metadata": {},
   "outputs": [
    {
     "name": "stdout",
     "output_type": "stream",
     "text": [
      "ORIG_PYTHONPATH: :/private/home/aedavids/extraCellularRNA/src\n",
      "\n",
      "deseqModules: /private/home/aedavids/extraCellularRNA/terra/deseq/python\n",
      "\n",
      "PYTHONPATH: :/private/home/aedavids/extraCellularRNA/src:/private/home/aedavids/extraCellularRNA/terra/deseq/python\n",
      "\n",
      "deconvolutionModules: /private/home/aedavids/extraCellularRNA/deconvolutionAnalysis/python\n",
      "\n",
      "PYTHONPATH: :/private/home/aedavids/extraCellularRNA/src:/private/home/aedavids/extraCellularRNA/terra/deseq/python:/private/home/aedavids/extraCellularRNA/deconvolutionAnalysis/python\n",
      "\n",
      "\n",
      "sys.path:\n",
      "['/private/home/aedavids/extraCellularRNA/londonCalling2024/jupyterNotebooks', '/private/home/aedavids/extraCellularRNA/londonCalling2024/jupyterNotebooks', '/private/home/aedavids/extraCellularRNA/src', '/private/home/aedavids/miniconda3/envs/extraCellularRNA/lib/python311.zip', '/private/home/aedavids/miniconda3/envs/extraCellularRNA/lib/python3.11', '/private/home/aedavids/miniconda3/envs/extraCellularRNA/lib/python3.11/lib-dynload', '', '/private/home/aedavids/miniconda3/envs/extraCellularRNA/lib/python3.11/site-packages', '/private/home/aedavids/miniconda3/envs/extraCellularRNA/lib/python3.11/site-packages/setuptools-57.4.0-py3.9.egg', '/private/home/aedavids/miniconda3/envs/extraCellularRNA/lib/python3.11/site-packages/pip-21.1.3-py3.9.egg', '/private/home/aedavids/extraCellularRNA/terra/deseq/python', '/private/home/aedavids/extraCellularRNA/deconvolutionAnalysis/python']\n",
      "\n"
     ]
    }
   ],
   "source": [
    "# setting the python path allows us to run python scripts from using\n",
    "# the CLI. \n",
    "PYTHONPATH = os.environ['PYTHONPATH']\n",
    "print(\"ORIG_PYTHONPATH: {}\\n\".format(PYTHONPATH))\n",
    "\n",
    "gitRepoRoot = !git rev-parse --show-toplevel\n",
    "gitRepoRoot = gitRepoRoot[0]\n",
    "\n",
    "\n",
    "#\n",
    "# add deseq modules\n",
    "#\n",
    "deseqModules = f'{gitRepoRoot}/terra/deseq/python'\n",
    "# deseqModules = f'{gitRepoRoot}/terra'\n",
    "print(\"deseqModules: {}\\n\".format(deseqModules))\n",
    "\n",
    "PYTHONPATH = PYTHONPATH + f':{deseqModules}'\n",
    "print(\"PYTHONPATH: {}\\n\".format(PYTHONPATH))\n",
    "\n",
    "#\n",
    "# add deconvolutionAnalysis modules\n",
    "#\n",
    "deconvolutionModules = f'{gitRepoRoot}/deconvolutionAnalysis/python'\n",
    "print(\"deconvolutionModules: {}\\n\".format(deconvolutionModules))\n",
    "\n",
    "PYTHONPATH = PYTHONPATH + f':{deconvolutionModules}'\n",
    "print(\"PYTHONPATH: {}\\n\".format(PYTHONPATH))\n",
    "\n",
    "\n",
    "#\n",
    "# to be able to import our local python files we need to set the sys.path\n",
    "# https://stackoverflow.com/a/50155834\n",
    "#\n",
    "sys.path.append( str(deseqModules) )\n",
    "sys.path.append( str(deconvolutionModules) )\n",
    "print(\"\\nsys.path:\\n{}\\n\".format(sys.path))"
   ]
  },
  {
   "cell_type": "code",
   "execution_count": 3,
   "id": "0ed550bd-ad77-423e-8cbd-fd98444f3413",
   "metadata": {},
   "outputs": [],
   "source": [
    "#local imports\n",
    "from pipeline.dataFactory.utilities import urlify\n",
    "from plots import volcanoPlots\n",
    "# from deseq.python.plots import volcanoPlots"
   ]
  },
  {
   "cell_type": "code",
   "execution_count": 4,
   "id": "ddd88e14-9d59-4ad0-8b3d-e335269d4ead",
   "metadata": {},
   "outputs": [],
   "source": [
    "# load data\n",
    "dataRoot = '/private/groups/kimlab/GTEx_TCGA/1vsAll'\n",
    "ESCAFilePath = f'{dataRoot}/ESCA_vs_all.results'"
   ]
  },
  {
   "cell_type": "code",
   "execution_count": 5,
   "id": "947cf93f-615c-4738-b407-0c257dd5f386",
   "metadata": {},
   "outputs": [
    {
     "name": "stdout",
     "output_type": "stream",
     "text": [
      "CPU times: user 15 µs, sys: 1 µs, total: 16 µs\n",
      "Wall time: 28.4 µs\n"
     ]
    }
   ],
   "source": [
    "%%time\n",
    "\n",
    "def createVolcanoPlot(deseqResults, imgFilePath, numHeaderLines, plotTitle=None, teGeneNamesPath=None):\n",
    "    '''\n",
    "    arguments:\n",
    "        pythonPath:\n",
    "            set PYTHONPATH to this value. required to find volcano plot code\n",
    "        deseqResults:\n",
    "            example: /private/groups/kimlab/GTEx_TCGA/1vsAll/Kidney_Cortex_vs_all.results\n",
    "            \n",
    "        imgFilePath: \n",
    "            file path to save image with\n",
    "            \n",
    "        numHeaderLines\n",
    "            integer: number of lines at the top of the results file to skip\n",
    "            \n",
    "        plotTitle:\n",
    "            string: plot title string\n",
    "            \n",
    "        teGeneNamesPath\n",
    "            file that contains genes we want to color red\n",
    "            \n",
    "    returns exit status\n",
    "    '''\n",
    "    \n",
    "    arguments ='''--inputFile {} \\\\\n",
    "                    --title '{}' \\\\\n",
    "                    --output {}  \\\\\n",
    "                    --numHeaderLines {} \\\\\n",
    "                    --geneNamesFile {}'''.format(deseqResults, \n",
    "                                               plotTitle, \n",
    "                                               imgFilePath, \n",
    "                                               numHeaderLines, \n",
    "                                               teGeneNamesPath)\n",
    "    print(\"arguments:\\n{}\".format(arguments))\n",
    "    \n",
    "    exitStatus = ! (export PYTHONPATH=$pythonPath; python -m plots.volcanoPlots $arguments)\n",
    "    print(\"exit status:{}\".format(exitStatus))\n",
    "    return exitStatus\n"
   ]
  },
  {
   "cell_type": "code",
   "execution_count": 6,
   "id": "9694f532-9ff4-43cf-b970-bbb5717ebed5",
   "metadata": {},
   "outputs": [
    {
     "ename": "AttributeError",
     "evalue": "'str' object has no attribute 'joinpath'",
     "output_type": "error",
     "traceback": [
      "\u001b[0;31m---------------------------------------------------------------------------\u001b[0m",
      "\u001b[0;31mAttributeError\u001b[0m                            Traceback (most recent call last)",
      "Cell \u001b[0;32mIn[6], line 3\u001b[0m\n\u001b[1;32m      1\u001b[0m \u001b[38;5;66;03m# set arguments \u001b[39;00m\n\u001b[1;32m      2\u001b[0m sampleFileName \u001b[38;5;241m=\u001b[39m \u001b[38;5;124m\"\u001b[39m\u001b[38;5;124mKidney_Cortex_vs_all.results\u001b[39m\u001b[38;5;124m\"\u001b[39m\n\u001b[0;32m----> 3\u001b[0m sampleFilePath \u001b[38;5;241m=\u001b[39m \u001b[43mdataRoot\u001b[49m\u001b[38;5;241;43m.\u001b[39;49m\u001b[43mjoinpath\u001b[49m( sampleFileName )\n\u001b[1;32m      5\u001b[0m \u001b[38;5;66;03m# imgFilePath = str(testFilePath) + \".png\"\u001b[39;00m\n\u001b[1;32m      6\u001b[0m plotTitle \u001b[38;5;241m=\u001b[39m \u001b[38;5;124m\"\u001b[39m\u001b[38;5;132;01m{}\u001b[39;00m\u001b[38;5;124m 1vsAll\u001b[39m\u001b[38;5;124m\"\u001b[39m\u001b[38;5;241m.\u001b[39mformat(sampleFileName)\n",
      "\u001b[0;31mAttributeError\u001b[0m: 'str' object has no attribute 'joinpath'"
     ]
    }
   ],
   "source": [
    "# set arguments \n",
    "sampleFileName = \"Kidney_Cortex_vs_all.results\"\n",
    "sampleFilePath = dataRoot.joinpath( sampleFileName )\n",
    "                                   \n",
    "# imgFilePath = str(testFilePath) + \".png\"\n",
    "plotTitle = \"{} 1vsAll\".format(sampleFileName)\n",
    "imgFilePath = imgOutDir.joinpath( urlify(plotTitle) + \".png\" )\n",
    "\n",
    "numHeaderLines = 8\n",
    "                \n",
    "# plot\n",
    "exitStatus = createVolcanoPlot(sampleFilePath, \n",
    "                               imgFilePath, \n",
    "                               numHeaderLines, \n",
    "                               plotTitle, \n",
    "                               teGeneNamesPath)\n",
    "      \n",
    "# display\n",
    "Image(imgFilePath)    "
   ]
  },
  {
   "cell_type": "code",
   "execution_count": 7,
   "id": "ab2a9e3a-dbdf-4f7a-b07b-d261c67c8512",
   "metadata": {},
   "outputs": [
    {
     "name": "stdout",
     "output_type": "stream",
     "text": [
      "exit status:['aedwip :/private/home/aedavids/extraCellularRNA/src:/private/home/aedavids/extraCellularRNA/terra/deseq/python:/private/home/aedavids/extraCellularRNA/deconvolutionAnalysis/python aedwip', 'usage: volcanoPlots.py [-h] [-g] [-n] [-t] [-v] -i  -o', 'volcanoPlots.py: error: the following arguments are required: -i/--inputFile, -o/--outputFile']\n"
     ]
    }
   ],
   "source": [
    "exitStatus = ! ( export PYTHONPATH=$PYTHONPATH; echo \"aedwip $PYTHONPATH aedwip\"; python -m plots.volcanoPlots )\n",
    "print(\"exit status:{}\".format(exitStatus))"
   ]
  },
  {
   "cell_type": "code",
   "execution_count": null,
   "id": "ad25b6ff-ef99-4787-992a-ff472b823c10",
   "metadata": {},
   "outputs": [],
   "source": [
    "! ls ../../terra/deseq/python"
   ]
  },
  {
   "cell_type": "code",
   "execution_count": null,
   "id": "353fc51c-4170-4efc-a1f1-061238d9aad6",
   "metadata": {},
   "outputs": [],
   "source": [
    "! ls /private/home/aedavids/extraCellularRNA/londonCalling2024/jupyterNotebooks/../../terra/deseq/python/plots\n",
    "     /private/home/aedavids/extraCellularRNA/londonCalling2024/jupyterNotebooks/../../terra/deseq/python"
   ]
  },
  {
   "cell_type": "code",
   "execution_count": null,
   "id": "e279e12e-dbf5-4ee6-b218-8c8bcb55b015",
   "metadata": {},
   "outputs": [],
   "source": [
    "! ls /private/home/aedavids/extraCellularRNA/londonCalling2024/jupyterNotebooks/../../terra/deseq/python/plots/volcanoPlots.py"
   ]
  },
  {
   "cell_type": "code",
   "execution_count": null,
   "id": "7deb74fb-b2c8-4014-8c46-9bcf164ba116",
   "metadata": {},
   "outputs": [],
   "source": [
    "!ls /private/home/aedavids/extraCellularRNA/londonCalling2024/jupyterNotebooks/../../terra/deseq/python"
   ]
  },
  {
   "cell_type": "code",
   "execution_count": null,
   "id": "8c86bae3-c6ef-47d2-bea2-a6865ee2ac1b",
   "metadata": {},
   "outputs": [],
   "source": []
  }
 ],
 "metadata": {
  "kernelspec": {
   "display_name": "Python 3 (ipykernel)",
   "language": "python",
   "name": "python3"
  },
  "language_info": {
   "codemirror_mode": {
    "name": "ipython",
    "version": 3
   },
   "file_extension": ".py",
   "mimetype": "text/x-python",
   "name": "python",
   "nbconvert_exporter": "python",
   "pygments_lexer": "ipython3",
   "version": "3.11.4"
  }
 },
 "nbformat": 4,
 "nbformat_minor": 5
}
