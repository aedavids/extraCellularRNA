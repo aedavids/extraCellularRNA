{
 "cells": [
  {
   "cell_type": "markdown",
   "id": "96273b19-3b57-4282-96c6-8fb6933432ec",
   "metadata": {},
   "source": [
<<<<<<< HEAD
    "# <span style=\"color:red;background-color:yellow\"> PCR does not introduct bias in RNA expriment</span>\n",
=======
    "# How to correct for PCR bias in RNA expriment\n",
>>>>>>> 860a80b9d225017e6565643fe96ec2de55ede5ee
    "Andrew E. Davidson  \n",
    "aedavids@ucsc.edu  \n",
    "\n",
    "Copyright (c) 2020-2023, Regents of the University of California All rights reserved. https://polyformproject.org/licenses/noncommercial/1.0.0\n",
    "\n",
<<<<<<< HEAD
=======
    "\n",
>>>>>>> 860a80b9d225017e6565643fe96ec2de55ede5ee
    "## Abstract\n",
    "PCR and cDNA are common methods. In general amplification is a valid method in\n",
    "- transfomation and transfection\n",
    "  * we have very small sequence we wish to clone\n",
    "  * we want to create as many templates as possible\n",
    "- DNA sequencing (Shotgun sequencing)\n",
    "  * DNA is double stranded\n",
    "  * we can assume the fragment counts are uniformaly distributed. I.e. if we ignore repeats a fragment may occur at most twice\n",
    "\n",
<<<<<<< HEAD
    "PCR doubles the number of templates in each round of cycling. We know that many factors including cell type, environment, diease, behavior affect RNA to expression level. This leads to uneven levels of gene expression. Repeated thermo cycling does not change probablity distrbution. There was a suggestion in a previous meeting that it would create higher biased toward high count gene expression levels in the original sample.\n",
=======
    "PCR introduces signfigant bias into RNA experiments that is not corrected in current RNA normalization methods. We know that many factors including cell type, environment, diease, behavior affect RNA to expression level. Repeated thermo cycling create probablity distrbution that are heavly biased toward high count gene expression levels in the original sample.\n",
>>>>>>> 860a80b9d225017e6565643fe96ec2de55ede5ee
    "\n",
    "### Table of Contents\n",
    "- simulated PCR data\n",
    "    * see cell [6] figure \"Effect of PCR cycling on transcript count distribution\"\n",
    "- overview of DESeq Normalization\n",
    "    * see cell [7]\n",
    "    * This is what we use\n",
    "- Evaluate normalization on PCR products cell [12]\n",
<<<<<<< HEAD
    "  * it works\n",
    " "
=======
    "  * it does not work\n",
    " - Correcting for PCR Bias cell [16]\n",
    " - Experimental Design cell[19]"
>>>>>>> 860a80b9d225017e6565643fe96ec2de55ede5ee
   ]
  },
  {
   "cell_type": "code",
   "execution_count": 1,
   "id": "b14994c3-d977-477c-9fa8-bd7165064a68",
   "metadata": {},
   "outputs": [
    {
     "name": "stdout",
     "output_type": "stream",
     "text": [
      "outDir:\n",
      "/private/home/aedavids/extraCellularRNA/juypterNotebooks/correctPCRBiasInRNAExperiments.out\n",
      "\n",
      "imgOut :\n",
      "/private/home/aedavids/extraCellularRNA/juypterNotebooks/correctPCRBiasInRNAExperiments.out/img\n"
     ]
    },
    {
     "name": "stderr",
     "output_type": "stream",
     "text": [
<<<<<<< HEAD
      "/data/tmp/ipykernel_2982129/2839616518.py:5: DeprecationWarning: \n",
=======
      "/data/tmp/ipykernel_2804566/2839616518.py:5: DeprecationWarning: \n",
>>>>>>> 860a80b9d225017e6565643fe96ec2de55ede5ee
      "Pyarrow will become a required dependency of pandas in the next major release of pandas (pandas 3.0),\n",
      "(to allow more performant data types, such as the Arrow string type, and better interoperability with other libraries)\n",
      "but was not found to be installed on your system.\n",
      "If this would cause problems for you,\n",
      "please provide us feedback at https://github.com/pandas-dev/pandas/issues/54466\n",
      "        \n",
      "  import pandas as pd\n"
     ]
    }
   ],
   "source": [
    "import ipynbname\n",
    "import matplotlib.pyplot as plt\n",
    "import numpy as np\n",
    "import os\n",
    "import pandas as pd\n",
    "import sys\n",
    "\n",
    "notebookName = ipynbname.name()\n",
    "notebookPath = ipynbname.path()\n",
    "notebookDir = os.path.dirname(notebookPath)\n",
    "\n",
    "outDir = f'{notebookDir}/{notebookName}.out'\n",
    "os.makedirs(outDir, exist_ok=True)\n",
    "print(f'outDir:\\n{outDir}')\n",
    "\n",
    "imgOut = f'{outDir}/img'\n",
    "os.makedirs(imgOut, exist_ok=True)\n",
    "print(f'\\nimgOut :\\n{imgOut}')"
   ]
  },
  {
   "cell_type": "code",
   "execution_count": 2,
   "id": "aca7e53c-57bb-436d-81dc-e17b524a1242",
   "metadata": {},
   "outputs": [
    {
     "name": "stdout",
     "output_type": "stream",
     "text": [
      "ORIG_PYTHONPATH: :/private/home/aedavids/extraCellularRNA/src\n",
      "\n",
      "deconvolutionModules: /private/home/aedavids/extraCellularRNA/deconvolutionAnalysis/python\n",
      "\n"
     ]
    }
   ],
   "source": [
    "# setting the python path allows us to run python scripts from using\n",
    "# the CLI. \n",
    "PYTHONPATH = os.environ['PYTHONPATH']\n",
    "print(\"ORIG_PYTHONPATH: {}\\n\".format(PYTHONPATH))\n",
    "\n",
    "gitRepoRoot = !git rev-parse --show-toplevel\n",
    "gitRepoRoot = gitRepoRoot[0]\n",
    "\n",
    "#\n",
    "# add deconvolutionAnalysis modules\n",
    "#\n",
    "deconvolutionModules = f'{gitRepoRoot}/deconvolutionAnalysis/python'\n",
    "print(\"deconvolutionModules: {}\\n\".format(deconvolutionModules))\n",
    "\n",
    "PYTHONPATH = PYTHONPATH + f':{deconvolutionModules}'\n",
    "#print(\"PYTHONPATH: {}\\n\".format(PYTHONPATH))\n",
    "\n",
    "sys.path.append( str(deconvolutionModules) )\n",
    "#print(\"\\nsys.path:\\n{}\\n\".format(sys.path))"
   ]
  },
  {
   "cell_type": "code",
   "execution_count": 3,
   "id": "d8fa74ae-d346-4394-a505-ad5596b78b0f",
   "metadata": {},
   "outputs": [],
   "source": [
    "from pipeline.dataFactory.utilities import urlify"
   ]
  },
  {
   "cell_type": "markdown",
   "id": "b15fb905-6cae-4062-a9cd-6cbb90874bd0",
   "metadata": {},
   "source": [
    "## Simulated PCR data"
   ]
  },
  {
   "cell_type": "code",
   "execution_count": 4,
   "id": "e9c780a5-c848-417d-814b-f61e9fa45eb5",
   "metadata": {},
   "outputs": [
    {
     "data": {
      "text/html": [
       "<div>\n",
       "<style scoped>\n",
       "    .dataframe tbody tr th:only-of-type {\n",
       "        vertical-align: middle;\n",
       "    }\n",
       "\n",
       "    .dataframe tbody tr th {\n",
       "        vertical-align: top;\n",
       "    }\n",
       "\n",
       "    .dataframe thead th {\n",
       "        text-align: right;\n",
       "    }\n",
       "</style>\n",
       "<table border=\"1\" class=\"dataframe\">\n",
       "  <thead>\n",
       "    <tr style=\"text-align: right;\">\n",
       "      <th></th>\n",
       "      <th>g1</th>\n",
       "      <th>g2</th>\n",
       "      <th>g3</th>\n",
       "      <th>g4</th>\n",
       "    </tr>\n",
       "  </thead>\n",
       "  <tbody>\n",
       "    <tr>\n",
       "      <th>groundTruth</th>\n",
       "      <td>2</td>\n",
       "      <td>4</td>\n",
       "      <td>8</td>\n",
       "      <td>16</td>\n",
       "    </tr>\n",
       "    <tr>\n",
       "      <th>cycle1</th>\n",
       "      <td>4</td>\n",
       "      <td>8</td>\n",
       "      <td>16</td>\n",
       "      <td>32</td>\n",
       "    </tr>\n",
       "    <tr>\n",
       "      <th>cycle2</th>\n",
       "      <td>8</td>\n",
       "      <td>16</td>\n",
       "      <td>32</td>\n",
       "      <td>64</td>\n",
       "    </tr>\n",
       "    <tr>\n",
       "      <th>cycle3</th>\n",
       "      <td>16</td>\n",
       "      <td>32</td>\n",
       "      <td>64</td>\n",
       "      <td>128</td>\n",
       "    </tr>\n",
       "  </tbody>\n",
       "</table>\n",
       "</div>"
      ],
      "text/plain": [
       "             g1  g2  g3   g4\n",
       "groundTruth   2   4   8   16\n",
       "cycle1        4   8  16   32\n",
       "cycle2        8  16  32   64\n",
       "cycle3       16  32  64  128"
      ]
     },
     "execution_count": 4,
     "metadata": {},
     "output_type": "execute_result"
    }
   ],
   "source": [
    "transcriptCountsNP = np.array( \n",
    "                    [\n",
    "                        [2, 4, 8, 16],\n",
    "                        [2, 4, 8, 16], \n",
    "                        [2, 4, 8, 16],\n",
    "                        [2, 4, 8, 16],\n",
    "\n",
    "                    ])\n",
    "\n",
    "factorsNP = np.array( [1, 2, 4, 8] ).reshape(4,1)\n",
    "transcriptCountsNP = transcriptCountsNP * factorsNP\n",
    "\n",
    "transcriptCountCols = [\"g1\", \"g2\", \"g3\", \"g4\"]\n",
    "PCR_transcriptCountsDF = pd.DataFrame( \n",
    "                    transcriptCountsNP, \n",
    "                    index = [\"groundTruth\", \"cycle1\", \"cycle2\", \"cycle3\"],\n",
    "                    columns = transcriptCountCols\n",
    "                 )\n",
    "\n",
    "PCR_transcriptCountsDF"
   ]
  },
  {
   "cell_type": "code",
   "execution_count": 5,
   "id": "7e845ab9-3391-4247-ad2f-5fc3089efed0",
   "metadata": {},
   "outputs": [
    {
     "data": {
      "text/html": [
       "<div>\n",
       "<style scoped>\n",
       "    .dataframe tbody tr th:only-of-type {\n",
       "        vertical-align: middle;\n",
       "    }\n",
       "\n",
       "    .dataframe tbody tr th {\n",
       "        vertical-align: top;\n",
       "    }\n",
       "\n",
       "    .dataframe thead th {\n",
       "        text-align: right;\n",
       "    }\n",
       "</style>\n",
       "<table border=\"1\" class=\"dataframe\">\n",
       "  <thead>\n",
       "    <tr style=\"text-align: right;\">\n",
       "      <th></th>\n",
       "      <th>g1</th>\n",
       "      <th>g2</th>\n",
       "      <th>g3</th>\n",
       "      <th>g4</th>\n",
       "    </tr>\n",
       "  </thead>\n",
       "  <tbody>\n",
       "    <tr>\n",
       "      <th>groundTruth</th>\n",
       "      <td>0.066667</td>\n",
       "      <td>0.133333</td>\n",
       "      <td>0.266667</td>\n",
       "      <td>0.533333</td>\n",
       "    </tr>\n",
       "    <tr>\n",
       "      <th>cycle1</th>\n",
       "      <td>0.066667</td>\n",
       "      <td>0.133333</td>\n",
       "      <td>0.266667</td>\n",
       "      <td>0.533333</td>\n",
       "    </tr>\n",
       "    <tr>\n",
       "      <th>cycle2</th>\n",
       "      <td>0.066667</td>\n",
       "      <td>0.133333</td>\n",
       "      <td>0.266667</td>\n",
       "      <td>0.533333</td>\n",
       "    </tr>\n",
       "    <tr>\n",
       "      <th>cycle3</th>\n",
       "      <td>0.066667</td>\n",
       "      <td>0.133333</td>\n",
       "      <td>0.266667</td>\n",
       "      <td>0.533333</td>\n",
       "    </tr>\n",
       "  </tbody>\n",
       "</table>\n",
       "</div>"
      ],
      "text/plain": [
       "                   g1        g2        g3        g4\n",
       "groundTruth  0.066667  0.133333  0.266667  0.533333\n",
       "cycle1       0.066667  0.133333  0.266667  0.533333\n",
       "cycle2       0.066667  0.133333  0.266667  0.533333\n",
       "cycle3       0.066667  0.133333  0.266667  0.533333"
      ]
     },
     "execution_count": 5,
     "metadata": {},
     "output_type": "execute_result"
    }
   ],
   "source": [
    "byCols = 1\n",
    "rowSumsSeries = PCR_transcriptCountsDF.sum(axis=byCols) \n",
    "byIndex = 0\n",
    "propDistributionDF = PCR_transcriptCountsDF.loc[:, transcriptCountCols].div( rowSumsSeries, axis=byIndex )\n",
    "\n",
    "propDistributionDF"
   ]
  },
  {
   "cell_type": "code",
   "execution_count": 6,
   "id": "e5c4db78-7f96-4dbe-b18c-1f17dd596038",
   "metadata": {},
   "outputs": [
    {
     "name": "stdout",
     "output_type": "stream",
     "text": [
      "saved image to /private/home/aedavids/extraCellularRNA/juypterNotebooks/correctPCRBiasInRNAExperiments.out/imgEffect-of-PCR-cycling-on-transcript-count-distribution.png\n"
     ]
    },
    {
     "data": {
<<<<<<< HEAD
      "image/png": "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",
=======
      "image/png": "iVBORw0KGgoAAAANSUhEUgAABDQAAAH5CAYAAAB+oG63AAAAOXRFWHRTb2Z0d2FyZQBNYXRwbG90bGliIHZlcnNpb24zLjcuMSwgaHR0cHM6Ly9tYXRwbG90bGliLm9yZy/bCgiHAAAACXBIWXMAAA9hAAAPYQGoP6dpAAB/LUlEQVR4nO3deVxV1f7/8fcRZdAEFRTREMlMvaJp4DxrUThk3bqZlmZiaZRdRTPJWyp1o7KIBkHNlCw1KrVJG7jlmJpJ2uTQpGIGmkPiCIrr94c/ztcjg4BHDhtez8djP+4966y992efcz7k+Zy117IZY4wAAAAAAAAspIqrAwAAAAAAACgpChoAAAAAAMByKGgAAAAAAADLoaABAAAAAAAsh4IGAAAAAACwHAoaAAAAAADAcihoAAAAAAAAy6GgAQAAAAAALIeCBgAAAAAAsBwKGgBgYcnJybLZbIVuK1eutPc9dOiQ7rzzTtWrV082m0233HKLJGnXrl3q16+f6tSpI5vNprFjxzo9zsTERCUnJzv9uDk5ORo9erQCAgLk5uamNm3aFNp3+PDhDq+Nh4eHmjVrpilTpujUqVP5+q9Zs0Z33HGHGjZsKHd3d/n4+Khz585KSkrS8ePH7f0aN27scNwaNWrouuuu06uvvipjjNOv2RkaN26s4cOH2x/v2rVLNpvtsrxH5cXWrVs1depU7dq1y9WhXHYrV67Ml/8l8fTTT+v99993akyu5Ky/PzabTVOnTrU/zvv7W9LPVGle34LO1bNnT4WEhJToOBezfPlyh2s834V/NwCgPKjq6gAAAJdu3rx5at68eb72f/zjH/b//+STT2rp0qWaO3eumjRpojp16kiSxo0bp6+//lpz585V/fr1FRAQ4PT4EhMT5efn5/R/DCclJWnWrFl65ZVXFBoaqiuuuKLI/l5eXvryyy8lSYcPH9aiRYsUGxur7du3KyUlxd5vypQpio2NVefOnfXkk0+qSZMmOnHihNatW6epU6fq559/1osvvmjv36VLFz3//POSpD///FPx8fEaM2aMsrKy9Nhjjzn1mi+HgIAArV+/Xk2aNHF1KJfN1q1bNW3aNPXs2VONGzd2dTiX1XXXXaf169c75H9JPP3007r99tvtRU+ru1x/f/r166f169eX+G9maV7f0p6rpJYvX64ZM2YUWNRYunSpvL29L+v5AaCkKGgAQAUQEhKisLCwIvv8+OOPatKkie6666587e3bt7fkl5cff/xRXl5eeuihh4rVv0qVKurYsaP9cUREhHbt2qV33nlH8fHxatiwod59913FxsYqMjJSr732mmw2m0P/iRMnav369Q7HrVWrlsNxr7/+ejVq1EizZs2yREHDw8PDIX5IJ06cUPXq1V0dRomcPn1aNptN3t7evJ9loG7duqpbt+5lPcfJkyfl6elZJue6mLZt27r0/ABQEG45AYAKLu92gv/973/atm2bw+0oNptNv/76qz755BN7e96Q5qysLE2YMEHBwcFyd3dXw4YNNXbsWIfbLSTp7NmzeuWVV9SmTRt5eXnZv9x/+OGHks4NU/7pp5+0atUq+zku9gv5qVOnFBMT43DuBx98UH///be9j81m05w5c3Ty5En7cUszrDzvi9/u3bslSbGxsapdu7Zefvllh2JGnpo1ayo8PLzIY3p7e+uaa67Rvn37ihVDdna2YmNj1aJFC3l6esrX11e9evXSunXrJEl9+vRR8+bN893CYozR1VdfrX79+hX7WAUp6JaTqVOnymaz6aefftLgwYPl4+Mjf39/jRgxQkeOHHHY/++//1ZkZKTq1KmjK664Qv369dPvv/+eb4h+YdLT03X33XerXr168vDwUIsWLfTCCy/o7Nmz+WJ8/vnnFR8fr+DgYF1xxRXq1KmTNmzYUOTxk5OT9a9//UuS1KtXr3yfl7yh+6tXr1bnzp1VvXp1jRgxQpKUkpKi8PBwBQQEyMvLSy1atNCkSZPy5cHw4cN1xRVX6Ndff1Xfvn11xRVXKDAwUOPHj1d2drZD36SkJF177bW64oorVLNmTTVv3jxf4Wvv3r26//77FRgYKHd3dzVo0EC33367/TOVl79vvvmmxo8fr4YNG8rDw0O//vprgbec5MX3008/qU+fPqpRo4bq1q2rhx56SCdOnLD3s9lsOn78uN544w3769SzZ88iX9/ifOaKk9N55y/oM3Ph7Q55t2CsWLFCDzzwgPz8/OTr66t//vOf+vPPPx32K+nfn6ysLN13333y9fXVFVdcoZtuukk///xzvn4F3QayefNm9e/f3/5ZbtCggfr166c//vjDfn2Fvb55x/v88881YsQI1a1bV9WrV1d2dnaRt7esWbNGHTt2lJeXlxo2bKjHH39cubm59ucLuwXpwrwfPny4ZsyYYY/zwv8mFHTLyeXOXQC4GEZoAEAFkJubqzNnzji02Ww2ubm52W8niIqK0pEjR7RgwQJJ525HWb9+vW699VY1adLEfstEQECATpw4oR49euiPP/7QY489ptatW+unn37SE088oR9++EH/+9//7F/2hw8frrfeekuRkZGKjY2Vu7u7vv32W/s/gpcuXarbb79dPj4+SkxMlHRuREBhjDG65ZZb9MUXXygmJkbdunXT999/rylTpmj9+vVav369PDw8tH79ej355JNasWKF/TaS0twy8euvv0o692trRkaGfvzxRw0aNOiSfp0/c+aM9uzZo2uuuaZYfSMiIrRmzRqNHTtWvXv31pkzZ7Rhwwalp6erc+fO+ve//62BAwfqiy++0PXXX2/f95NPPtFvv/2ml19+udjHKqnbbrtNgwYNUmRkpH744QfFxMRIkubOnSvpXEFrwIAB2rRpk6ZOnWq/3eGmm24q1vH/+usvde7cWTk5OXryySfVuHFjffzxx5owYYJ+++03+2cmz4wZM9S8eXMlJCRIkh5//HH17dtXO3fulI+PT4Hn6Nevn55++mk99thjmjFjhq677jpJjp+XjIwM3X333Zo4caKefvppValy7jefX375RX379tXYsWNVo0YNbd++Xc8++6w2btxo/9zlOX36tG6++WZFRkZq/PjxWr16tZ588kn5+PjoiSeekCS9/fbbioqK0pgxY/T888+rSpUq+vXXX7V161b7cfbu3at27drp9OnT9vw7ePCgPvvsMx0+fFj+/v72vjExMerUqZNmzpypKlWqqF69esrMzCzwdTh9+rT69u2rUaNGadKkSVq3bp2eeuop7d69Wx999JEkaf369erdu7d69eqlxx9/XJKKvM2gOJ+54uZ0aYwcOVL9+vXTwoULtWfPHj3yyCO6++677e9Naf/+rFu3Tk888YTatWunr776ShEREReN5fjx47rhhhsUHBysGTNmyN/fX5mZmVqxYoWOHj0qqXiv74gRI9SvXz+9+eabOn78uKpVq1boOTMzM3XnnXdq0qRJio2N1bJly/TUU0/p8OHDevXVVy8a8/kef/xxHT9+XO+9957DKLTCbnMpi9wFgIsyAADLmjdvnpFU4Obm5ubQt0ePHqZly5b5jhEUFGT69evn0BYXF2eqVKlivvnmG4f29957z0gyy5cvN8YYs3r1aiPJTJ48ucg4W7ZsaXr06FGsa/r000+NJPPcc885tKekpBhJZvbs2fa2e+65x9SoUaNYx83re/r0aXP69Gnz119/mZdeesnYbDbTrl07Y4wxGzZsMJLMpEmTinVMY869fn379rUfd/fu3ea+++4z1apVMx9//PFF958/f76RZF577bVC++Tm5pqrrrrKDBw40KE9IiLCNGnSxJw9e7bYx8qL+Z577rE/3rlzp5Fk5s2bZ2+bMmVKge9DVFSU8fT0tJ9z2bJlRpJJSkpy6BcXF2ckmSlTphQZy6RJk4wk8/XXXzu0P/DAA8Zms5kdO3Y4xNiqVStz5swZe7+NGzcaSWbRokVFnufdd981ksyKFSvyPdejRw8jyXzxxRdFHuPs2bPm9OnTZtWqVUaS+e677+zP3XPPPUaSeeeddxz26du3r2nWrJn98UMPPWRq1apV5HlGjBhhqlWrZrZu3VponxUrVhhJpnv37oU+d/615sX30ksvOfT973//aySZtWvX2ttq1Kjh8PkoSnE+cyXJ6cI+Mxd+ZvP+9kVFRTn0e+6554wkk5GRYW8ryd+fTz75pMjX6fzY8mLYuXOnMcaYTZs2GUnm/fffL/Ichb2+eccbNmxYoc/lncuY//vcfvDBBw5977vvPlOlShWze/duY0zBnwdjCs77Bx980BT29eDC96CschcAisItJwBQAcyfP1/ffPONw/b111+X+ngff/yxQkJC1KZNG505c8a+3XjjjQ5Dlz/55BNJ0oMPPuiMy5Ak+y+rFw5t/te//qUaNWroiy++KPWx837trFatmurWrauxY8cqIiJCS5cuvZSQtXz5cvtxg4KC9Nprr+mVV15xuBWkMJ988ok8PT3ttzgUpEqVKnrooYf08ccfKz09XZL022+/6dNPP1VUVJR9tExxjlVSN998s8Pj1q1b69SpU9q/f78kadWqVZKkO+64w6Hf4MGDi3X8L7/8Uv/4xz/Uvn17h/bhw4fLGJNvFES/fv3k5ubmEI/0f7cMlVbt2rXVu3fvfO2///67hgwZovr168vNzU3VqlVTjx49JEnbtm1z6Guz2TRgwACHttatWzvE1r59e/39998aPHiwPvjgAx04cCDfOT/55BP16tVLLVq0uGjct912W7GuL8+Fc+gMGTJEkrRixYoSHSdPcT5zlzOnC/p8SqX/POS9DoW9TkW5+uqrVbt2bT366KOaOXOmw6ibkijJe1qzZs18r8GQIUN09uxZrV69ulTnL67ykrsAKjcKGgBQAbRo0UJhYWEOW2hoaKmPt2/fPn3//ff2L+l5W82aNWWMsX8J++uvv+Tm5qb69es761J08OBBVa1aNd8EeDabTfXr19fBgwdLfWwvLy97wef777/X33//rWXLlqlhw4aSpEaNGkmSdu7cWaLjdu3aVd988402bNigN998U40bN9ZDDz2ktWvXXnTfv/76Sw0aNLDf4lCYESNGyMvLSzNnzpR0bvi2l5eXwxfJ4h6rJHx9fR0e5w3XP3nypKT/e7/yVs3Jc/5tEUU5ePBggUPaGzRoYH++JPGUVkExHDt2TN26ddPXX3+tp556SitXrtQ333yjJUuWFHjO6tWry9PTM1985y8LPHToUM2dO1e7d+/Wbbfdpnr16qlDhw5KTU219/nrr7905ZVXljruwlStWjXf65eXu6XNq+J85i5nTjv785AXa2GvU1F8fHy0atUqtWnTRo899phatmypBg0aaMqUKTp9+nSxYyjJe1pQnl3qe1pc5SV3AVRuzKEBAMjHz89PXl5e9nkSCnpeOjfvRG5urjIzM522nKCvr6/OnDmjv/76y+ELkDFGmZmZateuXamPXaVKlSJXgwkICFCrVq30+eefl2iVCx8fH/txO3TooA4dOujaa69VVFSUtmzZUuSXvbp162rt2rU6e/Zskf18fHx0zz33aM6cOZowYYLmzZunIUOGqFatWiU+ljPlvV+HDh1yKGoUNo9DQftnZGTka8+b2DHvs3a5FTQB7Jdffqk///xTK1eutI/KkJRvIsuSuvfee3Xvvffq+PHjWr16taZMmaL+/fvr559/VlBQkOrWrWufRLI0cRfmzJkzOnjwoMMXy7z36cIvm8VVnM9cSXLaw8Mj3ySq0uX/cn5hrIW9ThfTqlUrvf322zLG6Pvvv1dycrJiY2Pl5eWlSZMmFesYJXlPC5p4+ML3NK/IduHrWtDooJIoL7kLoHJjhAYAIJ/+/fvrt99+k6+vb76RH2FhYfZVAvImyktKSiryeB4eHsX+Fa5Pnz6SpLfeesuhffHixTp+/Lj9+cvl8ccf1+HDh/Xwww/nW1VEOver/eeff17kMZo2baqJEyfqhx9+UEpKSpF9IyIidOrUqWKt0PLwww/rwIEDuv322/X333/nW662JMdylrwv+hde59tvv12s/fv06aOtW7fq22+/dWifP3++bDabevXq5ZQ4S/NrcN4XywsnkZw1a5ZTYqpRo4YiIiI0efJk5eTk6KeffpJ07n1csWKFduzY4ZTznC9vUuA8CxculCSHlUxKkq/F+cyVJKcbN26s77//3qHfl19+qWPHjhUrnoKU5HryPm+FvU7FZbPZdO211+rFF19UrVq1HD7fJYnnYo4ePWpfUer8WKtUqaLu3btLkv3v9YWv64X75cUmFS9Pyip3AaAojNAAgArgxx9/zLfKiXRuFYcLh3kXx9ixY7V48WJ1795d48aNU+vWrXX27Fmlp6fr888/1/jx49WhQwd169ZNQ4cO1VNPPaV9+/apf//+8vDw0ObNm1W9enWNGTNG0v/9apmSkqKrrrpKnp6eatWqVYHnvuGGG3TjjTfq0UcfVVZWlrp06WJfEaFt27YaOnRoia+nJP71r3/p8ccf15NPPqnt27crMjJSTZo00YkTJ/T1119r1qxZGjRo0EWXbp0wYYJmzpypadOm6Y477nC4d/x8gwcP1rx58zR69Gjt2LFDvXr10tmzZ/X111+rRYsWuvPOO+19r7nmGt1000365JNP1LVrV1177bWlPpaz3HTTTerSpYvGjx+vrKwshYaGav369Zo/f74kXXSkyLhx4zR//nz169dPsbGxCgoK0rJly5SYmKgHHnigWCvFFEdISIgkafbs2apZs6Y8PT0VHBxc5MiEzp07q3bt2ho9erSmTJmiatWqacGCBfruu+9KHcd9990nLy8vdenSRQEBAcrMzFRcXJx8fHzsIxViY2P1ySefqHv37nrsscfUqlUr/f333/r0008VHR2t5s2bl+rc7u7ueuGFF3Ts2DG1a9fOvspJRESEunbtau/XqlUrrVy5Uh999JECAgJUs2ZNNWvWrMBjFuczV5KcHjp0qB5//HE98cQT6tGjh7Zu3apXX331klbBKMnfn/DwcHXv3l0TJ07U8ePHFRYWpq+++kpvvvnmRc/z8ccfKzExUbfccouuuuoqGWO0ZMkS/f3337rhhhsc4inu63sxvr6+euCBB5Senq5rrrlGy5cv12uvvaYHHnjAfgtd/fr1df311ysuLk61a9dWUFCQvvjiC/utUxe+VpL07LPPKiIiQm5ubmrdurXc3d3z9S2r3AWAIrluPlIAwKUqapUTXbDyQElWOTHGmGPHjpn//Oc/plmzZsbd3d34+PiYVq1amXHjxpnMzEx7v9zcXPPiiy+akJAQe79OnTqZjz76yN5n165dJjw83NSsWdNIMkFBQUVe18mTJ82jjz5qgoKCTLVq1UxAQIB54IEHzOHDhx36lWaVk+JatWqVuf32201AQICpVq2a8fb2Np06dTLTp083WVlZ9n6FvX7GGDNjxgwjybzxxhtFnuvkyZPmiSeeME2bNjXu7u7G19fX9O7d26xbty5f3+TkZCPJvP3226U+VklWOfnrr78cjl/QaguHDh0y9957r6lVq5apXr26ueGGG+wrxly4WkRBdu/ebYYMGWJ8fX1NtWrVTLNmzcz06dNNbm5uvhinT5+eb38VYzUVY4xJSEgwwcHBxs3NzeF6C8sNY4xZt26d6dSpk6levbqpW7euGTlypPn222/zvV6Ffb7yXsc8b7zxhunVq5fx9/c37u7upkGDBuaOO+4w33//vcN+e/bsMSNGjDD169c31apVs/fbt2+fMeb/Vq549913852zsFVOatSoYb7//nvTs2dP4+XlZerUqWMeeOABc+zYMYf9t2zZYrp06WKqV69uJF10hZDifOaKm9PZ2dlm4sSJJjAw0Hh5eZkePXqYLVu2FLrKyYUrMRV07SX9+/P333+bESNGOHyet2/fftFVTrZv324GDx5smjRpYry8vIyPj49p3769SU5OLtbrW9g1FXQuY/7vc7ty5UoTFhZmPDw8TEBAgHnsscfM6dOnHfbPyMgwt99+u6lTp47x8fExd999t31VlvM/x9nZ2WbkyJGmbt26xmazOZzzwvfAmLLLXQAojM2YAsbTAgCAcum2227Thg0btGvXLlWrVs3V4RRq4cKFuuuuu/TVV1+pc+fOrg6n0hs+fLjee++9S7p1AwCA8oZbTgAAKOeys7P17bffauPGjVq6dKni4+PLVTFj0aJF2rt3r1q1aqUqVapow4YNmj59urp3704xAwAAXDYUNAAAKOcyMjLUuXNneXt7a9SoUfa5ScqLmjVr6u2339ZTTz2l48ePKyAgQMOHD9dTTz3l6tAAAEAFxi0nAAAAAADAcli2FQAAAAAAWA4FDQAAAAAAYDkUNAAAAAAAgOVQ0AAAAAAAAJZDQQMAAAAAAFgOBQ0AAAAAAGA5FDQAAAAAAIDlUNAAAAAAAACWQ0EDAAAAAABYDgUNAAAAAABgORQ0AAAAAACA5VDQAAAAAAAAlkNBAwAAAAAAWA4FDQAAAAAAYDkUNIAKIDk5WTabTbt27bL//4ttjRs3vuTzLly4UAkJCfnad+3aJZvNpueff/6SzwFUdCtXrpTNZtPKlStLtf9//vMf9e/fXw0bNpTNZtPw4cOdGh+Ai7uUPE5LS9ODDz6oVq1aqWbNmvL399f111+vL7/80vmBAijSpeTynj17dOutt+qqq65SjRo15OPjo7Zt2+rVV1/VmTNnnB8sJElVXR0AAOfq16+f1q9f79DWqVMn3X777Ro/fry9zcPD45LPtXDhQv34448aO3bsJR8LQOm8+OKLat26tW6++WbNnTvX1eEAKKFFixZp48aNGjFihK699lodP35cM2fOVJ8+ffTGG29o2LBhrg4RQDEcP35c3t7eevzxx9WoUSPl5ORo+fLlGjNmjLZs2aI5c+a4OsQKiYIGUEzGGJ06dUpeXl6uDqVIdevWVd26dfO1+/v7q2PHjoXul5ubqzNnzjil0AGg7Bw9elRVqpwbcPnmm2+6OBoAJTVx4sR8Ixr79u2r6667TrGxsRQ0AIto3ry53njjDYe2iIgI7d+/X2+88YZmzJjBv7MvA245QaX0wQcfqHXr1vLw8NBVV12ll156SVOnTpXNZrP3sdlseuihhzRz5ky1aNFCHh4e9j9Sa9euVZ8+fVSzZk1Vr15dnTt31rJlyxzOceHx8px/e0iexo0bq3///vr000913XXXycvLS82bNy/w19YNGzaoS5cu8vT0VIMGDRQTE6PTp0+X6Przbgl57rnn9NRTTyk4OFgeHh5asWJFgfFJ+Yfg9ezZU8uWLdPu3bsdbmW5UHx8vIKDg3XFFVeoU6dO2rBhQ4liBVxl+/btGjx4sPz9/eXh4aFGjRpp2LBh2rFjh6pWraq4uLh8+6xevVo2m03vvvvuRY+TnZ1d5Pk3bdqkm2++WXXq1JGnp6fatm2rd955J1+/vGIGgPyskMf16tXLt5+bm5tCQ0O1Z8+eUl45ULFYIZcLU7duXVWpUkVubm4lu2gUCyM0UOl8+umn+uc//6nu3bsrJSVFZ86c0fPPP699+/bl6/v+++9rzZo1euKJJ1S/fn3Vq1dPq1at0g033KDWrVvr9ddfl4eHhxITEzVgwAAtWrRIgwYNKlVc3333ncaPH69JkybJ399fc+bMUWRkpK6++mp1795dkrR161b16dNHjRs3VnJysqpXr67ExEQtXLiwVOd8+eWXdc011+j555+Xt7e3mjZtqszMzGLtm5iYqPvvv1+//fabli5dWmCfGTNmqHnz5vZ5Nh5//HH17dtXO3fulI+PT6liBsrCd999p65du8rPz0+xsbFq2rSpMjIy9OGHH6pBgwa6+eabNXPmTE2cONHhHyivvvqqGjRooFtvvfWix8nJySn0l5oVK1bopptuUocOHTRz5kz5+Pjo7bff1qBBg3TixAnmyQCKwcp5fObMGa1Zs0YtW7Z06msCWJHVctkYo9zcXB09elSff/65kpOTNX78eFWtylfvy8IAlUy7du1MYGCgyc7OtrcdPXrU+Pr6mvNTQpLx8fExhw4dcti/Y8eOpl69eubo0aP2tjNnzpiQkBBz5ZVXmrNnzxpjjJkyZYopKMXmzZtnJJmdO3fa24KCgoynp6fZvXu3ve3kyZOmTp06ZtSoUfa2QYMGGS8vL5OZmelw7ubNm+c75vkkmQcffND+eOfOnUaSadKkicnJyblofMYYs2LFCiPJrFixwt7Wr18/ExQUlO98ecdv1aqVOXPmjL1948aNRpJZtGhRgXEC5UXv3r1NrVq1zP79+wt8Pi8fli5dam/bu3evqVq1qpk2bVqxj3P+sc7PrebNm5u2bdua06dPO/Tt37+/CQgIMLm5uQUeq0aNGuaee+65+AUClYBV89gYYyZPnmwkmffff/8iVwlUfFbL5bi4OCPJSDI2m81Mnjy5BFeLkmKcKiqV48ePa9OmTbrlllvk7u5ub7/iiis0YMCAfP179+6t2rVrO+z/9ddf6/bbb9cVV1xhb3dzc9PQoUP1xx9/aMeOHaWKrU2bNmrUqJH9saenp6655hrt3r3b3rZixQr16dNH/v7+Ducu7aiQm2++WdWqVSvVvsXRr18/h0p569atJcnhmoDy5sSJE1q1apXuuOOOAuejkc7dcnXttddqxowZ9raZM2fKZrPp/vvvL/ZxCvLrr79q+/btuuuuuySd+6U2b+vbt68yMjJK/XcGqCysnMdz5szRf//7X40fP14DBw4s9jmBisiKuTx8+HB98803+uyzzzRx4kRNnz5dY8aMKemlo5goaKBSOXz4sIwxDgWBPAW1BQQEFLj/he2S1KBBA0nSwYMHSxWbr69vvjYPDw+dPHnS/vjgwYOqX79+vn4FtRVHQdfhTBdeU95QvvOvCShvDh8+rNzcXF155ZVF9nv44Yf1xRdfaMeOHTp9+rRee+013X777fZ8LO5xLpR3+9uECRNUrVo1hy0qKkqSdODAgVJcGVB5WDWP582bp1GjRun+++/X9OnTS3ROoCKyYi7Xr19fYWFhCg8P1zPPPKPY2Fi9+uqr2rx5c4nOjeLhRh5UKrVr15bNZitwvoyC5o64cJLL2rVrq0qVKsrIyMjX988//5Qk+fn5STo3wkKSsrOzHe7Ju5QvIr6+vgXGWdx5Ly5U0CSe58d9Pr5AobKoU6eO3Nzc9McffxTZb8iQIXr00Uc1Y8YMdezYUZmZmXrwwQdLfJwL5f0NiYmJ0T//+c8C+zRr1qxExwQqGyvm8bx58zRy5Ejdc8899l+XgcrOirl8ofbt20uSfv75Z7Vt27ZE58fFMUIDlUqNGjUUFham999/Xzk5Ofb2Y8eO6eOPPy7W/h06dNCSJUscRhmcPXtWb731lq688kpdc801ks6tXCJJ33//vcMxPvroo1LH36tXL33xxRcOBZnc3FylpKSU+pgXKizuDz/8MF/fC0eQABWBl5eXevTooXfffbfIQp6np6fuv/9+vfHGG4qPj1ebNm3UpUuXEh/nQs2aNVPTpk313XffKSwsrMCtZs2al3SNQEVntTxOTk7WyJEjdffdd2vOnDkUM4D/z2q5XJAVK1ZIkq6++upinxfFxwgNVDqxsbHq16+fbrzxRv373/9Wbm6upk+friuuuEKHDh266P5xcXG64YYb1KtXL02YMEHu7u5KTEzUjz/+qEWLFtn/EdK3b1/VqVNHkZGRio2NVdWqVZWcnHxJS7D95z//0YcffqjevXvriSeeUPXq1TVjxgwdP3681Me8ULt27dSsWTNNmDBBZ86cUe3atbV06VKtXbs2X99WrVppyZIlSkpKUmhoqKpUqaKwsDCnxQK4Snx8vLp27aoOHTpo0qRJuvrqq7Vv3z59+OGHmjVrlv0fL1FRUXruueeUlpamOXPmlPo4F5o1a5YiIiJ04403avjw4WrYsKEOHTqkbdu26dtvv3VYgm7VqlX666+/JJ0rcO7evVvvvfeeJKlHjx4lulcYqEisksfvvvuuIiMj1aZNG40aNUobN250OE7btm0LXX0BqAyskstTpkzRvn371L17dzVs2FB///23Pv30U7322mv617/+pdDQ0Mv3IlVmrp6VFHCFpUuXmlatWhl3d3fTqFEj88wzz5iHH37Y1K5d295HF6wMcr41a9aY3r17mxo1ahgvLy/TsWNH89FHH+Xrt3HjRtO5c2dTo0YN07BhQzNlyhQzZ86cAlc56devX779e/ToYXr06OHQ9tVXX5mOHTsaDw8PU79+ffPII4+Y2bNnl2qVk+nTpxfY/+effzbh4eHG29vb1K1b14wZM8YsW7Ys36zPhw4dMrfffrupVauWsdls9lVdijq+JDNlypQCzwuUJ1u3bjX/+te/jK+vr/1vxfDhw82pU6cc+vXs2dPUqVPHnDhxolTHKWhGdWOM+e6778wdd9xh6tWrZ6pVq2bq169vevfubWbOnOnQr0ePHvbZ1C/cLjwmUNlYIY/vueeeQnO4qP+2A5WJFXL5ww8/NNdff73x9/c3VatWNVdccYVp3769efnll/OtkALnsRljTJlVT4By6vTp02rTpo0aNmyozz//3NXhALCI/fv3KygoSGPGjNFzzz3n6nAAlAJ5DFQM5HLlxC0nqJQiIyN1ww03KCAgQJmZmZo5c6a2bduml156ydWhAbCAP/74Q7///rumT5+uKlWq6N///rerQwJQQuQxUDGQy5Ubk4KiUjp69KgmTJig8PBwRUZGKjc3V8uXL9f111/v6tAAWMCcOXPUs2dP/fTTT1qwYIEaNmzo6pAAlBB5DFQM5HLlxi0nAAAAAADAchihYSGJiYkKDg6Wp6enQkNDtWbNmiL7z5gxQy1atJCXl5eaNWum+fPnl1GkAIpCLgMAAACXjjk0LCIlJUVjx45VYmKiunTpYl8+aOvWrWrUqFG+/klJSYqJidFrr72mdu3aaePGjbrvvvtUu3ZtDRgwwAVXAEAilwEAAABn4ZYTi+jQoYOuu+46JSUl2dtatGihW265RXFxcfn6d+7cWV26dNH06dPtbWPHjtWmTZu0du3aMokZQH7kMgAAAOAcjNCwgJycHKWlpWnSpEkO7eHh4Vq3bl2B+2RnZ8vT09OhzcvLSxs3btTp06dVrVq1AvfJzs62Pz579qwOHTokX19f2Ww2J1wJUPEYY3T06FE1aNBAVaoUfRcfuQyUXyXJZVc4e/as/vzzT9WsWZM8BgpR3vNYIpeB4ihJLlPQsIADBw4oNzdX/v7+Du3+/v7KzMwscJ8bb7xRc+bM0S233KLrrrtOaWlpmjt3rk6fPq0DBw4oICAg3z5xcXGaNm3aZbkGoKLbs2ePrrzyyiL7kMtA+VecXHaFP//8U4GBga4OA7CE8prHErkMlERxcpmChoVcWMU1xhRa2X388ceVmZmpjh07yhgjf39/DR8+XM8995zc3NwK3CcmJkbR0dH2x0eOHFGjRo20Z88eeXt7O+9CgAokKytLgYGBqlmzZrH3IZeB8qc0uVyW8uIij4HClfc8lshloDhKkssUNCzAz89Pbm5u+X7B3b9/f75fevN4eXlp7ty5mjVrlvbt26eAgADNnj1bNWvWlJ+fX4H7eHh4yMPDI1+7t7c3f3CBiyjOsFFyGSj/yusQ8Ly4yGPg4sprHkvkMlASxcnl8nlzGRy4u7srNDRUqampDu2pqanq3LlzkftWq1ZNV155pdzc3PT222+rf//+5faeQqCiI5eBioPllwEAcD1GaFhEdHS0hg4dqrCwMHXq1EmzZ89Wenq6Ro8eLencEPO9e/fa/4H0888/a+PGjerQoYMOHz6s+Ph4/fjjj3rjjTdceRlApUcuA9bH8ssAAJQPFDQsYtCgQTp48KBiY2OVkZGhkJAQLV++XEFBQZKkjIwMpaen2/vn5ubqhRde0I4dO1StWjX16tVL69atU+PGjV10BQAkchmoCOLj4xUZGamRI0dKkhISEvTZZ58pKSmpwOWX33zzTY0aNUqDBg2SJF111VXasGGDnn32WQoaAABcAgoaFhIVFaWoqKgCn0tOTnZ43KJFC23evLkMogJQUuQyYF1ltfwyAAC4OG7ABgAAKKZLWX45LS1Nxhht2rTJYfnlgmRnZysrK8thAwAAjihoAAAAlFBJl1+OiIhQx44dVa1aNQ0cOFDDhw+XpEKXX46Li5OPj499CwwMdGr8AABUBBQ0AAAAiulSll8+ceKEdu3apfT0dDVu3LjI5ZdjYmJ05MgR+7Znzx6nXwsAAFZHQQMAAKCYymr5ZQ8PD3l7eztsAADAEZOCAgAAlADLLwMAUD5Q0AAAACgBll8GAKB8oKABAABQQiy/DACA6zGHBgAAAAAAsBwKGgAAAAAAwHIoaAAAAAAAAMuhoAEAAAAAACyHSUEBAAAA2DWetMzVIRRo1zP9XB0CYBnlNY8l5+YyIzQAAAAAAIDlUNAAAAAAAACWQ0EDAAAAAABYDgUNAAAAAABgORQ0AAAAAACA5VDQAAAAAAAAlkNBAwAAAAAAWA4FDQAAAAAAYDkUNAAAAAAAgOVQ0AAAAAAAAJZDQQMAAABApZSYmKjg4GB5enoqNDRUa9asKbL/jBkz1KJFC3l5ealZs2aaP39+GUUKoCBVXR0AAAAAAJS1lJQUjR07VomJierSpYtmzZqliIgIbd26VY0aNcrXPykpSTExMXrttdfUrl07bdy4Uffdd59q166tAQMGuOAKADBCAwAAAEClEx8fr8jISI0cOVItWrRQQkKCAgMDlZSUVGD/N998U6NGjdKgQYN01VVX6c4771RkZKSeffbZMo4cQB4KGgAAAAAqlZycHKWlpSk8PNyhPTw8XOvWrStwn+zsbHl6ejq0eXl5aePGjTp9+nSh+2RlZTlsAJyHggYAAACASuXAgQPKzc2Vv7+/Q7u/v78yMzML3OfGG2/UnDlzlJaWJmOMNm3apLlz5+r06dM6cOBAgfvExcXJx8fHvgUGBjr9WoDKjIIGAAAAgErJZrM5PDbG5GvL8/jjjysiIkIdO3ZUtWrVNHDgQA0fPlyS5ObmVuA+MTExOnLkiH3bs2ePU+MHKjsKGgAAAAAqFT8/P7m5ueUbjbF///58ozbyeHl5ae7cuTpx4oR27dql9PR0NW7cWDVr1pSfn1+B+3h4eMjb29thA+A8FDQAAAAAVCru7u4KDQ1VamqqQ3tqaqo6d+5c5L7VqlXTlVdeKTc3N7399tvq37+/qlThaxXgCizbCgAAAKDSiY6O1tChQxUWFqZOnTpp9uzZSk9P1+jRoyWdu11k7969mj9/viTp559/1saNG9WhQwcdPnxY8fHx+vHHH/XGG2+48jKASo1SooUkJiYqODhYnp6eCg0N1Zo1a4rsv2DBAl177bWqXr26AgICdO+99+rgwYNlFC2AwpDLAAC43qBBg5SQkKDY2Fi1adNGq1ev1vLlyxUUFCRJysjIUHp6ur1/bm6uXnjhBV177bW64YYbdOrUKa1bt06NGzd20RUAoKBhESkpKRo7dqwmT56szZs3q1u3boqIiHD4I3u+tWvXatiwYYqMjNRPP/2kd999V998841GjhxZxpEDOB+5DABA+REVFaVdu3YpOztbaWlp6t69u/255ORkrVy50v64RYsW2rx5s06cOKEjR47o/fffV7NmzVwQNYA8FDQsIj4+XpGRkRo5cqRatGihhIQEBQYGKikpqcD+GzZsUOPGjfXwww8rODhYXbt21ahRo7Rp06YyjhzA+chlAAAAwDkoaFhATk6O0tLSFB4e7tAeHh6udevWFbhP586d9ccff2j58uUyxmjfvn1677331K9fv7IIGUAByGUAAADAeShoWMCBAweUm5ubbwkpf3//fEtN5encubMWLFigQYMGyd3dXfXr11etWrX0yiuvFHqe7OxsZWVlOWwAnIdcBgAAAJyHgoaF2Gw2h8fGmHxtebZu3aqHH35YTzzxhNLS0vTpp59q586d9lmbCxIXFycfHx/7FhgY6NT4AZxDLgMAAACXjoKGBfj5+cnNzS3fL7j79+/P90tvnri4OHXp0kWPPPKIWrdurRtvvFGJiYmaO3euMjIyCtwnJiZGR44csW979uxx+rUAlRm5DAAAADgPBQ0LcHd3V2hoqFJTUx3aU1NT1blz5wL3OXHihKpUcXx73dzcJJ37NbggHh4e8vb2dtgAOA+5DFQcLL8MAIDrUdCwiOjoaM2ZM0dz587Vtm3bNG7cOKWnp9uHncfExGjYsGH2/gMGDNCSJUuUlJSk33//XV999ZUefvhhtW/fXg0aNHDVZQCVHrkMWB/LLwMAUD5UdXUAKJ5Bgwbp4MGDio2NVUZGhkJCQrR8+XIFBQVJkjIyMhz+ITV8+HAdPXpUr776qsaPH69atWqpd+/eevbZZ111CQBELgMVwfnLL0tSQkKCPvvsMyUlJSkuLi5f//OXX5ak4OBgjRo1Ss8991yZxg0AQEVjM4WNWUall5WVJR8fHx05coQh60AhrJAnVogRcLXi5klOTo6qV6+ud999V7feequ9/d///re2bNmiVatW5dtn3bp16tWrl5YuXaqIiAjt379fd9xxh1q0aKGZM2c6NT7AGRpPWubqEAq065milyy3Qp5YIUZUDOU1jyXn5jK3nAAAABQTyy8DAFB+UNAAAAAoIZZfBgDA9ShoAAAAFBPLLwMAUH5Q0AAAACgmll8GAKD8oKABAABQAiy/DABA+cCyrQAAACXA8ssAAJQPFDQAAABKKCoqSlFRUQU+l5ycnK9tzJgxGjNmzGWOCgCAyoVbTgAAAAAAgOVQ0AAAAAAAAJZDQQMAAAAAAFgOBQ0AAAAAAGA5FDQAAAAAAIDlUNAAAAAAAACWQ0EDAAAAAABYTlVXBwAAACqGxpOWuTqEQu16pp+rQwAAAE7GCA0AAAAAAGA5FDQAAAAAAIDlUNAAAAAAAACWQ0EDAAAAAABYDgUNAAAAAJVSYmKigoOD5enpqdDQUK1Zs6bI/gsWLNC1116r6tWrKyAgQPfee68OHjxYRtECuBAFDQAAAACVTkpKisaOHavJkydr8+bN6tatmyIiIpSenl5g/7Vr12rYsGGKjIzUTz/9pHfffVfffPONRo4cWcaRA8hDQQMAAABApRMfH6/IyEiNHDlSLVq0UEJCggIDA5WUlFRg/w0bNqhx48Z6+OGHFRwcrK5du2rUqFHatGlTGUcOIA8FDQAAAACVSk5OjtLS0hQeHu7QHh4ernXr1hW4T+fOnfXHH39o+fLlMsZo3759eu+999SvX79Cz5Odna2srCyHDYDzUNAAAAAAUKkcOHBAubm58vf3d2j39/dXZmZmgft07txZCxYs0KBBg+Tu7q769eurVq1aeuWVVwo9T1xcnHx8fOxbYGCgU68DqOwoaAAAAAColGw2m8NjY0y+tjxbt27Vww8/rCeeeEJpaWn69NNPtXPnTo0ePbrQ48fExOjIkSP2bc+ePU6NH6jsqro6AAAAAAAoS35+fnJzc8s3GmP//v35Rm3kiYuLU5cuXfTII49Iklq3bq0aNWqoW7dueuqppxQQEJBvHw8PD3l4eDj/AgBIYoQGAAAAgErG3d1doaGhSk1NdWhPTU1V586dC9znxIkTqlLF8euTm5ubpHMjOwCUPQoaAAAAACqd6OhozZkzR3PnztW2bds0btw4paen228hiYmJ0bBhw+z9BwwYoCVLligpKUm///67vvrqKz388MNq3769GjRo4KrLACo1bjkBAAAAUOkMGjRIBw8eVGxsrDIyMhQSEqLly5crKChIkpSRkaH09HR7/+HDh+vo0aN69dVXNX78eNWqVUu9e/fWs88+66pLACo9ChoAAAAAKqWoqChFRUUV+FxycnK+tjFjxmjMmDGXOSoAxcUtJwAAAAAAwHIoaAAAAAAAAMuhoGEhiYmJCg4Olqenp0JDQ7VmzZpC+w4fPlw2my3f1rJlyzKMGEBByGUAAADg0lHQsIiUlBSNHTtWkydP1ubNm9WtWzdFREQ4TFR0vpdeekkZGRn2bc+ePapTp47+9a9/lXHkAM5HLgMAAADOQUHDIuLj4xUZGamRI0eqRYsWSkhIUGBgoJKSkgrs7+Pjo/r169u3TZs26fDhw7r33nvLOHIA5yOXAQAAAOegoGEBOTk5SktLU3h4uEN7eHi41q1bV6xjvP7667r++uvty1ABKHvkMgAAAOA8LNtqAQcOHFBubq78/f0d2v39/ZWZmXnR/TMyMvTJJ59o4cKFRfbLzs5Wdna2/XFWVlbpAgZQIHIZAAAAcB5GaFiIzWZzeGyMyddWkOTkZNWqVUu33HJLkf3i4uLk4+Nj3wIDAy8lXACFIJcBAACAS0dBwwL8/Pzk5uaW7xfc/fv35/ul90LGGM2dO1dDhw6Vu7t7kX1jYmJ05MgR+7Znz55Ljh3A/yGXgYqD1YoAAHA9ChoW4O7urtDQUKWmpjq0p6amqnPnzkXuu2rVKv3666+KjIy86Hk8PDzk7e3tsAFwHnIZqBhYrQgAgPKBgoZFREdHa86cOZo7d662bdumcePGKT09XaNHj5Z07hfZYcOG5dvv9ddfV4cOHRQSElLWIQMoALkMWB+rFQEAUD4wKahFDBo0SAcPHlRsbKwyMjIUEhKi5cuX21c6yMjIyPfL0JEjR7R48WK99NJLrggZQAHIZcDa8lYrmjRpkkM7qxUBAFD2KGhYSFRUlKKiogp8Ljk5OV+bj4+PTpw4cZmjAlBS5DJgXaxWBABA+cEtJwAAACXEakUAALgeBQ0AAIBiYrUiAADKDwoaAAAAxcRqRQAAlB/MoQEAAFAC0dHRGjp0qMLCwtSpUyfNnj0732pFe/fu1fz58x32Y7UiAACci4IGAABACbBaEQAA5QMFDQAAgBJitSIAAFyPOTQAAAAAAIDlUNAAAAAAAACWQ0EDAAAAAABYDgUNAAAAAABgORQ0AAAAAACA5VDQAAAAAAAAlkNBAwAAAAAAWA4FDQAAAAAAYDkUNAAAAAAAgOVQ0AAAAABQKSUmJio4OFienp4KDQ3VmjVrCu07fPhw2Wy2fFvLli3LMGIA56OgAQAAAKDSSUlJ0dixYzV58mRt3rxZ3bp1U0REhNLT0wvs/9JLLykjI8O+7dmzR3Xq1NG//vWvMo4cQB4KGgAAAAAqnfj4eEVGRmrkyJFq0aKFEhISFBgYqKSkpAL7+/j4qH79+vZt06ZNOnz4sO69994yjhxAHgoaAAAAACqVnJwcpaWlKTw83KE9PDxc69atK9YxXn/9dV1//fUKCgoqtE92draysrIcNgDOQ0EDAAAAQKVy4MAB5ebmyt/f36Hd399fmZmZF90/IyNDn3zyiUaOHFlkv7i4OPn4+Ni3wMDAS4obgCMKGgAAAAAqJZvN5vDYGJOvrSDJycmqVauWbrnlliL7xcTE6MiRI/Ztz549lxIugAtUdXUAAAAAAFCW/Pz85Obmlm80xv79+/ON2riQMUZz587V0KFD5e7uXmRfDw8PeXh4XHK8AArGCA0AAAAAlYq7u7tCQ0OVmprq0J6amqrOnTsXue+qVav066+/KjIy8nKGCKAYGKEBAAAAoNKJjo7W0KFDFRYWpk6dOmn27NlKT0/X6NGjJZ27XWTv3r2aP3++w36vv/66OnTooJCQEFeEDeA8FDQAAAAAVDqDBg3SwYMHFRsbq4yMDIWEhGj58uX2VUsyMjKUnp7usM+RI0e0ePFivfTSS64IGcAFKGgAAAAAqJSioqIUFRVV4HPJycn52nx8fHTixInLHBWA4mIODQAAAAAAYDkUNAAAAAAAgOVQ0AAAAAAAAJZDQQMAAAAAAFgOBQ0AAAAAAGA5FDQAAAAAAIDlUNCwkMTERAUHB8vT01OhoaFas2ZNkf2zs7M1efJkBQUFycPDQ02aNNHcuXPLKFoAhSGXAQAAgEtX1dUBoHhSUlI0duxYJSYmqkuXLpo1a5YiIiK0detWNWrUqMB97rjjDu3bt0+vv/66rr76au3fv19nzpwp48gBnI9cBgAAAJyDgoZFxMfHKzIyUiNHjpQkJSQk6LPPPlNSUpLi4uLy9f/000+1atUq/f7776pTp44kqXHjxmUZMoACkMsAAACAc3DLiQXk5OQoLS1N4eHhDu3h4eFat25dgft8+OGHCgsL03PPPaeGDRvqmmuu0YQJE3Ty5MlCz5Odna2srCyHDYDzkMsAAACA8zBCwwIOHDig3Nxc+fv7O7T7+/srMzOzwH1+//13rV27Vp6enlq6dKkOHDigqKgoHTp0qNB77+Pi4jRt2jSnxw/gHHIZAAAAcB5GaFiIzWZzeGyMydeW5+zZs7LZbFqwYIHat2+vvn37Kj4+XsnJyYX+shsTE6MjR47Ytz179jj9GgCQy0BFwOS+AAC4HiM0LMDPz09ubm75fsHdv39/vl968wQEBKhhw4by8fGxt7Vo0ULGGP3xxx9q2rRpvn08PDzk4eHh3OAB2JHLQMXA5L4AAJQPjNCwAHd3d4WGhio1NdWhPTU1VZ07dy5wny5duujPP//UsWPH7G0///yzqlSpoiuvvPKyxgugYOQyUDGcP7lvixYtlJCQoMDAQCUlJRXYP29y3+XLl+v6669X48aN1b59+0LzHgAAFA8FDYuIjo7WnDlzNHfuXG3btk3jxo1Tenq6Ro8eLencEPNhw4bZ+w8ZMkS+vr669957tXXrVq1evVqPPPKIRowYIS8vL1ddBlDpkcuAtZXV5L4AAODiuOXEIgYNGqSDBw8qNjZWGRkZCgkJ0fLlyxUUFCRJysjIUHp6ur3/FVdcodTUVI0ZM0ZhYWHy9fXVHXfcoaeeespVlwBA5DJgdWU1uW92drays7Ptj1mtCACA/ChoWEhUVJSioqIKfC45OTlfW/PmzfMNbQfgeuQyYH2lndw3bz6c+Ph43X777ZoxY0aBo61YrQgAgIvjlhMAAIBiuhyT+xaE1YoAALg4ChoAAADFVFaT+3p4eMjb29thAwAAjihoAAAAlACT+wIAUD4whwYAAEAJMLkvAADlAwUNAACAEmJyXwAAXI9bTgAAAAAAgOVQ0AAAAAAAAJZDQQMAAAAAAFgOBQ0AAAAAAGA5FDQAAAAAAIDlUNAAAAAAAACWU+qCxvbt2zV48GAFBATI3d1d3377rSRp2rRpWrFihdMCBAAAAIDLITExUcHBwfL09FRoaKjWrFlTZP/s7GxNnjxZQUFB8vDwUJMmTTR37twyihbAhUpV0NiyZYvatWunVatWqWfPnsrNzbU/d+zYMc2cOdNpAQIAAACAs6WkpGjs2LGaPHmyNm/erG7duikiIkLp6emF7nPHHXfoiy++0Ouvv64dO3Zo0aJFat68eRlGDeB8VUuz06RJk9S6dWulpqbK3d1dKSkp9ufat2+vxYsXOy1AAAAAAHC2+Ph4RUZGauTIkZKkhIQEffbZZ0pKSlJcXFy+/p9++qlWrVql33//XXXq1JEkNW7cuCxDBnCBUo3Q+OqrrzRx4kRVr15dNpvN4Tl/f39lZmY6JTgAAAAAcLacnBylpaUpPDzcoT08PFzr1q0rcJ8PP/xQYWFheu6559SwYUNdc801mjBhgk6ePFnoebKzs5WVleWwAXCeUo3QMMbI3d29wOcOHz4sDw+PSwoKAAAAAC6XAwcOKDc3V/7+/g7tRf04+/vvv2vt2rXy9PTU0qVLdeDAAUVFRenQoUOFzqMRFxenadOmOT1+AOeUaoRG69attXTp0gKf+/TTTxUaGnpJQQEAAADA5XbhaHNjTL62PGfPnpXNZtOCBQvUvn179e3bV/Hx8UpOTi50lEZMTIyOHDli3/bs2eP0awAqs1KN0Pj3v/+tIUOGqEaNGho6dKgkKT09XV9++aXmzp2r9957z6lBAgAAAICz+Pn5yc3NLd9ojP379+cbtZEnICBADRs2lI+Pj72tRYsWMsbojz/+UNOmTfPt4+Hhweh14DIq1QiNQYMG6cknn9SMGTPUrl07SdJtt92myZMna9q0aRowYIBTgwQAAAAAZ3F3d1doaKhSU1Md2lNTU9W5c+cC9+nSpYv+/PNPHTt2zN72888/q0qVKrryyisva7wAClaqERqS9Nhjj2nYsGH67LPPtG/fPvn5+enGG29UUFCQM+MDAAAAAKeLjo7W0KFDFRYWpk6dOmn27NlKT0/X6NGjJZ27XWTv3r2aP3++JGnIkCF68sknde+992ratGk6cOCAHnnkEY0YMUJeXl6uvBSg0ip1QUOSrrzySkVGRjorFgAAAAAoE4MGDdLBgwcVGxurjIwMhYSEaPny5fYfaDMyMpSenm7vf8UVVyg1NVVjxoxRWFiYfH19dccdd+ipp55y1SUAlV6pChrnJ/aFqlSpIh8fH9WsWbPUQQEAAADA5RYVFaWoqKgCn0tOTs7X1rx583y3qQBwnVIVNBo3blzo7L95mjZtqpiYGN1zzz2lCgxA5dF40jJXh1CoXc/0c3UIAAAAAApQqoLG7Nmz9fTTT6t69eq644475O/vr4yMDL377rs6efKkHnjgAaWmpmrEiBFyd3fX4MGDnR03AAAAAACoxEp9y0nLli314YcfOozUmDJligYMGKBDhw7p888/12233aYXX3yRggYAAAAAAHCqUi3bOm/ePI0ePTrfbSc2m02jRo2yzwR81113aevWrZceJQAAAAAAwHlKVdA4cOCATp48WeBzp06d0uHDhyVJvr6+MsaUPjoAAAAAAIAClKqg0aZNGz399NP2wkWeQ4cO6b///a/atGkjSdqzZ4/q169/yUECAAAAAACcr1RzaEyfPl3h4eEKCgpS79695e/vr3379unLL7/UmTNn9L///U+StHnzZg0YMMCpAQMAAAAAAJSqoNG1a1dt2LBBTz31lFavXq2DBw/K19dXERERmjx5slq3bi1JeuGFF5waLAAAAAAAgFTKgoYktW7dWu+8844zYwEAAAAAACiWUs2hAQAAAAAA4EqlLmgcOnRIr776qh588EGNGDHCYYuMjHRmjPj/EhMTFRwcLE9PT4WGhmrNmjWF9l25cqVsNlu+bfv27WUYMYCCkMsAAADApSvVLSfp6elq166dTpw4oRMnTsjPz0+HDh1Sbm6uateuLR8fH2fHWemlpKRo7NixSkxMVJcuXTRr1ixFRERo69atatSoUaH77dixQ97e3vbHdevWLYtwARSCXAYAAACco1QjNCZNmqSWLVtq3759Msbok08+0fHjx/XKK6/I09NTy5Ytc3aclV58fLwiIyM1cuRItWjRQgkJCQoMDFRSUlKR+9WrV0/169e3b25ubmUUMYCCkMsAAACAc5SqoLF+/Xo98MAD8vT0lCQZY+Tu7q4HH3xQkZGReuSRR5waZGWXk5OjtLQ0hYeHO7SHh4dr3bp1Re7btm1bBQQEqE+fPlqxYkWRfbOzs5WVleWwAXAechkAAABwnlIVNPbt26eAgABVqVJFbm5uDv9Y7tGjh9auXeu0ACEdOHBAubm58vf3d2j39/dXZmZmgfsEBARo9uzZWrx4sZYsWaJmzZqpT58+Wr16daHniYuLk4+Pj30LDAx06nUAlR25DFQczIUDAIDrlWoODX9/fx06dEiS1LhxY23atEm9evWSJO3atUtVq5Z6NVgUwWazOTw2xuRry9OsWTM1a9bM/rhTp07as2ePnn/+eXXv3r3AfWJiYhQdHW1/nJWVxRch4DIglwFrYy4cAADKh1JVHjp27KjNmzfr5ptv1j//+U/FxsYqOztb7u7umj59unr37u3sOCs1Pz8/ubm55fsFd//+/fl+6S1Kx44d9dZbbxX6vIeHhzw8PEodJ4CikctAxXD+XDiSlJCQoM8++0xJSUmKi4srdL969eqpVq1aZRQlAAAVX6luOZkwYYJCQkIkSU888YR69eqlKVOm2CcLTUhIcGaMlZ67u7tCQ0OVmprq0J6amqrOnTsX+zibN29WQECAs8MDUEzkMmB9ZTUXDgAAuLhSjdAIDQ1VaGioJKlGjRr68MMPlZWVJZvNppo1azo1QJwTHR2toUOHKiwsTJ06ddLs2bOVnp6u0aNHSzo3xHzv3r2aP3++pHO/FjVu3FgtW7ZUTk6O3nrrLS1evFiLFy925WUAlR65DFjbpcyFExoaquzsbL355pvq06ePVq5cWeitY9nZ2crOzrY/ZnJfAADyK1VBIzY2ViNHjlSDBg3sbXn3hGZkZOi1117TE0884ZwIIUkaNGiQDh48qNjYWGVkZCgkJETLly9XUFCQpHOve3p6ur1/Tk6OJkyYoL1798rLy0stW7bUsmXL1LdvX1ddAgCRy0BFcbnnwomLi9O0adOcFzAAABWQzRhjSrqTm5ub1q9fr/bt2+d7Li0tTe3bt1dubq5TAoTrZGVlycfHR0eOHHGYxAxwtsaTlrk6hELteqZfkc9bIU+sECMqhsqQyzk5Oapevbreffdd3Xrrrfb2f//739qyZYtWrVpVrHj++9//6q233tK2bdsKfL6gERqBgYHkMcpEec1l/psMFF95zWPJublcqjk0iqqBHDt2TNWqVSvNYQEAAMq1spoLx8PDQ97e3g4bAABwVOxbTr7//ntt2bLF/nj58uX51k8/efKkFixYoCZNmjgtQAAAgPKEuXAAACgfil3QWLp0qf1eTpvNptjY2AL7eXl5ad68ec6JDgAAoJxhLhwAAMqHYhc07r//fvXv31/GGLVv317z5s2zL92ax8PDQ02aNJGXl5fTAwUAACgvoqKiFBUVVeBzycnJDo8nTpyoiRMnlkFUAABULsUuaAQEBNjv9VyxYoVCQ0N1xRVXXLbAAAAAAAAAClOqZVt79Ojh7DgAAAAAAACKrVQFDUl66623tHDhQu3evVsnT550eM5ms+m333675OAAAAAAAAAKUqplW5999lkNGzZM6enpuvbaa9WjRw+HrXv37s6OEwAAAACcKjExUcHBwfL09FRoaKjWrFlTaN+VK1fKZrPl2y5c+RFA2SnVCI3Zs2frwQcf1CuvvOLseAAAAADgsktJSdHYsWOVmJioLl26aNasWYqIiNDWrVvVqFGjQvfbsWOHvL297Y/r1q1bFuECKECpRmhkZmbq1ltvdXYsAAAAAFAm4uPjFRkZqZEjR6pFixZKSEhQYGCgkpKSityvXr16ql+/vn1zc3Mro4gBXKhUBY3Q0FDmyAAAAABgSTk5OUpLS1N4eLhDe3h4uNatW1fkvm3btlVAQID69OmjFStWFNk3OztbWVlZDhsA5ylVQSM+Pl4vvPCC0tLSnB0PAAAAAFxWBw4cUG5urvz9/R3a/f39lZmZWeA+AQEBmj17thYvXqwlS5aoWbNm6tOnj1avXl3oeeLi4uTj42PfAgMDnXodQGVXqjk07r33Xh08eFDt27dX/fr15evr6/C8zWbTd99955QAAQAAAOBysNlsDo+NMfna8jRr1kzNmjWzP+7UqZP27Nmj559/vtBFEWJiYhQdHW1/nJWVRVEDcKJSFTR8fX3l5+fn7FgAAAAA4LLz8/OTm5tbvtEY+/fvzzdqoygdO3bUW2+9VejzHh4e8vDwKHWcAIpWqoLGypUrnRwGAAAAAJQNd3d3hYaGKjU11WGxg9TUVA0cOLDYx9m8ebMCAgIuR4gAiqFUBQ0AAAAAsLLo6GgNHTpUYWFh6tSpk2bPnq309HSNHj1a0rnbRfbu3av58+dLkhISEtS4cWO1bNlSOTk5euutt7R48WItXrzYlZcBVGqlLmj89ddfio+P18qVK3XgwAG9//77atmypWbNmqX27durbdu2zowTAAAAAJxm0KBBOnjwoGJjY5WRkaGQkBAtX75cQUFBkqSMjAylp6fb++fk5GjChAnau3evvLy81LJlSy1btkx9+/Z11SUAlV6pCho7d+5Uly5ddOTIEV177bX6/ffflZ2dLUn6/vvvtWHDBs2bN8+pgQIAAACAM0VFRSkqKqrA55KTkx0eT5w4URMnTiyDqAAUV6mWbZ04caJq1aqlX375RatXr5Yxxv5c165d9dVXXzktQAAAAAAAgAuVaoTGF198oaSkJDVo0EC5ubkOzwUEBOjPP/90SnAAAAAAAAAFKdUIjVOnTqlOnToFPnf8+HFVqVKqwwIAAAAAABRLqSoPzZo10//+978Cn1u9erVCQkIuKSgAAAAAAICilOqWk/vuu0/R0dFq0KCB7rrrLknnZv197733lJiYqFdffdWpQQIAAAAAAJyvVAWNqKgobdmyRePGjdP48eMlnZsM1Bij++67T/fcc49TgwQAAAAAADhfqQoakjR79myNGDFCy5Yt0759++Tn56f+/furc+fOzowPAAAAAAAgn1IXNCSpY8eO6tixo7NiAQAAAAAAKJZSTQq6YcMGvfPOOwU+98477+jrr7++pKAAAAAAAACKUqqCxmOPPaYffvihwOe2bt2q//znP5cUFAAAAAAAQFFKVdD4/vvvC73VpEOHDvruu+8uKSgAAAAAAICilKqgcfz4cVWtWvD0G1WqVNHRo0cvKSgAAAAAAICilKqgERwcrBUrVhT43IoVKxQUFHRJQQEAAAAAABSlVAWNO++8Uy+++KLmzZvn0J6cnKyEhAQNHjzYKcHBUWJiooKDg+Xp6anQ0FCtWbOmWPt99dVXqlq1qtq0aXN5AwRQLOQyAAAAcOlKVdCYNGmSunTposjISNWoUUNNmzZVjRo1FBkZqS5duigmJsbZcVZ6KSkpGjt2rCZPnqzNmzerW7duioiIUHp6epH7HTlyRMOGDVOfPn3KKFIARSGXAQAAAOcoVUHD3d1dqampeuONN3TLLbcoODhYt9xyi9544w19/vnncnd3d3aclV58fLwiIyM1cuRItWjRQgkJCQoMDFRSUlKR+40aNUpDhgxRp06dyihSAEUhlwEAAADnKHFB4+TJk+rSpYtWrFihoUOHasGCBfr888+1YMEC3X333XJzc7sccVZqOTk5SktLU3h4uEN7eHi41q1bV+h+8+bN02+//aYpU6Zc7hABFAO5DAAAADhPiQsaXl5e+uGHHwpd5QTOd+DAAeXm5srf39+h3d/fX5mZmQXu88svv2jSpElasGBBsd+r7OxsZWVlOWwAnIdcBioO5sIBAMD1SnXLSadOnbRx40Znx4KLsNlsDo+NMfnaJCk3N1dDhgzRtGnTdM011xT7+HFxcfLx8bFvgYGBlxwzgPzIZcDamAsHAIDyoVQFjRdeeEGzZs3S/PnzdezYMWfHhAv4+fnJzc0t3y+4+/fvz/dLryQdPXpUmzZt0kMPPaSqVauqatWqio2N1XfffaeqVavqyy+/LPA8MTExOnLkiH3bs2fPZbkeoLIil4GKgblwAAAoH0o9QuOPP/7QvffeKx8fH9WsWVPe3t72zcfHx9lxVmru7u4KDQ1VamqqQ3tqaqo6d+6cr7+3t7d++OEHbdmyxb6NHj1azZo105YtW9ShQ4cCz+Ph4eHwPnp7e1+W6wEqK3IZsL6ymguHW8cAALi4Uk2EcdtttxU4PBqXT3R0tIYOHaqwsDB16tRJs2fPVnp6ukaPHi3p3C+ye/fu1fz581WlShWFhIQ47F+vXj15enrmawdQtshlwNouZS6cNWvWFHsunLi4OE2bNu2S4wUAoCIrVUEjOTnZyWHgYgYNGqSDBw8qNjZWGRkZCgkJ0fLlyxUUFCRJysjIuOi9uwBcj1wGKobLPRdOTEyMoqOj7Y+zsrKYDwcAgAuwVImFREVFKSoqqsDnLlZkmjp1qqZOner8oACUGLkMWFdp58LZvHmzHnroIUnS2bNnZYxR1apV9fnnn6t379759vPw8JCHh8fluQgAACqIUs2hIUnbt2/X4MGDFRAQIHd3d3377beSpGnTpmnFihVOCxAAAKC8KKu5cAAAwMWVaoTGli1b1K1bN9WsWVM9e/bUO++8Y3/u2LFjmjlzpnr16uW0IAEAAMoL5sIBAKB8KFVBY9KkSWrdurVSU1Pl7u6ulJQU+3Pt27fX4sWLnRYgAABAecJcOAAAlA+lKmh89dVXeuutt1S9enXl5uY6PFfULN8AAAAVAXPhAADgeqWaQ8MYI3d39wKfO3z4MJNYAQAAACj3EhMTFRwcLE9PT4WGhmrNmjXF2u+rr75S1apV1aZNm8sbIIAilaqg0bp1ay1durTA5z799FOFhoZeUlAAAAAAcDmlpKRo7Nixmjx5sjZv3qxu3bopIiLioreMHTlyRMOGDVOfPn3KKFIAhSlVQePf//63Xn/9dY0bN07fffedJCk9PV3PP/+85s6dq3//+99ODRIAAAAAnCk+Pl6RkZEaOXKkWrRooYSEBAUGBiopKanI/UaNGqUhQ4aoU6dOZRQpgMKUqqAxaNAgPfnkk5oxY4batWsnSfrnP/+pxx57TNOmTdOAAQOcGiQAAAAAOEtOTo7S0tIUHh7u0B4eHq5169YVut+8efP022+/acqUKZc7RADFUKpJQSXpscce07Bhw/TZZ59p37598vPz04033mif4RsAAAAAyqMDBw4oNzdX/v7+Du1FLXDwyy+/aNKkSVqzZo2qVi3e16js7GxlZ2fbH2dlZZU+aAD5lLqgkZubqzVr1ujrr7/WwYMH5evrq5o1a6phw4bFTnAAAAAAcBWbzebw2BiTr006991nyJAhmjZtmq655ppiHz8uLk7Tpk275DgBFKxUlYcDBw7opptu0rfffquqVavK19dXBw8e1Jw5c/T888/rs88+k5+fn7NjBQAAAIBL5ufnJzc3t3yjMfbv359v1IYkHT16VJs2bdLmzZv10EMPSZLOnj0rY4yqVq2qzz//XL179863X0xMjKKjo+2Ps7KyFBgY6OSrASqvUs2hMW7cOO3YsUMLFizQyZMnlZGRoZMnT+qtt97SL7/8onHjxjk7TgAAAABwCnd3d4WGhio1NdWhPTU1VZ07d87X39vbWz/88IO2bNli30aPHq1mzZppy5Yt6tChQ4Hn8fDwkLe3t8MGwHlKNULjo48+0lNPPaXBgwfb29zc3DRkyBDt379fU6dOdVZ8AAAAAOB00dHRGjp0qMLCwtSpUyfNnj1b6enpGj16tKRzoyv27t2r+fPnq0qVKgoJCXHYv169evL09MzXDqDslKqgYYxRy5YtC3wuJCRExphLCgoAAAAALqdBgwbp4MGDio2NVUZGhkJCQrR8+XL7IgcZGRlKT093cZQAilKqW06uv/56/e9//yvwudTUVPXs2fNSYgIAAACAyy4qKkq7du1Sdna20tLS1L17d/tzycnJWrlyZaH7Tp06VVu2bLn8QQIoVKlGaDz++OP65z//aZ/tt379+srMzNSCBQu0ZMkSLVmyRIcOHbL3r1OnjtMCBgAAAAAAKFVB47rrrpMkvfDCC4qPj7e3591qEhoa6tA/Nze3tPEBAAAAAADkU6qCxhNPPFHg+swAAAAAAABloVQFDVYxAQAAAAAArlSqSUEBAAAAAABciYIGAAAAAACwHAoaAAAAAADAcihoAAAAAAAAy6GgAQAAAAAALIeCBgAAAAAAsBwKGgAAAAAAwHIoaAAAAAAAAMuhoAEAAAAAACyHggYAAAAAALAcChoAAAAAAMByKGgAAAAAAADLoaABAAAAAAAsh4KGhSQmJio4OFienp4KDQ3VmjVrCu27du1adenSRb6+vvLy8lLz5s314osvlmG0AApDLgMAAACXrqqrA0DxpKSkaOzYsUpMTFSXLl00a9YsRUREaOvWrWrUqFG+/jVq1NBDDz2k1q1bq0aNGlq7dq1GjRqlGjVq6P7773fBFQCQyGUAAADAWRihYRHx8fGKjIzUyJEj1aJFCyUkJCgwMFBJSUkF9m/btq0GDx6sli1bqnHjxrr77rt14403FvlLMIDLj1wGAAAAnIOChgXk5OQoLS1N4eHhDu3h4eFat25dsY6xefNmrVu3Tj169LgcIQIoBnIZqDi4dQwAANfjlhMLOHDggHJzc+Xv7+/Q7u/vr8zMzCL3vfLKK/XXX3/pzJkzmjp1qkaOHFlo3+zsbGVnZ9sfZ2VlXVrgAByQy0DFwK1jAACUD4zQsBCbzebw2BiTr+1Ca9as0aZNmzRz5kwlJCRo0aJFhfaNi4uTj4+PfQsMDHRK3AAckcuAtXHrGAAA5QMFDQvw8/OTm5tbvl9w9+/fn++X3gsFBwerVatWuu+++zRu3DhNnTq10L4xMTE6cuSIfduzZ48zwgfw/5HLgPWV1a1j2dnZysrKctgAAIAjChoW4O7urtDQUKWmpjq0p6amqnPnzsU+jjHGYRj6hTw8POTt7e2wAXAechmwvku9dczDw0NhYWF68MEHi7x1jJFWAABcHHNoWER0dLSGDh2qsLAwderUSbNnz1Z6erpGjx4t6dwvsnv37tX8+fMlSTNmzFCjRo3UvHlzSecmJHv++ec1ZswYl10DAHIZqChKe+vYsWPHtGHDBk2aNElXX321Bg8eXGDfmJgYRUdH2x9nZWVR1AAA4AIUNCxi0KBBOnjwoGJjY5WRkaGQkBAtX75cQUFBkqSMjAylp6fb+589e1YxMTHauXOnqlatqiZNmuiZZ57RqFGjXHUJAEQuA1Z3qbeOSVKrVq20b98+TZ06tdCChoeHhzw8PJwTNAAAFRQFDQuJiopSVFRUgc8lJyc7PB4zZgy/4ALlFLkMWNf5t47deuut9vbU1FQNHDiw2Me52K1jAADg4phDAwAAoASio6M1Z84czZ07V9u2bdO4cePy3To2bNgwe/8ZM2boo48+0i+//KJffvlF8+bN0/PPP6+7777bVZcA4P9LTExUcHCwPD09FRoaWuTqQ2vXrlWXLl3k6+srLy8vNW/eXC+++GIZRgvgQozQAAAAKAFuHQMqhpSUFI0dO1aJiYnq0qWLZs2apYiICG3dulWNGjXK179GjRp66KGH1Lp1a9WoUUNr167VqFGjVKNGDd1///0uuAIAFDQAAABKiFvHAOuLj49XZGSkfcWhhIQEffbZZ0pKSlJcXFy+/m3btlXbtm3tjxs3bqwlS5ZozZo1FDQAF+GWEwAAAACVSk5OjtLS0hQeHu7QHh4ernXr1hXrGJs3b9a6devUo0ePyxEigGJghAYAAACASuXAgQPKzc3NtzqRv79/vlWMLnTllVfqr7/+0pkzZzR16lT7CI+CZGdnO0wAnJWVdWmBA3DACA0AAAAAlZLNZnN4bIzJ13ahNWvWaNOmTZo5c6YSEhK0aNGiQvvGxcXJx8fHvgUGBjolbgDnMEIDAAAAQKXi5+cnNze3fKMx9u/fn2/UxoWCg4MlSa1atdK+ffs0depUDR48uMC+MTExio6Otj/OysqiqAE4ESM0AAAAAFQq7u7uCg0NVWpqqkN7amqqOnfuXOzjGGMcbim5kIeHh7y9vR02AM7DCA2gAmg8aZmrQyjUrmf6uToEAACAfKKjozV06FCFhYWpU6dOmj17ttLT0zV69GhJ50ZX7N27V/Pnz5ckzZgxQ40aNVLz5s0lSWvXrtXzzz/PKkaAC1HQAAAAAFDpDBo0SAcPHlRsbKwyMjIUEhKi5cuXKygoSJKUkZGh9PR0e/+zZ88qJiZGO3fuVNWqVdWkSRM988wzGjVqlKsuAaj0KGgAAAAAqJSioqIUFRVV4HPJyckOj8eMGcNoDKCcYQ4NAAAAAABgORQ0AAAAAACA5VDQAAAAAAAAlkNBAwAAAAAAWA4FDQAAAAAAYDkUNAAAAAAAgOVQ0AAAAAAAAJZDQQMAAAAAAFgOBQ0AAAAAAGA5FDQAAAAAAIDlUNAAAAAAAACWQ0EDAAAAAABYDgUNAAAAAABgORQ0AAAAAACA5VDQAAAAAAAAlkNBAwAAAAAAWA4FDQAAAAAAYDkUNAAAAAAAgOVQ0AAAAAAAAJZDQQMAAAAAAFgOBQ0AAAAAAGA5FDQsJDExUcHBwfL09FRoaKjWrFlTaN8lS5bohhtuUN26deXt7a1OnTrps88+K8NoARSGXAYAAAAuHQUNi0hJSdHYsWM1efJkbd68Wd26dVNERITS09ML7L969WrdcMMNWr58udLS0tSrVy8NGDBAmzdvLuPIAZyPXAYAAACcg4KGRcTHxysyMlIjR45UixYtlJCQoMDAQCUlJRXYPyEhQRMnTlS7du3UtGlTPf3002ratKk++uijMo4cwPnIZaBiYKQVAACuR0HDAnJycpSWlqbw8HCH9vDwcK1bt65Yxzh79qyOHj2qOnXqFNonOztbWVlZDhsA5yGXgYqBkVYAAJQPFDQs4MCBA8rNzZW/v79Du7+/vzIzM4t1jBdeeEHHjx/XHXfcUWifuLg4+fj42LfAwMBLihuAI3IZqBgYaQUAQPlAQcNCbDabw2NjTL62gixatEhTp05VSkqK6tWrV2i/mJgYHTlyxL7t2bPnkmMGkB+5DFgXI60AACg/qro6AFycn5+f3Nzc8v2Cu3///ny/9F4oJSVFkZGRevfdd3X99dcX2dfDw0MeHh6XHC+AgpHLgPWV5UiradOmXVKsAABUdIzQsAB3d3eFhoYqNTXVoT01NVWdO3cudL9FixZp+PDhWrhwofr163e5wwRwEeQyUHEw0gqoGJjgF7A2ChoWER0drTlz5mju3Lnatm2bxo0bp/T0dI0ePVrSuX/4DBs2zN5/0aJFGjZsmF544QV17NhRmZmZyszM1JEjR1x1CQBELgNW54yRVu+8806xRlp5e3s7bACciwl+AevjlhOLGDRokA4ePKjY2FhlZGQoJCREy5cvV1BQkCQpIyPD4Y/vrFmzdObMGT344IN68MEH7e333HOPkpOTyzp8AP8fuYyiNJ60zNUhFGjXM4wMynP+SKtbb73V3p6amqqBAwcWut+iRYs0YsQILVq0iJFWQDlx/gS/0rkJfD/77DMlJSUpLi4uX/+EhASHx08//bQ++OADffTRR2rbtm1ZhAzgAhQ0LCQqKkpRUVEFPnfhF5uVK1de/oAAlAq5DFhbdHS0hg4dqrCwMHXq1EmzZ8/ON9Jq7969mj9/vqT/G2n10ksv2UdaSZKXl5d8fHxcdh1AZZY3we+kSZMc2p09wS+Ay4uCBgAAQAkw0gqwvrKa4Dc7O1vZ2dn2x6xYBDgXBQ0AAIASYqQVUDFc6gS/H3zwQZET/LJiEXB5MSkoAAAAgEqlrCb4ZcUi4PKioAEAAACgUimrpdRZsQi4vLjlBAAAAEClwwS/gPVR0AAAAABQ6TDBL2B9FDQAAAAAVEpM8AtYG3NoAAAAAAAAy6GgAQAAAAAALIeCBgAAAAAAsBwKGgAAAAAAwHIoaAAAAAAAAMuhoAEAAAAAACyHggYAAAAAALAcChoAAAAAAMByKGgAAAAAAADLoaABAAAAAAAsh4IGAAAAAACwHAoaAAAAAADAcihoAAAAAAAAy6GgAQAAAAAALIeCBgAAAAAAsJyqrg4AKA8aT1rm6hAKtOuZfq4OAQAAAADKJUZoAAAAAAAAy6GgAQAAAAAALIeCBgAAAAAAsBwKGgAAAAAAwHIoaAAAAAAAAMuhoAEAAAAAACyHggYAAAAAALAcChoAAAAAAMByKGgAAAAAAADLoaBhIYmJiQoODpanp6dCQ0O1Zs2aQvtmZGRoyJAhatasmapUqaKxY8eWXaAAikQuAwAAAJeuqqsDQPGkpKRo7NixSkxMVJcuXTRr1ixFRERo69atatSoUb7+2dnZqlu3riZPnqwXX3zRBREDKAi5DFQMiYmJmj59ujIyMtSyZUslJCSoW7duBfbNyMjQ+PHjlZaWpl9++UUPP/ywEhISyjZglJnGk5a5OoRC7Xqmn6tDAACnYoSGRcTHxysyMlIjR45UixYtlJCQoMDAQCUlJRXYv3HjxnrppZc0bNgw+fj4lHG0AApDLgPWl1eYnDx5sjZv3qxu3bopIiJC6enpBfY/vzB57bXXlnG0AABUXBQ0LCAnJ0dpaWkKDw93aA8PD9e6deucdp7s7GxlZWU5bACch1wGKgYKk0DFwW2ggLVR0LCAAwcOKDc3V/7+/g7t/v7+yszMdNp54uLi5OPjY98CAwOddmwA5DJQEVCYBCoORlsB1kdBw0JsNpvDY2NMvrZLERMToyNHjti3PXv2OO3YAP4PuQxYF4VJoOJgtBVgfRQ0LMDPz09ubm75/qG0f//+fP+guhQeHh7y9vZ22AA4D7kMVBwUJgFrK6vRVgAuLwoaFuDu7q7Q0FClpqY6tKempqpz584uigpASZHLgPVRmAQqhrIabcXtY8DlRUHDIqKjozVnzhzNnTtX27Zt07hx45Senq7Ro0dLOvdLzrBhwxz22bJli7Zs2aJjx47pr7/+0pYtW7R161ZXhA/g/yOXAWujMAlULJd7tBW3jwGXV1VXB4DiGTRokA4ePKjY2FhlZGQoJCREy5cvV1BQkKRzsy5fOIFR27Zt7f8/LS1NCxcuVFBQkHbt2lWWoQM4D7kMWF90dLSGDh2qsLAwderUSbNnz85XmNy7d6/mz59v32fLli2S5FCYdHd31z/+8Q9XXAJQ6ZXVaKuYmBhFR0fbH2dlZVHUAJyIgoaFREVFKSoqqsDnkpOT87UZYy5zRABKg1wGrI3CJGB954+2uvXWW+3tqampGjhwoNPO4+HhIQ8PD6cdD4AjChoAAAAlRGESsD5GWwHWR0EDAAAAQKXDaCvA+ihoAAAAAKiUGG0FWBurnAAAAAAAAMuhoAEAAAAAACyHggYAAAAAALAcChoAAAAAAMBymBQUl6zxpGWuDqFQu57p5+oQAAAAAACXASM0AAAAAACA5VDQAAAAAAAAlkNBAwAAAAAAWA4FDQAAAAAAYDkUNAAAAAAAgOWwygkAAAAAAOcprys5soqjI0ZoAAAAAAAAy6GgAQAAAAAALIdbTgAAFUJ5HRoqMTwUAADgcmCEBgAAAAAAsBwKGgAAAAAAwHIoaAAAAAAAAMuhoAEAAAAAACyHggYAAAAAALAcChoAAAAAAMByKGgAAAAAAADLoaABAAAAAAAsh4IGAAAAAACwHAoaAAAAAADAcihoAAAAAAAAy6GgAQAAAAAALIeCBgAAAAAAsJyqrg4AAAAAyNN40jJXh1CgXc/0c3UIAIALUNCwkMTERE2fPl0ZGRlq2bKlEhIS1K1bt0L7r1q1StHR0frpp5/UoEEDTZw4UaNHjy7DiAEUpLzmMl8igOIrr3kMoGTIZcDauOXEIlJSUjR27FhNnjxZmzdvVrdu3RQREaH09PQC++/cuVN9+/ZVt27dtHnzZj322GN6+OGHtXjx4jKOHMD5yGXA+shjoGIglwHro6BhEfHx8YqMjNTIkSPVokULJSQkKDAwUElJSQX2nzlzpho1aqSEhAS1aNFCI0eO1IgRI/T888+XceQAzkcuA9ZHHgMVA7kMWB8FDQvIyclRWlqawsPDHdrDw8O1bt26AvdZv359vv433nijNm3apNOnT1+2WAEUjlwGrI88BioGchmoGJhDwwIOHDig3Nxc+fv7O7T7+/srMzOzwH0yMzML7H/mzBkdOHBAAQEB+fbJzs5Wdna2/fGRI0ckSVlZWUXGdzb7RLGuwxUuFnue8noNVo9fKt41WDn+vOeNMRc9FrlcOpUlD6Tyew1Wj19yXi6X9zwOmfJZkc+70o/TbixWv/L6OaoMeZCnvF5DZfpvstXxt+jysXoeS87NZQoaFmKz2RweG2PytV2sf0HteeLi4jRt2rR87YGBgSUNtdzwSXB1BJfG6vFL1r+G4sZ/9OhR+fj4FKsvuVwyVv8MSda/BqvHLzk/l8njkrP658jq8UvWvwb+mwxnqCx5UJ45M5cpaFiAn5+f3Nzc8lWL9+/fn69KnKd+/foF9q9atap8fX0L3CcmJkbR0dH2x2fPntWhQ4fk6+tb5B92Z8rKylJgYKD27Nkjb2/vMjmnMxG/65X1NRhjdPToUTVo0OCifStLLvM5cj3iL7ni5nJlyWOJz5GrWT1+if8mS67PZT5Hrkf8JVeSXKagYQHu7u4KDQ1Vamqqbr31Vnt7amqqBg4cWOA+nTp10kcffeTQ9vnnnyssLEzVqlUrcB8PDw95eHg4tNWqVevSgi8lb29vSyZ8HuJ3vbK8huL+ClTZcpnPkesRf8kUJ5crWx5LfI5czerxS/w3uTzkMp8j1yP+kiluLjMpqEVER0drzpw5mjt3rrZt26Zx48YpPT3dvu51TEyMhg0bZu8/evRo7d69W9HR0dq2bZvmzp2r119/XRMmTHDVJQAQuQxUBOQxUDGQy4D1MULDIgYNGqSDBw8qNjZWGRkZCgkJ0fLlyxUUFCRJysjIcFgzOzg4WMuXL9e4ceM0Y8YMNWjQQC+//LJuu+02V10CAJHLQEVAHgMVA7kMVAAGKEdOnTplpkyZYk6dOuXqUEqF+F2vIlyD1VWE98Dq10D8cAarvw/E73oV4RqsriK8B1a/BuK/vGzGFGMtFAAAAAAAgHKEOTQAAAAAAIDlUNAAAAAAAACWQ0EDAAAAAABYDgUNAAAAAABgORQ0AFgGcxgD1kceAxUDuQxUDFbPZQoaQAlYPeGt6tChQ5Ikm83GewCn4HNU9shjOBufI9cgl+FsfI5co6LkMgUNXFZ5iWJVmzZt0gcffKBZs2bp9OnTlkv4L7/8Ui+99JLGjRunn3/+2dXhlEpKSoqGDh2qVatWSbL+H10rsnoeS+Syq5HH5YPVc9nqeSyRy3AOctm1rJ7HUgXLZQNcJsnJyaZRo0Zm9erVrg6lVObOnWuCg4PNtddea2rXrm3atGljcnJyjDHGnD171sXRXdycOXNM3bp1zYABA0yjRo1MUFCQ+fvvv10dVrGdPXvW/P333yYsLMy4u7ubu+++23z11Vf258+cOePC6CoPq+exMeSyK5HH5YfVc9nqeWwMuQznIJddy8p5bEzFzGUKGrgsUlNTTcOGDU2jRo1MQECAWbNmjatDKpHFixcbHx8f895775mMjAzz559/mquvvtqMGTPG1aEVyzvvvGO8vb3N+++/b06fPm3Onj1r6tevb9auXevq0Eps4sSJ5sEHHzQtWrQwAwYMMKtWrXJ43gr/8bMqq+exMeRyeUEeu5bVc9nqeWwMuQznIJddq6LksTEVK5e55QROd/ToUa1atUr9+vXT2rVr1bVrV916661au3atq0MrlszMTL322muaPHmybrvtNtWvX18BAQEaOHCg9uzZ4+rwLmrv3r1auHCh/vvf/2rgwIGqWrWqJCkwMFAffPCB7rrrLr377rv666+/XBxp0cz/H/Z26tQpNWvWTB9++KF27NihV199VWvXrtXAgQO1e/du2Ww2F0daMVk9jyVyuTwgj13P6rls9TyWyGU4B7nsWhUhj6WKmcsUNOB0NWvWVI8ePTR06FAFBgZq0aJF6tGjR4F/dE05vFerbt26atCggYKDgx3aQ0JC9Pvvvys3N1enT592UXQX17BhQw0fPlzh4eH2tr59+2rPnj3KycnR33//rUcffVQpKSkujPLi8v6QhoeH6/vvv9fVV1+t5cuX6/vvv9eAAQP022+/qXbt2pLK5+fI6qyexxK5XB6Qx65n9Vy2eh5L5DKcg1x2rYqQx1IFzWXXDAxBRVTU0KTTp0+b22+/3fj5+dmHZR04cMAsWLCg3Nx3dn78p06dytf+1ltvmbZt2zrss2PHjnIzJKuwOL744gvTs2dP8+uvv9rb7rzzTnPdddfZ71ksLwq6hs8//9w0b97c/rhp06amevXqpm/fvubrr78uy/AqBavnsTHksquRx+WD1XPZ6nlsDLkM5yCXXcvqeWxMxc9lRmjAKYwx9orfokWL9Morr9ify83NVdWqVbVw4UL17NlTt956qz766CP17dtXc+fOlbe3t6vCtrsw/tmzZ9ufy83Ntf9vlSr/lzLdunXTE088US6GZBX1+oeGhurjjz9WkyZN7JXvkJAQNWzY0D5crjw4/xrefvtt+zWEhYWpRYsWOnbsmNq2baugoCAtW7ZMu3fv1vjx4/XDDz+4MuwKxep5LJHLrkYelw9Wz2Wr57FELsM5yGXXsnoeS5Ukl8u+hoKKJjc31/7/f/zxR9O2bVsTFhZm3nrrLXt73oy5ubm5ZuDAgcZms5nWrVuXi1mNixO/McYsWLDAtGnTxuTm5pobb7zRNGvWzGRnZ5d1uPkUJ/7Tp0/b///JkyfNjTfeaMaPH1+mcRalsGt4++23zalTp0ynTp2MzWYz3bp1M5mZmcYYYzZt2mQGDx7ssC9Kz+p5nBdXHnK57JHH5YPVc9nqeWwMuQznIJddy+p5bEzlyWWbMVa5OQbl3SOPPKKdO3cqIyND27ZtU7169TRp0iQNHz5c0rkK4cGDB9W/f3/ZbDatWbNGVatW1ZkzZ8pFJfNi8aekpCguLk716tXT77//rm3btqlatWrlOv5HH31U9957ryTp+PHjysrK0n333ac///xTGzduVNWqVR0qt652/jVs375dvr6+euyxx3TixAnt3r1bDz/8sBo2bKizZ886VPMvfIzSs3oeS+Syq5HH5YPVc9nqeSyRy3AOctm1rJ7HUiXIZVdVUlCxzJs3z9SqVcukpaWZQ4cOmYyMDBMeHm46depk3njjDXu/xx9/3Fx11VX2yvH5lU1XKiz+jh07mnnz5hljjHn77beNzWYznTt3tkz8nTp1MsnJycYYY9577z1z3XXXma5du9rjL09rTRd0DTfccIPp1auXefnll82JEyeMMa4fBVCRWT2PjSGXXY08Lh+snstWz2NjyGU4B7nsWlbPY2MqRy5T0IBTTJ482XTt2tXk5ubahyj98ccfpn379ubqq6828+fPN8YY88svv5S7P1bGXDz+lJQUs3//fvPQQw/ZJzSyUvwLFy40J06cMCkpKeXy9Tem4GvYs2ePadeunWnatKnDf7it/Ee3PLN6HhtDLrsaeVw+WD2XrZ7HxpDLcA5y2bWsnsfGVI5ctsAYEpRn5v/fseTh4aFTp04pJydHVapU0enTp9WwYUM9++yz+vPPPzVv3jwtXrxYV199tapVq6azZ8+Wi2FkxY0/KSlJq1ev1iuvvCIPD49yMwyuuPHPnj1bn376qe644w5Vq1bNPpFUeVDUNVx55ZV67rnntHfvXs2fP1/vvPOOJJWbIXwVhdXzWCKXXY08Lh+snstWz2OJXIZzkMuuZfU8lipXLlPQwCXJ++Dfcsst2rx5s5599llJUrVq1SRJ2dnZioiIkM1m08yZM5WTkyNJ5eZ+rOLGX6VKFYf4y8sfq5LEn5iYqOzsbEmSm5ubawIuQHGvwRij1157zf4ewHmsnscSuexq5HH5YPVctnoeS+QynINcdi2r57FUyXK5bAeEoCKbN2+eqVatmpk4caLZtGmT+e2330y/fv3Mf//7X7N161Zjs9lMamqqq8MsFPG7XkW4BqurCO+B1a+B+OEMVn8frB6/Mda/BqvHX1FY/X0gfterCNdQFAoacJqzZ8+ad99919SrV89ceeWVpmHDhqZt27bm5MmTZteuXaZp06bmu+++c3WYhSJ+16sI12B1FeE9sPo1ED+cwervg9XjN8b612D1+CsKq78PxO96FeEailI+xvWgQrDZbLr99tvVqVMn7dmzR6dPn1aXLl3sw8nc3NxUr149V4dZKOJ3vYpwDVZXEd4Dq18D8cMZrP4+WD1+yfrXYPX4Kwqrvw/E73oV4RqK5OqKCiq2H3/80QwdOtT4+vqazZs3uzqcEiN+16sI12B1FeE9sPo1ED+cwervg9XjN8b612D1+CsKq78PxO96FeEa8jBCA5fNmTNnlJOTo3r16mnVqlVq2bKlq0MqEeJ3vYpwDVZXEd4Dq18D8cMZrP4+WD1+yfrXYPX4Kwqrvw/E73oV4RrOZzPm/6/pAlwmp0+fts+oa0XE73oV4RqsriK8B1a/BuKHM1j9fbB6/JL1r8Hq8VcUVn8fiN/1KsI1SBQ0AAAAAACABZWPxYoBAAAAAABKgIIGAAAAAACwHAoaAABA69at09SpU/X333+7OpTLLjk5WTabTbt27SrxvidOnNDUqVO1cuVKp8flKk8//bTef/99V4cBAECJUdAAAABat26dpk2bVikKGv369dP69esVEBBQ4n1PnDihadOmUdAAAKAcYNlWAABQYidPnpSXl5erwyiRkydPytPTU3Xr1lXdunVdHQ4AALhEjNAAAKCSmzp1qh555BFJUnBwsGw2m2w2m30UQuPGjdW/f38tWbJEbdu2laenp6ZNmyZJmjFjhrp376569eqpRo0aatWqlZ577jmdPn3a4Rw9e/ZUSEiIvvnmG3Xr1k3Vq1fXVVddpWeeeUZnz5619zt79qyeeuopNWvWTF5eXqpVq5Zat26tl156yeF427dv1+DBg+Xv7y8PDw81atRIw4YNU3Z2tqT/u63k888/14gRI1S3bl1Vr15d2dnZBd5ykhffmjVr1LFjR3l5ealhw4Z6/PHHlZubK0natWuXvRAybdo0++s0fPjwIl/fv//+W+PHj9dVV10lDw8P1atXT3379tX27dvtfQ4dOqSoqCg1bNhQ7u7uuuqqqzR58mT79eSd32azKTk5Od85bDabpk6d6vCe2mw2/fTTTxo8eLB8fHzk7++vESNG6MiRIw77HT9+XG+88Yb9enr27Cnp3GiUCRMmKDg4WJ6enqpTp47CwsK0aNGiIq8XAICywggNAAAquZEjR+rQoUN65ZVXtGTJEvutGP/4xz/sfb799ltt27ZN//nPfxQcHKwaNWpIkn777TcNGTJEwcHBcnd313fffaf//ve/2r59u+bOnetwnszMTN11110aP368pkyZoqVLlyomJkYNGjTQsGHDJEnPPfecpk6dqv/85z/q3r27Tp8+re3btzvcCvPdd9+pa9eu8vPzU2xsrJo2baqMjAx9+OGHysnJkYeHh73viBEj1K9fP7355ps6fvy4qlWrVujrkJmZqTvvvFOTJk1SbGysli1bpqeeekqHDx/Wq6++qoCAAH366ae66aabFBkZqZEjR0pSkaM9jh49qq5du2rXrl169NFH1aFDBx07dkyrV69WRkaGmjdvrlOnTqlXr1767bffNG3aNLVu3Vpr1qxRXFyctmzZomXLlhXznczvtttu06BBgxQZGakffvhBMTExkmR/b9avX6/evXurV69eevzxxyVJ3t7ekqTo6Gi9+eabeuqpp9S2bVsdP35cP/74ow4ePFjqeAAAcCoDAAAqvenTpxtJZufOnfmeCwoKMm5ubmbHjh1FHiM3N9ecPn3azJ8/37i5uZlDhw7Zn+vRo4eRZL7++muHff7xj3+YG2+80f64f//+pk2bNkWep3fv3qZWrVpm//79hfaZN2+ekWSGDRtW6HPnX2tefB988IFD3/vuu89UqVLF7N692xhjzF9//WUkmSlTphQZY57Y2FgjyaSmphbaZ+bMmUaSeeeddxzan332WSPJfP7558YYY3bu3GkkmXnz5uU7xoUxTZkyxUgyzz33nEO/qKgo4+npac6ePWtvq1GjhrnnnnvyHTMkJMTccsstxbhKAABcg1tOAADARbVu3VrXXHNNvvbNmzfr5ptvlq+vr9zc3FStWjUNGzZMubm5+vnnnx361q9fX+3bt8933N27d9sft2/fXt99952ioqL02WefKSsry6H/iRMntGrVKt1xxx3FmgfjtttuK/Y11qxZUzfffLND25AhQ3T27FmtXr262Mc53yeffKJrrrlG119/faF9vvzyS9WoUUO33367Q3verSxffPFFqc4tKd/1tG7dWqdOndL+/fsvum/79u31ySefaNKkSVq5cqVOnjxZ6jgAALgcKGgAAICLKmhFkPT0dHXr1k179+7VSy+9pDVr1uibb77RjBkzJCnfF2BfX998x/Dw8HDoFxMTo+eff14bNmxQRESEfH191adPH23atEmSdPjwYeXm5urKK68sddyF8ff3z9dWv359SSr1bRZ//fXXRWM9ePCg6tevL5vN5tBer149Va1a9ZJu8bjwNc+7Hac4xYmXX35Zjz76qN5//3316tVLderU0S233KJffvml1PEAAOBMFDQAAMBFXfhlW5Lef/99HT9+XEuWLNHdd9+trl27KiwsTO7u7qU+T9WqVRUdHa1vv/1Whw4d0qJFi7Rnzx7deOONOnHihOrUqSM3Nzf98ccfpY67MPv27cvXlpmZKangYkxx1K1b96Kx+vr6at++fTLGOLTv379fZ86ckZ+fnyTJ09NTkhwmCpVKX2y5mBo1amjatGnavn27MjMzlZSUpA0bNmjAgAGX5XwAAJQUBQ0AAFCiX+7z5BULzp+E0xij1157zSkx1apVS7fffrsefPBBHTp0SLt27ZKXl5d69Oihd999VwcOHHDKefIcPXpUH374oUPbwoULVaVKFXXv3l1SyV+niIgI/fzzz/ryyy8L7dOnTx8dO3ZM77//vkP7/Pnz7c9L50aQeHp66vvvv3fo98EHHxQrlsJcOEqmIP7+/ho+fLgGDx6sHTt26MSJE5d0TgAAnIFVTgAAgFq1aiVJeumll3TPPfeoWrVqatasmWrWrFnoPjfccIPc3d01ePBgTZw4UadOnVJSUpIOHz5c6jgGDBigkJAQhYWFqW7dutq9e7cSEhIUFBSkpk2bSpLi4+PVtWtXdejQQZMmTdLVV1+tffv26cMPP9SsWbOKjLkovr6+euCBB5Senq5rrrlGy5cv12uvvaYHHnhAjRo1knRuno2goCB98MEH6tOnj+rUqSM/Pz81bty4wGOOHTtWKSkpGjhwoCZNmqT27dvr5MmTWrVqlfr3769evXpp2LBhmjFjhu655x7t2rVLrVq10tq1a/X000+rb9++9vk3bDab7r77bs2dO1dNmjTRtddeq40bN2rhwoWlut48rVq10sqVK/XRRx8pICBANWvWVLNmzdShQwf1799frVu3Vu3atbVt2za9+eab6tSpk6pXr35J5wQAwBkYoQEAANSzZ0/FxMToo48+UteuXdWuXTulpaUVuU/z5s21ePFiHT58WP/85z81ZswYtWnTRi+//HKp4+jVq5dWr16t0aNH64YbbtB//vMf9enTR6tWrbIvuZr3RT40NFQxMTG66aab9Oijj8rDw+OSbnepX7++Fi5cqDfeeEM333yz3nnnHT322GP5ruf1119X9erVdfPNN6tdu3aaOnVqocesWbOm1q5dq8jISM2ePVv9+vXTfffdpx07dqhBgwaSzt1KsmLFCt11112aPn26IiIilJycrAkTJmjJkiUOx3vhhRd0991367nnntPAgQO1fv16ffzxx6W+ZulcEatp06a688471a5dO40aNUqS1Lt3b3344Ye69957FR4erueee07Dhg3TRx99dEnnAwDAWWzmwhs2AQAAKpmePXvqwIED+vHHH10dCgAAKCZGaAAAAAAAAMuhoAEAAAAAACyHW04AAAAAAIDlMEIDAAAAAABYDgUNAAAAAABgORQ0AAAAAACA5VDQAAAAAAAAlkNBAwAAAAAAWA4FDQAAAAAAYDkUNAAAAAAAgOVQ0AAAAAAAAJZDQQMAAAAAAFjO/wOAsMnT5kyK/gAAAABJRU5ErkJggg==",
>>>>>>> 860a80b9d225017e6565643fe96ec2de55ede5ee
      "text/plain": [
       "<Figure size 1200x500 with 4 Axes>"
      ]
     },
     "metadata": {},
     "output_type": "display_data"
    }
   ],
   "source": [
    "w = 12\n",
    "h = 5\n",
    "numCycles = len( propDistributionDF.index )\n",
    "fig, axs = plt.subplots(nrows=1, ncols=numCycles, figsize=(w, h), ) #sharey=True\n",
    "labels = propDistributionDF.columns\n",
    "\n",
    "for i in range(0, numCycles):\n",
    "    panel = axs[i]\n",
    "    panel.set_title(  propDistributionDF.index[i] )\n",
    "    values = propDistributionDF.iloc[i, :]\n",
    "    panel.bar(labels, values )\n",
    "    panel.set_xticks(panel.get_xticks(), panel.get_xticklabels(), rotation=45, ha='right')\n",
    "    ylabels = np.arange(0, 1, 0.1)\n",
    "    panel.set_yticks(ylabels)\n",
    "\n",
    "    # panel.set_title('max_samples' + \" \" + metricName, fontsize=fs)\n",
    "    #panel.set_title( metricName, fontsize=fs)\n",
    "\n",
    "title = \"Effect of PCR cycling on transcript count distribution\"\n",
    "fig.suptitle(title)\n",
    "fig.supylabel('percentage')\n",
    "fig.supxlabel('transcript counts')\n",
    "\n",
    "imgFilePath = imgOut + urlify(title) + \".png\"\n",
    "fig.savefig(imgFilePath, dpi=600, bbox_inches='tight', facecolor=\"white\", transparent=True)\n",
    "print(f'saved image to {imgFilePath}')"
   ]
  },
  {
   "cell_type": "markdown",
   "id": "955b4796-eebb-4f2e-8f05-8eb7a24ff7a5",
   "metadata": {},
   "source": [
    "# Normalization Overiew"
   ]
  },
  {
   "cell_type": "code",
   "execution_count": 7,
   "id": "39166064-4c38-47b5-8fde-eefc6da21ccc",
   "metadata": {},
   "outputs": [],
   "source": [
    "def calculateScalingFactor(intensityDF : pd.DataFrame,\n",
    "                          verbose : bool = False) -> pd.Series :\n",
    "    # print(\"\\n********** intensity\")\n",
    "    # print(intensityDF)\n",
    "    \n",
    "    # remove rows with zeros. log is undefined\n",
    "    byRows = 1\n",
    "    selectRowsWithoutZeros = (intensityDF != 0).all(axis=byRows)\n",
    "    if verbose:\n",
    "        print(\"\\n********** selectRowsWithoutZeros\")\n",
    "        display(selectRowsWithoutZeros)\n",
    "    \n",
    "    intensityDF = intensityDF.loc[selectRowsWithoutZeros, :]\n",
    "    if verbose:\n",
    "        print(\"\\n********** intensity\")\n",
    "        print(intensityDF)\n",
    "    \n",
    "    # natural log\n",
    "    # smooths over outliers\n",
    "    logIntensityDF = np.log(intensityDF)\n",
    "    if verbose:\n",
    "        print(\"\\n************ logIntensityDF \")\n",
    "        display(logIntensityDF)   \n",
    "    \n",
    "    # calculate row average of logs. ie geometric means\n",
    "    # geometric mean is not swayed by outliers. It will \n",
    "    # always be <= the arithmetic mean\n",
    "    rowMeansSeries = logIntensityDF.mean(axis=byRows)\n",
    "    if verbose:\n",
    "        print(\"\\n************ rowMeansSeries \")\n",
    "        display(rowMeansSeries)   \n",
    "    \n",
    "    # find metabolites that are signifigantly larger or smaller than \n",
    "    # the average subtracting averages from intensities\n",
    "    # log(a) - log(b) = log(a/b)\n",
    "    byCols= 0\n",
    "    outlierDF = logIntensityDF.subtract(rowMeansSeries, axis=byCols)\n",
    "    if verbose:\n",
    "        print(\"\\n************ outlierDF \")\n",
    "        print(type(outlierDF))\n",
    "        display(outlierDF)   \n",
    "    \n",
    "    # calculate the scan/sample median log(estimated scaling factors)\n",
    "    medianDF = outlierDF.median(axis=byCols)\n",
    "    if verbose:\n",
    "        print(\"\\n************ medianDF \")\n",
    "        print(type(medianDF))\n",
    "        display(medianDF)      \n",
    "    \n",
    "    # convert back to base 10\n",
    "    extimatedScalingFactorsSeries = np.exp(medianDF)\n",
    "    # print(\"\\n************ extimatedScalingFactorsSeries \")\n",
    "    # print(type(extimatedScalingFactorsSeries))\n",
    "    # display(extimatedScalingFactorsSeries)  \n",
    "    \n",
    "    return extimatedScalingFactorsSeries"
   ]
  },
  {
   "cell_type": "markdown",
   "id": "b03638f4-d0ca-4d58-bf9e-a1e05108b093",
   "metadata": {},
   "source": [
    "## Case 1 : Library Size Normalization\n",
    "No biologic difference between samples. Experiments designed to create different number of reads"
   ]
  },
  {
   "cell_type": "code",
   "execution_count": 8,
   "id": "a68f4d95-7311-484b-8033-70d055672b64",
   "metadata": {},
   "outputs": [
    {
     "data": {
      "text/html": [
       "<div>\n",
       "<style scoped>\n",
       "    .dataframe tbody tr th:only-of-type {\n",
       "        vertical-align: middle;\n",
       "    }\n",
       "\n",
       "    .dataframe tbody tr th {\n",
       "        vertical-align: top;\n",
       "    }\n",
       "\n",
       "    .dataframe thead th {\n",
       "        text-align: right;\n",
       "    }\n",
       "</style>\n",
       "<table border=\"1\" class=\"dataframe\">\n",
       "  <thead>\n",
       "    <tr style=\"text-align: right;\">\n",
       "      <th></th>\n",
       "      <th>replicate1</th>\n",
       "      <th>replicate2</th>\n",
       "    </tr>\n",
       "  </thead>\n",
       "  <tbody>\n",
       "    <tr>\n",
       "      <th>transcript1</th>\n",
       "      <td>30.0</td>\n",
       "      <td>60.0</td>\n",
       "    </tr>\n",
       "    <tr>\n",
       "      <th>transcript2</th>\n",
       "      <td>24.0</td>\n",
       "      <td>48.0</td>\n",
       "    </tr>\n",
       "    <tr>\n",
       "      <th>transcript3</th>\n",
       "      <td>0.0</td>\n",
       "      <td>0.0</td>\n",
       "    </tr>\n",
       "    <tr>\n",
       "      <th>transcript4</th>\n",
       "      <td>563.0</td>\n",
       "      <td>1126.0</td>\n",
       "    </tr>\n",
       "    <tr>\n",
       "      <th>transcript5</th>\n",
       "      <td>5.0</td>\n",
       "      <td>10.0</td>\n",
       "    </tr>\n",
       "    <tr>\n",
       "      <th>transcript6</th>\n",
       "      <td>13.0</td>\n",
       "      <td>26.0</td>\n",
       "    </tr>\n",
       "  </tbody>\n",
       "</table>\n",
       "</div>"
      ],
      "text/plain": [
       "             replicate1  replicate2\n",
       "transcript1        30.0        60.0\n",
       "transcript2        24.0        48.0\n",
       "transcript3         0.0         0.0\n",
       "transcript4       563.0      1126.0\n",
       "transcript5         5.0        10.0\n",
       "transcript6        13.0        26.0"
      ]
     },
     "execution_count": 8,
     "metadata": {},
     "output_type": "execute_result"
    }
   ],
   "source": [
    "def createLibSizeTestData() -> pd.DataFrame :\n",
    "    '''\n",
    "    The samples are identical. The only different was number of reads produced\n",
    "    '''\n",
    "    readsNP = np.array([30, 24, 0, 563, 5, 13]).reshape(6,1)\n",
    "\n",
    "    byCols = 1\n",
    "    countsNP = np.append(readsNP, \n",
    "                        readsNP * 2., \n",
    "                        axis=byCols)\n",
    "\n",
    "    # use a data frame to make it easier to understand the data\n",
    "    retDF = pd.DataFrame(countsNP, \n",
    "                             columns=[\"replicate1\", \"replicate2\"],\n",
    "                             index = [\"transcript1\", \n",
    "                                      \"transcript2\", \n",
    "                                      \"transcript3\", \n",
    "                                      \"transcript4\", \n",
    "                                      \"transcript5\",\n",
    "                                      \"transcript6\",\n",
    "                                     ])\n",
    "                         \n",
    "    return retDF\n",
    "    \n",
    "libSizeTestcountsDF = createLibSizeTestData()\n",
    "libSizeTestcountsDF"
   ]
  },
  {
   "cell_type": "code",
   "execution_count": 9,
   "id": "56a50a7e-b8a4-45c6-9e0d-43407a75c80f",
   "metadata": {},
   "outputs": [
    {
     "name": "stdout",
     "output_type": "stream",
     "text": [
      "**** raw counts\n"
     ]
    },
    {
     "data": {
      "text/html": [
       "<div>\n",
       "<style scoped>\n",
       "    .dataframe tbody tr th:only-of-type {\n",
       "        vertical-align: middle;\n",
       "    }\n",
       "\n",
       "    .dataframe tbody tr th {\n",
       "        vertical-align: top;\n",
       "    }\n",
       "\n",
       "    .dataframe thead th {\n",
       "        text-align: right;\n",
       "    }\n",
       "</style>\n",
       "<table border=\"1\" class=\"dataframe\">\n",
       "  <thead>\n",
       "    <tr style=\"text-align: right;\">\n",
       "      <th></th>\n",
       "      <th>replicate1</th>\n",
       "      <th>replicate2</th>\n",
       "    </tr>\n",
       "  </thead>\n",
       "  <tbody>\n",
       "    <tr>\n",
       "      <th>transcript1</th>\n",
       "      <td>30.0</td>\n",
       "      <td>60.0</td>\n",
       "    </tr>\n",
       "    <tr>\n",
       "      <th>transcript2</th>\n",
       "      <td>24.0</td>\n",
       "      <td>48.0</td>\n",
       "    </tr>\n",
       "    <tr>\n",
       "      <th>transcript3</th>\n",
       "      <td>0.0</td>\n",
       "      <td>0.0</td>\n",
       "    </tr>\n",
       "    <tr>\n",
       "      <th>transcript4</th>\n",
       "      <td>563.0</td>\n",
       "      <td>1126.0</td>\n",
       "    </tr>\n",
       "    <tr>\n",
       "      <th>transcript5</th>\n",
       "      <td>5.0</td>\n",
       "      <td>10.0</td>\n",
       "    </tr>\n",
       "    <tr>\n",
       "      <th>transcript6</th>\n",
       "      <td>13.0</td>\n",
       "      <td>26.0</td>\n",
       "    </tr>\n",
       "  </tbody>\n",
       "</table>\n",
       "</div>"
      ],
      "text/plain": [
       "             replicate1  replicate2\n",
       "transcript1        30.0        60.0\n",
       "transcript2        24.0        48.0\n",
       "transcript3         0.0         0.0\n",
       "transcript4       563.0      1126.0\n",
       "transcript5         5.0        10.0\n",
       "transcript6        13.0        26.0"
      ]
     },
     "metadata": {},
     "output_type": "display_data"
    },
    {
     "name": "stdout",
     "output_type": "stream",
     "text": [
      "extimatedScalingFactorsSeries :\n",
      "replicate1    0.707107\n",
      "replicate2    1.414214\n",
      "dtype: float64\n",
      "\n",
      "**** normalized counts. replicate1 and replicate2 should be identical\n"
     ]
    },
    {
     "data": {
      "text/html": [
       "<div>\n",
       "<style scoped>\n",
       "    .dataframe tbody tr th:only-of-type {\n",
       "        vertical-align: middle;\n",
       "    }\n",
       "\n",
       "    .dataframe tbody tr th {\n",
       "        vertical-align: top;\n",
       "    }\n",
       "\n",
       "    .dataframe thead th {\n",
       "        text-align: right;\n",
       "    }\n",
       "</style>\n",
       "<table border=\"1\" class=\"dataframe\">\n",
       "  <thead>\n",
       "    <tr style=\"text-align: right;\">\n",
       "      <th></th>\n",
       "      <th>replicate1</th>\n",
       "      <th>replicate2</th>\n",
       "    </tr>\n",
       "  </thead>\n",
       "  <tbody>\n",
       "    <tr>\n",
       "      <th>transcript1</th>\n",
       "      <td>42.426407</td>\n",
       "      <td>42.426407</td>\n",
       "    </tr>\n",
       "    <tr>\n",
       "      <th>transcript2</th>\n",
       "      <td>33.941125</td>\n",
       "      <td>33.941125</td>\n",
       "    </tr>\n",
       "    <tr>\n",
       "      <th>transcript3</th>\n",
       "      <td>0.000000</td>\n",
       "      <td>0.000000</td>\n",
       "    </tr>\n",
       "    <tr>\n",
       "      <th>transcript4</th>\n",
       "      <td>796.202236</td>\n",
       "      <td>796.202236</td>\n",
       "    </tr>\n",
       "    <tr>\n",
       "      <th>transcript5</th>\n",
       "      <td>7.071068</td>\n",
       "      <td>7.071068</td>\n",
       "    </tr>\n",
       "    <tr>\n",
       "      <th>transcript6</th>\n",
       "      <td>18.384776</td>\n",
       "      <td>18.384776</td>\n",
       "    </tr>\n",
       "  </tbody>\n",
       "</table>\n",
       "</div>"
      ],
      "text/plain": [
       "             replicate1  replicate2\n",
       "transcript1   42.426407   42.426407\n",
       "transcript2   33.941125   33.941125\n",
       "transcript3    0.000000    0.000000\n",
       "transcript4  796.202236  796.202236\n",
       "transcript5    7.071068    7.071068\n",
       "transcript6   18.384776   18.384776"
      ]
     },
     "metadata": {},
     "output_type": "display_data"
    }
   ],
   "source": [
    "def testLibarySizeNormalization():\n",
    "    libSizeTestcountsDF = createLibSizeTestData()\n",
    "    print(\"**** raw counts\")\n",
    "    display(libSizeTestcountsDF)\n",
    "    \n",
    "    extimatedScalingFactorsSeries = calculateScalingFactor(libSizeTestcountsDF)\n",
    "    print(f'extimatedScalingFactorsSeries :\\n{extimatedScalingFactorsSeries}')\n",
    "    \n",
    "    normalizedDF = libSizeTestcountsDF / extimatedScalingFactorsSeries\n",
    "    \n",
    "    print(\"\\n**** normalized counts. replicate1 and replicate2 should be identical\")\n",
    "    display(normalizedDF)\n",
    "    #display(np.isclose(normalizedDF['scan1'], normalizedDF['scan2']))\n",
    "    np.testing.assert_allclose( normalizedDF['replicate1'],\n",
    "                                normalizedDF['replicate2'],\n",
    "                                err_msg=\"ERROR testLibarySizeNormalization() failed \") \n",
    "\n",
    "testLibarySizeNormalization()"
   ]
  },
  {
   "cell_type": "markdown",
   "id": "c9ec099a-e2d1-4ca8-8f59-c1397bd6ea86",
   "metadata": {},
   "source": [
    "## Case 2: Library Compositions\n",
    "Samples are biologically different. One sample has more targets. This causes the sample with fewer samples to have arifically high counts.\n",
    "\n",
    "Example: \n",
    "- A drop out expereiment\n",
    "- RNA collected from different cell types"
   ]
  },
  {
   "cell_type": "code",
   "execution_count": 10,
   "id": "da504c2c-8131-49c5-8d48-ad2093aff50e",
   "metadata": {},
<<<<<<< HEAD
   "outputs": [],
=======
   "outputs": [
    {
     "data": {
      "text/html": [
       "<div>\n",
       "<style scoped>\n",
       "    .dataframe tbody tr th:only-of-type {\n",
       "        vertical-align: middle;\n",
       "    }\n",
       "\n",
       "    .dataframe tbody tr th {\n",
       "        vertical-align: top;\n",
       "    }\n",
       "\n",
       "    .dataframe thead th {\n",
       "        text-align: right;\n",
       "    }\n",
       "</style>\n",
       "<table border=\"1\" class=\"dataframe\">\n",
       "  <thead>\n",
       "    <tr style=\"text-align: right;\">\n",
       "      <th></th>\n",
       "      <th>sample1</th>\n",
       "      <th>sample2</th>\n",
       "    </tr>\n",
       "  </thead>\n",
       "  <tbody>\n",
       "    <tr>\n",
       "      <th>metabolite_1_mz_34.5</th>\n",
       "      <td>30.0</td>\n",
       "      <td>264.583333</td>\n",
       "    </tr>\n",
       "    <tr>\n",
       "      <th>metabolite_2_mz_67.0</th>\n",
       "      <td>24.0</td>\n",
       "      <td>211.666667</td>\n",
       "    </tr>\n",
       "    <tr>\n",
       "      <th>metabolite_3_mz_89.5</th>\n",
       "      <td>0.0</td>\n",
       "      <td>0.000000</td>\n",
       "    </tr>\n",
       "    <tr>\n",
       "      <th>toxin_a_mz_103.1</th>\n",
       "      <td>563.0</td>\n",
       "      <td>0.000000</td>\n",
       "    </tr>\n",
       "    <tr>\n",
       "      <th>metabolite_5_mz_121.5</th>\n",
       "      <td>5.0</td>\n",
       "      <td>44.097222</td>\n",
       "    </tr>\n",
       "    <tr>\n",
       "      <th>metabolite_6_mz_137.5</th>\n",
       "      <td>13.0</td>\n",
       "      <td>114.652778</td>\n",
       "    </tr>\n",
       "  </tbody>\n",
       "</table>\n",
       "</div>"
      ],
      "text/plain": [
       "                       sample1     sample2\n",
       "metabolite_1_mz_34.5      30.0  264.583333\n",
       "metabolite_2_mz_67.0      24.0  211.666667\n",
       "metabolite_3_mz_89.5       0.0    0.000000\n",
       "toxin_a_mz_103.1         563.0    0.000000\n",
       "metabolite_5_mz_121.5      5.0   44.097222\n",
       "metabolite_6_mz_137.5     13.0  114.652778"
      ]
     },
     "execution_count": 10,
     "metadata": {},
     "output_type": "execute_result"
    }
   ],
>>>>>>> 860a80b9d225017e6565643fe96ec2de55ede5ee
   "source": [
    "def createLibCompositionTestData() -> pd.DataFrame :\n",
    "    '''\n",
    "    step 1)\n",
    "    Create two samples. One sample represents a health control, the other a toxic exposure.\n",
    "    The only difference is the sample with the toxic exposure has an additional target\n",
    "    \n",
    "    To make it easy to evaluate the normlization algorithym the toxic's target has a very high intensity\n",
    "    \n",
    "    step 2) simulate the raw intensities\n",
    "    both sample will contain the same number of ions.\n",
    "    '''\n",
    "    tokinIntensity = 563\n",
    "    toxinIntensityNP = np.array([30, 24, 0, tokinIntensity, 5, 13]).reshape(6,1)\n",
    "    # print(f'\\n****** total intensity\\n{np.sum(toxinIntensityNP)}')\n",
    "    \n",
    "    # normal is missing toxin_a_mz_103, idx = 3\n",
    "    # simulate where extra 563 ions will be distributed\n",
    "    controlIntensityNP = np.array([30, 24, 0, 0, 5, 13]).reshape(6,1)\n",
    "    propDistNP = (controlIntensityNP / np.sum(controlIntensityNP)).reshape(1,6)\n",
    "    #print(f'\\n****** propDistNP\\n{propDistNP}')\n",
    "    \n",
    "    intensity = tokinIntensity * propDistNP\n",
    "    # print(f'\\n****** intensity\\n{intensity}')\n",
    "    # print(np.sum(intensity))\n",
    "    \n",
    "    controlRawIntensity = controlIntensityNP  + intensity.reshape(6,1)\n",
    "    # print(f'\\n****** controlRawIntensity\\n{controlRawIntensity}')\n",
    "    # print(np.sum(controlRawIntensity))\n",
    "\n",
    "    byCols = 1\n",
    "    scansNP = np.append(toxinIntensityNP, \n",
    "                        controlRawIntensity, \n",
    "                        axis=byCols)\n",
    "\n",
    "    # use a data frame to make it easier to under the data\n",
    "    retDF = pd.DataFrame(scansNP, \n",
    "                             columns=[\"sample1\", \"sample2\"],\n",
    "                             index = [\"metabolite_1_mz_34.5\", \n",
    "                                      \"metabolite_2_mz_67.0\", \n",
    "                                      \"metabolite_3_mz_89.5\", \n",
    "                                      \"toxin_a_mz_103.1\", \n",
    "                                      \"metabolite_5_mz_121.5\",\n",
    "                                      \"metabolite_6_mz_137.5\",\n",
    "                                     ])\n",
    "                         \n",
    "    return retDF\n",
    "\n",
    "#createLibCompositionTestData()"
   ]
  },
  {
   "cell_type": "code",
   "execution_count": 11,
   "id": "dcb05305-afb2-45b3-8450-7f4951ab8fde",
   "metadata": {},
   "outputs": [
    {
     "name": "stdout",
     "output_type": "stream",
     "text": [
      "**** raw intensities\n"
     ]
    },
    {
     "data": {
      "text/html": [
       "<div>\n",
       "<style scoped>\n",
       "    .dataframe tbody tr th:only-of-type {\n",
       "        vertical-align: middle;\n",
       "    }\n",
       "\n",
       "    .dataframe tbody tr th {\n",
       "        vertical-align: top;\n",
       "    }\n",
       "\n",
       "    .dataframe thead th {\n",
       "        text-align: right;\n",
       "    }\n",
       "</style>\n",
       "<table border=\"1\" class=\"dataframe\">\n",
       "  <thead>\n",
       "    <tr style=\"text-align: right;\">\n",
       "      <th></th>\n",
       "      <th>sample1</th>\n",
       "      <th>sample2</th>\n",
       "    </tr>\n",
       "  </thead>\n",
       "  <tbody>\n",
       "    <tr>\n",
       "      <th>metabolite_1_mz_34.5</th>\n",
       "      <td>30.0</td>\n",
       "      <td>264.583333</td>\n",
       "    </tr>\n",
       "    <tr>\n",
       "      <th>metabolite_2_mz_67.0</th>\n",
       "      <td>24.0</td>\n",
       "      <td>211.666667</td>\n",
       "    </tr>\n",
       "    <tr>\n",
       "      <th>metabolite_3_mz_89.5</th>\n",
       "      <td>0.0</td>\n",
       "      <td>0.000000</td>\n",
       "    </tr>\n",
       "    <tr>\n",
       "      <th>toxin_a_mz_103.1</th>\n",
       "      <td>563.0</td>\n",
       "      <td>0.000000</td>\n",
       "    </tr>\n",
       "    <tr>\n",
       "      <th>metabolite_5_mz_121.5</th>\n",
       "      <td>5.0</td>\n",
       "      <td>44.097222</td>\n",
       "    </tr>\n",
       "    <tr>\n",
       "      <th>metabolite_6_mz_137.5</th>\n",
       "      <td>13.0</td>\n",
       "      <td>114.652778</td>\n",
       "    </tr>\n",
       "  </tbody>\n",
       "</table>\n",
       "</div>"
      ],
      "text/plain": [
       "                       sample1     sample2\n",
       "metabolite_1_mz_34.5      30.0  264.583333\n",
       "metabolite_2_mz_67.0      24.0  211.666667\n",
       "metabolite_3_mz_89.5       0.0    0.000000\n",
       "toxin_a_mz_103.1         563.0    0.000000\n",
       "metabolite_5_mz_121.5      5.0   44.097222\n",
       "metabolite_6_mz_137.5     13.0  114.652778"
      ]
     },
     "metadata": {},
     "output_type": "display_data"
    },
    {
     "name": "stdout",
     "output_type": "stream",
     "text": [
      "\n",
      "**** extimatedScalingFactorsSeries\n"
     ]
    },
    {
     "data": {
      "text/plain": [
       "sample1    0.336728\n",
       "sample2    2.969755\n",
       "dtype: float64"
      ]
     },
     "metadata": {},
     "output_type": "display_data"
    },
    {
     "name": "stdout",
     "output_type": "stream",
     "text": [
      "\n",
      "**** normalized intensities\n",
      "target found in boths samples should have identical intensities\n"
     ]
    },
    {
     "data": {
      "text/html": [
       "<div>\n",
       "<style scoped>\n",
       "    .dataframe tbody tr th:only-of-type {\n",
       "        vertical-align: middle;\n",
       "    }\n",
       "\n",
       "    .dataframe tbody tr th {\n",
       "        vertical-align: top;\n",
       "    }\n",
       "\n",
       "    .dataframe thead th {\n",
       "        text-align: right;\n",
       "    }\n",
       "</style>\n",
       "<table border=\"1\" class=\"dataframe\">\n",
       "  <thead>\n",
       "    <tr style=\"text-align: right;\">\n",
       "      <th></th>\n",
       "      <th>sample1</th>\n",
       "      <th>sample2</th>\n",
       "    </tr>\n",
       "  </thead>\n",
       "  <tbody>\n",
       "    <tr>\n",
       "      <th>metabolite_1_mz_34.5</th>\n",
       "      <td>89.092648</td>\n",
       "      <td>89.092648</td>\n",
       "    </tr>\n",
       "    <tr>\n",
       "      <th>metabolite_2_mz_67.0</th>\n",
       "      <td>71.274119</td>\n",
       "      <td>71.274119</td>\n",
       "    </tr>\n",
       "    <tr>\n",
       "      <th>metabolite_3_mz_89.5</th>\n",
       "      <td>0.000000</td>\n",
       "      <td>0.000000</td>\n",
       "    </tr>\n",
       "    <tr>\n",
       "      <th>toxin_a_mz_103.1</th>\n",
       "      <td>1671.972035</td>\n",
       "      <td>0.000000</td>\n",
       "    </tr>\n",
       "    <tr>\n",
       "      <th>metabolite_5_mz_121.5</th>\n",
       "      <td>14.848775</td>\n",
       "      <td>14.848775</td>\n",
       "    </tr>\n",
       "    <tr>\n",
       "      <th>metabolite_6_mz_137.5</th>\n",
       "      <td>38.606814</td>\n",
       "      <td>38.606814</td>\n",
       "    </tr>\n",
       "  </tbody>\n",
       "</table>\n",
       "</div>"
      ],
      "text/plain": [
       "                           sample1    sample2\n",
       "metabolite_1_mz_34.5     89.092648  89.092648\n",
       "metabolite_2_mz_67.0     71.274119  71.274119\n",
       "metabolite_3_mz_89.5      0.000000   0.000000\n",
       "toxin_a_mz_103.1       1671.972035   0.000000\n",
       "metabolite_5_mz_121.5    14.848775  14.848775\n",
       "metabolite_6_mz_137.5    38.606814  38.606814"
      ]
     },
     "metadata": {},
     "output_type": "display_data"
    }
   ],
   "source": [
    "def testLibaryCompisionNormalization():\n",
    "    rawIntensitiesDF = createLibCompositionTestData()\n",
    "    print(\"**** raw intensities\")\n",
    "    display(rawIntensitiesDF)\n",
    "    \n",
    "    extimatedScalingFactorsSeries = calculateScalingFactor(rawIntensitiesDF)\n",
    "    print(\"\\n**** extimatedScalingFactorsSeries\")\n",
    "    display(extimatedScalingFactorsSeries)\n",
    "    \n",
    "    normalizedDF = rawIntensitiesDF / extimatedScalingFactorsSeries\n",
    "    print(\"\\n**** normalized intensities\")\n",
    "    print(\"target found in boths samples should have identical intensities\")\n",
    "    display(normalizedDF)\n",
    "    \n",
    "    # test the intersection of mz targets is the same after normalization\n",
    "    byRows = 1\n",
    "    selectRowsWithoutZeros = (normalizedDF != 0).all(axis=byRows)\n",
    "    testResultsDF = normalizedDF.loc[selectRowsWithoutZeros, :]\n",
    "    np.testing.assert_allclose( testResultsDF['sample1'],\n",
    "                                testResultsDF['sample2'],\n",
    "                                err_msg=\"ERROR testLibaryCompisionNormalization() failed \")     \n",
    "\n",
    "testLibaryCompisionNormalization()"
   ]
  },
  {
   "cell_type": "markdown",
   "id": "cce0c80d-29d5-4076-b669-33367e2843d3",
   "metadata": {},
   "source": [
    "# Evaluate normalization on PCR products"
   ]
  },
  {
   "cell_type": "code",
   "execution_count": 12,
   "id": "669eb1f6-4447-477c-9dc7-514898524acf",
   "metadata": {},
   "outputs": [],
   "source": [
    "def testPCRNormalization(df : pd.DataFrame, \n",
    "                         idx1 : str, \n",
    "                         idx2 : str) -> bool :\n",
    "    '''\n",
    "    TODO\n",
    "    '''\n",
    "    testDF =  PCR_transcriptCountsDF.loc[ [idx1, idx2] ]\n",
    "    extimatedScalingFactorsSeries = calculateScalingFactor( testDF )\n",
    "    print(f'extimatedScalingFactorsSeries :\\n{extimatedScalingFactorsSeries}')\n",
    "\n",
    "    print(\"\\n**** normalized counts. replicate1 and replicate2 should be identical\")    \n",
    "    normalizedDF = testDF / extimatedScalingFactorsSeries\n",
    "    display(normalizedDF)\n",
    "\n",
<<<<<<< HEAD
    "    isEqual = normalizedDF.loc[idx1, :] * 2 == normalizedDF.loc[idx2, :]\n",
=======
    "    isEqual = normalizedDF.loc[idx1, :] == normalizedDF.loc[idx2, :]\n",
>>>>>>> 860a80b9d225017e6565643fe96ec2de55ede5ee
    "\n",
    "    if isEqual.all()  :\n",
    "        ret = True\n",
    "        print(f'test passed: {idx1} * 2 == {idx2} are identical')\n",
    "    else:\n",
    "        ret = False\n",
    "        print(f'test failed: replicants are not identical')\n",
    "\n",
    "    return ret"
   ]
  },
  {
   "cell_type": "code",
   "execution_count": 13,
   "id": "6e5d261a-f032-4b5f-b47c-6bfbfe9d2216",
   "metadata": {},
   "outputs": [
    {
     "name": "stdout",
     "output_type": "stream",
     "text": [
      "extimatedScalingFactorsSeries :\n",
      "g1    0.353553\n",
      "g2    0.707107\n",
      "g3    1.414214\n",
      "g4    2.828427\n",
      "dtype: float64\n",
      "\n",
      "**** normalized counts. replicate1 and replicate2 should be identical\n"
     ]
    },
    {
     "data": {
      "text/html": [
       "<div>\n",
       "<style scoped>\n",
       "    .dataframe tbody tr th:only-of-type {\n",
       "        vertical-align: middle;\n",
       "    }\n",
       "\n",
       "    .dataframe tbody tr th {\n",
       "        vertical-align: top;\n",
       "    }\n",
       "\n",
       "    .dataframe thead th {\n",
       "        text-align: right;\n",
       "    }\n",
       "</style>\n",
       "<table border=\"1\" class=\"dataframe\">\n",
       "  <thead>\n",
       "    <tr style=\"text-align: right;\">\n",
       "      <th></th>\n",
       "      <th>g1</th>\n",
       "      <th>g2</th>\n",
       "      <th>g3</th>\n",
       "      <th>g4</th>\n",
       "    </tr>\n",
       "  </thead>\n",
       "  <tbody>\n",
       "    <tr>\n",
       "      <th>groundTruth</th>\n",
       "      <td>5.656854</td>\n",
       "      <td>5.656854</td>\n",
       "      <td>5.656854</td>\n",
       "      <td>5.656854</td>\n",
       "    </tr>\n",
       "    <tr>\n",
       "      <th>cycle1</th>\n",
       "      <td>11.313708</td>\n",
       "      <td>11.313708</td>\n",
       "      <td>11.313708</td>\n",
       "      <td>11.313708</td>\n",
       "    </tr>\n",
       "  </tbody>\n",
       "</table>\n",
       "</div>"
      ],
      "text/plain": [
       "                    g1         g2         g3         g4\n",
       "groundTruth   5.656854   5.656854   5.656854   5.656854\n",
       "cycle1       11.313708  11.313708  11.313708  11.313708"
      ]
     },
     "metadata": {},
     "output_type": "display_data"
    },
    {
     "name": "stdout",
     "output_type": "stream",
     "text": [
<<<<<<< HEAD
      "test passed: groundTruth * 2 == cycle1 are identical\n"
=======
      "test failed: replicants are not identical\n"
>>>>>>> 860a80b9d225017e6565643fe96ec2de55ede5ee
     ]
    },
    {
     "data": {
      "text/plain": [
<<<<<<< HEAD
       "True"
=======
       "False"
>>>>>>> 860a80b9d225017e6565643fe96ec2de55ede5ee
      ]
     },
     "execution_count": 13,
     "metadata": {},
     "output_type": "execute_result"
    }
   ],
   "source": [
    "testPCRNormalization(PCR_transcriptCountsDF, \"groundTruth\",  \"cycle1\")"
   ]
<<<<<<< HEAD
=======
  },
  {
   "cell_type": "code",
   "execution_count": 14,
   "id": "85e37dd2-8d3b-483c-9fe2-bdd2c8904192",
   "metadata": {},
   "outputs": [
    {
     "name": "stdout",
     "output_type": "stream",
     "text": [
      "extimatedScalingFactorsSeries :\n",
      "g1     0.074325\n",
      "g2     0.420448\n",
      "g3     2.378414\n",
      "g4    13.454343\n",
      "dtype: float64\n",
      "\n",
      "**** normalized counts. replicate1 and replicate2 should be identical\n"
     ]
    },
    {
     "data": {
      "text/html": [
       "<div>\n",
       "<style scoped>\n",
       "    .dataframe tbody tr th:only-of-type {\n",
       "        vertical-align: middle;\n",
       "    }\n",
       "\n",
       "    .dataframe tbody tr th {\n",
       "        vertical-align: top;\n",
       "    }\n",
       "\n",
       "    .dataframe thead th {\n",
       "        text-align: right;\n",
       "    }\n",
       "</style>\n",
       "<table border=\"1\" class=\"dataframe\">\n",
       "  <thead>\n",
       "    <tr style=\"text-align: right;\">\n",
       "      <th></th>\n",
       "      <th>g1</th>\n",
       "      <th>g2</th>\n",
       "      <th>g3</th>\n",
       "      <th>g4</th>\n",
       "    </tr>\n",
       "  </thead>\n",
       "  <tbody>\n",
       "    <tr>\n",
       "      <th>cycle1</th>\n",
       "      <td>53.817371</td>\n",
       "      <td>38.054628</td>\n",
       "      <td>26.908685</td>\n",
       "      <td>19.027314</td>\n",
       "    </tr>\n",
       "    <tr>\n",
       "      <th>cycle2</th>\n",
       "      <td>107.634741</td>\n",
       "      <td>152.218511</td>\n",
       "      <td>215.269482</td>\n",
       "      <td>304.437021</td>\n",
       "    </tr>\n",
       "  </tbody>\n",
       "</table>\n",
       "</div>"
      ],
      "text/plain": [
       "                g1          g2          g3          g4\n",
       "cycle1   53.817371   38.054628   26.908685   19.027314\n",
       "cycle2  107.634741  152.218511  215.269482  304.437021"
      ]
     },
     "metadata": {},
     "output_type": "display_data"
    },
    {
     "name": "stdout",
     "output_type": "stream",
     "text": [
      "test failed: replicants are not identical\n"
     ]
    },
    {
     "data": {
      "text/plain": [
       "False"
      ]
     },
     "execution_count": 14,
     "metadata": {},
     "output_type": "execute_result"
    }
   ],
   "source": [
    "testPCRNormalization(PCR_transcriptCountsDF,  \"cycle1\" , \"cycle2\")"
   ]
  },
  {
   "cell_type": "code",
   "execution_count": 15,
   "id": "ccdb3c33-7239-4708-9459-7c73b6538c36",
   "metadata": {},
   "outputs": [
    {
     "name": "stdout",
     "output_type": "stream",
     "text": [
      "extimatedScalingFactorsSeries :\n",
      "g1     0.026278\n",
      "g2     0.297302\n",
      "g3     3.363586\n",
      "g4    38.054628\n",
      "dtype: float64\n",
      "\n",
      "**** normalized counts. replicate1 and replicate2 should be identical\n"
     ]
    },
    {
     "data": {
      "text/html": [
       "<div>\n",
       "<style scoped>\n",
       "    .dataframe tbody tr th:only-of-type {\n",
       "        vertical-align: middle;\n",
       "    }\n",
       "\n",
       "    .dataframe tbody tr th {\n",
       "        vertical-align: top;\n",
       "    }\n",
       "\n",
       "    .dataframe thead th {\n",
       "        text-align: right;\n",
       "    }\n",
       "</style>\n",
       "<table border=\"1\" class=\"dataframe\">\n",
       "  <thead>\n",
       "    <tr style=\"text-align: right;\">\n",
       "      <th></th>\n",
       "      <th>g1</th>\n",
       "      <th>g2</th>\n",
       "      <th>g3</th>\n",
       "      <th>g4</th>\n",
       "    </tr>\n",
       "  </thead>\n",
       "  <tbody>\n",
       "    <tr>\n",
       "      <th>cycle2</th>\n",
       "      <td>304.437021</td>\n",
       "      <td>215.269482</td>\n",
       "      <td>152.218511</td>\n",
       "      <td>107.634741</td>\n",
       "    </tr>\n",
       "    <tr>\n",
       "      <th>cycle3</th>\n",
       "      <td>608.874043</td>\n",
       "      <td>861.077929</td>\n",
       "      <td>1217.748086</td>\n",
       "      <td>1722.155858</td>\n",
       "    </tr>\n",
       "  </tbody>\n",
       "</table>\n",
       "</div>"
      ],
      "text/plain": [
       "                g1          g2           g3           g4\n",
       "cycle2  304.437021  215.269482   152.218511   107.634741\n",
       "cycle3  608.874043  861.077929  1217.748086  1722.155858"
      ]
     },
     "metadata": {},
     "output_type": "display_data"
    },
    {
     "name": "stdout",
     "output_type": "stream",
     "text": [
      "test failed: replicants are not identical\n"
     ]
    },
    {
     "data": {
      "text/plain": [
       "False"
      ]
     },
     "execution_count": 15,
     "metadata": {},
     "output_type": "execute_result"
    }
   ],
   "source": [
    "testPCRNormalization(PCR_transcriptCountsDF,  \"cycle2\" , \"cycle3\")"
   ]
  },
  {
   "cell_type": "markdown",
   "id": "70c3d13d-c6de-42ea-bfe9-cda83bf5347f",
   "metadata": {},
   "source": [
    "# Correcting for PCR Bias\n",
    "We can correct for PCR bias by taking the nth root of our transcript counts, where n is the number of thermo cycles"
   ]
  },
  {
   "cell_type": "code",
   "execution_count": 16,
   "id": "dd73d932-0580-492b-8d3e-f00a34048224",
   "metadata": {},
   "outputs": [
    {
     "data": {
      "text/plain": [
       "g1     2.0\n",
       "g2     4.0\n",
       "g3     8.0\n",
       "g4    16.0\n",
       "Name: groundTruth, dtype: float64"
      ]
     },
     "execution_count": 16,
     "metadata": {},
     "output_type": "execute_result"
    }
   ],
   "source": [
    "PCR_transcriptCountsDF.loc[ 'groundTruth', :].pow(1/1)"
   ]
  },
  {
   "cell_type": "code",
   "execution_count": 17,
   "id": "fc82df58-8916-4aeb-abb7-6a2c33592da1",
   "metadata": {},
   "outputs": [
    {
     "data": {
      "text/plain": [
       "g1     2.0\n",
       "g2     4.0\n",
       "g3     8.0\n",
       "g4    16.0\n",
       "Name: cycle1, dtype: float64"
      ]
     },
     "execution_count": 17,
     "metadata": {},
     "output_type": "execute_result"
    }
   ],
   "source": [
    "PCR_transcriptCountsDF.loc[ 'cycle1', :].pow(1/2)"
   ]
  },
  {
   "cell_type": "code",
   "execution_count": 18,
   "id": "fd0892cb-db40-4ad1-aab7-d99068b8f0ec",
   "metadata": {},
   "outputs": [
    {
     "data": {
      "text/plain": [
       "g1     2.0\n",
       "g2     4.0\n",
       "g3     8.0\n",
       "g4    16.0\n",
       "Name: cycle2, dtype: float64"
      ]
     },
     "execution_count": 18,
     "metadata": {},
     "output_type": "execute_result"
    }
   ],
   "source": [
    "PCR_transcriptCountsDF.loc[ 'cycle2', :].pow(1/3)"
   ]
  },
  {
   "cell_type": "code",
   "execution_count": 19,
   "id": "7e21afe1-f0dc-4c13-9653-5255aba9b488",
   "metadata": {},
   "outputs": [
    {
     "data": {
      "text/plain": [
       "g1     2.0\n",
       "g2     4.0\n",
       "g3     8.0\n",
       "g4    16.0\n",
       "Name: cycle3, dtype: float64"
      ]
     },
     "execution_count": 19,
     "metadata": {},
     "output_type": "execute_result"
    }
   ],
   "source": [
    "PCR_transcriptCountsDF.loc[ 'cycle3', :].pow(1/4)"
   ]
  },
  {
   "cell_type": "markdown",
   "id": "c1be6417-03bb-4ebb-aaea-103afb107b1a",
   "metadata": {},
   "source": [
    "## Experimental Design\n",
    "\n",
    "Does the simulated bias data match real experimental data?\n",
    "\n",
    "Does our proposed correction before DESeq normalization work?\n",
    "\n",
    "1) use 4 PCR reaction to creates 4 unique templates\n",
    "   * each design 4 sets of primers\n",
    "   * run each pair of primers in its own reaction\n",
    "2) create mixture of the PCR products\n",
    "   * create a know \"ground trueth\"\n",
    "   * each product should be a different concentration\n",
    "   * make the math easy\n",
    "     + b has twice as many products as a\n",
    "     + c has twice as many products as b\n",
    "     + ...\n",
    "\n",
    "3) run mixutre using different thermo cycler programs.\n",
    "    * 1 cycle\n",
    "    * 2 cycles\n",
    "    * 4 cycles\n",
    "    * ...\n",
    "  \n",
    "4) sequence and quantify the products of the different thermo cycler programs"
   ]
  },
  {
   "cell_type": "code",
   "execution_count": null,
   "id": "f51206a1-34c4-46b0-ae66-e34d452d8402",
   "metadata": {},
   "outputs": [],
   "source": []
>>>>>>> 860a80b9d225017e6565643fe96ec2de55ede5ee
  }
 ],
 "metadata": {
  "kernelspec": {
   "display_name": "Python 3 (ipykernel)",
   "language": "python",
   "name": "python3"
  },
  "language_info": {
   "codemirror_mode": {
    "name": "ipython",
    "version": 3
   },
   "file_extension": ".py",
   "mimetype": "text/x-python",
   "name": "python",
   "nbconvert_exporter": "python",
   "pygments_lexer": "ipython3",
   "version": "3.11.4"
  }
 },
 "nbformat": 4,
 "nbformat_minor": 5
}
