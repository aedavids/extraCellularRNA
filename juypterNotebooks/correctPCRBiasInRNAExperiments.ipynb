{
 "cells": [
  {
   "cell_type": "markdown",
   "id": "96273b19-3b57-4282-96c6-8fb6933432ec",
   "metadata": {},
   "source": [
    "# How to correct for PCR bias in RNA expriment\n",
    "Andrew E. Davidson  \n",
    "aedavids@ucsc.edu  \n",
    "\n",
    "Copyright (c) 2020-2023, Regents of the University of California All rights reserved. https://polyformproject.org/licenses/noncommercial/1.0.0\n",
    "\n",
    "\n",
    "## Abstract\n",
    "PCR and cDNA are common methods. In general amplification is a valid method in\n",
    "- transfomation and transfection\n",
    "  * we have very small sequence we wish to clone\n",
    "  * we want to create as many templates as possible\n",
    "- DNA sequencing (Shotgun sequencing)\n",
    "  * DNA is double stranded\n",
    "  * we can assume the fragment counts are uniformaly distributed. I.e. if we ignore repeats a fragment may occur at most twice\n",
    "\n",
    "PCR introduces signfigant bias into RNA experiments that is not corrected in current RNA normalization methods. We know that many factors including cell type, environment, diease, behavior affect RNA to expression level. Repeated thermo cycling create probablity distrbution that are heavly biased toward high count gene expression levels in the original sample.\n",
    "\n",
    "### Table of Contents\n",
    "- simulated PCR data\n",
    "    * see cell [6] figure \"Effect of PCR cycling on transcript count distribution\"\n",
    "- overview of DESeq Normalization\n",
    "    * see cell [7]\n",
    "    * This is what we use\n",
    "- Evaluate normalization on PCR products cell [12]\n",
    "  * it does not work\n",
    " - Correcting for PCR Bias cell [16]\n",
    " - Experimental Design cell[19]"
   ]
  },
  {
   "cell_type": "code",
   "execution_count": 1,
   "id": "b14994c3-d977-477c-9fa8-bd7165064a68",
   "metadata": {},
   "outputs": [
    {
     "name": "stdout",
     "output_type": "stream",
     "text": [
      "outDir:\n",
      "/private/home/aedavids/extraCellularRNA/juypterNotebooks/correctPCRBiasInRNAExperiments.out\n",
      "\n",
      "imgOut :\n",
      "/private/home/aedavids/extraCellularRNA/juypterNotebooks/correctPCRBiasInRNAExperiments.out/img\n"
     ]
    },
    {
     "name": "stderr",
     "output_type": "stream",
     "text": [
      "/data/tmp/ipykernel_2804566/2839616518.py:5: DeprecationWarning: \n",
      "Pyarrow will become a required dependency of pandas in the next major release of pandas (pandas 3.0),\n",
      "(to allow more performant data types, such as the Arrow string type, and better interoperability with other libraries)\n",
      "but was not found to be installed on your system.\n",
      "If this would cause problems for you,\n",
      "please provide us feedback at https://github.com/pandas-dev/pandas/issues/54466\n",
      "        \n",
      "  import pandas as pd\n"
     ]
    }
   ],
   "source": [
    "import ipynbname\n",
    "import matplotlib.pyplot as plt\n",
    "import numpy as np\n",
    "import os\n",
    "import pandas as pd\n",
    "import sys\n",
    "\n",
    "notebookName = ipynbname.name()\n",
    "notebookPath = ipynbname.path()\n",
    "notebookDir = os.path.dirname(notebookPath)\n",
    "\n",
    "outDir = f'{notebookDir}/{notebookName}.out'\n",
    "os.makedirs(outDir, exist_ok=True)\n",
    "print(f'outDir:\\n{outDir}')\n",
    "\n",
    "imgOut = f'{outDir}/img'\n",
    "os.makedirs(imgOut, exist_ok=True)\n",
    "print(f'\\nimgOut :\\n{imgOut}')"
   ]
  },
  {
   "cell_type": "code",
   "execution_count": 2,
   "id": "aca7e53c-57bb-436d-81dc-e17b524a1242",
   "metadata": {},
   "outputs": [
    {
     "name": "stdout",
     "output_type": "stream",
     "text": [
      "ORIG_PYTHONPATH: :/private/home/aedavids/extraCellularRNA/src\n",
      "\n",
      "deconvolutionModules: /private/home/aedavids/extraCellularRNA/deconvolutionAnalysis/python\n",
      "\n"
     ]
    }
   ],
   "source": [
    "# setting the python path allows us to run python scripts from using\n",
    "# the CLI. \n",
    "PYTHONPATH = os.environ['PYTHONPATH']\n",
    "print(\"ORIG_PYTHONPATH: {}\\n\".format(PYTHONPATH))\n",
    "\n",
    "gitRepoRoot = !git rev-parse --show-toplevel\n",
    "gitRepoRoot = gitRepoRoot[0]\n",
    "\n",
    "#\n",
    "# add deconvolutionAnalysis modules\n",
    "#\n",
    "deconvolutionModules = f'{gitRepoRoot}/deconvolutionAnalysis/python'\n",
    "print(\"deconvolutionModules: {}\\n\".format(deconvolutionModules))\n",
    "\n",
    "PYTHONPATH = PYTHONPATH + f':{deconvolutionModules}'\n",
    "#print(\"PYTHONPATH: {}\\n\".format(PYTHONPATH))\n",
    "\n",
    "sys.path.append( str(deconvolutionModules) )\n",
    "#print(\"\\nsys.path:\\n{}\\n\".format(sys.path))"
   ]
  },
  {
   "cell_type": "code",
   "execution_count": 3,
   "id": "d8fa74ae-d346-4394-a505-ad5596b78b0f",
   "metadata": {},
   "outputs": [],
   "source": [
    "from pipeline.dataFactory.utilities import urlify"
   ]
  },
  {
   "cell_type": "markdown",
   "id": "b15fb905-6cae-4062-a9cd-6cbb90874bd0",
   "metadata": {},
   "source": [
    "## Simulated PCR data"
   ]
  },
  {
   "cell_type": "code",
   "execution_count": 4,
   "id": "e9c780a5-c848-417d-814b-f61e9fa45eb5",
   "metadata": {},
   "outputs": [
    {
     "data": {
      "text/html": [
       "<div>\n",
       "<style scoped>\n",
       "    .dataframe tbody tr th:only-of-type {\n",
       "        vertical-align: middle;\n",
       "    }\n",
       "\n",
       "    .dataframe tbody tr th {\n",
       "        vertical-align: top;\n",
       "    }\n",
       "\n",
       "    .dataframe thead th {\n",
       "        text-align: right;\n",
       "    }\n",
       "</style>\n",
       "<table border=\"1\" class=\"dataframe\">\n",
       "  <thead>\n",
       "    <tr style=\"text-align: right;\">\n",
       "      <th></th>\n",
       "      <th>g1</th>\n",
       "      <th>g2</th>\n",
       "      <th>g3</th>\n",
       "      <th>g4</th>\n",
       "    </tr>\n",
       "  </thead>\n",
       "  <tbody>\n",
       "    <tr>\n",
       "      <th>groundTruth</th>\n",
       "      <td>2</td>\n",
       "      <td>4</td>\n",
       "      <td>8</td>\n",
       "      <td>16</td>\n",
       "    </tr>\n",
       "    <tr>\n",
       "      <th>cycle1</th>\n",
       "      <td>4</td>\n",
       "      <td>16</td>\n",
       "      <td>64</td>\n",
       "      <td>256</td>\n",
       "    </tr>\n",
       "    <tr>\n",
       "      <th>cycle2</th>\n",
       "      <td>8</td>\n",
       "      <td>64</td>\n",
       "      <td>512</td>\n",
       "      <td>4096</td>\n",
       "    </tr>\n",
       "    <tr>\n",
       "      <th>cycle3</th>\n",
       "      <td>16</td>\n",
       "      <td>256</td>\n",
       "      <td>4096</td>\n",
       "      <td>65536</td>\n",
       "    </tr>\n",
       "  </tbody>\n",
       "</table>\n",
       "</div>"
      ],
      "text/plain": [
       "             g1   g2    g3     g4\n",
       "groundTruth   2    4     8     16\n",
       "cycle1        4   16    64    256\n",
       "cycle2        8   64   512   4096\n",
       "cycle3       16  256  4096  65536"
      ]
     },
     "execution_count": 4,
     "metadata": {},
     "output_type": "execute_result"
    }
   ],
   "source": [
    "transcriptCountsNP = np.array( \n",
    "                    [\n",
    "                        np.power( [2, 4, 8, 16], 1),\n",
    "                        np.power( [2, 4, 8, 16], 2),\n",
    "                        np.power( [2, 4, 8, 16], 3),\n",
    "                        np.power( [2, 4, 8, 16], 4),\n",
    "\n",
    "                    ])\n",
    "transcriptCountCols = [\"g1\", \"g2\", \"g3\", \"g4\"]\n",
    "PCR_transcriptCountsDF = pd.DataFrame( \n",
    "                    transcriptCountsNP, \n",
    "                    index = [\"groundTruth\", \"cycle1\", \"cycle2\", \"cycle3\"],\n",
    "                    columns = transcriptCountCols\n",
    "                 )\n",
    "\n",
    "PCR_transcriptCountsDF"
   ]
  },
  {
   "cell_type": "code",
   "execution_count": 5,
   "id": "7e845ab9-3391-4247-ad2f-5fc3089efed0",
   "metadata": {},
   "outputs": [
    {
     "data": {
      "text/html": [
       "<div>\n",
       "<style scoped>\n",
       "    .dataframe tbody tr th:only-of-type {\n",
       "        vertical-align: middle;\n",
       "    }\n",
       "\n",
       "    .dataframe tbody tr th {\n",
       "        vertical-align: top;\n",
       "    }\n",
       "\n",
       "    .dataframe thead th {\n",
       "        text-align: right;\n",
       "    }\n",
       "</style>\n",
       "<table border=\"1\" class=\"dataframe\">\n",
       "  <thead>\n",
       "    <tr style=\"text-align: right;\">\n",
       "      <th></th>\n",
       "      <th>g1</th>\n",
       "      <th>g2</th>\n",
       "      <th>g3</th>\n",
       "      <th>g4</th>\n",
       "    </tr>\n",
       "  </thead>\n",
       "  <tbody>\n",
       "    <tr>\n",
       "      <th>groundTruth</th>\n",
       "      <td>0.066667</td>\n",
       "      <td>0.133333</td>\n",
       "      <td>0.266667</td>\n",
       "      <td>0.533333</td>\n",
       "    </tr>\n",
       "    <tr>\n",
       "      <th>cycle1</th>\n",
       "      <td>0.011765</td>\n",
       "      <td>0.047059</td>\n",
       "      <td>0.188235</td>\n",
       "      <td>0.752941</td>\n",
       "    </tr>\n",
       "    <tr>\n",
       "      <th>cycle2</th>\n",
       "      <td>0.001709</td>\n",
       "      <td>0.013675</td>\n",
       "      <td>0.109402</td>\n",
       "      <td>0.875214</td>\n",
       "    </tr>\n",
       "    <tr>\n",
       "      <th>cycle3</th>\n",
       "      <td>0.000229</td>\n",
       "      <td>0.003662</td>\n",
       "      <td>0.058595</td>\n",
       "      <td>0.937514</td>\n",
       "    </tr>\n",
       "  </tbody>\n",
       "</table>\n",
       "</div>"
      ],
      "text/plain": [
       "                   g1        g2        g3        g4\n",
       "groundTruth  0.066667  0.133333  0.266667  0.533333\n",
       "cycle1       0.011765  0.047059  0.188235  0.752941\n",
       "cycle2       0.001709  0.013675  0.109402  0.875214\n",
       "cycle3       0.000229  0.003662  0.058595  0.937514"
      ]
     },
     "execution_count": 5,
     "metadata": {},
     "output_type": "execute_result"
    }
   ],
   "source": [
    "byCols = 1\n",
    "rowSumsSeries = PCR_transcriptCountsDF.sum(axis=byCols) \n",
    "byIndex = 0\n",
    "propDistributionDF = PCR_transcriptCountsDF.loc[:, transcriptCountCols].div( rowSumsSeries, axis=byIndex )\n",
    "\n",
    "propDistributionDF"
   ]
  },
  {
   "cell_type": "code",
   "execution_count": 6,
   "id": "e5c4db78-7f96-4dbe-b18c-1f17dd596038",
   "metadata": {},
   "outputs": [
    {
     "name": "stdout",
     "output_type": "stream",
     "text": [
      "saved image to /private/home/aedavids/extraCellularRNA/juypterNotebooks/correctPCRBiasInRNAExperiments.out/imgEffect-of-PCR-cycling-on-transcript-count-distribution.png\n"
     ]
    },
    {
     "data": {
      "image/png": "[encoded data removed]",
      "text/plain": [
       "<Figure size 1200x500 with 4 Axes>"
      ]
     },
     "metadata": {},
     "output_type": "display_data"
    }
   ],
   "source": [
    "w = 12\n",
    "h = 5\n",
    "numCycles = len( propDistributionDF.index )\n",
    "fig, axs = plt.subplots(nrows=1, ncols=numCycles, figsize=(w, h), ) #sharey=True\n",
    "labels = propDistributionDF.columns\n",
    "\n",
    "for i in range(0, numCycles):\n",
    "    panel = axs[i]\n",
    "    panel.set_title(  propDistributionDF.index[i] )\n",
    "    values = propDistributionDF.iloc[i, :]\n",
    "    panel.bar(labels, values )\n",
    "    panel.set_xticks(panel.get_xticks(), panel.get_xticklabels(), rotation=45, ha='right')\n",
    "    ylabels = np.arange(0, 1, 0.1)\n",
    "    panel.set_yticks(ylabels)\n",
    "\n",
    "    # panel.set_title('max_samples' + \" \" + metricName, fontsize=fs)\n",
    "    #panel.set_title( metricName, fontsize=fs)\n",
    "\n",
    "title = \"Effect of PCR cycling on transcript count distribution\"\n",
    "fig.suptitle(title)\n",
    "fig.supylabel('percentage')\n",
    "fig.supxlabel('transcript counts')\n",
    "\n",
    "imgFilePath = imgOut + urlify(title) + \".png\"\n",
    "fig.savefig(imgFilePath, dpi=600, bbox_inches='tight', facecolor=\"white\", transparent=True)\n",
    "print(f'saved image to {imgFilePath}')"
   ]
  },
  {
   "cell_type": "markdown",
   "id": "955b4796-eebb-4f2e-8f05-8eb7a24ff7a5",
   "metadata": {},
   "source": [
    "# Normalization Overiew"
   ]
  },
  {
   "cell_type": "code",
   "execution_count": 7,
   "id": "39166064-4c38-47b5-8fde-eefc6da21ccc",
   "metadata": {},
   "outputs": [],
   "source": [
    "def calculateScalingFactor(intensityDF : pd.DataFrame,\n",
    "                          verbose : bool = False) -> pd.Series :\n",
    "    # print(\"\\n********** intensity\")\n",
    "    # print(intensityDF)\n",
    "    \n",
    "    # remove rows with zeros. log is undefined\n",
    "    byRows = 1\n",
    "    selectRowsWithoutZeros = (intensityDF != 0).all(axis=byRows)\n",
    "    if verbose:\n",
    "        print(\"\\n********** selectRowsWithoutZeros\")\n",
    "        display(selectRowsWithoutZeros)\n",
    "    \n",
    "    intensityDF = intensityDF.loc[selectRowsWithoutZeros, :]\n",
    "    if verbose:\n",
    "        print(\"\\n********** intensity\")\n",
    "        print(intensityDF)\n",
    "    \n",
    "    # natural log\n",
    "    # smooths over outliers\n",
    "    logIntensityDF = np.log(intensityDF)\n",
    "    if verbose:\n",
    "        print(\"\\n************ logIntensityDF \")\n",
    "        display(logIntensityDF)   \n",
    "    \n",
    "    # calculate row average of logs. ie geometric means\n",
    "    # geometric mean is not swayed by outliers. It will \n",
    "    # always be <= the arithmetic mean\n",
    "    rowMeansSeries = logIntensityDF.mean(axis=byRows)\n",
    "    if verbose:\n",
    "        print(\"\\n************ rowMeansSeries \")\n",
    "        display(rowMeansSeries)   \n",
    "    \n",
    "    # find metabolites that are signifigantly larger or smaller than \n",
    "    # the average subtracting averages from intensities\n",
    "    # log(a) - log(b) = log(a/b)\n",
    "    byCols= 0\n",
    "    outlierDF = logIntensityDF.subtract(rowMeansSeries, axis=byCols)\n",
    "    if verbose:\n",
    "        print(\"\\n************ outlierDF \")\n",
    "        print(type(outlierDF))\n",
    "        display(outlierDF)   \n",
    "    \n",
    "    # calculate the scan/sample median log(estimated scaling factors)\n",
    "    medianDF = outlierDF.median(axis=byCols)\n",
    "    if verbose:\n",
    "        print(\"\\n************ medianDF \")\n",
    "        print(type(medianDF))\n",
    "        display(medianDF)      \n",
    "    \n",
    "    # convert back to base 10\n",
    "    extimatedScalingFactorsSeries = np.exp(medianDF)\n",
    "    # print(\"\\n************ extimatedScalingFactorsSeries \")\n",
    "    # print(type(extimatedScalingFactorsSeries))\n",
    "    # display(extimatedScalingFactorsSeries)  \n",
    "    \n",
    "    return extimatedScalingFactorsSeries"
   ]
  },
  {
   "cell_type": "markdown",
   "id": "b03638f4-d0ca-4d58-bf9e-a1e05108b093",
   "metadata": {},
   "source": [
    "## Case 1 : Library Size Normalization\n",
    "No biologic difference between samples. Experiments designed to create different number of reads"
   ]
  },
  {
   "cell_type": "code",
   "execution_count": 8,
   "id": "a68f4d95-7311-484b-8033-70d055672b64",
   "metadata": {},
   "outputs": [
    {
     "data": {
      "text/html": [
       "<div>\n",
       "<style scoped>\n",
       "    .dataframe tbody tr th:only-of-type {\n",
       "        vertical-align: middle;\n",
       "    }\n",
       "\n",
       "    .dataframe tbody tr th {\n",
       "        vertical-align: top;\n",
       "    }\n",
       "\n",
       "    .dataframe thead th {\n",
       "        text-align: right;\n",
       "    }\n",
       "</style>\n",
       "<table border=\"1\" class=\"dataframe\">\n",
       "  <thead>\n",
       "    <tr style=\"text-align: right;\">\n",
       "      <th></th>\n",
       "      <th>replicate1</th>\n",
       "      <th>replicate2</th>\n",
       "    </tr>\n",
       "  </thead>\n",
       "  <tbody>\n",
       "    <tr>\n",
       "      <th>transcript1</th>\n",
       "      <td>30.0</td>\n",
       "      <td>60.0</td>\n",
       "    </tr>\n",
       "    <tr>\n",
       "      <th>transcript2</th>\n",
       "      <td>24.0</td>\n",
       "      <td>48.0</td>\n",
       "    </tr>\n",
       "    <tr>\n",
       "      <th>transcript3</th>\n",
       "      <td>0.0</td>\n",
       "      <td>0.0</td>\n",
       "    </tr>\n",
       "    <tr>\n",
       "      <th>transcript4</th>\n",
       "      <td>563.0</td>\n",
       "      <td>1126.0</td>\n",
       "    </tr>\n",
       "    <tr>\n",
       "      <th>transcript5</th>\n",
       "      <td>5.0</td>\n",
       "      <td>10.0</td>\n",
       "    </tr>\n",
       "    <tr>\n",
       "      <th>transcript6</th>\n",
       "      <td>13.0</td>\n",
       "      <td>26.0</td>\n",
       "    </tr>\n",
       "  </tbody>\n",
       "</table>\n",
       "</div>"
      ],
      "text/plain": [
       "             replicate1  replicate2\n",
       "transcript1        30.0        60.0\n",
       "transcript2        24.0        48.0\n",
       "transcript3         0.0         0.0\n",
       "transcript4       563.0      1126.0\n",
       "transcript5         5.0        10.0\n",
       "transcript6        13.0        26.0"
      ]
     },
     "execution_count": 8,
     "metadata": {},
     "output_type": "execute_result"
    }
   ],
   "source": [
    "def createLibSizeTestData() -> pd.DataFrame :\n",
    "    '''\n",
    "    The samples are identical. The only different was number of reads produced\n",
    "    '''\n",
    "    readsNP = np.array([30, 24, 0, 563, 5, 13]).reshape(6,1)\n",
    "\n",
    "    byCols = 1\n",
    "    countsNP = np.append(readsNP, \n",
    "                        readsNP * 2., \n",
    "                        axis=byCols)\n",
    "\n",
    "    # use a data frame to make it easier to understand the data\n",
    "    retDF = pd.DataFrame(countsNP, \n",
    "                             columns=[\"replicate1\", \"replicate2\"],\n",
    "                             index = [\"transcript1\", \n",
    "                                      \"transcript2\", \n",
    "                                      \"transcript3\", \n",
    "                                      \"transcript4\", \n",
    "                                      \"transcript5\",\n",
    "                                      \"transcript6\",\n",
    "                                     ])\n",
    "                         \n",
    "    return retDF\n",
    "    \n",
    "libSizeTestcountsDF = createLibSizeTestData()\n",
    "libSizeTestcountsDF"
   ]
  },
  {
   "cell_type": "code",
   "execution_count": 9,
   "id": "56a50a7e-b8a4-45c6-9e0d-43407a75c80f",
   "metadata": {},
   "outputs": [
    {
     "name": "stdout",
     "output_type": "stream",
     "text": [
      "**** raw counts\n"
     ]
    },
    {
     "data": {
      "text/html": [
       "<div>\n",
       "<style scoped>\n",
       "    .dataframe tbody tr th:only-of-type {\n",
       "        vertical-align: middle;\n",
       "    }\n",
       "\n",
       "    .dataframe tbody tr th {\n",
       "        vertical-align: top;\n",
       "    }\n",
       "\n",
       "    .dataframe thead th {\n",
       "        text-align: right;\n",
       "    }\n",
       "</style>\n",
       "<table border=\"1\" class=\"dataframe\">\n",
       "  <thead>\n",
       "    <tr style=\"text-align: right;\">\n",
       "      <th></th>\n",
       "      <th>replicate1</th>\n",
       "      <th>replicate2</th>\n",
       "    </tr>\n",
       "  </thead>\n",
       "  <tbody>\n",
       "    <tr>\n",
       "      <th>transcript1</th>\n",
       "      <td>30.0</td>\n",
       "      <td>60.0</td>\n",
       "    </tr>\n",
       "    <tr>\n",
       "      <th>transcript2</th>\n",
       "      <td>24.0</td>\n",
       "      <td>48.0</td>\n",
       "    </tr>\n",
       "    <tr>\n",
       "      <th>transcript3</th>\n",
       "      <td>0.0</td>\n",
       "      <td>0.0</td>\n",
       "    </tr>\n",
       "    <tr>\n",
       "      <th>transcript4</th>\n",
       "      <td>563.0</td>\n",
       "      <td>1126.0</td>\n",
       "    </tr>\n",
       "    <tr>\n",
       "      <th>transcript5</th>\n",
       "      <td>5.0</td>\n",
       "      <td>10.0</td>\n",
       "    </tr>\n",
       "    <tr>\n",
       "      <th>transcript6</th>\n",
       "      <td>13.0</td>\n",
       "      <td>26.0</td>\n",
       "    </tr>\n",
       "  </tbody>\n",
       "</table>\n",
       "</div>"
      ],
      "text/plain": [
       "             replicate1  replicate2\n",
       "transcript1        30.0        60.0\n",
       "transcript2        24.0        48.0\n",
       "transcript3         0.0         0.0\n",
       "transcript4       563.0      1126.0\n",
       "transcript5         5.0        10.0\n",
       "transcript6        13.0        26.0"
      ]
     },
     "metadata": {},
     "output_type": "display_data"
    },
    {
     "name": "stdout",
     "output_type": "stream",
     "text": [
      "extimatedScalingFactorsSeries :\n",
      "replicate1    0.707107\n",
      "replicate2    1.414214\n",
      "dtype: float64\n",
      "\n",
      "**** normalized counts. replicate1 and replicate2 should be identical\n"
     ]
    },
    {
     "data": {
      "text/html": [
       "<div>\n",
       "<style scoped>\n",
       "    .dataframe tbody tr th:only-of-type {\n",
       "        vertical-align: middle;\n",
       "    }\n",
       "\n",
       "    .dataframe tbody tr th {\n",
       "        vertical-align: top;\n",
       "    }\n",
       "\n",
       "    .dataframe thead th {\n",
       "        text-align: right;\n",
       "    }\n",
       "</style>\n",
       "<table border=\"1\" class=\"dataframe\">\n",
       "  <thead>\n",
       "    <tr style=\"text-align: right;\">\n",
       "      <th></th>\n",
       "      <th>replicate1</th>\n",
       "      <th>replicate2</th>\n",
       "    </tr>\n",
       "  </thead>\n",
       "  <tbody>\n",
       "    <tr>\n",
       "      <th>transcript1</th>\n",
       "      <td>42.426407</td>\n",
       "      <td>42.426407</td>\n",
       "    </tr>\n",
       "    <tr>\n",
       "      <th>transcript2</th>\n",
       "      <td>33.941125</td>\n",
       "      <td>33.941125</td>\n",
       "    </tr>\n",
       "    <tr>\n",
       "      <th>transcript3</th>\n",
       "      <td>0.000000</td>\n",
       "      <td>0.000000</td>\n",
       "    </tr>\n",
       "    <tr>\n",
       "      <th>transcript4</th>\n",
       "      <td>796.202236</td>\n",
       "      <td>796.202236</td>\n",
       "    </tr>\n",
       "    <tr>\n",
       "      <th>transcript5</th>\n",
       "      <td>7.071068</td>\n",
       "      <td>7.071068</td>\n",
       "    </tr>\n",
       "    <tr>\n",
       "      <th>transcript6</th>\n",
       "      <td>18.384776</td>\n",
       "      <td>18.384776</td>\n",
       "    </tr>\n",
       "  </tbody>\n",
       "</table>\n",
       "</div>"
      ],
      "text/plain": [
       "             replicate1  replicate2\n",
       "transcript1   42.426407   42.426407\n",
       "transcript2   33.941125   33.941125\n",
       "transcript3    0.000000    0.000000\n",
       "transcript4  796.202236  796.202236\n",
       "transcript5    7.071068    7.071068\n",
       "transcript6   18.384776   18.384776"
      ]
     },
     "metadata": {},
     "output_type": "display_data"
    }
   ],
   "source": [
    "def testLibarySizeNormalization():\n",
    "    libSizeTestcountsDF = createLibSizeTestData()\n",
    "    print(\"**** raw counts\")\n",
    "    display(libSizeTestcountsDF)\n",
    "    \n",
    "    extimatedScalingFactorsSeries = calculateScalingFactor(libSizeTestcountsDF)\n",
    "    print(f'extimatedScalingFactorsSeries :\\n{extimatedScalingFactorsSeries}')\n",
    "    \n",
    "    normalizedDF = libSizeTestcountsDF / extimatedScalingFactorsSeries\n",
    "    \n",
    "    print(\"\\n**** normalized counts. replicate1 and replicate2 should be identical\")\n",
    "    display(normalizedDF)\n",
    "    #display(np.isclose(normalizedDF['scan1'], normalizedDF['scan2']))\n",
    "    np.testing.assert_allclose( normalizedDF['replicate1'],\n",
    "                                normalizedDF['replicate2'],\n",
    "                                err_msg=\"ERROR testLibarySizeNormalization() failed \") \n",
    "\n",
    "testLibarySizeNormalization()"
   ]
  },
  {
   "cell_type": "markdown",
   "id": "c9ec099a-e2d1-4ca8-8f59-c1397bd6ea86",
   "metadata": {},
   "source": [
    "## Case 2: Library Compositions\n",
    "Samples are biologically different. One sample has more targets. This causes the sample with fewer samples to have arifically high counts.\n",
    "\n",
    "Example: \n",
    "- A drop out expereiment\n",
    "- RNA collected from different cell types"
   ]
  },
  {
   "cell_type": "code",
   "execution_count": 10,
   "id": "da504c2c-8131-49c5-8d48-ad2093aff50e",
   "metadata": {},
   "outputs": [
    {
     "data": {
      "text/html": [
       "<div>\n",
       "<style scoped>\n",
       "    .dataframe tbody tr th:only-of-type {\n",
       "        vertical-align: middle;\n",
       "    }\n",
       "\n",
       "    .dataframe tbody tr th {\n",
       "        vertical-align: top;\n",
       "    }\n",
       "\n",
       "    .dataframe thead th {\n",
       "        text-align: right;\n",
       "    }\n",
       "</style>\n",
       "<table border=\"1\" class=\"dataframe\">\n",
       "  <thead>\n",
       "    <tr style=\"text-align: right;\">\n",
       "      <th></th>\n",
       "      <th>sample1</th>\n",
       "      <th>sample2</th>\n",
       "    </tr>\n",
       "  </thead>\n",
       "  <tbody>\n",
       "    <tr>\n",
       "      <th>metabolite_1_mz_34.5</th>\n",
       "      <td>30.0</td>\n",
       "      <td>264.583333</td>\n",
       "    </tr>\n",
       "    <tr>\n",
       "      <th>metabolite_2_mz_67.0</th>\n",
       "      <td>24.0</td>\n",
       "      <td>211.666667</td>\n",
       "    </tr>\n",
       "    <tr>\n",
       "      <th>metabolite_3_mz_89.5</th>\n",
       "      <td>0.0</td>\n",
       "      <td>0.000000</td>\n",
       "    </tr>\n",
       "    <tr>\n",
       "      <th>toxin_a_mz_103.1</th>\n",
       "      <td>563.0</td>\n",
       "      <td>0.000000</td>\n",
       "    </tr>\n",
       "    <tr>\n",
       "      <th>metabolite_5_mz_121.5</th>\n",
       "      <td>5.0</td>\n",
       "      <td>44.097222</td>\n",
       "    </tr>\n",
       "    <tr>\n",
       "      <th>metabolite_6_mz_137.5</th>\n",
       "      <td>13.0</td>\n",
       "      <td>114.652778</td>\n",
       "    </tr>\n",
       "  </tbody>\n",
       "</table>\n",
       "</div>"
      ],
      "text/plain": [
       "                       sample1     sample2\n",
       "metabolite_1_mz_34.5      30.0  264.583333\n",
       "metabolite_2_mz_67.0      24.0  211.666667\n",
       "metabolite_3_mz_89.5       0.0    0.000000\n",
       "toxin_a_mz_103.1         563.0    0.000000\n",
       "metabolite_5_mz_121.5      5.0   44.097222\n",
       "metabolite_6_mz_137.5     13.0  114.652778"
      ]
     },
     "execution_count": 10,
     "metadata": {},
     "output_type": "execute_result"
    }
   ],
   "source": [
    "def createLibCompositionTestData() -> pd.DataFrame :\n",
    "    '''\n",
    "    step 1)\n",
    "    Create two samples. One sample represents a health control, the other a toxic exposure.\n",
    "    The only difference is the sample with the toxic exposure has an additional target\n",
    "    \n",
    "    To make it easy to evaluate the normlization algorithym the toxic's target has a very high intensity\n",
    "    \n",
    "    step 2) simulate the raw intensities\n",
    "    both sample will contain the same number of ions.\n",
    "    '''\n",
    "    tokinIntensity = 563\n",
    "    toxinIntensityNP = np.array([30, 24, 0, tokinIntensity, 5, 13]).reshape(6,1)\n",
    "    # print(f'\\n****** total intensity\\n{np.sum(toxinIntensityNP)}')\n",
    "    \n",
    "    # normal is missing toxin_a_mz_103, idx = 3\n",
    "    # simulate where extra 563 ions will be distributed\n",
    "    controlIntensityNP = np.array([30, 24, 0, 0, 5, 13]).reshape(6,1)\n",
    "    propDistNP = (controlIntensityNP / np.sum(controlIntensityNP)).reshape(1,6)\n",
    "    #print(f'\\n****** propDistNP\\n{propDistNP}')\n",
    "    \n",
    "    intensity = tokinIntensity * propDistNP\n",
    "    # print(f'\\n****** intensity\\n{intensity}')\n",
    "    # print(np.sum(intensity))\n",
    "    \n",
    "    controlRawIntensity = controlIntensityNP  + intensity.reshape(6,1)\n",
    "    # print(f'\\n****** controlRawIntensity\\n{controlRawIntensity}')\n",
    "    # print(np.sum(controlRawIntensity))\n",
    "\n",
    "    byCols = 1\n",
    "    scansNP = np.append(toxinIntensityNP, \n",
    "                        controlRawIntensity, \n",
    "                        axis=byCols)\n",
    "\n",
    "    # use a data frame to make it easier to under the data\n",
    "    retDF = pd.DataFrame(scansNP, \n",
    "                             columns=[\"sample1\", \"sample2\"],\n",
    "                             index = [\"metabolite_1_mz_34.5\", \n",
    "                                      \"metabolite_2_mz_67.0\", \n",
    "                                      \"metabolite_3_mz_89.5\", \n",
    "                                      \"toxin_a_mz_103.1\", \n",
    "                                      \"metabolite_5_mz_121.5\",\n",
    "                                      \"metabolite_6_mz_137.5\",\n",
    "                                     ])\n",
    "                         \n",
    "    return retDF\n",
    "\n",
    "createLibCompositionTestData()"
   ]
  },
  {
   "cell_type": "code",
   "execution_count": 11,
   "id": "dcb05305-afb2-45b3-8450-7f4951ab8fde",
   "metadata": {},
   "outputs": [
    {
     "name": "stdout",
     "output_type": "stream",
     "text": [
      "**** raw intensities\n"
     ]
    },
    {
     "data": {
      "text/html": [
       "<div>\n",
       "<style scoped>\n",
       "    .dataframe tbody tr th:only-of-type {\n",
       "        vertical-align: middle;\n",
       "    }\n",
       "\n",
       "    .dataframe tbody tr th {\n",
       "        vertical-align: top;\n",
       "    }\n",
       "\n",
       "    .dataframe thead th {\n",
       "        text-align: right;\n",
       "    }\n",
       "</style>\n",
       "<table border=\"1\" class=\"dataframe\">\n",
       "  <thead>\n",
       "    <tr style=\"text-align: right;\">\n",
       "      <th></th>\n",
       "      <th>sample1</th>\n",
       "      <th>sample2</th>\n",
       "    </tr>\n",
       "  </thead>\n",
       "  <tbody>\n",
       "    <tr>\n",
       "      <th>metabolite_1_mz_34.5</th>\n",
       "      <td>30.0</td>\n",
       "      <td>264.583333</td>\n",
       "    </tr>\n",
       "    <tr>\n",
       "      <th>metabolite_2_mz_67.0</th>\n",
       "      <td>24.0</td>\n",
       "      <td>211.666667</td>\n",
       "    </tr>\n",
       "    <tr>\n",
       "      <th>metabolite_3_mz_89.5</th>\n",
       "      <td>0.0</td>\n",
       "      <td>0.000000</td>\n",
       "    </tr>\n",
       "    <tr>\n",
       "      <th>toxin_a_mz_103.1</th>\n",
       "      <td>563.0</td>\n",
       "      <td>0.000000</td>\n",
       "    </tr>\n",
       "    <tr>\n",
       "      <th>metabolite_5_mz_121.5</th>\n",
       "      <td>5.0</td>\n",
       "      <td>44.097222</td>\n",
       "    </tr>\n",
       "    <tr>\n",
       "      <th>metabolite_6_mz_137.5</th>\n",
       "      <td>13.0</td>\n",
       "      <td>114.652778</td>\n",
       "    </tr>\n",
       "  </tbody>\n",
       "</table>\n",
       "</div>"
      ],
      "text/plain": [
       "                       sample1     sample2\n",
       "metabolite_1_mz_34.5      30.0  264.583333\n",
       "metabolite_2_mz_67.0      24.0  211.666667\n",
       "metabolite_3_mz_89.5       0.0    0.000000\n",
       "toxin_a_mz_103.1         563.0    0.000000\n",
       "metabolite_5_mz_121.5      5.0   44.097222\n",
       "metabolite_6_mz_137.5     13.0  114.652778"
      ]
     },
     "metadata": {},
     "output_type": "display_data"
    },
    {
     "name": "stdout",
     "output_type": "stream",
     "text": [
      "\n",
      "**** extimatedScalingFactorsSeries\n"
     ]
    },
    {
     "data": {
      "text/plain": [
       "sample1    0.336728\n",
       "sample2    2.969755\n",
       "dtype: float64"
      ]
     },
     "metadata": {},
     "output_type": "display_data"
    },
    {
     "name": "stdout",
     "output_type": "stream",
     "text": [
      "\n",
      "**** normalized intensities\n",
      "target found in boths samples should have identical intensities\n"
     ]
    },
    {
     "data": {
      "text/html": [
       "<div>\n",
       "<style scoped>\n",
       "    .dataframe tbody tr th:only-of-type {\n",
       "        vertical-align: middle;\n",
       "    }\n",
       "\n",
       "    .dataframe tbody tr th {\n",
       "        vertical-align: top;\n",
       "    }\n",
       "\n",
       "    .dataframe thead th {\n",
       "        text-align: right;\n",
       "    }\n",
       "</style>\n",
       "<table border=\"1\" class=\"dataframe\">\n",
       "  <thead>\n",
       "    <tr style=\"text-align: right;\">\n",
       "      <th></th>\n",
       "      <th>sample1</th>\n",
       "      <th>sample2</th>\n",
       "    </tr>\n",
       "  </thead>\n",
       "  <tbody>\n",
       "    <tr>\n",
       "      <th>metabolite_1_mz_34.5</th>\n",
       "      <td>89.092648</td>\n",
       "      <td>89.092648</td>\n",
       "    </tr>\n",
       "    <tr>\n",
       "      <th>metabolite_2_mz_67.0</th>\n",
       "      <td>71.274119</td>\n",
       "      <td>71.274119</td>\n",
       "    </tr>\n",
       "    <tr>\n",
       "      <th>metabolite_3_mz_89.5</th>\n",
       "      <td>0.000000</td>\n",
       "      <td>0.000000</td>\n",
       "    </tr>\n",
       "    <tr>\n",
       "      <th>toxin_a_mz_103.1</th>\n",
       "      <td>1671.972035</td>\n",
       "      <td>0.000000</td>\n",
       "    </tr>\n",
       "    <tr>\n",
       "      <th>metabolite_5_mz_121.5</th>\n",
       "      <td>14.848775</td>\n",
       "      <td>14.848775</td>\n",
       "    </tr>\n",
       "    <tr>\n",
       "      <th>metabolite_6_mz_137.5</th>\n",
       "      <td>38.606814</td>\n",
       "      <td>38.606814</td>\n",
       "    </tr>\n",
       "  </tbody>\n",
       "</table>\n",
       "</div>"
      ],
      "text/plain": [
       "                           sample1    sample2\n",
       "metabolite_1_mz_34.5     89.092648  89.092648\n",
       "metabolite_2_mz_67.0     71.274119  71.274119\n",
       "metabolite_3_mz_89.5      0.000000   0.000000\n",
       "toxin_a_mz_103.1       1671.972035   0.000000\n",
       "metabolite_5_mz_121.5    14.848775  14.848775\n",
       "metabolite_6_mz_137.5    38.606814  38.606814"
      ]
     },
     "metadata": {},
     "output_type": "display_data"
    }
   ],
   "source": [
    "def testLibaryCompisionNormalization():\n",
    "    rawIntensitiesDF = createLibCompositionTestData()\n",
    "    print(\"**** raw intensities\")\n",
    "    display(rawIntensitiesDF)\n",
    "    \n",
    "    extimatedScalingFactorsSeries = calculateScalingFactor(rawIntensitiesDF)\n",
    "    print(\"\\n**** extimatedScalingFactorsSeries\")\n",
    "    display(extimatedScalingFactorsSeries)\n",
    "    \n",
    "    normalizedDF = rawIntensitiesDF / extimatedScalingFactorsSeries\n",
    "    print(\"\\n**** normalized intensities\")\n",
    "    print(\"target found in boths samples should have identical intensities\")\n",
    "    display(normalizedDF)\n",
    "    \n",
    "    # test the intersection of mz targets is the same after normalization\n",
    "    byRows = 1\n",
    "    selectRowsWithoutZeros = (normalizedDF != 0).all(axis=byRows)\n",
    "    testResultsDF = normalizedDF.loc[selectRowsWithoutZeros, :]\n",
    "    np.testing.assert_allclose( testResultsDF['sample1'],\n",
    "                                testResultsDF['sample2'],\n",
    "                                err_msg=\"ERROR testLibaryCompisionNormalization() failed \")     \n",
    "\n",
    "testLibaryCompisionNormalization()"
   ]
  },
  {
   "cell_type": "markdown",
   "id": "cce0c80d-29d5-4076-b669-33367e2843d3",
   "metadata": {},
   "source": [
    "# Evaluate normalization on PCR products"
   ]
  },
  {
   "cell_type": "code",
   "execution_count": 12,
   "id": "669eb1f6-4447-477c-9dc7-514898524acf",
   "metadata": {},
   "outputs": [],
   "source": [
    "def testPCRNormalization(df : pd.DataFrame, \n",
    "                         idx1 : str, \n",
    "                         idx2 : str) -> bool :\n",
    "    '''\n",
    "    TODO\n",
    "    '''\n",
    "    testDF =  PCR_transcriptCountsDF.loc[ [idx1, idx2] ]\n",
    "    extimatedScalingFactorsSeries = calculateScalingFactor( testDF )\n",
    "    print(f'extimatedScalingFactorsSeries :\\n{extimatedScalingFactorsSeries}')\n",
    "\n",
    "    print(\"\\n**** normalized counts. replicate1 and replicate2 should be identical\")    \n",
    "    normalizedDF = testDF / extimatedScalingFactorsSeries\n",
    "    display(normalizedDF)\n",
    "\n",
    "    isEqual = normalizedDF.loc[idx1, :] == normalizedDF.loc[idx2, :]\n",
    "\n",
    "    if isEqual.all()  :\n",
    "        ret = True\n",
    "        print(f'test passed: replicants are identical')\n",
    "    else:\n",
    "        ret = False\n",
    "        print(f'test failed: replicants are not identical')\n",
    "\n",
    "    return ret"
   ]
  },
  {
   "cell_type": "code",
   "execution_count": 13,
   "id": "6e5d261a-f032-4b5f-b47c-6bfbfe9d2216",
   "metadata": {},
   "outputs": [
    {
     "name": "stdout",
     "output_type": "stream",
     "text": [
      "extimatedScalingFactorsSeries :\n",
      "g1    0.210224\n",
      "g2    0.594604\n",
      "g3    1.681793\n",
      "g4    4.756828\n",
      "dtype: float64\n",
      "\n",
      "**** normalized counts. replicate1 and replicate2 should be identical\n"
     ]
    },
    {
     "data": {
      "text/html": [
       "<div>\n",
       "<style scoped>\n",
       "    .dataframe tbody tr th:only-of-type {\n",
       "        vertical-align: middle;\n",
       "    }\n",
       "\n",
       "    .dataframe tbody tr th {\n",
       "        vertical-align: top;\n",
       "    }\n",
       "\n",
       "    .dataframe thead th {\n",
       "        text-align: right;\n",
       "    }\n",
       "</style>\n",
       "<table border=\"1\" class=\"dataframe\">\n",
       "  <thead>\n",
       "    <tr style=\"text-align: right;\">\n",
       "      <th></th>\n",
       "      <th>g1</th>\n",
       "      <th>g2</th>\n",
       "      <th>g3</th>\n",
       "      <th>g4</th>\n",
       "    </tr>\n",
       "  </thead>\n",
       "  <tbody>\n",
       "    <tr>\n",
       "      <th>groundTruth</th>\n",
       "      <td>9.513657</td>\n",
       "      <td>6.727171</td>\n",
       "      <td>4.756828</td>\n",
       "      <td>3.363586</td>\n",
       "    </tr>\n",
       "    <tr>\n",
       "      <th>cycle1</th>\n",
       "      <td>19.027314</td>\n",
       "      <td>26.908685</td>\n",
       "      <td>38.054628</td>\n",
       "      <td>53.817371</td>\n",
       "    </tr>\n",
       "  </tbody>\n",
       "</table>\n",
       "</div>"
      ],
      "text/plain": [
       "                    g1         g2         g3         g4\n",
       "groundTruth   9.513657   6.727171   4.756828   3.363586\n",
       "cycle1       19.027314  26.908685  38.054628  53.817371"
      ]
     },
     "metadata": {},
     "output_type": "display_data"
    },
    {
     "name": "stdout",
     "output_type": "stream",
     "text": [
      "test failed: replicants are not identical\n"
     ]
    },
    {
     "data": {
      "text/plain": [
       "False"
      ]
     },
     "execution_count": 13,
     "metadata": {},
     "output_type": "execute_result"
    }
   ],
   "source": [
    "testPCRNormalization(PCR_transcriptCountsDF, \"groundTruth\",  \"cycle1\")"
   ]
  },
  {
   "cell_type": "code",
   "execution_count": 14,
   "id": "85e37dd2-8d3b-483c-9fe2-bdd2c8904192",
   "metadata": {},
   "outputs": [
    {
     "name": "stdout",
     "output_type": "stream",
     "text": [
      "extimatedScalingFactorsSeries :\n",
      "g1     0.074325\n",
      "g2     0.420448\n",
      "g3     2.378414\n",
      "g4    13.454343\n",
      "dtype: float64\n",
      "\n",
      "**** normalized counts. replicate1 and replicate2 should be identical\n"
     ]
    },
    {
     "data": {
      "text/html": [
       "<div>\n",
       "<style scoped>\n",
       "    .dataframe tbody tr th:only-of-type {\n",
       "        vertical-align: middle;\n",
       "    }\n",
       "\n",
       "    .dataframe tbody tr th {\n",
       "        vertical-align: top;\n",
       "    }\n",
       "\n",
       "    .dataframe thead th {\n",
       "        text-align: right;\n",
       "    }\n",
       "</style>\n",
       "<table border=\"1\" class=\"dataframe\">\n",
       "  <thead>\n",
       "    <tr style=\"text-align: right;\">\n",
       "      <th></th>\n",
       "      <th>g1</th>\n",
       "      <th>g2</th>\n",
       "      <th>g3</th>\n",
       "      <th>g4</th>\n",
       "    </tr>\n",
       "  </thead>\n",
       "  <tbody>\n",
       "    <tr>\n",
       "      <th>cycle1</th>\n",
       "      <td>53.817371</td>\n",
       "      <td>38.054628</td>\n",
       "      <td>26.908685</td>\n",
       "      <td>19.027314</td>\n",
       "    </tr>\n",
       "    <tr>\n",
       "      <th>cycle2</th>\n",
       "      <td>107.634741</td>\n",
       "      <td>152.218511</td>\n",
       "      <td>215.269482</td>\n",
       "      <td>304.437021</td>\n",
       "    </tr>\n",
       "  </tbody>\n",
       "</table>\n",
       "</div>"
      ],
      "text/plain": [
       "                g1          g2          g3          g4\n",
       "cycle1   53.817371   38.054628   26.908685   19.027314\n",
       "cycle2  107.634741  152.218511  215.269482  304.437021"
      ]
     },
     "metadata": {},
     "output_type": "display_data"
    },
    {
     "name": "stdout",
     "output_type": "stream",
     "text": [
      "test failed: replicants are not identical\n"
     ]
    },
    {
     "data": {
      "text/plain": [
       "False"
      ]
     },
     "execution_count": 14,
     "metadata": {},
     "output_type": "execute_result"
    }
   ],
   "source": [
    "testPCRNormalization(PCR_transcriptCountsDF,  \"cycle1\" , \"cycle2\")"
   ]
  },
  {
   "cell_type": "code",
   "execution_count": 15,
   "id": "ccdb3c33-7239-4708-9459-7c73b6538c36",
   "metadata": {},
   "outputs": [
    {
     "name": "stdout",
     "output_type": "stream",
     "text": [
      "extimatedScalingFactorsSeries :\n",
      "g1     0.026278\n",
      "g2     0.297302\n",
      "g3     3.363586\n",
      "g4    38.054628\n",
      "dtype: float64\n",
      "\n",
      "**** normalized counts. replicate1 and replicate2 should be identical\n"
     ]
    },
    {
     "data": {
      "text/html": [
       "<div>\n",
       "<style scoped>\n",
       "    .dataframe tbody tr th:only-of-type {\n",
       "        vertical-align: middle;\n",
       "    }\n",
       "\n",
       "    .dataframe tbody tr th {\n",
       "        vertical-align: top;\n",
       "    }\n",
       "\n",
       "    .dataframe thead th {\n",
       "        text-align: right;\n",
       "    }\n",
       "</style>\n",
       "<table border=\"1\" class=\"dataframe\">\n",
       "  <thead>\n",
       "    <tr style=\"text-align: right;\">\n",
       "      <th></th>\n",
       "      <th>g1</th>\n",
       "      <th>g2</th>\n",
       "      <th>g3</th>\n",
       "      <th>g4</th>\n",
       "    </tr>\n",
       "  </thead>\n",
       "  <tbody>\n",
       "    <tr>\n",
       "      <th>cycle2</th>\n",
       "      <td>304.437021</td>\n",
       "      <td>215.269482</td>\n",
       "      <td>152.218511</td>\n",
       "      <td>107.634741</td>\n",
       "    </tr>\n",
       "    <tr>\n",
       "      <th>cycle3</th>\n",
       "      <td>608.874043</td>\n",
       "      <td>861.077929</td>\n",
       "      <td>1217.748086</td>\n",
       "      <td>1722.155858</td>\n",
       "    </tr>\n",
       "  </tbody>\n",
       "</table>\n",
       "</div>"
      ],
      "text/plain": [
       "                g1          g2           g3           g4\n",
       "cycle2  304.437021  215.269482   152.218511   107.634741\n",
       "cycle3  608.874043  861.077929  1217.748086  1722.155858"
      ]
     },
     "metadata": {},
     "output_type": "display_data"
    },
    {
     "name": "stdout",
     "output_type": "stream",
     "text": [
      "test failed: replicants are not identical\n"
     ]
    },
    {
     "data": {
      "text/plain": [
       "False"
      ]
     },
     "execution_count": 15,
     "metadata": {},
     "output_type": "execute_result"
    }
   ],
   "source": [
    "testPCRNormalization(PCR_transcriptCountsDF,  \"cycle2\" , \"cycle3\")"
   ]
  },
  {
   "cell_type": "markdown",
   "id": "70c3d13d-c6de-42ea-bfe9-cda83bf5347f",
   "metadata": {},
   "source": [
    "# Correcting for PCR Bias\n",
    "We can correct for PCR bias by taking the nth root of our transcript counts, where n is the number of thermo cycles"
   ]
  },
  {
   "cell_type": "code",
   "execution_count": 16,
   "id": "dd73d932-0580-492b-8d3e-f00a34048224",
   "metadata": {},
   "outputs": [
    {
     "data": {
      "text/plain": [
       "g1     2.0\n",
       "g2     4.0\n",
       "g3     8.0\n",
       "g4    16.0\n",
       "Name: groundTruth, dtype: float64"
      ]
     },
     "execution_count": 16,
     "metadata": {},
     "output_type": "execute_result"
    }
   ],
   "source": [
    "PCR_transcriptCountsDF.loc[ 'groundTruth', :].pow(1/1)"
   ]
  },
  {
   "cell_type": "code",
   "execution_count": 17,
   "id": "fc82df58-8916-4aeb-abb7-6a2c33592da1",
   "metadata": {},
   "outputs": [
    {
     "data": {
      "text/plain": [
       "g1     2.0\n",
       "g2     4.0\n",
       "g3     8.0\n",
       "g4    16.0\n",
       "Name: cycle1, dtype: float64"
      ]
     },
     "execution_count": 17,
     "metadata": {},
     "output_type": "execute_result"
    }
   ],
   "source": [
    "PCR_transcriptCountsDF.loc[ 'cycle1', :].pow(1/2)"
   ]
  },
  {
   "cell_type": "code",
   "execution_count": 18,
   "id": "fd0892cb-db40-4ad1-aab7-d99068b8f0ec",
   "metadata": {},
   "outputs": [
    {
     "data": {
      "text/plain": [
       "g1     2.0\n",
       "g2     4.0\n",
       "g3     8.0\n",
       "g4    16.0\n",
       "Name: cycle2, dtype: float64"
      ]
     },
     "execution_count": 18,
     "metadata": {},
     "output_type": "execute_result"
    }
   ],
   "source": [
    "PCR_transcriptCountsDF.loc[ 'cycle2', :].pow(1/3)"
   ]
  },
  {
   "cell_type": "code",
   "execution_count": 19,
   "id": "7e21afe1-f0dc-4c13-9653-5255aba9b488",
   "metadata": {},
   "outputs": [
    {
     "data": {
      "text/plain": [
       "g1     2.0\n",
       "g2     4.0\n",
       "g3     8.0\n",
       "g4    16.0\n",
       "Name: cycle3, dtype: float64"
      ]
     },
     "execution_count": 19,
     "metadata": {},
     "output_type": "execute_result"
    }
   ],
   "source": [
    "PCR_transcriptCountsDF.loc[ 'cycle3', :].pow(1/4)"
   ]
  },
  {
   "cell_type": "markdown",
   "id": "c1be6417-03bb-4ebb-aaea-103afb107b1a",
   "metadata": {},
   "source": [
    "## Experimental Design\n",
    "\n",
    "Does the simulated bias data match real experimental data?\n",
    "\n",
    "Does our proposed correction before DESeq normalization work?\n",
    "\n",
    "1) use 4 PCR reaction to creates 4 unique templates\n",
    "   * each design 4 sets of primers\n",
    "   * run each pair of primers in its own reaction\n",
    "2) create mixture of the PCR products\n",
    "   * create a know \"ground trueth\"\n",
    "   * each product should be a different concentration\n",
    "   * make the math easy\n",
    "     + b has twice as many products as a\n",
    "     + c has twice as many products as b\n",
    "     + ...\n",
    "\n",
    "3) run mixutre using different thermo cycler programs.\n",
    "    * 1 cycle\n",
    "    * 2 cycles\n",
    "    * 4 cycles\n",
    "    * ...\n",
    "  \n",
    "4) sequence and quantify the products of the different thermo cycler programs"
   ]
  },
  {
   "cell_type": "code",
   "execution_count": null,
   "id": "f51206a1-34c4-46b0-ae66-e34d452d8402",
   "metadata": {},
   "outputs": [],
   "source": []
  }
 ],
 "metadata": {
  "kernelspec": {
   "display_name": "Python 3 (ipykernel)",
   "language": "python",
   "name": "python3"
  },
  "language_info": {
   "codemirror_mode": {
    "name": "ipython",
    "version": 3
   },
   "file_extension": ".py",
   "mimetype": "text/x-python",
   "name": "python",
   "nbconvert_exporter": "python",
   "pygments_lexer": "ipython3",
   "version": "3.11.4"
  }
 },
 "nbformat": 4,
 "nbformat_minor": 5
}
