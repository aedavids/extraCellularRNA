{
 "cells": [
  {
   "cell_type": "markdown",
   "metadata": {},
   "source": [
    "# Explore pancreas.plasma.ev.long.RNA.normalized.deseq.biotype.counts.csv\n",
    "\n",
    "- [https://www.ncbi.nlm.nih.gov/geo/query/acc.cgi?acc=GSE133684](https://www.ncbi.nlm.nih.gov/geo/query/acc.cgi?acc=GSE133684)\n",
    "- /extraCellularRNA/R/notebooks/pancreas.plasma.ev.long.RNA.DESeq.normalize.Rmd\n",
    "- aedavids@ucsce\n",
    "- 10/15/2020"
   ]
  },
  {
   "cell_type": "code",
   "execution_count": 1,
   "metadata": {},
   "outputs": [],
   "source": [
    "from   bme263DataVis.utilities import MatPlotLibUtilities\n",
    "from   bme263DataVis.plotCumulativeProbablty import PlotCumulativeProbablity\n",
    "from   bme263DataVis.plotProbMassFunc import PlotProbMass\n",
    "\n",
    "# https://songhuiming.github.io/pages/2017/04/02/jupyter-and-pandas-display/\n",
    "# display(HTML(' <span style=\"color:red\">the title is: <h1>Hello, world!</h1> </span>  '))\n",
    "# display(HTML(df.to_html()))\n",
    "from IPython.display import display, HTML\n",
    "\n",
    "import matplotlib.pyplot as plt\n",
    "import numpy as np\n",
    "import pandas as pd\n",
    "import pathlib as pl\n",
    "\n",
    "mplu = MatPlotLibUtilities()\n",
    "mplu.loadStyle()\n",
    "\n",
    "# macbookpro = \"../data/R/output\"\n",
    "# courtyard = \"../R/output\"\n",
    "# biodataRootDir = courtyard\n",
    "biodataRootDir = \"../data/R/output\""
   ]
  },
  {
   "cell_type": "markdown",
   "metadata": {},
   "source": [
    "## load data"
   ]
  },
  {
   "cell_type": "code",
   "execution_count": 2,
   "metadata": {},
   "outputs": [],
   "source": [
    "bioTypeCountFiles = {\n",
    "                    \"A549_0.2MOI_24hr\":\"A549_0.2MOI_24hr.normalized.deseq.BIO_TYPE.counts.csv\"\n",
    "                    ,\"bioIvt\":\"bioIvt.normalized.deseq.BIO_TYPE.counts.csv\"\n",
    "                    ,\"panc1_intra\":\"panc1_intra.normalized.deseq.BIO_TYPE.counts.csv\"\n",
    "                    ,\"pittsburgh_ctrl\":\"pittsburgh_ctrl.normalized.deseq.BIO_TYPE.counts.csv\"\n",
    "                    }"
   ]
  },
  {
   "cell_type": "code",
   "execution_count": 3,
   "metadata": {},
   "outputs": [],
   "source": [
    "outDir = \"../data/normalized.deseq.biotype.out\"\n",
    "imgOutDir = pl.Path(outDir).joinpath(\"img\")  \n",
    "\n",
    "imgOutDir.mkdir(parents=True, exist_ok=True)"
   ]
  },
  {
   "cell_type": "code",
   "execution_count": 4,
   "metadata": {},
   "outputs": [],
   "source": [
    "def renameCol(df):\n",
    "    colNamesList = df.columns.to_list()\n",
    "    colNamesList[0] = \"biotype\"\n",
    "    df.columns = colNamesList  \n",
    "    df.set_index('biotype', inplace=True)\n",
    "\n",
    "def getConditions(df):\n",
    "    # ignore biotype\n",
    "    cNames = df.columns[1:]\n",
    "    # format for column names \"condition_sampleId\"\n",
    "    # condition is not a great name, value might be treatement, or disease\n",
    "    # example Mock_SRR11412240  Mock_SRR11412241  Mock_SRR11412242\n",
    "    conditions = [ cs.split(\"_\")[0] for cs in cNames ]\n",
    "    # get unique conditions\n",
    "    conditions = list(set(conditions))\n",
    "    return conditions\n",
    "\n",
    "def selectDiseaseStateSamples(df, conditionState):\n",
    "    '''\n",
    "    arguments:\n",
    "        example \"Mock\", 'healthy', 'PDAC', ...\n",
    "        \n",
    "    returns \n",
    "        pandas data frame\n",
    "    '''\n",
    "    selectedColNames = [c for c in df.columns if c.startswith(conditionState)]\n",
    "    retDF = df.loc[:, selectedColNames]\n",
    "    return retDF"
   ]
  },
  {
   "cell_type": "code",
   "execution_count": 5,
   "metadata": {},
   "outputs": [
    {
     "name": "stdout",
     "output_type": "stream",
     "text": [
      "../data/R/output/A549_0.2MOI_24hr.normalized.deseq.BIO_TYPE.counts.csv\n",
      "conditions: ['Mock', 'SARS']\n",
      "../data/R/output/bioIvt.normalized.deseq.BIO_TYPE.counts.csv\n",
      "conditions: ['panc', 'covid']\n",
      "../data/R/output/panc1_intra.normalized.deseq.BIO_TYPE.counts.csv\n",
      "conditions: ['ctrl', 'kras']\n",
      "../data/R/output/pittsburgh_ctrl.normalized.deseq.BIO_TYPE.counts.csv\n",
      "conditions: ['ctrl']\n"
     ]
    }
   ],
   "source": [
    "dataSetDict = dict()\n",
    "for key,filePath in bioTypeCountFiles.items() :\n",
    "    filePath = pl.Path(biodataRootDir, filePath)\n",
    "    print(filePath)\n",
    "    df = pd.read_csv(filePath)\n",
    "    renameCol(df)\n",
    "    \n",
    "    # split \n",
    "    conditions = getConditions(df)\n",
    "    print(\"conditions: {}\".format(conditions))\n",
    "    for condition in conditions:\n",
    "        conditionDF = selectDiseaseStateSamples(df, condition)\n",
    "        conditionKey = \"{}_{}\".format(key, condition)\n",
    "        dataSetDict[conditionKey] = conditionDF\n"
   ]
  },
  {
   "cell_type": "markdown",
   "metadata": {},
   "source": [
    "## Convert to probablities and explore cumlative distribution function"
   ]
  },
  {
   "cell_type": "code",
   "execution_count": 6,
   "metadata": {},
   "outputs": [],
   "source": [
    "def convertCountsToProb(countDF):\n",
    "    '''\n",
    "    adds psudo count\n",
    "    \n",
    "    Kullback–Leibler divergence will be inf if any of the predicted probablities are zero\n",
    "    '''\n",
    "    tmpDF = countDF + 1\n",
    "    colSums = tmpDF.sum()\n",
    "    ret = tmpDF / colSums\n",
    "    return ret"
   ]
  },
  {
   "cell_type": "code",
   "execution_count": 7,
   "metadata": {},
   "outputs": [],
   "source": [
    "probDistDict = dict()\n",
    "for key, df in dataSetDict.items():\n",
    "    colAxis = 1\n",
    "    colSumSeries = df.sum(axis=colAxis)\n",
    "    probablityDistribution = convertCountsToProb(colSumSeries)\n",
    "    # sanity check. each column must sum to 1.0\n",
    "    assert np.isclose( probablityDistribution.sum(), 1.0 ), \"ERROR key:{}\".format(key)\n",
    "    probDistDict[ key ] = probablityDistribution"
   ]
  },
  {
   "cell_type": "code",
   "execution_count": 8,
   "metadata": {},
   "outputs": [
    {
     "data": {
      "text/plain": [
       "dict_keys(['A549_0.2MOI_24hr_Mock', 'A549_0.2MOI_24hr_SARS', 'bioIvt_panc', 'bioIvt_covid', 'panc1_intra_ctrl', 'panc1_intra_kras', 'pittsburgh_ctrl_ctrl'])"
      ]
     },
     "execution_count": 8,
     "metadata": {},
     "output_type": "execute_result"
    }
   ],
   "source": [
    "probDistDict.keys()"
   ]
  },
  {
   "cell_type": "markdown",
   "metadata": {},
   "source": [
    "## find missing biotypes\n",
    "There are some missing biotypes however they are probably not signifigant becuase their probaliby masss is almost zero"
   ]
  },
  {
   "cell_type": "markdown",
   "metadata": {},
   "source": [
    "## Plot"
   ]
  },
  {
   "cell_type": "code",
   "execution_count": 9,
   "metadata": {},
   "outputs": [],
   "source": [
    "def findUniqBiotypes(seriesDict) :\n",
    "    '''\n",
    "    dictionary of pandas series\n",
    "    \n",
    "    assume series are indexed by biotype\n",
    "    \n",
    "    returns set of biotype\n",
    "    '''\n",
    "    allIndex = list()\n",
    "    for key in seriesDict.keys():\n",
    "        s = seriesDict[key]\n",
    "        allIndex.extend( s.index.to_list()  )  \n",
    "        \n",
    "    # find unique entries\n",
    "    ret = set(allIndex)\n",
    "    \n",
    "    return ret"
   ]
  },
  {
   "cell_type": "code",
   "execution_count": 10,
   "metadata": {
    "scrolled": false
   },
   "outputs": [
    {
     "name": "stdout",
     "output_type": "stream",
     "text": [
      "(30, 7)\n",
      "A549_0.2MOI_24hr_Mock    float64\n",
      "A549_0.2MOI_24hr_SARS    float64\n",
      "bioIvt_panc              float64\n",
      "bioIvt_covid             float64\n",
      "panc1_intra_ctrl         float64\n",
      "panc1_intra_kras         float64\n",
      "pittsburgh_ctrl_ctrl     float64\n",
      "dtype: object\n"
     ]
    }
   ],
   "source": [
    "def balanceBiotypes(seriesDict):\n",
    "    '''\n",
    "    add missing bio types\n",
    "    returns a pandas data frame where colums in series Dict\n",
    "    '''\n",
    "    retDF = None\n",
    "    \n",
    "    biotypeSet = findUniqBiotypes( seriesDict )\n",
    "    for key,series in seriesDict.items():\n",
    "        \n",
    "        #colNamesList.append( key )\n",
    "        seriesBioTypeSet = set(series.index)\n",
    "\n",
    "        # find types that are missing from dfBioTypeSet\n",
    "        addBiotypeSet = biotypeSet - seriesBioTypeSet\n",
    "        \n",
    "        for biotype in addBiotypeSet:\n",
    "            series.loc[biotype] = 0.0\n",
    "        \n",
    "        df = pd.DataFrame({key:series} )\n",
    "\n",
    "        if retDF is not None:\n",
    "            colAxis = 1\n",
    "            retDF = pd.concat( [retDF, df], axis=colAxis)  \n",
    "        else :\n",
    "            retDF = df\n",
    "            \n",
    "    retDF.index.name = \"biotype\"\n",
    "    return retDF\n",
    "        \n",
    "    \n",
    "# testSeriesDict = {\n",
    "#     'A549_0.2MOI_24hr_Mock': probDistDict['A549_0.2MOI_24hr_Mock'] # 23\n",
    "#     ,'A549_0.2MOI_24hr_SARS':probDistDict['A549_0.2MOI_24hr_SARS'] # 24\n",
    "# }\n",
    "# testDF = balanceBiotypes(testSeriesDict)\n",
    "\n",
    "biotypeDF = balanceBiotypes(probDistDict)\n",
    "print(biotypeDF.shape)\n",
    "print(biotypeDF.dtypes)"
   ]
  },
  {
   "cell_type": "code",
   "execution_count": 11,
   "metadata": {},
   "outputs": [
    {
     "name": "stdout",
     "output_type": "stream",
     "text": [
      "../data/normalized.deseq.biotype.out/img/normalized_biotype_distibutions.png\n"
     ]
    },
    {
     "data": {
      "image/png": "[encoded data removed]",
      "text/plain": [
       "<Figure size 576x216 with 1 Axes>"
      ]
     },
     "metadata": {
      "needs_background": "light"
     },
     "output_type": "display_data"
    }
   ],
   "source": [
    "# create panel\n",
    "figureWidthInInches = 8\n",
    "figureHeightInInches = 3\n",
    "fig = plt.figure(figsize=(figureWidthInInches,figureHeightInInches))\n",
    "panel = mplu.createPanelSameSizeAsFig(fig)\n",
    "\n",
    "title = \"normalized deseq biotype distributions\"\n",
    "PlotProbMass(panel, biotypeDF, title=title)\n",
    "\n",
    "outfile = imgOutDir.joinpath(\"normalized_biotype_distibutions.png\")\n",
    "print(outfile)\n",
    "# if you do not set bbox_inches saved img will be clipped\n",
    "fig.savefig(outfile, bbox_inches='tight') #BME163 style sheet should set dpi=600"
   ]
  }
 ],
 "metadata": {
  "kernelspec": {
   "display_name": "Python 3",
   "language": "python",
   "name": "python3"
  },
  "language_info": {
   "codemirror_mode": {
    "name": "ipython",
    "version": 3
   },
   "file_extension": ".py",
   "mimetype": "text/x-python",
   "name": "python",
   "nbconvert_exporter": "python",
   "pygments_lexer": "ipython3",
   "version": "3.7.6"
  }
 },
 "nbformat": 4,
 "nbformat_minor": 4
}
