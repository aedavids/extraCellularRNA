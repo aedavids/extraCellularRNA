{
 "cells": [
  {
   "cell_type": "markdown",
   "id": "atomic-offering",
   "metadata": {},
   "source": [
    "# Create TestDESeq2 master data sets\n",
    "\n",
    "create a master count matrix we can use to test /private/home/aedavids/extraCellularRNA/terra/deseq/R/ DESeq scripts\n",
    "\n",
    "ref: [sql-programming-guide.htm](https://spark.apache.org/docs/latest/sql-programming-guide.html)"
   ]
  },
  {
   "cell_type": "code",
   "execution_count": 1,
   "id": "contained-command",
   "metadata": {},
   "outputs": [],
   "source": [
    "SPARK_HOME=\"../../sparkBin/spark-3.1.2-bin-hadoop3.2\"\n",
    "import findspark\n",
    "findspark.init( SPARK_HOME )"
   ]
  },
  {
   "cell_type": "code",
   "execution_count": 2,
   "id": "muslim-basket",
   "metadata": {},
   "outputs": [],
   "source": [
    "import pandas as pd\n",
    "import pathlib as Path"
   ]
  },
  {
   "cell_type": "code",
   "execution_count": 3,
   "id": "alert-native",
   "metadata": {},
   "outputs": [],
   "source": [
    "from pyspark.sql import SparkSession\n",
    "\n",
    "spark = SparkSession \\\n",
    "    .builder \\\n",
    "    .appName(\"DESeqMasterETL\") \\\n",
    "    .config(\"spark.driver.memory\", \"15g\") \\\n",
    "    .getOrCreate()\n",
    "\n",
    "# .config(\"spark.some.config.option\", \"some-value\") \\"
   ]
  },
  {
   "cell_type": "code",
   "execution_count": 4,
   "id": "beginning-longitude",
   "metadata": {},
   "outputs": [],
   "source": [
    "from pyspark.sql import functions as sqlFunc"
   ]
  },
  {
   "cell_type": "markdown",
   "id": "revolutionary-render",
   "metadata": {},
   "source": [
    "## load our mock terra data model"
   ]
  },
  {
   "cell_type": "code",
   "execution_count": 5,
   "id": "humanitarian-modern",
   "metadata": {},
   "outputs": [],
   "source": [
    "fileList = [\"/private/groups/kimlab/kras.ipsc/data/bulk.data/day.5/ctrl.1/gencode.salmon.out/quant.sf\",\n",
    "    \"/private/groups/kimlab/kras.ipsc/data/bulk.data/day.5/ctrl.2/gencode.salmon.out/quant.sf\",\n",
    "    \"/private/groups/kimlab/kras.ipsc/data/bulk.data/day.5/ctrl.3/gencode.salmon.out/quant.sf\",\n",
    "    \"/private/groups/kimlab/kras.ipsc/data/bulk.data/day.5/kras.1/gencode.salmon.out/quant.sf\",\n",
    "    \"/private/groups/kimlab/kras.ipsc/data/bulk.data/day.5/kras.2/gencode.salmon.out/quant.sf\",\n",
    "    \"/private/groups/kimlab/kras.ipsc/data/bulk.data/day.5/kras.3/gencode.salmon.out/quant.sf\"]"
   ]
  },
  {
   "cell_type": "code",
   "execution_count": 6,
   "id": "living-shield",
   "metadata": {},
   "outputs": [],
   "source": [
    "# pre allocate slots to store data frames in\n",
    "quantSDFs = [None] * len(fileList)"
   ]
  },
  {
   "cell_type": "code",
   "execution_count": 7,
   "id": "documented-dispatch",
   "metadata": {},
   "outputs": [
    {
     "name": "stdout",
     "output_type": "stream",
     "text": [
      "/private/groups/kimlab/kras.ipsc/data/bulk.data/day.5/ctrl.1/gencode.salmon.out/quant.sf\n",
      "/private/groups/kimlab/kras.ipsc/data/bulk.data/day.5/ctrl.2/gencode.salmon.out/quant.sf\n",
      "/private/groups/kimlab/kras.ipsc/data/bulk.data/day.5/ctrl.3/gencode.salmon.out/quant.sf\n",
      "/private/groups/kimlab/kras.ipsc/data/bulk.data/day.5/kras.1/gencode.salmon.out/quant.sf\n",
      "/private/groups/kimlab/kras.ipsc/data/bulk.data/day.5/kras.2/gencode.salmon.out/quant.sf\n",
      "/private/groups/kimlab/kras.ipsc/data/bulk.data/day.5/kras.3/gencode.salmon.out/quant.sf\n"
     ]
    }
   ],
   "source": [
    "quantSchema = \"`Name` STRING, `Length` INT, `EffectiveLength` DOUBLE, `TPM` DOUBLE, `NumReads` DOUBLE \"\n",
    "\n",
    "for i in range( len(quantSDFs) ):\n",
    "    quantFile =  fileList[i] \n",
    "    print(quantFile)\n",
    "    df = spark.read.load( quantFile, format=\"csv\", sep=\"\\t\", \n",
    "                             schema=quantSchema, header=\"true\")\n",
    "    quantSDFs[i] = df"
   ]
  },
  {
   "cell_type": "code",
   "execution_count": 8,
   "id": "ecological-society",
   "metadata": {},
   "outputs": [
    {
     "name": "stdout",
     "output_type": "stream",
     "text": [
      "root\n",
      " |-- Name: string (nullable = true)\n",
      " |-- Length: integer (nullable = true)\n",
      " |-- EffectiveLength: double (nullable = true)\n",
      " |-- TPM: double (nullable = true)\n",
      " |-- NumReads: double (nullable = true)\n",
      "\n"
     ]
    }
   ],
   "source": [
    "quantSDFs[0].printSchema()"
   ]
  },
  {
   "cell_type": "markdown",
   "id": "significant-hearts",
   "metadata": {},
   "source": [
    "## explore quant.sf file format"
   ]
  },
  {
   "cell_type": "code",
   "execution_count": 9,
   "id": "lucky-korea",
   "metadata": {},
   "outputs": [
    {
     "name": "stdout",
     "output_type": "stream",
     "text": [
      "+--------------------+------+---------------+---------+--------+\n",
      "|                Name|Length|EffectiveLength|      TPM|NumReads|\n",
      "+--------------------+------+---------------+---------+--------+\n",
      "|ENST00000456328.2...|  1657|         1474.0|      0.0|     0.0|\n",
      "|ENST00000450305.2...|   632|          449.0|      0.0|     0.0|\n",
      "|ENST00000488147.1...|  1351|        875.269|23.712919| 383.794|\n",
      "|ENST00000619216.1...|    68|            5.0|      0.0|     0.0|\n",
      "|ENST00000473358.1...|   712|          529.0|      0.0|     0.0|\n",
      "|ENST00000469289.1...|   535|          352.0|      0.0|     0.0|\n",
      "|ENST00000607096.1...|   138|           17.0|      0.0|     0.0|\n",
      "|ENST00000417324.1...|  1187|         1004.0|      0.0|     0.0|\n",
      "|ENST00000461467.1...|   590|        408.837| 0.248295|   1.877|\n",
      "|ENST00000606857.1...|   840|          657.0|      0.0|     0.0|\n",
      "|ENST00000642116.1...|  1414|         1231.0|      0.0|     0.0|\n",
      "|ENST00000492842.2...|   939|          756.0|      0.0|     0.0|\n",
      "|ENST00000641515.2...|  2618|         2435.0|      0.0|     0.0|\n",
      "|ENST00000335137.4...|  1054|          871.0|      0.0|     0.0|\n",
      "|ENST00000466430.5...|  2748|       2534.839| 0.260126|  12.193|\n",
      "|ENST00000477740.5...|   491|          309.0|      0.0|     0.0|\n",
      "|ENST00000471248.1...|   629|        417.741| 0.510646|   3.945|\n",
      "|ENST00000610542.1...|   723|         526.88| 0.683198|   6.656|\n",
      "|ENST00000453576.2...|   336|          160.0|      0.0|     0.0|\n",
      "|ENST00000495576.1...|  1319|         1136.0|      0.0|     0.0|\n",
      "+--------------------+------+---------------+---------+--------+\n",
      "only showing top 20 rows\n",
      "\n"
     ]
    }
   ],
   "source": [
    "quantSDFs[0].show()"
   ]
  },
  {
   "cell_type": "markdown",
   "id": "arranged-discrimination",
   "metadata": {},
   "source": [
    "# create master count spark data frame"
   ]
  },
  {
   "cell_type": "code",
   "execution_count": 10,
   "id": "ideal-consultancy",
   "metadata": {},
   "outputs": [
    {
     "data": {
      "text/plain": [
       "['ctrl_1', 'ctrl_2', 'ctrl_3', 'kras_1', 'kras_2', 'kras_3']"
      ]
     },
     "execution_count": 10,
     "metadata": {},
     "output_type": "execute_result"
    }
   ],
   "source": [
    "sampleNamesLst = [None] * len(fileList)\n",
    "for i in range( len(fileList) ):\n",
    "    sampleNamesLst[i] = fileList[i].split(\"/\")[8].replace(\".\", \"_\")\n",
    "    \n",
    "sampleNamesLst"
   ]
  },
  {
   "cell_type": "code",
   "execution_count": 11,
   "id": "departmental-jefferson",
   "metadata": {},
   "outputs": [],
   "source": [
    "# initialize master counts spark data fram\n",
    "firstSampleName = sampleNamesLst[0]\n",
    "masterCountSDF = quantSDFs[0].select( [\"Name\", \"NumReads\"] ).withColumnRenamed( \"NumReads\", firstSampleName )\n",
    "\n",
    "# Register the DataFrame as a SQL temporary view\n",
    "masterCountSDF.createOrReplaceTempView(\"masterCount\")"
   ]
  },
  {
   "cell_type": "code",
   "execution_count": 12,
   "id": "political-azerbaijan",
   "metadata": {},
   "outputs": [
    {
     "name": "stdout",
     "output_type": "stream",
     "text": [
      "ctrl_2\n",
      "ctrl_3\n",
      "kras_1\n",
      "kras_2\n",
      "kras_3\n"
     ]
    }
   ],
   "source": [
    "for i in range( 1, len(sampleNamesLst)):\n",
    "    sampleName = sampleNamesLst[i]\n",
    "    print(sampleName)\n",
    "    \n",
    "    # select the key and counts from the sample. \n",
    "    sampleSDF = quantSDFs[i].select( [\"Name\", \"NumReads\", ] ).withColumnRenamed( \"NumReads\", sampleName )\n",
    "    sampleSDF.createOrReplaceTempView(\"sample\")\n",
    "    \n",
    "    sqlStmt = ' select mc.*, {}  \\n\\\n",
    "                      from \\n\\\n",
    "                          masterCount as mc, \\n\\\n",
    "                          sample  \\n\\\n",
    "                      where \\n\\\n",
    "                          mc.Name == sample.Name  \\n'.format(sampleName)\n",
    "    #print(sqlStmt)\n",
    "    \n",
    "    masterCountSDF = spark.sql( sqlStmt )\n",
    "    masterCountSDF.createOrReplaceTempView(\"masterCount\")\n",
    "    #masterCountSDF.show()"
   ]
  },
  {
   "cell_type": "markdown",
   "id": "familiar-contemporary",
   "metadata": {},
   "source": [
    "# invoke an action\n",
    "This will cause the optimized query plan to run"
   ]
  },
  {
   "cell_type": "code",
   "execution_count": 13,
   "id": "environmental-price",
   "metadata": {
    "scrolled": false
   },
   "outputs": [],
   "source": [
    "#masterCountSDF.show(n=3)"
   ]
  },
  {
   "cell_type": "markdown",
   "id": "southern-decision",
   "metadata": {},
   "source": [
    "# Save master count"
   ]
  },
  {
   "cell_type": "code",
   "execution_count": 14,
   "id": "loose-hobby",
   "metadata": {},
   "outputs": [],
   "source": [
    "rootDir = Path.Path('../../terra/deseq/R')\n",
    "rootDir.mkdir(exist_ok=True)"
   ]
  },
  {
   "cell_type": "markdown",
   "id": "immune-education",
   "metadata": {},
   "source": [
    "## <span style=\"color:red\"> in practice this is bad we coalesce twice results a lot of needless network overhead</span>"
   ]
  },
  {
   "cell_type": "code",
   "execution_count": 15,
   "id": "intelligent-finance",
   "metadata": {},
   "outputs": [
    {
     "data": {
      "text/plain": [
       "200"
      ]
     },
     "execution_count": 15,
     "metadata": {},
     "output_type": "execute_result"
    }
   ],
   "source": [
    "masterCountSDF.rdd.getNumPartitions()"
   ]
  },
  {
   "cell_type": "code",
   "execution_count": 16,
   "id": "automated-navigation",
   "metadata": {},
   "outputs": [],
   "source": [
    "masterOutFile = rootDir.joinpath( \"masterCount.tsv\" )\n",
    "# write to a single file\n",
    "masterCountSDF.coalesce(1).write.csv( masterOutFile.as_posix(), mode='overwrite', sep='\\t', header=True)"
   ]
  },
  {
   "cell_type": "code",
   "execution_count": 17,
   "id": "human-printing",
   "metadata": {},
   "outputs": [
    {
     "data": {
      "text/plain": [
       "200"
      ]
     },
     "execution_count": 17,
     "metadata": {},
     "output_type": "execute_result"
    }
   ],
   "source": [
    "masterCountSDF.rdd.getNumPartitions()"
   ]
  },
  {
   "cell_type": "code",
   "execution_count": 18,
   "id": "offensive-input",
   "metadata": {},
   "outputs": [
    {
     "name": "stdout",
     "output_type": "stream",
     "text": [
      "+--------------------+--------+--------+--------+--------+--------+--------+\n",
      "|                Name|  ctrl_1|  ctrl_2|  ctrl_3|  kras_1|  kras_2|  kras_3|\n",
      "+--------------------+--------+--------+--------+--------+--------+--------+\n",
      "|ENST00000209540.2...|     0.0|     0.0|     0.0|     0.0|     0.0|     0.0|\n",
      "|ENST00000221899.7...|  51.224|   26.64|  31.421|     0.0|  24.985|     0.0|\n",
      "|ENST00000222254.1...| 1813.79|2117.258|1947.022|2022.171|1605.718|1766.385|\n",
      "|ENST00000222256.9...| 137.771| 132.202|   112.0|   133.0|  90.452|   90.85|\n",
      "|ENST00000244296.6...|     0.0|     0.0|     0.0|     0.0|     0.0|     0.0|\n",
      "|ENST00000247668.7...|1092.855|1213.941|1075.104|1173.128| 901.451| 952.704|\n",
      "|ENST00000249071.1...|  83.865|  88.761|   77.46|   65.45|  59.054|  56.478|\n",
      "|ENST00000249389.2...|     0.0|     2.0|     1.0|     0.0|     1.0|     0.0|\n",
      "|ENST00000251074.5...| 726.215|  971.33|1008.867| 774.779| 683.967| 717.747|\n",
      "|ENST00000253251.1...|1578.777|2016.713|1901.576|2159.728| 1645.72| 1631.07|\n",
      "|ENST00000253925.1...|1867.968|2025.935|2043.859|2016.734|1618.179|1696.207|\n",
      "|ENST00000261196.6...|     0.0|     0.0|     0.0|     0.0|     0.0|     0.0|\n",
      "|ENST00000261722.8...|     0.0|     0.0|     0.0|     0.0|     0.0|     0.0|\n",
      "|ENST00000261908.1...| 427.042| 519.499| 367.924| 423.915| 302.837| 354.347|\n",
      "|ENST00000262753.9...|     0.0|     3.0|     6.0|     5.0|     2.0|     0.0|\n",
      "|ENST00000263408.5...|     0.0|     0.0|     0.0|     1.0|     0.0|     2.0|\n",
      "|ENST00000264657.9...|2518.579|3026.791| 3115.69|2882.858|2333.271|2446.034|\n",
      "|ENST00000265112.7...| 113.503| 125.409| 148.101| 165.393| 146.405| 118.354|\n",
      "|ENST00000268676.1...| 378.504| 354.528| 394.461|  436.88|  252.57| 238.994|\n",
      "|ENST00000272342.6...| 475.249| 578.693| 832.059| 578.994| 425.205| 347.046|\n",
      "+--------------------+--------+--------+--------+--------+--------+--------+\n",
      "only showing top 20 rows\n",
      "\n"
     ]
    }
   ],
   "source": [
    "# write to 3 files\n",
    "masterPartsOutFile = rootDir.joinpath( \"masterCountParts.tsv\" )\n",
    "\n",
    "numFiles = 3\n",
    "masterCountSDF.coalesce(numFiles) \\\n",
    "    .write \\\n",
    "    .csv( masterPartsOutFile.as_posix(), mode='overwrite', sep='\\t', header=True)\n",
    "\n",
    "masterCountSDF.show()"
   ]
  },
  {
   "cell_type": "code",
   "execution_count": 19,
   "id": "established-eleven",
   "metadata": {},
   "outputs": [
    {
     "data": {
      "text/plain": [
       "200"
      ]
     },
     "execution_count": 19,
     "metadata": {},
     "output_type": "execute_result"
    }
   ],
   "source": [
    "masterCountSDF.rdd.getNumPartitions()"
   ]
  },
  {
   "cell_type": "code",
   "execution_count": null,
   "id": "restricted-overall",
   "metadata": {},
   "outputs": [],
   "source": []
  }
 ],
 "metadata": {
  "kernelspec": {
   "display_name": "Python 3",
   "language": "python",
   "name": "python3"
  },
  "language_info": {
   "codemirror_mode": {
    "name": "ipython",
    "version": 3
   },
   "file_extension": ".py",
   "mimetype": "text/x-python",
   "name": "python",
   "nbconvert_exporter": "python",
   "pygments_lexer": "ipython3",
   "version": "3.7.6"
  }
 },
 "nbformat": 4,
 "nbformat_minor": 5
}
