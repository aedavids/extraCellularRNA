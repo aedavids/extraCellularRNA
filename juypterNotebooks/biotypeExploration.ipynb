{
 "cells": [
  {
   "cell_type": "markdown",
   "metadata": {},
   "source": [
    "# Biotype exploration\n",
    "\n",
    "compare the top gene transcript between day 5, control, 'exo vs bulk' bio types"
   ]
  },
  {
   "cell_type": "markdown",
   "metadata": {},
   "source": [
    "## load  transcipt level count and bio type data\n",
    "data files created by extraCellularRNA/R/notebooks/kras.ipsc_exo_vs_bulk.DESeq.Rmd\n",
    "\n",
    "the original data came was produced Using Salmon. \n",
    "\n",
    "## TODO\n",
    "- salmon quant.sf files have biotype information. Should we use the count values in quant.sf files or use the 'normalized counts' from tximport/DESeq? They are normalized for library size\n",
    "\n",
    "- start \"parameterizing\" notebook using a dictionary. This is not a good use of time there are only 3 data sets\n",
    "    * cntrl bulk\n",
    "    * cntrl exo\n",
    "    * kras bulk\n",
    "    \n",
    "So far we only have DESeq for control exo vs bulk. Need DEseq for kras bulk vs control bulk"
   ]
  },
  {
   "cell_type": "code",
   "execution_count": 1,
   "metadata": {},
   "outputs": [],
   "source": [
    "from   bme263DataVis.utilities import MatPlotLibUtilities\n",
    "from   bme263DataVis.plotCumulativeProbablty import PlotCumulativeProbablity\n",
    "from   bme263DataVis.plotProbMassFunc import PlotProbMass\n",
    "\n",
    "# https://songhuiming.github.io/pages/2017/04/02/jupyter-and-pandas-display/\n",
    "# display(HTML(' <span style=\"color:red\">the title is: <h1>Hello, world!</h1> </span>  '))\n",
    "# display(HTML(df.to_html()))\n",
    "from IPython.display import display, HTML\n",
    "\n",
    "from   kimLabDataFactory.bioTypeCountFactor import BioTypeCountFactory\n",
    "from   kimLabDataFactory.transcriptBioTypeCountFactory import TranscriptBioTypeCountFactory\n",
    "from   kimLabStats.kullbackLeiblerDivergenceMonteCarlo import KullbackLeiblerDivergenceMonteCarlo as kldMonteCarlo\n",
    "from   kimLabStats.monteCarlo import MonteCarlo\n",
    "# from   kimLabStats.monteCarloUtils import kolmogorovSmirnovStat, kullbackLeiblerStat, shuffleParallelList\n",
    "import matplotlib.pyplot as plt\n",
    "import numpy as np\n",
    "import pandas as pd\n",
    "from   scipy.stats import entropy\n",
    "from   scipy.stats import ks_2samp\n",
    "\n",
    "mplu = MatPlotLibUtilities()\n",
    "mplu.loadStyle()\n",
    "\n",
    "macbookpro = \"../data/R/output\"\n",
    "courtyard = \"../R/output\"\n",
    "# biodataRootDir = courtyard\n",
    "biodataRootDir = macbookpro\n",
    "\n",
    "np.random.seed(42)\n",
    "\n",
    "FILES_KEY         = \"FILES_KEY\"\n",
    "SAMPLE_TYPE_KEY   = \"SAMPLE_TYPE_KEY\"\n",
    "DOWN_CSV_FILE_KEY = \"DOWN_CSV_FILE_KEY\"\n",
    "UP_CSV_FILE_KEY   = \"UP_CSV_FILE_KEY\"\n",
    "\n",
    "# controlParameters[REF_FILES_KEY]              = !ls $biodataRootDir/*bulk*ctrl*biotype*\n",
    "# controlParameters[REF_SAMPLE_TYPE_KEY]        = \"bulk\"\n",
    "# controlParameters[DEPENDET_FILES_KEY]         = !ls $biodataRootDir/*exo*ctrl*biotype*\n",
    "# controlParameters[DEPENDENT_SAMPLE_TYPE_KEY]  = \"exo\"\n",
    "\n",
    "# three day 5 kras.ipcs data sets\n",
    "bulkCntrlParams = dict()\n",
    "exoCntrlParams  = dict()\n",
    "bulkKrasParams  = dict()\n",
    "\n",
    "\n",
    "bulkCntrlParams[FILES_KEY]       = !ls $biodataRootDir/*bulk*ctrl*biotype*\n",
    "bulkCntrlParams[SAMPLE_TYPE_KEY] = \"bulk\"\n",
    "\n",
    "\n",
    "exoCntrlParams[FILES_KEY]        = !ls $biodataRootDir/*exo*ctrl*biotype*\n",
    "exoCntrlParams[SAMPLE_TYPE_KEY]  = \"exo\"\n",
    "               \n",
    "# bulkCntrlParams[\"\"]\n",
    "geneSetParas = dict()\n",
    "geneSetParas[UP_CSV_FILE_KEY] = \"{}/{}\".format(biodataRootDir, \n",
    "                                                  \"DESeq.ctrl.sampleType_ex0_vs_bulk.upRegulatedCounts.csv\")\n",
    "geneSetParas[DOWN_CSV_FILE_KEY] = \"{}/{}\".format(biodataRootDir,\n",
    "                                                 \"DESeq.ctrl.sampleType_ex0_vs_bulk.downRegulatedCounts.csv\")\n"
   ]
  },
  {
   "cell_type": "code",
   "execution_count": 2,
   "metadata": {},
   "outputs": [
    {
     "data": {
      "text/plain": [
       "['../data/R/output/kras.ipsc.data.bulk.data.day.5.ctrl.1.biotype.csv',\n",
       " '../data/R/output/kras.ipsc.data.bulk.data.day.5.ctrl.2.biotype.csv',\n",
       " '../data/R/output/kras.ipsc.data.bulk.data.day.5.ctrl.3.biotype.csv']"
      ]
     },
     "execution_count": 2,
     "metadata": {},
     "output_type": "execute_result"
    }
   ],
   "source": [
    "bulkCntrlParams[\"FILES_KEY\"]"
   ]
  },
  {
   "cell_type": "markdown",
   "metadata": {},
   "source": [
    "expected\n",
    "```\n",
    "['../data/R/output/kras.ipsc.data.bulk.data.day.5.ctrl.1.biotype.csv',\n",
    " '../data/R/output/kras.ipsc.data.bulk.data.day.5.ctrl.2.biotype.csv',\n",
    " '../data/R/output/kras.ipsc.data.bulk.data.day.5.ctrl.3.biotype.csv']\n",
    "```"
   ]
  },
  {
   "cell_type": "code",
   "execution_count": 3,
   "metadata": {},
   "outputs": [
    {
     "data": {
      "text/plain": [
       "['../data/R/output/kras.ipsc.data.exo.data.gen1c.day.5.exo.input.data.ctrl.1.biotype.csv',\n",
       " '../data/R/output/kras.ipsc.data.exo.data.gen1c.day.5.exo.input.data.ctrl.2.biotype.csv',\n",
       " '../data/R/output/kras.ipsc.data.exo.data.gen1c.day.5.exo.input.data.ctrl.3.biotype.csv']"
      ]
     },
     "execution_count": 3,
     "metadata": {},
     "output_type": "execute_result"
    }
   ],
   "source": [
    "exoCntrlParams[\"FILES_KEY\"]"
   ]
  },
  {
   "cell_type": "markdown",
   "metadata": {},
   "source": [
    "expected\n",
    "```\n",
    "['../data/R/output/kras.ipsc.data.exo.data.gen1c.day.5.exo.input.data.ctrl.1.biotype.csv',\n",
    " '../data/R/output/kras.ipsc.data.exo.data.gen1c.day.5.exo.input.data.ctrl.2.biotype.csv',\n",
    " '../data/R/output/kras.ipsc.data.exo.data.gen1c.day.5.exo.input.data.ctrl.3.biotype.csv']\n",
    " ```"
   ]
  },
  {
   "cell_type": "code",
   "execution_count": 4,
   "metadata": {},
   "outputs": [
    {
     "name": "stdout",
     "output_type": "stream",
     "text": [
      "bulkDF.shape:(679824, 7)\n",
      "<class 'pandas.core.frame.DataFrame'>\n",
      "RangeIndex: 679824 entries, 0 to 679823\n",
      "Data columns (total 7 columns):\n",
      " #   Column      Non-Null Count   Dtype   \n",
      "---  ------      --------------   -----   \n",
      " 0   HGNCT       679824 non-null  object  \n",
      " 1   HGNCG       679824 non-null  object  \n",
      " 2   BioType     679824 non-null  category\n",
      " 3   TPM         679824 non-null  float64 \n",
      " 4   NumReads    679824 non-null  float64 \n",
      " 5   sampleType  679824 non-null  category\n",
      " 6   replicant   679824 non-null  int64   \n",
      "dtypes: category(2), float64(2), int64(1), object(2)\n",
      "memory usage: 27.2+ MB\n",
      "None\n"
     ]
    },
    {
     "data": {
      "text/html": [
       "<div>\n",
       "<style scoped>\n",
       "    .dataframe tbody tr th:only-of-type {\n",
       "        vertical-align: middle;\n",
       "    }\n",
       "\n",
       "    .dataframe tbody tr th {\n",
       "        vertical-align: top;\n",
       "    }\n",
       "\n",
       "    .dataframe thead th {\n",
       "        text-align: right;\n",
       "    }\n",
       "</style>\n",
       "<table border=\"1\" class=\"dataframe\">\n",
       "  <thead>\n",
       "    <tr style=\"text-align: right;\">\n",
       "      <th></th>\n",
       "      <th>HGNCT</th>\n",
       "      <th>HGNCG</th>\n",
       "      <th>BioType</th>\n",
       "      <th>TPM</th>\n",
       "      <th>NumReads</th>\n",
       "      <th>sampleType</th>\n",
       "      <th>replicant</th>\n",
       "    </tr>\n",
       "  </thead>\n",
       "  <tbody>\n",
       "    <tr>\n",
       "      <th>0</th>\n",
       "      <td>DDX11L1-202</td>\n",
       "      <td>DDX11L1</td>\n",
       "      <td>lncRNA</td>\n",
       "      <td>0.000000</td>\n",
       "      <td>0.000</td>\n",
       "      <td>bulk</td>\n",
       "      <td>1</td>\n",
       "    </tr>\n",
       "    <tr>\n",
       "      <th>1</th>\n",
       "      <td>DDX11L1-201</td>\n",
       "      <td>DDX11L1</td>\n",
       "      <td>transcribed_unprocessed_pseudogene</td>\n",
       "      <td>0.000000</td>\n",
       "      <td>0.000</td>\n",
       "      <td>bulk</td>\n",
       "      <td>1</td>\n",
       "    </tr>\n",
       "    <tr>\n",
       "      <th>2</th>\n",
       "      <td>WASH7P-201</td>\n",
       "      <td>WASH7P</td>\n",
       "      <td>unprocessed_pseudogene</td>\n",
       "      <td>23.712919</td>\n",
       "      <td>383.794</td>\n",
       "      <td>bulk</td>\n",
       "      <td>1</td>\n",
       "    </tr>\n",
       "    <tr>\n",
       "      <th>679821</th>\n",
       "      <td>MT-CYB-201</td>\n",
       "      <td>MT-CYB</td>\n",
       "      <td>protein_coding</td>\n",
       "      <td>5117.493912</td>\n",
       "      <td>99570.940</td>\n",
       "      <td>bulk</td>\n",
       "      <td>3</td>\n",
       "    </tr>\n",
       "    <tr>\n",
       "      <th>679822</th>\n",
       "      <td>MT-TT-201</td>\n",
       "      <td>MT-TT</td>\n",
       "      <td>Mt_tRNA</td>\n",
       "      <td>0.000000</td>\n",
       "      <td>0.000</td>\n",
       "      <td>bulk</td>\n",
       "      <td>3</td>\n",
       "    </tr>\n",
       "    <tr>\n",
       "      <th>679823</th>\n",
       "      <td>MT-TP-201</td>\n",
       "      <td>MT-TP</td>\n",
       "      <td>Mt_tRNA</td>\n",
       "      <td>0.000000</td>\n",
       "      <td>0.000</td>\n",
       "      <td>bulk</td>\n",
       "      <td>3</td>\n",
       "    </tr>\n",
       "  </tbody>\n",
       "</table>\n",
       "</div>"
      ],
      "text/plain": [
       "              HGNCT    HGNCG                             BioType          TPM  \\\n",
       "0       DDX11L1-202  DDX11L1                              lncRNA     0.000000   \n",
       "1       DDX11L1-201  DDX11L1  transcribed_unprocessed_pseudogene     0.000000   \n",
       "2        WASH7P-201   WASH7P              unprocessed_pseudogene    23.712919   \n",
       "679821   MT-CYB-201   MT-CYB                      protein_coding  5117.493912   \n",
       "679822    MT-TT-201    MT-TT                             Mt_tRNA     0.000000   \n",
       "679823    MT-TP-201    MT-TP                             Mt_tRNA     0.000000   \n",
       "\n",
       "         NumReads sampleType  replicant  \n",
       "0           0.000       bulk          1  \n",
       "1           0.000       bulk          1  \n",
       "2         383.794       bulk          1  \n",
       "679821  99570.940       bulk          3  \n",
       "679822      0.000       bulk          3  \n",
       "679823      0.000       bulk          3  "
      ]
     },
     "execution_count": 4,
     "metadata": {},
     "output_type": "execute_result"
    }
   ],
   "source": [
    "sampleType = bulkCntrlParams[\"SAMPLE_TYPE_KEY\"] #\"bulk\"\n",
    "files      = bulkCntrlParams[FILES_KEY] # bulkFiles\n",
    "bulkDF = TranscriptBioTypeCountFactory(sampleType, files).loadFiles()\n",
    "print(\"bulkDF.shape:{}\".format(bulkDF.shape))\n",
    "print(bulkDF.info())\n",
    "bulkDF.iloc[ [0, 1, 2, 679821, 679822, 679823], :]"
   ]
  },
  {
   "cell_type": "markdown",
   "metadata": {},
   "source": [
    "expected\n",
    "```\n",
    "bulkDF.shape:(679824, 7)\n",
    "<class 'pandas.core.frame.DataFrame'>\n",
    "RangeIndex: 679824 entries, 0 to 679823\n",
    "Data columns (total 7 columns):\n",
    " #   Column      Non-Null Count   Dtype   \n",
    "---  ------      --------------   -----   \n",
    " 0   HGNCT       679824 non-null  object  \n",
    " 1   HGNCG       679824 non-null  object  \n",
    " 2   BioType     679824 non-null  category\n",
    " 3   TPM         679824 non-null  float64 \n",
    " 4   NumReads    679824 non-null  float64 \n",
    " 5   sampleType  679824 non-null  category\n",
    " 6   replicant   679824 non-null  int64   \n",
    "dtypes: category(2), float64(2), int64(1), object(2)\n",
    "memory usage: 27.2+ MB\n",
    "None\n",
    "HGNCT\tHGNCG\tBioType\tTPM\tNumReads\tsampleType\treplicant\n",
    "0\tDDX11L1-202\tDDX11L1\tlncRNA\t0.000000\t0.000\tbulk\t1\n",
    "1\tDDX11L1-201\tDDX11L1\ttranscribed_unprocessed_pseudogene\t0.000000\t0.000\tbulk\t1\n",
    "2\tWASH7P-201\tWASH7P\tunprocessed_pseudogene\t23.712919\t383.794\tbulk\t1\n",
    "679821\tMT-CYB-201\tMT-CYB\tprotein_coding\t5117.493912\t99570.940\tbulk\t3\n",
    "679822\tMT-TT-201\tMT-TT\tMt_tRNA\t0.000000\t0.000\tbulk\t3\n",
    "679823\tMT-TP-201\tMT-TP\tMt_tRNA\t0.000000\t0.000\tbulk\t3\n",
    "```"
   ]
  },
  {
   "cell_type": "code",
   "execution_count": 5,
   "metadata": {},
   "outputs": [
    {
     "name": "stdout",
     "output_type": "stream",
     "text": [
      "exoDF.shape:(679824, 7)\n",
      "<class 'pandas.core.frame.DataFrame'>\n",
      "RangeIndex: 679824 entries, 0 to 679823\n",
      "Data columns (total 7 columns):\n",
      " #   Column      Non-Null Count   Dtype   \n",
      "---  ------      --------------   -----   \n",
      " 0   HGNCT       679824 non-null  object  \n",
      " 1   HGNCG       679824 non-null  object  \n",
      " 2   BioType     679824 non-null  category\n",
      " 3   TPM         679824 non-null  float64 \n",
      " 4   NumReads    679824 non-null  float64 \n",
      " 5   sampleType  679824 non-null  category\n",
      " 6   replicant   679824 non-null  int64   \n",
      "dtypes: category(2), float64(2), int64(1), object(2)\n",
      "memory usage: 27.2+ MB\n",
      "None\n"
     ]
    },
    {
     "data": {
      "text/html": [
       "<div>\n",
       "<style scoped>\n",
       "    .dataframe tbody tr th:only-of-type {\n",
       "        vertical-align: middle;\n",
       "    }\n",
       "\n",
       "    .dataframe tbody tr th {\n",
       "        vertical-align: top;\n",
       "    }\n",
       "\n",
       "    .dataframe thead th {\n",
       "        text-align: right;\n",
       "    }\n",
       "</style>\n",
       "<table border=\"1\" class=\"dataframe\">\n",
       "  <thead>\n",
       "    <tr style=\"text-align: right;\">\n",
       "      <th></th>\n",
       "      <th>HGNCT</th>\n",
       "      <th>HGNCG</th>\n",
       "      <th>BioType</th>\n",
       "      <th>TPM</th>\n",
       "      <th>NumReads</th>\n",
       "      <th>sampleType</th>\n",
       "      <th>replicant</th>\n",
       "    </tr>\n",
       "  </thead>\n",
       "  <tbody>\n",
       "    <tr>\n",
       "      <th>0</th>\n",
       "      <td>DDX11L1-202</td>\n",
       "      <td>DDX11L1</td>\n",
       "      <td>lncRNA</td>\n",
       "      <td>0.0000</td>\n",
       "      <td>0.0</td>\n",
       "      <td>exo</td>\n",
       "      <td>1</td>\n",
       "    </tr>\n",
       "    <tr>\n",
       "      <th>1</th>\n",
       "      <td>DDX11L1-201</td>\n",
       "      <td>DDX11L1</td>\n",
       "      <td>transcribed_unprocessed_pseudogene</td>\n",
       "      <td>0.0000</td>\n",
       "      <td>0.0</td>\n",
       "      <td>exo</td>\n",
       "      <td>1</td>\n",
       "    </tr>\n",
       "    <tr>\n",
       "      <th>2</th>\n",
       "      <td>WASH7P-201</td>\n",
       "      <td>WASH7P</td>\n",
       "      <td>unprocessed_pseudogene</td>\n",
       "      <td>0.0000</td>\n",
       "      <td>0.0</td>\n",
       "      <td>exo</td>\n",
       "      <td>1</td>\n",
       "    </tr>\n",
       "    <tr>\n",
       "      <th>679821</th>\n",
       "      <td>MT-CYB-201</td>\n",
       "      <td>MT-CYB</td>\n",
       "      <td>protein_coding</td>\n",
       "      <td>188.0472</td>\n",
       "      <td>120.0</td>\n",
       "      <td>exo</td>\n",
       "      <td>3</td>\n",
       "    </tr>\n",
       "    <tr>\n",
       "      <th>679822</th>\n",
       "      <td>MT-TT-201</td>\n",
       "      <td>MT-TT</td>\n",
       "      <td>Mt_tRNA</td>\n",
       "      <td>0.0000</td>\n",
       "      <td>0.0</td>\n",
       "      <td>exo</td>\n",
       "      <td>3</td>\n",
       "    </tr>\n",
       "    <tr>\n",
       "      <th>679823</th>\n",
       "      <td>MT-TP-201</td>\n",
       "      <td>MT-TP</td>\n",
       "      <td>Mt_tRNA</td>\n",
       "      <td>0.0000</td>\n",
       "      <td>0.0</td>\n",
       "      <td>exo</td>\n",
       "      <td>3</td>\n",
       "    </tr>\n",
       "  </tbody>\n",
       "</table>\n",
       "</div>"
      ],
      "text/plain": [
       "              HGNCT    HGNCG                             BioType       TPM  \\\n",
       "0       DDX11L1-202  DDX11L1                              lncRNA    0.0000   \n",
       "1       DDX11L1-201  DDX11L1  transcribed_unprocessed_pseudogene    0.0000   \n",
       "2        WASH7P-201   WASH7P              unprocessed_pseudogene    0.0000   \n",
       "679821   MT-CYB-201   MT-CYB                      protein_coding  188.0472   \n",
       "679822    MT-TT-201    MT-TT                             Mt_tRNA    0.0000   \n",
       "679823    MT-TP-201    MT-TP                             Mt_tRNA    0.0000   \n",
       "\n",
       "        NumReads sampleType  replicant  \n",
       "0            0.0        exo          1  \n",
       "1            0.0        exo          1  \n",
       "2            0.0        exo          1  \n",
       "679821     120.0        exo          3  \n",
       "679822       0.0        exo          3  \n",
       "679823       0.0        exo          3  "
      ]
     },
     "execution_count": 5,
     "metadata": {},
     "output_type": "execute_result"
    }
   ],
   "source": [
    "sampleType = exoCntrlParams[\"SAMPLE_TYPE_KEY\"]#\"exo\"\n",
    "files = exoCntrlParams[\"FILES_KEY\"] # exoFiles\n",
    "exoDF = TranscriptBioTypeCountFactory(sampleType, files).loadFiles()\n",
    "print(\"exoDF.shape:{}\".format(exoDF.shape))\n",
    "print(exoDF.info())\n",
    "exoDF.iloc[ [0, 1, 2, 679821, 679822, 679823], :]"
   ]
  },
  {
   "cell_type": "markdown",
   "metadata": {},
   "source": [
    "expected\n",
    "\n",
    "```\n",
    "exoDF.shape:(679824, 7)\n",
    "<class 'pandas.core.frame.DataFrame'>\n",
    "RangeIndex: 679824 entries, 0 to 679823\n",
    "Data columns (total 7 columns):\n",
    " #   Column      Non-Null Count   Dtype   \n",
    "---  ------      --------------   -----   \n",
    " 0   HGNCT       679824 non-null  object  \n",
    " 1   HGNCG       679824 non-null  object  \n",
    " 2   BioType     679824 non-null  category\n",
    " 3   TPM         679824 non-null  float64 \n",
    " 4   NumReads    679824 non-null  float64 \n",
    " 5   sampleType  679824 non-null  category\n",
    " 6   replicant   679824 non-null  int64   \n",
    "dtypes: category(2), float64(2), int64(1), object(2)\n",
    "memory usage: 27.2+ MB\n",
    "None\n",
    "HGNCT\tHGNCG\tBioType\tTPM\tNumReads\tsampleType\treplicant\n",
    "0\tDDX11L1-202\tDDX11L1\tlncRNA\t0.0000\t0.0\texo\t1\n",
    "1\tDDX11L1-201\tDDX11L1\ttranscribed_unprocessed_pseudogene\t0.0000\t0.0\texo\t1\n",
    "2\tWASH7P-201\tWASH7P\tunprocessed_pseudogene\t0.0000\t0.0\texo\t1\n",
    "679821\tMT-CYB-201\tMT-CYB\tprotein_coding\t188.0472\t120.0\texo\t3\n",
    "679822\tMT-TT-201\tMT-TT\tMt_tRNA\t0.0000\t0.0\texo\t3\n",
    "679823\tMT-TP-201\tMT-TP\tMt_tRNA\t0.0000\t0.0\texo\t3\n",
    "```"
   ]
  },
  {
   "cell_type": "code",
   "execution_count": 6,
   "metadata": {},
   "outputs": [],
   "source": [
    "# sanity check shapes should be the same\n",
    "assert bulkDF.shape == exoDF.shape, \"should have the same number of rows and columns\""
   ]
  },
  {
   "cell_type": "markdown",
   "metadata": {},
   "source": [
    "## select up and down ex0_vs_bulk regulated gene sets\n",
    "\n",
    "ref: data files created by extraCellularRNA/R/notebooks/kras.ipsc_exo_vs_bulk.DESeq.Rmd\n",
    "\n",
    "Data selection criteria:\n",
    "\n",
    "DESeq threshold == 1.0. I.E we only consider genes with logFoldChange > 1 to be biologicaly signifigant\n",
    "\n",
    "selected gene from unshrunk DESeq results with adjusted p-values < 0.05\n",
    "\n",
    "Up regulated genes have log2FoldChange > 0 and are in desending order. I.E. the most important genes are in first rows of table\n",
    "\n",
    "Down regulated genes have log2FoldChange <= 0 and are in ascending order. I.E. most down regulated genes have negative values and are in top rows of table"
   ]
  },
  {
   "cell_type": "code",
   "execution_count": 7,
   "metadata": {},
   "outputs": [],
   "source": [
    "#upCsvFile = \"{}/{}\".format(biodataRootDir, \"DESeq.ctrl.sampleType_ex0_vs_bulk.upRegulatedCounts.csv\")\n",
    "upCsvFile = geneSetParas[UP_CSV_FILE_KEY]\n",
    "btcfUpGeneSet = BioTypeCountFactory(upCsvFile)\n",
    "upRegulatedBulkDF = btcfUpGeneSet.selectRows(bulkDF)\n",
    "upRegulatedExoDF  = btcfUpGeneSet.selectRows(exoDF)\n",
    "\n",
    "# sanity check\n",
    "geneSetSeries = btcfUpGeneSet.getGeneSet()\n",
    "numUniqueUp = len(pd.unique( upRegulatedBulkDF.loc[:, \"HGNCG\"] ))\n",
    "assert numUniqueUp == len(geneSetSeries), \"ERROR missing genes\"\n",
    "\n",
    "numUniqueUp = len(pd.unique( upRegulatedExoDF.loc[:, \"HGNCG\"] ))\n",
    "assert numUniqueUp == len(geneSetSeries), \"ERROR missing genes\""
   ]
  },
  {
   "cell_type": "code",
   "execution_count": 8,
   "metadata": {},
   "outputs": [],
   "source": [
    "#downCsvFile = \"{}/{}\".format(biodataRootDir,\"DESeq.ctrl.sampleType_ex0_vs_bulk.downRegulatedCounts.csv\")\n",
    "downCsvFile = geneSetParas[DOWN_CSV_FILE_KEY]\n",
    "btcfDownGeneSet = BioTypeCountFactory(downCsvFile)\n",
    "downRegulatedBulkDF = btcfDownGeneSet.selectRows(bulkDF)\n",
    "downRegulatedExoDF = btcfDownGeneSet.selectRows(exoDF)\n",
    "\n",
    "# sanity check\n",
    "geneSetSeries = btcfDownGeneSet.getGeneSet()\n",
    "numUniqueDown = len(pd.unique( downRegulatedBulkDF.loc[:, \"HGNCG\"] ))\n",
    "assert numUniqueDown == len(geneSetSeries), \"ERROR missing genes\"\n",
    "\n",
    "numUniqueDown = len(pd.unique( downRegulatedExoDF.loc[:, \"HGNCG\"] ))\n",
    "assert numUniqueDown == len(geneSetSeries), \"ERROR missing genes\""
   ]
  },
  {
   "cell_type": "markdown",
   "metadata": {},
   "source": [
    "## Get Bio Type Counts"
   ]
  },
  {
   "cell_type": "code",
   "execution_count": 9,
   "metadata": {},
   "outputs": [
    {
     "data": {
      "text/html": [
       "<div>\n",
       "<style scoped>\n",
       "    .dataframe tbody tr th:only-of-type {\n",
       "        vertical-align: middle;\n",
       "    }\n",
       "\n",
       "    .dataframe tbody tr th {\n",
       "        vertical-align: top;\n",
       "    }\n",
       "\n",
       "    .dataframe thead th {\n",
       "        text-align: right;\n",
       "    }\n",
       "</style>\n",
       "<table border=\"1\" class=\"dataframe\">\n",
       "  <thead>\n",
       "    <tr style=\"text-align: right;\">\n",
       "      <th></th>\n",
       "      <th>upBulk</th>\n",
       "      <th>upExo</th>\n",
       "      <th>downBulk</th>\n",
       "      <th>downExo</th>\n",
       "    </tr>\n",
       "    <tr>\n",
       "      <th>BioType</th>\n",
       "      <th></th>\n",
       "      <th></th>\n",
       "      <th></th>\n",
       "      <th></th>\n",
       "    </tr>\n",
       "  </thead>\n",
       "  <tbody>\n",
       "    <tr>\n",
       "      <th>translated_processed_pseudogene</th>\n",
       "      <td>0.000</td>\n",
       "      <td>0.000</td>\n",
       "      <td>0.000</td>\n",
       "      <td>0.00</td>\n",
       "    </tr>\n",
       "    <tr>\n",
       "      <th>translated_unprocessed_pseudogene</th>\n",
       "      <td>0.000</td>\n",
       "      <td>0.000</td>\n",
       "      <td>0.000</td>\n",
       "      <td>0.00</td>\n",
       "    </tr>\n",
       "    <tr>\n",
       "      <th>unitary_pseudogene</th>\n",
       "      <td>17.639</td>\n",
       "      <td>192.596</td>\n",
       "      <td>0.000</td>\n",
       "      <td>0.00</td>\n",
       "    </tr>\n",
       "    <tr>\n",
       "      <th>unprocessed_pseudogene</th>\n",
       "      <td>225.720</td>\n",
       "      <td>3139.059</td>\n",
       "      <td>77069.147</td>\n",
       "      <td>67.05</td>\n",
       "    </tr>\n",
       "    <tr>\n",
       "      <th>vaultRNA</th>\n",
       "      <td>0.000</td>\n",
       "      <td>0.000</td>\n",
       "      <td>0.000</td>\n",
       "      <td>0.00</td>\n",
       "    </tr>\n",
       "  </tbody>\n",
       "</table>\n",
       "</div>"
      ],
      "text/plain": [
       "                                    upBulk     upExo   downBulk  downExo\n",
       "BioType                                                                 \n",
       "translated_processed_pseudogene      0.000     0.000      0.000     0.00\n",
       "translated_unprocessed_pseudogene    0.000     0.000      0.000     0.00\n",
       "unitary_pseudogene                  17.639   192.596      0.000     0.00\n",
       "unprocessed_pseudogene             225.720  3139.059  77069.147    67.05\n",
       "vaultRNA                             0.000     0.000      0.000     0.00"
      ]
     },
     "execution_count": 9,
     "metadata": {},
     "output_type": "execute_result"
    }
   ],
   "source": [
    "bioTypeCountDF = pd.DataFrame({ \n",
    "                        \"upBulk\"  :  upRegulatedBulkDF.groupby(\"BioType\").sum().loc[:, \"NumReads\"],\n",
    "                        \"upExo\"   :   upRegulatedExoDF.groupby(\"BioType\").sum().loc[:, \"NumReads\"],\n",
    "                        \"downBulk\":downRegulatedBulkDF.groupby(\"BioType\").sum().loc[:, \"NumReads\"],\n",
    "                        \"downExo\" : downRegulatedExoDF.groupby(\"BioType\").sum().loc[:, \"NumReads\"]\n",
    "                     })\n",
    "bioTypeCountDF.tail()"
   ]
  },
  {
   "cell_type": "markdown",
   "metadata": {},
   "source": [
    "## select bio types with counts > 0"
   ]
  },
  {
   "cell_type": "code",
   "execution_count": 10,
   "metadata": {},
   "outputs": [],
   "source": [
    "rowAxis=1\n",
    "selectNonZeroBiotypes = (bioTypeCountDF != 0).any(axis=rowAxis)\n",
    "bioTypeCountDF = bioTypeCountDF.loc[selectNonZeroBiotypes,:]"
   ]
  },
  {
   "cell_type": "markdown",
   "metadata": {},
   "source": [
    "## Convert to probablities and explore cumlative distribution function\n",
    "counts can not be compared directly. We expect bulk samples to have more transcript counts than exo samples"
   ]
  },
  {
   "cell_type": "code",
   "execution_count": 11,
   "metadata": {},
   "outputs": [
    {
     "data": {
      "text/html": [
       "<div>\n",
       "<style scoped>\n",
       "    .dataframe tbody tr th:only-of-type {\n",
       "        vertical-align: middle;\n",
       "    }\n",
       "\n",
       "    .dataframe tbody tr th {\n",
       "        vertical-align: top;\n",
       "    }\n",
       "\n",
       "    .dataframe thead th {\n",
       "        text-align: right;\n",
       "    }\n",
       "</style>\n",
       "<table border=\"1\" class=\"dataframe\">\n",
       "  <thead>\n",
       "    <tr style=\"text-align: right;\">\n",
       "      <th></th>\n",
       "      <th>upBulk</th>\n",
       "      <th>upExo</th>\n",
       "      <th>downBulk</th>\n",
       "      <th>downExo</th>\n",
       "    </tr>\n",
       "    <tr>\n",
       "      <th>BioType</th>\n",
       "      <th></th>\n",
       "      <th></th>\n",
       "      <th></th>\n",
       "      <th></th>\n",
       "    </tr>\n",
       "  </thead>\n",
       "  <tbody>\n",
       "    <tr>\n",
       "      <th>transcribed_processed_pseudogene</th>\n",
       "      <td>0.000061</td>\n",
       "      <td>0.000182</td>\n",
       "      <td>1.400568e-04</td>\n",
       "      <td>0.000003</td>\n",
       "    </tr>\n",
       "    <tr>\n",
       "      <th>transcribed_unitary_pseudogene</th>\n",
       "      <td>0.000037</td>\n",
       "      <td>0.000068</td>\n",
       "      <td>3.633262e-06</td>\n",
       "      <td>0.000007</td>\n",
       "    </tr>\n",
       "    <tr>\n",
       "      <th>transcribed_unprocessed_pseudogene</th>\n",
       "      <td>0.000546</td>\n",
       "      <td>0.000302</td>\n",
       "      <td>1.004069e-04</td>\n",
       "      <td>0.000087</td>\n",
       "    </tr>\n",
       "    <tr>\n",
       "      <th>unitary_pseudogene</th>\n",
       "      <td>0.000005</td>\n",
       "      <td>0.000051</td>\n",
       "      <td>2.177066e-08</td>\n",
       "      <td>0.000003</td>\n",
       "    </tr>\n",
       "    <tr>\n",
       "      <th>unprocessed_pseudogene</th>\n",
       "      <td>0.000066</td>\n",
       "      <td>0.000833</td>\n",
       "      <td>1.677868e-03</td>\n",
       "      <td>0.000237</td>\n",
       "    </tr>\n",
       "  </tbody>\n",
       "</table>\n",
       "</div>"
      ],
      "text/plain": [
       "                                      upBulk     upExo      downBulk   downExo\n",
       "BioType                                                                       \n",
       "transcribed_processed_pseudogene    0.000061  0.000182  1.400568e-04  0.000003\n",
       "transcribed_unitary_pseudogene      0.000037  0.000068  3.633262e-06  0.000007\n",
       "transcribed_unprocessed_pseudogene  0.000546  0.000302  1.004069e-04  0.000087\n",
       "unitary_pseudogene                  0.000005  0.000051  2.177066e-08  0.000003\n",
       "unprocessed_pseudogene              0.000066  0.000833  1.677868e-03  0.000237"
      ]
     },
     "execution_count": 11,
     "metadata": {},
     "output_type": "execute_result"
    }
   ],
   "source": [
    "def convertCountsToProb(countDF):\n",
    "    '''\n",
    "    adds psudo count\n",
    "    \n",
    "    Kullback–Leibler divergence will be inf if any of the predicted probablities are zero\n",
    "    '''\n",
    "    tmpDF = countDF + 1\n",
    "    colSums = tmpDF.sum()\n",
    "    ret = tmpDF / colSums\n",
    "    return ret\n",
    "\n",
    "bioTypeProbDF = convertCountsToProb(bioTypeCountDF)\n",
    "bioTypeProbDF.tail()"
   ]
  },
  {
   "cell_type": "code",
   "execution_count": 12,
   "metadata": {},
   "outputs": [],
   "source": [
    "upDataSets = [\"upBulk\", \"upExo\"]\n",
    "downDataSets = [\"downBulk\", \"downExo\"]"
   ]
  },
  {
   "cell_type": "code",
   "execution_count": 13,
   "metadata": {},
   "outputs": [
    {
     "data": {
      "text/plain": [
       "array(['Mt_rRNA', 'TEC', 'lncRNA', 'misc_RNA', 'non_stop_decay',\n",
       "       'nonsense_mediated_decay', 'polymorphic_pseudogene',\n",
       "       'processed_pseudogene', 'protein_coding', 'pseudogene',\n",
       "       'retained_intron', 'ribozyme', 'scRNA', 'snRNA',\n",
       "       'transcribed_processed_pseudogene',\n",
       "       'transcribed_unitary_pseudogene',\n",
       "       'transcribed_unprocessed_pseudogene', 'unitary_pseudogene',\n",
       "       'unprocessed_pseudogene'], dtype=object)"
      ]
     },
     "execution_count": 13,
     "metadata": {},
     "output_type": "execute_result"
    }
   ],
   "source": [
    "bioTypeProbDF.index.to_numpy()"
   ]
  },
  {
   "cell_type": "code",
   "execution_count": 14,
   "metadata": {},
   "outputs": [
    {
     "data": {
      "text/plain": [
       "<bme263DataVis.plotProbMassFunc.PlotProbMass at 0x7fdff0047c50>"
      ]
     },
     "execution_count": 14,
     "metadata": {},
     "output_type": "execute_result"
    },
    {
     "data": {
      "image/png": "[encoded data removed]",
      "text/plain": [
       "<Figure size 360x216 with 1 Axes>"
      ]
     },
     "metadata": {
      "needs_background": "light"
     },
     "output_type": "display_data"
    }
   ],
   "source": [
    "# create panel\n",
    "figureWidthInInches = 5\n",
    "figureHeightInInches = 3\n",
    "fig = plt.figure(figsize=(figureWidthInInches,figureHeightInInches))\n",
    "panel = mplu.createPanelSameSizeAsFig(fig)\n",
    "\n",
    "# select data to plot\n",
    "DF = bioTypeProbDF.loc[:, upDataSets]\n",
    "legendLabels = [s[len(\"up\"):] for s in upDataSets]\n",
    "title = \"kras.ipsc day 5, exo vs bulk, cntrl up regulated gene set\"\n",
    "PlotProbMass(panel, DF, legendLabels, title)\n",
    "#panel.save()"
   ]
  },
  {
   "cell_type": "code",
   "execution_count": 15,
   "metadata": {},
   "outputs": [],
   "source": [
    "# aedwip\n",
    "# is down regulated useful? can we use this to prove exosome payload is not just a random sample"
   ]
  },
  {
   "cell_type": "code",
   "execution_count": 16,
   "metadata": {},
   "outputs": [
    {
     "data": {
      "text/plain": [
       "<bme263DataVis.plotProbMassFunc.PlotProbMass at 0x7fe031aaafd0>"
      ]
     },
     "execution_count": 16,
     "metadata": {},
     "output_type": "execute_result"
    },
    {
     "data": {
      "image/png": "[encoded data removed]",
      "text/plain": [
       "<Figure size 360x216 with 1 Axes>"
      ]
     },
     "metadata": {
      "needs_background": "light"
     },
     "output_type": "display_data"
    }
   ],
   "source": [
    "# create panel\n",
    "figureWidthInInches = 5\n",
    "figureHeightInInches = 3\n",
    "fig = plt.figure(figsize=(figureWidthInInches,figureHeightInInches))\n",
    "panel = mplu.createPanelSameSizeAsFig(fig)\n",
    "\n",
    "# select data to plot\n",
    "DF = bioTypeProbDF.loc[:, downDataSets]\n",
    "legendLabels = [s[len(\"down\"):] for s in downDataSets]\n",
    "title = \"kras.ipsc day 5, exo vs bulk, cntrl down regulated gene set\"\n",
    "PlotProbMass(panel, DF, legendLabels, title)\n",
    "#panel.save()"
   ]
  },
  {
   "cell_type": "code",
   "execution_count": null,
   "metadata": {},
   "outputs": [],
   "source": []
  },
  {
   "cell_type": "markdown",
   "metadata": {},
   "source": [
    "## CDS cumlative distribution  Function"
   ]
  },
  {
   "cell_type": "code",
   "execution_count": 17,
   "metadata": {},
   "outputs": [
    {
     "data": {
      "text/html": [
       "<div>\n",
       "<style scoped>\n",
       "    .dataframe tbody tr th:only-of-type {\n",
       "        vertical-align: middle;\n",
       "    }\n",
       "\n",
       "    .dataframe tbody tr th {\n",
       "        vertical-align: top;\n",
       "    }\n",
       "\n",
       "    .dataframe thead th {\n",
       "        text-align: right;\n",
       "    }\n",
       "</style>\n",
       "<table border=\"1\" class=\"dataframe\">\n",
       "  <thead>\n",
       "    <tr style=\"text-align: right;\">\n",
       "      <th></th>\n",
       "      <th>upBulk</th>\n",
       "      <th>upExo</th>\n",
       "      <th>downBulk</th>\n",
       "      <th>downExo</th>\n",
       "    </tr>\n",
       "    <tr>\n",
       "      <th>BioType</th>\n",
       "      <th></th>\n",
       "      <th></th>\n",
       "      <th></th>\n",
       "      <th></th>\n",
       "    </tr>\n",
       "  </thead>\n",
       "  <tbody>\n",
       "    <tr>\n",
       "      <th>transcribed_processed_pseudogene</th>\n",
       "      <td>0.999346</td>\n",
       "      <td>0.998745</td>\n",
       "      <td>0.998218</td>\n",
       "      <td>0.999665</td>\n",
       "    </tr>\n",
       "    <tr>\n",
       "      <th>transcribed_unitary_pseudogene</th>\n",
       "      <td>0.999383</td>\n",
       "      <td>0.998813</td>\n",
       "      <td>0.998222</td>\n",
       "      <td>0.999672</td>\n",
       "    </tr>\n",
       "    <tr>\n",
       "      <th>transcribed_unprocessed_pseudogene</th>\n",
       "      <td>0.999929</td>\n",
       "      <td>0.999115</td>\n",
       "      <td>0.998322</td>\n",
       "      <td>0.999760</td>\n",
       "    </tr>\n",
       "    <tr>\n",
       "      <th>unitary_pseudogene</th>\n",
       "      <td>0.999934</td>\n",
       "      <td>0.999167</td>\n",
       "      <td>0.998322</td>\n",
       "      <td>0.999763</td>\n",
       "    </tr>\n",
       "    <tr>\n",
       "      <th>unprocessed_pseudogene</th>\n",
       "      <td>1.000000</td>\n",
       "      <td>1.000000</td>\n",
       "      <td>1.000000</td>\n",
       "      <td>1.000000</td>\n",
       "    </tr>\n",
       "  </tbody>\n",
       "</table>\n",
       "</div>"
      ],
      "text/plain": [
       "                                      upBulk     upExo  downBulk   downExo\n",
       "BioType                                                                   \n",
       "transcribed_processed_pseudogene    0.999346  0.998745  0.998218  0.999665\n",
       "transcribed_unitary_pseudogene      0.999383  0.998813  0.998222  0.999672\n",
       "transcribed_unprocessed_pseudogene  0.999929  0.999115  0.998322  0.999760\n",
       "unitary_pseudogene                  0.999934  0.999167  0.998322  0.999763\n",
       "unprocessed_pseudogene              1.000000  1.000000  1.000000  1.000000"
      ]
     },
     "execution_count": 17,
     "metadata": {},
     "output_type": "execute_result"
    }
   ],
   "source": [
    "bioTypeCDF_DF = np.cumsum(bioTypeProbDF)\n",
    "bioTypeCDF_DF.tail()"
   ]
  },
  {
   "cell_type": "code",
   "execution_count": 18,
   "metadata": {},
   "outputs": [
    {
     "data": {
      "text/plain": [
       "<bme263DataVis.plotCumulativeProbablty.PlotCumulativeProbablity at 0x7fe0211880d0>"
      ]
     },
     "execution_count": 18,
     "metadata": {},
     "output_type": "execute_result"
    },
    {
     "data": {
      "image/png": "[encoded data removed]",
      "text/plain": [
       "<Figure size 360x216 with 1 Axes>"
      ]
     },
     "metadata": {
      "needs_background": "light"
     },
     "output_type": "display_data"
    }
   ],
   "source": [
    "# create panel\n",
    "figureWidthInInches = 5\n",
    "figureHeightInInches = 3\n",
    "fig = plt.figure(figsize=(figureWidthInInches,figureHeightInInches))\n",
    "panel = mplu.createPanelSameSizeAsFig(fig)\n",
    "\n",
    "# select data to plot\n",
    "DF = bioTypeCDF_DF.loc[:, upDataSets]\n",
    "legendLabels = [s[len(\"up\"):] for s in upDataSets]\n",
    "title = \"kras.ipsc day 5, exo vs bulk, cntrl up regulated gene set\"\n",
    "PlotCumulativeProbablity(panel, DF, legendLabels, title)\n",
    "#panel.save()"
   ]
  },
  {
   "cell_type": "code",
   "execution_count": 19,
   "metadata": {},
   "outputs": [
    {
     "data": {
      "text/plain": [
       "<bme263DataVis.plotCumulativeProbablty.PlotCumulativeProbablity at 0x7fe0409cc650>"
      ]
     },
     "execution_count": 19,
     "metadata": {},
     "output_type": "execute_result"
    },
    {
     "data": {
      "image/png": "[encoded data removed]",
      "text/plain": [
       "<Figure size 360x216 with 1 Axes>"
      ]
     },
     "metadata": {
      "needs_background": "light"
     },
     "output_type": "display_data"
    }
   ],
   "source": [
    "# create panel\n",
    "figureWidthInInches = 5\n",
    "figureHeightInInches = 3\n",
    "fig = plt.figure(figsize=(figureWidthInInches,figureHeightInInches))\n",
    "panel = mplu.createPanelSameSizeAsFig(fig)\n",
    "\n",
    "# select data to plot\n",
    "DF = bioTypeCDF_DF.loc[:, downDataSets]\n",
    "legendLabels = [s[len(\"down\"):] for s in downDataSets]\n",
    "title = \"kras.ipsc day 5, exo vs bulk, cntrl down regulated gene set\"\n",
    "PlotCumulativeProbablity(panel, DF, legendLabels, title)\n",
    "#panel.save()"
   ]
  },
  {
   "cell_type": "code",
   "execution_count": 20,
   "metadata": {},
   "outputs": [
    {
     "data": {
      "text/html": [
       "<div>\n",
       "<style scoped>\n",
       "    .dataframe tbody tr th:only-of-type {\n",
       "        vertical-align: middle;\n",
       "    }\n",
       "\n",
       "    .dataframe tbody tr th {\n",
       "        vertical-align: top;\n",
       "    }\n",
       "\n",
       "    .dataframe thead th {\n",
       "        text-align: right;\n",
       "    }\n",
       "</style>\n",
       "<table border=\"1\" class=\"dataframe\">\n",
       "  <thead>\n",
       "    <tr style=\"text-align: right;\">\n",
       "      <th></th>\n",
       "      <th>upBulk</th>\n",
       "      <th>upExo</th>\n",
       "      <th>bulk - exo</th>\n",
       "    </tr>\n",
       "    <tr>\n",
       "      <th>BioType</th>\n",
       "      <th></th>\n",
       "      <th></th>\n",
       "      <th></th>\n",
       "    </tr>\n",
       "  </thead>\n",
       "  <tbody>\n",
       "    <tr>\n",
       "      <th>Mt_rRNA</th>\n",
       "      <td>0.180332</td>\n",
       "      <td>0.030261</td>\n",
       "      <td>0.150071</td>\n",
       "    </tr>\n",
       "    <tr>\n",
       "      <th>TEC</th>\n",
       "      <td>0.184361</td>\n",
       "      <td>0.051879</td>\n",
       "      <td>0.132481</td>\n",
       "    </tr>\n",
       "    <tr>\n",
       "      <th>lncRNA</th>\n",
       "      <td>0.293754</td>\n",
       "      <td>0.539771</td>\n",
       "      <td>-0.246017</td>\n",
       "    </tr>\n",
       "    <tr>\n",
       "      <th>misc_RNA</th>\n",
       "      <td>0.294689</td>\n",
       "      <td>0.551437</td>\n",
       "      <td>-0.256748</td>\n",
       "    </tr>\n",
       "    <tr>\n",
       "      <th>non_stop_decay</th>\n",
       "      <td>0.294838</td>\n",
       "      <td>0.551439</td>\n",
       "      <td>-0.256601</td>\n",
       "    </tr>\n",
       "    <tr>\n",
       "      <th>nonsense_mediated_decay</th>\n",
       "      <td>0.323012</td>\n",
       "      <td>0.563947</td>\n",
       "      <td>-0.240935</td>\n",
       "    </tr>\n",
       "    <tr>\n",
       "      <th>polymorphic_pseudogene</th>\n",
       "      <td>0.323021</td>\n",
       "      <td>0.563951</td>\n",
       "      <td>-0.240930</td>\n",
       "    </tr>\n",
       "    <tr>\n",
       "      <th>processed_pseudogene</th>\n",
       "      <td>0.327185</td>\n",
       "      <td>0.638697</td>\n",
       "      <td>-0.311511</td>\n",
       "    </tr>\n",
       "    <tr>\n",
       "      <th>protein_coding</th>\n",
       "      <td>0.956328</td>\n",
       "      <td>0.902567</td>\n",
       "      <td>0.053760</td>\n",
       "    </tr>\n",
       "    <tr>\n",
       "      <th>pseudogene</th>\n",
       "      <td>0.956337</td>\n",
       "      <td>0.902725</td>\n",
       "      <td>0.053612</td>\n",
       "    </tr>\n",
       "  </tbody>\n",
       "</table>\n",
       "</div>"
      ],
      "text/plain": [
       "                           upBulk     upExo  bulk - exo\n",
       "BioType                                                \n",
       "Mt_rRNA                  0.180332  0.030261    0.150071\n",
       "TEC                      0.184361  0.051879    0.132481\n",
       "lncRNA                   0.293754  0.539771   -0.246017\n",
       "misc_RNA                 0.294689  0.551437   -0.256748\n",
       "non_stop_decay           0.294838  0.551439   -0.256601\n",
       "nonsense_mediated_decay  0.323012  0.563947   -0.240935\n",
       "polymorphic_pseudogene   0.323021  0.563951   -0.240930\n",
       "processed_pseudogene     0.327185  0.638697   -0.311511\n",
       "protein_coding           0.956328  0.902567    0.053760\n",
       "pseudogene               0.956337  0.902725    0.053612"
      ]
     },
     "execution_count": 20,
     "metadata": {},
     "output_type": "execute_result"
    }
   ],
   "source": [
    "diffSeries = bioTypeCDF_DF.loc[:,\"upBulk\"] - bioTypeCDF_DF.loc[:,\"upExo\"] \n",
    "selectRows = diffSeries.abs() > 0.01\n",
    "DF = bioTypeCDF_DF.loc[selectRows, upDataSets]\n",
    "DF[\"bulk - exo\"] = bioTypeCDF_DF.loc[:,\"upBulk\"] - bioTypeCDF_DF.loc[:,\"upExo\"]\n",
    "DF"
   ]
  },
  {
   "cell_type": "code",
   "execution_count": 21,
   "metadata": {},
   "outputs": [
    {
     "data": {
      "text/html": [
       "<div>\n",
       "<style scoped>\n",
       "    .dataframe tbody tr th:only-of-type {\n",
       "        vertical-align: middle;\n",
       "    }\n",
       "\n",
       "    .dataframe tbody tr th {\n",
       "        vertical-align: top;\n",
       "    }\n",
       "\n",
       "    .dataframe thead th {\n",
       "        text-align: right;\n",
       "    }\n",
       "</style>\n",
       "<table border=\"1\" class=\"dataframe\">\n",
       "  <thead>\n",
       "    <tr style=\"text-align: right;\">\n",
       "      <th></th>\n",
       "      <th>downBulk</th>\n",
       "      <th>downExo</th>\n",
       "      <th>bulk - exo</th>\n",
       "    </tr>\n",
       "    <tr>\n",
       "      <th>BioType</th>\n",
       "      <th></th>\n",
       "      <th></th>\n",
       "      <th></th>\n",
       "    </tr>\n",
       "  </thead>\n",
       "  <tbody>\n",
       "    <tr>\n",
       "      <th>lncRNA</th>\n",
       "      <td>0.023593</td>\n",
       "      <td>0.062690</td>\n",
       "      <td>-0.039097</td>\n",
       "    </tr>\n",
       "    <tr>\n",
       "      <th>misc_RNA</th>\n",
       "      <td>0.023595</td>\n",
       "      <td>0.062735</td>\n",
       "      <td>-0.039141</td>\n",
       "    </tr>\n",
       "    <tr>\n",
       "      <th>non_stop_decay</th>\n",
       "      <td>0.023694</td>\n",
       "      <td>0.062801</td>\n",
       "      <td>-0.039107</td>\n",
       "    </tr>\n",
       "    <tr>\n",
       "      <th>nonsense_mediated_decay</th>\n",
       "      <td>0.048071</td>\n",
       "      <td>0.099459</td>\n",
       "      <td>-0.051387</td>\n",
       "    </tr>\n",
       "    <tr>\n",
       "      <th>polymorphic_pseudogene</th>\n",
       "      <td>0.048071</td>\n",
       "      <td>0.099462</td>\n",
       "      <td>-0.051391</td>\n",
       "    </tr>\n",
       "    <tr>\n",
       "      <th>processed_pseudogene</th>\n",
       "      <td>0.048333</td>\n",
       "      <td>0.099638</td>\n",
       "      <td>-0.051305</td>\n",
       "    </tr>\n",
       "    <tr>\n",
       "      <th>protein_coding</th>\n",
       "      <td>0.964544</td>\n",
       "      <td>0.834564</td>\n",
       "      <td>0.129980</td>\n",
       "    </tr>\n",
       "    <tr>\n",
       "      <th>pseudogene</th>\n",
       "      <td>0.964544</td>\n",
       "      <td>0.834567</td>\n",
       "      <td>0.129977</td>\n",
       "    </tr>\n",
       "  </tbody>\n",
       "</table>\n",
       "</div>"
      ],
      "text/plain": [
       "                         downBulk   downExo  bulk - exo\n",
       "BioType                                                \n",
       "lncRNA                   0.023593  0.062690   -0.039097\n",
       "misc_RNA                 0.023595  0.062735   -0.039141\n",
       "non_stop_decay           0.023694  0.062801   -0.039107\n",
       "nonsense_mediated_decay  0.048071  0.099459   -0.051387\n",
       "polymorphic_pseudogene   0.048071  0.099462   -0.051391\n",
       "processed_pseudogene     0.048333  0.099638   -0.051305\n",
       "protein_coding           0.964544  0.834564    0.129980\n",
       "pseudogene               0.964544  0.834567    0.129977"
      ]
     },
     "execution_count": 21,
     "metadata": {},
     "output_type": "execute_result"
    }
   ],
   "source": [
    "diffSeries = bioTypeCDF_DF.loc[:,\"downBulk\"] - bioTypeCDF_DF.loc[:,\"downExo\"] \n",
    "selectRows = diffSeries.abs() > 0.01\n",
    "DF = bioTypeCDF_DF.loc[selectRows, downDataSets]\n",
    "DF[\"bulk - exo\"] = bioTypeCDF_DF.loc[:,\"downBulk\"] - bioTypeCDF_DF.loc[:,\"downExo\"]\n",
    "DF"
   ]
  },
  {
   "cell_type": "markdown",
   "metadata": {},
   "source": [
    "## Kolmogorov-Smirnov test\n",
    "Compare probability distributions"
   ]
  },
  {
   "cell_type": "code",
   "execution_count": 22,
   "metadata": {},
   "outputs": [
    {
     "name": "stdout",
     "output_type": "stream",
     "text": [
      "exo vs bulk: up regulated gene set ks stat:0.2632 p-value:0.5379\n"
     ]
    }
   ],
   "source": [
    "# The distribution is assumed to be continuous.\n",
    "# If the KS statistic is small or the p-value is high, then we cannot reject the \n",
    "# hypothesis that the distributions of the two samples are the same.\n",
    "# default is 2 sided\n",
    "\n",
    "# KS is crude. If there is a difference there probably is a true difference else test probably\n",
    "# just to weak to determine if diff or not\n",
    "\n",
    "# exo vs bulk up regulated gene set\n",
    "ksstat, pvalue = ks_2samp(bioTypeCountDF.loc[:, \"upBulk\"], bioTypeCountDF.loc[:, \"upExo\"])\n",
    "print(\"exo vs bulk: up regulated gene set ks stat:{:2.4f} p-value:{:2.4f}\".format(ksstat, pvalue))"
   ]
  },
  {
   "cell_type": "code",
   "execution_count": 23,
   "metadata": {},
   "outputs": [
    {
     "name": "stdout",
     "output_type": "stream",
     "text": [
      "exo vs bulk: down regulated gene set ks stat:0.3158 p-value:0.3057\n"
     ]
    }
   ],
   "source": [
    "# exo vs bulk down regulated gene set\n",
    "ksstat, pvalue = ks_2samp(bioTypeCountDF.loc[:, \"downBulk\"], bioTypeCountDF.loc[:, \"downExo\"])\n",
    "print(\"exo vs bulk: down regulated gene set ks stat:{:2.4f} p-value:{:2.4f}\".format(ksstat, pvalue))"
   ]
  },
  {
   "cell_type": "code",
   "execution_count": 24,
   "metadata": {},
   "outputs": [
    {
     "data": {
      "text/html": [
       "<div>\n",
       "<style scoped>\n",
       "    .dataframe tbody tr th:only-of-type {\n",
       "        vertical-align: middle;\n",
       "    }\n",
       "\n",
       "    .dataframe tbody tr th {\n",
       "        vertical-align: top;\n",
       "    }\n",
       "\n",
       "    .dataframe thead th {\n",
       "        text-align: right;\n",
       "    }\n",
       "</style>\n",
       "<table border=\"1\" class=\"dataframe\">\n",
       "  <thead>\n",
       "    <tr style=\"text-align: right;\">\n",
       "      <th></th>\n",
       "      <th>upBulk</th>\n",
       "      <th>upExo</th>\n",
       "      <th>downBulk</th>\n",
       "      <th>downExo</th>\n",
       "    </tr>\n",
       "    <tr>\n",
       "      <th>BioType</th>\n",
       "      <th></th>\n",
       "      <th></th>\n",
       "      <th></th>\n",
       "      <th></th>\n",
       "    </tr>\n",
       "  </thead>\n",
       "  <tbody>\n",
       "    <tr>\n",
       "      <th>Mt_rRNA</th>\n",
       "      <td>623810.878</td>\n",
       "      <td>114022.780</td>\n",
       "      <td>0.000</td>\n",
       "      <td>0.000</td>\n",
       "    </tr>\n",
       "    <tr>\n",
       "      <th>TEC</th>\n",
       "      <td>13933.666</td>\n",
       "      <td>81456.603</td>\n",
       "      <td>1545.629</td>\n",
       "      <td>248.502</td>\n",
       "    </tr>\n",
       "    <tr>\n",
       "      <th>lncRNA</th>\n",
       "      <td>378417.392</td>\n",
       "      <td>1838377.070</td>\n",
       "      <td>1082162.737</td>\n",
       "      <td>17749.088</td>\n",
       "    </tr>\n",
       "    <tr>\n",
       "      <th>misc_RNA</th>\n",
       "      <td>3230.916</td>\n",
       "      <td>43955.708</td>\n",
       "      <td>63.000</td>\n",
       "      <td>12.000</td>\n",
       "    </tr>\n",
       "    <tr>\n",
       "      <th>non_stop_decay</th>\n",
       "      <td>514.723</td>\n",
       "      <td>5.000</td>\n",
       "      <td>4582.477</td>\n",
       "      <td>17.994</td>\n",
       "    </tr>\n",
       "  </tbody>\n",
       "</table>\n",
       "</div>"
      ],
      "text/plain": [
       "                    upBulk        upExo     downBulk    downExo\n",
       "BioType                                                        \n",
       "Mt_rRNA         623810.878   114022.780        0.000      0.000\n",
       "TEC              13933.666    81456.603     1545.629    248.502\n",
       "lncRNA          378417.392  1838377.070  1082162.737  17749.088\n",
       "misc_RNA          3230.916    43955.708       63.000     12.000\n",
       "non_stop_decay     514.723        5.000     4582.477     17.994"
      ]
     },
     "execution_count": 24,
     "metadata": {},
     "output_type": "execute_result"
    }
   ],
   "source": [
    "bioTypeCountDF.head()"
   ]
  },
  {
   "cell_type": "markdown",
   "metadata": {},
   "source": [
    "### Use permutation test to calculate k-s test p-value\n",
    "TODO: how come permutation test produces a different p-value than ks_2samp?"
   ]
  },
  {
   "cell_type": "code",
   "execution_count": 25,
   "metadata": {},
   "outputs": [],
   "source": [
    "# %%time\n",
    "\n",
    "# shuffleParallelList is a hack\n",
    "# numItterations = 10000\n",
    "# ksSimulator = MonteCarlo( numItterations, \n",
    "#                          kolmogorovSmirnovStat, \n",
    "#                          shuffleFunc=shuffleParallelList )\n",
    "\n",
    "# bulkUpSeries = bioTypeCountDF.loc[:, \"upBulk\"] \n",
    "# exoUpSeries  = bioTypeCountDF.loc[:, \"upExo\"]\n",
    "# pvalue = ksSimulator.permutationTest(bulkUpSeries, exoUpSeries)\n",
    "# print(\"exo vs bulk: up regulated gene set permutation test Kolmogorov-Smirnov test p-value:{:2.4f}\".format(pvalue))\n",
    "\n",
    "# bulkDownSeries = bioTypeCountDF.loc[:, \"downBulk\"] \n",
    "# exoDownSeries  = bioTypeCountDF.loc[:, \"downExo\"]\n",
    "# pvalue = ksSimulator.permutationTest(bulkDownSeries, exoDownSeries)\n",
    "# print(\"exo vs bulk: down regulated gene set permutation test Kolmogorov-Smirnov test p-value:{:2.4f}\".format(pvalue))"
   ]
  },
  {
   "cell_type": "markdown",
   "metadata": {},
   "source": [
    "##  Cross Entropy\n",
    "Measures \"how close to probability distributions are\". It is not a distance measurement. I.E. it is not symetric. \n",
    "\n",
    "let p = true probablity distribution\n",
    "\n",
    "let q = predicted probablity distribution\n",
    "\n",
    "If \n",
    "    two distributions are the same the cross entropy equals the entropy\n",
    "else\n",
    "    \"cross entroy\" will be greater than the entropy by some number of bits\n",
    "\n",
    "\"relative entropy\" is the amount the cross entropy exceeds the entropy. This is also known as the \"kl divergance\" or the \"Kullback–Leibler divergence\"\n",
    "\n",
    "\"cross entropy\" = entropy + \"Kullback–Leibler divergence\"\n",
    "\n",
    "ref:\n",
    "- [A Short Introduction to Entropy, Cross-Entropy and KL-Divergence](https://www.youtube.com/watch?v=ErfnhcEV1O8)\n",
    "- [Visual Information Theory](https://colah.github.io/posts/2015-09-Visual-Information/#:~:text=Cross%2Dentropy%20isn't%20symmetric.&text=Well%2C%20cross%2Dentropy%20gives%20us,than%20the%20entropy%20of%20p.)"
   ]
  },
  {
   "cell_type": "code",
   "execution_count": 26,
   "metadata": {},
   "outputs": [
    {
     "name": "stdout",
     "output_type": "stream",
     "text": [
      "exo vs bulk: up regulated gene set Kullback–Leibler divergence:0.9709 p-value:1.0000\n",
      "CPU times: user 1min 45s, sys: 250 ms, total: 1min 45s\n",
      "Wall time: 1min 45s\n"
     ]
    }
   ],
   "source": [
    "%%time\n",
    "# we only have at most something 44 biotype possible biotypes\n",
    "# numSignifigantDigits=5 will set the simulated sample size to 10**5\n",
    "# this should be more than accurate enough for our purpose\n",
    "numItterations = 1000\n",
    "numSignifigantDigits=5\n",
    "klSimulator = kldMonteCarlo( numItterations, numSignifigantDigits)\n",
    "\n",
    "bulkUpSeries = bioTypeProbDF.loc[:, \"upBulk\"] \n",
    "exoUpSeries  = bioTypeProbDF.loc[:, \"upExo\"] \n",
    "\n",
    "KLStat, pvalue = klSimulator.permutationTest(bulkUpSeries, exoUpSeries)\n",
    "print(\"exo vs bulk: up regulated gene set Kullback–Leibler divergence:{:2.4f} p-value:{:2.4f}\"\n",
    "      .format(KLStat, pvalue))"
   ]
  },
  {
   "cell_type": "code",
   "execution_count": 27,
   "metadata": {},
   "outputs": [
    {
     "name": "stdout",
     "output_type": "stream",
     "text": [
      "exo vs bulk: down regulated gene set Kullback–Leibler divergence:0.1727 p-value:1.0000\n",
      "CPU times: user 27 s, sys: 22.4 ms, total: 27 s\n",
      "Wall time: 27 s\n"
     ]
    }
   ],
   "source": [
    "%%time\n",
    "bulkDownSeries = bioTypeProbDF.loc[:, \"downBulk\"] \n",
    "exoDownSeries  = bioTypeProbDF.loc[:, \"downExo\"]\n",
    "KKLStat = entropy(bulkDownSeries, exoDownSeries, base=2)\n",
    "KKLStat = entropy(bulkUpSeries, exoUpSeries, base=2)\n",
    "\n",
    "numItterations = 1000\n",
    "numSignifigantDigits=5\n",
    "klSimulatorX = kldMonteCarlo( numItterations, numSignifigantDigits)\n",
    "KLStat, pvalue = klSimulatorX.permutationTest(bulkDownSeries, exoDownSeries)\n",
    "print(\"exo vs bulk: down regulated gene set Kullback–Leibler divergence:{:2.4f} p-value:{:2.4f}\"\n",
    "      .format(KLStat, pvalue))"
   ]
  },
  {
   "cell_type": "markdown",
   "metadata": {},
   "source": [
    "## old conrol p-values\n",
    "```\n",
    "klSimulator = MonteCarlo( numItterations, \n",
    "                         kullbackLeiblerStat, \n",
    "                         shuffleFunc=shuffleParallelList )\n",
    "                         \n",
    "exo vs bulk: up regulated gene set Kullback–Leibler divergence:0.9709 p-value:0.7778\n",
    "exo vs bulk: down regulated gene set Kullback–Leibler divergence:0.1727 p-value:0.0091\n",
    "```"
   ]
  },
  {
   "cell_type": "code",
   "execution_count": 28,
   "metadata": {},
   "outputs": [],
   "source": [
    "#bulkDownSeries\n",
    "# print(bulkDownSeries)\n",
    "# print(bulkDownSeries.sum())"
   ]
  },
  {
   "cell_type": "code",
   "execution_count": 29,
   "metadata": {},
   "outputs": [],
   "source": [
    "#exoDownSeries\n",
    "# exoDownSeries"
   ]
  },
  {
   "cell_type": "code",
   "execution_count": 30,
   "metadata": {},
   "outputs": [
    {
     "data": {
      "text/plain": [
       "0.365991342107163"
      ]
     },
     "execution_count": 30,
     "metadata": {},
     "output_type": "execute_result"
    }
   ],
   "source": [
    "(bulkDownSeries - exoDownSeries).abs().sum()"
   ]
  },
  {
   "cell_type": "code",
   "execution_count": null,
   "metadata": {},
   "outputs": [],
   "source": []
  },
  {
   "cell_type": "code",
   "execution_count": null,
   "metadata": {},
   "outputs": [],
   "source": []
  },
  {
   "cell_type": "code",
   "execution_count": null,
   "metadata": {},
   "outputs": [],
   "source": []
  },
  {
   "cell_type": "code",
   "execution_count": 31,
   "metadata": {},
   "outputs": [
    {
     "ename": "SyntaxError",
     "evalue": "invalid syntax (<ipython-input-31-b3ac89463ee1>, line 1)",
     "output_type": "error",
     "traceback": [
      "\u001b[0;36m  File \u001b[0;32m\"<ipython-input-31-b3ac89463ee1>\"\u001b[0;36m, line \u001b[0;32m1\u001b[0m\n\u001b[0;31m    aedwip save\u001b[0m\n\u001b[0m              ^\u001b[0m\n\u001b[0;31mSyntaxError\u001b[0m\u001b[0;31m:\u001b[0m invalid syntax\n"
     ]
    }
   ],
   "source": [
    "aedwip save"
   ]
  },
  {
   "cell_type": "markdown",
   "metadata": {},
   "source": [
    "## Explore the distribution of by by type"
   ]
  },
  {
   "cell_type": "code",
   "execution_count": null,
   "metadata": {},
   "outputs": [],
   "source": [
    "def selectBioTypeDistribution(df, bioType) :\n",
    "    '''\n",
    "    returns a pandas series of NumReads + psudo count\n",
    "    \n",
    "    arguments:\n",
    "        df: data frame with a column named 'BioType'\n",
    "        bioType: a string. examples \"lncRNA\" or \"miRNA\"\n",
    "    '''\n",
    "    # create a logical for each transcript\n",
    "    isBT = df.loc[:,\"BioType\"] == bioType\n",
    "\n",
    "    # multiplying by isBT ensures each transcript will have a count\n",
    "    psudoCount = 1\n",
    "    retSeries = df.loc[:, \"NumReads\"] * isBT + psudoCount\n",
    "    return retSeries\n",
    "  \n",
    "bt = \"lncRNA\"\n",
    "aedwipDF[bt] = selectBioTypeDistribution(aedwipDF, bt)\n",
    "aedwipDF"
   ]
  }
 ],
 "metadata": {
  "kernelspec": {
   "display_name": "Python 3",
   "language": "python",
   "name": "python3"
  },
  "language_info": {
   "codemirror_mode": {
    "name": "ipython",
    "version": 3
   },
   "file_extension": ".py",
   "mimetype": "text/x-python",
   "name": "python",
   "nbconvert_exporter": "python",
   "pygments_lexer": "ipython3",
   "version": "3.7.6"
  }
 },
 "nbformat": 4,
 "nbformat_minor": 4
}
