{
 "cells": [
  {
   "cell_type": "markdown",
   "metadata": {},
   "source": [
    "# GSEA test\n",
    "Goal: use Gene 'Set Enrichment Analysis' to identify how stem cells are differetiating and any difference is between intra and extra cellular RNA\n",
    "\n",
    "ref:\n",
    "- [Gene set enrichment analysis: A knowledge-based approach for interpreting genome-wide expression profiles](http://www.pnas.org/cgi/doi/10.1073/pnas.0506580102)\n",
    "- [gsea-msigdb.org user guide ](https://www.gsea-msigdb.org/gsea/doc/GSEAUserGuideFrame.html)\n",
    "- [GSEAPY prerank api](https://gseapy.readthedocs.io/en/v0.9.4/run.html#gseapy.prerank)\n",
    "- [GSEAPY module APIs](https://gseapy.readthedocs.io/en/v0.9.4/run.html#module-apis)\n",
    "- [gene ontology](http://geneontology.org/)\n",
    "- [Molecular Signatures Database (MSigDB)](https://www.gsea-msigdb.org/gsea/msigdb/index.jsp)\n",
    "- [Interpreting GSEA Results](https://www.gsea-msigdb.org/gsea/doc/GSEAUserGuideTEXT.htm#_Interpreting_GSEA_Results)\n",
    "\n",
    "## <span style=\"color:red\">TODO</span>\n",
    "1. plot best\n",
    "2. review 'interperting results'\n",
    "3. understand bio. Notes from 1:1 on 7/14/2020\n",
    "    * look for embryonic and developmental pathways data sets\n",
    "    * some releationship between immune system and IPSC\n",
    "    * some releationship between KRAS and inflamation\n",
    "    * not sure why some pathways got plotted. some of them are immune system releated\n",
    "\n",
    "\n",
    "## Gene set selection\n",
    "[Gene Set Analysis: A Step-By-Step Guide (https://www.ncbi.nlm.nih.gov/pmc/articles/PMC4638147/)\n",
    "\n",
    "\"biological pathways, protein-protein interaction (PPI) networks, and functionally related gene sets (e.g., gene ontology categories) each suggest different types of relationships between the members of a gene set.\"\n",
    "\n",
    "\"Pathway models suggest a common function or end goal for the pathway’s members, and also provide specific information about how the gene members interact to accomplish that end goal\"\n",
    "\n",
    "\"functionally-related gene sets, such as gene ontology (GO) categories, suggest that member genes share a common function or are involved in a common process, but they do not provide any information about how, or if, the members biologically interact (e.g., different gene products may perform the same function, but in different tissues).\"\n",
    "\n",
    "## gene_sets='GO_Biological_Process_2018'\n",
    "\n",
    "did a search on [HGNC search](https://www.genenames.org/) for 'UVRAG'. Looks like GO_Biological_Process_2018 uses HUGO names\n",
    "\n",
    "```\n",
    "(extraCellularRNA) $ head -n 1 ~/.gseapy/enrichr.GO_Biological_Process_2018.gmt \n",
    "positive regulation of posttranscriptional gene silencing (GO:0060148)\t\tFXR1\tZFP36\tDHX9\tXPO5\tFMR1\tSTAT3\tWTIP\tPUMAJUBA\tPUM1\tLIMD1\n",
    "```\n",
    "\n",
    "## mapping ensembl gene names to  HUGO Gene Nomenclature Committee (HGNC) \n",
    "- [ensembl IDs and I would like HGNC](https://m.ensembl.org/Help/Faq?id=125)\n",
    "\n",
    "### mapping salmon output to HUGO gene names\n",
    "Biomart is a big data base. You can use it get information about genes and transcripts. It also has information you can use to map to other data bases\n",
    "\n",
    "two \"name\" col values from a salmon output file\n",
    "```\n",
    "ENST00000456328.2|ENSG00000223972.5|OTTHUMG00000000961.2|OTTHUMT00000362751.1|DDX11L1-202|DDX11L1|1657|lncRNA|\n",
    "\n",
    "ENST00000450305.2|ENSG00000223972.5|OTTHUMG00000000961.2|OTTHUMT00000002844.2|DDX11L1-201|DDX11L1|632|transcribed_unprocessed_pseudogene|\n",
    "```\n",
    "\n",
    "understanding names:\n",
    "- There are multiple name delimintated by '|'.\n",
    "- col 0: ENST00000450305.5\n",
    "    * Ensembl transcript stable id with version information. \n",
    "    * the version information is '.5'\n",
    "- col 1: ENSG00000223972.5\n",
    "    * Ensembl gene stable id with version information\n",
    "    * the version information is '.5'\n",
    "- col 2: OTTHUMG00000000961.2\n",
    "    * ???? gene name ??? with version information\n",
    "- col 3: OTTHUMT00000362751.1\n",
    "    * ???? transcript name with version information ???\n",
    "- col 4: DDX11L1-202\n",
    "    * ????? DDX11L1 is HGNC Symbol\n",
    "- col 5: DDX11L1\n",
    "    * HGNC Symbol\n",
    "- col 6: 1657\n",
    "    * ????\n",
    "- col 7: lncRNA\n",
    "    * long non coding RNA ???\n",
    "    * this column contains a some sort of label\n",
    "    * see bellow for a complete list of unique values\n",
    "    * some example: 'scaRNA', 'rRNA_pseudogene', 'unitary_pseudogene',\n",
    "    \n",
    "    \n",
    "biomart example 1:\n",
    "\n",
    "filter: 'gene stable ID(s) [e.g. ENSG00000000000003]'\n",
    "filter values: \n",
    "```\n",
    "ENSG00000223972\n",
    "ENSG00000223972\n",
    "```\n",
    "\n",
    "Notice our salmon names are of the form 'ENSG00000223972.5' the '.5' is the version information. We need to filter using 'gene stable ID(s) with version [e.g. ENSG00000000000003.15]'\n",
    "\n",
    "- [biomart sample query](http://uswest.ensembl.org/biomart/martview/99dcfd524d6284761dfc60af2f379d3b?VIRTUALSCHEMANAME=default&ATTRIBUTES=hsapiens_gene_ensembl.default.feature_page.ensembl_gene_id|hsapiens_gene_ensembl.default.feature_page.ensembl_gene_id_version|hsapiens_gene_ensembl.default.feature_page.source|hsapiens_gene_ensembl.default.feature_page.transcript_source|hsapiens_gene_ensembl.default.feature_page.external_gene_name|hsapiens_gene_ensembl.default.feature_page.external_gene_source|hsapiens_gene_ensembl.default.feature_page.hgnc_id|hsapiens_gene_ensembl.default.feature_page.hgnc_symbol&FILTERS=hsapiens_gene_ensembl.default.filters.ensembl_gene_id.\"ENSG00000223972,ENSG00000223972\"&VISIBLEPANEL=resultspanel)"
   ]
  },
  {
   "cell_type": "code",
   "execution_count": 1,
   "metadata": {},
   "outputs": [],
   "source": [
    "import gseapy as gp\n",
    "import logging\n",
    "import pandas as pd\n",
    "import pathlib as pl\n",
    "\n",
    "# set up logging so we can figure out what gseapy bug is\n",
    "from   setupLogging import setupLogging\n",
    "configFilePath = setupLogging( default_path='../src/test/logging.test.ini.json')\n",
    "logger = logging.getLogger(__name__)\n",
    "logger.debug(\"using logging configuration file:{}\".format(configFilePath)) "
   ]
  },
  {
   "cell_type": "markdown",
   "metadata": {},
   "source": [
    "## convert salmon output into gsea prerank() format"
   ]
  },
  {
   "cell_type": "code",
   "execution_count": 2,
   "metadata": {},
   "outputs": [],
   "source": [
    "aedwip = '../data/kras.ipsc'\n",
    "# gi = \"/public/groups/kimlab/kras.ipsc/bulk.data/day.7/ctrl.1/gencode.salmon.out/\"\n",
    "# dataRoot = pl.Path(gi)\n",
    "dataRoot = pl.Path(aedwip)\n",
    "aedwipData = 'kras.ipsc_bulk.data_day.7_ctrl.1_gencode.salmon.out_quant.sf'\n",
    "# giData = 'quant.sf'\n",
    "# salmonFilePath = dataRoot.joinpath(giData)\n",
    "salmonFilePath = dataRoot.joinpath(aedwipData)"
   ]
  },
  {
   "cell_type": "code",
   "execution_count": 3,
   "metadata": {},
   "outputs": [],
   "source": [
    "salmonDF = pd.read_csv(salmonFilePath, delimiter='\\t')"
   ]
  },
  {
   "cell_type": "code",
   "execution_count": 4,
   "metadata": {},
   "outputs": [
    {
     "data": {
      "text/html": [
       "<div>\n",
       "<style scoped>\n",
       "    .dataframe tbody tr th:only-of-type {\n",
       "        vertical-align: middle;\n",
       "    }\n",
       "\n",
       "    .dataframe tbody tr th {\n",
       "        vertical-align: top;\n",
       "    }\n",
       "\n",
       "    .dataframe thead th {\n",
       "        text-align: right;\n",
       "    }\n",
       "</style>\n",
       "<table border=\"1\" class=\"dataframe\">\n",
       "  <thead>\n",
       "    <tr style=\"text-align: right;\">\n",
       "      <th></th>\n",
       "      <th>Name</th>\n",
       "      <th>Length</th>\n",
       "      <th>EffectiveLength</th>\n",
       "      <th>TPM</th>\n",
       "      <th>NumReads</th>\n",
       "    </tr>\n",
       "  </thead>\n",
       "  <tbody>\n",
       "    <tr>\n",
       "      <th>0</th>\n",
       "      <td>ENST00000456328.2|ENSG00000223972.5|OTTHUMG000...</td>\n",
       "      <td>1657</td>\n",
       "      <td>674.715</td>\n",
       "      <td>0.422396</td>\n",
       "      <td>11.070</td>\n",
       "    </tr>\n",
       "    <tr>\n",
       "      <th>1</th>\n",
       "      <td>ENST00000450305.2|ENSG00000223972.5|OTTHUMG000...</td>\n",
       "      <td>632</td>\n",
       "      <td>451.000</td>\n",
       "      <td>0.000000</td>\n",
       "      <td>0.000</td>\n",
       "    </tr>\n",
       "    <tr>\n",
       "      <th>2</th>\n",
       "      <td>ENST00000488147.1|ENSG00000227232.5|OTTHUMG000...</td>\n",
       "      <td>1351</td>\n",
       "      <td>988.761</td>\n",
       "      <td>28.248736</td>\n",
       "      <td>1084.876</td>\n",
       "    </tr>\n",
       "    <tr>\n",
       "      <th>3</th>\n",
       "      <td>ENST00000619216.1|ENSG00000278267.1|-|-|MIR685...</td>\n",
       "      <td>68</td>\n",
       "      <td>8.000</td>\n",
       "      <td>0.000000</td>\n",
       "      <td>0.000</td>\n",
       "    </tr>\n",
       "    <tr>\n",
       "      <th>4</th>\n",
       "      <td>ENST00000473358.1|ENSG00000243485.5|OTTHUMG000...</td>\n",
       "      <td>712</td>\n",
       "      <td>519.163</td>\n",
       "      <td>0.212906</td>\n",
       "      <td>4.293</td>\n",
       "    </tr>\n",
       "  </tbody>\n",
       "</table>\n",
       "</div>"
      ],
      "text/plain": [
       "                                                Name  Length  EffectiveLength  \\\n",
       "0  ENST00000456328.2|ENSG00000223972.5|OTTHUMG000...    1657          674.715   \n",
       "1  ENST00000450305.2|ENSG00000223972.5|OTTHUMG000...     632          451.000   \n",
       "2  ENST00000488147.1|ENSG00000227232.5|OTTHUMG000...    1351          988.761   \n",
       "3  ENST00000619216.1|ENSG00000278267.1|-|-|MIR685...      68            8.000   \n",
       "4  ENST00000473358.1|ENSG00000243485.5|OTTHUMG000...     712          519.163   \n",
       "\n",
       "         TPM  NumReads  \n",
       "0   0.422396    11.070  \n",
       "1   0.000000     0.000  \n",
       "2  28.248736  1084.876  \n",
       "3   0.000000     0.000  \n",
       "4   0.212906     4.293  "
      ]
     },
     "execution_count": 4,
     "metadata": {},
     "output_type": "execute_result"
    }
   ],
   "source": [
    "salmonDF.head()"
   ]
  },
  {
   "cell_type": "markdown",
   "metadata": {},
   "source": [
    "## replace name with HUGO gene name"
   ]
  },
  {
   "cell_type": "code",
   "execution_count": 5,
   "metadata": {},
   "outputs": [
    {
     "data": {
      "text/html": [
       "<div>\n",
       "<style scoped>\n",
       "    .dataframe tbody tr th:only-of-type {\n",
       "        vertical-align: middle;\n",
       "    }\n",
       "\n",
       "    .dataframe tbody tr th {\n",
       "        vertical-align: top;\n",
       "    }\n",
       "\n",
       "    .dataframe thead th {\n",
       "        text-align: right;\n",
       "    }\n",
       "</style>\n",
       "<table border=\"1\" class=\"dataframe\">\n",
       "  <thead>\n",
       "    <tr style=\"text-align: right;\">\n",
       "      <th></th>\n",
       "      <th>Name</th>\n",
       "    </tr>\n",
       "  </thead>\n",
       "  <tbody>\n",
       "    <tr>\n",
       "      <th>0</th>\n",
       "      <td>ENST00000456328.2|ENSG00000223972.5|OTTHUMG00000000961.2|OTTHUMT00000362751.1|DDX11L1-202|DDX11L1|1657|lncRNA|</td>\n",
       "    </tr>\n",
       "    <tr>\n",
       "      <th>1</th>\n",
       "      <td>ENST00000450305.2|ENSG00000223972.5|OTTHUMG00000000961.2|OTTHUMT00000002844.2|DDX11L1-201|DDX11L1|632|transcribed_unprocessed_pseudogene|</td>\n",
       "    </tr>\n",
       "    <tr>\n",
       "      <th>2</th>\n",
       "      <td>ENST00000488147.1|ENSG00000227232.5|OTTHUMG00000000958.1|OTTHUMT00000002839.1|WASH7P-201|WASH7P|1351|unprocessed_pseudogene|</td>\n",
       "    </tr>\n",
       "    <tr>\n",
       "      <th>3</th>\n",
       "      <td>ENST00000619216.1|ENSG00000278267.1|-|-|MIR6859-1-201|MIR6859-1|68|miRNA|</td>\n",
       "    </tr>\n",
       "    <tr>\n",
       "      <th>4</th>\n",
       "      <td>ENST00000473358.1|ENSG00000243485.5|OTTHUMG00000000959.2|OTTHUMT00000002840.1|MIR1302-2HG-202|MIR1302-2HG|712|lncRNA|</td>\n",
       "    </tr>\n",
       "  </tbody>\n",
       "</table>\n",
       "</div>"
      ],
      "text/plain": [
       "                                                                                                                                        Name\n",
       "0                             ENST00000456328.2|ENSG00000223972.5|OTTHUMG00000000961.2|OTTHUMT00000362751.1|DDX11L1-202|DDX11L1|1657|lncRNA|\n",
       "1  ENST00000450305.2|ENSG00000223972.5|OTTHUMG00000000961.2|OTTHUMT00000002844.2|DDX11L1-201|DDX11L1|632|transcribed_unprocessed_pseudogene|\n",
       "2               ENST00000488147.1|ENSG00000227232.5|OTTHUMG00000000958.1|OTTHUMT00000002839.1|WASH7P-201|WASH7P|1351|unprocessed_pseudogene|\n",
       "3                                                                  ENST00000619216.1|ENSG00000278267.1|-|-|MIR6859-1-201|MIR6859-1|68|miRNA|\n",
       "4                      ENST00000473358.1|ENSG00000243485.5|OTTHUMG00000000959.2|OTTHUMT00000002840.1|MIR1302-2HG-202|MIR1302-2HG|712|lncRNA|"
      ]
     },
     "execution_count": 5,
     "metadata": {},
     "output_type": "execute_result"
    }
   ],
   "source": [
    "pd.set_option('max_colwidth', None) # no output limit\n",
    "salmonDF.loc[:, ['Name']].head()"
   ]
  },
  {
   "cell_type": "code",
   "execution_count": 6,
   "metadata": {},
   "outputs": [],
   "source": [
    "pd.reset_option('max_colwidth') "
   ]
  },
  {
   "cell_type": "code",
   "execution_count": 7,
   "metadata": {},
   "outputs": [
    {
     "data": {
      "text/html": [
       "<div>\n",
       "<style scoped>\n",
       "    .dataframe tbody tr th:only-of-type {\n",
       "        vertical-align: middle;\n",
       "    }\n",
       "\n",
       "    .dataframe tbody tr th {\n",
       "        vertical-align: top;\n",
       "    }\n",
       "\n",
       "    .dataframe thead th {\n",
       "        text-align: right;\n",
       "    }\n",
       "</style>\n",
       "<table border=\"1\" class=\"dataframe\">\n",
       "  <thead>\n",
       "    <tr style=\"text-align: right;\">\n",
       "      <th></th>\n",
       "      <th>0</th>\n",
       "      <th>1</th>\n",
       "      <th>2</th>\n",
       "      <th>3</th>\n",
       "      <th>4</th>\n",
       "      <th>5</th>\n",
       "      <th>6</th>\n",
       "      <th>7</th>\n",
       "      <th>8</th>\n",
       "    </tr>\n",
       "  </thead>\n",
       "  <tbody>\n",
       "    <tr>\n",
       "      <th>0</th>\n",
       "      <td>ENST00000456328.2</td>\n",
       "      <td>ENSG00000223972.5</td>\n",
       "      <td>OTTHUMG00000000961.2</td>\n",
       "      <td>OTTHUMT00000362751.1</td>\n",
       "      <td>DDX11L1-202</td>\n",
       "      <td>DDX11L1</td>\n",
       "      <td>1657</td>\n",
       "      <td>lncRNA</td>\n",
       "      <td></td>\n",
       "    </tr>\n",
       "    <tr>\n",
       "      <th>1</th>\n",
       "      <td>ENST00000450305.2</td>\n",
       "      <td>ENSG00000223972.5</td>\n",
       "      <td>OTTHUMG00000000961.2</td>\n",
       "      <td>OTTHUMT00000002844.2</td>\n",
       "      <td>DDX11L1-201</td>\n",
       "      <td>DDX11L1</td>\n",
       "      <td>632</td>\n",
       "      <td>transcribed_unprocessed_pseudogene</td>\n",
       "      <td></td>\n",
       "    </tr>\n",
       "    <tr>\n",
       "      <th>2</th>\n",
       "      <td>ENST00000488147.1</td>\n",
       "      <td>ENSG00000227232.5</td>\n",
       "      <td>OTTHUMG00000000958.1</td>\n",
       "      <td>OTTHUMT00000002839.1</td>\n",
       "      <td>WASH7P-201</td>\n",
       "      <td>WASH7P</td>\n",
       "      <td>1351</td>\n",
       "      <td>unprocessed_pseudogene</td>\n",
       "      <td></td>\n",
       "    </tr>\n",
       "    <tr>\n",
       "      <th>3</th>\n",
       "      <td>ENST00000619216.1</td>\n",
       "      <td>ENSG00000278267.1</td>\n",
       "      <td>-</td>\n",
       "      <td>-</td>\n",
       "      <td>MIR6859-1-201</td>\n",
       "      <td>MIR6859-1</td>\n",
       "      <td>68</td>\n",
       "      <td>miRNA</td>\n",
       "      <td></td>\n",
       "    </tr>\n",
       "    <tr>\n",
       "      <th>4</th>\n",
       "      <td>ENST00000473358.1</td>\n",
       "      <td>ENSG00000243485.5</td>\n",
       "      <td>OTTHUMG00000000959.2</td>\n",
       "      <td>OTTHUMT00000002840.1</td>\n",
       "      <td>MIR1302-2HG-202</td>\n",
       "      <td>MIR1302-2HG</td>\n",
       "      <td>712</td>\n",
       "      <td>lncRNA</td>\n",
       "      <td></td>\n",
       "    </tr>\n",
       "  </tbody>\n",
       "</table>\n",
       "</div>"
      ],
      "text/plain": [
       "                   0                  1                     2  \\\n",
       "0  ENST00000456328.2  ENSG00000223972.5  OTTHUMG00000000961.2   \n",
       "1  ENST00000450305.2  ENSG00000223972.5  OTTHUMG00000000961.2   \n",
       "2  ENST00000488147.1  ENSG00000227232.5  OTTHUMG00000000958.1   \n",
       "3  ENST00000619216.1  ENSG00000278267.1                     -   \n",
       "4  ENST00000473358.1  ENSG00000243485.5  OTTHUMG00000000959.2   \n",
       "\n",
       "                      3                4            5     6  \\\n",
       "0  OTTHUMT00000362751.1      DDX11L1-202      DDX11L1  1657   \n",
       "1  OTTHUMT00000002844.2      DDX11L1-201      DDX11L1   632   \n",
       "2  OTTHUMT00000002839.1       WASH7P-201       WASH7P  1351   \n",
       "3                     -    MIR6859-1-201    MIR6859-1    68   \n",
       "4  OTTHUMT00000002840.1  MIR1302-2HG-202  MIR1302-2HG   712   \n",
       "\n",
       "                                    7 8  \n",
       "0                              lncRNA    \n",
       "1  transcribed_unprocessed_pseudogene    \n",
       "2              unprocessed_pseudogene    \n",
       "3                               miRNA    \n",
       "4                              lncRNA    "
      ]
     },
     "execution_count": 7,
     "metadata": {},
     "output_type": "execute_result"
    }
   ],
   "source": [
    "# https://pandas.pydata.org/pandas-docs/stable/reference/api/pandas.Series.str.split.html\n",
    "# n = 1 return first split\n",
    "# n = -1 return all splits\n",
    "# expand = True : return DataFrame/MultiIndex expanding dimensionality\n",
    "pd.set_option('max_colwidth', None) # no limit\n",
    "newNamesDF = salmonDF[\"Name\"].str.split(\"|\", n = -1, expand = True) \n",
    "newNamesDF.head()"
   ]
  },
  {
   "cell_type": "code",
   "execution_count": 8,
   "metadata": {},
   "outputs": [],
   "source": [
    "pd.reset_option('max_colwidth') "
   ]
  },
  {
   "cell_type": "markdown",
   "metadata": {},
   "source": [
    "## explore name col 7 labels\n",
    "What are these?"
   ]
  },
  {
   "cell_type": "code",
   "execution_count": 9,
   "metadata": {},
   "outputs": [
    {
     "data": {
      "text/plain": [
       "array(['lncRNA', 'transcribed_unprocessed_pseudogene',\n",
       "       'unprocessed_pseudogene', 'miRNA', 'protein_coding',\n",
       "       'processed_pseudogene', 'snRNA',\n",
       "       'transcribed_processed_pseudogene', 'retained_intron',\n",
       "       'nonsense_mediated_decay', 'misc_RNA', 'TEC', 'pseudogene',\n",
       "       'transcribed_unitary_pseudogene', 'non_stop_decay', 'snoRNA',\n",
       "       'scaRNA', 'rRNA_pseudogene', 'unitary_pseudogene',\n",
       "       'polymorphic_pseudogene', 'rRNA', 'IG_V_pseudogene', 'scRNA',\n",
       "       'IG_V_gene', 'IG_C_gene', 'IG_J_gene', 'sRNA', 'ribozyme',\n",
       "       'translated_processed_pseudogene', 'vaultRNA', 'TR_C_gene',\n",
       "       'TR_J_gene', 'TR_V_gene', 'TR_V_pseudogene',\n",
       "       'translated_unprocessed_pseudogene', 'TR_D_gene',\n",
       "       'IG_C_pseudogene', 'TR_J_pseudogene', 'IG_J_pseudogene',\n",
       "       'IG_D_gene', 'IG_pseudogene', 'Mt_tRNA', 'Mt_rRNA', None],\n",
       "      dtype=object)"
      ]
     },
     "execution_count": 9,
     "metadata": {},
     "output_type": "execute_result"
    }
   ],
   "source": [
    "# find unique values of col 7\n",
    "pd.unique(newNamesDF.iloc[:, 7])"
   ]
  },
  {
   "cell_type": "code",
   "execution_count": 10,
   "metadata": {},
   "outputs": [
    {
     "data": {
      "text/plain": [
       "protein_coding                        83728\n",
       "lncRNA                                74961\n",
       "retained_intron                       28383\n",
       "nonsense_mediated_decay               15788\n",
       "processed_pseudogene                  10143\n",
       "unprocessed_pseudogene                 2596\n",
       "misc_RNA                               2175\n",
       "snRNA                                  1836\n",
       "miRNA                                  1828\n",
       "TEC                                    1145\n",
       "snoRNA                                  933\n",
       "transcribed_unprocessed_pseudogene      926\n",
       "transcribed_processed_pseudogene        493\n",
       "rRNA_pseudogene                         488\n",
       "IG_V_pseudogene                         185\n",
       "IG_V_gene                               143\n",
       "transcribed_unitary_pseudogene          138\n",
       "TR_V_gene                               106\n",
       "unitary_pseudogene                       98\n",
       "non_stop_decay                           91\n",
       "TR_J_gene                                78\n",
       "polymorphic_pseudogene                   63\n",
       "scaRNA                                   48\n",
       "pseudogene                               38\n",
       "TR_V_pseudogene                          33\n",
       "IG_D_gene                                30\n",
       "rRNA                                     23\n",
       "IG_C_gene                                23\n",
       "Mt_tRNA                                  22\n",
       "IG_J_gene                                18\n",
       "IG_C_pseudogene                           9\n",
       "ribozyme                                  8\n",
       "TR_C_gene                                 6\n",
       "sRNA                                      5\n",
       "TR_D_gene                                 4\n",
       "TR_J_pseudogene                           4\n",
       "IG_J_pseudogene                           3\n",
       "translated_unprocessed_pseudogene         2\n",
       "Mt_rRNA                                   2\n",
       "translated_processed_pseudogene           2\n",
       "IG_pseudogene                             1\n",
       "scRNA                                     1\n",
       "vaultRNA                                  1\n",
       "Name: 7, dtype: int64"
      ]
     },
     "execution_count": 10,
     "metadata": {},
     "output_type": "execute_result"
    }
   ],
   "source": [
    "newNamesDF.iloc[:, 7].value_counts()"
   ]
  },
  {
   "cell_type": "code",
   "execution_count": 11,
   "metadata": {},
   "outputs": [],
   "source": [
    "# HUGO  Gene Nomenclature Committee (HGNC) names\n",
    "hugoNameIdx = 5\n",
    "salmonDF.loc[:, ['Name']] = newNamesDF.iloc[:, hugoNameIdx]"
   ]
  },
  {
   "cell_type": "code",
   "execution_count": 12,
   "metadata": {},
   "outputs": [
    {
     "data": {
      "text/html": [
       "<div>\n",
       "<style scoped>\n",
       "    .dataframe tbody tr th:only-of-type {\n",
       "        vertical-align: middle;\n",
       "    }\n",
       "\n",
       "    .dataframe tbody tr th {\n",
       "        vertical-align: top;\n",
       "    }\n",
       "\n",
       "    .dataframe thead th {\n",
       "        text-align: right;\n",
       "    }\n",
       "</style>\n",
       "<table border=\"1\" class=\"dataframe\">\n",
       "  <thead>\n",
       "    <tr style=\"text-align: right;\">\n",
       "      <th></th>\n",
       "      <th>Name</th>\n",
       "      <th>Length</th>\n",
       "      <th>EffectiveLength</th>\n",
       "      <th>TPM</th>\n",
       "      <th>NumReads</th>\n",
       "    </tr>\n",
       "  </thead>\n",
       "  <tbody>\n",
       "    <tr>\n",
       "      <th>0</th>\n",
       "      <td>DDX11L1</td>\n",
       "      <td>1657</td>\n",
       "      <td>674.715</td>\n",
       "      <td>0.422396</td>\n",
       "      <td>11.070</td>\n",
       "    </tr>\n",
       "    <tr>\n",
       "      <th>1</th>\n",
       "      <td>DDX11L1</td>\n",
       "      <td>632</td>\n",
       "      <td>451.000</td>\n",
       "      <td>0.000000</td>\n",
       "      <td>0.000</td>\n",
       "    </tr>\n",
       "    <tr>\n",
       "      <th>2</th>\n",
       "      <td>WASH7P</td>\n",
       "      <td>1351</td>\n",
       "      <td>988.761</td>\n",
       "      <td>28.248736</td>\n",
       "      <td>1084.876</td>\n",
       "    </tr>\n",
       "    <tr>\n",
       "      <th>3</th>\n",
       "      <td>MIR6859-1</td>\n",
       "      <td>68</td>\n",
       "      <td>8.000</td>\n",
       "      <td>0.000000</td>\n",
       "      <td>0.000</td>\n",
       "    </tr>\n",
       "    <tr>\n",
       "      <th>4</th>\n",
       "      <td>MIR1302-2HG</td>\n",
       "      <td>712</td>\n",
       "      <td>519.163</td>\n",
       "      <td>0.212906</td>\n",
       "      <td>4.293</td>\n",
       "    </tr>\n",
       "  </tbody>\n",
       "</table>\n",
       "</div>"
      ],
      "text/plain": [
       "          Name  Length  EffectiveLength        TPM  NumReads\n",
       "0      DDX11L1    1657          674.715   0.422396    11.070\n",
       "1      DDX11L1     632          451.000   0.000000     0.000\n",
       "2       WASH7P    1351          988.761  28.248736  1084.876\n",
       "3    MIR6859-1      68            8.000   0.000000     0.000\n",
       "4  MIR1302-2HG     712          519.163   0.212906     4.293"
      ]
     },
     "execution_count": 12,
     "metadata": {},
     "output_type": "execute_result"
    }
   ],
   "source": [
    "salmonDF.head()"
   ]
  },
  {
   "cell_type": "markdown",
   "metadata": {},
   "source": [
    "## Select the prerank Data frame\n",
    "and rename the columns"
   ]
  },
  {
   "cell_type": "code",
   "execution_count": 13,
   "metadata": {},
   "outputs": [
    {
     "data": {
      "text/html": [
       "<div>\n",
       "<style scoped>\n",
       "    .dataframe tbody tr th:only-of-type {\n",
       "        vertical-align: middle;\n",
       "    }\n",
       "\n",
       "    .dataframe tbody tr th {\n",
       "        vertical-align: top;\n",
       "    }\n",
       "\n",
       "    .dataframe thead th {\n",
       "        text-align: right;\n",
       "    }\n",
       "</style>\n",
       "<table border=\"1\" class=\"dataframe\">\n",
       "  <thead>\n",
       "    <tr style=\"text-align: right;\">\n",
       "      <th></th>\n",
       "      <th>gene</th>\n",
       "      <th>score</th>\n",
       "    </tr>\n",
       "  </thead>\n",
       "  <tbody>\n",
       "    <tr>\n",
       "      <th>0</th>\n",
       "      <td>DDX11L1</td>\n",
       "      <td>0.422396</td>\n",
       "    </tr>\n",
       "    <tr>\n",
       "      <th>1</th>\n",
       "      <td>DDX11L1</td>\n",
       "      <td>0.000000</td>\n",
       "    </tr>\n",
       "    <tr>\n",
       "      <th>2</th>\n",
       "      <td>WASH7P</td>\n",
       "      <td>28.248736</td>\n",
       "    </tr>\n",
       "    <tr>\n",
       "      <th>3</th>\n",
       "      <td>MIR6859-1</td>\n",
       "      <td>0.000000</td>\n",
       "    </tr>\n",
       "    <tr>\n",
       "      <th>4</th>\n",
       "      <td>MIR1302-2HG</td>\n",
       "      <td>0.212906</td>\n",
       "    </tr>\n",
       "  </tbody>\n",
       "</table>\n",
       "</div>"
      ],
      "text/plain": [
       "          gene      score\n",
       "0      DDX11L1   0.422396\n",
       "1      DDX11L1   0.000000\n",
       "2       WASH7P  28.248736\n",
       "3    MIR6859-1   0.000000\n",
       "4  MIR1302-2HG   0.212906"
      ]
     },
     "execution_count": 13,
     "metadata": {},
     "output_type": "execute_result"
    }
   ],
   "source": [
    "rankDF = salmonDF.loc[:, ['Name', 'TPM']]\n",
    "rankDF = rankDF.rename( columns={'Name':'gene', 'TPM':'score'})\n",
    "rankDF.head()"
   ]
  },
  {
   "cell_type": "markdown",
   "metadata": {},
   "source": [
    "## clean : remove missing values"
   ]
  },
  {
   "cell_type": "code",
   "execution_count": 14,
   "metadata": {},
   "outputs": [
    {
     "data": {
      "text/plain": [
       "gene     5158738\n",
       "score          0\n",
       "dtype: int64"
      ]
     },
     "execution_count": 14,
     "metadata": {},
     "output_type": "execute_result"
    }
   ],
   "source": [
    "rankDF.isnull().sum()"
   ]
  },
  {
   "cell_type": "code",
   "execution_count": 15,
   "metadata": {},
   "outputs": [
    {
     "name": "stdout",
     "output_type": "stream",
     "text": [
      "shape:(5385346, 2)\n",
      "num missing scores:5172012\n",
      "num scores > 0 = 213,334\n"
     ]
    }
   ],
   "source": [
    "print(\"shape:{}\".format(rankDF.shape))\n",
    "numMissing = (rankDF['score'] == 0).sum()\n",
    "print(\"num missing scores:{}\".format(numMissing))\n",
    "print(\"num scores > 0 = {:,}\".format(rankDF.shape[0] - numMissing))"
   ]
  },
  {
   "cell_type": "code",
   "execution_count": 16,
   "metadata": {},
   "outputs": [
    {
     "name": "stdout",
     "output_type": "stream",
     "text": [
      "0\n",
      "0\n"
     ]
    }
   ],
   "source": [
    "print((rankDF['gene'] == '--').sum())\n",
    "print((rankDF['gene'] == '').sum())"
   ]
  },
  {
   "cell_type": "code",
   "execution_count": 17,
   "metadata": {},
   "outputs": [
    {
     "name": "stdout",
     "output_type": "stream",
     "text": [
      "(213334, 2)\n"
     ]
    }
   ],
   "source": [
    "selectRows = rankDF['score'] != 0\n",
    "rankDF = rankDF.loc[selectRows,:]\n",
    "print(rankDF.shape)"
   ]
  },
  {
   "cell_type": "markdown",
   "metadata": {},
   "source": [
    "## GSEA\n",
    "\n",
    "what is difference between prerank() and single sample ssgsea() and gsea()?\n",
    "\n",
    "### Notes about example in gseap.py doc\n",
    "- \"*.gct\" is gene expression data . [gct format reference](https://software.broadinstitute.org/software/igv/GCT#:~:text=A%20GCT%20file%20(.,gene%20expression%20and%20RNAi%20data.)\n",
    "\n",
    "[Gene Set Enrichment Analysis (GSEA) User Guide pre rank](https://www.gsea-msigdb.org/gsea/doc/GSEAUserGuideTEXT.htm#_GSEAPreranked_Page)\n",
    "\n",
    "use prerank() for rna expression data\n",
    "\n",
    "- The GSEAPreranked tool can be very helpful for performing gene set enrichment analysis on data that do not conform to the typical GSEA scenario. For example, it can be used when the ranking metric choices provided by GSEA are not appropriate for the data, or when a ranked list of genomic features deviates from traditional gene expression data (e.g., GWAS results, ChIP seq, etc.). \n",
    "\n",
    "- It is strongly recommended to make sure that the data do not include duplicate ranking values because GSEA does not resolve ties. In the case of a tie, the order of genes will be arbitrary, which may or may not produce erroneous results.\n",
    "\n",
    "- In the case of GSEAPreranked, you should make sure that this weighted scoring scheme applies to your choice of ranking statistic – i.e. the magnitude of the ranking metric is biologically meaningful.\n",
    "\n",
    "(https://www.gsea-msigdb.org/gsea/doc/GSEAUserGuideTEXT.htm#_Running_a_Gene_Set%20Enrichment%20Analy)\n",
    "\n",
    "\n",
    "- [gseapy.gsea() example](https://gseapy.readthedocs.io/en/latest/gseapy_example.html#4.-GSEA-Example)\n",
    "use this if we had our own labels\n",
    "\n",
    "- [gseapy Single Sample GSEA example](https://gseapy.readthedocs.io/en/latest/gseapy_example.html#5.-Single-Sample-GSEA-example)\n"
   ]
  },
  {
   "cell_type": "code",
   "execution_count": 18,
   "metadata": {},
   "outputs": [
    {
     "name": "stdout",
     "output_type": "stream",
     "text": [
      "/Users/andrewdavidson/googleUCSC/kimLab/extraCellularRNA/data/kras.ipsc/gsea.out\n"
     ]
    }
   ],
   "source": [
    "# aedwipOutDir = './gsea.out'\n",
    "aedwipOutDir=\"/Users/andrewdavidson/googleUCSC/kimLab/extraCellularRNA/data/kras.ipsc/gsea.out\"\n",
    "gseaOutDir = dataRoot.joinpath(aedwipOutDir)\n",
    "# giOutDir = pl.Path('/public/home/aedavids/extraCellularRNA/data/gsea.out')\n",
    "# gseaOutDir = giOutDir\n",
    "print(gseaOutDir)\n",
    "gseaOutDir.mkdir(exist_ok=True)"
   ]
  },
  {
   "cell_type": "code",
   "execution_count": 19,
   "metadata": {},
   "outputs": [
    {
     "name": "stdout",
     "output_type": "stream",
     "text": [
      "(213334, 2)\n"
     ]
    }
   ],
   "source": [
    "print(rankDF.shape)"
   ]
  },
  {
   "cell_type": "code",
   "execution_count": 20,
   "metadata": {
    "scrolled": false
   },
   "outputs": [
    {
     "name": "stderr",
     "output_type": "stream",
     "text": [
      "2020-07-16 14:47:58,393 Input gene rankings contains NA values(gene name and ranking value), drop them all!\n"
     ]
    },
    {
     "name": "stdout",
     "output_type": "stream",
     "text": [
      "[WARNING gsea.py:93 - _load_ranking()] Input gene rankings contains NA values(gene name and ranking value), drop them all!\n"
     ]
    },
    {
     "name": "stderr",
     "output_type": "stream",
     "text": [
      "2020-07-16 14:47:59,422 Input gene rankings contains duplicated IDs, Only use the duplicated ID with highest value!\n"
     ]
    },
    {
     "name": "stdout",
     "output_type": "stream",
     "text": [
      "[WARNING gsea.py:100 - _load_ranking()] Input gene rankings contains duplicated IDs, Only use the duplicated ID with highest value!\n"
     ]
    },
    {
     "name": "stderr",
     "output_type": "stream",
     "text": [
      "2020-07-16 14:48:00,428 Parsing data files for GSEA.............................\n"
     ]
    },
    {
     "name": "stdout",
     "output_type": "stream",
     "text": [
      "[INFO gsea.py:498 - run()] Parsing data files for GSEA.............................\n"
     ]
    },
    {
     "name": "stderr",
     "output_type": "stream",
     "text": [
      "2020-07-16 14:48:00,692 Enrichr library gene sets already downloaded in: /Users/andrewdavidson/.gseapy, use local file\n"
     ]
    },
    {
     "name": "stdout",
     "output_type": "stream",
     "text": [
      "[INFO gsea.py:167 - parse_gmt()] Enrichr library gene sets already downloaded in: /Users/andrewdavidson/.gseapy, use local file\n"
     ]
    },
    {
     "name": "stderr",
     "output_type": "stream",
     "text": [
      "2020-07-16 14:49:43,534 2597 gene_sets have been filtered out when max_size=500 and min_size=15\n"
     ]
    },
    {
     "name": "stdout",
     "output_type": "stream",
     "text": [
      "[INFO gsea.py:136 - load_gmt()] 2597 gene_sets have been filtered out when max_size=500 and min_size=15\n"
     ]
    },
    {
     "name": "stderr",
     "output_type": "stream",
     "text": [
      "2020-07-16 14:49:43,535 2506 gene_sets used for further statistical testing.....\n"
     ]
    },
    {
     "name": "stdout",
     "output_type": "stream",
     "text": [
      "[INFO gsea.py:502 - run()] 2506 gene_sets used for further statistical testing.....\n"
     ]
    },
    {
     "name": "stderr",
     "output_type": "stream",
     "text": [
      "2020-07-16 14:49:43,537 Start to run GSEA...Might take a while..................\n"
     ]
    },
    {
     "name": "stdout",
     "output_type": "stream",
     "text": [
      "[INFO gsea.py:503 - run()] Start to run GSEA...Might take a while..................\n"
     ]
    },
    {
     "name": "stderr",
     "output_type": "stream",
     "text": [
      "2020-07-16 14:59:46,996 Start to generate gseapy reports, and produce figures...\n"
     ]
    },
    {
     "name": "stdout",
     "output_type": "stream",
     "text": [
      "[INFO gsea.py:511 - run()] Start to generate gseapy reports, and produce figures...\n"
     ]
    },
    {
     "name": "stderr",
     "output_type": "stream",
     "text": [
      "2020-07-16 15:00:02,099 Congratulations. GSEApy runs successfully................\n",
      "\n"
     ]
    },
    {
     "name": "stdout",
     "output_type": "stream",
     "text": [
      "[INFO gsea.py:523 - run()] Congratulations. GSEApy runs successfully................\n",
      "\n",
      "CPU times: user 2min 42s, sys: 2.66 s, total: 2min 45s\n",
      "Wall time: 12min 3s\n"
     ]
    }
   ],
   "source": [
    "%%time\n",
    "# https://gseapy.readthedocs.io/en/v0.9.4/run.html#gseapy.prerank\n",
    "preRes = gp.prerank( rankDF, #.loc[:, ['gene', 'score']], \n",
    "                 gene_sets='GO_Biological_Process_2018',\n",
    "                 processes=10,\n",
    "                 permutation_num=1000,  # reduce number to speed up test, default 1000\n",
    "                 outdir=str(gseaOutDir),\n",
    "                    min_size=15, #(Minimum allowed number of genes from gene set also the data set. Defaut: 15.\n",
    "                    format='png', \n",
    "                    seed=42,\n",
    "                    verbose=True )"
   ]
  },
  {
   "cell_type": "code",
   "execution_count": 21,
   "metadata": {},
   "outputs": [
    {
     "name": "stdout",
     "output_type": "stream",
     "text": [
      "<class 'collections.OrderedDict'>\n"
     ]
    }
   ],
   "source": [
    "print(type(preRes.results))"
   ]
  },
  {
   "cell_type": "markdown",
   "metadata": {},
   "source": [
    "# Top pathways\n",
    "- [Interpreting GSEA Results](https://www.gsea-msigdb.org/gsea/doc/GSEAUserGuideTEXT.htm#_Interpreting_GSEA_Results)\n",
    "\n",
    "The false discovery rate (FDR) is the estimated probability that a gene set with a given NES represents a false positive finding. For example, an FDR of 25% indicates that the result is likely to be valid 3 out of 4 times. The GSEA analysis report highlights enrichment gene sets with an FDR of less than 25% as those most likely to generate interesting hypotheses and drive further research\n",
    "\n",
    "The nominal p value estimates the statistical significance of the enrichment score for a single gene set. <span style=\"color:red\">However, when you are evaluating multiple gene sets, you must correct for gene set size and multiple hypothesis testing. Because the p value is not adjusted for either, it is of limited value when comparing gene sets.</span> The Gene Set Enrichment Analysis PNAS paper describes the p value statistic in the section titled Appendix: Mathematical Description of Methods."
   ]
  },
  {
   "cell_type": "code",
   "execution_count": 22,
   "metadata": {},
   "outputs": [
    {
     "name": "stdout",
     "output_type": "stream",
     "text": [
      "Index(['Term', 'es', 'nes', 'pval', 'fdr', 'geneset_size', 'matched_size',\n",
      "       'genes', 'ledge_genes'],\n",
      "      dtype='object')\n"
     ]
    }
   ],
   "source": [
    "csvFile = gseaOutDir.joinpath(\"gseapy.prerank.gene_sets.report.csv\")\n",
    "gseaResultDF = pd.read_csv(str(csvFile))\n",
    "print(gseaResultDF.columns)"
   ]
  },
  {
   "cell_type": "code",
   "execution_count": 37,
   "metadata": {},
   "outputs": [
    {
     "name": "stdout",
     "output_type": "stream",
     "text": [
      "!!! very high FDR !!!\n",
      "\n",
      "[False False False False False]\n",
      "len(signfigantRows)2506\n",
      "sum(signfigantRows)5\n",
      "candidatePathwaysDF.shape:(5, 9)\n"
     ]
    }
   ],
   "source": [
    "print(\"!!! very high FDR !!!\\n\")\n",
    "signfigantRows = ((gseaResultDF[\"fdr\"] < 0.75) & (gseaResultDF[\"pval\"] < 0.05))\n",
    "print(\"{}\".format(signfigantRows[0:5].values))\n",
    "print(\"len(signfigantRows){}\".format(len(signfigantRows)))\n",
    "print(\"sum(signfigantRows){}\".format(sum(signfigantRows)))\n",
    "candidatePathwaysDF = gseaResultDF.loc[signfigantRows, :]\n",
    "print(\"candidatePathwaysDF.shape:{}\".format(candidatePathwaysDF.shape))"
   ]
  },
  {
   "cell_type": "code",
   "execution_count": 24,
   "metadata": {},
   "outputs": [
    {
     "data": {
      "text/html": [
       "<div>\n",
       "<style scoped>\n",
       "    .dataframe tbody tr th:only-of-type {\n",
       "        vertical-align: middle;\n",
       "    }\n",
       "\n",
       "    .dataframe tbody tr th {\n",
       "        vertical-align: top;\n",
       "    }\n",
       "\n",
       "    .dataframe thead th {\n",
       "        text-align: right;\n",
       "    }\n",
       "</style>\n",
       "<table border=\"1\" class=\"dataframe\">\n",
       "  <thead>\n",
       "    <tr style=\"text-align: right;\">\n",
       "      <th></th>\n",
       "      <th>Term</th>\n",
       "      <th>es</th>\n",
       "      <th>nes</th>\n",
       "      <th>pval</th>\n",
       "      <th>fdr</th>\n",
       "      <th>geneset_size</th>\n",
       "      <th>matched_size</th>\n",
       "      <th>genes</th>\n",
       "      <th>ledge_genes</th>\n",
       "    </tr>\n",
       "  </thead>\n",
       "  <tbody>\n",
       "    <tr>\n",
       "      <th>692</th>\n",
       "      <td>regulation of translation (GO:0006417)</td>\n",
       "      <td>0.865263</td>\n",
       "      <td>1.162915</td>\n",
       "      <td>0.037</td>\n",
       "      <td>0.735687</td>\n",
       "      <td>214</td>\n",
       "      <td>206</td>\n",
       "      <td>GAPDH;RPL26;RPL13A;RPL10;RPL5;RACK1;H3F3A;RPS3...</td>\n",
       "      <td>GAPDH;RPL26;RPL13A;RPL10;RPL5;RACK1;H3F3A;RPS3...</td>\n",
       "    </tr>\n",
       "    <tr>\n",
       "      <th>538</th>\n",
       "      <td>neutrophil degranulation (GO:0043312)</td>\n",
       "      <td>0.854962</td>\n",
       "      <td>1.141604</td>\n",
       "      <td>0.021</td>\n",
       "      <td>0.731749</td>\n",
       "      <td>480</td>\n",
       "      <td>419</td>\n",
       "      <td>EEF1A1;FTL;TUBB;PPIA;PKM;MIF;HSP90AB1;FTH1;NME...</td>\n",
       "      <td>EEF1A1;FTL;TUBB;PPIA;PKM;MIF;HSP90AB1;FTH1;NME...</td>\n",
       "    </tr>\n",
       "    <tr>\n",
       "      <th>629</th>\n",
       "      <td>neutrophil activation involved in immune respo...</td>\n",
       "      <td>0.854891</td>\n",
       "      <td>1.138890</td>\n",
       "      <td>0.023</td>\n",
       "      <td>0.734031</td>\n",
       "      <td>484</td>\n",
       "      <td>422</td>\n",
       "      <td>EEF1A1;FTL;TUBB;PPIA;PKM;MIF;HSP90AB1;FTH1;NME...</td>\n",
       "      <td>EEF1A1;FTL;TUBB;PPIA;PKM;MIF;HSP90AB1;FTH1;NME...</td>\n",
       "    </tr>\n",
       "    <tr>\n",
       "      <th>489</th>\n",
       "      <td>neutrophil mediated immunity (GO:0002446)</td>\n",
       "      <td>0.854324</td>\n",
       "      <td>1.134550</td>\n",
       "      <td>0.033</td>\n",
       "      <td>0.728589</td>\n",
       "      <td>488</td>\n",
       "      <td>427</td>\n",
       "      <td>EEF1A1;FTL;TUBB;PPIA;PKM;MIF;HSP90AB1;FTH1;NME...</td>\n",
       "      <td>EEF1A1;FTL;TUBB;PPIA;PKM;MIF;HSP90AB1;FTH1;NME...</td>\n",
       "    </tr>\n",
       "    <tr>\n",
       "      <th>333</th>\n",
       "      <td>negative regulation of apoptotic process (GO:0...</td>\n",
       "      <td>0.842825</td>\n",
       "      <td>1.121519</td>\n",
       "      <td>0.046</td>\n",
       "      <td>0.718557</td>\n",
       "      <td>486</td>\n",
       "      <td>450</td>\n",
       "      <td>MT-RNR2;RPS3A;RPL10;TPT1;RPS27A;UBA52;NPM1;MIF...</td>\n",
       "      <td>MT-RNR2;RPS3A;RPL10;TPT1;RPS27A;UBA52;NPM1;MIF...</td>\n",
       "    </tr>\n",
       "  </tbody>\n",
       "</table>\n",
       "</div>"
      ],
      "text/plain": [
       "                                                  Term        es       nes  \\\n",
       "692             regulation of translation (GO:0006417)  0.865263  1.162915   \n",
       "538              neutrophil degranulation (GO:0043312)  0.854962  1.141604   \n",
       "629  neutrophil activation involved in immune respo...  0.854891  1.138890   \n",
       "489          neutrophil mediated immunity (GO:0002446)  0.854324  1.134550   \n",
       "333  negative regulation of apoptotic process (GO:0...  0.842825  1.121519   \n",
       "\n",
       "      pval       fdr  geneset_size  matched_size  \\\n",
       "692  0.037  0.735687           214           206   \n",
       "538  0.021  0.731749           480           419   \n",
       "629  0.023  0.734031           484           422   \n",
       "489  0.033  0.728589           488           427   \n",
       "333  0.046  0.718557           486           450   \n",
       "\n",
       "                                                 genes  \\\n",
       "692  GAPDH;RPL26;RPL13A;RPL10;RPL5;RACK1;H3F3A;RPS3...   \n",
       "538  EEF1A1;FTL;TUBB;PPIA;PKM;MIF;HSP90AB1;FTH1;NME...   \n",
       "629  EEF1A1;FTL;TUBB;PPIA;PKM;MIF;HSP90AB1;FTH1;NME...   \n",
       "489  EEF1A1;FTL;TUBB;PPIA;PKM;MIF;HSP90AB1;FTH1;NME...   \n",
       "333  MT-RNR2;RPS3A;RPL10;TPT1;RPS27A;UBA52;NPM1;MIF...   \n",
       "\n",
       "                                           ledge_genes  \n",
       "692  GAPDH;RPL26;RPL13A;RPL10;RPL5;RACK1;H3F3A;RPS3...  \n",
       "538  EEF1A1;FTL;TUBB;PPIA;PKM;MIF;HSP90AB1;FTH1;NME...  \n",
       "629  EEF1A1;FTL;TUBB;PPIA;PKM;MIF;HSP90AB1;FTH1;NME...  \n",
       "489  EEF1A1;FTL;TUBB;PPIA;PKM;MIF;HSP90AB1;FTH1;NME...  \n",
       "333  MT-RNR2;RPS3A;RPL10;TPT1;RPS27A;UBA52;NPM1;MIF...  "
      ]
     },
     "execution_count": 24,
     "metadata": {},
     "output_type": "execute_result"
    }
   ],
   "source": [
    "# select top 5\n",
    "# nes == normalize enrichment score\n",
    "sortedDF = candidatePathwaysDF.sort_values(by='nes', ascending=False)\n",
    "topDF = sortedDF.iloc[0:5, :]\n",
    "topDF"
   ]
  },
  {
   "cell_type": "code",
   "execution_count": 25,
   "metadata": {},
   "outputs": [
    {
     "data": {
      "text/html": [
       "<table border=\"1\" class=\"dataframe\">\n",
       "  <thead>\n",
       "    <tr style=\"text-align: right;\">\n",
       "      <th>Term</th>\n",
       "      <th>es</th>\n",
       "      <th>nes</th>\n",
       "      <th>pval</th>\n",
       "      <th>fdr</th>\n",
       "      <th>geneset_size</th>\n",
       "      <th>matched_size</th>\n",
       "      <th>genes</th>\n",
       "      <th>ledge_genes</th>\n",
       "    </tr>\n",
       "  </thead>\n",
       "  <tbody>\n",
       "    <tr>\n",
       "      <td>regulation of translation (GO:0006417)</td>\n",
       "      <td>0.865263</td>\n",
       "      <td>1.162915</td>\n",
       "      <td>0.037</td>\n",
       "      <td>0.735687</td>\n",
       "      <td>214</td>\n",
       "      <td>206</td>\n",
       "      <td>GAPDH;RPL26;RPL13A;RPL10;RPL5;RACK1;H3F3A;RPS3;NPM1;RPS4X;EEF2;VIM;RAN;CALR;NCL;HNRNPD;EIF4G2;EIF1;TYMS;EIF3H;EIF3E;EIF3C;CIRBP;EIF4H;RBM3;EIF4B;POLR2G;POLR2K;EIF3D;POLR2L;LIN28A;EIF1B;CDC123;EIF4A3;APP;POLR2J;EIF6;DHX9;RBM4;DDX1;POLR2E;POLR2I;EIF3B;RPS27L;HSPB1;DHFR;IGF2BP1;POLR2F;ETF1;ILF3;POLR2C;EIF4A2;SYNCRIP;ELAVL1;AAAS;IGFBP5;SAMD4B;DDX3X;FXR1;CNOT1;EIF4E2;SOX4;MALSU1;NUP62;POLR2A;NCBP2;ENC1;EIF4E;EIF5B;EIF4G1;LARP1;NUP93;POLR2H;EIF5;POLDIP3;MTPN;PAIP1;NUP85;METAP1;POLR2B;CAPRIN1;YTHDF1;PYM1;MRPL58;NUP50;NUP54;IGF2BP2;EPRS;PUM3;NUP37;MEX3D;NUP188;RAE1;TPR;MEX3A;NUP205;CNOT3;NUP88;NUP160;DDX6;DAPK3;FXR2;NUP153;RIDA;NUP107;TOB1;EIF2A;NOLC1;MTG1;SEH1L;UPF3B;NDC1;NUP133;NUP98;ERBB2;CNOT9;BTG2;MEX3C;POM121C;NCBP1;CYFIP1;NUP43;CNOT7;POLR2D;UPF1;IGF2BP3;NUP35;CNOT8;ZNF385A;TSFM;MAPKAPK5;NUP58;EIF2B4;TRIM71;YTHDF3;TCOF1;PUM2;MTG2;ZNF598;RBM4B;OGFOD1;POM121;RANBP2;CNOT2;MEX3B;DAPK1;UPF3A;SHMT1;GEMIN5;MTIF2;CNOT10;RPS6KB1;EIF4G3;LARP4B;EIF2B2;LARP6;GLE1;MTOR;NUP155;NEMF;PUM1;LARP4;RPS6KA1;RNF139;IPO8;PASK;ALKBH1;TNRC6A;FMR1;GIGYF2;AGO1;FOXO3;NUP214;MIF4GD;NUP210;KLHL25;ATXN2;TSC1;EIF2AK4;LTN1;RPS6KA3;CTIF;MTRF1;DDX25;AGO2;THBS1;CYFIP2;EIF2AK3;EIF2AK2;YBX2;NANOS1;NSUN3;BCL3;SAMD4A;GRB7;PATL2;ZNF540;HIST1H3A;CPEB3;PRR16;NANOS3;HSP90B2P;PIWIL2;IL6;NANOS2;GRM5</td>\n",
       "      <td>GAPDH;RPL26;RPL13A;RPL10;RPL5;RACK1;H3F3A;RPS3;NPM1;RPS4X;EEF2;VIM;RAN;CALR;NCL;HNRNPD;EIF4G2;EIF1;TYMS;EIF3H;EIF3E;EIF3C;CIRBP;EIF4H;RBM3;EIF4B;POLR2G;POLR2K;EIF3D;POLR2L;LIN28A;EIF1B;CDC123;EIF4A3;APP;POLR2J;EIF6;DHX9;RBM4;DDX1;POLR2E;POLR2I;EIF3B;RPS27L;HSPB1;DHFR;IGF2BP1;POLR2F;ETF1;ILF3;POLR2C;EIF4A2;SYNCRIP;ELAVL1;AAAS;IGFBP5;SAMD4B;DDX3X;FXR1;CNOT1;EIF4E2;SOX4;MALSU1;NUP62;POLR2A;NCBP2;ENC1;EIF4E;EIF5B;EIF4G1;LARP1;NUP93;POLR2H;EIF5;POLDIP3;MTPN;PAIP1;NUP85;METAP1;POLR2B;CAPRIN1;YTHDF1</td>\n",
       "    </tr>\n",
       "    <tr>\n",
       "      <td>neutrophil degranulation (GO:0043312)</td>\n",
       "      <td>0.854962</td>\n",
       "      <td>1.141604</td>\n",
       "      <td>0.021</td>\n",
       "      <td>0.731749</td>\n",
       "      <td>480</td>\n",
       "      <td>419</td>\n",
       "      <td>EEF1A1;FTL;TUBB;PPIA;PKM;MIF;HSP90AB1;FTH1;NME2;EEF2;HSPA8;GSTP1;HMGB1;HSP90AA1;SRP14;DYNLL1;ALDOA;ILF2;TUBB4B;PGAM1;S100A11;RHOA;FABP5;XRCC5;PSMB1;PSAP;CD63;IMPDH2;CCT2;XRCC6;CCT8;PSMB7;PRDX6;GDI2;NDUFC2;CSNK2B;RAC1;PA2G4;PSMA2;GRN;VCP;DDOST;ANXA2;COTL1;PSMC3;ATP6V0C;PRDX4;PSMD7;CYBA;CTSD;LAMTOR1;RAB7A;CST3;PSMD2;TRAPPC1;PSMD13;CKAP4;PSMD3;PGRMC1;MGST1;PSMD14;CYB5R3;KPNB1;NPC2;CNN2;DYNLT1;VAPA;APRT;PSMD6;SURF4;ACTR2;TXNDC5;RAB5C;PDAP1;GGH;BRI3;LAMP1;PSMC2;VAT1;LTA4H;LAMTOR2;B2M;CTSC;SLC2A3;IDH1;PFKL;GSN;DDX3X;NCSTN;MLEC;CAP1;ATP6V1D;IST1;PSMA5;PSMD1;RAP1B;PRCP;HSPA1A;VAMP8;ATP6AP2;CAND1;DEGS1;CTSZ;SDCBP;DYNC1LI1;COPB1;RAB5B;CTSB;RAB10;SLC44A2;ARPC5;PAFAH1B2;PGM1;DERA;CMTM6;PSMD11;PTGES2;PNP;LPCAT1;TMEM30A;RAB14;NRAS;COMMD9;GPI;ORMDL3;ACLY;HEXB;APEH;BST2;SNAP23;VCL;RHOG;CREG1;CYSTM1;CPNE1;HUWE1;PPIE;PYGL;SPTAN1;UBR4;YPEL5;TMEM179B;AP1M1;GOLGA7;PSMD12;CSTB;GLA;MAN2B1;PYGB;GAA;NIT2;CTSA;FUCA2;TSPAN14;GLB1;GUSB;ACTR1B;CYFIP1;ACTR10;FAF2;TIMP2;NEU1;RAB31;LAMTOR3;GNS;HSPA1B;DIAPH1;CD47;CAB39;QSOX1;RAB6A;ARL8A;ADAM10;B4GALT1;DBNL;RAB18;CD59;PLAU;AP2A2;DNAJC5;MAGT1;JUP;KCMF1;SIRPA;DYNC1H1;AGPAT2;STXBP3;DLC1;RAP1A;PSEN1;CAPN1;TOLLIP;ATAD3B;PLEKHO2;SYNGR1;HMOX2;IGF2R;IMPDH1;COMMD3;TOM1;ITGAV;ACAA1;A1BG;RAB4B;MAPK14;GALNS;ERP44;CANT1;HEBP2;ALDOC;GM2A;PRKCD;VAMP7;MAPK1;DSN1;IQGAP1;ASAH1;RAP2C;ROCK1;LAMP2;PDXK;PGM2;SNAP29;TMC6;STK11IP;DGAT1;GYG1;HGSNAT;ARSB;RAB24;ANO6;RAP2B;DNAJC13;ATP6V0A1;CPNE3;AGA;GCA;STOM;ALAD;DNAJC3;STXBP2;DSP;SCAMP1;SVIP;TMBIM1;DPP7;ARMC8;OSTF1;CDK13;ANXA3;SERPINB1;ATP11A;ATG7;RNASET2;NFKB1;PLAUR;STK10;MOSPD2;NAPRT;ATP11B;NHLRC3;CEP290;SERPINB6;CDA;GMFG;CD58;CPPED1;PTPRJ;GHDC;MANBA;FUCA1;ARSA;CTSH;PRSS2;CAT;RHOF;LGALS3;MMP9;PADI2;AGL;APAF1;ADA2;DNASE1L1;TMEM63A;KCNAB2;DOK3;MMP25;HVCN1;PTX3;RAB3A;RAB27A;ARHGAP45;TCIRG1;CD55;IQGAP2;RAB3D;PYCARD;CHRNB4;FCER1G;NBEAL2;PTPN6;CD44;RAB9B;ADAM8;SNAP25;STBD1;ENPP4;NFASC;MVP;BST1;METTL7A;PTPRN2;ATP8A1;TBC1D10C;CD177;GSDMD;CD33;MME;RAB37;LYZ;ANPEP;QPCT;ADGRE5;CRISPLD2;SLCO4C1;AZU1;SLPI;C3;CFP;FCGR2A;UNC13D;CRISP3;ACPP;GLIPR1;ARHGAP9;TTR;CD14;LRG1;ALDH3B1;AMPD3;CHI3L1;SLC27A2;FRMPD3;SELL;ITGB2;ABCA13;PLD1;TYROBP;C5AR1;CFD;CRACR2A;SERPINA3;TMEM173;OSCAR;ATP8B4;NCKAP1L;HFE;ORM2;PTAFR;CD36;PLAC8;CXCL1;DOCK2;ALOX5;LILRB3;TNFRSF1B;PECAM1;ADGRG3;CD53;NFAM1;CLEC4D;BPI;CHIT1;LRRC7;CD68;HK3;TNFAIP6;LCN2;MS4A3;FOLR3;TRPM2;OLR1;PTPRB;HPSE;CTSS;GPR84;PRTN3;FRK;TLR2;LRMP;LAIR1;AHSG;PKP1;FGR;CXCR2;SIGLEC9;PTPRC;ORM1;SERPINA1;RAB44;CEACAM1;ITGAM;CR1;TCN1;CD93;SLC15A4;ITGAX;LILRB2;CYBB;CEACAM8;MGAM;FCAR;SLC2A5;OLFM4;CEACAM6;PIGR;P2RX1;SLC11A1;ITGAL</td>\n",
       "      <td>EEF1A1;FTL;TUBB;PPIA;PKM;MIF;HSP90AB1;FTH1;NME2;EEF2;HSPA8;GSTP1;HMGB1;HSP90AA1;SRP14;DYNLL1;ALDOA;ILF2;TUBB4B;PGAM1;S100A11;RHOA;FABP5;XRCC5;PSMB1;PSAP;CD63;IMPDH2;CCT2;XRCC6;CCT8;PSMB7;PRDX6;GDI2;NDUFC2;CSNK2B;RAC1;PA2G4;PSMA2;GRN;VCP;DDOST;ANXA2;COTL1;PSMC3;ATP6V0C;PRDX4;PSMD7;CYBA;CTSD;LAMTOR1;RAB7A;CST3;PSMD2;TRAPPC1;PSMD13;CKAP4;PSMD3;PGRMC1;MGST1;PSMD14;CYB5R3;KPNB1;NPC2;CNN2;DYNLT1;VAPA;APRT;PSMD6;SURF4;ACTR2;TXNDC5;RAB5C;PDAP1;GGH;BRI3;LAMP1;PSMC2;VAT1;LTA4H;LAMTOR2;B2M;CTSC;SLC2A3;IDH1;PFKL;GSN;DDX3X;NCSTN;MLEC;CAP1;ATP6V1D</td>\n",
       "    </tr>\n",
       "    <tr>\n",
       "      <td>neutrophil activation involved in immune response (GO:0002283)</td>\n",
       "      <td>0.854891</td>\n",
       "      <td>1.138890</td>\n",
       "      <td>0.023</td>\n",
       "      <td>0.734031</td>\n",
       "      <td>484</td>\n",
       "      <td>422</td>\n",
       "      <td>EEF1A1;FTL;TUBB;PPIA;PKM;MIF;HSP90AB1;FTH1;NME2;EEF2;HSPA8;GSTP1;HMGB1;HSP90AA1;SRP14;DYNLL1;ALDOA;ILF2;TUBB4B;PGAM1;S100A11;RHOA;FABP5;XRCC5;PSMB1;PSAP;CD63;IMPDH2;CCT2;XRCC6;CCT8;PSMB7;PRDX6;GDI2;NDUFC2;CSNK2B;RAC1;PA2G4;PSMA2;GRN;VCP;DDOST;ANXA2;COTL1;PSMC3;ATP6V0C;PRDX4;PSMD7;CYBA;CTSD;LAMTOR1;RAB7A;CST3;PSMD2;TRAPPC1;PSMD13;CKAP4;PSMD3;PGRMC1;MGST1;PSMD14;CYB5R3;KPNB1;NPC2;CNN2;DYNLT1;VAPA;APRT;PSMD6;SURF4;ACTR2;TXNDC5;RAB5C;PDAP1;GGH;BRI3;LAMP1;PSMC2;VAT1;LTA4H;LAMTOR2;B2M;CTSC;SLC2A3;IDH1;PFKL;GSN;DDX3X;NCSTN;MLEC;CAP1;ATP6V1D;IST1;PSMA5;PSMD1;RAP1B;PRCP;HSPA1A;VAMP8;ATP6AP2;CAND1;DEGS1;CTSZ;SDCBP;DYNC1LI1;COPB1;RAB5B;CTSB;RAB10;SLC44A2;ARPC5;PAFAH1B2;PGM1;DERA;CMTM6;PSMD11;PTGES2;PNP;LPCAT1;TMEM30A;RAB14;NRAS;COMMD9;GPI;ORMDL3;ACLY;HEXB;APEH;BST2;SNAP23;VCL;RHOG;CREG1;CYSTM1;CPNE1;HUWE1;PPIE;PYGL;SPTAN1;UBR4;YPEL5;TMEM179B;AP1M1;GOLGA7;PSMD12;CSTB;GLA;MAN2B1;PYGB;GAA;NIT2;CTSA;FUCA2;TSPAN14;GLB1;GUSB;ACTR1B;CYFIP1;ACTR10;FAF2;TIMP2;NEU1;RAB31;LAMTOR3;GNS;HSPA1B;DIAPH1;CD47;CAB39;QSOX1;RAB6A;ARL8A;ADAM10;B4GALT1;DBNL;RAB18;CD59;PLAU;AP2A2;DNAJC5;MAGT1;JUP;KCMF1;SIRPA;DYNC1H1;AGPAT2;STXBP3;DLC1;RAP1A;PSEN1;CAPN1;TOLLIP;ATAD3B;PLEKHO2;SYNGR1;HMOX2;IGF2R;IMPDH1;COMMD3;TOM1;ITGAV;ACAA1;A1BG;RAB4B;MAPK14;GALNS;ERP44;CANT1;HEBP2;ALDOC;GM2A;PRKCD;VAMP7;MAPK1;DSN1;IQGAP1;ASAH1;RAP2C;ROCK1;LAMP2;PDXK;PGM2;SNAP29;TMC6;STK11IP;DGAT1;GYG1;HGSNAT;ARSB;RAB24;ANO6;RAP2B;DNAJC13;ATP6V0A1;CPNE3;AGA;GCA;STOM;ALAD;DNAJC3;STXBP2;DSP;SCAMP1;SVIP;TMBIM1;DPP7;ARMC8;OSTF1;CDK13;ANXA3;SERPINB1;ATP11A;ATG7;RNASET2;NFKB1;PLAUR;STK10;MOSPD2;NAPRT;ATP11B;NHLRC3;CEP290;SERPINB6;CDA;GMFG;CD58;CPPED1;PTPRJ;GHDC;MANBA;FUCA1;ARSA;CTSH;PRSS2;CAT;RHOF;LGALS3;MMP9;PADI2;AGL;APAF1;DNASE1;ADA2;DNASE1L1;TMEM63A;KCNAB2;DOK3;MMP25;HVCN1;PTX3;RAB3A;RAB27A;ARHGAP45;TCIRG1;CD55;IQGAP2;RAB3D;PYCARD;CHRNB4;FCER1G;NBEAL2;PTPN6;CD44;RAB9B;ADAM8;SNAP25;STBD1;ENPP4;NFASC;MVP;BST1;METTL7A;PTPRN2;ATP8A1;TBC1D10C;CD177;GSDMD;CD33;MME;RAB37;LYZ;ANPEP;QPCT;ADGRE5;CRISPLD2;SLCO4C1;AZU1;SLPI;C3;CFP;FCGR2A;UNC13D;CRISP3;ACPP;GLIPR1;ARHGAP9;TTR;CD14;LRG1;ALDH3B1;AMPD3;CHI3L1;SLC27A2;FRMPD3;SELL;ITGB2;ABCA13;PLD1;TYROBP;C5AR1;CFD;CRACR2A;SERPINA3;TMEM173;OSCAR;ATP8B4;NCKAP1L;HFE;ORM2;PTAFR;CD36;PLAC8;CXCL1;DOCK2;ALOX5;LILRB3;TNFRSF1B;PECAM1;ADGRG3;CD53;NFAM1;CLEC4D;BPI;CHIT1;LRRC7;CD68;HK3;TNFAIP6;LCN2;MS4A3;FOLR3;TRPM2;OLR1;PTPRB;HPSE;SYK;CTSS;GPR84;PRTN3;FRK;TLR2;LRMP;LAIR1;AHSG;PKP1;FGR;CXCR2;DNASE1L3;SIGLEC9;PTPRC;ORM1;SERPINA1;RAB44;CEACAM1;ITGAM;CR1;TCN1;CD93;SLC15A4;ITGAX;LILRB2;CYBB;CEACAM8;MGAM;FCAR;SLC2A5;OLFM4;CEACAM6;PIGR;P2RX1;SLC11A1;ITGAL</td>\n",
       "      <td>EEF1A1;FTL;TUBB;PPIA;PKM;MIF;HSP90AB1;FTH1;NME2;EEF2;HSPA8;GSTP1;HMGB1;HSP90AA1;SRP14;DYNLL1;ALDOA;ILF2;TUBB4B;PGAM1;S100A11;RHOA;FABP5;XRCC5;PSMB1;PSAP;CD63;IMPDH2;CCT2;XRCC6;CCT8;PSMB7;PRDX6;GDI2;NDUFC2;CSNK2B;RAC1;PA2G4;PSMA2;GRN;VCP;DDOST;ANXA2;COTL1;PSMC3;ATP6V0C;PRDX4;PSMD7;CYBA;CTSD;LAMTOR1;RAB7A;CST3;PSMD2;TRAPPC1;PSMD13;CKAP4;PSMD3;PGRMC1;MGST1;PSMD14;CYB5R3;KPNB1;NPC2;CNN2;DYNLT1;VAPA;APRT;PSMD6;SURF4;ACTR2;TXNDC5;RAB5C;PDAP1;GGH;BRI3;LAMP1;PSMC2;VAT1;LTA4H;LAMTOR2;B2M;CTSC;SLC2A3;IDH1;PFKL;GSN;DDX3X;NCSTN;MLEC;CAP1;ATP6V1D</td>\n",
       "    </tr>\n",
       "    <tr>\n",
       "      <td>neutrophil mediated immunity (GO:0002446)</td>\n",
       "      <td>0.854324</td>\n",
       "      <td>1.134550</td>\n",
       "      <td>0.033</td>\n",
       "      <td>0.728589</td>\n",
       "      <td>488</td>\n",
       "      <td>427</td>\n",
       "      <td>EEF1A1;FTL;TUBB;PPIA;PKM;MIF;HSP90AB1;FTH1;NME2;EEF2;HSPA8;GSTP1;HMGB1;HSP90AA1;SRP14;DYNLL1;ALDOA;ILF2;TUBB4B;PGAM1;S100A11;RHOA;FABP5;XRCC5;PSMB1;PSAP;CD63;IMPDH2;CCT2;XRCC6;CCT8;PSMB7;PRDX6;GDI2;NDUFC2;CSNK2B;RAC1;PA2G4;PSMA2;GRN;VCP;DDOST;ANXA2;COTL1;PSMC3;ATP6V0C;PRDX4;PSMD7;CYBA;CTSD;LAMTOR1;RAB7A;CST3;PSMD2;TRAPPC1;PSMD13;CKAP4;PSMD3;PGRMC1;MGST1;PSMD14;CYB5R3;KPNB1;NPC2;CNN2;DYNLT1;VAPA;APRT;PSMD6;SURF4;ACTR2;TXNDC5;RAB5C;PDAP1;GGH;BRI3;LAMP1;PSMC2;VAT1;LTA4H;LAMTOR2;B2M;CTSC;SLC2A3;IDH1;PFKL;GSN;DDX3X;NCSTN;MLEC;CAP1;ATP6V1D;IST1;PSMA5;PSMD1;RAP1B;PRCP;HSPA1A;VAMP8;ATP6AP2;CAND1;DEGS1;CTSZ;SDCBP;DYNC1LI1;COPB1;RAB5B;CTSB;RAB10;SLC44A2;ARPC5;PAFAH1B2;PGM1;DERA;CMTM6;PSMD11;PTGES2;PNP;LPCAT1;TMEM30A;RAB14;NRAS;COMMD9;GPI;ORMDL3;ACLY;HEXB;APEH;BST2;SNAP23;VCL;RHOG;CREG1;CYSTM1;CPNE1;HUWE1;PPIE;PYGL;SPTAN1;UBR4;YPEL5;TMEM179B;AP1M1;GOLGA7;PSMD12;CSTB;GLA;MAN2B1;PYGB;GAA;NIT2;CTSA;FUCA2;TSPAN14;GLB1;GUSB;ACTR1B;CYFIP1;ACTR10;FAF2;TIMP2;NEU1;RAB31;LAMTOR3;GNS;HSPA1B;DIAPH1;CD47;CAB39;QSOX1;RAB6A;ARL8A;ADAM10;B4GALT1;DBNL;RAB18;CD59;PLAU;AP2A2;DNAJC5;MAGT1;JUP;KCMF1;SIRPA;DYNC1H1;AGPAT2;STXBP3;DLC1;RAP1A;PSEN1;CAPN1;TOLLIP;ATAD3B;PLEKHO2;SYNGR1;HMOX2;IGF2R;IMPDH1;COMMD3;TOM1;ITGAV;ACAA1;ADAM17;A1BG;RAB4B;MAPK14;GALNS;ERP44;CANT1;HEBP2;ALDOC;GM2A;PRKCD;VAMP7;MAPK1;DSN1;IQGAP1;ASAH1;RAP2C;ROCK1;LAMP2;PDXK;PGM2;SNAP29;TMC6;STK11IP;DGAT1;KMT2E;GYG1;HGSNAT;ARSB;RAB24;ANO6;RAP2B;DNAJC13;ATP6V0A1;CPNE3;AGA;GCA;STOM;ALAD;DNAJC3;STXBP2;DSP;SCAMP1;SVIP;TMBIM1;DPP7;ARMC8;OSTF1;CDK13;ANXA3;SERPINB1;ATP11A;ATG7;RNASET2;NFKB1;PLAUR;STK10;MOSPD2;NAPRT;ATP11B;NHLRC3;CEP290;SERPINB6;CDA;GMFG;CD58;CPPED1;PTPRJ;GHDC;MANBA;FUCA1;ARSA;CTSH;PRSS2;CAT;RHOF;LGALS3;MMP9;PADI2;AGL;APAF1;ADA2;DNASE1L1;TMEM63A;KCNAB2;DOK3;MMP25;HVCN1;PTX3;RAB3A;RAB27A;ARHGAP45;TCIRG1;CD55;IQGAP2;RAB3D;PYCARD;CHRNB4;FCER1G;NBEAL2;PTPN6;CD44;IRAK4;RAB9B;ADAM8;SNAP25;STBD1;ENPP4;NFASC;MVP;BST1;METTL7A;PTPRN2;ATP8A1;TBC1D10C;CD177;GSDMD;CD33;MME;RAB37;LYZ;ANPEP;QPCT;ADGRE5;CRISPLD2;SLCO4C1;AZU1;SLPI;CXCL5;C3;CFP;FCGR2A;UNC13D;CRISP3;ACPP;GLIPR1;ARHGAP9;TTR;CD14;CXCL6;LRG1;ALDH3B1;AMPD3;CHI3L1;SLC27A2;FRMPD3;SELL;ITGB2;ABCA13;PLD1;TYROBP;C5AR1;CFD;ACE;CRACR2A;SERPINA3;TMEM173;OSCAR;ATP8B4;NCKAP1L;HFE;ORM2;PTAFR;CD36;PLAC8;CXCL1;DOCK2;ALOX5;LILRB3;TNFRSF1B;PECAM1;ADGRG3;CD53;NFAM1;CLEC4D;BPI;CHIT1;LRRC7;CD68;HK3;TNFAIP6;LCN2;PLA2G1B;MS4A3;FOLR3;TRPM2;OLR1;PTPRB;HPSE;CTSS;GPR84;PRTN3;FRK;TLR2;LRMP;LAIR1;AHSG;IL6;PKP1;FGR;CXCR2;SIGLEC9;PTPRC;ORM1;SERPINA1;RAB44;CEACAM1;ITGAM;CR1;TCN1;CD93;SLC15A4;ITGAX;LILRB2;CYBB;CEACAM8;MGAM;FCAR;SLC2A5;OLFM4;CEACAM6;PIGR;P2RX1;SLC11A1;ITGAL</td>\n",
       "      <td>EEF1A1;FTL;TUBB;PPIA;PKM;MIF;HSP90AB1;FTH1;NME2;EEF2;HSPA8;GSTP1;HMGB1;HSP90AA1;SRP14;DYNLL1;ALDOA;ILF2;TUBB4B;PGAM1;S100A11;RHOA;FABP5;XRCC5;PSMB1;PSAP;CD63;IMPDH2;CCT2;XRCC6;CCT8;PSMB7;PRDX6;GDI2;NDUFC2;CSNK2B;RAC1;PA2G4;PSMA2;GRN;VCP;DDOST;ANXA2;COTL1;PSMC3;ATP6V0C;PRDX4;PSMD7;CYBA;CTSD;LAMTOR1;RAB7A;CST3;PSMD2;TRAPPC1;PSMD13;CKAP4;PSMD3;PGRMC1;MGST1;PSMD14;CYB5R3;KPNB1;NPC2;CNN2;DYNLT1;VAPA;APRT;PSMD6;SURF4;ACTR2;TXNDC5;RAB5C;PDAP1;GGH;BRI3;LAMP1;PSMC2;VAT1;LTA4H;LAMTOR2;B2M;CTSC;SLC2A3;IDH1;PFKL;GSN;DDX3X;NCSTN;MLEC;CAP1;ATP6V1D</td>\n",
       "    </tr>\n",
       "    <tr>\n",
       "      <td>negative regulation of apoptotic process (GO:0043066)</td>\n",
       "      <td>0.842825</td>\n",
       "      <td>1.121519</td>\n",
       "      <td>0.046</td>\n",
       "      <td>0.718557</td>\n",
       "      <td>486</td>\n",
       "      <td>450</td>\n",
       "      <td>MT-RNR2;RPS3A;RPL10;TPT1;RPS27A;UBA52;NPM1;MIF;UBB;CFL1;NME2;GSTP1;YWHAE;HSPD1;PRDX2;HSP90B1;SET;SOD1;ANXA5;APOE;PRDX5;UBC;HNRNPK;PHB2;HIGD2A;DNAJA1;BEX3;HDAC2;GPX1;PARK7;ARL6IP1;ITGB1;PA2G4;PRDX3;HSPA5;PRELID1;ARHGDIA;NGFR;KRT18;CTNNB1;ARF4;GLO1;YWHAZ;LAMTOR5;TMBIM6;HSPA9;CDK1;QARS;HIGD1A;CD74;TAF9;FLNA;HMGA2;HSPB1;TXNDC5;PLK1;CITED2;MAD2L1;TP53;PRKDC;BIRC5;AKT1;MCL1;MYDGF;COPS5;ERBB3;DDX3X;PPIF;SNAI2;TRIAP1;HDAC3;TLE1;NUP62;GOLPH3;DHCR24;YME1L1;TFAP2B;ZFAND6;PTRH2;HSPA1A;BAG1;MAEA;CIAPIN1;DNAJB6;RAF1;HDAC1;TMEM14A;NAA38;CASP3;SOX9;HAX1;ANXA1;THOC6;XBP1;PSMD10;ITGA5;MSH2;EPHB4;AATF;API5;BNIP3L;FGFR1;RYK;ATAD3A;PDCD10;DDAH2;PPT1;TAF9B;UFM1;PCID2;SON;SPRY2;SHC1;IGBP1;TFAP2A;LGMN;SRC;APIP;ANKLE2;SOX8;ARAF;BCL2L1;SQSTM1;IFI6;BFAR;CCND2;SPHK1;SFRP1;PIM3;ROR1;AKT2;MAP4K4;GREM1;ERBB2;CSNK2A1;BABAM2;LEF1;HSPA1B;PAK2;AAMDC;PINK1;DDRGK1;TNFRSF10B;CIB1;NFKBIA;ATF5;SUPV3L1;ROR2;VHL;BIRC2;RELA;NOTCH1;SERPINB9;NAA15;PTK2;FXN;EPHA2;PSEN1;CASP2;NOTCH2;BNIP3;ERCC2;TYRO3;ZNF830;HMGN5;MGMT;STAT3;AVEN;BIRC6;DDR1;RPS6KB1;GSK3B;PRKCD;BNIP2;MIEN1;PRKCI;USP47;WDR73;F2R;PIM1;TMBIM4;SNCA;BCL2L2;BAG3;BNIP1;BID;BMP4;ASNS;MBD4;SOD2;SIRT1;SIAH2;PAX7;EPHA7;MTDH;DLL1;RPS6KA1;DFFA;PIK3R1;KDM2B;WFS1;AREL1;DKK1;CCL2;TDGF1;FGFR2;BAG4;NAA35;PLK2;FGFR3;MYD88;MRE11;TNFRSF10D;TOPORS;IGF2;NAA16;MAPK8;MAP2K5;GAS6;STIL;CBL;SPHK2;BARD1;PHIP;PRKAA1;PIM2;EPHB3;KLHL20;IGF1R;SETX;RASA1;DNAJC3;AXL;CLN3;NKX2-5;DAB2;IRAK1;ERCC5;TOX3;FZD3;ZNF16;OPA1;VEGFA;PDGFRB;RIPK2;PRKCA;GCLC;FGFR4;SOCS2;PIDD1;ZNF268;RPS6KA3;EPHB1;MYO18A;ERC1;NUAK2;NFKB1;PLAUR;SIX4;EPHA4;ZNF304;KDR;POU4F1;PDPN;ITCH;LMTK2;GRK5;EPHB2;KIF14;CRLF1;CDKN2D;MEF2C;ANGPTL4;CBX4;MYC;MALT1;RHBDD1;SH3RF1;GATA6;THBS1;VSTM2L;ISL1;PDGFRA;SMAD6;KIT;BRAF;FOXO1;FIGNL1;FOXB1;PSEN2;TNFAIP8;ARHGAP10;TBX1;TBX3;CTSH;CAT;XIAP;IKBKB;FLT4;NAIP;MMP9;DHRS2;EPHA1;ZC3H12A;LIG4;BHLHB9;PLK3;TRAF6;NTRK3;HYPK;WNT5A;NOL3;HTATIP2;SEMA4D;MAPK8IP2;CRYAB;NTF4;MYCNOS;NRBP2;RET;FNIP1;PAX2;IL6ST;DSTYK;AHI1;MERTK;EPHB6;UNC5B;FHL2;SIX1;WNT1;FOXE3;CFLAR;NDNF;PIK3CA;PTK2B;TNFRSF10C;IL2RB;ANXA4;WNK3;INSR;HIPK3;SCX;ASCL1;CD44;ADAM8;TIE1;CLCF1;PRKCG;FZD9;FAS;CAV1;FANK1;NTF3;BCL3;CITED1;SFN;FLT1;PRKAA2;CAPN3;CPEB4;IFIT3;NGF;TEK;BIRC7;PROC;WNT11;PRKCH;CNTF;PRKN;EGFR;BCL2;GHRL;TGFB3;EPHA6;OSR1;FMN2;AZU1;COMP;TIAF1;NTRK1;NTRK2;HPN;EGR3;DPEP1;KLF4;NR4A2;ALK;PRAME;MST1R;RNF144B;AGAP2;AQP1;MET;FAIM2;ALB;PPARGC1A;CARD14;POU3F3;EPHA8;FGF20;NCKAP1L;HGF;HCLS1;HCK;EPHA3;DDR2;ANGPT1;AVP;TP73;BDNF;TNFRSF1B;GDNF;TNFRSF10A;ALOX12;PKHD1;CRYAA;ANGPT4;PRLR;SHH;VTCN1;POU3F4;TSLP;PROK2;RETREG1;CIDEA;BIRC3;IGF1;ERBB4;TCL1A;INSRR;FATE1;CD27;LAMP3;IL6;CD38;PDK4;EPHA10;IL31RA;FFAR4;MUSK;LTK;WT1;NTSR1;FLT3;MAGEA3;CSF1R;SLC30A10;EPHA5;NUGGC</td>\n",
       "      <td>MT-RNR2;RPS3A;RPL10;TPT1;RPS27A;UBA52;NPM1;MIF;UBB;CFL1;NME2;GSTP1;YWHAE;HSPD1;PRDX2;HSP90B1;SET;SOD1;ANXA5;APOE;PRDX5;UBC;HNRNPK;PHB2;HIGD2A;DNAJA1;BEX3;HDAC2;GPX1;PARK7;ARL6IP1;ITGB1;PA2G4;PRDX3;HSPA5;PRELID1;ARHGDIA;NGFR;KRT18;CTNNB1;ARF4;GLO1;YWHAZ;LAMTOR5;TMBIM6;HSPA9;CDK1;QARS;HIGD1A;CD74;TAF9;FLNA;HMGA2;HSPB1;TXNDC5;PLK1;CITED2;MAD2L1;TP53;PRKDC;BIRC5;AKT1;MCL1;MYDGF;COPS5;ERBB3;DDX3X;PPIF;SNAI2;TRIAP1;HDAC3;TLE1;NUP62;GOLPH3;DHCR24;YME1L1;TFAP2B;ZFAND6;PTRH2;HSPA1A;BAG1;MAEA;CIAPIN1;DNAJB6;RAF1</td>\n",
       "    </tr>\n",
       "  </tbody>\n",
       "</table>"
      ],
      "text/plain": [
       "<IPython.core.display.HTML object>"
      ]
     },
     "metadata": {},
     "output_type": "display_data"
    }
   ],
   "source": [
    "# https://stackoverflow.com/a/35693013/4586180\n",
    "# display data frame with out index column\n",
    "# from IPython.display import display, HTML\n",
    "# display(HTML(sortedDF.iloc[0:20, :].to_html(index=False)))"
   ]
  },
  {
   "cell_type": "code",
   "execution_count": 36,
   "metadata": {},
   "outputs": [
    {
     "data": {
      "text/plain": [
       "<matplotlib.image.AxesImage at 0x7fb70aca55d0>"
      ]
     },
     "execution_count": 36,
     "metadata": {},
     "output_type": "execute_result"
    },
    {
     "data": {
      "image/png": "[encoded data removed]",
      "text/plain": [
       "<Figure size 720x720 with 1 Axes>"
      ]
     },
     "metadata": {
      "needs_background": "light"
     },
     "output_type": "display_data"
    }
   ],
   "source": [
    "import matplotlib.pyplot as plt\n",
    "import matplotlib.image as mpimg\n",
    "\n",
    "plt.figure(figsize=(10,10))\n",
    "# plot a random image. I do not know this plot was generated\n",
    "imgPath = gseaOutDir.joinpath(\"regulation of interleukin-18 production (GO_0032661).prerank.png\")\n",
    "img = mpimg.imread(str(imgPath) )\n",
    "plt.imshow(img)"
   ]
  }
 ],
 "metadata": {
  "kernelspec": {
   "display_name": "Python 3",
   "language": "python",
   "name": "python3"
  },
  "language_info": {
   "codemirror_mode": {
    "name": "ipython",
    "version": 3
   },
   "file_extension": ".py",
   "mimetype": "text/x-python",
   "name": "python",
   "nbconvert_exporter": "python",
   "pygments_lexer": "ipython3",
   "version": "3.7.6"
  }
 },
 "nbformat": 4,
 "nbformat_minor": 4
}
