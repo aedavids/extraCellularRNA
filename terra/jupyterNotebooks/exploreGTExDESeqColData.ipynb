{
 "cells": [
  {
   "cell_type": "markdown",
   "id": "1fc337be",
   "metadata": {},
   "source": [
    "# Explore GTEx Col Data\n",
    "Should our 1 vs all DESeq design model variable of interest be 'tissue_id' or 'tissue_site'?\n",
    "\n",
    "```\n",
    "Andrew Davidson\n",
    "aedavids@ucsc.edu\n",
    "1/24/22\n",
    "```"
   ]
  },
  {
   "cell_type": "code",
   "execution_count": 1,
   "id": "c7700436",
   "metadata": {},
   "outputs": [],
   "source": [
    "import numpy as np\n",
    "import pandas as pd\n",
    "import pathlib as pl\n",
    "\n",
    "GTExTrainColDataFile = \"../../../terraDataModels/test-aedavids-proj/AnVIL_GTEx_V8_hg38_edu_ucsc_kim_lab/createDESeqData.output/GTEx-trainColData.csv\"\n",
    "# rootDir = pl.Path( \"../../../terraDataModels/test-aedavids-proj/AnVIL_GTEx_V8_hg38_edu_ucsc_kim_lab\" )\n",
    "# outputDir = rootDir.joinpath(  \"createDESeqData.output\" )\n",
    "# outputDir.mkdir(exist_ok=True)\n",
    "# outfilePrefix = \"GTEx\""
   ]
  },
  {
   "cell_type": "code",
   "execution_count": null,
   "id": "5d720c68",
   "metadata": {},
   "outputs": [],
   "source": [
    "todo fix the name, replace white space with - replace _ with -"
   ]
  },
  {
   "cell_type": "code",
   "execution_count": 2,
   "id": "c0f869fe",
   "metadata": {},
   "outputs": [
    {
     "data": {
      "text/html": [
       "<div>\n",
       "<style scoped>\n",
       "    .dataframe tbody tr th:only-of-type {\n",
       "        vertical-align: middle;\n",
       "    }\n",
       "\n",
       "    .dataframe tbody tr th {\n",
       "        vertical-align: top;\n",
       "    }\n",
       "\n",
       "    .dataframe thead th {\n",
       "        text-align: right;\n",
       "    }\n",
       "</style>\n",
       "<table border=\"1\" class=\"dataframe\">\n",
       "  <thead>\n",
       "    <tr style=\"text-align: right;\">\n",
       "      <th></th>\n",
       "      <th>sample_id</th>\n",
       "      <th>participant_id</th>\n",
       "      <th>tissue_id</th>\n",
       "      <th>tissue_site_detail</th>\n",
       "      <th>sex</th>\n",
       "      <th>age</th>\n",
       "    </tr>\n",
       "  </thead>\n",
       "  <tbody>\n",
       "    <tr>\n",
       "      <th>0</th>\n",
       "      <td>GTEX-1117F-0226-SM-5GZZ7</td>\n",
       "      <td>GTEX-1117F</td>\n",
       "      <td>Adipose_Subcutaneous</td>\n",
       "      <td>Adipose - Subcutaneous</td>\n",
       "      <td>Female</td>\n",
       "      <td>66</td>\n",
       "    </tr>\n",
       "    <tr>\n",
       "      <th>1</th>\n",
       "      <td>GTEX-1117F-0526-SM-5EGHJ</td>\n",
       "      <td>GTEX-1117F</td>\n",
       "      <td>Artery_Tibial</td>\n",
       "      <td>Artery - Tibial</td>\n",
       "      <td>Female</td>\n",
       "      <td>66</td>\n",
       "    </tr>\n",
       "    <tr>\n",
       "      <th>2</th>\n",
       "      <td>GTEX-1117F-0726-SM-5GIEN</td>\n",
       "      <td>GTEX-1117F</td>\n",
       "      <td>Heart_Atrial_Appendage</td>\n",
       "      <td>Heart - Atrial Appendage</td>\n",
       "      <td>Female</td>\n",
       "      <td>66</td>\n",
       "    </tr>\n",
       "    <tr>\n",
       "      <th>3</th>\n",
       "      <td>GTEX-1117F-2826-SM-5GZXL</td>\n",
       "      <td>GTEX-1117F</td>\n",
       "      <td>Breast_Mammary_Tissue</td>\n",
       "      <td>Breast - Mammary Tissue</td>\n",
       "      <td>Female</td>\n",
       "      <td>66</td>\n",
       "    </tr>\n",
       "    <tr>\n",
       "      <th>4</th>\n",
       "      <td>GTEX-1117F-3226-SM-5N9CT</td>\n",
       "      <td>GTEX-1117F</td>\n",
       "      <td>Brain_Cortex</td>\n",
       "      <td>Brain - Cortex</td>\n",
       "      <td>Female</td>\n",
       "      <td>66</td>\n",
       "    </tr>\n",
       "  </tbody>\n",
       "</table>\n",
       "</div>"
      ],
      "text/plain": [
       "                  sample_id participant_id               tissue_id  \\\n",
       "0  GTEX-1117F-0226-SM-5GZZ7     GTEX-1117F    Adipose_Subcutaneous   \n",
       "1  GTEX-1117F-0526-SM-5EGHJ     GTEX-1117F           Artery_Tibial   \n",
       "2  GTEX-1117F-0726-SM-5GIEN     GTEX-1117F  Heart_Atrial_Appendage   \n",
       "3  GTEX-1117F-2826-SM-5GZXL     GTEX-1117F   Breast_Mammary_Tissue   \n",
       "4  GTEX-1117F-3226-SM-5N9CT     GTEX-1117F            Brain_Cortex   \n",
       "\n",
       "         tissue_site_detail     sex  age  \n",
       "0    Adipose - Subcutaneous  Female   66  \n",
       "1           Artery - Tibial  Female   66  \n",
       "2  Heart - Atrial Appendage  Female   66  \n",
       "3   Breast - Mammary Tissue  Female   66  \n",
       "4            Brain - Cortex  Female   66  "
      ]
     },
     "execution_count": 2,
     "metadata": {},
     "output_type": "execute_result"
    }
   ],
   "source": [
    "colDataDF = pd.read_csv(GTExTrainColDataFile)\n",
    "colDataDF.head()"
   ]
  },
  {
   "cell_type": "code",
   "execution_count": 5,
   "id": "fa372250",
   "metadata": {},
   "outputs": [
    {
     "name": "stdout",
     "output_type": "stream",
     "text": [
      "51\n"
     ]
    },
    {
     "data": {
      "text/plain": [
       "array(['Adipose_Subcutaneous', 'Artery_Tibial', 'Heart_Atrial_Appendage',\n",
       "       'Breast_Mammary_Tissue', 'Brain_Cortex', 'Lung', 'Spleen',\n",
       "       'Pancreas', 'Esophagus_Muscularis',\n",
       "       'Esophagus_Gastroesophageal_Junction',\n",
       "       'Skin_Not_Sun_Exposed_Suprapubic',\n",
       "       'Small_Intestine_Terminal_Ileum', 'Colon_Transverse', 'Testis',\n",
       "       'Nerve_Tibial', 'Skin_Sun_Exposed_Lower_leg', 'Muscle_Skeletal',\n",
       "       'Heart_Left_Ventricle', 'Prostate', 'Minor_Salivary_Gland',\n",
       "       'Brain_Cerebellum', 'Thyroid', 'Cells_Cultured_fibroblasts',\n",
       "       'Adrenal_Gland', 'Adipose_Visceral_Omentum',\n",
       "       'Cells_EBV-transformed_lymphocytes', 'Whole_Blood', 'Artery_Aorta',\n",
       "       'Esophagus_Mucosa', 'Stomach', 'Vagina', 'Uterus', 'Pituitary',\n",
       "       'Colon_Sigmoid', 'Brain_Frontal_Cortex_BA9',\n",
       "       'Brain_Nucleus_accumbens_basal_ganglia',\n",
       "       'Brain_Putamen_basal_ganglia', 'Brain_Hypothalamus',\n",
       "       'Brain_Hippocampus', 'Artery_Coronary',\n",
       "       'Brain_Cerebellar_Hemisphere', 'Liver',\n",
       "       'Brain_Caudate_basal_ganglia', 'Brain_Substantia_nigra',\n",
       "       'Brain_Anterior_cingulate_cortex_BA24',\n",
       "       'Brain_Spinal_cord_cervical_c-1', 'Ovary', 'Kidney_Cortex',\n",
       "       'Brain_Amygdala', 'Bladder', 'Cervix_Endocervix'], dtype=object)"
      ]
     },
     "execution_count": 5,
     "metadata": {},
     "output_type": "execute_result"
    }
   ],
   "source": [
    "uniqueTissueIdNP = colDataDF[\"tissue_id\"].unique()\n",
    "print(len(uniqueTissueIdNP))\n",
    "uniqueTissueIdNP"
   ]
  },
  {
   "cell_type": "code",
   "execution_count": 10,
   "id": "1ac0ae21",
   "metadata": {},
   "outputs": [
    {
     "name": "stdout",
     "output_type": "stream",
     "text": [
      "51\n"
     ]
    },
    {
     "data": {
      "text/plain": [
       "array(['Adipose - Subcutaneous', 'Artery - Tibial',\n",
       "       'Heart - Atrial Appendage', 'Breast - Mammary Tissue',\n",
       "       'Brain - Cortex', 'Lung', 'Spleen', 'Pancreas',\n",
       "       'Esophagus - Muscularis', 'Esophagus - Gastroesophageal Junction',\n",
       "       'Skin - Not Sun Exposed (Suprapubic)',\n",
       "       'Small Intestine - Terminal Ileum', 'Colon - Transverse', 'Testis',\n",
       "       'Nerve - Tibial', 'Skin - Sun Exposed (Lower leg)',\n",
       "       'Muscle - Skeletal', 'Heart - Left Ventricle', 'Prostate',\n",
       "       'Minor Salivary Gland', 'Brain - Cerebellum', 'Thyroid',\n",
       "       'Cells - Cultured fibroblasts', 'Adrenal Gland',\n",
       "       'Adipose - Visceral (Omentum)',\n",
       "       'Cells - EBV-transformed lymphocytes', 'Whole Blood',\n",
       "       'Artery - Aorta', 'Esophagus - Mucosa', 'Stomach', 'Vagina',\n",
       "       'Uterus', 'Pituitary', 'Colon - Sigmoid',\n",
       "       'Brain - Frontal Cortex (BA9)',\n",
       "       'Brain - Nucleus accumbens (basal ganglia)',\n",
       "       'Brain - Putamen (basal ganglia)', 'Brain - Hypothalamus',\n",
       "       'Brain - Hippocampus', 'Artery - Coronary',\n",
       "       'Brain - Cerebellar Hemisphere', 'Liver',\n",
       "       'Brain - Caudate (basal ganglia)', 'Brain - Substantia nigra',\n",
       "       'Brain - Anterior cingulate cortex (BA24)',\n",
       "       'Brain - Spinal cord (cervical c-1)', 'Ovary', 'Kidney - Cortex',\n",
       "       'Brain - Amygdala', 'Bladder', 'Cervix - Endocervix'], dtype=object)"
      ]
     },
     "execution_count": 10,
     "metadata": {},
     "output_type": "execute_result"
    }
   ],
   "source": [
    "uniqueTissueSiteNP = colDataDF[\"tissue_site_detail\"].unique()\n",
    "print(len(uniqueTissueSiteNP))\n",
    "uniqueTissueSiteNP"
   ]
  },
  {
   "cell_type": "code",
   "execution_count": 11,
   "id": "307e084b",
   "metadata": {},
   "outputs": [
    {
     "data": {
      "text/plain": [
       "38"
      ]
     },
     "execution_count": 11,
     "metadata": {},
     "output_type": "execute_result"
    }
   ],
   "source": [
    "rows = uniqueTissueIdNP != uniqueTissueSiteNP \n",
    "sum(rows)"
   ]
  },
  {
   "cell_type": "code",
   "execution_count": 21,
   "id": "fd6e2c3a",
   "metadata": {},
   "outputs": [
    {
     "name": "stdout",
     "output_type": "stream",
     "text": [
      "8152\n"
     ]
    },
    {
     "data": {
      "text/html": [
       "<div>\n",
       "<style scoped>\n",
       "    .dataframe tbody tr th:only-of-type {\n",
       "        vertical-align: middle;\n",
       "    }\n",
       "\n",
       "    .dataframe tbody tr th {\n",
       "        vertical-align: top;\n",
       "    }\n",
       "\n",
       "    .dataframe thead th {\n",
       "        text-align: right;\n",
       "    }\n",
       "</style>\n",
       "<table border=\"1\" class=\"dataframe\">\n",
       "  <thead>\n",
       "    <tr style=\"text-align: right;\">\n",
       "      <th></th>\n",
       "      <th>sample_id</th>\n",
       "      <th>participant_id</th>\n",
       "      <th>tissue_id</th>\n",
       "      <th>tissue_site_detail</th>\n",
       "      <th>sex</th>\n",
       "      <th>age</th>\n",
       "    </tr>\n",
       "  </thead>\n",
       "  <tbody>\n",
       "    <tr>\n",
       "      <th>0</th>\n",
       "      <td>GTEX-1117F-0226-SM-5GZZ7</td>\n",
       "      <td>GTEX-1117F</td>\n",
       "      <td>Adipose_Subcutaneous</td>\n",
       "      <td>Adipose - Subcutaneous</td>\n",
       "      <td>Female</td>\n",
       "      <td>66</td>\n",
       "    </tr>\n",
       "    <tr>\n",
       "      <th>1</th>\n",
       "      <td>GTEX-1117F-0526-SM-5EGHJ</td>\n",
       "      <td>GTEX-1117F</td>\n",
       "      <td>Artery_Tibial</td>\n",
       "      <td>Artery - Tibial</td>\n",
       "      <td>Female</td>\n",
       "      <td>66</td>\n",
       "    </tr>\n",
       "    <tr>\n",
       "      <th>2</th>\n",
       "      <td>GTEX-1117F-0726-SM-5GIEN</td>\n",
       "      <td>GTEX-1117F</td>\n",
       "      <td>Heart_Atrial_Appendage</td>\n",
       "      <td>Heart - Atrial Appendage</td>\n",
       "      <td>Female</td>\n",
       "      <td>66</td>\n",
       "    </tr>\n",
       "    <tr>\n",
       "      <th>3</th>\n",
       "      <td>GTEX-1117F-2826-SM-5GZXL</td>\n",
       "      <td>GTEX-1117F</td>\n",
       "      <td>Breast_Mammary_Tissue</td>\n",
       "      <td>Breast - Mammary Tissue</td>\n",
       "      <td>Female</td>\n",
       "      <td>66</td>\n",
       "    </tr>\n",
       "    <tr>\n",
       "      <th>4</th>\n",
       "      <td>GTEX-1117F-3226-SM-5N9CT</td>\n",
       "      <td>GTEX-1117F</td>\n",
       "      <td>Brain_Cortex</td>\n",
       "      <td>Brain - Cortex</td>\n",
       "      <td>Female</td>\n",
       "      <td>66</td>\n",
       "    </tr>\n",
       "    <tr>\n",
       "      <th>...</th>\n",
       "      <td>...</td>\n",
       "      <td>...</td>\n",
       "      <td>...</td>\n",
       "      <td>...</td>\n",
       "      <td>...</td>\n",
       "      <td>...</td>\n",
       "    </tr>\n",
       "    <tr>\n",
       "      <th>10403</th>\n",
       "      <td>GTEX-ZZPT-1426-SM-5N9C5</td>\n",
       "      <td>GTEX-ZZPT</td>\n",
       "      <td>Esophagus_Mucosa</td>\n",
       "      <td>Esophagus - Mucosa</td>\n",
       "      <td>Male</td>\n",
       "      <td>53</td>\n",
       "    </tr>\n",
       "    <tr>\n",
       "      <th>10404</th>\n",
       "      <td>GTEX-ZZPU-0326-SM-5N9BJ</td>\n",
       "      <td>GTEX-ZZPU</td>\n",
       "      <td>Adipose_Visceral_Omentum</td>\n",
       "      <td>Adipose - Visceral (Omentum)</td>\n",
       "      <td>Female</td>\n",
       "      <td>50</td>\n",
       "    </tr>\n",
       "    <tr>\n",
       "      <th>10407</th>\n",
       "      <td>GTEX-ZZPU-0926-SM-5GZYT</td>\n",
       "      <td>GTEX-ZZPU</td>\n",
       "      <td>Heart_Left_Ventricle</td>\n",
       "      <td>Heart - Left Ventricle</td>\n",
       "      <td>Female</td>\n",
       "      <td>50</td>\n",
       "    </tr>\n",
       "    <tr>\n",
       "      <th>10408</th>\n",
       "      <td>GTEX-ZZPU-1126-SM-5N9CW</td>\n",
       "      <td>GTEX-ZZPU</td>\n",
       "      <td>Heart_Atrial_Appendage</td>\n",
       "      <td>Heart - Atrial Appendage</td>\n",
       "      <td>Female</td>\n",
       "      <td>50</td>\n",
       "    </tr>\n",
       "    <tr>\n",
       "      <th>10410</th>\n",
       "      <td>GTEX-ZZPU-2726-SM-5NQ8O</td>\n",
       "      <td>GTEX-ZZPU</td>\n",
       "      <td>Adipose_Subcutaneous</td>\n",
       "      <td>Adipose - Subcutaneous</td>\n",
       "      <td>Female</td>\n",
       "      <td>50</td>\n",
       "    </tr>\n",
       "  </tbody>\n",
       "</table>\n",
       "<p>8152 rows × 6 columns</p>\n",
       "</div>"
      ],
      "text/plain": [
       "                      sample_id participant_id                 tissue_id  \\\n",
       "0      GTEX-1117F-0226-SM-5GZZ7     GTEX-1117F      Adipose_Subcutaneous   \n",
       "1      GTEX-1117F-0526-SM-5EGHJ     GTEX-1117F             Artery_Tibial   \n",
       "2      GTEX-1117F-0726-SM-5GIEN     GTEX-1117F    Heart_Atrial_Appendage   \n",
       "3      GTEX-1117F-2826-SM-5GZXL     GTEX-1117F     Breast_Mammary_Tissue   \n",
       "4      GTEX-1117F-3226-SM-5N9CT     GTEX-1117F              Brain_Cortex   \n",
       "...                         ...            ...                       ...   \n",
       "10403   GTEX-ZZPT-1426-SM-5N9C5      GTEX-ZZPT          Esophagus_Mucosa   \n",
       "10404   GTEX-ZZPU-0326-SM-5N9BJ      GTEX-ZZPU  Adipose_Visceral_Omentum   \n",
       "10407   GTEX-ZZPU-0926-SM-5GZYT      GTEX-ZZPU      Heart_Left_Ventricle   \n",
       "10408   GTEX-ZZPU-1126-SM-5N9CW      GTEX-ZZPU    Heart_Atrial_Appendage   \n",
       "10410   GTEX-ZZPU-2726-SM-5NQ8O      GTEX-ZZPU      Adipose_Subcutaneous   \n",
       "\n",
       "                 tissue_site_detail     sex  age  \n",
       "0            Adipose - Subcutaneous  Female   66  \n",
       "1                   Artery - Tibial  Female   66  \n",
       "2          Heart - Atrial Appendage  Female   66  \n",
       "3           Breast - Mammary Tissue  Female   66  \n",
       "4                    Brain - Cortex  Female   66  \n",
       "...                             ...     ...  ...  \n",
       "10403            Esophagus - Mucosa    Male   53  \n",
       "10404  Adipose - Visceral (Omentum)  Female   50  \n",
       "10407        Heart - Left Ventricle  Female   50  \n",
       "10408      Heart - Atrial Appendage  Female   50  \n",
       "10410        Adipose - Subcutaneous  Female   50  \n",
       "\n",
       "[8152 rows x 6 columns]"
      ]
     },
     "execution_count": 21,
     "metadata": {},
     "output_type": "execute_result"
    }
   ],
   "source": [
    "rows = colDataDF[\"tissue_id\"] != colDataDF[\"tissue_site_detail\"]\n",
    "print(sum(rows))\n",
    "colDataDF.loc[rows, :]"
   ]
  },
  {
   "cell_type": "code",
   "execution_count": null,
   "id": "b7005953",
   "metadata": {},
   "outputs": [],
   "source": []
  }
 ],
 "metadata": {
  "kernelspec": {
   "display_name": "Python [conda env:extraCellularRNA] *",
   "language": "python",
   "name": "conda-env-extraCellularRNA-py"
  },
  "language_info": {
   "codemirror_mode": {
    "name": "ipython",
    "version": 3
   },
   "file_extension": ".py",
   "mimetype": "text/x-python",
   "name": "python",
   "nbconvert_exporter": "python",
   "pygments_lexer": "ipython3",
   "version": "3.7.6"
  }
 },
 "nbformat": 4,
 "nbformat_minor": 5
}
