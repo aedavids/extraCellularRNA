{
 "cells": [
  {
   "cell_type": "markdown",
   "metadata": {},
   "source": [
    "# Create Count Matrices\n",
    "```\n",
    "Andrew E. Davidson\n",
    "aedavids@ucsc.edu\n",
    "```\n",
    "\n",
    "**prerequisites:**\n",
    "1. you have already run Salmon in one or more workspaces. \n",
    "2. you have create \"localization scripts\"\n",
    "    - these scripts are used to copy the salmon quant.sf files to the local VM\n",
    "    - the quant.sf file can be gz compressed\n",
    "    - a simple script would use gsutil -m cp\n",
    "    ```\n",
    "    gsutil -m cp gs://fc-secure-8a69fc00-b6c9-4179-aee5-f1e47a4475dd/34b2bbfb-4f9a-41d4-bfd8-b55a8e1987de/quantify/00a77c33-e6d7-44a0-8638-61a6c3e2d1fd/call-salmon_paired_reads/attempt-2/READ-G5-6641-TP.quant.sf.gz ./TCGA_READ_ControlledAccess_V1-0_DATA_edu_ucsc_kim_lab/\n",
    "    ```\n",
    "3. the quant.sf file names are of the form 'sampleName.quant.sf' or 'sampleName.quant.sf.gz'\n",
    "    - for example: READ-AF-2689-NT.quant.sf \n",
    "    \n",
    "**for each localization script**\n",
    "- if matrix.tsv does not exist in workspace bucket\n",
    "     * copys quant.sf files to local VM\n",
    "     * use cut and paste to create a matrix in tsv format from the NumReads column in the quant.sf files\n",
    "     * copys th matrix tsv file to the current workspace bucket.\n",
    "\n",
    "Note: the first column name will be 'name' the remaining will column names will be the sample Names. The first column will have the names column from the quant.sf file the remaining elements in the matrix will be the count values. the columns will be sorted by sample name\n",
    "\n",
    "**useful environmental vars**\n",
    "```\n",
    "WORKSPACE_BUCKET=gs://fc-e15b796f-1abe-4206-ab91-bd58374cc275\n",
    "WORKSPACE_NAME=uber\n",
    "WORKSPACE_NAMESPACE=test-aedavids-proj\n",
    "```\n",
    "\n",
    "\n",
    "\n",
    "## Request for enchancement\n",
    "like juypter notebooks by default terra/wdl command should have access to gsutil with out having to create a special\n",
    "docker image that contains gsutil and all the magic required to authenticate. No architecture, design or framework is perfect, that is say can handle all use cases. It is important to have an \"escape hatch to lower levels of framework and system\". It should be possible to mount the gsutil and auth tokens in the 'docker run' cmd\n",
    "\n",
    "Another possible implementation would be to create another mechanism like wdl' array[File] that take a file where each row is gs:// url and localizes it\n",
    "\n",
    "## Challenges with Terra wdl\n",
    "### approach a: use sample.tsv file \n",
    "    - sample.tsv has an array[file] column \n",
    "    - over 10,000 very long gs urls. Terra support says sql will probably choke\n",
    "    - not manageable\n",
    "### approach b: use input json.\n",
    "        * would require us to generate the json. (we have to do this anyway. to many files)\n",
    "        * disadvantage, would not be repeatable. \n",
    "           + you would have to look at the job results to see what the input was\n",
    "           + we could store the input.json in the workflow bucket\n",
    "### approach C: create a file, each line is the gs:// to a sample to be processed\n",
    "    **This is the best approach** it is repeatable, easy to manage, efficient, and allows parralel creation of 33 required matrices. \n",
    "    * create a 'sample.tsv' with an id for each matrix to be created.\n",
    "    * add a column to contain the url to a file with the list of urls to be combined into the final matrix\n",
    "    * difficult to implemented.\n",
    "    * unlike terra juypter notebooks it would be hard if not impossible to use gsutil in a wld command\n",
    "    * it appears when terra/cromwell does localization on the vm but does not makd the gsutil and authentication available to the container\n",
    "    * <span style=\"color:red\"> This notebook is clumspy POC of this approach</span>\n",
    "        + basically I rewrote stuff cromwell does well. :-( \n",
    "        + this notebook runs the 29 individual workspacs serialy. If this was implemented using\n",
    "        a sample.tsv and wdl they would run in parrallel\n"
   ]
  },
  {
   "cell_type": "code",
   "execution_count": 1,
   "metadata": {
    "scrolled": false
   },
   "outputs": [
    {
     "name": "stdout",
     "output_type": "stream",
     "text": [
      "gs://fc-e15b796f-1abe-4206-ab91-bd58374cc275\r\n"
     ]
    }
   ],
   "source": [
    "!echo $WORKSPACE_BUCKET"
   ]
  },
  {
   "cell_type": "markdown",
   "metadata": {},
   "source": [
    "## Copy scripts from workspace bucket to vm"
   ]
  },
  {
   "cell_type": "code",
   "execution_count": 2,
   "metadata": {
    "scrolled": true
   },
   "outputs": [
    {
     "name": "stdout",
     "output_type": "stream",
     "text": [
      "Copying gs://fc-e15b796f-1abe-4206-ab91-bd58374cc275/bin/cutAndPaste.sh...\n",
      "/ [1 files][  2.4 KiB/  2.4 KiB]                                                \n",
      "Operation completed over 1 objects/2.4 KiB.                                      \n",
      "Copying gs://fc-e15b796f-1abe-4206-ab91-bd58374cc275/bin/localization/TCGA_ACC_ControlledAccess_V1-0_DATA_edu_ucsc_kim_lab_79_copyFromTerraToLocal.sh...\n",
      "Copying gs://fc-e15b796f-1abe-4206-ab91-bd58374cc275/bin/localization/TCGA_BLCA_ControlledAccess_V1-0_DATA_edu_ucsc_kim_lab_427_copyFromTerraToLocal.sh...\n",
      "Copying gs://fc-e15b796f-1abe-4206-ab91-bd58374cc275/bin/localization/TCGA_BRCA_ControlledAccess_V1-0_DATA_edu_ucsc_kim_lab_1181_copyFromTerraToLocal.sh...\n",
      "Copying gs://fc-e15b796f-1abe-4206-ab91-bd58374cc275/bin/localization/TCGA_CESC_ControlledAccess_V1-0_DATA_edu_ucsc_kim_lab_309_copyFromTerraToLocal.sh...\n",
      "Copying gs://fc-e15b796f-1abe-4206-ab91-bd58374cc275/bin/localization/TCGA_CHOL_ControlledAccess_V1-0_DATA_edu_ucsc_kim_lab_45_copyFromTerraToLocal.sh...\n",
      "Copying gs://fc-e15b796f-1abe-4206-ab91-bd58374cc275/bin/localization/TCGA_COAD_ControlledAccess_V1-0_DATA_edu_ucsc_kim_lab_309_copyFromTerraToLocal.sh...\n",
      "Copying gs://fc-e15b796f-1abe-4206-ab91-bd58374cc275/bin/localization/TCGA_ESCA_ControlledAccess_V1-0_DATA_edu_ucsc_kim_lab_196_copyFromTerraToLocal.sh...\n",
      "Copying gs://fc-e15b796f-1abe-4206-ab91-bd58374cc275/bin/localization/TCGA_HNSC_ControlledAccess_V1-0_DATA_edu_ucsc_kim_lab_566_copyFromTerraToLocal.sh...\n",
      "Copying gs://fc-e15b796f-1abe-4206-ab91-bd58374cc275/bin/localization/TCGA_KIRC_ControlledAccess_V1-0_DATA_edu_ucsc_kim_lab_606_copyFromTerraToLocal.sh...\n",
      "Copying gs://fc-e15b796f-1abe-4206-ab91-bd58374cc275/bin/localization/TCGA_KICH_ControlledAccess_V1-0_DATA_edu_ucsc_kim_lab_91_copyFromTerraToLocal.sh...\n",
      "Copying gs://fc-e15b796f-1abe-4206-ab91-bd58374cc275/bin/localization/TCGA_KIRP_ControlledAccess_V1-0_DATA_edu_ucsc_kim_lab_323_copyFromTerraToLocal.sh...\n",
      "Copying gs://fc-e15b796f-1abe-4206-ab91-bd58374cc275/bin/localization/TCGA_MESO_ControlledAccess_V1-0_DATA_edu_ucsc_kim_lab_87_copyFromTerraToLocal.sh...\n",
      "Copying gs://fc-e15b796f-1abe-4206-ab91-bd58374cc275/bin/localization/TCGA_LGG_ControlledAccess_V1-0_DATA_edu_ucsc_kim_lab_530_copyFromTerraToLocal.sh...\n",
      "Copying gs://fc-e15b796f-1abe-4206-ab91-bd58374cc275/bin/localization/TCGA_LIHC_ControlledAccess_V1-0_DATA_edu_ucsc_kim_lab_423_copyFromTerraToLocal.sh...\n",
      "Copying gs://fc-e15b796f-1abe-4206-ab91-bd58374cc275/bin/localization/TCGA_LUAD_ControlledAccess_V1-0_DATA_edu_ucsc_kim_lab_576_copyFromTerraToLocal.sh...\n",
      "Copying gs://fc-e15b796f-1abe-4206-ab91-bd58374cc275/bin/localization/TCGA_OV_ControlledAccess_V1-0_DATA_edu_ucsc_kim_lab_298_copyFromTerraToLocal.sh...\n",
      "Copying gs://fc-e15b796f-1abe-4206-ab91-bd58374cc275/bin/localization/TCGA_PAAD_ControlledAccess_V1-0_DATA_edu_ucsc_kim_lab_183_copyFromTerraToLocal.sh...\n",
      "Copying gs://fc-e15b796f-1abe-4206-ab91-bd58374cc275/bin/localization/TCGA_LUSC_ControlledAccess_V1-0_DATA_edu_ucsc_kim_lab_552_copyFromTerraToLocal.sh...\n",
      "Copying gs://fc-e15b796f-1abe-4206-ab91-bd58374cc275/bin/localization/TCGA_PCPG_ControlledAccess_V1-0_DATA_edu_ucsc_kim_lab_187_copyFromTerraToLocal.sh...\n",
      "Copying gs://fc-e15b796f-1abe-4206-ab91-bd58374cc275/bin/localization/TCGA_PRAD_ControlledAccess_V1-0_DATA_edu_ucsc_kim_lab_550_copyFromTerraToLocal.sh...\n",
      "Copying gs://fc-e15b796f-1abe-4206-ab91-bd58374cc275/bin/localization/TCGA_READ_ControlledAccess_V1-0_DATA_edu_ucsc_kim_lab_105_copyFromTerraToLocal.sh...\n",
      "Copying gs://fc-e15b796f-1abe-4206-ab91-bd58374cc275/bin/localization/TCGA_SKCM_ControlledAccess_V1-0_DATA_edu_ucsc_kim_lab_473_copyFromTerraToLocal.sh...\n",
      "Copying gs://fc-e15b796f-1abe-4206-ab91-bd58374cc275/bin/localization/TCGA_STAD_ControlledAccess_V1-0_DATA_edu_ucsc_kim_lab_411_copyFromTerraToLocal.sh...\n",
      "Copying gs://fc-e15b796f-1abe-4206-ab91-bd58374cc275/bin/localization/TCGA_TGCT_ControlledAccess_V1-0_DATA_edu_ucsc_kim_lab_156_copyFromTerraToLocal.sh...\n",
      "Copying gs://fc-e15b796f-1abe-4206-ab91-bd58374cc275/bin/localization/TCGA_THYM_ControlledAccess_V1-0_DATA_edu_ucsc_kim_lab_122_copyFromTerraToLocal.sh...\n",
      "Copying gs://fc-e15b796f-1abe-4206-ab91-bd58374cc275/bin/localization/TCGA_THCA_ControlledAccess_V1-0_DATA_edu_ucsc_kim_lab_568_copyFromTerraToLocal.sh...\n",
      "Copying gs://fc-e15b796f-1abe-4206-ab91-bd58374cc275/bin/localization/TCGA_UCEC_ControlledAccess_V1-0_DATA_edu_ucsc_kim_lab_201_copyFromTerraToLocal.sh...\n",
      "Copying gs://fc-e15b796f-1abe-4206-ab91-bd58374cc275/bin/localization/TCGA_UCS_ControlledAccess_V1-0_DATA_edu_ucsc_kim_lab_57_copyFromTerraToLocal.sh...\n",
      "Copying gs://fc-e15b796f-1abe-4206-ab91-bd58374cc275/bin/localization/TCGA_UVM_ControlledAccess_V1-0_DATA_edu_ucsc_kim_lab_80_copyFromTerraToLocal.sh...\n",
      "\\ [29/29 files][  2.4 MiB/  2.4 MiB] 100% Done     0.0 B/s                      \n",
      "Operation completed over 29 objects/2.4 MiB.                                     \n",
      "CPU times: user 439 ms, sys: 159 ms, total: 598 ms\n",
      "Wall time: 28.2 s\n"
     ]
    }
   ],
   "source": [
    "%%time\n",
    "! mkdir -p ~/${WORKSPACE_NAME}/bin/localization\n",
    "! gsutil cp ${WORKSPACE_BUCKET}/bin/cutAndPaste.sh ~/${WORKSPACE_NAME}/bin/\n",
    "! gsutil -m cp -r ${WORKSPACE_BUCKET}/bin/localization/ ~/${WORKSPACE_NAME}/bin/"
   ]
  },
  {
   "cell_type": "code",
   "execution_count": 3,
   "metadata": {},
   "outputs": [
    {
     "name": "stdout",
     "output_type": "stream",
     "text": [
      "#!/bin/sh\r\n",
      "\r\n",
      "#\r\n",
      "# return a tsv file. first col header name is 'Name' remain headers\r\n",
      "# are the sample names\r\n",
      "#\r\n",
      "\r\n",
      "if [ \"$#\" -lt 1 ]; then\r\n",
      "    echo \"ERROR arguments are not correct\"\r\n",
      "    echo \"Usage: $0 outputFile\"\r\n",
      "    echo \"create a tsv file from all the salmon quant.sf files in the current directory\"\r\n",
      "    echo \"will uncompress if in gz format\"\r\n",
      "    echo \" example $0 myMatrix; will produce a file myMatrix.tsv\"\r\n",
      "    exit 1\r\n",
      "fi\r\n",
      "\r\n",
      "outputFile=$1\r\n",
      "\r\n",
      "# ref: https://gist.github.com/vncsna/64825d5609c146e80de8b1fd623011ca \r\n",
      "#set -euxo pipefail\r\n",
      "#set -x\r\n",
      "\r\n",
      "\r\n",
      "# check if file is compressed or not\r\n",
      "printf \"uncompressing quant.sf.gz files\\n\"\r\n",
      "for f in `ls *quant.sf*`;\r\n",
      "do\r\n",
      "\r\n",
      "    #printf \"\\n****** $f\"\r\n",
      "    gzip -t $f 2>/dev/null\r\n",
      "    if [ $? -eq 0 ];\r\n",
      "    then\r\n",
      "        gzip -d $f &\r\n",
      "    # else\r\n",
      "    #     printf not a compressed file\r\n",
      "    fi\r\n",
      "\r\n",
      "    # wait for all background processes to complete\r\n",
      "    # to run paste we need to be a big machine. we want to do as much\r\n",
      "    # concurrent processing as possile\r\n",
      "    wait\r\n",
      "    \r\n",
      "done\r\n",
      "\r\n",
      "#\r\n",
      "# example of quant file\r\n",
      "#\r\n",
      "# $ head -n 3 READ-AF-2689-NT.quant.sf \r\n",
      "# Name\tLength\tEffectiveLength\tTPM\tNumReads\r\n",
      "# ENST00000456328.2|ENSG00000223972.5|OTTHUMG00000000961.2|OTTHUMT00000362751.1|DDX11L1-202|DDX11L1|1657|processed_transcript|\t1657\t1490.000\t0.000000.000\r\n",
      "# ENST00000450305.2|ENSG00000223972.5|OTTHUMG00000000961.2|OTTHUMT00000002844.2|DDX11L1-201|DDX11L1|632|transcribed_unprocessed_pseudogene|\t632\t466.0000.000000\t0.000\r\n",
      "\r\n",
      "# cut the numReads column and remove the header line\r\n",
      "printf \"selecting numReads column from quant.sf files \\n\"\r\n",
      "mkdir -p cut.out\r\n",
      "for q in `ls *.quant.sf`;\r\n",
      "do\r\n",
      "    #printf \"\\n****** $q\"\r\n",
      "    sampleName=`echo $q | cut -d . -f 1`\r\n",
      "    sed '1d' $q | cut -f 5 > cut.out/${sampleName} &\r\n",
      "done\r\n",
      "\r\n",
      "# wait for all background processes to complete\r\n",
      "# to run paste we need to be a big machine. we want to do as much\r\n",
      "# concurrent processing as possile\r\n",
      "wait\r\n",
      "\r\n",
      "\r\n",
      "\r\n",
      "#\r\n",
      "# get the transcript names\r\n",
      "#\r\n",
      "quantFile=`ls *.quant.sf | head -n 1`\r\n",
      "sed '1d' ${quantFile} | cut -f 1  > names.txt\r\n",
      "\r\n",
      "#\r\n",
      "# combine into a single table\r\n",
      "#\r\n",
      "printf \"creating the count matrix tsv file \\n\"\r\n",
      "paste names.txt `ls cut.out/* | sort` > tmpTable.tsv\r\n",
      "\r\n",
      "#\r\n",
      "# reconstruct the header line\r\n",
      "#\r\n",
      "\r\n",
      "printf \"Name\" > header.txt\r\n",
      "for s in `ls cut.out/* | sort`;\r\n",
      "do\r\n",
      "    sampleName=`basename $s`\r\n",
      "    printf \"\\t${sampleName}\" >> header.txt\r\n",
      "done\r\n",
      "printf \"\\n\" >> header.txt\r\n",
      "\r\n",
      "# strip out all the new lines to convert column into a row\r\n",
      "#sed -e 's/\\n//g' column.txt > rowHeader.txt\r\n",
      "\r\n",
      "cat header.txt tmpTable.tsv > \"${outputFile}.tsv\"\r\n"
     ]
    }
   ],
   "source": [
    "! cat ~/${WORKSPACE_NAME}/bin/cutAndPaste.sh"
   ]
  },
  {
   "cell_type": "markdown",
   "metadata": {},
   "source": [
    "## localization script\n",
    "copys the quant.sf.gz files from terra workspace buckets to local vm"
   ]
  },
  {
   "cell_type": "code",
   "execution_count": 4,
   "metadata": {
    "scrolled": true
   },
   "outputs": [
    {
     "name": "stdout",
     "output_type": "stream",
     "text": [
      "CPU times: user 4 µs, sys: 3 µs, total: 7 µs\n",
      "Wall time: 9.78 µs\n"
     ]
    }
   ],
   "source": [
    "%%time\n",
    "def localization(copyScript):\n",
    "    #dir = \"~/${WORKSPACE_NAME}/bin/localization/\"\n",
    "#     copyScript = \"TCGA_READ_ControlledAccess_V1-0_DATA_edu_ucsc_kim_lab_105_copyFromTerraToLocal.sh\"\n",
    "\n",
    "    # { } is script magic synatx for expanding variables and concatenation\n",
    "    #! chmod u+x {dir + copyScript}\n",
    "    ! chmod u+x $copyScript\n",
    "    #! ls -l {dir + copyScript}\n",
    "    ! ls -l $copyScript\n",
    "    # run the script. clean up any left over files from previous runs\n",
    "    ! ( \\\n",
    "       mkdir ~/data; \\\n",
    "       cd ~/data; \\\n",
    "       rm -rf *; \\\n",
    "       $copyScript ; \\\n",
    "      )\n",
    "    \n",
    "def testLocalization():\n",
    "    #copyScript = \"TCGA_READ_ControlledAccess_V1-0_DATA_edu_ucsc_kim_lab_105_copyFromTerraToLocal.sh\"\n",
    "    copyScript = \"/home/jupyter/uber/bin/localization/TCGA_ACC_ControlledAccess_V1-0_DATA_edu_ucsc_kim_lab_79_copyFromTerraToLocal.sh\"\n",
    "    localization(copyScript)\n",
    "\n",
    "# this takes a long time\n",
    "#testLocalization()"
   ]
  },
  {
   "cell_type": "markdown",
   "metadata": {},
   "source": [
    "## find terra workspace name the samples originated from"
   ]
  },
  {
   "cell_type": "code",
   "execution_count": 5,
   "metadata": {},
   "outputs": [
    {
     "name": "stdout",
     "output_type": "stream",
     "text": [
      "TCGA_ACC_ControlledAccess_V1-0_DATA_edu_ucsc_kim_lab\n"
     ]
    }
   ],
   "source": [
    "def getSampleWorkspaceName(copyScript):\n",
    "    baseName = copyScript.split(\"/\")[-1]\n",
    "    tmp = baseName.split(\"_copyFromTerraToLocal.sh\")[0]\n",
    "    tokens = tmp.split(\"_\")[:-1]\n",
    "    workSpace = \"_\".join(tokens)\n",
    "    return workSpace\n",
    "    \n",
    "def testGetSampleWorkspaceName():\n",
    "    #copyScript=\"TCGA_READ_ControlledAccess_V1-0_DATA_edu_ucsc_kim_lab_105_copyFromTerraToLocal.sh\"; \n",
    "    copyScript=\"/home/jupyter/uber/bin/localization/TCGA_ACC_ControlledAccess_V1-0_DATA_edu_ucsc_kim_lab_79_copyFromTerraToLocal.sh\"\n",
    "    wsName = getSampleWorkspaceName(copyScript)\n",
    "    print(wsName)\n",
    "    assert wsName == \"TCGA_ACC_ControlledAccess_V1-0_DATA_edu_ucsc_kim_lab\", \"ERROR name did not parse\"\n",
    "\n",
    "testGetSampleWorkspaceName()"
   ]
  },
  {
   "cell_type": "markdown",
   "metadata": {},
   "source": [
    "## Create the matrix"
   ]
  },
  {
   "cell_type": "code",
   "execution_count": 6,
   "metadata": {
    "scrolled": true
   },
   "outputs": [
    {
     "name": "stdout",
     "output_type": "stream",
     "text": [
      "CPU times: user 2 µs, sys: 2 µs, total: 4 µs\n",
      "Wall time: 6.44 µs\n"
     ]
    }
   ],
   "source": [
    "%%time\n",
    "def createMatrix(sampleWorkspace):\n",
    "    # notebook can not expand both local variables and environmental variable\n",
    "    # work around copy enviromental variables to local\n",
    "    tmp = ! echo $WORKSPACE_NAME\n",
    "    currentWorkspace = tmp[0]\n",
    "    \n",
    "    print(\"\\n****** \" + sampleWorkspace)\n",
    "    ! ( \\\n",
    "       chmod +x ~/$currentWorkspace/bin/cutAndPaste.sh; \\\n",
    "       cd ~/data/$sampleWorkspace; \\\n",
    "       ~/uber/bin/cutAndPaste.sh $sampleWorkspace ; \\\n",
    "      )\n",
    "    \n",
    "def testCreateMatrix():\n",
    "    copyScript = \"TCGA_READ_ControlledAccess_V1-0_DATA_edu_ucsc_kim_lab_105_copyFromTerraToLocal.sh\"; \n",
    "    copyScript = \"/home/jupyter/uber/bin/localization/TCGA_ACC_ControlledAccess_V1-0_DATA_edu_ucsc_kim_lab_79_copyFromTerraToLocal.sh\"\n",
    "    sampleWorkSpace = getSampleWorkspaceName(copyScript)\n",
    "    createMatrix(sampleWorkSpace)\n",
    "    ! ls -l ~/data/$sampleWorkSpace/*.tsv\n",
    "\n",
    "    \n",
    "# this take a long time\n",
    "#testCreateMatrix()"
   ]
  },
  {
   "cell_type": "code",
   "execution_count": 7,
   "metadata": {},
   "outputs": [
    {
     "name": "stdout",
     "output_type": "stream",
     "text": [
      "~/data/TCGA_ACC_ControlledAccess_V1-0_DATA_edu_ucsc_kim_lab/TCGA_ACC_ControlledAccess_V1-0_DATA_edu_ucsc_kim_lab.tsv\n",
      "ls: cannot access '/home/jupyter/data/TCGA_ACC_ControlledAccess_V1-0_DATA_edu_ucsc_kim_lab/TCGA_ACC_ControlledAccess_V1-0_DATA_edu_ucsc_kim_lab.tsv': No such file or directory\n"
     ]
    }
   ],
   "source": [
    "def getCountMatrixFilePath(copyScript):\n",
    "    sampleWorkspaceName = getSampleWorkspaceName(copyScript)\n",
    "    countMatrix = \"~/data/\" + sampleWorkspaceName + \"/\" + sampleWorkspaceName + \".tsv\"\n",
    "    return countMatrix\n",
    "\n",
    "def testGetCountMatrixFilePath():\n",
    "    #copyScript=\"TCGA_READ_ControlledAccess_V1-0_DATA_edu_ucsc_kim_lab_105_copyFromTerraToLocal.sh\"; \n",
    "    copyScript = \"/home/jupyter/uber/bin/localization/TCGA_ACC_ControlledAccess_V1-0_DATA_edu_ucsc_kim_lab_79_copyFromTerraToLocal.sh\"\n",
    "\n",
    "    file = getCountMatrixFilePath(copyScript)\n",
    "    print(file)\n",
    "    assert file == \"~/data/TCGA_ACC_ControlledAccess_V1-0_DATA_edu_ucsc_kim_lab/TCGA_ACC_ControlledAccess_V1-0_DATA_edu_ucsc_kim_lab.tsv\", \"ERROR file not found\"\n",
    "    ! ls -l $file\n",
    "    \n",
    "testGetCountMatrixFilePath()"
   ]
  },
  {
   "cell_type": "code",
   "execution_count": 8,
   "metadata": {},
   "outputs": [
    {
     "name": "stdout",
     "output_type": "stream",
     "text": [
      "TCGA_ACC_ControlledAccess_V1-0_DATA_edu_ucsc_kim_lab.NumReads.tsv\n"
     ]
    }
   ],
   "source": [
    "def getSaveAsFileName(copyScript):\n",
    "    tsvFile = getCountMatrixFilePath(copyScript)\n",
    "    basename = tsvFile.split(\"/\")[-1]\n",
    "    root = basename.split(\".\")[0]\n",
    "    saveAs = root + \".NumReads.tsv\"\n",
    "    return saveAs\n",
    "    \n",
    "def testGetSaveAsFileName():\n",
    "    #copyScript=\"TCGA_READ_ControlledAccess_V1-0_DATA_edu_ucsc_kim_lab_105_copyFromTerraToLocal.sh\"; \n",
    "    copyScript = \"/home/jupyter/uber/bin/localization/TCGA_ACC_ControlledAccess_V1-0_DATA_edu_ucsc_kim_lab_79_copyFromTerraToLocal.sh\"\n",
    "\n",
    "    saveAs = getSaveAsFileName(copyScript)\n",
    "    print(saveAs)\n",
    "    assert saveAs == \"TCGA_ACC_ControlledAccess_V1-0_DATA_edu_ucsc_kim_lab.NumReads.tsv\", \"ERROR\"\n",
    "\n",
    "testGetSaveAsFileName()"
   ]
  },
  {
   "cell_type": "markdown",
   "metadata": {},
   "source": [
    "## define pipeline"
   ]
  },
  {
   "cell_type": "code",
   "execution_count": 9,
   "metadata": {
    "scrolled": false
   },
   "outputs": [
    {
     "name": "stdout",
     "output_type": "stream",
     "text": [
      "CPU times: user 3 µs, sys: 2 µs, total: 5 µs\n",
      "Wall time: 8.82 µs\n"
     ]
    }
   ],
   "source": [
    "%%time\n",
    "def pipeline(copyScript):\n",
    "    sampleWorkspaceName = getSampleWorkspaceName(copyScript)\n",
    "    print(\"\\n******** {}\".format(sampleWorkspaceName))\n",
    "    \n",
    "    print(\"BEGIN localization\")\n",
    "    localization(copyScript)\n",
    "    print(\"END localization\")\n",
    "    \n",
    "    print(\"\\nBEGIN createMatrix\")\n",
    "    createMatrix(sampleWorkspaceName)\n",
    "    print(\"END createMatrix\")\n",
    "    \n",
    "    tsvFile = getCountMatrixFilePath(copyScript)\n",
    "    \n",
    "    \n",
    "    # juypter / iPython does can not expand local python variables and environment variable in the same cmd\n",
    "    # works around is to copy environment varable to local python variables\n",
    "    tmp = ! echo ${WORKSPACE_BUCKET}\n",
    "    bucketURL = tmp[0]\n",
    "    saveAs = getSaveAsFileName(copyScript)\n",
    "    ! gsutil -m cp $tsvFile $bucketURL/data/matrices/NumReads/$saveAs\n",
    "    ! gsutil ls -l $bucketURL/data/matrices/NumReads/$saveAs\n",
    "    \n",
    "    \n",
    "def testPipeline():\n",
    "    #copyScript=\"TCGA_READ_ControlledAccess_V1-0_DATA_edu_ucsc_kim_lab_105_copyFromTerraToLocal.sh\"; \n",
    "    copyScript = \"/home/jupyter/uber/bin/localization/TCGA_ACC_ControlledAccess_V1-0_DATA_edu_ucsc_kim_lab_79_copyFromTerraToLocal.sh\"\n",
    "\n",
    "    pipeline( copyScript )\n",
    "    \n",
    "# this take a long time. \n",
    "#testPipeline()"
   ]
  },
  {
   "cell_type": "code",
   "execution_count": 10,
   "metadata": {
    "scrolled": false
   },
   "outputs": [
    {
     "name": "stdout",
     "output_type": "stream",
     "text": [
      "\n",
      "***** /home/jupyter/uber/bin/localization/TCGA_ACC_ControlledAccess_V1-0_DATA_edu_ucsc_kim_lab_79_copyFromTerraToLocal.sh\n",
      "TCGA_ACC_ControlledAccess_V1-0_DATA_edu_ucsc_kim_lab.NumReads.tsv\n",
      "skipping /home/jupyter/uber/bin/localization/TCGA_ACC_ControlledAccess_V1-0_DATA_edu_ucsc_kim_lab_79_copyFromTerraToLocal.sh matrix already exists\n",
      "\n",
      "***** /home/jupyter/uber/bin/localization/TCGA_BLCA_ControlledAccess_V1-0_DATA_edu_ucsc_kim_lab_427_copyFromTerraToLocal.sh\n",
      "TCGA_BLCA_ControlledAccess_V1-0_DATA_edu_ucsc_kim_lab.NumReads.tsv\n",
      "skipping /home/jupyter/uber/bin/localization/TCGA_BLCA_ControlledAccess_V1-0_DATA_edu_ucsc_kim_lab_427_copyFromTerraToLocal.sh matrix already exists\n",
      "\n",
      "***** /home/jupyter/uber/bin/localization/TCGA_BRCA_ControlledAccess_V1-0_DATA_edu_ucsc_kim_lab_1181_copyFromTerraToLocal.sh\n",
      "TCGA_BRCA_ControlledAccess_V1-0_DATA_edu_ucsc_kim_lab.NumReads.tsv\n",
      "skipping /home/jupyter/uber/bin/localization/TCGA_BRCA_ControlledAccess_V1-0_DATA_edu_ucsc_kim_lab_1181_copyFromTerraToLocal.sh matrix already exists\n",
      "\n",
      "***** /home/jupyter/uber/bin/localization/TCGA_CESC_ControlledAccess_V1-0_DATA_edu_ucsc_kim_lab_309_copyFromTerraToLocal.sh\n",
      "TCGA_CESC_ControlledAccess_V1-0_DATA_edu_ucsc_kim_lab.NumReads.tsv\n",
      "skipping /home/jupyter/uber/bin/localization/TCGA_CESC_ControlledAccess_V1-0_DATA_edu_ucsc_kim_lab_309_copyFromTerraToLocal.sh matrix already exists\n",
      "\n",
      "***** /home/jupyter/uber/bin/localization/TCGA_CHOL_ControlledAccess_V1-0_DATA_edu_ucsc_kim_lab_45_copyFromTerraToLocal.sh\n",
      "TCGA_CHOL_ControlledAccess_V1-0_DATA_edu_ucsc_kim_lab.NumReads.tsv\n",
      "skipping /home/jupyter/uber/bin/localization/TCGA_CHOL_ControlledAccess_V1-0_DATA_edu_ucsc_kim_lab_45_copyFromTerraToLocal.sh matrix already exists\n",
      "\n",
      "***** /home/jupyter/uber/bin/localization/TCGA_COAD_ControlledAccess_V1-0_DATA_edu_ucsc_kim_lab_309_copyFromTerraToLocal.sh\n",
      "TCGA_COAD_ControlledAccess_V1-0_DATA_edu_ucsc_kim_lab.NumReads.tsv\n",
      "skipping /home/jupyter/uber/bin/localization/TCGA_COAD_ControlledAccess_V1-0_DATA_edu_ucsc_kim_lab_309_copyFromTerraToLocal.sh matrix already exists\n",
      "\n",
      "***** /home/jupyter/uber/bin/localization/TCGA_ESCA_ControlledAccess_V1-0_DATA_edu_ucsc_kim_lab_196_copyFromTerraToLocal.sh\n",
      "TCGA_ESCA_ControlledAccess_V1-0_DATA_edu_ucsc_kim_lab.NumReads.tsv\n",
      "skipping /home/jupyter/uber/bin/localization/TCGA_ESCA_ControlledAccess_V1-0_DATA_edu_ucsc_kim_lab_196_copyFromTerraToLocal.sh matrix already exists\n",
      "\n",
      "***** /home/jupyter/uber/bin/localization/TCGA_HNSC_ControlledAccess_V1-0_DATA_edu_ucsc_kim_lab_566_copyFromTerraToLocal.sh\n",
      "TCGA_HNSC_ControlledAccess_V1-0_DATA_edu_ucsc_kim_lab.NumReads.tsv\n",
      "skipping /home/jupyter/uber/bin/localization/TCGA_HNSC_ControlledAccess_V1-0_DATA_edu_ucsc_kim_lab_566_copyFromTerraToLocal.sh matrix already exists\n",
      "\n",
      "***** /home/jupyter/uber/bin/localization/TCGA_KICH_ControlledAccess_V1-0_DATA_edu_ucsc_kim_lab_91_copyFromTerraToLocal.sh\n",
      "TCGA_KICH_ControlledAccess_V1-0_DATA_edu_ucsc_kim_lab.NumReads.tsv\n",
      "skipping /home/jupyter/uber/bin/localization/TCGA_KICH_ControlledAccess_V1-0_DATA_edu_ucsc_kim_lab_91_copyFromTerraToLocal.sh matrix already exists\n",
      "\n",
      "***** /home/jupyter/uber/bin/localization/TCGA_KIRC_ControlledAccess_V1-0_DATA_edu_ucsc_kim_lab_606_copyFromTerraToLocal.sh\n",
      "TCGA_KIRC_ControlledAccess_V1-0_DATA_edu_ucsc_kim_lab.NumReads.tsv\n",
      "skipping /home/jupyter/uber/bin/localization/TCGA_KIRC_ControlledAccess_V1-0_DATA_edu_ucsc_kim_lab_606_copyFromTerraToLocal.sh matrix already exists\n",
      "\n",
      "***** /home/jupyter/uber/bin/localization/TCGA_KIRP_ControlledAccess_V1-0_DATA_edu_ucsc_kim_lab_323_copyFromTerraToLocal.sh\n",
      "TCGA_KIRP_ControlledAccess_V1-0_DATA_edu_ucsc_kim_lab.NumReads.tsv\n",
      "skipping /home/jupyter/uber/bin/localization/TCGA_KIRP_ControlledAccess_V1-0_DATA_edu_ucsc_kim_lab_323_copyFromTerraToLocal.sh matrix already exists\n",
      "\n",
      "***** /home/jupyter/uber/bin/localization/TCGA_LGG_ControlledAccess_V1-0_DATA_edu_ucsc_kim_lab_530_copyFromTerraToLocal.sh\n",
      "TCGA_LGG_ControlledAccess_V1-0_DATA_edu_ucsc_kim_lab.NumReads.tsv\n",
      "skipping /home/jupyter/uber/bin/localization/TCGA_LGG_ControlledAccess_V1-0_DATA_edu_ucsc_kim_lab_530_copyFromTerraToLocal.sh matrix already exists\n",
      "\n",
      "***** /home/jupyter/uber/bin/localization/TCGA_LIHC_ControlledAccess_V1-0_DATA_edu_ucsc_kim_lab_423_copyFromTerraToLocal.sh\n",
      "TCGA_LIHC_ControlledAccess_V1-0_DATA_edu_ucsc_kim_lab.NumReads.tsv\n",
      "skipping /home/jupyter/uber/bin/localization/TCGA_LIHC_ControlledAccess_V1-0_DATA_edu_ucsc_kim_lab_423_copyFromTerraToLocal.sh matrix already exists\n",
      "\n",
      "***** /home/jupyter/uber/bin/localization/TCGA_LUAD_ControlledAccess_V1-0_DATA_edu_ucsc_kim_lab_576_copyFromTerraToLocal.sh\n",
      "TCGA_LUAD_ControlledAccess_V1-0_DATA_edu_ucsc_kim_lab.NumReads.tsv\n",
      "skipping /home/jupyter/uber/bin/localization/TCGA_LUAD_ControlledAccess_V1-0_DATA_edu_ucsc_kim_lab_576_copyFromTerraToLocal.sh matrix already exists\n",
      "\n",
      "***** /home/jupyter/uber/bin/localization/TCGA_LUSC_ControlledAccess_V1-0_DATA_edu_ucsc_kim_lab_552_copyFromTerraToLocal.sh\n",
      "TCGA_LUSC_ControlledAccess_V1-0_DATA_edu_ucsc_kim_lab.NumReads.tsv\n",
      "skipping /home/jupyter/uber/bin/localization/TCGA_LUSC_ControlledAccess_V1-0_DATA_edu_ucsc_kim_lab_552_copyFromTerraToLocal.sh matrix already exists\n",
      "\n",
      "***** /home/jupyter/uber/bin/localization/TCGA_MESO_ControlledAccess_V1-0_DATA_edu_ucsc_kim_lab_87_copyFromTerraToLocal.sh\n",
      "TCGA_MESO_ControlledAccess_V1-0_DATA_edu_ucsc_kim_lab.NumReads.tsv\n",
      "skipping /home/jupyter/uber/bin/localization/TCGA_MESO_ControlledAccess_V1-0_DATA_edu_ucsc_kim_lab_87_copyFromTerraToLocal.sh matrix already exists\n",
      "\n",
      "***** /home/jupyter/uber/bin/localization/TCGA_OV_ControlledAccess_V1-0_DATA_edu_ucsc_kim_lab_298_copyFromTerraToLocal.sh\n",
      "TCGA_OV_ControlledAccess_V1-0_DATA_edu_ucsc_kim_lab.NumReads.tsv\n",
      "skipping /home/jupyter/uber/bin/localization/TCGA_OV_ControlledAccess_V1-0_DATA_edu_ucsc_kim_lab_298_copyFromTerraToLocal.sh matrix already exists\n",
      "\n",
      "***** /home/jupyter/uber/bin/localization/TCGA_PAAD_ControlledAccess_V1-0_DATA_edu_ucsc_kim_lab_183_copyFromTerraToLocal.sh\n",
      "TCGA_PAAD_ControlledAccess_V1-0_DATA_edu_ucsc_kim_lab.NumReads.tsv\n",
      "skipping /home/jupyter/uber/bin/localization/TCGA_PAAD_ControlledAccess_V1-0_DATA_edu_ucsc_kim_lab_183_copyFromTerraToLocal.sh matrix already exists\n",
      "\n",
      "***** /home/jupyter/uber/bin/localization/TCGA_PCPG_ControlledAccess_V1-0_DATA_edu_ucsc_kim_lab_187_copyFromTerraToLocal.sh\n",
      "TCGA_PCPG_ControlledAccess_V1-0_DATA_edu_ucsc_kim_lab.NumReads.tsv\n",
      "skipping /home/jupyter/uber/bin/localization/TCGA_PCPG_ControlledAccess_V1-0_DATA_edu_ucsc_kim_lab_187_copyFromTerraToLocal.sh matrix already exists\n",
      "\n",
      "***** /home/jupyter/uber/bin/localization/TCGA_PRAD_ControlledAccess_V1-0_DATA_edu_ucsc_kim_lab_550_copyFromTerraToLocal.sh\n",
      "TCGA_PRAD_ControlledAccess_V1-0_DATA_edu_ucsc_kim_lab.NumReads.tsv\n",
      "skipping /home/jupyter/uber/bin/localization/TCGA_PRAD_ControlledAccess_V1-0_DATA_edu_ucsc_kim_lab_550_copyFromTerraToLocal.sh matrix already exists\n",
      "\n",
      "***** /home/jupyter/uber/bin/localization/TCGA_READ_ControlledAccess_V1-0_DATA_edu_ucsc_kim_lab_105_copyFromTerraToLocal.sh\n",
      "TCGA_READ_ControlledAccess_V1-0_DATA_edu_ucsc_kim_lab.NumReads.tsv\n",
      "skipping /home/jupyter/uber/bin/localization/TCGA_READ_ControlledAccess_V1-0_DATA_edu_ucsc_kim_lab_105_copyFromTerraToLocal.sh matrix already exists\n",
      "\n",
      "***** /home/jupyter/uber/bin/localization/TCGA_SKCM_ControlledAccess_V1-0_DATA_edu_ucsc_kim_lab_473_copyFromTerraToLocal.sh\n",
      "TCGA_SKCM_ControlledAccess_V1-0_DATA_edu_ucsc_kim_lab.NumReads.tsv\n",
      "skipping /home/jupyter/uber/bin/localization/TCGA_SKCM_ControlledAccess_V1-0_DATA_edu_ucsc_kim_lab_473_copyFromTerraToLocal.sh matrix already exists\n",
      "\n",
      "***** /home/jupyter/uber/bin/localization/TCGA_STAD_ControlledAccess_V1-0_DATA_edu_ucsc_kim_lab_411_copyFromTerraToLocal.sh\n",
      "TCGA_STAD_ControlledAccess_V1-0_DATA_edu_ucsc_kim_lab.NumReads.tsv\n",
      "skipping /home/jupyter/uber/bin/localization/TCGA_STAD_ControlledAccess_V1-0_DATA_edu_ucsc_kim_lab_411_copyFromTerraToLocal.sh matrix already exists\n",
      "\n",
      "***** /home/jupyter/uber/bin/localization/TCGA_TGCT_ControlledAccess_V1-0_DATA_edu_ucsc_kim_lab_156_copyFromTerraToLocal.sh\n",
      "TCGA_TGCT_ControlledAccess_V1-0_DATA_edu_ucsc_kim_lab.NumReads.tsv\n",
      "skipping /home/jupyter/uber/bin/localization/TCGA_TGCT_ControlledAccess_V1-0_DATA_edu_ucsc_kim_lab_156_copyFromTerraToLocal.sh matrix already exists\n",
      "\n",
      "***** /home/jupyter/uber/bin/localization/TCGA_THCA_ControlledAccess_V1-0_DATA_edu_ucsc_kim_lab_568_copyFromTerraToLocal.sh\n",
      "TCGA_THCA_ControlledAccess_V1-0_DATA_edu_ucsc_kim_lab.NumReads.tsv\n",
      "skipping /home/jupyter/uber/bin/localization/TCGA_THCA_ControlledAccess_V1-0_DATA_edu_ucsc_kim_lab_568_copyFromTerraToLocal.sh matrix already exists\n",
      "\n",
      "***** /home/jupyter/uber/bin/localization/TCGA_THYM_ControlledAccess_V1-0_DATA_edu_ucsc_kim_lab_122_copyFromTerraToLocal.sh\n",
      "TCGA_THYM_ControlledAccess_V1-0_DATA_edu_ucsc_kim_lab.NumReads.tsv\n",
      "skipping /home/jupyter/uber/bin/localization/TCGA_THYM_ControlledAccess_V1-0_DATA_edu_ucsc_kim_lab_122_copyFromTerraToLocal.sh matrix already exists\n",
      "\n",
      "***** /home/jupyter/uber/bin/localization/TCGA_UCEC_ControlledAccess_V1-0_DATA_edu_ucsc_kim_lab_201_copyFromTerraToLocal.sh\n",
      "TCGA_UCEC_ControlledAccess_V1-0_DATA_edu_ucsc_kim_lab.NumReads.tsv\n",
      "skipping /home/jupyter/uber/bin/localization/TCGA_UCEC_ControlledAccess_V1-0_DATA_edu_ucsc_kim_lab_201_copyFromTerraToLocal.sh matrix already exists\n",
      "\n",
      "***** /home/jupyter/uber/bin/localization/TCGA_UCS_ControlledAccess_V1-0_DATA_edu_ucsc_kim_lab_57_copyFromTerraToLocal.sh\n",
      "TCGA_UCS_ControlledAccess_V1-0_DATA_edu_ucsc_kim_lab.NumReads.tsv\n",
      "skipping /home/jupyter/uber/bin/localization/TCGA_UCS_ControlledAccess_V1-0_DATA_edu_ucsc_kim_lab_57_copyFromTerraToLocal.sh matrix already exists\n",
      "\n",
      "***** /home/jupyter/uber/bin/localization/TCGA_UVM_ControlledAccess_V1-0_DATA_edu_ucsc_kim_lab_80_copyFromTerraToLocal.sh\n",
      "TCGA_UVM_ControlledAccess_V1-0_DATA_edu_ucsc_kim_lab.NumReads.tsv\n",
      "skipping /home/jupyter/uber/bin/localization/TCGA_UVM_ControlledAccess_V1-0_DATA_edu_ucsc_kim_lab_80_copyFromTerraToLocal.sh matrix already exists\n",
      "CPU times: user 81.2 ms, sys: 143 ms, total: 224 ms\n",
      "Wall time: 1min 12s\n"
     ]
    }
   ],
   "source": [
    "%%time\n",
    "def runAll():\n",
    "    # juypter / iPython does can not expand local python variables and environment variable in the same cmd\n",
    "    # works around is to copy environment varable to local python variables\n",
    "    tmp = ! echo ${WORKSPACE_BUCKET}\n",
    "    bucketURL = tmp[0]\n",
    "    \n",
    "    dir = \"~/${WORKSPACE_NAME}/bin/localization/*.sh\"\n",
    "    listOfLocalizationScripts = ! ls $dir\n",
    "    for copyScript in listOfLocalizationScripts:\n",
    "        print(\"\\n***** \" + copyScript)\n",
    "        saveAs = getSaveAsFileName(copyScript)\n",
    "        print(saveAs)\n",
    "        exitCodeList = ! (gsutil -q stat $bucketURL/data/matrices/NumReads/$saveAs; echo $?)\n",
    "        exitCode = int(exitCodeList[0])\n",
    "        if exitCode == 0:\n",
    "            print(\"skipping {} matrix already exists\".format(copyScript))\n",
    "            continue\n",
    "            \n",
    "        try:\n",
    "            pipeline(copyScript)\n",
    "        except Exception as e:\n",
    "            print(\"ERROR exception: {}\".format(e))\n",
    "\n",
    "        \n",
    "runAll()"
   ]
  },
  {
   "cell_type": "markdown",
   "metadata": {},
   "source": [
    "## Find find workspaces that we where not able to create numReads.tsv for"
   ]
  },
  {
   "cell_type": "code",
   "execution_count": 11,
   "metadata": {},
   "outputs": [],
   "source": [
    "def getListOfSucesses():\n",
    "    listOfTSVFiles = ! gsutil ls \"${WORKSPACE_BUCKET}/data/matrices/NumReads/*.tsv\"\n",
    "    retList = [\"\"]* len(listOfTSVFiles)\n",
    "    \n",
    "    for i in range(len(listOfTSVFiles)):\n",
    "        url = listOfTSVFiles[i]\n",
    "        tsv = url.split(\"/\")[-1]\n",
    "        retList[i] = tsv\n",
    "    return retList\n",
    "\n",
    "#getListOfSucesses()"
   ]
  },
  {
   "cell_type": "code",
   "execution_count": 12,
   "metadata": {},
   "outputs": [],
   "source": [
    "def getExpectedResults():\n",
    "    listOfCopyScripts = ! ls ~/${WORKSPACE_NAME}/bin/localization/*.sh\n",
    "    retList = []\n",
    "    \n",
    "    for copyScript  in listOfCopyScripts:\n",
    "        tsv = getSaveAsFileName(copyScript)\n",
    "        retList.append(tsv)\n",
    "        \n",
    "    return retList\n",
    "\n",
    "#getExpectedResults()"
   ]
  },
  {
   "cell_type": "code",
   "execution_count": 13,
   "metadata": {},
   "outputs": [
    {
     "data": {
      "text/plain": [
       "set()"
      ]
     },
     "execution_count": 13,
     "metadata": {},
     "output_type": "execute_result"
    }
   ],
   "source": [
    "def checkForFailures():\n",
    "    expectedSResultSet = set(getExpectedResults())\n",
    "    resultsSet         = set( getListOfSucesses() )\n",
    "    # element in expected that are not in results\n",
    "    return expectedSResultSet.difference( resultsSet )\n",
    "        \n",
    "checkForFailures()"
   ]
  },
  {
   "cell_type": "code",
   "execution_count": null,
   "metadata": {},
   "outputs": [],
   "source": []
  }
 ],
 "metadata": {
  "kernelspec": {
   "display_name": "Python 3",
   "language": "python",
   "name": "python3"
  },
  "language_info": {
   "codemirror_mode": {
    "name": "ipython",
    "version": 3
   },
   "file_extension": ".py",
   "mimetype": "text/x-python",
   "name": "python",
   "nbconvert_exporter": "python",
   "pygments_lexer": "ipython3",
   "version": "3.7.12"
  },
  "toc": {
   "base_numbering": 1,
   "nav_menu": {},
   "number_sections": true,
   "sideBar": true,
   "skip_h1_title": false,
   "title_cell": "Table of Contents",
   "title_sidebar": "Contents",
   "toc_cell": false,
   "toc_position": {},
   "toc_section_display": true,
   "toc_window_display": false
  }
 },
 "nbformat": 4,
 "nbformat_minor": 2
}
