{
 "cells": [
  {
   "cell_type": "markdown",
   "metadata": {},
   "source": [
    "# How to access buckets using gsutil\n",
    "\n",
    "we can not simply use the bam urls found in the sample tables. You will get a error\n",
    "\n",
    "```\n",
    "BadRequestException: 400 Bucket is requester pays bucket but no user project provided.\n",
    "```"
   ]
  },
  {
   "cell_type": "markdown",
   "metadata": {},
   "source": [
    "# running on mustard\n",
    "\n",
    "gs://fc-secure-519db2bc-049f-43a0-ab75-a2eb9c2cb059 is the bucket URL for one of our workspace.\n",
    "\n",
    "This may have worked because we have created a configuration file. \n",
    "\n",
    "ref: [https://cloud.google.com/storage/docs/gsutil/commands/config](https://cloud.google.com/storage/docs/gsutil/commands/config)\n",
    "\n",
    "```\n",
    "extraCellularRNA) [aedavids@mustard extraCellularRNA]$ gsutil ls gs://fc-secure-519db2bc-049f-43a0-ab75-a2eb9c2cb059\n",
    "gs://fc-secure-519db2bc-049f-43a0-ab75-a2eb9c2cb059/git.commit.msg.txt\n",
    "gs://fc-secure-519db2bc-049f-43a0-ab75-a2eb9c2cb059/sel.align.gencode.v35.ucsc.rmsk.salmon.v1.3.0.sidx.tar.gz\n",
    "gs://fc-secure-519db2bc-049f-43a0-ab75-a2eb9c2cb059/03e6bca1-5c88-4e79-ad1e-f0446330210d/\n",
    "```"
   ]
  },
  {
   "cell_type": "markdown",
   "metadata": {},
   "source": [
    "# running on terra\n",
    "In our notebooks we might be able to use our configure command. instead we are supposed to use\n",
    "```\n",
    "gsutil -u PROJECT_ID ls -l gs://BUCKET_NAME/OBJECT_NAME OBJECT_DESTINATION\n",
    "```\n"
   ]
  },
  {
   "cell_type": "code",
   "execution_count": 1,
   "metadata": {},
   "outputs": [
    {
     "name": "stdout",
     "output_type": "stream",
     "text": [
      "14422743957  2019-07-16T23:13:14Z  gs://fc-secure-ff8156a3-ddf3-42e4-9211-0fd89da62108/GTEx_Analysis_2017-06-05_v8_RNAseq_BAM_files/GTEX-11OF3-0006-SM-5O9CM.Aligned.sortedByCoord.out.patched.md.bam\r\n",
      "TOTAL: 1 objects, 14422743957 bytes (13.43 GiB)\r\n"
     ]
    }
   ],
   "source": [
    "PROJECT_ID=\"test-aedavids-proj\"\n",
    "bamURL=\"gs://fc-secure-ff8156a3-ddf3-42e4-9211-0fd89da62108/GTEx_Analysis_2017-06-05_v8_RNAseq_BAM_files/GTEX-11OF3-0006-SM-5O9CM.Aligned.sortedByCoord.out.patched.md.bam\"\n",
    "\n",
    "!gsutil -u $PROJECT_ID ls -l $bamURL"
   ]
  },
  {
   "cell_type": "code",
   "execution_count": 2,
   "metadata": {},
   "outputs": [
    {
     "name": "stdout",
     "output_type": "stream",
     "text": [
      "gs://fc-secure-519db2bc-049f-43a0-ab75-a2eb9c2cb059/git.commit.msg.txt\r\n",
      "gs://fc-secure-519db2bc-049f-43a0-ab75-a2eb9c2cb059/sel.align.gencode.v35.ucsc.rmsk.salmon.v1.3.0.sidx.tar.gz\r\n",
      "gs://fc-secure-519db2bc-049f-43a0-ab75-a2eb9c2cb059/03e6bca1-5c88-4e79-ad1e-f0446330210d/\r\n",
      "gs://fc-secure-519db2bc-049f-43a0-ab75-a2eb9c2cb059/17c21295-fe68-49a8-905c-9c7f40c67980/\r\n",
      "gs://fc-secure-519db2bc-049f-43a0-ab75-a2eb9c2cb059/1a0771a6-983d-47ea-8d4b-a3c2bee4aaa9/\r\n",
      "gs://fc-secure-519db2bc-049f-43a0-ab75-a2eb9c2cb059/1c57ec9e-acc5-4762-b8a4-32fedc39ebb5/\r\n",
      "gs://fc-secure-519db2bc-049f-43a0-ab75-a2eb9c2cb059/1eecb812-0eb0-4a96-953d-b0d551619906/\r\n",
      "gs://fc-secure-519db2bc-049f-43a0-ab75-a2eb9c2cb059/268e5033-e2d9-41ff-b0fc-9c8362e5d92e/\r\n",
      "gs://fc-secure-519db2bc-049f-43a0-ab75-a2eb9c2cb059/29e486b3-282b-4462-b724-8bcdb1700e90/\r\n",
      "gs://fc-secure-519db2bc-049f-43a0-ab75-a2eb9c2cb059/349f413d-d9c4-40ed-84f5-64be61d2a267/\r\n",
      "gs://fc-secure-519db2bc-049f-43a0-ab75-a2eb9c2cb059/39c0f956-0a50-46b5-8d65-4df943977914/\r\n",
      "gs://fc-secure-519db2bc-049f-43a0-ab75-a2eb9c2cb059/4186a722-ee05-4b30-905e-1e584d3e2470/\r\n",
      "gs://fc-secure-519db2bc-049f-43a0-ab75-a2eb9c2cb059/4ba6546f-badc-4805-8d70-664a00c74af2/\r\n",
      "gs://fc-secure-519db2bc-049f-43a0-ab75-a2eb9c2cb059/51678031-b013-4a8a-9129-58b7913c1fc0/\r\n",
      "gs://fc-secure-519db2bc-049f-43a0-ab75-a2eb9c2cb059/695beb98-1f39-4428-9360-d5cb672e4ac9/\r\n",
      "gs://fc-secure-519db2bc-049f-43a0-ab75-a2eb9c2cb059/6a6c9b92-3026-47d3-8944-60f0842c566e/\r\n",
      "gs://fc-secure-519db2bc-049f-43a0-ab75-a2eb9c2cb059/6c0cb219-48c5-4ddb-a542-f89257a96aef/\r\n",
      "gs://fc-secure-519db2bc-049f-43a0-ab75-a2eb9c2cb059/70f15092-18e7-494a-8560-621674b0b669/\r\n",
      "gs://fc-secure-519db2bc-049f-43a0-ab75-a2eb9c2cb059/73c701b1-70b5-4372-a507-5ecb9a0591a1/\r\n",
      "gs://fc-secure-519db2bc-049f-43a0-ab75-a2eb9c2cb059/7545808d-d153-4e10-a765-4dbdbd538214/\r\n",
      "gs://fc-secure-519db2bc-049f-43a0-ab75-a2eb9c2cb059/75be8087-fed2-4718-b093-da056818e5f3/\r\n",
      "gs://fc-secure-519db2bc-049f-43a0-ab75-a2eb9c2cb059/7c11c543-4a9b-4c94-87ab-f4f327cfcf87/\r\n",
      "gs://fc-secure-519db2bc-049f-43a0-ab75-a2eb9c2cb059/7cf556e2-a408-47de-b665-549f121c36e1/\r\n",
      "gs://fc-secure-519db2bc-049f-43a0-ab75-a2eb9c2cb059/80500e9d-9135-41e5-8fe7-c3f62a175834/\r\n",
      "gs://fc-secure-519db2bc-049f-43a0-ab75-a2eb9c2cb059/8193e5c9-6fde-469a-8a3b-468f7122346a/\r\n",
      "gs://fc-secure-519db2bc-049f-43a0-ab75-a2eb9c2cb059/81e74e1a-e577-49eb-b54d-9436531e305f/\r\n",
      "gs://fc-secure-519db2bc-049f-43a0-ab75-a2eb9c2cb059/8bb3fc30-564b-4530-9a5a-247a71c6a2b0/\r\n",
      "gs://fc-secure-519db2bc-049f-43a0-ab75-a2eb9c2cb059/8ca91961-fc7a-4210-a3a1-fd5974a48b3a/\r\n",
      "gs://fc-secure-519db2bc-049f-43a0-ab75-a2eb9c2cb059/8dfd3e82-64fb-46fc-ae8e-17def1040a54/\r\n",
      "gs://fc-secure-519db2bc-049f-43a0-ab75-a2eb9c2cb059/94c1ea9f-0ae6-4d1a-abdf-3529ca26794c/\r\n",
      "gs://fc-secure-519db2bc-049f-43a0-ab75-a2eb9c2cb059/a3746d28-710d-4d10-b1d2-dc34dfa3c6fc/\r\n",
      "gs://fc-secure-519db2bc-049f-43a0-ab75-a2eb9c2cb059/a5f18783-cb3f-4db5-8b9f-ff68cc0b59d2/\r\n",
      "gs://fc-secure-519db2bc-049f-43a0-ab75-a2eb9c2cb059/adb2f7e8-2dbb-4729-bd16-518a546fdaaa/\r\n",
      "gs://fc-secure-519db2bc-049f-43a0-ab75-a2eb9c2cb059/af96753d-ff8d-4445-915e-55f97543b137/\r\n",
      "gs://fc-secure-519db2bc-049f-43a0-ab75-a2eb9c2cb059/b39f08a5-2c58-4cc7-a951-1802529243ad/\r\n",
      "gs://fc-secure-519db2bc-049f-43a0-ab75-a2eb9c2cb059/b77d7895-9e4e-4f5e-b8fa-6a7a56e22dbe/\r\n",
      "gs://fc-secure-519db2bc-049f-43a0-ab75-a2eb9c2cb059/be368831-b2f4-446b-a193-5c1fe8a376eb/\r\n",
      "gs://fc-secure-519db2bc-049f-43a0-ab75-a2eb9c2cb059/bf19a897-a401-4d73-810b-4c06b9c87b02/\r\n",
      "gs://fc-secure-519db2bc-049f-43a0-ab75-a2eb9c2cb059/d1e9ac4e-f840-42cc-8dcf-e9a1950fe18a/\r\n",
      "gs://fc-secure-519db2bc-049f-43a0-ab75-a2eb9c2cb059/d44c8949-6909-4fe9-85e1-e88d2143ca51/\r\n",
      "gs://fc-secure-519db2bc-049f-43a0-ab75-a2eb9c2cb059/d8ebd402-2fab-4314-ae04-979fbff15630/\r\n",
      "gs://fc-secure-519db2bc-049f-43a0-ab75-a2eb9c2cb059/e411f22e-0102-44aa-b90e-024687de5bb5/\r\n",
      "gs://fc-secure-519db2bc-049f-43a0-ab75-a2eb9c2cb059/e94e325e-a677-423f-8ada-74b4c5658d70/\r\n",
      "gs://fc-secure-519db2bc-049f-43a0-ab75-a2eb9c2cb059/notebooks/\r\n"
     ]
    }
   ],
   "source": [
    "# this worked. I think because we are running the notebook in our terra workspace\n",
    "!gsutil ls gs://fc-secure-519db2bc-049f-43a0-ab75-a2eb9c2cb059"
   ]
  },
  {
   "cell_type": "code",
   "execution_count": null,
   "metadata": {},
   "outputs": [],
   "source": []
  },
  {
   "cell_type": "code",
   "execution_count": null,
   "metadata": {},
   "outputs": [],
   "source": []
  }
 ],
 "metadata": {
  "kernelspec": {
   "display_name": "Python 3",
   "language": "python",
   "name": "python3"
  },
  "language_info": {
   "codemirror_mode": {
    "name": "ipython",
    "version": 3
   },
   "file_extension": ".py",
   "mimetype": "text/x-python",
   "name": "python",
   "nbconvert_exporter": "python",
   "pygments_lexer": "ipython3",
   "version": "3.7.9"
  },
  "toc": {
   "base_numbering": 1,
   "nav_menu": {},
   "number_sections": true,
   "sideBar": true,
   "skip_h1_title": false,
   "title_cell": "Table of Contents",
   "title_sidebar": "Contents",
   "toc_cell": false,
   "toc_position": {},
   "toc_section_display": true,
   "toc_window_display": false
  }
 },
 "nbformat": 4,
 "nbformat_minor": 2
}
