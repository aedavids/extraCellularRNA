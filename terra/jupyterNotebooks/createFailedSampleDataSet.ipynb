{
 "cells": [
  {
   "cell_type": "markdown",
   "metadata": {},
   "source": [
    "# createFailedSampleDataSet\n",
    "Several submissions fail. Typically this is because Bam2Fastq ran out of memory. Use the Sample.tsv to find the failed sample and create a new sample set so that we can re-run with out accidently causing needless recompute of succesful samples. \n",
    "\n",
    "change wdl cause everything to recompujte\n",
    "\n",
    "- [Make a set of data  table from scratch ](https://support.terra.bio/hc/en-us/articles/360047611871#h_01EJXZMM6GA3481YRRQBR65MY3)\n",
    "- [Data Tables QuickStart Part 3: Understanding sets of data](https://support.terra.bio/hc/en-us/articles/360047611871)\n",
    "- [adding data to a workspace with a template](https://support.terra.bio/hc/en-us/articles/360059242671). see \"Sets of data - sample_set table\""
   ]
  },
  {
   "cell_type": "code",
   "execution_count": 1,
   "metadata": {},
   "outputs": [
    {
     "name": "stdout",
     "output_type": "stream",
     "text": [
      "run on 2022-03-04 13:33:16\n",
      "newDataSetName: 2022-03-04-13:33-failed\n"
     ]
    }
   ],
   "source": [
    "from datetime import datetime\n",
    "now = datetime.now()\n",
    "# print(\"run on {}\".format( now.strftime('%Y-%m-%d %H:%M:%S') ))\n",
    "\n",
    "today = now.strftime('%Y-%m-%d')\n",
    "currentTime = now.strftime('%H:%M:%S')\n",
    "\n",
    "# put time stamp in name. prevents data bug if we accidently run\n",
    "# multiple times. with out time stamp the number of sample displayed\n",
    "# by terra will be a multiple of the true number of samples\n",
    "print(\"run on {}\".format( today +  \" \" + currentTime ))\n",
    "\n",
    "newDataSetName = today + \"-\" + now.strftime('%H:%M') + \"-failed\"\n",
    "print(\"newDataSetName: {}\".format(newDataSetName))\n",
    "\n",
    "import pandas as pd"
   ]
  },
  {
   "cell_type": "markdown",
   "metadata": {},
   "source": [
    "# Load AnVIL_GTEx_V8_hg38_edu_ucsc_kim_lab  sample data table"
   ]
  },
  {
   "cell_type": "code",
   "execution_count": 2,
   "metadata": {},
   "outputs": [
    {
     "name": "stdout",
     "output_type": "stream",
     "text": [
      "total 45368\n",
      "-rw-r--r--   1 andrewdavidson  staff     1072 Feb  3 12:43 2-template_sample-table.tsv\n",
      "-rw-r--r--   1 andrewdavidson  staff  4887670 Feb  3 12:43 colData.csv\n",
      "drwxr-xr-x  20 andrewdavidson  staff      640 Dec 27 20:02 \u001b[34mcreateDESeqData.output\u001b[m\u001b[m\n",
      "-rw-r--r--   1 andrewdavidson  staff      173 Sep 17 09:42 git.commit.msg.txt\n",
      "-rw-r--r--   1 andrewdavidson  staff      150 Aug 23  2021 git.commit.msg.txt~\n",
      "-rw-r--r--@  1 andrewdavidson  staff   977455 Jul 31  2021 participant.tsv\n",
      "-rw-r--r--@  1 andrewdavidson  staff  7886879 Mar  4 11:16 sample.tsv\n",
      "-rw-r--r--@  1 andrewdavidson  staff   621309 Mar  4 11:17 sample_set.zip\n",
      "-rw-r--r--@  1 andrewdavidson  staff     1005 Mar  4 13:19 sample_set_entity.tsv\n",
      "-rw-r--r--@  1 andrewdavidson  staff   754678 Mar  4 13:19 sample_set_membership.tsv\n",
      "-rw-r--r--   1 andrewdavidson  staff   145314 Mar  3 10:49 shortPancreasSamples.tsv\n",
      "-rw-r--r--@  1 andrewdavidson  staff  7881819 Mar  3 10:44 shortSample.tsv\n",
      "-rw-r--r--   1 andrewdavidson  staff      984 Feb 23 15:23 t\n",
      "-rw-r--r--   1 andrewdavidson  staff     1254 Feb 23 15:22 t~\n",
      "* \u001b[32mGTEx-bugfix\u001b[m 13c87ec [\u001b[34mmaster\u001b[m: ahead 2] removed dups and dead sets using extraCellularRNA/terra/jupyterNotebooks/cleanUpGTExDataSets.ipynb\n",
      "  master     \u001b[m 26c02f0 # merge uberTCGA2\n"
     ]
    }
   ],
   "source": [
    "# back ups of terra data models are stored in a separate repo\n",
    "# so that branch merges do not loose data model version\n",
    "rootDir = \"../../../terraDataModels/test-aedavids-proj/AnVIL_GTEx_V8_hg38_edu_ucsc_kim_lab\"\n",
    "! ls -l $rootDir\n",
    "! (cd $rootDir; git branch -vv)"
   ]
  },
  {
   "cell_type": "code",
   "execution_count": 3,
   "metadata": {},
   "outputs": [
    {
     "data": {
      "text/html": [
       "<div>\n",
       "<style scoped>\n",
       "    .dataframe tbody tr th:only-of-type {\n",
       "        vertical-align: middle;\n",
       "    }\n",
       "\n",
       "    .dataframe tbody tr th {\n",
       "        vertical-align: top;\n",
       "    }\n",
       "\n",
       "    .dataframe thead th {\n",
       "        text-align: right;\n",
       "    }\n",
       "</style>\n",
       "<table border=\"1\" class=\"dataframe\">\n",
       "  <thead>\n",
       "    <tr style=\"text-align: right;\">\n",
       "      <th></th>\n",
       "      <th>entity:sample_id</th>\n",
       "      <th>aux_info</th>\n",
       "      <th>participant</th>\n",
       "      <th>quantFile</th>\n",
       "      <th>tissue_id</th>\n",
       "    </tr>\n",
       "  </thead>\n",
       "  <tbody>\n",
       "    <tr>\n",
       "      <th>0</th>\n",
       "      <td>GTEX-1117F-0226-SM-5GZZ7</td>\n",
       "      <td>gs://fc-secure-f5aa8a37-78e5-45f6-9c59-c643016...</td>\n",
       "      <td>GTEX-1117F</td>\n",
       "      <td>gs://fc-secure-f5aa8a37-78e5-45f6-9c59-c643016...</td>\n",
       "      <td>Adipose_Subcutaneous</td>\n",
       "    </tr>\n",
       "    <tr>\n",
       "      <th>1</th>\n",
       "      <td>GTEX-1117F-0426-SM-5EGHI</td>\n",
       "      <td>gs://fc-secure-f5aa8a37-78e5-45f6-9c59-c643016...</td>\n",
       "      <td>GTEX-1117F</td>\n",
       "      <td>gs://fc-secure-f5aa8a37-78e5-45f6-9c59-c643016...</td>\n",
       "      <td>Muscle_Skeletal</td>\n",
       "    </tr>\n",
       "    <tr>\n",
       "      <th>2</th>\n",
       "      <td>GTEX-1117F-0526-SM-5EGHJ</td>\n",
       "      <td>gs://fc-secure-f5aa8a37-78e5-45f6-9c59-c643016...</td>\n",
       "      <td>GTEX-1117F</td>\n",
       "      <td>gs://fc-secure-f5aa8a37-78e5-45f6-9c59-c643016...</td>\n",
       "      <td>Artery_Tibial</td>\n",
       "    </tr>\n",
       "    <tr>\n",
       "      <th>3</th>\n",
       "      <td>GTEX-1117F-0626-SM-5N9CS</td>\n",
       "      <td>gs://fc-secure-f5aa8a37-78e5-45f6-9c59-c643016...</td>\n",
       "      <td>GTEX-1117F</td>\n",
       "      <td>gs://fc-secure-f5aa8a37-78e5-45f6-9c59-c643016...</td>\n",
       "      <td>Artery_Coronary</td>\n",
       "    </tr>\n",
       "    <tr>\n",
       "      <th>4</th>\n",
       "      <td>GTEX-1117F-0726-SM-5GIEN</td>\n",
       "      <td>gs://fc-secure-f5aa8a37-78e5-45f6-9c59-c643016...</td>\n",
       "      <td>GTEX-1117F</td>\n",
       "      <td>gs://fc-secure-f5aa8a37-78e5-45f6-9c59-c643016...</td>\n",
       "      <td>Heart_Atrial_Appendage</td>\n",
       "    </tr>\n",
       "  </tbody>\n",
       "</table>\n",
       "</div>"
      ],
      "text/plain": [
       "           entity:sample_id  \\\n",
       "0  GTEX-1117F-0226-SM-5GZZ7   \n",
       "1  GTEX-1117F-0426-SM-5EGHI   \n",
       "2  GTEX-1117F-0526-SM-5EGHJ   \n",
       "3  GTEX-1117F-0626-SM-5N9CS   \n",
       "4  GTEX-1117F-0726-SM-5GIEN   \n",
       "\n",
       "                                            aux_info participant  \\\n",
       "0  gs://fc-secure-f5aa8a37-78e5-45f6-9c59-c643016...  GTEX-1117F   \n",
       "1  gs://fc-secure-f5aa8a37-78e5-45f6-9c59-c643016...  GTEX-1117F   \n",
       "2  gs://fc-secure-f5aa8a37-78e5-45f6-9c59-c643016...  GTEX-1117F   \n",
       "3  gs://fc-secure-f5aa8a37-78e5-45f6-9c59-c643016...  GTEX-1117F   \n",
       "4  gs://fc-secure-f5aa8a37-78e5-45f6-9c59-c643016...  GTEX-1117F   \n",
       "\n",
       "                                           quantFile               tissue_id  \n",
       "0  gs://fc-secure-f5aa8a37-78e5-45f6-9c59-c643016...    Adipose_Subcutaneous  \n",
       "1  gs://fc-secure-f5aa8a37-78e5-45f6-9c59-c643016...         Muscle_Skeletal  \n",
       "2  gs://fc-secure-f5aa8a37-78e5-45f6-9c59-c643016...           Artery_Tibial  \n",
       "3  gs://fc-secure-f5aa8a37-78e5-45f6-9c59-c643016...         Artery_Coronary  \n",
       "4  gs://fc-secure-f5aa8a37-78e5-45f6-9c59-c643016...  Heart_Atrial_Appendage  "
      ]
     },
     "execution_count": 3,
     "metadata": {},
     "output_type": "execute_result"
    }
   ],
   "source": [
    "entityName = \"sample\"\n",
    "sampleTSV = rootDir + \"/\" + entityName + \".tsv\"\n",
    "sampleDF = pd.read_csv(sampleTSV, delimiter='\\t')\n",
    "sampleDF.head()"
   ]
  },
  {
   "cell_type": "code",
   "execution_count": 4,
   "metadata": {},
   "outputs": [
    {
     "data": {
      "text/html": [
       "<div>\n",
       "<style scoped>\n",
       "    .dataframe tbody tr th:only-of-type {\n",
       "        vertical-align: middle;\n",
       "    }\n",
       "\n",
       "    .dataframe tbody tr th {\n",
       "        vertical-align: top;\n",
       "    }\n",
       "\n",
       "    .dataframe thead th {\n",
       "        text-align: right;\n",
       "    }\n",
       "</style>\n",
       "<table border=\"1\" class=\"dataframe\">\n",
       "  <thead>\n",
       "    <tr style=\"text-align: right;\">\n",
       "      <th></th>\n",
       "      <th>entity:sample_id</th>\n",
       "      <th>aux_info</th>\n",
       "      <th>participant</th>\n",
       "      <th>quantFile</th>\n",
       "      <th>tissue_id</th>\n",
       "    </tr>\n",
       "  </thead>\n",
       "  <tbody>\n",
       "    <tr>\n",
       "      <th>17377</th>\n",
       "      <td>GTEX-ZZPU-2126-SM-5EGIU</td>\n",
       "      <td>gs://fc-secure-f5aa8a37-78e5-45f6-9c59-c643016...</td>\n",
       "      <td>GTEX-ZZPU</td>\n",
       "      <td>gs://fc-secure-f5aa8a37-78e5-45f6-9c59-c643016...</td>\n",
       "      <td>Ovary</td>\n",
       "    </tr>\n",
       "    <tr>\n",
       "      <th>17378</th>\n",
       "      <td>GTEX-ZZPU-2226-SM-5EGIV</td>\n",
       "      <td>gs://fc-secure-f5aa8a37-78e5-45f6-9c59-c643016...</td>\n",
       "      <td>GTEX-ZZPU</td>\n",
       "      <td>gs://fc-secure-f5aa8a37-78e5-45f6-9c59-c643016...</td>\n",
       "      <td>Vagina</td>\n",
       "    </tr>\n",
       "    <tr>\n",
       "      <th>17379</th>\n",
       "      <td>GTEX-ZZPU-2426-SM-5E44I</td>\n",
       "      <td>gs://fc-secure-f5aa8a37-78e5-45f6-9c59-c643016...</td>\n",
       "      <td>GTEX-ZZPU</td>\n",
       "      <td>gs://fc-secure-f5aa8a37-78e5-45f6-9c59-c643016...</td>\n",
       "      <td>Artery_Tibial</td>\n",
       "    </tr>\n",
       "    <tr>\n",
       "      <th>17380</th>\n",
       "      <td>GTEX-ZZPU-2626-SM-5E45Y</td>\n",
       "      <td>gs://fc-secure-f5aa8a37-78e5-45f6-9c59-c643016...</td>\n",
       "      <td>GTEX-ZZPU</td>\n",
       "      <td>gs://fc-secure-f5aa8a37-78e5-45f6-9c59-c643016...</td>\n",
       "      <td>Muscle_Skeletal</td>\n",
       "    </tr>\n",
       "    <tr>\n",
       "      <th>17381</th>\n",
       "      <td>GTEX-ZZPU-2726-SM-5NQ8O</td>\n",
       "      <td>gs://fc-secure-f5aa8a37-78e5-45f6-9c59-c643016...</td>\n",
       "      <td>GTEX-ZZPU</td>\n",
       "      <td>gs://fc-secure-f5aa8a37-78e5-45f6-9c59-c643016...</td>\n",
       "      <td>Adipose_Subcutaneous</td>\n",
       "    </tr>\n",
       "  </tbody>\n",
       "</table>\n",
       "</div>"
      ],
      "text/plain": [
       "              entity:sample_id  \\\n",
       "17377  GTEX-ZZPU-2126-SM-5EGIU   \n",
       "17378  GTEX-ZZPU-2226-SM-5EGIV   \n",
       "17379  GTEX-ZZPU-2426-SM-5E44I   \n",
       "17380  GTEX-ZZPU-2626-SM-5E45Y   \n",
       "17381  GTEX-ZZPU-2726-SM-5NQ8O   \n",
       "\n",
       "                                                aux_info participant  \\\n",
       "17377  gs://fc-secure-f5aa8a37-78e5-45f6-9c59-c643016...   GTEX-ZZPU   \n",
       "17378  gs://fc-secure-f5aa8a37-78e5-45f6-9c59-c643016...   GTEX-ZZPU   \n",
       "17379  gs://fc-secure-f5aa8a37-78e5-45f6-9c59-c643016...   GTEX-ZZPU   \n",
       "17380  gs://fc-secure-f5aa8a37-78e5-45f6-9c59-c643016...   GTEX-ZZPU   \n",
       "17381  gs://fc-secure-f5aa8a37-78e5-45f6-9c59-c643016...   GTEX-ZZPU   \n",
       "\n",
       "                                               quantFile             tissue_id  \n",
       "17377  gs://fc-secure-f5aa8a37-78e5-45f6-9c59-c643016...                 Ovary  \n",
       "17378  gs://fc-secure-f5aa8a37-78e5-45f6-9c59-c643016...                Vagina  \n",
       "17379  gs://fc-secure-f5aa8a37-78e5-45f6-9c59-c643016...         Artery_Tibial  \n",
       "17380  gs://fc-secure-f5aa8a37-78e5-45f6-9c59-c643016...       Muscle_Skeletal  \n",
       "17381  gs://fc-secure-f5aa8a37-78e5-45f6-9c59-c643016...  Adipose_Subcutaneous  "
      ]
     },
     "execution_count": 4,
     "metadata": {},
     "output_type": "execute_result"
    }
   ],
   "source": [
    "sampleDF.tail()"
   ]
  },
  {
   "cell_type": "markdown",
   "metadata": {},
   "source": [
    "#  select samples from data sets of interest"
   ]
  },
  {
   "cell_type": "code",
   "execution_count": 5,
   "metadata": {},
   "outputs": [
    {
     "data": {
      "text/html": [
       "<div>\n",
       "<style scoped>\n",
       "    .dataframe tbody tr th:only-of-type {\n",
       "        vertical-align: middle;\n",
       "    }\n",
       "\n",
       "    .dataframe tbody tr th {\n",
       "        vertical-align: top;\n",
       "    }\n",
       "\n",
       "    .dataframe thead th {\n",
       "        text-align: right;\n",
       "    }\n",
       "</style>\n",
       "<table border=\"1\" class=\"dataframe\">\n",
       "  <thead>\n",
       "    <tr style=\"text-align: right;\">\n",
       "      <th></th>\n",
       "      <th>membership:sample_set_id</th>\n",
       "      <th>sample</th>\n",
       "    </tr>\n",
       "  </thead>\n",
       "  <tbody>\n",
       "    <tr>\n",
       "      <th>0</th>\n",
       "      <td>Adipose_Subcutaneous</td>\n",
       "      <td>GTEX-1117F-0226-SM-5GZZ7</td>\n",
       "    </tr>\n",
       "    <tr>\n",
       "      <th>1</th>\n",
       "      <td>Adipose_Subcutaneous</td>\n",
       "      <td>GTEX-1B8KE-2526-SM-73KYQ</td>\n",
       "    </tr>\n",
       "    <tr>\n",
       "      <th>2</th>\n",
       "      <td>Adipose_Subcutaneous</td>\n",
       "      <td>GTEX-1AYD5-2326-SM-73KXF</td>\n",
       "    </tr>\n",
       "    <tr>\n",
       "      <th>3</th>\n",
       "      <td>Adipose_Subcutaneous</td>\n",
       "      <td>GTEX-1AYCT-2226-SM-7SB98</td>\n",
       "    </tr>\n",
       "    <tr>\n",
       "      <th>4</th>\n",
       "      <td>Adipose_Subcutaneous</td>\n",
       "      <td>GTEX-1AX9K-2426-SM-73KZ4</td>\n",
       "    </tr>\n",
       "  </tbody>\n",
       "</table>\n",
       "</div>"
      ],
      "text/plain": [
       "  membership:sample_set_id                    sample\n",
       "0     Adipose_Subcutaneous  GTEX-1117F-0226-SM-5GZZ7\n",
       "1     Adipose_Subcutaneous  GTEX-1B8KE-2526-SM-73KYQ\n",
       "2     Adipose_Subcutaneous  GTEX-1AYD5-2326-SM-73KXF\n",
       "3     Adipose_Subcutaneous  GTEX-1AYCT-2226-SM-7SB98\n",
       "4     Adipose_Subcutaneous  GTEX-1AX9K-2426-SM-73KZ4"
      ]
     },
     "execution_count": 5,
     "metadata": {},
     "output_type": "execute_result"
    }
   ],
   "source": [
    "entityName = \"sample_set_membership\"\n",
    "sampleSetMembershipTSV = rootDir + \"/\" + entityName + \".tsv\"\n",
    "sampleSetMembershipDF = pd.read_csv(sampleSetMembershipTSV, delimiter='\\t')\n",
    "sampleSetMembershipDF.head()"
   ]
  },
  {
   "cell_type": "code",
   "execution_count": 6,
   "metadata": {},
   "outputs": [
    {
     "name": "stdout",
     "output_type": "stream",
     "text": [
      "       membership:sample_set_id                       sample\n",
      "count                     17382                        17382\n",
      "unique                       54                        17382\n",
      "top             Muscle_Skeletal  GTEX-XMD1-0011-R1A-SM-4AT4C\n",
      "freq                        803                            1\n",
      "(17382, 2)\n"
     ]
    },
    {
     "data": {
      "text/html": [
       "<div>\n",
       "<style scoped>\n",
       "    .dataframe tbody tr th:only-of-type {\n",
       "        vertical-align: middle;\n",
       "    }\n",
       "\n",
       "    .dataframe tbody tr th {\n",
       "        vertical-align: top;\n",
       "    }\n",
       "\n",
       "    .dataframe thead th {\n",
       "        text-align: right;\n",
       "    }\n",
       "</style>\n",
       "<table border=\"1\" class=\"dataframe\">\n",
       "  <thead>\n",
       "    <tr style=\"text-align: right;\">\n",
       "      <th></th>\n",
       "      <th>membership:sample_set_id</th>\n",
       "      <th>sample</th>\n",
       "    </tr>\n",
       "  </thead>\n",
       "  <tbody>\n",
       "    <tr>\n",
       "      <th>0</th>\n",
       "      <td>Adipose_Subcutaneous</td>\n",
       "      <td>GTEX-1117F-0226-SM-5GZZ7</td>\n",
       "    </tr>\n",
       "    <tr>\n",
       "      <th>1</th>\n",
       "      <td>Adipose_Subcutaneous</td>\n",
       "      <td>GTEX-1B8KE-2526-SM-73KYQ</td>\n",
       "    </tr>\n",
       "    <tr>\n",
       "      <th>2</th>\n",
       "      <td>Adipose_Subcutaneous</td>\n",
       "      <td>GTEX-1AYD5-2326-SM-73KXF</td>\n",
       "    </tr>\n",
       "    <tr>\n",
       "      <th>3</th>\n",
       "      <td>Adipose_Subcutaneous</td>\n",
       "      <td>GTEX-1AYCT-2226-SM-7SB98</td>\n",
       "    </tr>\n",
       "    <tr>\n",
       "      <th>4</th>\n",
       "      <td>Adipose_Subcutaneous</td>\n",
       "      <td>GTEX-1AX9K-2426-SM-73KZ4</td>\n",
       "    </tr>\n",
       "  </tbody>\n",
       "</table>\n",
       "</div>"
      ],
      "text/plain": [
       "  membership:sample_set_id                    sample\n",
       "0     Adipose_Subcutaneous  GTEX-1117F-0226-SM-5GZZ7\n",
       "1     Adipose_Subcutaneous  GTEX-1B8KE-2526-SM-73KYQ\n",
       "2     Adipose_Subcutaneous  GTEX-1AYD5-2326-SM-73KXF\n",
       "3     Adipose_Subcutaneous  GTEX-1AYCT-2226-SM-7SB98\n",
       "4     Adipose_Subcutaneous  GTEX-1AX9K-2426-SM-73KZ4"
      ]
     },
     "execution_count": 6,
     "metadata": {},
     "output_type": "execute_result"
    }
   ],
   "source": [
    "# 9/29/21 we have run all the GTex tissue types. find all missing\n",
    "# dataSetNamesLst = [\"Whole_Blood\", \"Lung\", \"Prostate\", \"Pancreas\", \"Colon_Sigmoid\", \"Colon_Transverse\"]\n",
    "# submissionRows = sampleSetMembershipDF.loc[:, 'membership:sample_set_id'].isin( dataSetNamesLst )\n",
    "# submissionMembershipSamplesDF = sampleSetMembershipDF.loc[submissionRows, :]\n",
    "\n",
    "# 9/29/21 we have run all the GTex tissue types. find all missing\n",
    "submissionMembershipSamplesDF = sampleSetMembershipDF\n",
    "\n",
    "print( submissionMembershipSamplesDF.describe() )\n",
    "print( submissionMembershipSamplesDF.shape )\n",
    "submissionMembershipSamplesDF.head()"
   ]
  },
  {
   "cell_type": "markdown",
   "metadata": {},
   "source": [
    "# find sample that are missing quantFile"
   ]
  },
  {
   "cell_type": "code",
   "execution_count": 7,
   "metadata": {},
   "outputs": [
    {
     "name": "stdout",
     "output_type": "stream",
     "text": [
      "count     17382\n",
      "unique        2\n",
      "top       False\n",
      "freq      17381\n",
      "Name: entity:sample_id, dtype: object\n"
     ]
    },
    {
     "data": {
      "text/html": [
       "<div>\n",
       "<style scoped>\n",
       "    .dataframe tbody tr th:only-of-type {\n",
       "        vertical-align: middle;\n",
       "    }\n",
       "\n",
       "    .dataframe tbody tr th {\n",
       "        vertical-align: top;\n",
       "    }\n",
       "\n",
       "    .dataframe thead th {\n",
       "        text-align: right;\n",
       "    }\n",
       "</style>\n",
       "<table border=\"1\" class=\"dataframe\">\n",
       "  <thead>\n",
       "    <tr style=\"text-align: right;\">\n",
       "      <th></th>\n",
       "      <th>entity:sample_id</th>\n",
       "      <th>aux_info</th>\n",
       "      <th>participant</th>\n",
       "      <th>quantFile</th>\n",
       "      <th>tissue_id</th>\n",
       "    </tr>\n",
       "  </thead>\n",
       "  <tbody>\n",
       "    <tr>\n",
       "      <th>16313</th>\n",
       "      <td>GTEX-ZAJG-2626-SM-5S2NU</td>\n",
       "      <td>gs://fc-secure-f5aa8a37-78e5-45f6-9c59-c643016...</td>\n",
       "      <td>GTEX-ZAJG</td>\n",
       "      <td>gs://fc-secure-f5aa8a37-78e5-45f6-9c59-c643016...</td>\n",
       "      <td>Colon_Sigmoid</td>\n",
       "    </tr>\n",
       "  </tbody>\n",
       "</table>\n",
       "</div>"
      ],
      "text/plain": [
       "              entity:sample_id  \\\n",
       "16313  GTEX-ZAJG-2626-SM-5S2NU   \n",
       "\n",
       "                                                aux_info participant  \\\n",
       "16313  gs://fc-secure-f5aa8a37-78e5-45f6-9c59-c643016...   GTEX-ZAJG   \n",
       "\n",
       "                                               quantFile      tissue_id  \n",
       "16313  gs://fc-secure-f5aa8a37-78e5-45f6-9c59-c643016...  Colon_Sigmoid  "
      ]
     },
     "execution_count": 7,
     "metadata": {},
     "output_type": "execute_result"
    }
   ],
   "source": [
    "# test pandas\n",
    "rowsAEDWIP = sampleDF.loc[:, 'entity:sample_id'] == 'GTEX-ZAJG-2626-SM-5S2NU'\n",
    "print(rowsAEDWIP.describe())\n",
    "rowsAEDWIP.head()\n",
    "sampleDF.loc[ rowsAEDWIP, :]\n",
    "# sampleDF.loc[ rowsAEDWIP['entity:sample_id'], :]"
   ]
  },
  {
   "cell_type": "code",
   "execution_count": 8,
   "metadata": {},
   "outputs": [
    {
     "name": "stdout",
     "output_type": "stream",
     "text": [
      "(17382,)\n",
      "17382\n",
      "(17382, 3)\n"
     ]
    },
    {
     "data": {
      "text/html": [
       "<div>\n",
       "<style scoped>\n",
       "    .dataframe tbody tr th:only-of-type {\n",
       "        vertical-align: middle;\n",
       "    }\n",
       "\n",
       "    .dataframe tbody tr th {\n",
       "        vertical-align: top;\n",
       "    }\n",
       "\n",
       "    .dataframe thead th {\n",
       "        text-align: right;\n",
       "    }\n",
       "</style>\n",
       "<table border=\"1\" class=\"dataframe\">\n",
       "  <thead>\n",
       "    <tr style=\"text-align: right;\">\n",
       "      <th></th>\n",
       "      <th>entity:sample_id</th>\n",
       "      <th>tissue_id</th>\n",
       "      <th>quantFile</th>\n",
       "    </tr>\n",
       "  </thead>\n",
       "  <tbody>\n",
       "    <tr>\n",
       "      <th>17377</th>\n",
       "      <td>GTEX-ZZPU-2126-SM-5EGIU</td>\n",
       "      <td>Ovary</td>\n",
       "      <td>gs://fc-secure-f5aa8a37-78e5-45f6-9c59-c643016...</td>\n",
       "    </tr>\n",
       "    <tr>\n",
       "      <th>17378</th>\n",
       "      <td>GTEX-ZZPU-2226-SM-5EGIV</td>\n",
       "      <td>Vagina</td>\n",
       "      <td>gs://fc-secure-f5aa8a37-78e5-45f6-9c59-c643016...</td>\n",
       "    </tr>\n",
       "    <tr>\n",
       "      <th>17379</th>\n",
       "      <td>GTEX-ZZPU-2426-SM-5E44I</td>\n",
       "      <td>Artery_Tibial</td>\n",
       "      <td>gs://fc-secure-f5aa8a37-78e5-45f6-9c59-c643016...</td>\n",
       "    </tr>\n",
       "    <tr>\n",
       "      <th>17380</th>\n",
       "      <td>GTEX-ZZPU-2626-SM-5E45Y</td>\n",
       "      <td>Muscle_Skeletal</td>\n",
       "      <td>gs://fc-secure-f5aa8a37-78e5-45f6-9c59-c643016...</td>\n",
       "    </tr>\n",
       "    <tr>\n",
       "      <th>17381</th>\n",
       "      <td>GTEX-ZZPU-2726-SM-5NQ8O</td>\n",
       "      <td>Adipose_Subcutaneous</td>\n",
       "      <td>gs://fc-secure-f5aa8a37-78e5-45f6-9c59-c643016...</td>\n",
       "    </tr>\n",
       "  </tbody>\n",
       "</table>\n",
       "</div>"
      ],
      "text/plain": [
       "              entity:sample_id             tissue_id  \\\n",
       "17377  GTEX-ZZPU-2126-SM-5EGIU                 Ovary   \n",
       "17378  GTEX-ZZPU-2226-SM-5EGIV                Vagina   \n",
       "17379  GTEX-ZZPU-2426-SM-5E44I         Artery_Tibial   \n",
       "17380  GTEX-ZZPU-2626-SM-5E45Y       Muscle_Skeletal   \n",
       "17381  GTEX-ZZPU-2726-SM-5NQ8O  Adipose_Subcutaneous   \n",
       "\n",
       "                                               quantFile  \n",
       "17377  gs://fc-secure-f5aa8a37-78e5-45f6-9c59-c643016...  \n",
       "17378  gs://fc-secure-f5aa8a37-78e5-45f6-9c59-c643016...  \n",
       "17379  gs://fc-secure-f5aa8a37-78e5-45f6-9c59-c643016...  \n",
       "17380  gs://fc-secure-f5aa8a37-78e5-45f6-9c59-c643016...  \n",
       "17381  gs://fc-secure-f5aa8a37-78e5-45f6-9c59-c643016...  "
      ]
     },
     "execution_count": 8,
     "metadata": {},
     "output_type": "execute_result"
    }
   ],
   "source": [
    "sampleRows = sampleDF.loc[:, 'entity:sample_id'].isin( submissionMembershipSamplesDF.loc[:, 'sample'] )\n",
    "print(sampleRows.shape)\n",
    "print(sampleRows.sum())\n",
    "sampleRows.head()\n",
    "submissionSamplesDF = sampleDF.loc[ sampleRows, ['entity:sample_id', 'tissue_id','quantFile'] ]\n",
    "print(submissionSamplesDF.shape)\n",
    "submissionSamplesDF.tail()"
   ]
  },
  {
   "cell_type": "markdown",
   "metadata": {},
   "source": [
    "# find failed samples\n",
    "We only find samples that to. not have a quantFile. If there was a bug or other re-run of a workflow, we will not find\n",
    "fails from current run because there may be a quant file from an older run"
   ]
  },
  {
   "cell_type": "code",
   "execution_count": 9,
   "metadata": {},
   "outputs": [
    {
     "data": {
      "text/html": [
       "<div>\n",
       "<style scoped>\n",
       "    .dataframe tbody tr th:only-of-type {\n",
       "        vertical-align: middle;\n",
       "    }\n",
       "\n",
       "    .dataframe tbody tr th {\n",
       "        vertical-align: top;\n",
       "    }\n",
       "\n",
       "    .dataframe thead th {\n",
       "        text-align: right;\n",
       "    }\n",
       "</style>\n",
       "<table border=\"1\" class=\"dataframe\">\n",
       "  <thead>\n",
       "    <tr style=\"text-align: right;\">\n",
       "      <th></th>\n",
       "      <th>entity:sample_id</th>\n",
       "      <th>tissue_id</th>\n",
       "      <th>quantFile</th>\n",
       "    </tr>\n",
       "  </thead>\n",
       "  <tbody>\n",
       "  </tbody>\n",
       "</table>\n",
       "</div>"
      ],
      "text/plain": [
       "Empty DataFrame\n",
       "Columns: [entity:sample_id, tissue_id, quantFile]\n",
       "Index: []"
      ]
     },
     "execution_count": 9,
     "metadata": {},
     "output_type": "execute_result"
    }
   ],
   "source": [
    "failedSamplesDF = submissionSamplesDF[ submissionSamplesDF['quantFile'].isna() ]\n",
    "failedSamplesDF"
   ]
  },
  {
   "cell_type": "markdown",
   "metadata": {},
   "source": [
    "# Sanity Check"
   ]
  },
  {
   "cell_type": "code",
   "execution_count": 10,
   "metadata": {},
   "outputs": [
    {
     "data": {
      "text/html": [
       "<div>\n",
       "<style scoped>\n",
       "    .dataframe tbody tr th:only-of-type {\n",
       "        vertical-align: middle;\n",
       "    }\n",
       "\n",
       "    .dataframe tbody tr th {\n",
       "        vertical-align: top;\n",
       "    }\n",
       "\n",
       "    .dataframe thead th {\n",
       "        text-align: right;\n",
       "    }\n",
       "</style>\n",
       "<table border=\"1\" class=\"dataframe\">\n",
       "  <thead>\n",
       "    <tr style=\"text-align: right;\">\n",
       "      <th></th>\n",
       "      <th>entity:sample_id</th>\n",
       "      <th>quantFile</th>\n",
       "    </tr>\n",
       "    <tr>\n",
       "      <th>tissue_id</th>\n",
       "      <th></th>\n",
       "      <th></th>\n",
       "    </tr>\n",
       "  </thead>\n",
       "  <tbody>\n",
       "  </tbody>\n",
       "</table>\n",
       "</div>"
      ],
      "text/plain": [
       "Empty DataFrame\n",
       "Columns: [entity:sample_id, quantFile]\n",
       "Index: []"
      ]
     },
     "execution_count": 10,
     "metadata": {},
     "output_type": "execute_result"
    }
   ],
   "source": [
    "failedSamplesDF.groupby(\"tissue_id\").count()"
   ]
  },
  {
   "cell_type": "markdown",
   "metadata": {},
   "source": [
    "# create failed sample Data set"
   ]
  },
  {
   "cell_type": "markdown",
   "metadata": {},
   "source": [
    "# expected set format\n",
    "- ID (first column) \n",
    "    The first column is the ID column, the unique name of the set. The format is '<span style=\"color:red\">membership:</span>your-entity-name<span style=\"color:red\">_set_id</span>'. The parts in red are required exactly as typed. The entity-name is whatever the entity you are grouping together. For the Data-QuickStart it will be specimens, but if your workflow processes samples, it could be samples. \n",
    "\n",
    "\n",
    "- Entity column\n",
    "    The second column is the entity you're grouping into sets. The header must match the first column header of the table your workflow will take its single inputs from.\n",
    "\n",
    "Given a sample.tsv file  our sample_set file is \n",
    "```\n",
    "(base) $ cat sample_set_membership.tsv \n",
    "membership:sample_set_id\tsample\n",
    "set-d-4-panc\tGTEX-11GSP-0426-SM-5A5KX\n",
    "set-d-4-panc\tGTEX-11I78-0626-SM-5A5LZ\n",
    "set-d-4-panc\tGTEX-11LCK-0226-SM-5A5M6\n",
    "set-d-4-panc\tGTEX-11NSD-0526-SM-5A5LT\n",
    "```"
   ]
  },
  {
   "cell_type": "code",
   "execution_count": 11,
   "metadata": {},
   "outputs": [],
   "source": [
    "# load /reload data set tables\n",
    "# we want to make sure we did not fat finger something in memory\n",
    "entityName = \"sample_set_membership\"\n",
    "sampleSetMembershipTSV = rootDir + \"/\" + entityName + \".tsv\"\n",
    "sampleSetMembershipDF = pd.read_csv(sampleSetMembershipTSV, delimiter='\\t')\n",
    "\n",
    "entityName = \"sample_set_entity\"\n",
    "sampleSetEntityTSV = rootDir + \"/\" + entityName + \".tsv\"\n",
    "sampleSetEntityDF = pd.read_csv(sampleSetEntityTSV, delimiter='\\t')"
   ]
  },
  {
   "cell_type": "code",
   "execution_count": 12,
   "metadata": {},
   "outputs": [],
   "source": [
    "#newDataSetName = \"aug_2021_08_11-re-run\"\n",
    "#newDataSetName = \"2021_09_29-re-run\"\n",
    "# newDataSetName = \"2021_10_03-re-run\""
   ]
  },
  {
   "cell_type": "code",
   "execution_count": 13,
   "metadata": {},
   "outputs": [
    {
     "data": {
      "text/html": [
       "<div>\n",
       "<style scoped>\n",
       "    .dataframe tbody tr th:only-of-type {\n",
       "        vertical-align: middle;\n",
       "    }\n",
       "\n",
       "    .dataframe tbody tr th {\n",
       "        vertical-align: top;\n",
       "    }\n",
       "\n",
       "    .dataframe thead th {\n",
       "        text-align: right;\n",
       "    }\n",
       "</style>\n",
       "<table border=\"1\" class=\"dataframe\">\n",
       "  <thead>\n",
       "    <tr style=\"text-align: right;\">\n",
       "      <th></th>\n",
       "      <th>entity:sample_set_id</th>\n",
       "    </tr>\n",
       "  </thead>\n",
       "  <tbody>\n",
       "    <tr>\n",
       "      <th>50</th>\n",
       "      <td>Thyroid</td>\n",
       "    </tr>\n",
       "    <tr>\n",
       "      <th>51</th>\n",
       "      <td>Uterus</td>\n",
       "    </tr>\n",
       "    <tr>\n",
       "      <th>52</th>\n",
       "      <td>Vagina</td>\n",
       "    </tr>\n",
       "    <tr>\n",
       "      <th>53</th>\n",
       "      <td>Whole_Blood</td>\n",
       "    </tr>\n",
       "    <tr>\n",
       "      <th>0</th>\n",
       "      <td>2022-03-04-13:33-failed</td>\n",
       "    </tr>\n",
       "  </tbody>\n",
       "</table>\n",
       "</div>"
      ],
      "text/plain": [
       "       entity:sample_set_id\n",
       "50                  Thyroid\n",
       "51                   Uterus\n",
       "52                   Vagina\n",
       "53              Whole_Blood\n",
       "0   2022-03-04-13:33-failed"
      ]
     },
     "execution_count": 13,
     "metadata": {},
     "output_type": "execute_result"
    }
   ],
   "source": [
    "newSetDF = pd.DataFrame({\"entity:sample_set_id\":[newDataSetName]})\n",
    "newSampleSetEntityDF = sampleSetEntityDF.append( newSetDF )\n",
    "\n",
    "newSampleSetEntityDF.tail()"
   ]
  },
  {
   "cell_type": "code",
   "execution_count": 14,
   "metadata": {},
   "outputs": [],
   "source": [
    "ds = [newDataSetName] * failedSamplesDF.shape[0]\n",
    "failedSamplesDF['membership:sample_set_id'] = ds"
   ]
  },
  {
   "cell_type": "code",
   "execution_count": 15,
   "metadata": {},
   "outputs": [],
   "source": [
    "newMembershipDF = failedSamplesDF.loc[:,['membership:sample_set_id', 'entity:sample_id']]\n",
    "newMembershipDF = newMembershipDF.rename( columns={'membership:sample_set_id':'membership:sample_set_id',\n",
    "                         'entity:sample_id':'sample'} )\n",
    "newMembershipDF.head()\n",
    "newMembershipDF = sampleSetMembershipDF.append( newMembershipDF )"
   ]
  },
  {
   "cell_type": "markdown",
   "metadata": {},
   "source": [
    "# Save as tsv files"
   ]
  },
  {
   "cell_type": "code",
   "execution_count": 16,
   "metadata": {},
   "outputs": [
    {
     "name": "stdout",
     "output_type": "stream",
     "text": [
      "../../../terraDataModels/test-aedavids-proj/AnVIL_GTEx_V8_hg38_edu_ucsc_kim_lab/sample_set_entity.tsv\n"
     ]
    }
   ],
   "source": [
    "print(sampleSetEntityTSV)\n",
    "newSampleSetEntityDF.to_csv( sampleSetEntityTSV, sep='\\t', index=False )"
   ]
  },
  {
   "cell_type": "code",
   "execution_count": 17,
   "metadata": {},
   "outputs": [
    {
     "name": "stdout",
     "output_type": "stream",
     "text": [
      "../../../terraDataModels/test-aedavids-proj/AnVIL_GTEx_V8_hg38_edu_ucsc_kim_lab/sample_set_membership.tsv\n"
     ]
    }
   ],
   "source": [
    "print(sampleSetMembershipTSV)\n",
    "newMembershipDF.to_csv( sampleSetMembershipTSV, sep='\\t', index=False )"
   ]
  },
  {
   "cell_type": "code",
   "execution_count": null,
   "metadata": {},
   "outputs": [],
   "source": []
  }
 ],
 "metadata": {
  "kernelspec": {
   "display_name": "Python [conda env:extraCellularRNA] *",
   "language": "python",
   "name": "conda-env-extraCellularRNA-py"
  },
  "language_info": {
   "codemirror_mode": {
    "name": "ipython",
    "version": 3
   },
   "file_extension": ".py",
   "mimetype": "text/x-python",
   "name": "python",
   "nbconvert_exporter": "python",
   "pygments_lexer": "ipython3",
   "version": "3.7.6"
  }
 },
 "nbformat": 4,
 "nbformat_minor": 4
}
