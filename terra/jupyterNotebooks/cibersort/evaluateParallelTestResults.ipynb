{
 "cells": [
  {
   "cell_type": "markdown",
   "id": "95a229b5-c2c1-498f-b012-9ce90feb8afb",
   "metadata": {
    "tags": []
   },
   "source": [
    "# Evaluate parallelTest.sh Results\n",
    "```\n",
    "Andrew E. Davidson\n",
    "aedavids@ucsc.edu\n",
    "11/6/22\n",
    "```\n",
    "\n",
    "cibersort took 3.5 days to run on GTEx_TCGA training data set. \n",
    "\n",
    "<span style=\"color:green\">It is possible to split traning data set in to shards run cibersort concurrently and re-assemble results</span>\n",
    "\n",
    "ref:\n",
    "- extraCellularRNA/terra/cibersortx/cibersortParallelization.md \n",
    "- extraCellularRNA/terra/cibersortx/bin/parallelTest.sh\n",
    "\n",
    "results:\n",
    "- Fractions are the same\n",
    "- 'Mixture', 'Correlation', and  'RMSE' are the same\n",
    "- 16 out of 99 p-values are different\n",
    "    ```\n",
    "    array([-0.01, -0.03, -0.01, -0.02, -0.03, -0.02, -0.02, -0.04, -0.01,\n",
    "               -0.03, -0.02, -0.02, -0.03, -0.01, -0.02, -0.02])\n",
    "    ```\n",
    "\n",
    "TODO:\n",
    "- estimate run time"
   ]
  },
  {
   "cell_type": "code",
   "execution_count": 1,
   "id": "559804e1-ff15-48a6-b755-e5c6fa01ef79",
   "metadata": {},
   "outputs": [],
   "source": [
    "from IPython.display import display\n",
    "import numpy as np\n",
    "import pandas as pd\n",
    "import pathlib as pl"
   ]
  },
  {
   "cell_type": "code",
   "execution_count": 2,
   "id": "949bad9f-73a9-4c1e-9f51-0b252aaa6fb3",
   "metadata": {},
   "outputs": [
    {
     "name": "stdout",
     "output_type": "stream",
     "text": [
      "/scratch/aedavids/cibersort.out/parallelTest.sh-mixtureMatrix100.tvs-2022-11-06-14.55.05-PST\n",
      "/scratch/aedavids/cibersort.out/parallelTest.sh-mixtureMatrixLeft50.tsv-2022-11-06-14.57.10-PST\n",
      "/scratch/aedavids/cibersort.out/parallelTest.sh-mixtureMatrixRight50.tsv-2022-11-06-14.57.43-PST\n"
     ]
    }
   ],
   "source": [
    "! ls -d /scratch/aedavids/cibersort.out/parallelTest.sh-mixtureMa*"
   ]
  },
  {
   "cell_type": "code",
   "execution_count": 3,
   "id": "7419efb0-64a8-4456-96ef-c30580ea18b3",
   "metadata": {},
   "outputs": [],
   "source": [
    "rootDir = pl.Path(\"/scratch/aedavids/cibersort.out\")\n",
    "mixtureMatrix100Dir = rootDir.joinpath(\"parallelTest.sh-mixtureMatrix100.tvs-2022-11-06-14.55.05-PST\")\n",
    "m100f = \"CIBERSORTx_parallelTest.sh-mixtureMatrix100.tvs-2022-11-06-14.55.05-PST_Results.txt\"\n",
    "resultsMixture100File = mixtureMatrix100Dir.joinpath(m100f)"
   ]
  },
  {
   "cell_type": "code",
   "execution_count": 4,
   "id": "aa242c3f-cc86-4870-ba74-76e801e087b7",
   "metadata": {},
   "outputs": [],
   "source": [
    "mixtureMatrixLeft50Dir = rootDir.joinpath(\"parallelTest.sh-mixtureMatrixLeft50.tsv-2022-11-06-14.57.10-PST\")\n",
    "l50f = \"CIBERSORTx_parallelTest.sh-mixtureMatrixLeft50.tsv-2022-11-06-14.57.10-PST_Results.txt\"\n",
    "resultsMixtureLeft50File = mixtureMatrixLeft50Dir.joinpath(l50f)"
   ]
  },
  {
   "cell_type": "code",
   "execution_count": 5,
   "id": "e866b98d-4b49-434d-bfdd-708266fa16fe",
   "metadata": {},
   "outputs": [],
   "source": [
    "mixtureMatrixRight50Dir = rootDir.joinpath(\"parallelTest.sh-mixtureMatrixRight50.tsv-2022-11-06-14.57.43-PST\")\n",
    "r50f = \"CIBERSORTx_parallelTest.sh-mixtureMatrixRight50.tsv-2022-11-06-14.57.43-PST_Results.txt\"\n",
    "resultsMixtureRight50File = mixtureMatrixRight50Dir.joinpath(r50f)"
   ]
  },
  {
   "cell_type": "code",
   "execution_count": 6,
   "id": "98d5aab3-6527-4f77-ae42-616033d14063",
   "metadata": {},
   "outputs": [
    {
     "name": "stdout",
     "output_type": "stream",
     "text": [
      "(99, 87)\n"
     ]
    },
    {
     "data": {
      "text/html": [
       "<div>\n",
       "<style scoped>\n",
       "    .dataframe tbody tr th:only-of-type {\n",
       "        vertical-align: middle;\n",
       "    }\n",
       "\n",
       "    .dataframe tbody tr th {\n",
       "        vertical-align: top;\n",
       "    }\n",
       "\n",
       "    .dataframe thead th {\n",
       "        text-align: right;\n",
       "    }\n",
       "</style>\n",
       "<table border=\"1\" class=\"dataframe\">\n",
       "  <thead>\n",
       "    <tr style=\"text-align: right;\">\n",
       "      <th></th>\n",
       "      <th>Mixture</th>\n",
       "      <th>P-value</th>\n",
       "      <th>Correlation</th>\n",
       "      <th>RMSE</th>\n",
       "    </tr>\n",
       "  </thead>\n",
       "  <tbody>\n",
       "    <tr>\n",
       "      <th>0</th>\n",
       "      <td>GTEX-1117F-0226-SM-5GZZ7</td>\n",
       "      <td>0.0</td>\n",
       "      <td>0.985425</td>\n",
       "      <td>0.926455</td>\n",
       "    </tr>\n",
       "    <tr>\n",
       "      <th>1</th>\n",
       "      <td>GTEX-1117F-0526-SM-5EGHJ</td>\n",
       "      <td>0.0</td>\n",
       "      <td>0.979791</td>\n",
       "      <td>0.934695</td>\n",
       "    </tr>\n",
       "    <tr>\n",
       "      <th>2</th>\n",
       "      <td>GTEX-1117F-0726-SM-5GIEN</td>\n",
       "      <td>0.0</td>\n",
       "      <td>0.984906</td>\n",
       "      <td>0.447916</td>\n",
       "    </tr>\n",
       "    <tr>\n",
       "      <th>3</th>\n",
       "      <td>GTEX-1117F-2826-SM-5GZXL</td>\n",
       "      <td>0.0</td>\n",
       "      <td>0.988464</td>\n",
       "      <td>0.907675</td>\n",
       "    </tr>\n",
       "    <tr>\n",
       "      <th>4</th>\n",
       "      <td>GTEX-1117F-3226-SM-5N9CT</td>\n",
       "      <td>0.0</td>\n",
       "      <td>0.917052</td>\n",
       "      <td>0.949553</td>\n",
       "    </tr>\n",
       "  </tbody>\n",
       "</table>\n",
       "</div>"
      ],
      "text/plain": [
       "                    Mixture  P-value  Correlation      RMSE\n",
       "0  GTEX-1117F-0226-SM-5GZZ7      0.0     0.985425  0.926455\n",
       "1  GTEX-1117F-0526-SM-5EGHJ      0.0     0.979791  0.934695\n",
       "2  GTEX-1117F-0726-SM-5GIEN      0.0     0.984906  0.447916\n",
       "3  GTEX-1117F-2826-SM-5GZXL      0.0     0.988464  0.907675\n",
       "4  GTEX-1117F-3226-SM-5N9CT      0.0     0.917052  0.949553"
      ]
     },
     "execution_count": 6,
     "metadata": {},
     "output_type": "execute_result"
    }
   ],
   "source": [
    "results100DF = pd.read_csv(resultsMixture100File, sep=\"\\t\")\n",
    "print(results100DF.shape)\n",
    "results100DF.loc[:, ['Mixture', 'P-value', 'Correlation', 'RMSE']].head()"
   ]
  },
  {
   "cell_type": "code",
   "execution_count": 7,
   "id": "0772b5f2-e301-49ad-822e-d6191a075773",
   "metadata": {},
   "outputs": [
    {
     "name": "stdout",
     "output_type": "stream",
     "text": [
      "(49, 87)\n"
     ]
    },
    {
     "data": {
      "text/html": [
       "<div>\n",
       "<style scoped>\n",
       "    .dataframe tbody tr th:only-of-type {\n",
       "        vertical-align: middle;\n",
       "    }\n",
       "\n",
       "    .dataframe tbody tr th {\n",
       "        vertical-align: top;\n",
       "    }\n",
       "\n",
       "    .dataframe thead th {\n",
       "        text-align: right;\n",
       "    }\n",
       "</style>\n",
       "<table border=\"1\" class=\"dataframe\">\n",
       "  <thead>\n",
       "    <tr style=\"text-align: right;\">\n",
       "      <th></th>\n",
       "      <th>Mixture</th>\n",
       "      <th>P-value</th>\n",
       "      <th>Correlation</th>\n",
       "      <th>RMSE</th>\n",
       "    </tr>\n",
       "  </thead>\n",
       "  <tbody>\n",
       "    <tr>\n",
       "      <th>0</th>\n",
       "      <td>GTEX-1117F-0226-SM-5GZZ7</td>\n",
       "      <td>0.0</td>\n",
       "      <td>0.985425</td>\n",
       "      <td>0.926455</td>\n",
       "    </tr>\n",
       "    <tr>\n",
       "      <th>1</th>\n",
       "      <td>GTEX-1117F-0526-SM-5EGHJ</td>\n",
       "      <td>0.0</td>\n",
       "      <td>0.979791</td>\n",
       "      <td>0.934695</td>\n",
       "    </tr>\n",
       "    <tr>\n",
       "      <th>2</th>\n",
       "      <td>GTEX-1117F-0726-SM-5GIEN</td>\n",
       "      <td>0.0</td>\n",
       "      <td>0.984906</td>\n",
       "      <td>0.447916</td>\n",
       "    </tr>\n",
       "    <tr>\n",
       "      <th>3</th>\n",
       "      <td>GTEX-1117F-2826-SM-5GZXL</td>\n",
       "      <td>0.0</td>\n",
       "      <td>0.988464</td>\n",
       "      <td>0.907675</td>\n",
       "    </tr>\n",
       "    <tr>\n",
       "      <th>4</th>\n",
       "      <td>GTEX-1117F-3226-SM-5N9CT</td>\n",
       "      <td>0.0</td>\n",
       "      <td>0.917052</td>\n",
       "      <td>0.949553</td>\n",
       "    </tr>\n",
       "  </tbody>\n",
       "</table>\n",
       "</div>"
      ],
      "text/plain": [
       "                    Mixture  P-value  Correlation      RMSE\n",
       "0  GTEX-1117F-0226-SM-5GZZ7      0.0     0.985425  0.926455\n",
       "1  GTEX-1117F-0526-SM-5EGHJ      0.0     0.979791  0.934695\n",
       "2  GTEX-1117F-0726-SM-5GIEN      0.0     0.984906  0.447916\n",
       "3  GTEX-1117F-2826-SM-5GZXL      0.0     0.988464  0.907675\n",
       "4  GTEX-1117F-3226-SM-5N9CT      0.0     0.917052  0.949553"
      ]
     },
     "execution_count": 7,
     "metadata": {},
     "output_type": "execute_result"
    }
   ],
   "source": [
    "resultsLeft50DF = pd.read_csv(resultsMixtureLeft50File, sep=\"\\t\")\n",
    "print(resultsLeft50DF.shape)\n",
    "resultsLeft50DF.loc[:, ['Mixture', 'P-value', 'Correlation', 'RMSE']].head()"
   ]
  },
  {
   "cell_type": "code",
   "execution_count": 8,
   "id": "c9ea5a03-49a3-4304-8ef5-a9c2c94ed8ec",
   "metadata": {},
   "outputs": [
    {
     "name": "stdout",
     "output_type": "stream",
     "text": [
      "(50, 87)\n"
     ]
    },
    {
     "data": {
      "text/html": [
       "<div>\n",
       "<style scoped>\n",
       "    .dataframe tbody tr th:only-of-type {\n",
       "        vertical-align: middle;\n",
       "    }\n",
       "\n",
       "    .dataframe tbody tr th {\n",
       "        vertical-align: top;\n",
       "    }\n",
       "\n",
       "    .dataframe thead th {\n",
       "        text-align: right;\n",
       "    }\n",
       "</style>\n",
       "<table border=\"1\" class=\"dataframe\">\n",
       "  <thead>\n",
       "    <tr style=\"text-align: right;\">\n",
       "      <th></th>\n",
       "      <th>Mixture</th>\n",
       "      <th>P-value</th>\n",
       "      <th>Correlation</th>\n",
       "      <th>RMSE</th>\n",
       "    </tr>\n",
       "  </thead>\n",
       "  <tbody>\n",
       "    <tr>\n",
       "      <th>0</th>\n",
       "      <td>GTEX-1122O-0008-SM-5QGR2</td>\n",
       "      <td>0.08</td>\n",
       "      <td>0.119214</td>\n",
       "      <td>0.997317</td>\n",
       "    </tr>\n",
       "    <tr>\n",
       "      <th>1</th>\n",
       "      <td>GTEX-1122O-0126-SM-5GICA</td>\n",
       "      <td>0.00</td>\n",
       "      <td>0.982535</td>\n",
       "      <td>0.661330</td>\n",
       "    </tr>\n",
       "    <tr>\n",
       "      <th>2</th>\n",
       "      <td>GTEX-1122O-0226-SM-5N9DA</td>\n",
       "      <td>0.00</td>\n",
       "      <td>0.997790</td>\n",
       "      <td>0.120497</td>\n",
       "    </tr>\n",
       "    <tr>\n",
       "      <th>3</th>\n",
       "      <td>GTEX-1122O-0326-SM-5H124</td>\n",
       "      <td>0.00</td>\n",
       "      <td>0.958750</td>\n",
       "      <td>0.597504</td>\n",
       "    </tr>\n",
       "    <tr>\n",
       "      <th>4</th>\n",
       "      <td>GTEX-1122O-0526-SM-5N9DM</td>\n",
       "      <td>0.01</td>\n",
       "      <td>0.744702</td>\n",
       "      <td>0.934792</td>\n",
       "    </tr>\n",
       "  </tbody>\n",
       "</table>\n",
       "</div>"
      ],
      "text/plain": [
       "                    Mixture  P-value  Correlation      RMSE\n",
       "0  GTEX-1122O-0008-SM-5QGR2     0.08     0.119214  0.997317\n",
       "1  GTEX-1122O-0126-SM-5GICA     0.00     0.982535  0.661330\n",
       "2  GTEX-1122O-0226-SM-5N9DA     0.00     0.997790  0.120497\n",
       "3  GTEX-1122O-0326-SM-5H124     0.00     0.958750  0.597504\n",
       "4  GTEX-1122O-0526-SM-5N9DM     0.01     0.744702  0.934792"
      ]
     },
     "execution_count": 8,
     "metadata": {},
     "output_type": "execute_result"
    }
   ],
   "source": [
    "resultsRight50DF = pd.read_csv(resultsMixtureRight50File, sep=\"\\t\")\n",
    "print(resultsRight50DF.shape)\n",
    "# mixture is our sample id\n",
    "resultsRight50DF.loc[:, ['Mixture', 'P-value', 'Correlation', 'RMSE']].head()"
   ]
  },
  {
   "cell_type": "markdown",
   "id": "c7ebdff2-1327-473f-89ed-89498e6faed6",
   "metadata": {},
   "source": [
    "## combine top and bottom results\n",
    "Make sure top and bottom do not share any mixtures. "
   ]
  },
  {
   "cell_type": "code",
   "execution_count": 9,
   "id": "b96ad447-76de-4f11-9d5d-cd98b73021a6",
   "metadata": {},
   "outputs": [
    {
     "name": "stdout",
     "output_type": "stream",
     "text": [
      "(99,)\n",
      "(49,)\n",
      "(50,)\n",
      "0\n"
     ]
    }
   ],
   "source": [
    "mix100IdsNP = results100DF.loc[:, \"Mixture\"].to_numpy()\n",
    "print(mix100IdsNP.shape)\n",
    "\n",
    "l50IdsNP = resultsLeft50DF.loc[:, \"Mixture\"].to_numpy()\n",
    "print(l50IdsNP.shape)\n",
    "\n",
    "r50IdsNP = resultsRight50DF.loc[:, \"Mixture\"].to_numpy()\n",
    "print(r50IdsNP.shape)\n",
    "\n",
    "rightLeftIntersection = np.intersect1d(l50IdsNP,r50IdsNP)\n",
    "print(rightLeftIntersection.size)\n",
    "assert rightLeftIntersection.size == 0, \"ERROR left and write have mixture(ie sample) ids in common\"\n"
   ]
  },
  {
   "cell_type": "code",
   "execution_count": 10,
   "id": "6f924f3e-5d83-4524-93f1-92b6cc8dd639",
   "metadata": {},
   "outputs": [
    {
     "name": "stdout",
     "output_type": "stream",
     "text": [
      "(99, 87)\n",
      "(99, 87)\n"
     ]
    }
   ],
   "source": [
    "testDF = pd.concat([resultsLeft50DF, resultsRight50DF])\n",
    "print(results100DF.shape)\n",
    "print(testDF.shape)\n",
    "assert results100DF.shape == testDF.shape, \"ERROR the shape of the combination of lefst and right does not equal results100\""
   ]
  },
  {
   "cell_type": "markdown",
   "id": "f0fd2981-bc35-4dcc-9c3e-4a1c6d3e76e7",
   "metadata": {},
   "source": [
    "## Is resultsLeft50DF + resultsRight50DF data sets = results100DF ?"
   ]
  },
  {
   "cell_type": "code",
   "execution_count": 11,
   "id": "53205cb6-de78-4f58-ac4f-d946a5579d11",
   "metadata": {},
   "outputs": [],
   "source": [
    "# make sure mixture ids (ie samples are in the same order)\n",
    "assert sum(testDF.loc[:,[\"Mixture\"]].values == results100DF.loc[:,[\"Mixture\"]].values) == 99"
   ]
  },
  {
   "cell_type": "code",
   "execution_count": 12,
   "id": "f49ca236-108a-4a50-96d6-d7ace1ef563a",
   "metadata": {},
   "outputs": [
    {
     "name": "stdout",
     "output_type": "stream",
     "text": [
      "(99, 3)\n",
      "sum(isMetricClose): [83 99 99]\n",
      "some p-values are diffent\n"
     ]
    },
    {
     "data": {
      "text/plain": [
       "array([-0.01, -0.03, -0.01, -0.02, -0.03, -0.02, -0.02, -0.04, -0.01,\n",
       "       -0.03, -0.02, -0.02, -0.03, -0.01, -0.02, -0.02])"
      ]
     },
     "execution_count": 12,
     "metadata": {},
     "output_type": "execute_result"
    }
   ],
   "source": [
    "# check cibersort results stats\n",
    "\n",
    "# mixture is an object\n",
    "expected = results100DF.loc[:, ['P-value', 'Correlation', 'RMSE']].to_numpy()\n",
    "#print(expected.dtypes)\n",
    "ret = testDF.loc[:, ['P-value', 'Correlation', 'RMSE']].to_numpy()\n",
    "#print(ret.dtypes)\n",
    "\n",
    "atol = 1e-08 # 1e-06 # default is 1e-08\n",
    "rtol = 1e-05 # 1e-03 # default is 1e-05\n",
    "isMetricClose = np.isclose(expected, ret, rtol=rtol, atol=atol)\n",
    "\n",
    "# array([83, 99, 99]) 1e-08 1e-05\n",
    "print(isMetricClose.shape)\n",
    "print(\"sum(isMetricClose): {}\".format(sum(isMetricClose)))\n",
    "\n",
    "# ~ is not\n",
    "~isMetricClose[:,0]\n",
    "#display( results100DF.loc[~isMetricClose[:,0], ['Mixture', 'P-value', 'Correlation', 'RMSE']] )\n",
    "#testDF.loc[~isMetricClose[:,0], ['Mixture', 'P-value', 'Correlation', 'RMSE']]\n",
    "\n",
    "# print(results100DF.loc[~isMetricClose[:,0],'P-value'].to_numpy())\n",
    "# print(testDF.loc[~isMetricClose[:,0], 'P-value'].to_numpy())\n",
    "\n",
    "print(\"some p-values are diffent\")\n",
    "results100DF.loc[~isMetricClose[:,0],'P-value'].to_numpy() - testDF.loc[~isMetricClose[:,0], 'P-value'].to_numpy()"
   ]
  },
  {
   "cell_type": "code",
   "execution_count": 13,
   "id": "980e1ab0-75e9-4a79-b350-6864728d9028",
   "metadata": {},
   "outputs": [],
   "source": [
    "# make sure fractions are the same\n",
    "\n",
    "frationComponentsList = ['ACC', 'Adipose_Subcutaneous', 'Adipose_Visceral_Omentum',\n",
    "       'Adrenal_Gland', 'Artery_Aorta', 'Artery_Coronary', 'Artery_Tibial',\n",
    "       'BLCA', 'BRCA', 'Bladder', 'Brain_Amygdala',\n",
    "       'Brain_Anterior_cingulate_cortex_BA24', 'Brain_Caudate_basal_ganglia',\n",
    "       'Brain_Cerebellar_Hemisphere', 'Brain_Cerebellum', 'Brain_Cortex',\n",
    "       'Brain_Frontal_Cortex_BA9', 'Brain_Hippocampus', 'Brain_Hypothalamus',\n",
    "       'Brain_Nucleus_accumbens_basal_ganglia', 'Brain_Putamen_basal_ganglia',\n",
    "       'Brain_Spinal_cord_cervical_c-1', 'Brain_Substantia_nigra',\n",
    "       'Breast_Mammary_Tissue', 'CESC', 'CHOL', 'COAD',\n",
    "       'Cells_Cultured_fibroblasts', 'Cells_EBV-transformed_lymphocytes',\n",
    "       'Cervix_Endocervix', 'Colon_Sigmoid', 'Colon_Transverse', 'DLBC',\n",
    "       'ESCA', 'Esophagus_Gastroesophageal_Junction', 'Esophagus_Mucosa',\n",
    "       'Esophagus_Muscularis', 'GBM', 'HNSC', 'Heart_Atrial_Appendage',\n",
    "       'Heart_Left_Ventricle', 'KICH', 'KIRC', 'KIRP', 'Kidney_Cortex', 'LGG',\n",
    "       'LIHC', 'LUAD', 'LUSC', 'Liver', 'Lung', 'MESO', 'Minor_Salivary_Gland',\n",
    "       'Muscle_Skeletal', 'Nerve_Tibial', 'OV', 'Ovary', 'PAAD', 'PCPG',\n",
    "       'PRAD', 'Pancreas', 'Pituitary', 'Prostate', 'READ', 'SARC', 'SKCM',\n",
    "       'STAD', 'Skin_Not_Sun_Exposed_Suprapubic', 'Skin_Sun_Exposed_Lower_leg',\n",
    "       'Small_Intestine_Terminal_Ileum', 'Spleen', 'Stomach', 'TGCT', 'THCA',\n",
    "       'THYM', 'Testis', 'Thyroid', 'UCEC', 'UCS', 'UVM', 'Uterus', 'Vagina',\n",
    "       'Whole_Blood']\n",
    "\n",
    "retDF = testDF.loc[:,frationComponentsList ]\n",
    "expectedDF = results100DF.loc[:,frationComponentsList ]\n",
    "\n",
    "assert np.allclose(retDF, expectedDF), \"Error fractions are different\""
   ]
  }
 ],
 "metadata": {
  "kernelspec": {
   "display_name": "Python 3 (ipykernel)",
   "language": "python",
   "name": "python3"
  },
  "language_info": {
   "codemirror_mode": {
    "name": "ipython",
    "version": 3
   },
   "file_extension": ".py",
   "mimetype": "text/x-python",
   "name": "python",
   "nbconvert_exporter": "python",
   "pygments_lexer": "ipython3",
   "version": "3.7.6"
  }
 },
 "nbformat": 4,
 "nbformat_minor": 5
}
