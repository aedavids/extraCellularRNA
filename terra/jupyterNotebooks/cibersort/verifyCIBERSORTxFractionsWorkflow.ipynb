{
 "cells": [
  {
   "cell_type": "markdown",
   "id": "8a620347-3b4c-4c7e-962f-5cf5539a7292",
   "metadata": {},
   "source": [
    "# Verify CIBERSORTxFractionsWorkflow\n",
    "```\n",
    "Andrew Davidson\n",
    "aedavids@ucsc.edu\n",
    "3/28/31\n",
    "```\n",
    "verify scatter/gather produces same results as run with entire mixture file\n",
    "\n",
    "**Abstract**\n",
    "\n",
    "a mixture matrix with 15,801 was run three different ways\n",
    "- using Standford's docker\n",
    "- use scatter/gather, with at most  500 samples in a partition \n",
    "- use scatter/gather, with at most 1000 samples in a partition \n",
    "\n",
    "The fractions, R, and RMSE are identical\n",
    "\n",
    "The P-values varry. This is probably because the p-value is calculate using a monte-carlo simulation and we can not set the random see"
   ]
  },
  {
   "cell_type": "code",
   "execution_count": 1,
   "id": "087d1be7-c33b-4ebe-9a16-481559e76467",
   "metadata": {},
   "outputs": [],
   "source": [
    "import numpy as np\n",
    "import pandas as pd\n",
    "import pathlib as pl"
   ]
  },
  {
   "cell_type": "code",
   "execution_count": 2,
   "id": "2d657e34-1bd7-4ea6-89c5-038ee4738c39",
   "metadata": {},
   "outputs": [],
   "source": [
    "# ran Stanford docker on 2022-10-18-07 took 83:02 hrs. \n",
    "dockerRootPL = pl.Path(\"/private/groups/kimlab/GTEx_TCGA/cibersort.out/GTEx_TCGA_TrainGroupby_mixture\")\n",
    "dockerResultsPL =  dockerRootPL.joinpath(\"CIBERSORTx_GTEx_TCGA_TrainGroupby_mixture_Results.txt\")"
   ]
  },
  {
   "cell_type": "markdown",
   "id": "43c3c263-e4f4-4dbd-85f0-18377533509a",
   "metadata": {},
   "source": [
    "**/scratch/aedavids/CIBERSORTxFractionsWorkflow**\n",
    "extraCellularRNA/terra/cibersortx/wdl/runCibersortxFractionsTask.sh\n",
    "\n",
    "2 runs with with numSamplesInPartition = 500 the other = 1000\n",
    "\n",
    "```\n",
    "$ cat CIBERSORTxFractionsWorkflow.wdl.input.json\n",
    "{\n",
    "  \"CIBERSORTxFractionsWorkflow.sigmatrix\": \"/scratch/aedavids/CIBERSORTxFractionsWorkflow/wdl/geneSignatureProfiles/best/tmp/signatureGenes.tsv\",\n",
    "  \"CIBERSORTxFractionsWorkflow.QN\": \"false\",\n",
    "  \"CIBERSORTxFractionsWorkflow.verbose\": \"true\",\n",
    "  \"CIBERSORTxFractionsWorkflow.token\": \"3f561ab6d4cf373d11f23d8e205b4b72\",\n",
    "  \"CIBERSORTxFractionsWorkflow.username\":  \"aedavids@ucsc.edu\",\n",
    "  \"CIBERSORTxFractionsWorkflow.perm\": \"100\",\n",
    "  \"CIBERSORTxFractionsWorkflow.label\": \"fraction\",\n",
    "  \"CIBERSORTxFractionsWorkflow.mixture\":  \"/scratch/aedavids/CIBERSORTxFractionsWorkflow/wdl/geneSignatureProfiles/best/tmp/GTEx_TCGA_TrainGroupby_mixture.txt\",\n",
    "  \"CIBERSORTxFractionsWorkflow.numSamplesInPartition\": \"500\",\n",
    "  \"CIBERSORTxFractionsWorkflow.isCSV\": \"false\"\n",
    "}\n",
    "```"
   ]
  },
  {
   "cell_type": "code",
   "execution_count": 3,
   "id": "c37bfcae-39f0-4c05-83de-76c3b95dfcf1",
   "metadata": {},
   "outputs": [],
   "source": [
    "wfRootPl = pl.Path(\"/scratch/aedavids/CIBERSORTxFractionsWorkflow/wdl/\")\n",
    "parts500Pl = wfRootPl.joinpath(\"numSamplesInPartition500.output/results.txt\")\n",
    "parts1000Pl = wfRootPl.joinpath(\"numSamplesInPartition1000.output/results.txt\")"
   ]
  },
  {
   "cell_type": "markdown",
   "id": "31a4bfac-3c55-4b2a-803e-a3ccd10dd5e5",
   "metadata": {},
   "source": [
    "# check headers"
   ]
  },
  {
   "cell_type": "code",
   "execution_count": 4,
   "id": "73e2569e-ece8-45ea-9a04-fe0689719128",
   "metadata": {},
   "outputs": [
    {
     "name": "stdout",
     "output_type": "stream",
     "text": [
      "dockerDF.shape : (15801, 87)\n"
     ]
    }
   ],
   "source": [
    "dockerDF = pd.read_csv(dockerResultsPL, sep=\"\\t\")\n",
    "print(f'dockerDF.shape : {dockerDF.shape}')\n",
    "dockerDF_columns = dockerDF.columns"
   ]
  },
  {
   "cell_type": "code",
   "execution_count": 5,
   "id": "7a18fc4f-55e3-42cc-b9d8-3248334629f4",
   "metadata": {},
   "outputs": [
    {
     "name": "stdout",
     "output_type": "stream",
     "text": [
      "parts500DF.shape : (15801, 87)\n"
     ]
    }
   ],
   "source": [
    "parts500DF = pd.read_csv(parts500Pl, sep=\"\\t\")\n",
    "print(f'parts500DF.shape : {parts500DF.shape}')\n",
    "parts500DF_columns = parts500DF.columns"
   ]
  },
  {
   "cell_type": "code",
   "execution_count": 6,
   "id": "00748d66-c2c3-4fc3-ada4-9e27bd902eb2",
   "metadata": {},
   "outputs": [
    {
     "name": "stdout",
     "output_type": "stream",
     "text": [
      "parts1000DF.shape : (15801, 87)\n"
     ]
    }
   ],
   "source": [
    "parts1000DF = pd.read_csv(parts1000Pl, sep=\"\\t\")\n",
    "print(f'parts1000DF.shape : {parts1000DF.shape}')\n",
    "partsDF1000_columns = parts1000DF.columns"
   ]
  },
  {
   "cell_type": "code",
   "execution_count": 7,
   "id": "3605d85e-0455-4975-85ae-900c26ca7625",
   "metadata": {},
   "outputs": [],
   "source": [
    "assert (dockerDF_columns == parts500DF_columns).all(), \"ERROR docker and parts500 have columns are different\""
   ]
  },
  {
   "cell_type": "code",
   "execution_count": 8,
   "id": "64a14098-ec74-4b3f-9a1a-5817b7106189",
   "metadata": {},
   "outputs": [],
   "source": [
    "assert (dockerDF_columns == partsDF1000_columns).all(), \"ERROR docker and parts1000 have columns are different\""
   ]
  },
  {
   "cell_type": "markdown",
   "id": "4fd72bf3-dcb9-443a-a3cd-3f3564c20b82",
   "metadata": {},
   "source": [
    "# check sample names"
   ]
  },
  {
   "cell_type": "code",
   "execution_count": 9,
   "id": "b249760c-f495-47b5-ab08-acbe76a84ef6",
   "metadata": {},
   "outputs": [],
   "source": [
    "dockerSampleNamesNP    = dockerDF.loc[:   , 'Mixture'].values\n",
    "parts500SampleNamesNP  = parts500DF.loc[: , 'Mixture'].values\n",
    "parts1000SampleNamesNP = parts1000DF.loc[:, 'Mixture'].values"
   ]
  },
  {
   "cell_type": "code",
   "execution_count": 10,
   "id": "18efecd5-1e0a-4e1c-a079-6a22d3d98266",
   "metadata": {},
   "outputs": [],
   "source": [
    "emsg = \"ERROR docker and 500 sample names are different\"\n",
    "np.testing.assert_array_equal(dockerSampleNamesNP, parts500SampleNamesNP, err_msg=emsg,  verbose=True)"
   ]
  },
  {
   "cell_type": "code",
   "execution_count": 11,
   "id": "1d83d93d-e3a4-4818-af1c-dc82990c45ad",
   "metadata": {},
   "outputs": [],
   "source": [
    "emsg = \"ERROR docker and 1000 sample names are different\"\n",
    "np.testing.assert_array_equal(dockerSampleNamesNP, parts1000SampleNamesNP, err_msg=emsg,  verbose=True)"
   ]
  },
  {
   "cell_type": "markdown",
   "id": "a79d5e45-0845-4a6f-acb3-11b9d2269923",
   "metadata": {},
   "source": [
    "# check fractions\n",
    "compare numpy test performance to pandas"
   ]
  },
  {
   "cell_type": "code",
   "execution_count": 12,
   "id": "d56d80f2-ca48-4cad-bd50-3bc5cc608f9b",
   "metadata": {},
   "outputs": [],
   "source": [
    "cols = dockerDF_columns[1:-3].values.tolist()\n",
    "dockerFractionsDF = dockerDF.loc[: , cols]\n",
    "#dockerFractionsDF.head()"
   ]
  },
  {
   "cell_type": "code",
   "execution_count": 13,
   "id": "2d58f92b-d2bf-4d5e-b377-b867b05f40b4",
   "metadata": {},
   "outputs": [],
   "source": [
    "cols = parts500DF_columns[1:-3].values.tolist()\n",
    "parts500FractionsDF = parts500DF.loc[: , cols]"
   ]
  },
  {
   "cell_type": "code",
   "execution_count": 14,
   "id": "8c02447b-3079-4fe0-8374-168b6eb4133b",
   "metadata": {},
   "outputs": [],
   "source": [
    "cols = partsDF1000_columns[1:-3].values.tolist()\n",
    "parts1000FractionsDF = parts1000DF.loc[: , cols]"
   ]
  },
  {
   "cell_type": "code",
   "execution_count": 15,
   "id": "60348866-8158-48ae-bb4d-073064141d10",
   "metadata": {},
   "outputs": [
    {
     "name": "stdout",
     "output_type": "stream",
     "text": [
      "CPU times: user 5 µs, sys: 12 µs, total: 17 µs\n",
      "Wall time: 31 µs\n"
     ]
    }
   ],
   "source": [
    "%time\n",
    "emsg = \"ERROR dockerFractionsDF and parts500FractionsDF differ\"\n",
    "np.testing.assert_array_equal(dockerFractionsDF.values, parts500FractionsDF.values, err_msg=emsg, verbose=True)"
   ]
  },
  {
   "cell_type": "code",
   "execution_count": 16,
   "id": "68cde4d6-7e47-47fa-805a-4338ff3c02b7",
   "metadata": {},
   "outputs": [],
   "source": [
    "emsg = \"ERROR dockerFractionsDF and parts1000FractionsDF differ\"\n",
    "np.testing.assert_array_equal(dockerFractionsDF.values, parts1000FractionsDF.values, err_msg=emsg, verbose=True)"
   ]
  },
  {
   "cell_type": "markdown",
   "id": "df92d177-a910-4ae9-beb4-cef08bc20d39",
   "metadata": {},
   "source": [
    "# check stats\n",
    "p-values are calculated using monte carlo simulation. Good change they will diff"
   ]
  },
  {
   "cell_type": "code",
   "execution_count": 17,
   "id": "ff6130e7-784f-4d45-835d-1fd660462851",
   "metadata": {},
   "outputs": [
    {
     "data": {
      "text/html": [
       "<div>\n",
       "<style scoped>\n",
       "    .dataframe tbody tr th:only-of-type {\n",
       "        vertical-align: middle;\n",
       "    }\n",
       "\n",
       "    .dataframe tbody tr th {\n",
       "        vertical-align: top;\n",
       "    }\n",
       "\n",
       "    .dataframe thead th {\n",
       "        text-align: right;\n",
       "    }\n",
       "</style>\n",
       "<table border=\"1\" class=\"dataframe\">\n",
       "  <thead>\n",
       "    <tr style=\"text-align: right;\">\n",
       "      <th></th>\n",
       "      <th>Correlation</th>\n",
       "      <th>RMSE</th>\n",
       "    </tr>\n",
       "  </thead>\n",
       "  <tbody>\n",
       "    <tr>\n",
       "      <th>0</th>\n",
       "      <td>0.985425</td>\n",
       "      <td>0.926455</td>\n",
       "    </tr>\n",
       "    <tr>\n",
       "      <th>1</th>\n",
       "      <td>0.979791</td>\n",
       "      <td>0.934695</td>\n",
       "    </tr>\n",
       "    <tr>\n",
       "      <th>2</th>\n",
       "      <td>0.984906</td>\n",
       "      <td>0.447916</td>\n",
       "    </tr>\n",
       "    <tr>\n",
       "      <th>3</th>\n",
       "      <td>0.988464</td>\n",
       "      <td>0.907675</td>\n",
       "    </tr>\n",
       "    <tr>\n",
       "      <th>4</th>\n",
       "      <td>0.917052</td>\n",
       "      <td>0.949553</td>\n",
       "    </tr>\n",
       "  </tbody>\n",
       "</table>\n",
       "</div>"
      ],
      "text/plain": [
       "   Correlation      RMSE\n",
       "0     0.985425  0.926455\n",
       "1     0.979791  0.934695\n",
       "2     0.984906  0.447916\n",
       "3     0.988464  0.907675\n",
       "4     0.917052  0.949553"
      ]
     },
     "execution_count": 17,
     "metadata": {},
     "output_type": "execute_result"
    }
   ],
   "source": [
    "cols = dockerDF_columns[-2:].values.tolist()\n",
    "dockerStatsDF = dockerDF.loc[: , ['Correlation', 'RMSE']]\n",
    "dockerStatsDF.head()"
   ]
  },
  {
   "cell_type": "code",
   "execution_count": 18,
   "id": "50196d00-538a-4c42-9fbd-cebc0eb4640f",
   "metadata": {},
   "outputs": [],
   "source": [
    "cols = parts500DF_columns[-2:].values.tolist()\n",
    "parts500StatsDF = parts500DF.loc[: , ['Correlation', 'RMSE']]"
   ]
  },
  {
   "cell_type": "code",
   "execution_count": 19,
   "id": "cd7148f9-f6df-41ab-a439-d1259517c4b9",
   "metadata": {},
   "outputs": [],
   "source": [
    "cols = partsDF1000_columns[-2:].values.tolist()\n",
    "parts1000StatsDF = parts1000DF.loc[: , ['Correlation', 'RMSE']]"
   ]
  },
  {
   "cell_type": "code",
   "execution_count": 20,
   "id": "c0a1eb0a-7ecf-4627-b80d-9a9eace2a7d9",
   "metadata": {},
   "outputs": [],
   "source": [
    "pd.testing.assert_frame_equal(dockerStatsDF, parts500StatsDF)"
   ]
  },
  {
   "cell_type": "code",
   "execution_count": 21,
   "id": "224631d5-902f-4df4-be43-d0371c48cfc1",
   "metadata": {},
   "outputs": [],
   "source": [
    "pd.testing.assert_frame_equal(dockerStatsDF, parts1000StatsDF)"
   ]
  },
  {
   "cell_type": "markdown",
   "id": "b5f1e21b-a4a5-4e4c-8716-0d5b1f31d6ac",
   "metadata": {},
   "source": [
    "# P-values are off\n",
    "CIBERSORTx does not provide a way to set the random seed so the monte carlo simulation results may vary"
   ]
  },
  {
   "cell_type": "code",
   "execution_count": 22,
   "id": "403b00f5-79ef-4853-8910-d62e4093bf1c",
   "metadata": {},
   "outputs": [
    {
     "ename": "AssertionError",
     "evalue": "\nNot equal to tolerance rtol=1e-07, atol=0.02\n\nMismatched elements: 265 / 15801 (1.68%)\nMax absolute difference: 0.11\nMax relative difference: 3.\n x: array([0.  , 0.  , 0.  , ..., 0.01, 0.  , 0.  ])\n y: array([0.  , 0.  , 0.  , ..., 0.01, 0.  , 0.  ])",
     "output_type": "error",
     "traceback": [
      "\u001b[0;31m---------------------------------------------------------------------------\u001b[0m",
      "\u001b[0;31mAssertionError\u001b[0m                            Traceback (most recent call last)",
      "\u001b[0;32m/scratch/tmp/ipykernel_30878/3911355859.py\u001b[0m in \u001b[0;36m<module>\u001b[0;34m\u001b[0m\n\u001b[1;32m      1\u001b[0m \u001b[0;31m#np.testing.assert_array_equal(dockerDF.loc[:, \"P-value\"].values, parts500DF.loc[: ,\"P-value\"].values )\u001b[0m\u001b[0;34m\u001b[0m\u001b[0;34m\u001b[0m\u001b[0;34m\u001b[0m\u001b[0m\n\u001b[0;32m----> 2\u001b[0;31m \u001b[0mnp\u001b[0m\u001b[0;34m.\u001b[0m\u001b[0mtesting\u001b[0m\u001b[0;34m.\u001b[0m\u001b[0massert_allclose\u001b[0m\u001b[0;34m(\u001b[0m\u001b[0mdockerDF\u001b[0m\u001b[0;34m.\u001b[0m\u001b[0mloc\u001b[0m\u001b[0;34m[\u001b[0m\u001b[0;34m:\u001b[0m\u001b[0;34m,\u001b[0m \u001b[0;34m\"P-value\"\u001b[0m\u001b[0;34m]\u001b[0m\u001b[0;34m.\u001b[0m\u001b[0mvalues\u001b[0m\u001b[0;34m,\u001b[0m \u001b[0mparts500DF\u001b[0m\u001b[0;34m.\u001b[0m\u001b[0mloc\u001b[0m\u001b[0;34m[\u001b[0m\u001b[0;34m:\u001b[0m \u001b[0;34m,\u001b[0m\u001b[0;34m\"P-value\"\u001b[0m\u001b[0;34m]\u001b[0m\u001b[0;34m.\u001b[0m\u001b[0mvalues\u001b[0m\u001b[0;34m,\u001b[0m \u001b[0matol\u001b[0m\u001b[0;34m=\u001b[0m\u001b[0;36m0.02\u001b[0m \u001b[0;34m)\u001b[0m\u001b[0;34m\u001b[0m\u001b[0;34m\u001b[0m\u001b[0m\n\u001b[0m",
      "    \u001b[0;31m[... skipping hidden 1 frame]\u001b[0m\n",
      "\u001b[0;32m~/miniconda3/envs/extraCellularRNA/lib/python3.7/site-packages/numpy/testing/_private/utils.py\u001b[0m in \u001b[0;36massert_array_compare\u001b[0;34m(comparison, x, y, err_msg, verbose, header, precision, equal_nan, equal_inf)\u001b[0m\n\u001b[1;32m    840\u001b[0m                                 \u001b[0mverbose\u001b[0m\u001b[0;34m=\u001b[0m\u001b[0mverbose\u001b[0m\u001b[0;34m,\u001b[0m \u001b[0mheader\u001b[0m\u001b[0;34m=\u001b[0m\u001b[0mheader\u001b[0m\u001b[0;34m,\u001b[0m\u001b[0;34m\u001b[0m\u001b[0;34m\u001b[0m\u001b[0m\n\u001b[1;32m    841\u001b[0m                                 names=('x', 'y'), precision=precision)\n\u001b[0;32m--> 842\u001b[0;31m             \u001b[0;32mraise\u001b[0m \u001b[0mAssertionError\u001b[0m\u001b[0;34m(\u001b[0m\u001b[0mmsg\u001b[0m\u001b[0;34m)\u001b[0m\u001b[0;34m\u001b[0m\u001b[0;34m\u001b[0m\u001b[0m\n\u001b[0m\u001b[1;32m    843\u001b[0m     \u001b[0;32mexcept\u001b[0m \u001b[0mValueError\u001b[0m\u001b[0;34m:\u001b[0m\u001b[0;34m\u001b[0m\u001b[0;34m\u001b[0m\u001b[0m\n\u001b[1;32m    844\u001b[0m         \u001b[0;32mimport\u001b[0m \u001b[0mtraceback\u001b[0m\u001b[0;34m\u001b[0m\u001b[0;34m\u001b[0m\u001b[0m\n",
      "\u001b[0;31mAssertionError\u001b[0m: \nNot equal to tolerance rtol=1e-07, atol=0.02\n\nMismatched elements: 265 / 15801 (1.68%)\nMax absolute difference: 0.11\nMax relative difference: 3.\n x: array([0.  , 0.  , 0.  , ..., 0.01, 0.  , 0.  ])\n y: array([0.  , 0.  , 0.  , ..., 0.01, 0.  , 0.  ])"
     ]
    }
   ],
   "source": [
    "#np.testing.assert_array_equal(dockerDF.loc[:, \"P-value\"].values, parts500DF.loc[: ,\"P-value\"].values )\n",
    "np.testing.assert_allclose(dockerDF.loc[:, \"P-value\"].values, parts500DF.loc[: ,\"P-value\"].values, atol=0.02 )"
   ]
  },
  {
   "cell_type": "code",
   "execution_count": 23,
   "id": "a36a66a4-47ad-4a34-b032-e988f2828dca",
   "metadata": {},
   "outputs": [
    {
     "ename": "AssertionError",
     "evalue": "\nNot equal to tolerance rtol=1e-07, atol=0.02\n\nMismatched elements: 51 / 15801 (0.323%)\nMax absolute difference: 0.06\nMax relative difference: 3.\n x: array([0.  , 0.  , 0.  , ..., 0.01, 0.  , 0.  ])\n y: array([0.  , 0.  , 0.  , ..., 0.02, 0.01, 0.  ])",
     "output_type": "error",
     "traceback": [
      "\u001b[0;31m---------------------------------------------------------------------------\u001b[0m",
      "\u001b[0;31mAssertionError\u001b[0m                            Traceback (most recent call last)",
      "\u001b[0;32m/scratch/tmp/ipykernel_30878/792938198.py\u001b[0m in \u001b[0;36m<module>\u001b[0;34m\u001b[0m\n\u001b[0;32m----> 1\u001b[0;31m \u001b[0mnp\u001b[0m\u001b[0;34m.\u001b[0m\u001b[0mtesting\u001b[0m\u001b[0;34m.\u001b[0m\u001b[0massert_allclose\u001b[0m\u001b[0;34m(\u001b[0m\u001b[0mdockerDF\u001b[0m\u001b[0;34m.\u001b[0m\u001b[0mloc\u001b[0m\u001b[0;34m[\u001b[0m\u001b[0;34m:\u001b[0m\u001b[0;34m,\u001b[0m \u001b[0;34m\"P-value\"\u001b[0m\u001b[0;34m]\u001b[0m\u001b[0;34m.\u001b[0m\u001b[0mvalues\u001b[0m\u001b[0;34m,\u001b[0m \u001b[0mparts1000DF\u001b[0m\u001b[0;34m.\u001b[0m\u001b[0mloc\u001b[0m\u001b[0;34m[\u001b[0m\u001b[0;34m:\u001b[0m \u001b[0;34m,\u001b[0m\u001b[0;34m\"P-value\"\u001b[0m\u001b[0;34m]\u001b[0m\u001b[0;34m.\u001b[0m\u001b[0mvalues\u001b[0m\u001b[0;34m,\u001b[0m  \u001b[0matol\u001b[0m\u001b[0;34m=\u001b[0m\u001b[0;36m0.02\u001b[0m\u001b[0;34m)\u001b[0m\u001b[0;34m\u001b[0m\u001b[0;34m\u001b[0m\u001b[0m\n\u001b[0m",
      "    \u001b[0;31m[... skipping hidden 1 frame]\u001b[0m\n",
      "\u001b[0;32m~/miniconda3/envs/extraCellularRNA/lib/python3.7/site-packages/numpy/testing/_private/utils.py\u001b[0m in \u001b[0;36massert_array_compare\u001b[0;34m(comparison, x, y, err_msg, verbose, header, precision, equal_nan, equal_inf)\u001b[0m\n\u001b[1;32m    840\u001b[0m                                 \u001b[0mverbose\u001b[0m\u001b[0;34m=\u001b[0m\u001b[0mverbose\u001b[0m\u001b[0;34m,\u001b[0m \u001b[0mheader\u001b[0m\u001b[0;34m=\u001b[0m\u001b[0mheader\u001b[0m\u001b[0;34m,\u001b[0m\u001b[0;34m\u001b[0m\u001b[0;34m\u001b[0m\u001b[0m\n\u001b[1;32m    841\u001b[0m                                 names=('x', 'y'), precision=precision)\n\u001b[0;32m--> 842\u001b[0;31m             \u001b[0;32mraise\u001b[0m \u001b[0mAssertionError\u001b[0m\u001b[0;34m(\u001b[0m\u001b[0mmsg\u001b[0m\u001b[0;34m)\u001b[0m\u001b[0;34m\u001b[0m\u001b[0;34m\u001b[0m\u001b[0m\n\u001b[0m\u001b[1;32m    843\u001b[0m     \u001b[0;32mexcept\u001b[0m \u001b[0mValueError\u001b[0m\u001b[0;34m:\u001b[0m\u001b[0;34m\u001b[0m\u001b[0;34m\u001b[0m\u001b[0m\n\u001b[1;32m    844\u001b[0m         \u001b[0;32mimport\u001b[0m \u001b[0mtraceback\u001b[0m\u001b[0;34m\u001b[0m\u001b[0;34m\u001b[0m\u001b[0m\n",
      "\u001b[0;31mAssertionError\u001b[0m: \nNot equal to tolerance rtol=1e-07, atol=0.02\n\nMismatched elements: 51 / 15801 (0.323%)\nMax absolute difference: 0.06\nMax relative difference: 3.\n x: array([0.  , 0.  , 0.  , ..., 0.01, 0.  , 0.  ])\n y: array([0.  , 0.  , 0.  , ..., 0.02, 0.01, 0.  ])"
     ]
    }
   ],
   "source": [
    "np.testing.assert_allclose(dockerDF.loc[:, \"P-value\"].values, parts1000DF.loc[: ,\"P-value\"].values,  atol=0.02)"
   ]
  },
  {
   "cell_type": "code",
   "execution_count": null,
   "id": "5f6689d0-7bed-47ec-97d0-0be1c57c6f2a",
   "metadata": {},
   "outputs": [],
   "source": []
  }
 ],
 "metadata": {
  "kernelspec": {
   "display_name": "Python 3 (ipykernel)",
   "language": "python",
   "name": "python3"
  },
  "language_info": {
   "codemirror_mode": {
    "name": "ipython",
    "version": 3
   },
   "file_extension": ".py",
   "mimetype": "text/x-python",
   "name": "python",
   "nbconvert_exporter": "python",
   "pygments_lexer": "ipython3",
   "version": "3.7.6"
  }
 },
 "nbformat": 4,
 "nbformat_minor": 5
}
