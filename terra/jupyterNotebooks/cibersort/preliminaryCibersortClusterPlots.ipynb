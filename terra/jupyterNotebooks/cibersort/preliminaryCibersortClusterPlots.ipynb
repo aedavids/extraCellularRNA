{
 "cells": [
  {
   "cell_type": "markdown",
   "id": "d9af6a59-0c86-40cd-b2a5-c58dad5bf38f",
   "metadata": {},
   "source": [
    "# preliminary Cibersort Cluster Plots\n",
    "```\n",
    "aedavids@ucsc.edu\n",
    "11/18/2022\n",
    "```\n",
    "\n",
    "ref:\n",
    "- [python_louvain](https://python-louvain.readthedocs.io/en/latest/https://python-louvain.readthedocs.io/en/latest/)\n",
    "- [kaggle louvain-algorithm](https://www.kaggle.com/code/lsjsj92/network-graph-with-louvain-algorithm/notebookhttps://www.kaggle.com/code/lsjsj92/network-graph-with-louvain-algorithm/notebook)\n",
    "- [umap](https://umap-learn.readthedocs.io/en/latest/basic_usage.htmlhttps://umap-learn.readthedocs.io/en/latest/basic_usage.html)"
   ]
  },
  {
   "cell_type": "code",
   "execution_count": 1,
   "id": "c11842f9-3514-4c40-b87b-02e56f696905",
   "metadata": {},
   "outputs": [
    {
     "name": "stderr",
     "output_type": "stream",
     "text": [
      "/private/home/aedavids/miniconda3/envs/extraCellularRNA/lib/python3.7/site-packages/tqdm/auto.py:22: TqdmWarning: IProgress not found. Please update jupyter and ipywidgets. See https://ipywidgets.readthedocs.io/en/stable/user_install.html\n",
      "  from .autonotebook import tqdm as notebook_tqdm\n",
      "2022-11-18 18:14:19.416318: W tensorflow/stream_executor/platform/default/dso_loader.cc:60] Could not load dynamic library 'libcudart.so.11.0'; dlerror: libcudart.so.11.0: cannot open shared object file: No such file or directory\n",
      "2022-11-18 18:14:19.416409: I tensorflow/stream_executor/cuda/cudart_stub.cc:29] Ignore above cudart dlerror if you do not have a GPU set up on your machine.\n"
     ]
    },
    {
     "name": "stdout",
     "output_type": "stream",
     "text": [
      "cibersortFractionsDF.shape:(15801, 87)\n",
      "\n",
      "testFractionsDF.shape:(1580, 83)\n"
     ]
    },
    {
     "data": {
      "text/html": [
       "<div>\n",
       "<style scoped>\n",
       "    .dataframe tbody tr th:only-of-type {\n",
       "        vertical-align: middle;\n",
       "    }\n",
       "\n",
       "    .dataframe tbody tr th {\n",
       "        vertical-align: top;\n",
       "    }\n",
       "\n",
       "    .dataframe thead th {\n",
       "        text-align: right;\n",
       "    }\n",
       "</style>\n",
       "<table border=\"1\" class=\"dataframe\">\n",
       "  <thead>\n",
       "    <tr style=\"text-align: right;\">\n",
       "      <th></th>\n",
       "      <th>ACC</th>\n",
       "      <th>Adipose_Subcutaneous</th>\n",
       "      <th>Adipose_Visceral_Omentum</th>\n",
       "      <th>Adrenal_Gland</th>\n",
       "      <th>Artery_Aorta</th>\n",
       "    </tr>\n",
       "  </thead>\n",
       "  <tbody>\n",
       "    <tr>\n",
       "      <th>4886</th>\n",
       "      <td>0.000159</td>\n",
       "      <td>0.085722</td>\n",
       "      <td>0.000000</td>\n",
       "      <td>0.0</td>\n",
       "      <td>0.032369</td>\n",
       "    </tr>\n",
       "    <tr>\n",
       "      <th>3782</th>\n",
       "      <td>0.000000</td>\n",
       "      <td>0.192748</td>\n",
       "      <td>0.148297</td>\n",
       "      <td>0.0</td>\n",
       "      <td>0.084870</td>\n",
       "    </tr>\n",
       "    <tr>\n",
       "      <th>14633</th>\n",
       "      <td>0.000000</td>\n",
       "      <td>0.119645</td>\n",
       "      <td>0.000938</td>\n",
       "      <td>0.0</td>\n",
       "      <td>0.073376</td>\n",
       "    </tr>\n",
       "    <tr>\n",
       "      <th>3770</th>\n",
       "      <td>0.000000</td>\n",
       "      <td>0.000000</td>\n",
       "      <td>0.133925</td>\n",
       "      <td>0.0</td>\n",
       "      <td>0.000000</td>\n",
       "    </tr>\n",
       "    <tr>\n",
       "      <th>3801</th>\n",
       "      <td>0.000133</td>\n",
       "      <td>0.077444</td>\n",
       "      <td>0.004934</td>\n",
       "      <td>0.0</td>\n",
       "      <td>0.028633</td>\n",
       "    </tr>\n",
       "  </tbody>\n",
       "</table>\n",
       "</div>"
      ],
      "text/plain": [
       "            ACC  Adipose_Subcutaneous  Adipose_Visceral_Omentum  \\\n",
       "4886   0.000159              0.085722                  0.000000   \n",
       "3782   0.000000              0.192748                  0.148297   \n",
       "14633  0.000000              0.119645                  0.000938   \n",
       "3770   0.000000              0.000000                  0.133925   \n",
       "3801   0.000133              0.077444                  0.004934   \n",
       "\n",
       "       Adrenal_Gland  Artery_Aorta  \n",
       "4886             0.0      0.032369  \n",
       "3782             0.0      0.084870  \n",
       "14633            0.0      0.073376  \n",
       "3770             0.0      0.000000  \n",
       "3801             0.0      0.028633  "
      ]
     },
     "execution_count": 1,
     "metadata": {},
     "output_type": "execute_result"
    }
   ],
   "source": [
    "from IPython.display import display\n",
    "import community as community_louvain\n",
    "import networkx as nx\n",
    "import numpy as np\n",
    "import pandas as pd\n",
    "import pathlib as pl\n",
    "from sklearn.metrics import pairwise_distances\n",
    "import umap \n",
    "\n",
    "# load cibersort results\n",
    "cibersortOut = pl.Path(\"/scratch/aedavids/cibersort.out/GTEx_TCGA_TrainGroupby_mixture-2022-10-18-07.40.54-PDT\")\n",
    "cibersortRet = cibersortOut.joinpath(\"CIBERSORTx_GTEx_TCGA_TrainGroupby_mixture-2022-10-18-07.40.54-PDT_Results.txt\")\n",
    "cibersortFractionsDF = pd.read_csv(cibersortRet, sep='\\t')\n",
    "print(\"cibersortFractionsDF.shape:{}\".format(cibersortFractionsDF.shape))\n",
    "\n",
    "# pull a small sample to debug algorithm\n",
    "statCols = ['Mixture', 'P-value', 'Correlation', 'RMSE']\n",
    "testFractionsDF = cibersortFractionsDF.drop(columns=statCols).sample(frac=0.1)\n",
    "print(\"\\ntestFractionsDF.shape:{}\".format(testFractionsDF.shape))\n",
    "\n",
    "testFractionsDF.iloc[:, 0:5].head()"
   ]
  },
  {
   "cell_type": "code",
   "execution_count": 2,
   "id": "c12b558e-1e9c-419d-9835-c04aa8f02bf1",
   "metadata": {},
   "outputs": [
    {
     "name": "stdout",
     "output_type": "stream",
     "text": [
      "(1580, 1580)\n"
     ]
    },
    {
     "data": {
      "text/plain": [
       "array([[0.        , 0.42058879],\n",
       "       [0.42058879, 0.        ],\n",
       "       [0.57329621, 0.4982591 ],\n",
       "       [0.55754933, 0.48503299],\n",
       "       [0.7679776 , 0.72328519]])"
      ]
     },
     "execution_count": 2,
     "metadata": {},
     "output_type": "execute_result"
    }
   ],
   "source": [
    "#n_samples_X, n_features\n",
    "distanceMatrixNP = pairwise_distances(testFractionsDF, metric='euclidean')\n",
    "print(distanceMatrixNP.shape)\n",
    "distanceMatrixNP[0:5, 0:2]"
   ]
  },
  {
   "cell_type": "code",
   "execution_count": 3,
   "id": "a2c0b69e-dd30-4130-90ee-887a80dcc165",
   "metadata": {},
   "outputs": [],
   "source": [
    "def findNearestNeighborsForRow( rowNP, k):\n",
    "    '''\n",
    "    \n",
    "    Notes: \n",
    "        The point can have multiple neighbors with the same distance\n",
    "        \n",
    "        Given B is a nearest neighbor of A does not imply that A is a nearest neighbor of B \n",
    "        \n",
    "    arguments\n",
    "        rowNP: type, NumpyArray\n",
    "            a sample\n",
    "            \n",
    "        k: type int\n",
    "            the number of nearest neighbors to find\n",
    "    \n",
    "     returns:\n",
    "            a row in adjacency matrix format of k nearest neighbors as\n",
    "            two numpy arrays. The values in the first array are the indices \n",
    "            for the row argument nearest neighbors. The values of the second\n",
    "            array are the distances\n",
    "    '''\n",
    "    sortedIdx = np.argsort(rowNP)\n",
    "    sortedDistances = rowNP[sortedIdx]\n",
    "\n",
    "    # \n",
    "    # if we are running using results for true knn the diagonal will be 0\n",
    "    # all other values will be > 0\n",
    "    # if we are running bb-knn some the distance matrix is not square\n",
    "    # that is to say we may or may not have a zero\n",
    "    # \n",
    "    start = 0\n",
    "    if sortedDistances[0] == 0:\n",
    "        start = 1 \n",
    "\n",
    "    neighborsDistances = sortedDistances[start: k + start]\n",
    "    neighborsIdxs= sortedIdx[start: k + start]\n",
    "    \n",
    "    return (neighborsIdxs, neighborsDistances)"
   ]
  },
  {
   "cell_type": "code",
   "execution_count": 4,
   "id": "38de2aa4-ad7c-4062-85ff-c2b8204e8e7c",
   "metadata": {},
   "outputs": [
    {
     "name": "stdout",
     "output_type": "stream",
     "text": [
      "create unit test\n",
      "[1 3]\n",
      "[11.18033989 11.18033989]\n"
     ]
    }
   ],
   "source": [
    "def testFindNearestNeighborsForRow():\n",
    "    print(\"create unit test\")\n",
    "    testNP = np.arange(0,25).reshape((5,5))\n",
    "    pairWiseDistanceTestNP = pairwise_distances(testNP, metric='euclidean')\n",
    "    nearestNeighborsIdx, nearestNeighborsDistance = findNearestNeighborsForRow( pairWiseDistanceTestNP[2], k=2)\n",
    "    print(nearestNeighborsIdx)\n",
    "    print(nearestNeighborsDistance)\n",
    "    \n",
    "testFindNearestNeighborsForRow()"
   ]
  },
  {
   "cell_type": "code",
   "execution_count": 5,
   "id": "eb238963-36e4-4248-a16f-84e8cf40a86d",
   "metadata": {},
   "outputs": [],
   "source": [
    "def getNeighbors( pairwiseDistanceMatrixNP, k):\n",
    "    '''\n",
    "    arguments:\n",
    "        pairwiseDistanceMatrix: type numpy\n",
    "        \n",
    "        k: type int, number of neighbors to find\n",
    "        \n",
    "    returns:\n",
    "        (knnIndices, knnDistance)\n",
    "        \n",
    "        a row in adjacency matrix format of k nearest neighbors as\n",
    "        two numpy matries. The values in knnIndices are idx \n",
    "        for the row argument nearest neighbors. The values in knnDistance\n",
    "        are the distances\n",
    "    '''\n",
    "    n = pairwiseDistanceMatrixNP.shape[0]\n",
    "    print(\"pairwiseDistanceMatrixNP.shape:{}\".format(pairwiseDistanceMatrixNP.shape))\n",
    "    knnIndices = np.zeros((n,k))\n",
    "    knnDistance = np.zeros((n,k))\n",
    "    for i in range(n):\n",
    "        row = pairwiseDistanceMatrixNP[i,:]\n",
    "        nearestNeighborsIdx, nearestNeighborsDistance = findNearestNeighborsForRow( row, k )\n",
    "        knnIndices[i] = nearestNeighborsIdx\n",
    "        knnDistance[i] = nearestNeighborsDistance\n",
    "\n",
    "        # print(\"\\n**** i:{}\".format(i))\n",
    "        # print(\"row:\\n{}\".format(row))\n",
    "        # print(\"nearestNeighborsIdx:\\n{}\".format(nearestNeighborsIdx))\n",
    "        # print(\"nearestNeighborsDistance:\\n{}\".format(nearestNeighborsDistance))\n",
    "            \n",
    "    return (knnIndices, knnDistance)\n",
    "    "
   ]
  },
  {
   "cell_type": "code",
   "execution_count": 6,
   "id": "b927414d-818b-46dc-8c3b-b88da5a21d7e",
   "metadata": {},
   "outputs": [
    {
     "name": "stdout",
     "output_type": "stream",
     "text": [
      "create unit test\n",
      "pairwiseDistanceMatrixNP.shape:(5, 5)\n",
      "knnIndices\n",
      "[[1. 2.]\n",
      " [0. 2.]\n",
      " [1. 3.]\n",
      " [2. 4.]\n",
      " [3. 2.]]\n",
      "\n",
      "knnDistance\n",
      "[[11.18033989 22.36067977]\n",
      " [11.18033989 11.18033989]\n",
      " [11.18033989 11.18033989]\n",
      " [11.18033989 11.18033989]\n",
      " [11.18033989 22.36067977]]\n"
     ]
    }
   ],
   "source": [
    "def testGetNeighbors():\n",
    "    print(\"create unit test\")\n",
    "    testNP = np.arange(0,25).reshape((5,5))\n",
    "    pairWiseDistanceTestNP = pairwise_distances(testNP, metric='euclidean')\n",
    "    knnIndices, knnDistance = getNeighbors( pairWiseDistanceTestNP, k= 2)\n",
    "    print(\"knnIndices\\n{}\".format(knnIndices))\n",
    "    print(\"\\nknnDistance\\n{}\".format(knnDistance))\n",
    "    \n",
    "testGetNeighbors()"
   ]
  },
  {
   "cell_type": "markdown",
   "id": "0ffeeb68-7bf4-4217-8016-174e48d28503",
   "metadata": {},
   "source": [
    "# run louvian "
   ]
  },
  {
   "cell_type": "code",
   "execution_count": null,
   "id": "da5f50d4-2aa4-4480-8f3c-c69a06a78448",
   "metadata": {},
   "outputs": [],
   "source": [
    "# get edges and weight\n",
    "edges = df_edges[['source', 'target']].values.tolist()\n",
    "weights = [float(l) for l in df_edges.value.values.tolist()]"
   ]
  },
  {
   "cell_type": "code",
   "execution_count": 40,
   "id": "ad24a101-4e6b-40ba-a28f-660c030e1221",
   "metadata": {},
   "outputs": [
    {
     "name": "stdout",
     "output_type": "stream",
     "text": [
      "create unit test\n",
      "pairwiseDistanceMatrixNP.shape:(5, 5)\n",
      "knnIndices\n",
      "[[1. 2. 3.]\n",
      " [0. 2. 3.]\n",
      " [1. 3. 0.]\n",
      " [2. 4. 1.]\n",
      " [3. 2. 1.]]\n",
      "\n",
      "knnDistance\n",
      "[[11.18033989 22.36067977 33.54101966]\n",
      " [11.18033989 11.18033989 22.36067977]\n",
      " [11.18033989 11.18033989 22.36067977]\n",
      " [11.18033989 11.18033989 22.36067977]\n",
      " [11.18033989 22.36067977 33.54101966]]\n",
      "\n",
      "**** begin createGraph()test\n",
      "\n",
      "edges\n",
      "[[0, 1], [0, 2], [0, 3]]\n",
      "[[1, 0], [1, 2], [1, 3]]\n",
      "[[2, 1], [2, 3], [2, 0]]\n",
      "[[3, 2], [3, 4], [3, 1]]\n",
      "[[4, 3], [4, 2], [4, 1]]\n",
      "\n",
      "weights\n",
      "[11.180339887498949, 22.360679774997898, 33.54101966249684]\n",
      "[11.180339887498949, 11.180339887498949, 22.360679774997898]\n",
      "[11.180339887498949, 11.180339887498949, 22.360679774997898]\n",
      "[11.180339887498949, 11.180339887498949, 22.360679774997898]\n",
      "[11.180339887498949, 22.360679774997898, 33.54101966249684]\n",
      "\n",
      "cnt:0 a:(0, 1, {}) weights[cnt]:11.180339887498949\n",
      "cnt:1 a:(0, 2, {}) weights[cnt]:22.360679774997898\n",
      "cnt:2 a:(0, 3, {}) weights[cnt]:33.54101966249684\n",
      "cnt:3 a:(1, 2, {}) weights[cnt]:11.180339887498949\n",
      "cnt:4 a:(1, 3, {}) weights[cnt]:11.180339887498949\n",
      "cnt:5 a:(1, 4, {}) weights[cnt]:22.360679774997898\n",
      "cnt:6 a:(2, 3, {}) weights[cnt]:11.180339887498949\n",
      "cnt:7 a:(2, 4, {}) weights[cnt]:11.180339887498949\n",
      "cnt:8 a:(3, 4, {}) weights[cnt]:22.360679774997898\n",
      "\n",
      "*********graph\n",
      "\n",
      "Graph with 5 nodes and 9 edges\n",
      "\n",
      "*********graph\n",
      "\n",
      "Graph with 5 nodes and 9 edges\n"
     ]
    }
   ],
   "source": [
    "def createGraph(knnIndices, knnDistance):\n",
    "    '''\n",
    "    aedwip\n",
    "    arguments:\n",
    "        knnIndices\n",
    "        \n",
    "        knnDistance\n",
    "        \n",
    "    returns:\n",
    "        aedwip\n",
    "    '''    \n",
    "    # create a list of directed edges and edge weights\n",
    "    # an edge src is the origin knnIndices row idx, the targers are the values knnIndices[i]\n",
    "    knnIndices = knnIndices.astype(int)\n",
    "    nRows, nCols = knnIndices.shape\n",
    "    edges = [0] * (nRows * nCols)\n",
    "    weights = [0] * (nRows * nCols)\n",
    "    edgeIdx = 0\n",
    "    for i in range(nRows):\n",
    "        row = knnIndices[i]\n",
    "        src = i\n",
    "        for j in range(nCols):\n",
    "            target = row[j]\n",
    "            edges[edgeIdx] = [src, target]\n",
    "            weights[edgeIdx] = knnDistance[src, j]\n",
    "            edgeIdx += 1\n",
    "            \n",
    "    print(\"\\nedges\")\n",
    "    for i in range(5):\n",
    "        start = i * 3\n",
    "        print(\"{}\".format(edges[start: start + 3]))\n",
    "    print(\"\\nweights\")\n",
    "    for i in range(5):\n",
    "        start = i * 3\n",
    "        print(\"{}\".format(weights[start: start + 3]))\n",
    "    \n",
    "    # Create Graph\n",
    "    graph = nx.Graph(directed=False)\n",
    "    graph.add_edges_from(edges)\n",
    "    print(\"\")\n",
    "    for cnt, a in enumerate(graph.edges(data=True)):\n",
    "        print(\"cnt:{} a:{} weights[cnt]:{}\".format(cnt, a, weights[cnt]))\n",
    "        graph.edges[(a[0], a[1])]['weight'] = weights[cnt]   \n",
    "        \n",
    "    print(\"\\n*********graph\\n\")\n",
    "    print(graph)\n",
    "    \n",
    "    return graph\n",
    "    \n",
    "\n",
    "    \n",
    "def testCreateGraph():\n",
    "    print(\"create unit test\")\n",
    "    testNP = np.arange(0,25).reshape((5,5))\n",
    "    pairWiseDistanceTestNP = pairwise_distances(testNP, metric='euclidean')\n",
    "    knnIndices, knnDistance = getNeighbors( pairWiseDistanceTestNP, k= 3)\n",
    "    print(\"knnIndices\\n{}\".format(knnIndices))\n",
    "    print(\"\\nknnDistance\\n{}\".format(knnDistance)) \n",
    "    \n",
    "    # begin test\n",
    "    print(\"\\n**** begin createGraph()test\")\n",
    "    graph = createGraph(knnIndices, knnDistance)\n",
    "    print(\"\\n*********graph\\n\")\n",
    "    print(graph)    \n",
    "    \n",
    "  \n",
    "testCreateGraph()"
   ]
  },
  {
   "cell_type": "code",
   "execution_count": 50,
   "id": "d22ca5e8-69da-4e16-8712-33d8010118ac",
   "metadata": {},
   "outputs": [
    {
     "name": "stdout",
     "output_type": "stream",
     "text": [
      "pairwiseDistanceMatrixNP.shape:(5, 5)\n",
      "\n",
      "edges\n",
      "[[0, 1], [0, 2], [0, 3]]\n",
      "[[1, 0], [1, 2], [1, 3]]\n",
      "[[2, 1], [2, 3], [2, 0]]\n",
      "[[3, 2], [3, 4], [3, 1]]\n",
      "[[4, 3], [4, 2], [4, 1]]\n",
      "\n",
      "weights\n",
      "[11.180339887498949, 22.360679774997898, 33.54101966249684]\n",
      "[11.180339887498949, 11.180339887498949, 22.360679774997898]\n",
      "[11.180339887498949, 11.180339887498949, 22.360679774997898]\n",
      "[11.180339887498949, 11.180339887498949, 22.360679774997898]\n",
      "[11.180339887498949, 22.360679774997898, 33.54101966249684]\n",
      "\n",
      "cnt:0 a:(0, 1, {}) weights[cnt]:11.180339887498949\n",
      "cnt:1 a:(0, 2, {}) weights[cnt]:22.360679774997898\n",
      "cnt:2 a:(0, 3, {}) weights[cnt]:33.54101966249684\n",
      "cnt:3 a:(1, 2, {}) weights[cnt]:11.180339887498949\n",
      "cnt:4 a:(1, 3, {}) weights[cnt]:11.180339887498949\n",
      "cnt:5 a:(1, 4, {}) weights[cnt]:22.360679774997898\n",
      "cnt:6 a:(2, 3, {}) weights[cnt]:11.180339887498949\n",
      "cnt:7 a:(2, 4, {}) weights[cnt]:11.180339887498949\n",
      "cnt:8 a:(3, 4, {}) weights[cnt]:22.360679774997898\n",
      "\n",
      "*********graph\n",
      "\n",
      "Graph with 5 nodes and 9 edges\n",
      "\n",
      "clusterid:0\n",
      " members:0\n",
      "\n",
      "clusterid:1\n",
      " members:1\n",
      "\n",
      "clusterid:2\n",
      " members:0\n",
      "\n",
      "clusterid:3\n",
      " members:0\n",
      "\n",
      "clusterid:4\n",
      " members:1\n"
     ]
    }
   ],
   "source": [
    "def simpleLouvain(G):\n",
    "    \"\"\" Louvain method github basic example\"\"\"\n",
    "    partition = community_louvain.best_partition(G)\n",
    "#     pos = graphviz_layout(G)\n",
    "    \n",
    "#     max_k_w = []\n",
    "#     for com in set(partition.values()):\n",
    "#         list_nodes = [nodes for nodes in partition.keys()\n",
    "#                       if partition[nodes] == com]\n",
    "#         max_k_w = max_k_w + [list_nodes]\n",
    "\n",
    "    \n",
    "#     node_mapping = {}\n",
    "#     map_v = 0\n",
    "#     for node in graph.nodes():\n",
    "#         node_mapping[node] = map_v\n",
    "#         map_v += 1\n",
    "\n",
    "#     community_num_group = len(max_k_w)\n",
    "#     color_list_community = [[] for i in range(len(G.nodes()))]\n",
    "    \n",
    "#     # color\n",
    "#     for i in graph.nodes():\n",
    "#         for j in range(community_num_group):\n",
    "#             if i in max_k_w[j]:\n",
    "#                 color_list_community[node_mapping[i]] = j\n",
    "    \n",
    "#     return graph, pos, color_list_community, community_num_group, max_k_w\n",
    "    return partition\n",
    "\n",
    "\n",
    "def testSimpleLouvain():\n",
    "    testNP = np.arange(0,25).reshape((5,5))\n",
    "    pairWiseDistanceTestNP = pairwise_distances(testNP, metric='euclidean')\n",
    "    knnIndices, knnDistance = getNeighbors( pairWiseDistanceTestNP, k= 3)\n",
    "    graph = createGraph(knnIndices, knnDistance)\n",
    "    \n",
    "    # begin test\n",
    "    # The partition dictionary, with communities numbered from 0 to number of communities\n",
    "    partitionDict = simpleLouvain(graph)\n",
    "    \n",
    "    for clusterId, members in partitionDict.items():\n",
    "        print(\"\\nclusterid:{}\\n members:{}\".format(clusterId,members))\n",
    "        \n",
    "    return partitionDict\n",
    "    \n",
    "partitionDict = testSimpleLouvain()"
   ]
  },
  {
   "cell_type": "code",
   "execution_count": 51,
   "id": "a7e236d9-2fd2-4bca-a61b-554fd7e2afb5",
   "metadata": {},
   "outputs": [
    {
     "name": "stdout",
     "output_type": "stream",
     "text": [
      "<class 'dict'>\n",
      "dict_keys([0, 1, 2, 3, 4])\n",
      "partitionDict[0]:0\n",
      "partitionDict[1]:1\n",
      "partitionDict[2]:0\n",
      "partitionDict[3]:0\n",
      "partitionDict[4]:1\n"
     ]
    }
   ],
   "source": [
    "print(type(partitionDict))\n",
    "print(partitionDict.keys())\n",
    "for k in partitionDict.keys():\n",
    "    print(\"partitionDict[{}]:{}\".format(k, partitionDict[k]))"
   ]
  },
  {
   "cell_type": "code",
   "execution_count": 60,
   "id": "ed84da6d-cbe9-45a3-a88e-3013f0038f0f",
   "metadata": {},
   "outputs": [
    {
     "name": "stdout",
     "output_type": "stream",
     "text": [
      "dict_values([0, 1, 0, 0, 1])\n",
      "com:0\n",
      "com:1\n",
      "[[0, 2, 3], [1, 4]]\n"
     ]
    }
   ],
   "source": [
    "# There are 2 best clustors, 0 and 1\n",
    "# we started with 5 nodes\n",
    "# nodes 0,2,3 are in cluster id 0\n",
    "# notes 1,4   are in cluster id 1\n",
    "\n",
    "max_k_w = []\n",
    "# com stands for community\n",
    "print(partitionDict.values())\n",
    "for com in set(partitionDict.values()):\n",
    "    print(\"com:{}\".format(com))\n",
    "    list_nodes = [nodes for nodes in partitionDict.keys()\n",
    "                  if partitionDict[nodes] == com]\n",
    "    max_k_w = max_k_w + [list_nodes]\n",
    "    \n",
    "print(max_k_w)"
   ]
  },
  {
   "cell_type": "code",
   "execution_count": 63,
   "id": "fc63ee61-f2c3-4978-a311-2b82382f1d44",
   "metadata": {},
   "outputs": [
    {
     "ename": "SyntaxError",
     "evalue": "invalid syntax (1463501384.py, line 1)",
     "output_type": "error",
     "traceback": [
      "\u001b[0;36m  File \u001b[0;32m\"/scratch/tmp/ipykernel_149817/1463501384.py\"\u001b[0;36m, line \u001b[0;32m1\u001b[0m\n\u001b[0;31m    aedwip plot graph, is our interpertation correct\u001b[0m\n\u001b[0m              ^\u001b[0m\n\u001b[0;31mSyntaxError\u001b[0m\u001b[0;31m:\u001b[0m invalid syntax\n"
     ]
    }
   ],
   "source": [
    "aedwip plot graph, is our interpertation correct"
   ]
  },
  {
   "cell_type": "code",
   "execution_count": null,
   "id": "0a2b0a68-3af4-4f1c-82d3-d1afe77556ce",
   "metadata": {},
   "outputs": [],
   "source": []
  },
  {
   "cell_type": "code",
   "execution_count": null,
   "id": "d65241fd-8b64-4cc2-b3d6-7cd10564b6d3",
   "metadata": {},
   "outputs": [],
   "source": [
    "plot graph, is our interpertation correct"
   ]
  },
  {
   "cell_type": "code",
   "execution_count": null,
   "id": "1bac55c1-f0a0-4704-885a-ce4f3741e7f8",
   "metadata": {},
   "outputs": [],
   "source": []
  },
  {
   "cell_type": "code",
   "execution_count": null,
   "id": "8613b382-1a35-41d2-a380-2f44f1af08f7",
   "metadata": {},
   "outputs": [],
   "source": []
  },
  {
   "cell_type": "code",
   "execution_count": null,
   "id": "f50cb2dc-d94c-4ce3-8a74-dd82becef808",
   "metadata": {},
   "outputs": [],
   "source": [
    "umap\n",
    "create mulitple point plogs\n",
    "color by gtex/tcga\n",
    "cluster id, \n",
    "... "
   ]
  },
  {
   "cell_type": "code",
   "execution_count": null,
   "id": "05a2d3b0-a0e7-497f-ab7a-ee32169e3927",
   "metadata": {},
   "outputs": [],
   "source": []
  },
  {
   "cell_type": "code",
   "execution_count": 25,
   "id": "c4b03941-0c62-4467-9edd-581ece86a4f3",
   "metadata": {},
   "outputs": [
    {
     "name": "stdout",
     "output_type": "stream",
     "text": [
      "[[ 0  1  2  3  4]\n",
      " [ 5  6  7  8  9]\n",
      " [10 11 12 13 14]\n",
      " [15 16 17 18 19]\n",
      " [20 21 22 23 24]]\n",
      "12\n"
     ]
    }
   ],
   "source": [
    "testNP = np.arange(0,25).reshape((5,5))\n",
    "print(testNP)\n",
    "print(testNP[2,2])\n"
   ]
  },
  {
   "cell_type": "code",
   "execution_count": null,
   "id": "dfdb94c6-e8af-441e-844b-7bb9ea3fb5cc",
   "metadata": {},
   "outputs": [],
   "source": []
  }
 ],
 "metadata": {
  "kernelspec": {
   "display_name": "Python 3 (ipykernel)",
   "language": "python",
   "name": "python3"
  },
  "language_info": {
   "codemirror_mode": {
    "name": "ipython",
    "version": 3
   },
   "file_extension": ".py",
   "mimetype": "text/x-python",
   "name": "python",
   "nbconvert_exporter": "python",
   "pygments_lexer": "ipython3",
   "version": "3.7.6"
  }
 },
 "nbformat": 4,
 "nbformat_minor": 5
}
