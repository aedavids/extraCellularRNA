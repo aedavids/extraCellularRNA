{
 "cells": [
  {
   "cell_type": "markdown",
   "id": "360df68b",
   "metadata": {},
   "source": [
    "# ClosedFormDeconvolutionTest\n",
    "```\n",
    "Andrew E. Davidson\n",
    "aedavids@ucsc.edu\n",
    "10/25/22\n",
    "```\n",
    "\n",
    "Cibersort took 3.5 days to run on GTEx_TCGA training data sets with ???25 best genes selected. This is GEP (gene signature matrix) with about 825 genes.\n",
    "\n",
    "This trival example demonstrates are able to Solve for F given G, and M using a closd form solution\n",
    "\n",
    "In addition to performance I think this is a better solution. All other linear deconvolution algo are of the form F*G = M, and use an itterative method to solve for F given G and M. The assumption is that Value of F that minimizes the set of regression models, I.E. sum( (M-Mhat)^2) is the correct\n",
    "\n",
    "We have an unusal data set. We have labels for each sample. What we want to do is figure out what the best Gene Signatue matrix is. That is to say minimize sum( (F-Fhat)^2 )\n",
    "\n",
    "**<span style=\"color:red\">TODO</span>**\n",
    "1. we are not always able to to calculate an inverse. \n",
    "    + after squaring G, we sometime get error from np.linalg.inv 'singlar values'. ie. no solution\n",
    "    + see bottom cells, sometimes we get an inverse how ever mut G*GInv does not produce\n",
    "    the identiy matrix\n",
    "    + ref:\n",
    "        - [numpy inverse](https://numpy.org/doc/stable/reference/generated/numpy.linalg.inv.html)\n",
    "        - [numpy psudo inverse](https://numpy.org/doc/stable/reference/generated/numpy.linalg.pinv.html)\n",
    "\n",
    "2. explore conditions when this approach will and will not works.\n",
    "    + does numpy have a psudo inverse?\n",
    "3. does it produce same results as cibersort?\n",
    "    + 10/27/2022\n",
    "    + we have not evaluated cibersort yet. We know that some samples have high correlations, others low. To see if there was any evidence our algorithm works we selected cibersort results with R > 0.9 and p-value < 0.01. This results in 9,873 samples and a total of 819,459 fractions. 818,459 = 9,873 * 83. \n",
    "    \n",
    "    + **preprocescing**\n",
    "        1. set values < 0 = 0\n",
    "        2. normalize (ie row sums = 1)\n",
    "        3. we round(decimal = 2), np.isclose() reports\n",
    "    | atol | accuracy %| round(2) accuracy %|\n",
    "    |--- | --- | --- |\n",
    "    |1e-08 | 19.22 | 47.19|\n",
    "    |1e-05 | 20.58 | |\n",
    "    |1e-03 | 38.48 | 47.19 |\n",
    "    |1e-02 | 51.33 | 53.13 |\n",
    "    \n",
    "    <span style=\"color:red\">Could accuracy be inflated?</span> We have 83 types, our samples are from a single type. so lots of zeros match\n",
    "    + <span style=\"color:red\">TODO</span>\n",
    "    1. we need to first evalute cibersort results.\n",
    "    2. assuming cibersort results are good, we need to check that our deconvolution results look like a one-hot encoding\n",
    "\n",
    "4. is it faster than cibersort?\n",
    "    + mesure time, memory, and cpu\n",
    "5. Lets assume the closed form allows us to calculate F quickly. How do we improve the signature matrix?\n",
    "    + find under represented samples and add 1vsAll genes\n",
    "    + normalize (min/max scale) G and M\n",
    "        - linear models, Deep models SVM models tend to focus on features with large values and ignore features with small models\n",
    "    + drop  colinear variables or variables with low variance\n",
    "        - linear models tend to perform better with fewer redudent variables\n",
    "    + Shearing ??? feature importance\n",
    "    + Permutation feature importance\n",
    "        - train model, and make perdiction\n",
    "        - for each feature\n",
    "            * scrample feature (remove all info)\n",
    "            * make prediction\n",
    "            * compare to unscrambled reference\n",
    " "
   ]
  },
  {
   "cell_type": "code",
   "execution_count": 1,
   "id": "90ed707d",
   "metadata": {},
   "outputs": [],
   "source": [
    "from IPython.display import display\n",
    "import numpy as np\n",
    "import pandas as pd\n",
    "import pathlib as pl\n",
    "import shutil\n",
    "\n",
    "numGenes = 4\n",
    "numTypes = 3\n",
    "numSamples = 5"
   ]
  },
  {
   "cell_type": "code",
   "execution_count": 2,
   "id": "ea777c8b",
   "metadata": {},
   "outputs": [],
   "source": [
    "# not invertable G = (np.arange(0, numTypes * numGenes) + 1).reshape(numTypes , numGenes)\n",
    "G =  np.array([\n",
    "             [ 1,  2,  3, 13]\n",
    "            ,[ 4,  5,  6, 14]\n",
    "            ,[ 7,  8,  9, 14]\n",
    "            #,[10, 11, 12]\n",
    "              ]).astype('float')"
   ]
  },
  {
   "cell_type": "code",
   "execution_count": 3,
   "id": "7df80172",
   "metadata": {},
   "outputs": [],
   "source": [
    "F = np.array([\n",
    "    [0, 1/2, 2/3],\n",
    "    [1/6, 3/6, 2/6],\n",
    "    [5/9, 3/9, 1/9]\n",
    "])"
   ]
  },
  {
   "cell_type": "code",
   "execution_count": 4,
   "id": "19b305bd",
   "metadata": {},
   "outputs": [
    {
     "data": {
      "text/plain": [
       "array([[ 6.66666667,  7.83333333,  9.        , 16.33333333],\n",
       "       [ 4.5       ,  5.5       ,  6.5       , 13.83333333],\n",
       "       [ 2.66666667,  3.66666667,  4.66666667, 13.44444444]])"
      ]
     },
     "execution_count": 4,
     "metadata": {},
     "output_type": "execute_result"
    }
   ],
   "source": [
    "M = np.matmul(F, G)\n",
    "M"
   ]
  },
  {
   "cell_type": "markdown",
   "id": "a47fa4bb",
   "metadata": {},
   "source": [
    "# Can we solve trival problem for F, given G, and M"
   ]
  },
  {
   "cell_type": "code",
   "execution_count": 5,
   "id": "f59e046c",
   "metadata": {},
   "outputs": [
    {
     "data": {
      "text/plain": [
       "array([[  99.        , -179.33333333,   87.33333333],\n",
       "       [-179.33333333,  324.92592593, -158.25925926],\n",
       "       [  87.33333333, -158.25925926,   77.09259259]])"
      ]
     },
     "execution_count": 5,
     "metadata": {},
     "output_type": "execute_result"
    }
   ],
   "source": [
    "GSq = np.matmul(G, G.transpose())\n",
    "GInv = np.linalg.inv( GSq )\n",
    "\n",
    "GInv"
   ]
  },
  {
   "cell_type": "code",
   "execution_count": 6,
   "id": "4cdbbdac",
   "metadata": {},
   "outputs": [
    {
     "name": "stdout",
     "output_type": "stream",
     "text": [
      "check expected I\n"
     ]
    },
    {
     "data": {
      "text/plain": [
       "array([[ 1.00000000e+00,  1.00044417e-11, -5.79802872e-12],\n",
       "       [-4.68958206e-12,  1.00000000e+00, -9.57811608e-12],\n",
       "       [-3.21165317e-12,  1.02318154e-11,  1.00000000e+00]])"
      ]
     },
     "execution_count": 6,
     "metadata": {},
     "output_type": "execute_result"
    }
   ],
   "source": [
    "# check\n",
    "print(\"check expected I\")\n",
    "np.matmul( GSq, GInv)"
   ]
  },
  {
   "cell_type": "markdown",
   "id": "ea0f3f06",
   "metadata": {},
   "source": [
    "```\n",
    "F*G = M\n",
    "F*G*G.transpose = M*G.transpose # if G is not square, make it square  so we can invese\n",
    "F*G*G*inv(G) = M*G.transpose*inv(G) \n",
    "F*I =  M*G.transpose*inv(G)\n",
    "F = M*G.transpose*inv(G)\n",
    "```"
   ]
  },
  {
   "cell_type": "code",
   "execution_count": 7,
   "id": "83bf524c",
   "metadata": {},
   "outputs": [
    {
     "name": "stdout",
     "output_type": "stream",
     "text": [
      "M.shape:(3, 4)\n",
      "G.shape:(3, 4)\n",
      "FHat\n",
      "[[-1.61198462e-11  5.00000000e-01  6.66666667e-01]\n",
      " [ 1.66666667e-01  5.00000000e-01  3.33333333e-01]\n",
      " [ 5.55555556e-01  3.33333333e-01  1.11111111e-01]]\n",
      "\n",
      "------------- F\n",
      "[[0.         0.5        0.66666667]\n",
      " [0.16666667 0.5        0.33333333]\n",
      " [0.55555556 0.33333333 0.11111111]]\n"
     ]
    }
   ],
   "source": [
    "print(\"M.shape:{}\".format(M.shape))\n",
    "print(\"G.shape:{}\".format(G.shape))\n",
    "FHat = np.matmul( np.matmul(M, G.transpose()), GInv )\n",
    "print(\"FHat\")\n",
    "print(FHat)\n",
    "print(\"\\n------------- F\")\n",
    "print(F)"
   ]
  },
  {
   "cell_type": "code",
   "execution_count": 8,
   "id": "2e43e640",
   "metadata": {},
   "outputs": [],
   "source": [
    "assert np.isclose(FHat, F).all(), \"ERROR Solve for F failed\""
   ]
  },
  {
   "cell_type": "markdown",
   "id": "461dc3a3",
   "metadata": {},
   "source": [
    "# check code to calculate inverse"
   ]
  },
  {
   "cell_type": "code",
   "execution_count": 9,
   "id": "def5ee41",
   "metadata": {},
   "outputs": [],
   "source": [
    "def getInverse(A, usePseudo=False):\n",
    "    '''\n",
    "    returns (A, Ainverse)\n",
    "    If A was not a square matrix it returns (A*A, AInverse)\n",
    "    '''\n",
    "    m,n = A.shape\n",
    "    if m != n :\n",
    "        # square the matrix\n",
    "        A = np.matmul(A, A.transpose())\n",
    "    \n",
    "    if usePseudo:\n",
    "        # https://numpy.org/doc/stable/reference/generated/numpy.linalg.pinv.html\n",
    "        ret = np.linalg.pinv(A)\n",
    "    else:\n",
    "        ret = np.linalg.inv(A)\n",
    "    return (A, ret)\n",
    "\n",
    "def checkInverse(A, AInverse):\n",
    "    '''\n",
    "    returns A * AInverse\n",
    "    '''\n",
    "    print(\"A:\\n {}\".format(A))\n",
    "    print(\"\\nA inverse:\\n {}\".format(AInverse))\n",
    "    print(\"\\nA * AInverse\")\n",
    "    ret = np.matmul(A, AInverse)\n",
    "    print(ret)\n",
    "    return ret\n",
    "\n",
    "def deconvole(M, G, GInverse):\n",
    "    ret = np.matmult( np.matmult(M, G.transpose()), GInverse)\n",
    "    return ret"
   ]
  },
  {
   "cell_type": "code",
   "execution_count": 10,
   "id": "e9723951",
   "metadata": {},
   "outputs": [
    {
     "name": "stdout",
     "output_type": "stream",
     "text": [
      "A:\n",
      " [[1. 2. 3.]\n",
      " [4. 5. 6.]\n",
      " [7. 8. 9.]]\n",
      "\n",
      "A inverse:\n",
      " [[-6.38888889e-01 -1.66666667e-01  3.05555556e-01]\n",
      " [-5.55555556e-02  3.36727575e-17  5.55555556e-02]\n",
      " [ 5.27777778e-01  1.66666667e-01 -1.94444444e-01]]\n",
      "\n",
      "A * AInverse\n",
      "[[ 0.83333333  0.33333333 -0.16666667]\n",
      " [ 0.33333333  0.33333333  0.33333333]\n",
      " [-0.16666667  0.33333333  0.83333333]]\n"
     ]
    },
    {
     "ename": "AssertionError",
     "evalue": "ERROR calc inverse failed",
     "output_type": "error",
     "traceback": [
      "\u001b[0;31m---------------------------------------------------------------------------\u001b[0m",
      "\u001b[0;31mAssertionError\u001b[0m                            Traceback (most recent call last)",
      "\u001b[0;32m/scratch/tmp/ipykernel_23298/3725998672.py\u001b[0m in \u001b[0;36m<module>\u001b[0;34m\u001b[0m\n\u001b[1;32m     18\u001b[0m \u001b[0mshouldBeIdentity\u001b[0m \u001b[0;34m=\u001b[0m \u001b[0mcheckInverse\u001b[0m\u001b[0;34m(\u001b[0m\u001b[0mTSq\u001b[0m\u001b[0;34m,\u001b[0m \u001b[0mTInv\u001b[0m\u001b[0;34m)\u001b[0m\u001b[0;34m\u001b[0m\u001b[0;34m\u001b[0m\u001b[0m\n\u001b[1;32m     19\u001b[0m \u001b[0mm\u001b[0m\u001b[0;34m,\u001b[0m\u001b[0mn\u001b[0m \u001b[0;34m=\u001b[0m \u001b[0mTSq\u001b[0m\u001b[0;34m.\u001b[0m\u001b[0mshape\u001b[0m\u001b[0;34m\u001b[0m\u001b[0;34m\u001b[0m\u001b[0m\n\u001b[0;32m---> 20\u001b[0;31m \u001b[0;32massert\u001b[0m \u001b[0mnp\u001b[0m\u001b[0;34m.\u001b[0m\u001b[0misclose\u001b[0m\u001b[0;34m(\u001b[0m\u001b[0mshouldBeIdentity\u001b[0m\u001b[0;34m,\u001b[0m \u001b[0mnp\u001b[0m\u001b[0;34m.\u001b[0m\u001b[0meye\u001b[0m\u001b[0;34m(\u001b[0m\u001b[0mm\u001b[0m\u001b[0;34m,\u001b[0m\u001b[0mn\u001b[0m\u001b[0;34m)\u001b[0m\u001b[0;34m)\u001b[0m\u001b[0;34m.\u001b[0m\u001b[0mall\u001b[0m\u001b[0;34m(\u001b[0m\u001b[0;34m)\u001b[0m\u001b[0;34m,\u001b[0m \u001b[0;34m\"ERROR calc inverse failed\"\u001b[0m\u001b[0;34m\u001b[0m\u001b[0;34m\u001b[0m\u001b[0m\n\u001b[0m",
      "\u001b[0;31mAssertionError\u001b[0m: ERROR calc inverse failed"
     ]
    }
   ],
   "source": [
    "# 3x3 T works\n",
    "T = np.array([\n",
    "             [ 1,  2,  3]\n",
    "            ,[ 4,  5,  6]\n",
    "            ,[ 7,  8,  9]\n",
    "            #,[10, 11, 12]\n",
    "              ]).astype('float')\n",
    "\n",
    "\n",
    "# psudo\n",
    "# A inverse: usePseudo=True, assert isclose fails\n",
    "#  [[-6.38888889e-01 -1.66666667e-01  3.05555556e-01]\n",
    "#  [-5.55555556e-02  3.36727575e-17  5.55555556e-02]\n",
    "#  [ 5.27777778e-01  1.66666667e-01 -1.94444444e-01]]\n",
    "\n",
    "# usePseudo=False raises LinAlgError: Singular matrix\n",
    "TSq, TInv = getInverse(T, usePseudo=True)\n",
    "shouldBeIdentity = checkInverse(TSq, TInv)\n",
    "m,n = TSq.shape\n",
    "assert np.isclose(shouldBeIdentity, np.eye(m,n)).all(), \"ERROR calc inverse failed\""
   ]
  },
  {
   "cell_type": "code",
   "execution_count": 11,
   "id": "32071103",
   "metadata": {},
   "outputs": [
    {
     "name": "stdout",
     "output_type": "stream",
     "text": [
      "A:\n",
      " [[ 14.  32.  50.  68.]\n",
      " [ 32.  77. 122. 167.]\n",
      " [ 50. 122. 194. 266.]\n",
      " [ 68. 167. 266. 365.]]\n",
      "\n",
      "A inverse:\n",
      " [[ 0.40833333  0.21111111  0.01388889 -0.18333333]\n",
      " [ 0.21111111  0.10925926  0.00740741 -0.09444444]\n",
      " [ 0.01388889  0.00740741  0.00092593 -0.00555556]\n",
      " [-0.18333333 -0.09444444 -0.00555556  0.08333333]]\n",
      "\n",
      "A * AInverse\n",
      "[[ 0.7  0.4  0.1 -0.2]\n",
      " [ 0.4  0.3  0.2  0.1]\n",
      " [ 0.1  0.2  0.3  0.4]\n",
      " [-0.2  0.1  0.4  0.7]]\n"
     ]
    },
    {
     "ename": "AssertionError",
     "evalue": "ERROR calc inverse failed",
     "output_type": "error",
     "traceback": [
      "\u001b[0;31m---------------------------------------------------------------------------\u001b[0m",
      "\u001b[0;31mAssertionError\u001b[0m                            Traceback (most recent call last)",
      "\u001b[0;32m/scratch/tmp/ipykernel_23298/3410722875.py\u001b[0m in \u001b[0;36m<module>\u001b[0;34m\u001b[0m\n\u001b[1;32m     15\u001b[0m \u001b[0mshouldBeIdentity2\u001b[0m \u001b[0;34m=\u001b[0m \u001b[0mcheckInverse\u001b[0m\u001b[0;34m(\u001b[0m\u001b[0mTSq2\u001b[0m\u001b[0;34m,\u001b[0m \u001b[0mTInv2\u001b[0m\u001b[0;34m)\u001b[0m\u001b[0;34m\u001b[0m\u001b[0;34m\u001b[0m\u001b[0m\n\u001b[1;32m     16\u001b[0m \u001b[0mm\u001b[0m\u001b[0;34m,\u001b[0m\u001b[0mn\u001b[0m \u001b[0;34m=\u001b[0m \u001b[0mTSq2\u001b[0m\u001b[0;34m.\u001b[0m\u001b[0mshape\u001b[0m\u001b[0;34m\u001b[0m\u001b[0;34m\u001b[0m\u001b[0m\n\u001b[0;32m---> 17\u001b[0;31m \u001b[0;32massert\u001b[0m \u001b[0mnp\u001b[0m\u001b[0;34m.\u001b[0m\u001b[0misclose\u001b[0m\u001b[0;34m(\u001b[0m\u001b[0mshouldBeIdentity2\u001b[0m\u001b[0;34m,\u001b[0m \u001b[0mnp\u001b[0m\u001b[0;34m.\u001b[0m\u001b[0meye\u001b[0m\u001b[0;34m(\u001b[0m\u001b[0mm\u001b[0m\u001b[0;34m,\u001b[0m\u001b[0mn\u001b[0m\u001b[0;34m)\u001b[0m\u001b[0;34m)\u001b[0m\u001b[0;34m.\u001b[0m\u001b[0mall\u001b[0m\u001b[0;34m(\u001b[0m\u001b[0;34m)\u001b[0m\u001b[0;34m,\u001b[0m \u001b[0;34m\"ERROR calc inverse failed\"\u001b[0m\u001b[0;34m\u001b[0m\u001b[0;34m\u001b[0m\u001b[0m\n\u001b[0m",
      "\u001b[0;31mAssertionError\u001b[0m: ERROR calc inverse failed"
     ]
    }
   ],
   "source": [
    "T2 = np.array([\n",
    "             [ 1,  2,  3]\n",
    "            ,[ 4,  5,  6]\n",
    "            ,[ 7,  8,  9]\n",
    "            ,[10, 11, 12]\n",
    "              ]).astype('float')\n",
    "\n",
    "# A inverse: usePseudo=False, assert fails \n",
    "#  [[-4.69124961e+13  7.03687442e+13  1.25000000e-01 -2.34562481e+13]\n",
    "#  [ 9.96890543e+13 -1.40737488e+14 -1.75921860e+13  5.86406201e+13]\n",
    "#  [-5.86406201e+13  7.03687442e+13  3.51843721e+13 -4.69124961e+13]\n",
    "#  [ 5.86406201e+12 -0.00000000e+00 -1.75921860e+13  1.17281240e+13]]\n",
    "\n",
    "TSq2, TInv2 = getInverse(T2, usePseudo=True)\n",
    "shouldBeIdentity2 = checkInverse(TSq2, TInv2)\n",
    "m,n = TSq2.shape\n",
    "assert np.isclose(shouldBeIdentity2, np.eye(m,n)).all(), \"ERROR calc inverse failed\""
   ]
  },
  {
   "cell_type": "code",
   "execution_count": 12,
   "id": "3054d00b",
   "metadata": {},
   "outputs": [
    {
     "name": "stdout",
     "output_type": "stream",
     "text": [
      "A:\n",
      " [[183. 214. 232.]\n",
      " [214. 273. 318.]\n",
      " [232. 318. 390.]]\n",
      "\n",
      "A inverse:\n",
      " [[  99.         -179.33333333   87.33333333]\n",
      " [-179.33333333  324.92592592 -158.25925926]\n",
      " [  87.33333333 -158.25925926   77.09259259]]\n",
      "\n",
      "A * AInverse\n",
      "[[ 1.00000000e+00  1.50066626e-11 -9.89075488e-12]\n",
      " [ 1.19371180e-12  1.00000000e+00  4.63273864e-12]\n",
      " [ 9.15179044e-12 -1.83035809e-11  1.00000000e+00]]\n"
     ]
    }
   ],
   "source": [
    "T3 = np.array([\n",
    "             [ 1,  2,  3, 13]\n",
    "            ,[ 4,  5,  6, 14]\n",
    "            ,[ 7,  8,  9, 14]\n",
    "            #,[10, 11, 12]\n",
    "              ]).astype('float')\n",
    "\n",
    "# A inverse: usePseudo=False\n",
    "#  [[  99.         -179.33333333   87.33333333]\n",
    "#  [-179.33333333  324.92592593 -158.25925926]\n",
    "#  [  87.33333333 -158.25925926   77.09259259]]\n",
    "\n",
    "TSq3, TInv3 = getInverse(T3, usePseudo=True)\n",
    "shouldBeIdentity3 = checkInverse(TSq3, TInv3)\n",
    "m,n = TSq3.shape\n",
    "assert np.isclose(shouldBeIdentity3, np.eye(m,n)).all(), \"ERROR calc inverse failed\""
   ]
  },
  {
   "cell_type": "markdown",
   "id": "fb3efe36-e79d-4d9a-95a6-8132d1ba6242",
   "metadata": {},
   "source": [
    "# Compare closed form solution vs. Cibersort"
   ]
  },
  {
   "cell_type": "markdown",
   "id": "be3af125-9885-49b5-b249-72ec0535e406",
   "metadata": {},
   "source": [
    "## Load Data"
   ]
  },
  {
   "cell_type": "code",
   "execution_count": 65,
   "id": "4c9441bb",
   "metadata": {},
   "outputs": [
    {
     "name": "stdout",
     "output_type": "stream",
     "text": [
      "\n",
      "inputLocalDir:\n",
      "/scratch/aedavids/GTEx_TCGA/closedFormDeconvolution/input\n",
      "\n",
      "mixtureMatrixSrc:\n",
      "/private/groups/kimlab/GTEx_TCGA/geneSignatureProfiles/best/GTEx_TCGA_1vsAll-design:~__gender_+_category-padj:0.001-lfc:2.0-n:25/ciberSort/GTEx_TCGA_TrainGroupby_mixture.txt\n",
      "\n",
      "signatureMatrixSrc:\n",
      "/private/groups/kimlab/GTEx_TCGA/geneSignatureProfiles/best/GTEx_TCGA_1vsAll-design:~__gender_+_category-padj:0.001-lfc:2.0-n:25/ciberSort/signatureGenes.tsv\n"
     ]
    }
   ],
   "source": [
    "# copy data from private to local disk\n",
    "kl       = pl.Path(\"/private/groups/kimlab\")\n",
    "rootDir  = pl.Path(\"/scratch/aedavids/GTEx_TCGA\")\n",
    "bestRoot = pl.Path(\"geneSignatureProfiles/best\")\n",
    "oneVsAll = pl.Path(\"GTEx_TCGA_1vsAll-design:~__gender_+_category-padj:0.001-lfc:2.0-n:25\")\n",
    "inputRootDir = rootDir.joinpath(bestRoot)\n",
    "\n",
    "bestSrc = kl.joinpath(\"GTEx_TCGA/geneSignatureProfiles/best\").joinpath(oneVsAll)\n",
    "#print(\"bestSrc:\\n{}\".format(bestSrc))\n",
    "\n",
    "notebookName=\"closedFormDeconvolution\"\n",
    "inputLocalDir = rootDir.joinpath(notebookName).joinpath(\"input\")\n",
    "print(\"\\ninputLocalDir:\\n{}\".format(inputLocalDir))\n",
    "inputLocalDir.mkdir(parents=True, exist_ok=True)\n",
    "\n",
    "mixtureMatrixFileName = \"GTEx_TCGA_TrainGroupby_mixture.txt\"\n",
    "mixtureMatrixSrc = bestSrc.joinpath(\"ciberSort\").joinpath(mixtureMatrixFileName)\n",
    "mixtureMatrix = inputLocalDir.joinpath(mixtureMatrixFileName)\n",
    "print(\"\\nmixtureMatrixSrc:\\n{}\".format(mixtureMatrixSrc))\n",
    "\n",
    "def tree(directory):\n",
    "    '''\n",
    "    debug file paths\n",
    "    '''\n",
    "    print(f'+ {directory}')\n",
    "    for path in sorted(directory.rglob('*')):\n",
    "        depth = len(path.relative_to(directory).parts)\n",
    "        spacer = '    ' * depth\n",
    "        print(f'{spacer}+ {path.name}')\n",
    "        \n",
    "#tree(mixtureMatrixSrc.parent)\n",
    "\n",
    "\n",
    "if not mixtureMatrix.exists():\n",
    "    shutil.copy(mixtureMatrixSrc, mixtureMatrix)\n",
    "\n",
    "signatureMatrixFileName = \"signatureGenes.tsv\"\n",
    "signatureMatrix = inputLocalDir.joinpath(signatureMatrixFileName)\n",
    "signatureMatrixSrc = bestSrc.joinpath(\"ciberSort\").joinpath(signatureMatrixFileName)\n",
    "if not signatureMatrix.exists():\n",
    "    shutil.copy(signatureMatrixSrc, signatureMatrix)\n",
    "print(\"\\nsignatureMatrixSrc:\\n{}\".format(signatureMatrixSrc))   "
   ]
  },
  {
   "cell_type": "code",
   "execution_count": 66,
   "id": "fd52295b-240b-49ad-ae52-eb3da32609d9",
   "metadata": {},
   "outputs": [
    {
     "name": "stdout",
     "output_type": "stream",
     "text": [
      "CPU times: user 7.09 s, sys: 230 ms, total: 7.32 s\n",
      "Wall time: 7.32 s\n"
     ]
    }
   ],
   "source": [
    "%%time\n",
    "# Create pandas dataframe\n",
    "outputDir = rootDir.joinpath(notebookName).joinpath(\"output\")\n",
    "outputDir.mkdir(parents=True, exist_ok=True)\n",
    "\n",
    "outputFile = outputDir.joinpath(\"fractions.tsv\")\n",
    "if outputFile.exists():\n",
    "    print(\"{} exits\".format(outputFile))\n",
    "else:\n",
    "    signatureDF = pd.read_csv(signatureMatrix, sep='\\t')\n",
    "    signatureDF.drop(columns=[\"name\"], inplace=True)\n",
    "    \n",
    "    mixtureDF = pd.read_csv(mixtureMatrix, sep='\\t')\n",
    "    mixtureDF.drop(columns=[\"sampleTitle\"], inplace=True)\n",
    "    \n",
    "    # convert from cibersort expected format to\n",
    "    # standard linear algebra format\n",
    "    signatureDF = signatureDF.transpose()\n",
    "    mixtureDF = mixtureDF.transpose()"
   ]
  },
  {
   "cell_type": "code",
   "execution_count": 67,
   "id": "104c2f40-9b88-4675-8008-a612557c59ce",
   "metadata": {},
   "outputs": [
    {
     "name": "stdout",
     "output_type": "stream",
     "text": [
      "(15801, 832)\n"
     ]
    },
    {
     "data": {
      "text/html": [
       "<div>\n",
       "<style scoped>\n",
       "    .dataframe tbody tr th:only-of-type {\n",
       "        vertical-align: middle;\n",
       "    }\n",
       "\n",
       "    .dataframe tbody tr th {\n",
       "        vertical-align: top;\n",
       "    }\n",
       "\n",
       "    .dataframe thead th {\n",
       "        text-align: right;\n",
       "    }\n",
       "</style>\n",
       "<table border=\"1\" class=\"dataframe\">\n",
       "  <thead>\n",
       "    <tr style=\"text-align: right;\">\n",
       "      <th></th>\n",
       "      <th>0</th>\n",
       "      <th>1</th>\n",
       "      <th>2</th>\n",
       "      <th>3</th>\n",
       "      <th>4</th>\n",
       "    </tr>\n",
       "  </thead>\n",
       "  <tbody>\n",
       "    <tr>\n",
       "      <th>GTEX-1117F-0226-SM-5GZZ7</th>\n",
       "      <td>0.0</td>\n",
       "      <td>0.0</td>\n",
       "      <td>0.0</td>\n",
       "      <td>0.0</td>\n",
       "      <td>0.0</td>\n",
       "    </tr>\n",
       "    <tr>\n",
       "      <th>GTEX-1117F-0526-SM-5EGHJ</th>\n",
       "      <td>0.0</td>\n",
       "      <td>0.0</td>\n",
       "      <td>0.0</td>\n",
       "      <td>0.0</td>\n",
       "      <td>0.0</td>\n",
       "    </tr>\n",
       "    <tr>\n",
       "      <th>GTEX-1117F-0726-SM-5GIEN</th>\n",
       "      <td>0.0</td>\n",
       "      <td>0.0</td>\n",
       "      <td>0.0</td>\n",
       "      <td>0.0</td>\n",
       "      <td>0.0</td>\n",
       "    </tr>\n",
       "    <tr>\n",
       "      <th>GTEX-1117F-2826-SM-5GZXL</th>\n",
       "      <td>0.0</td>\n",
       "      <td>0.0</td>\n",
       "      <td>0.0</td>\n",
       "      <td>0.0</td>\n",
       "      <td>0.0</td>\n",
       "    </tr>\n",
       "    <tr>\n",
       "      <th>GTEX-1117F-3226-SM-5N9CT</th>\n",
       "      <td>0.0</td>\n",
       "      <td>0.0</td>\n",
       "      <td>0.0</td>\n",
       "      <td>0.0</td>\n",
       "      <td>0.0</td>\n",
       "    </tr>\n",
       "  </tbody>\n",
       "</table>\n",
       "</div>"
      ],
      "text/plain": [
       "                            0    1    2    3    4\n",
       "GTEX-1117F-0226-SM-5GZZ7  0.0  0.0  0.0  0.0  0.0\n",
       "GTEX-1117F-0526-SM-5EGHJ  0.0  0.0  0.0  0.0  0.0\n",
       "GTEX-1117F-0726-SM-5GIEN  0.0  0.0  0.0  0.0  0.0\n",
       "GTEX-1117F-2826-SM-5GZXL  0.0  0.0  0.0  0.0  0.0\n",
       "GTEX-1117F-3226-SM-5N9CT  0.0  0.0  0.0  0.0  0.0"
      ]
     },
     "execution_count": 67,
     "metadata": {},
     "output_type": "execute_result"
    }
   ],
   "source": [
    "print(mixtureDF.shape)\n",
    "mixtureDF.iloc[0:5,0:5]"
   ]
  },
  {
   "cell_type": "code",
   "execution_count": 68,
   "id": "887fc518-1253-420e-8f40-adb280ab5637",
   "metadata": {},
   "outputs": [
    {
     "name": "stdout",
     "output_type": "stream",
     "text": [
      "mixtureNP.shape: (15801, 832)\n",
      "signatureNP.shape: (83, 832)\n",
      "signatureTransposeNP.shape: (832, 83)\n",
      "signatureInvNP.shape: (83, 83)\n",
      "fractionsNP.shape: (15801, 83)\n",
      "CPU times: user 2.33 s, sys: 5.78 s, total: 8.11 s\n",
      "Wall time: 85 ms\n"
     ]
    }
   ],
   "source": [
    "%%time\n",
    "# find fraction matrix\n",
    "mixtureNP = mixtureDF.to_numpy()\n",
    "print(\"mixtureNP.shape: {}\".format(mixtureNP.shape))\n",
    "\n",
    "signatureNP = signatureDF.to_numpy()\n",
    "print(\"signatureNP.shape: {}\".format(signatureNP.shape))\n",
    "\n",
    "signatureTransposeNP = signatureNP.transpose()\n",
    "print(\"signatureTransposeNP.shape: {}\".format(signatureTransposeNP.shape))\n",
    "\n",
    "signatureSqNP, signatureInvNP = getInverse(signatureNP, usePseudo=True)\n",
    "print(\"signatureInvNP.shape: {}\".format(signatureInvNP.shape))\n",
    "\n",
    "fractionsNP = np.matmul( np.matmul(mixtureNP, signatureTransposeNP), signatureInvNP )\n",
    "print(\"fractionsNP.shape: {}\".format(fractionsNP.shape))"
   ]
  },
  {
   "cell_type": "code",
   "execution_count": 69,
   "id": "68b8e9d2-5e70-49cd-b303-3107134e25f7",
   "metadata": {},
   "outputs": [],
   "source": [
    "# check fractionsNP has expected shape\n",
    "assert fractionsNP.shape[0] * fractionsNP.shape[1] == 15801 * 83"
   ]
  },
  {
   "cell_type": "code",
   "execution_count": 70,
   "id": "f2f95581-5e3e-4bca-b53b-616662d82aed",
   "metadata": {},
   "outputs": [
    {
     "name": "stdout",
     "output_type": "stream",
     "text": [
      "663372\n"
     ]
    }
   ],
   "source": [
    "# check there are no negative values\n",
    "negativeLogicalNP = fractionsNP < 0\n",
    "print( np.sum(negativeLogicalNP) )"
   ]
  },
  {
   "cell_type": "markdown",
   "id": "dcfc29b9-f93e-4e28-b9d8-d4e3b39201df",
   "metadata": {},
   "source": [
    "## Compare results\n",
    "todo\n",
    "1. check the shape fractionsNP\n",
    "2. check fractions sum to 1\n",
    "3. we have 663,372 negative fractions. There should be no values < =  0\n",
    "    * select the positive values and compare with cibersort results\n",
    "    * cibersort probalby clips gradients, can we round our results?"
   ]
  },
  {
   "cell_type": "code",
   "execution_count": 71,
   "id": "b006b73c-5807-40ef-8135-9671c31c468f",
   "metadata": {},
   "outputs": [],
   "source": [
    "# load cibersort results\n",
    "cibersortOut = pl.Path(\"/scratch/aedavids/cibersort.out/GTEx_TCGA_TrainGroupby_mixture-2022-10-18-07.40.54-PDT\")\n",
    "cibersortRet = cibersortOut.joinpath(\"CIBERSORTx_GTEx_TCGA_TrainGroupby_mixture-2022-10-18-07.40.54-PDT_Results.txt\")\n",
    "cibersortFractionsDF = pd.read_csv(cibersortRet, sep='\\t')"
   ]
  },
  {
   "cell_type": "code",
   "execution_count": 72,
   "id": "bc319bb7-443c-45cc-ad04-89a180fe3b90",
   "metadata": {},
   "outputs": [
    {
     "data": {
      "text/html": [
       "<div>\n",
       "<style scoped>\n",
       "    .dataframe tbody tr th:only-of-type {\n",
       "        vertical-align: middle;\n",
       "    }\n",
       "\n",
       "    .dataframe tbody tr th {\n",
       "        vertical-align: top;\n",
       "    }\n",
       "\n",
       "    .dataframe thead th {\n",
       "        text-align: right;\n",
       "    }\n",
       "</style>\n",
       "<table border=\"1\" class=\"dataframe\">\n",
       "  <thead>\n",
       "    <tr style=\"text-align: right;\">\n",
       "      <th></th>\n",
       "      <th>Mixture</th>\n",
       "      <th>P-value</th>\n",
       "      <th>Correlation</th>\n",
       "      <th>RMSE</th>\n",
       "    </tr>\n",
       "  </thead>\n",
       "  <tbody>\n",
       "    <tr>\n",
       "      <th>0</th>\n",
       "      <td>GTEX-1117F-0226-SM-5GZZ7</td>\n",
       "      <td>0.0</td>\n",
       "      <td>0.985425</td>\n",
       "      <td>0.926455</td>\n",
       "    </tr>\n",
       "    <tr>\n",
       "      <th>1</th>\n",
       "      <td>GTEX-1117F-0526-SM-5EGHJ</td>\n",
       "      <td>0.0</td>\n",
       "      <td>0.979791</td>\n",
       "      <td>0.934695</td>\n",
       "    </tr>\n",
       "    <tr>\n",
       "      <th>2</th>\n",
       "      <td>GTEX-1117F-0726-SM-5GIEN</td>\n",
       "      <td>0.0</td>\n",
       "      <td>0.984906</td>\n",
       "      <td>0.447916</td>\n",
       "    </tr>\n",
       "    <tr>\n",
       "      <th>3</th>\n",
       "      <td>GTEX-1117F-2826-SM-5GZXL</td>\n",
       "      <td>0.0</td>\n",
       "      <td>0.988464</td>\n",
       "      <td>0.907675</td>\n",
       "    </tr>\n",
       "    <tr>\n",
       "      <th>4</th>\n",
       "      <td>GTEX-1117F-3226-SM-5N9CT</td>\n",
       "      <td>0.0</td>\n",
       "      <td>0.917052</td>\n",
       "      <td>0.949553</td>\n",
       "    </tr>\n",
       "  </tbody>\n",
       "</table>\n",
       "</div>"
      ],
      "text/plain": [
       "                    Mixture  P-value  Correlation      RMSE\n",
       "0  GTEX-1117F-0226-SM-5GZZ7      0.0     0.985425  0.926455\n",
       "1  GTEX-1117F-0526-SM-5EGHJ      0.0     0.979791  0.934695\n",
       "2  GTEX-1117F-0726-SM-5GIEN      0.0     0.984906  0.447916\n",
       "3  GTEX-1117F-2826-SM-5GZXL      0.0     0.988464  0.907675\n",
       "4  GTEX-1117F-3226-SM-5N9CT      0.0     0.917052  0.949553"
      ]
     },
     "metadata": {},
     "output_type": "display_data"
    },
    {
     "name": "stdout",
     "output_type": "stream",
     "text": [
      "9873\n",
      "\n",
      " check index works as expected. ie. monitonic increase, with gaps\n"
     ]
    },
    {
     "data": {
      "text/html": [
       "<div>\n",
       "<style scoped>\n",
       "    .dataframe tbody tr th:only-of-type {\n",
       "        vertical-align: middle;\n",
       "    }\n",
       "\n",
       "    .dataframe tbody tr th {\n",
       "        vertical-align: top;\n",
       "    }\n",
       "\n",
       "    .dataframe thead th {\n",
       "        text-align: right;\n",
       "    }\n",
       "</style>\n",
       "<table border=\"1\" class=\"dataframe\">\n",
       "  <thead>\n",
       "    <tr style=\"text-align: right;\">\n",
       "      <th></th>\n",
       "      <th>Mixture</th>\n",
       "      <th>P-value</th>\n",
       "      <th>Correlation</th>\n",
       "      <th>RMSE</th>\n",
       "    </tr>\n",
       "  </thead>\n",
       "  <tbody>\n",
       "    <tr>\n",
       "      <th>0</th>\n",
       "      <td>GTEX-1117F-0226-SM-5GZZ7</td>\n",
       "      <td>0.0</td>\n",
       "      <td>0.985425</td>\n",
       "      <td>0.926455</td>\n",
       "    </tr>\n",
       "    <tr>\n",
       "      <th>1</th>\n",
       "      <td>GTEX-1117F-0526-SM-5EGHJ</td>\n",
       "      <td>0.0</td>\n",
       "      <td>0.979791</td>\n",
       "      <td>0.934695</td>\n",
       "    </tr>\n",
       "    <tr>\n",
       "      <th>2</th>\n",
       "      <td>GTEX-1117F-0726-SM-5GIEN</td>\n",
       "      <td>0.0</td>\n",
       "      <td>0.984906</td>\n",
       "      <td>0.447916</td>\n",
       "    </tr>\n",
       "    <tr>\n",
       "      <th>3</th>\n",
       "      <td>GTEX-1117F-2826-SM-5GZXL</td>\n",
       "      <td>0.0</td>\n",
       "      <td>0.988464</td>\n",
       "      <td>0.907675</td>\n",
       "    </tr>\n",
       "    <tr>\n",
       "      <th>4</th>\n",
       "      <td>GTEX-1117F-3226-SM-5N9CT</td>\n",
       "      <td>0.0</td>\n",
       "      <td>0.917052</td>\n",
       "      <td>0.949553</td>\n",
       "    </tr>\n",
       "  </tbody>\n",
       "</table>\n",
       "</div>"
      ],
      "text/plain": [
       "                    Mixture  P-value  Correlation      RMSE\n",
       "0  GTEX-1117F-0226-SM-5GZZ7      0.0     0.985425  0.926455\n",
       "1  GTEX-1117F-0526-SM-5EGHJ      0.0     0.979791  0.934695\n",
       "2  GTEX-1117F-0726-SM-5GIEN      0.0     0.984906  0.447916\n",
       "3  GTEX-1117F-2826-SM-5GZXL      0.0     0.988464  0.907675\n",
       "4  GTEX-1117F-3226-SM-5N9CT      0.0     0.917052  0.949553"
      ]
     },
     "metadata": {},
     "output_type": "display_data"
    },
    {
     "data": {
      "text/html": [
       "<div>\n",
       "<style scoped>\n",
       "    .dataframe tbody tr th:only-of-type {\n",
       "        vertical-align: middle;\n",
       "    }\n",
       "\n",
       "    .dataframe tbody tr th {\n",
       "        vertical-align: top;\n",
       "    }\n",
       "\n",
       "    .dataframe thead th {\n",
       "        text-align: right;\n",
       "    }\n",
       "</style>\n",
       "<table border=\"1\" class=\"dataframe\">\n",
       "  <thead>\n",
       "    <tr style=\"text-align: right;\">\n",
       "      <th></th>\n",
       "      <th>Mixture</th>\n",
       "      <th>P-value</th>\n",
       "      <th>Correlation</th>\n",
       "      <th>RMSE</th>\n",
       "    </tr>\n",
       "  </thead>\n",
       "  <tbody>\n",
       "    <tr>\n",
       "      <th>15766</th>\n",
       "      <td>UVM-V4-A9ET-TP</td>\n",
       "      <td>0.0</td>\n",
       "      <td>0.901526</td>\n",
       "      <td>0.954368</td>\n",
       "    </tr>\n",
       "    <tr>\n",
       "      <th>15775</th>\n",
       "      <td>UVM-V4-A9F8-TP</td>\n",
       "      <td>0.0</td>\n",
       "      <td>0.905897</td>\n",
       "      <td>0.952661</td>\n",
       "    </tr>\n",
       "    <tr>\n",
       "      <th>15778</th>\n",
       "      <td>UVM-VD-A8KB-TP</td>\n",
       "      <td>0.0</td>\n",
       "      <td>0.932183</td>\n",
       "      <td>0.951820</td>\n",
       "    </tr>\n",
       "    <tr>\n",
       "      <th>15793</th>\n",
       "      <td>UVM-WC-A883-TP</td>\n",
       "      <td>0.0</td>\n",
       "      <td>0.939317</td>\n",
       "      <td>0.713812</td>\n",
       "    </tr>\n",
       "    <tr>\n",
       "      <th>15800</th>\n",
       "      <td>UVM-YZ-A985-TP</td>\n",
       "      <td>0.0</td>\n",
       "      <td>0.916389</td>\n",
       "      <td>0.951274</td>\n",
       "    </tr>\n",
       "  </tbody>\n",
       "</table>\n",
       "</div>"
      ],
      "text/plain": [
       "              Mixture  P-value  Correlation      RMSE\n",
       "15766  UVM-V4-A9ET-TP      0.0     0.901526  0.954368\n",
       "15775  UVM-V4-A9F8-TP      0.0     0.905897  0.952661\n",
       "15778  UVM-VD-A8KB-TP      0.0     0.932183  0.951820\n",
       "15793  UVM-WC-A883-TP      0.0     0.939317  0.713812\n",
       "15800  UVM-YZ-A985-TP      0.0     0.916389  0.951274"
      ]
     },
     "metadata": {},
     "output_type": "display_data"
    },
    {
     "data": {
      "text/plain": [
       "array([    0,     1,     2, ..., 15778, 15793, 15800])"
      ]
     },
     "execution_count": 72,
     "metadata": {},
     "output_type": "execute_result"
    }
   ],
   "source": [
    "# select samples with large R\n",
    "display( cibersortFractionsDF.loc[:, ['Mixture', 'P-value', 'Correlation', 'RMSE']].head())\n",
    "selectRowsWithHighR = (cibersortFractionsDF.loc[:, 'Correlation'] > 0.9) & (cibersortFractionsDF.loc[:, 'P-value'] <= 0.01)\n",
    "print( sum(selectRowsWithHighR) )\n",
    "cibersortFractionLargeRDF = cibersortFractionsDF.loc[selectRowsWithHighR, ['Mixture', 'P-value', 'Correlation', 'RMSE']]\n",
    "\n",
    "# we need index values to select fractions we want to compare\n",
    "# check index works as expected. ie. monitonic increase, with gaps\n",
    "print(\"\\n check index works as expected. ie. monitonic increase, with gaps\")\n",
    "display( cibersortFractionLargeRDF.head() )\n",
    "display( cibersortFractionLargeRDF.tail() )\n",
    "\n",
    "cibersortLargeRIdxNP = cibersortFractionLargeRDF.index.to_numpy()\n",
    "cibersortLargeRIdxNP"
   ]
  },
  {
   "cell_type": "code",
   "execution_count": 73,
   "id": "14dcbefa-62c9-4e26-9f2c-7ca681a157b7",
   "metadata": {},
   "outputs": [
    {
     "name": "stdout",
     "output_type": "stream",
     "text": [
      "cibersortFractionsNP.shape: (15801, 83)\n"
     ]
    }
   ],
   "source": [
    "# select fractions\n",
    "cibersortFractionsNP = cibersortFractionsDF.drop(columns=['Mixture', 'P-value', 'Correlation', 'RMSE']).to_numpy()\n",
    "print(\"cibersortFractionsNP.shape: {}\".format(cibersortFractionsNP.shape))"
   ]
  },
  {
   "cell_type": "code",
   "execution_count": 74,
   "id": "ea3fdb49-73b8-4d77-93bd-2d0ac6351ce4",
   "metadata": {},
   "outputs": [],
   "source": [
    "# check shape\n",
    "assert fractionsNP.shape == cibersortFractionsNP.shape, \"ERROR closed form fraction shape does not match cibersort result\""
   ]
  },
  {
   "cell_type": "code",
   "execution_count": 75,
   "id": "33cf1d58-a922-4d21-8adc-092d67e2018f",
   "metadata": {},
   "outputs": [],
   "source": [
    "# check: fractions rows should sum to 1\n",
    "byRows = 1  \n",
    "emsg = \" ERROR fractions do not sum to 1\"\n",
    "assert np.isclose( np.sum(np.sum( cibersortFractionsNP, axis=byRows )),  cibersortFractionsNP.shape[0] ), \"cibersortFractionsNP\" + emsg\n",
    "\n",
    "assert np.isclose( np.sum(np.sum( fractionsNP,          axis=byRows)), fractionsNP.shape[0] ), \"fractionsNP:\" + emsg"
   ]
  },
  {
   "cell_type": "code",
   "execution_count": 76,
   "id": "05c1defe-f29d-4635-8631-5ecbd431c47c",
   "metadata": {},
   "outputs": [
    {
     "name": "stdout",
     "output_type": "stream",
     "text": [
      "ERROR fractionsNP has 663,372 negative values!\n",
      "percentage of negative values 49.418177742296315\n"
     ]
    }
   ],
   "source": [
    "# check fractions are >=  0\n",
    "emsg = \" ERROR fractions can not be negative. ie can not have negative counts\"\n",
    "assert np.sum( cibersortFractionsNP < 0 ) == 0, \"cibersortFractionsNP:\" + emsg\n",
    "\n",
    "negativeLogicalNP = fractionsNP < 0\n",
    "numNegValues = np.sum( negativeLogicalNP )\n",
    "print(\"ERROR fractionsNP has {:,} negative values!\".format(numNegValues))\n",
    "# assert np.sum( fractionsNP < 0 ) == 0, \"fractionsNP:\" + emsg\n",
    "print( \"percentage of negative values {:,}\".format( (fractionsNP.size - numNegValues) / fractionsNP.size * 100) )\n"
   ]
  },
  {
   "cell_type": "code",
   "execution_count": 77,
   "id": "5105dc68-c9bd-4c14-b0fa-0a8154be1d64",
   "metadata": {},
   "outputs": [
    {
     "data": {
      "text/plain": [
       "array([ True, False,  True, ...,  True,  True, False])"
      ]
     },
     "execution_count": 77,
     "metadata": {},
     "output_type": "execute_result"
    }
   ],
   "source": [
    "# can not fix by simply setting negative values = 0?\n",
    "clippedNP = np.where(fractionsNP < 0, 0, fractionsNP)\n",
    "numNegValues = np.sum( clippedNP < 0)\n",
    "numNegValues\n",
    "\n",
    "# do the fractions still sum to 1?\n",
    "np.sum(clippedNP, axis=byRows) > 1"
   ]
  },
  {
   "cell_type": "code",
   "execution_count": 78,
   "id": "31a9468e-a86d-4995-8134-497eed4203cd",
   "metadata": {},
   "outputs": [
    {
     "name": "stdout",
     "output_type": "stream",
     "text": [
      "normalizedNP\n",
      "[[0.00000000e+00 3.79593888e-01 0.00000000e+00 ... 0.00000000e+00\n",
      "  4.36614928e-03 0.00000000e+00]\n",
      " [2.39629838e-04 2.20241789e-01 0.00000000e+00 ... 0.00000000e+00\n",
      "  3.24159460e-03 0.00000000e+00]\n",
      " [1.02130515e-03 1.00332718e-01 3.01667939e-02 ... 0.00000000e+00\n",
      "  0.00000000e+00 1.24850457e-03]\n",
      " ...\n",
      " [0.00000000e+00 0.00000000e+00 3.64691740e-02 ... 9.46296853e-03\n",
      "  0.00000000e+00 0.00000000e+00]\n",
      " [2.30110198e-04 3.96736442e-02 0.00000000e+00 ... 2.30145655e-02\n",
      "  0.00000000e+00 2.49562731e-04]\n",
      " [0.00000000e+00 0.00000000e+00 0.00000000e+00 ... 2.19493353e-04\n",
      "  0.00000000e+00 0.00000000e+00]]\n",
      "\n",
      "check sums to 1\n",
      "[1. 1. 1. ... 1. 1. 1.]\n",
      "\n",
      " if normalized correctly should sum 15,801\n",
      "15801.0\n"
     ]
    }
   ],
   "source": [
    "# can we fix by clipping and rescaling values so that they sum to 1\n",
    "rowSums = np.sum(clippedNP, axis=byRows)\n",
    "normalizedNP = np.divide(clippedNP, rowSums.reshape(rowSums.size, 1) )\n",
    "#print( np.divide(matrix_2d_ordered, vector_1d.reshape(3,1)) )\n",
    "\n",
    "print(\"normalizedNP\")\n",
    "print(normalizedNP)\n",
    "\n",
    "print(\"\\ncheck sums to 1\")\n",
    "print( np.sum(normalizedNP, axis=byRows) )\n",
    "print(\"\\n if normalized correctly should sum {:,}\".format(clippedNP.shape[0]))\n",
    "print( np.sum(np.sum( normalizedNP, axis=byRows )) )"
   ]
  },
  {
   "cell_type": "code",
   "execution_count": 143,
   "id": "4aa6c06a-ca16-4991-8e2d-90a6c4b1309a",
   "metadata": {},
   "outputs": [
    {
     "name": "stdout",
     "output_type": "stream",
     "text": [
      "100% TP sum() == 819,459\n",
      "rtol = 1e-05 atol = 1e-08 sum() == 252,102 accuracy = 19.22%\n",
      "\n",
      "round\n",
      "rtol = 1e-05 atol = 1e-08  sum() == 618,842 accuracy = 47.19%\n"
     ]
    },
    {
     "name": "stderr",
     "output_type": "stream",
     "text": [
      "/private/home/aedavids/miniconda3/envs/extraCellularRNA/lib/python3.7/site-packages/ipykernel_launcher.py:17: FutureWarning: Using a non-tuple sequence for multidimensional indexing is deprecated; use `arr[tuple(seq)]` instead of `arr[seq]`. In the future this will be interpreted as an array index, `arr[np.array(seq)]`, which will result either in an error or a different result.\n",
      "/private/home/aedavids/miniconda3/envs/extraCellularRNA/lib/python3.7/site-packages/ipykernel_launcher.py:18: FutureWarning: Using a non-tuple sequence for multidimensional indexing is deprecated; use `arr[tuple(seq)]` instead of `arr[seq]`. In the future this will be interpreted as an array index, `arr[np.array(seq)]`, which will result either in an error or a different result.\n"
     ]
    }
   ],
   "source": [
    "# Is there evidence normalization works?\n",
    "# check cibersort samples with high correlation and small p-values\n",
    "\n",
    "\n",
    "# foo = normalizedNP[[cibersortLargeRIdxNP]]\n",
    "# print(foo.shape)\n",
    "# print( foo[0:4, :][:, 0:4] )\n",
    "\n",
    "# print()\n",
    "# bar = cibersortFractionsNP[[cibersortLargeRIdxNP]]\n",
    "# print(bar.shape)\n",
    "# bar[0:4,:][:,0:4]\n",
    "\n",
    "# isclose is not symmetric\n",
    "rtol= 1e-05 # default 1e-05 \n",
    "atol= 1e-08 # default 1e-08 \n",
    "normalizedLargeRNP = normalizedNP[[cibersortLargeRIdxNP]]\n",
    "cibersortLargeRNP = cibersortFractionsNP[[cibersortLargeRIdxNP]]\n",
    "pos = np.sum( np.isclose(normalizedLargeRNP, cibersortLargeRNP, rtol, atol)) \n",
    "print(\"100% TP sum() == {:,}\".format(normalizedLargeRNP.size))\n",
    "print( \"rtol = {} atol = {} sum() == {:,} accuracy = {:.2f}%\".format(rtol, atol, pos, pos / normalizedNP.size * 100) )\n",
    "\n",
    "print(\"\\nround\")\n",
    "roundPos = np.sum( np.isclose(normalizedLargeRNP.round(decimals=2), cibersortLargeRNP.round(decimals=2), rtol, atol)) \n",
    "print( \"rtol = {} atol = {}  sum() == {:,} accuracy = {:.2f}%\".format(rtol, atol, roundPos, roundPos / normalizedNP.size * 100) )\n"
   ]
  },
  {
   "cell_type": "markdown",
   "id": "4b33fd5e-2a52-4f09-8f49-9a5de49e4366",
   "metadata": {},
   "source": [
    "**isclose() results**\n",
    "\n",
    "| atol | accuracy %| round(2) accuracy %|\n",
    "|--- | --- | --- |\n",
    "|1e-08 | 19.22 | 47.19|\n",
    "|1e-05 | 20.58 | |\n",
    "|1e-03 | 38.48 | 47.19 |\n",
    "|1e-02 | 51.33 | 53.13 |"
   ]
  },
  {
   "cell_type": "code",
   "execution_count": 114,
   "id": "bc5ba06c-a899-4058-aab2-603046596ec0",
   "metadata": {},
   "outputs": [
    {
     "name": "stdout",
     "output_type": "stream",
     "text": [
      "\n"
     ]
    },
    {
     "name": "stderr",
     "output_type": "stream",
     "text": [
      "/private/home/aedavids/miniconda3/envs/extraCellularRNA/lib/python3.7/site-packages/ipykernel_launcher.py:6: FutureWarning: Using a non-tuple sequence for multidimensional indexing is deprecated; use `arr[tuple(seq)]` instead of `arr[seq]`. In the future this will be interpreted as an array index, `arr[np.array(seq)]`, which will result either in an error or a different result.\n",
      "  \n"
     ]
    },
    {
     "data": {
      "text/plain": [
       "array([[0., 0., 0., ..., 0., 0., 0.],\n",
       "       [0., 0., 0., ..., 0., 0., 0.],\n",
       "       [0., 0., 0., ..., 0., 0., 0.],\n",
       "       ...,\n",
       "       [0., 0., 0., ..., 0., 0., 0.],\n",
       "       [0., 0., 0., ..., 0., 0., 0.],\n",
       "       [0., 0., 0., ..., 0., 0., 0.]])"
      ]
     },
     "execution_count": 114,
     "metadata": {},
     "output_type": "execute_result"
    }
   ],
   "source": [
    "# print(normalizedNP[[cibersortLargeRIdxNP]])\n",
    "\n",
    "# print()\n",
    "# print( np.round(normalizedNP[[cibersortLargeRIdxNP]]) )\n",
    "print()\n",
    "normalizedNP[[cibersortLargeRIdxNP]].round()"
   ]
  },
  {
   "cell_type": "code",
   "execution_count": 80,
   "id": "1dc94472-8d27-41a3-9b94-e2554e710afc",
   "metadata": {},
   "outputs": [
    {
     "ename": "NameError",
     "evalue": "name 'aedwip' is not defined",
     "output_type": "error",
     "traceback": [
      "\u001b[0;31m---------------------------------------------------------------------------\u001b[0m",
      "\u001b[0;31mNameError\u001b[0m                                 Traceback (most recent call last)",
      "\u001b[0;32m/scratch/tmp/ipykernel_23298/2700285953.py\u001b[0m in \u001b[0;36m<module>\u001b[0;34m\u001b[0m\n\u001b[0;32m----> 1\u001b[0;31m \u001b[0maedwip\u001b[0m\u001b[0;34m\u001b[0m\u001b[0;34m\u001b[0m\u001b[0m\n\u001b[0m",
      "\u001b[0;31mNameError\u001b[0m: name 'aedwip' is not defined"
     ]
    }
   ],
   "source": [
    "aedwip"
   ]
  },
  {
   "cell_type": "code",
   "execution_count": null,
   "id": "bc112653-b6c0-469a-815c-a49392a7eed4",
   "metadata": {},
   "outputs": [],
   "source": [
    "expected = cibersortFractionsNP\n",
    "# isclose is not symmetric\n",
    "rtol= 1e-05 # default 1e-05 \n",
    "atol= 1e-08 # default 1e-08 \n",
    "\n",
    "# isclose is not submetric\n",
    "print(\"if perfect match isclose().sum == 1,311,483 i.e. 15801 * 83\")\n",
    "print(np.isclose( fractionsNP, expected,    rtol, atol).sum())\n",
    "print(np.isclose( expected,    fractionsNP, rtol, atol).sum())"
   ]
  },
  {
   "cell_type": "code",
   "execution_count": null,
   "id": "c1a1ed55-513c-4ce3-84a9-82eb0f89dff9",
   "metadata": {},
   "outputs": [],
   "source": [
    "fractionsNP.flatten().shape"
   ]
  },
  {
   "cell_type": "code",
   "execution_count": null,
   "id": "bb464a76-12f8-49ef-9a15-7447911a29b6",
   "metadata": {},
   "outputs": [],
   "source": [
    "expected.flatten().shape"
   ]
  },
  {
   "cell_type": "code",
   "execution_count": null,
   "id": "c397bc60-f3ef-4aed-97d2-df33a1a03472",
   "metadata": {},
   "outputs": [],
   "source": [
    "ksdlkdsl"
   ]
  },
  {
   "cell_type": "markdown",
   "id": "07930849-cece-4627-9937-e7c44bc2ffd9",
   "metadata": {},
   "source": [
    "# <span style=\"color:red\">hacks</span>"
   ]
  },
  {
   "cell_type": "code",
   "execution_count": null,
   "id": "87b18619-687e-4263-aae1-885f0a85b33f",
   "metadata": {},
   "outputs": [],
   "source": [
    "if not mixtureInverseNP:\n",
    "    print(\"WTF\")"
   ]
  },
  {
   "cell_type": "code",
   "execution_count": null,
   "id": "cea05ae7-9b84-4b5a-98ad-291ff16149a2",
   "metadata": {},
   "outputs": [],
   "source": [
    "len(mixtureInverseNP)"
   ]
  },
  {
   "cell_type": "code",
   "execution_count": null,
   "id": "92c80ad2-c6bb-4f3e-8d6c-65af23cda01d",
   "metadata": {},
   "outputs": [],
   "source": [
    "mixtureDF.shape"
   ]
  },
  {
   "cell_type": "code",
   "execution_count": null,
   "id": "3d3ca068-8c4d-4a97-a977-8436028bbe98",
   "metadata": {},
   "outputs": [],
   "source": [
    "mixtureDF.columns"
   ]
  },
  {
   "cell_type": "code",
   "execution_count": null,
   "id": "c2e401dd-9955-4f13-a691-57220f065bbd",
   "metadata": {},
   "outputs": [],
   "source": [
    "mixtureTransposedDF = mixtureDF.transpose()\n",
    "mixtureTransposedDF.shape"
   ]
  },
  {
   "cell_type": "code",
   "execution_count": null,
   "id": "df0fda84-906e-4c51-80c4-3ec97625ed3b",
   "metadata": {},
   "outputs": [],
   "source": [
    "mixtureTransposedDF.columns"
   ]
  },
  {
   "cell_type": "code",
   "execution_count": null,
   "id": "fdb6b009-6a4a-4e8b-8248-1968a05c63e2",
   "metadata": {},
   "outputs": [],
   "source": [
    "mixtureTransposedDF.head()"
   ]
  },
  {
   "cell_type": "code",
   "execution_count": null,
   "id": "ea36f038-7e33-46b9-8313-6034fb3dda70",
   "metadata": {},
   "outputs": [],
   "source": [
    "tNP = mixtureTransposedDF.to_numpy()\n",
    "tNP.shape"
   ]
  },
  {
   "cell_type": "code",
   "execution_count": null,
   "id": "f19fc49c-960a-494c-9ba0-c0deb7cbae5e",
   "metadata": {},
   "outputs": [],
   "source": [
    "tNP[0:5, 0:5]"
   ]
  },
  {
   "cell_type": "code",
   "execution_count": null,
   "id": "d09d6c4e-fff8-4574-a9e9-3c67ba172b0e",
   "metadata": {},
   "outputs": [],
   "source": [
    "tNP[-5:, -5:]"
   ]
  },
  {
   "cell_type": "code",
   "execution_count": null,
   "id": "6082ed61-10cc-4bb6-af09-8d5a35113f7f",
   "metadata": {},
   "outputs": [],
   "source": [
    "# sum test\n",
    "d = np.arange(0,4)\n",
    "dd = np.array( [d, d*-1, d, d*-1] )\n",
    "print(dd)\n",
    "byRows = 1\n",
    "byColumns = 0\n",
    "print(np.sum(dd, axis=byRows))\n",
    "print(np.sum(dd, axis=byColumns))"
   ]
  },
  {
   "cell_type": "code",
   "execution_count": null,
   "id": "e7e97c82-4deb-4c69-adc5-c8038fb6d015",
   "metadata": {},
   "outputs": [],
   "source": [
    "# fancy idx set neg to zero\n",
    "d = np.arange(0,4)\n",
    "dd = np.array( [d, d*-1, d, d*-1] )\n",
    "print(dd)\n",
    "\n",
    "negValuesLogical = dd < 0\n",
    "print()\n",
    "print(negValuesLogical)\n",
    "#dd + negValuesLogical * 999\n",
    "#dd[negValuesLogical]\n",
    "\n",
    "np.where(dd < 0, 0, dd)"
   ]
  },
  {
   "cell_type": "code",
   "execution_count": null,
   "id": "fc114485-2e6e-4394-a4e3-2981d0961b09",
   "metadata": {},
   "outputs": [],
   "source": [
    "# can we scale rows so that they sum to 1\n",
    "d = np.arange(0,16).reshape(2,8)\n",
    "print(d)\n",
    "\n",
    "rowSums = np.sum(d, axis=byRows)\n",
    "print(\"\\nrowSums\")\n",
    "print(rowSums)\n",
    "\n",
    "print(\"\\n d / rowSums\")\n",
    "#print(d / rowSums)\n",
    "print(np.divide(d, rowSums.transpose()))\n",
    "\n",
    "# print(\"\\nsum\")\n",
    "# #byColumns\n",
    "# print( np.sum(d / rowSums, axis=byRows) )"
   ]
  },
  {
   "cell_type": "code",
   "execution_count": null,
   "id": "d52634a5-f2cb-4656-8ee0-e9f225c76bd1",
   "metadata": {},
   "outputs": [],
   "source": [
    "# CREATE 1D 'VECTOR'\n",
    "vector_1d = np.array([10,20,30])\n",
    "\n",
    "# CREATE 2D MATRIX OF NUMBERS, 1 TO 9\n",
    "numbers_1_to_9 = np.arange(start = 1, stop = 10)\n",
    "matrix_2d_ordered = numbers_1_to_9.reshape((3,3))\n",
    "\n",
    "\n",
    "print(vector_1d)\n",
    "print()\n",
    "print(matrix_2d_ordered)\n",
    "\n",
    "print()\n",
    "print( np.divide(matrix_2d_ordered, vector_1d) )\n",
    "\n",
    "print(\"winner winner chicken dinner\")\n",
    "print( np.divide(matrix_2d_ordered, vector_1d.reshape(3,1)) )"
   ]
  },
  {
   "cell_type": "code",
   "execution_count": null,
   "id": "5cc1df16-73fa-4a9e-96e4-27adb51aa906",
   "metadata": {},
   "outputs": [],
   "source": [
    "# check we select rows of interest\n",
    "\n",
    "d = np.arange(0,15).reshape(3,5)\n",
    "print(d)\n",
    "print()\n",
    "print(d[[0,2]])"
   ]
  },
  {
   "cell_type": "code",
   "execution_count": null,
   "id": "5eb37f4f-5a5f-4d0c-b5ca-6e79cb6bff60",
   "metadata": {},
   "outputs": [],
   "source": []
  }
 ],
 "metadata": {
  "kernelspec": {
   "display_name": "Python 3 (ipykernel)",
   "language": "python",
   "name": "python3"
  },
  "language_info": {
   "codemirror_mode": {
    "name": "ipython",
    "version": 3
   },
   "file_extension": ".py",
   "mimetype": "text/x-python",
   "name": "python",
   "nbconvert_exporter": "python",
   "pygments_lexer": "ipython3",
   "version": "3.7.6"
  },
  "varInspector": {
   "cols": {
    "lenName": 16,
    "lenType": 16,
    "lenVar": 40
   },
   "kernels_config": {
    "python": {
     "delete_cmd_postfix": "",
     "delete_cmd_prefix": "del ",
     "library": "var_list.py",
     "varRefreshCmd": "print(var_dic_list())"
    },
    "r": {
     "delete_cmd_postfix": ") ",
     "delete_cmd_prefix": "rm(",
     "library": "var_list.r",
     "varRefreshCmd": "cat(var_dic_list()) "
    }
   },
   "types_to_exclude": [
    "module",
    "function",
    "builtin_function_or_method",
    "instance",
    "_Feature"
   ],
   "window_display": false
  }
 },
 "nbformat": 4,
 "nbformat_minor": 5
}
