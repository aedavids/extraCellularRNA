{
 "cells": [
  {
   "cell_type": "markdown",
   "id": "4642b54b",
   "metadata": {},
   "source": [
    "# CIBERSORTx Tutorial\n",
    "```\n",
    "Andrew E. Davidson\n",
    "aedavids@ucsc.edu\n",
    "8/23/2022\n",
    "```\n",
    "\n",
    "Goal play round with ciber sort"
   ]
  },
  {
   "cell_type": "code",
   "execution_count": 62,
   "id": "6d8760b1",
   "metadata": {},
   "outputs": [],
   "source": [
    "import numpy as np\n",
    "import pandas as pd"
   ]
  },
  {
   "cell_type": "markdown",
   "id": "011d8757",
   "metadata": {},
   "source": [
    "## Create Signature Gene file"
   ]
  },
  {
   "cell_type": "code",
   "execution_count": 63,
   "id": "1fc97bc8",
   "metadata": {},
   "outputs": [],
   "source": [
    "m = 20 # number of samples\n",
    "n =  8 # number of genes\n",
    "k =  3 # number of types"
   ]
  },
  {
   "cell_type": "code",
   "execution_count": 67,
   "id": "ef5e953f",
   "metadata": {},
   "outputs": [
    {
     "data": {
      "text/plain": [
       "[array([1., 1., 1., 1., 0., 0., 0., 0.]),\n",
       " array([0., 0., 1., 1., 1., 0., 0., 1.]),\n",
       " array([0., 0., 0., 0., 1., 1., 0., 0.])]"
      ]
     },
     "execution_count": 67,
     "metadata": {},
     "output_type": "execute_result"
    }
   ],
   "source": [
    "geneProfileList = []\n",
    "for i in range(k):\n",
    "    tmp = np.zeros(n)\n",
    "    for j in range(i, 1 + k):\n",
    "        tmp[i + j] = 1\n",
    "    geneProfileList.append(tmp)\n",
    "    \n",
    "geneProfileList[1][n -1] = 1\n",
    "geneProfileList"
   ]
  },
  {
   "cell_type": "code",
   "execution_count": 71,
   "id": "5f4658fb",
   "metadata": {},
   "outputs": [
    {
     "data": {
      "text/html": [
       "<div>\n",
       "<style scoped>\n",
       "    .dataframe tbody tr th:only-of-type {\n",
       "        vertical-align: middle;\n",
       "    }\n",
       "\n",
       "    .dataframe tbody tr th {\n",
       "        vertical-align: top;\n",
       "    }\n",
       "\n",
       "    .dataframe thead th {\n",
       "        text-align: right;\n",
       "    }\n",
       "</style>\n",
       "<table border=\"1\" class=\"dataframe\">\n",
       "  <thead>\n",
       "    <tr style=\"text-align: right;\">\n",
       "      <th></th>\n",
       "      <th>name</th>\n",
       "      <th>T0</th>\n",
       "      <th>T1</th>\n",
       "      <th>T2</th>\n",
       "    </tr>\n",
       "  </thead>\n",
       "  <tbody>\n",
       "    <tr>\n",
       "      <th>0</th>\n",
       "      <td>G0</td>\n",
       "      <td>1.0</td>\n",
       "      <td>0.0</td>\n",
       "      <td>0.0</td>\n",
       "    </tr>\n",
       "    <tr>\n",
       "      <th>1</th>\n",
       "      <td>G1</td>\n",
       "      <td>1.0</td>\n",
       "      <td>0.0</td>\n",
       "      <td>0.0</td>\n",
       "    </tr>\n",
       "    <tr>\n",
       "      <th>2</th>\n",
       "      <td>G2</td>\n",
       "      <td>1.0</td>\n",
       "      <td>1.0</td>\n",
       "      <td>0.0</td>\n",
       "    </tr>\n",
       "    <tr>\n",
       "      <th>3</th>\n",
       "      <td>G3</td>\n",
       "      <td>1.0</td>\n",
       "      <td>1.0</td>\n",
       "      <td>0.0</td>\n",
       "    </tr>\n",
       "    <tr>\n",
       "      <th>4</th>\n",
       "      <td>G4</td>\n",
       "      <td>0.0</td>\n",
       "      <td>1.0</td>\n",
       "      <td>1.0</td>\n",
       "    </tr>\n",
       "    <tr>\n",
       "      <th>5</th>\n",
       "      <td>G5</td>\n",
       "      <td>0.0</td>\n",
       "      <td>0.0</td>\n",
       "      <td>1.0</td>\n",
       "    </tr>\n",
       "    <tr>\n",
       "      <th>6</th>\n",
       "      <td>G6</td>\n",
       "      <td>0.0</td>\n",
       "      <td>0.0</td>\n",
       "      <td>0.0</td>\n",
       "    </tr>\n",
       "    <tr>\n",
       "      <th>7</th>\n",
       "      <td>G7</td>\n",
       "      <td>0.0</td>\n",
       "      <td>1.0</td>\n",
       "      <td>0.0</td>\n",
       "    </tr>\n",
       "  </tbody>\n",
       "</table>\n",
       "</div>"
      ],
      "text/plain": [
       "  name   T0   T1   T2\n",
       "0   G0  1.0  0.0  0.0\n",
       "1   G1  1.0  0.0  0.0\n",
       "2   G2  1.0  1.0  0.0\n",
       "3   G3  1.0  1.0  0.0\n",
       "4   G4  0.0  1.0  1.0\n",
       "5   G5  0.0  0.0  1.0\n",
       "6   G6  0.0  0.0  0.0\n",
       "7   G7  0.0  1.0  0.0"
      ]
     },
     "execution_count": 71,
     "metadata": {},
     "output_type": "execute_result"
    }
   ],
   "source": [
    "geneNames = [ \"G\" + str(i) for i in range(n)]\n",
    "typeNames = [ \"T\" + str(i) for i in range(k)]\n",
    "\n",
    "geneProfileDict = { 'name': geneNames}\n",
    "signGeneDF = pd.DataFrame( geneProfileDict )\n",
    "\n",
    "for i in range(len(typeNames)):\n",
    "    typeName = typeNames[i]\n",
    "    signGeneDF[typeName] = geneProfileList[i]\n",
    "\n",
    "signGeneDF"
   ]
  },
  {
   "cell_type": "code",
   "execution_count": null,
   "id": "846d6503",
   "metadata": {},
   "outputs": [],
   "source": []
  },
  {
   "cell_type": "code",
   "execution_count": null,
   "id": "b20dd645",
   "metadata": {},
   "outputs": [],
   "source": []
  }
 ],
 "metadata": {
  "kernelspec": {
   "display_name": "Python [conda env:extraCellularRNA] *",
   "language": "python",
   "name": "conda-env-extraCellularRNA-py"
  },
  "language_info": {
   "codemirror_mode": {
    "name": "ipython",
    "version": 3
   },
   "file_extension": ".py",
   "mimetype": "text/x-python",
   "name": "python",
   "nbconvert_exporter": "python",
   "pygments_lexer": "ipython3",
   "version": "3.7.6"
  }
 },
 "nbformat": 4,
 "nbformat_minor": 5
}
