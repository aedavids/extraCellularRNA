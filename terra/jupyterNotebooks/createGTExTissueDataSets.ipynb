{
 "cells": [
  {
   "cell_type": "markdown",
   "id": "7f62248e",
   "metadata": {},
   "source": [
    "# Create tissue specific data sets for GTEx\n",
    "\n",
    "```\n",
    "Andrew Davidson\n",
    "aedavids@ucsc.edu\n",
    "2/25/22\n",
    "```\n",
    "\n",
    "\n",
    "- [Make a set of data  table from scratch ](https://support.terra.bio/hc/en-us/articles/360047611871#h_01EJXZMM6GA3481YRRQBR65MY3)\n",
    "- [Data Tables QuickStart Part 3: Understanding sets of data](https://support.terra.bio/hc/en-us/articles/360047611871)\n",
    "- [adding data to a workspace with a template](https://support.terra.bio/hc/en-us/articles/360059242671). see \"Sets of data - sample_set table\""
   ]
  },
  {
   "cell_type": "code",
   "execution_count": 1,
   "id": "c29bead3",
   "metadata": {},
   "outputs": [
    {
     "name": "stdout",
     "output_type": "stream",
     "text": [
      "run on 2022-02-25 15:30:35\n"
     ]
    }
   ],
   "source": [
    "from datetime import datetime\n",
    "now = datetime.now()\n",
    "print(\"run on {}\".format( now.strftime('%Y-%m-%d %H:%M:%S') ))\n",
    "\n",
    "import numpy as np\n",
    "import pandas as pd"
   ]
  },
  {
   "cell_type": "markdown",
   "id": "8f541024",
   "metadata": {},
   "source": [
    "## Load data and create list of tissue ids"
   ]
  },
  {
   "cell_type": "code",
   "execution_count": 2,
   "id": "8f4caa67",
   "metadata": {},
   "outputs": [
    {
     "data": {
      "text/html": [
       "<div>\n",
       "<style scoped>\n",
       "    .dataframe tbody tr th:only-of-type {\n",
       "        vertical-align: middle;\n",
       "    }\n",
       "\n",
       "    .dataframe tbody tr th {\n",
       "        vertical-align: top;\n",
       "    }\n",
       "\n",
       "    .dataframe thead th {\n",
       "        text-align: right;\n",
       "    }\n",
       "</style>\n",
       "<table border=\"1\" class=\"dataframe\">\n",
       "  <thead>\n",
       "    <tr style=\"text-align: right;\">\n",
       "      <th></th>\n",
       "      <th>entity:sample_id</th>\n",
       "      <th>aux_info</th>\n",
       "      <th>bam_file</th>\n",
       "      <th>bam_index</th>\n",
       "      <th>firstEndFastq</th>\n",
       "      <th>participant</th>\n",
       "      <th>quantFile</th>\n",
       "      <th>secondEndFastq</th>\n",
       "      <th>tissue_id</th>\n",
       "      <th>tissue_site_detail</th>\n",
       "      <th>unpairedFastq</th>\n",
       "    </tr>\n",
       "  </thead>\n",
       "  <tbody>\n",
       "    <tr>\n",
       "      <th>0</th>\n",
       "      <td>GTEX-1117F-0226-SM-5GZZ7</td>\n",
       "      <td>gs://fc-secure-f5aa8a37-78e5-45f6-9c59-c643016...</td>\n",
       "      <td>gs://fc-secure-ff8156a3-ddf3-42e4-9211-0fd89da...</td>\n",
       "      <td>gs://fc-secure-ff8156a3-ddf3-42e4-9211-0fd89da...</td>\n",
       "      <td>NaN</td>\n",
       "      <td>GTEX-1117F</td>\n",
       "      <td>gs://fc-secure-f5aa8a37-78e5-45f6-9c59-c643016...</td>\n",
       "      <td>NaN</td>\n",
       "      <td>Adipose_Subcutaneous</td>\n",
       "      <td>Adipose - Subcutaneous</td>\n",
       "      <td>NaN</td>\n",
       "    </tr>\n",
       "    <tr>\n",
       "      <th>1</th>\n",
       "      <td>GTEX-1117F-0426-SM-5EGHI</td>\n",
       "      <td>gs://fc-secure-f5aa8a37-78e5-45f6-9c59-c643016...</td>\n",
       "      <td>gs://fc-secure-ff8156a3-ddf3-42e4-9211-0fd89da...</td>\n",
       "      <td>gs://fc-secure-ff8156a3-ddf3-42e4-9211-0fd89da...</td>\n",
       "      <td>NaN</td>\n",
       "      <td>GTEX-1117F</td>\n",
       "      <td>gs://fc-secure-f5aa8a37-78e5-45f6-9c59-c643016...</td>\n",
       "      <td>NaN</td>\n",
       "      <td>Muscle_Skeletal</td>\n",
       "      <td>Muscle - Skeletal</td>\n",
       "      <td>NaN</td>\n",
       "    </tr>\n",
       "    <tr>\n",
       "      <th>2</th>\n",
       "      <td>GTEX-1117F-0526-SM-5EGHJ</td>\n",
       "      <td>gs://fc-secure-f5aa8a37-78e5-45f6-9c59-c643016...</td>\n",
       "      <td>gs://fc-secure-ff8156a3-ddf3-42e4-9211-0fd89da...</td>\n",
       "      <td>gs://fc-secure-ff8156a3-ddf3-42e4-9211-0fd89da...</td>\n",
       "      <td>NaN</td>\n",
       "      <td>GTEX-1117F</td>\n",
       "      <td>gs://fc-secure-f5aa8a37-78e5-45f6-9c59-c643016...</td>\n",
       "      <td>NaN</td>\n",
       "      <td>Artery_Tibial</td>\n",
       "      <td>Artery - Tibial</td>\n",
       "      <td>NaN</td>\n",
       "    </tr>\n",
       "    <tr>\n",
       "      <th>3</th>\n",
       "      <td>GTEX-1117F-0626-SM-5N9CS</td>\n",
       "      <td>gs://fc-secure-f5aa8a37-78e5-45f6-9c59-c643016...</td>\n",
       "      <td>gs://fc-secure-ff8156a3-ddf3-42e4-9211-0fd89da...</td>\n",
       "      <td>gs://fc-secure-ff8156a3-ddf3-42e4-9211-0fd89da...</td>\n",
       "      <td>NaN</td>\n",
       "      <td>GTEX-1117F</td>\n",
       "      <td>gs://fc-secure-f5aa8a37-78e5-45f6-9c59-c643016...</td>\n",
       "      <td>NaN</td>\n",
       "      <td>Artery_Coronary</td>\n",
       "      <td>Artery - Coronary</td>\n",
       "      <td>NaN</td>\n",
       "    </tr>\n",
       "    <tr>\n",
       "      <th>4</th>\n",
       "      <td>GTEX-1117F-0726-SM-5GIEN</td>\n",
       "      <td>gs://fc-secure-f5aa8a37-78e5-45f6-9c59-c643016...</td>\n",
       "      <td>gs://fc-secure-ff8156a3-ddf3-42e4-9211-0fd89da...</td>\n",
       "      <td>gs://fc-secure-ff8156a3-ddf3-42e4-9211-0fd89da...</td>\n",
       "      <td>NaN</td>\n",
       "      <td>GTEX-1117F</td>\n",
       "      <td>gs://fc-secure-f5aa8a37-78e5-45f6-9c59-c643016...</td>\n",
       "      <td>NaN</td>\n",
       "      <td>Heart_Atrial_Appendage</td>\n",
       "      <td>Heart - Atrial Appendage</td>\n",
       "      <td>NaN</td>\n",
       "    </tr>\n",
       "  </tbody>\n",
       "</table>\n",
       "</div>"
      ],
      "text/plain": [
       "           entity:sample_id  \\\n",
       "0  GTEX-1117F-0226-SM-5GZZ7   \n",
       "1  GTEX-1117F-0426-SM-5EGHI   \n",
       "2  GTEX-1117F-0526-SM-5EGHJ   \n",
       "3  GTEX-1117F-0626-SM-5N9CS   \n",
       "4  GTEX-1117F-0726-SM-5GIEN   \n",
       "\n",
       "                                            aux_info  \\\n",
       "0  gs://fc-secure-f5aa8a37-78e5-45f6-9c59-c643016...   \n",
       "1  gs://fc-secure-f5aa8a37-78e5-45f6-9c59-c643016...   \n",
       "2  gs://fc-secure-f5aa8a37-78e5-45f6-9c59-c643016...   \n",
       "3  gs://fc-secure-f5aa8a37-78e5-45f6-9c59-c643016...   \n",
       "4  gs://fc-secure-f5aa8a37-78e5-45f6-9c59-c643016...   \n",
       "\n",
       "                                            bam_file  \\\n",
       "0  gs://fc-secure-ff8156a3-ddf3-42e4-9211-0fd89da...   \n",
       "1  gs://fc-secure-ff8156a3-ddf3-42e4-9211-0fd89da...   \n",
       "2  gs://fc-secure-ff8156a3-ddf3-42e4-9211-0fd89da...   \n",
       "3  gs://fc-secure-ff8156a3-ddf3-42e4-9211-0fd89da...   \n",
       "4  gs://fc-secure-ff8156a3-ddf3-42e4-9211-0fd89da...   \n",
       "\n",
       "                                           bam_index firstEndFastq  \\\n",
       "0  gs://fc-secure-ff8156a3-ddf3-42e4-9211-0fd89da...           NaN   \n",
       "1  gs://fc-secure-ff8156a3-ddf3-42e4-9211-0fd89da...           NaN   \n",
       "2  gs://fc-secure-ff8156a3-ddf3-42e4-9211-0fd89da...           NaN   \n",
       "3  gs://fc-secure-ff8156a3-ddf3-42e4-9211-0fd89da...           NaN   \n",
       "4  gs://fc-secure-ff8156a3-ddf3-42e4-9211-0fd89da...           NaN   \n",
       "\n",
       "  participant                                          quantFile  \\\n",
       "0  GTEX-1117F  gs://fc-secure-f5aa8a37-78e5-45f6-9c59-c643016...   \n",
       "1  GTEX-1117F  gs://fc-secure-f5aa8a37-78e5-45f6-9c59-c643016...   \n",
       "2  GTEX-1117F  gs://fc-secure-f5aa8a37-78e5-45f6-9c59-c643016...   \n",
       "3  GTEX-1117F  gs://fc-secure-f5aa8a37-78e5-45f6-9c59-c643016...   \n",
       "4  GTEX-1117F  gs://fc-secure-f5aa8a37-78e5-45f6-9c59-c643016...   \n",
       "\n",
       "  secondEndFastq               tissue_id        tissue_site_detail  \\\n",
       "0            NaN    Adipose_Subcutaneous    Adipose - Subcutaneous   \n",
       "1            NaN         Muscle_Skeletal         Muscle - Skeletal   \n",
       "2            NaN           Artery_Tibial           Artery - Tibial   \n",
       "3            NaN         Artery_Coronary         Artery - Coronary   \n",
       "4            NaN  Heart_Atrial_Appendage  Heart - Atrial Appendage   \n",
       "\n",
       "  unpairedFastq  \n",
       "0           NaN  \n",
       "1           NaN  \n",
       "2           NaN  \n",
       "3           NaN  \n",
       "4           NaN  "
      ]
     },
     "execution_count": 2,
     "metadata": {},
     "output_type": "execute_result"
    }
   ],
   "source": [
    "rootDir = \"../../../terraDataModels/test-aedavids-proj/AnVIL_GTEx_V8_hg38_edu_ucsc_kim_lab\"\n",
    "\n",
    "entityName = \"sample\"\n",
    "sampleTSV = rootDir + \"/\" + entityName + \".tsv\"\n",
    "sampleDF = pd.read_csv(sampleTSV, delimiter='\\t')\n",
    "sampleDF.head()"
   ]
  },
  {
   "cell_type": "code",
   "execution_count": 3,
   "id": "c325369d",
   "metadata": {},
   "outputs": [
    {
     "data": {
      "text/plain": [
       "array(['Adipose_Subcutaneous', 'Adipose_Visceral_Omentum',\n",
       "       'Adrenal_Gland', 'Artery_Aorta', 'Artery_Coronary',\n",
       "       'Artery_Tibial', 'Bladder', 'Brain_Amygdala',\n",
       "       'Brain_Anterior_cingulate_cortex_BA24',\n",
       "       'Brain_Caudate_basal_ganglia', 'Brain_Cerebellar_Hemisphere',\n",
       "       'Brain_Cerebellum', 'Brain_Cortex', 'Brain_Frontal_Cortex_BA9',\n",
       "       'Brain_Hippocampus', 'Brain_Hypothalamus',\n",
       "       'Brain_Nucleus_accumbens_basal_ganglia',\n",
       "       'Brain_Putamen_basal_ganglia', 'Brain_Spinal_cord_cervical_c-1',\n",
       "       'Brain_Substantia_nigra', 'Breast_Mammary_Tissue',\n",
       "       'Cells_Cultured_fibroblasts', 'Cells_EBV-transformed_lymphocytes',\n",
       "       'Cervix_Ectocervix', 'Cervix_Endocervix', 'Colon_Sigmoid',\n",
       "       'Colon_Transverse', 'Esophagus_Gastroesophageal_Junction',\n",
       "       'Esophagus_Mucosa', 'Esophagus_Muscularis', 'Fallopian_Tube',\n",
       "       'Heart_Atrial_Appendage', 'Heart_Left_Ventricle', 'Kidney_Cortex',\n",
       "       'Kidney_Medulla', 'Liver', 'Lung', 'Minor_Salivary_Gland',\n",
       "       'Muscle_Skeletal', 'Nerve_Tibial', 'Ovary', 'Pancreas',\n",
       "       'Pituitary', 'Prostate', 'Skin_Not_Sun_Exposed_Suprapubic',\n",
       "       'Skin_Sun_Exposed_Lower_leg', 'Small_Intestine_Terminal_Ileum',\n",
       "       'Spleen', 'Stomach', 'Testis', 'Thyroid', 'Uterus', 'Vagina',\n",
       "       'Whole_Blood'], dtype=object)"
      ]
     },
     "execution_count": 3,
     "metadata": {},
     "output_type": "execute_result"
    }
   ],
   "source": [
    "tissueIdNP = np.sort( sampleDF.loc[:,'tissue_id'].unique() )\n",
    "tissueIdNP"
   ]
  },
  {
   "cell_type": "markdown",
   "id": "0ce1edb2",
   "metadata": {},
   "source": [
    "## Create the sample_set_entity.tsv file"
   ]
  },
  {
   "cell_type": "code",
   "execution_count": 4,
   "id": "d6db1cde",
   "metadata": {},
   "outputs": [
    {
     "data": {
      "text/html": [
       "<div>\n",
       "<style scoped>\n",
       "    .dataframe tbody tr th:only-of-type {\n",
       "        vertical-align: middle;\n",
       "    }\n",
       "\n",
       "    .dataframe tbody tr th {\n",
       "        vertical-align: top;\n",
       "    }\n",
       "\n",
       "    .dataframe thead th {\n",
       "        text-align: right;\n",
       "    }\n",
       "</style>\n",
       "<table border=\"1\" class=\"dataframe\">\n",
       "  <thead>\n",
       "    <tr style=\"text-align: right;\">\n",
       "      <th></th>\n",
       "      <th>entity:sample_set_id</th>\n",
       "    </tr>\n",
       "  </thead>\n",
       "  <tbody>\n",
       "    <tr>\n",
       "      <th>0</th>\n",
       "      <td>Adipose_Subcutaneous</td>\n",
       "    </tr>\n",
       "    <tr>\n",
       "      <th>1</th>\n",
       "      <td>Adipose_Visceral_Omentum</td>\n",
       "    </tr>\n",
       "    <tr>\n",
       "      <th>2</th>\n",
       "      <td>Adrenal_Gland</td>\n",
       "    </tr>\n",
       "    <tr>\n",
       "      <th>3</th>\n",
       "      <td>Artery_Aorta</td>\n",
       "    </tr>\n",
       "    <tr>\n",
       "      <th>4</th>\n",
       "      <td>Artery_Coronary</td>\n",
       "    </tr>\n",
       "  </tbody>\n",
       "</table>\n",
       "</div>"
      ],
      "text/plain": [
       "       entity:sample_set_id\n",
       "0      Adipose_Subcutaneous\n",
       "1  Adipose_Visceral_Omentum\n",
       "2             Adrenal_Gland\n",
       "3              Artery_Aorta\n",
       "4           Artery_Coronary"
      ]
     },
     "execution_count": 4,
     "metadata": {},
     "output_type": "execute_result"
    }
   ],
   "source": [
    "entityName = \"sample_set_entity\"\n",
    "sampleSetEntityTSV = rootDir + \"/\" + entityName + \".tsv\"\n",
    "sampleSetEntityDF = pd.DataFrame( { 'entity:sample_set_id':tissueIdNP } )\n",
    "sampleSetEntityDF.head()"
   ]
  },
  {
   "cell_type": "code",
   "execution_count": 5,
   "id": "84f264d0",
   "metadata": {},
   "outputs": [
    {
     "name": "stdout",
     "output_type": "stream",
     "text": [
      "writing file:\n",
      "../../../terraDataModels/test-aedavids-proj/AnVIL_GTEx_V8_hg38_edu_ucsc_kim_lab/sample_set_entity.tsv\n"
     ]
    }
   ],
   "source": [
    "tmp = sampleSetEntityTSV\n",
    "#tmp =  rootDir + \"/\" + \"tmp-\"  + entityName + \".tsv\"\n",
    "\n",
    "print(\"writing file:\\n{}\".format(tmp))\n",
    "sampleSetEntityDF.to_csv( tmp, sep='\\t', index=False )"
   ]
  },
  {
   "cell_type": "markdown",
   "id": "ce4f8e55",
   "metadata": {},
   "source": [
    "# Create sample_set_membership.tsv file"
   ]
  },
  {
   "cell_type": "code",
   "execution_count": 6,
   "id": "6d4d1e0f",
   "metadata": {},
   "outputs": [],
   "source": [
    "setMembershipDF = pd.DataFrame(columns=['membership:sample_set_id','sample'])\n",
    "for tid in  tissueIdNP: #  ['Adipose_Subcutaneous', 'Brain_Caudate_basal_ganglia']\n",
    "    #print(\"\\n{}\".format(tid))\n",
    "    rows = sampleDF['tissue_id'] == tid\n",
    "    #print(\"sumRows:{}\".format(sum(rows)))\n",
    "    sampleIdList = sampleDF.loc[rows, 'entity:sample_id'].to_list()\n",
    "    setIdList = [tid] * len(sampleIdList)\n",
    "    tissueSampleDF = pd.DataFrame( {'membership:sample_set_id':setIdList ,\n",
    "                                    'sample':sampleIdList\n",
    "                                   })\n",
    "    setMembershipDF = setMembershipDF.append(tissueSampleDF)"
   ]
  },
  {
   "cell_type": "code",
   "execution_count": 7,
   "id": "20c99129",
   "metadata": {},
   "outputs": [
    {
     "data": {
      "text/html": [
       "<div>\n",
       "<style scoped>\n",
       "    .dataframe tbody tr th:only-of-type {\n",
       "        vertical-align: middle;\n",
       "    }\n",
       "\n",
       "    .dataframe tbody tr th {\n",
       "        vertical-align: top;\n",
       "    }\n",
       "\n",
       "    .dataframe thead th {\n",
       "        text-align: right;\n",
       "    }\n",
       "</style>\n",
       "<table border=\"1\" class=\"dataframe\">\n",
       "  <thead>\n",
       "    <tr style=\"text-align: right;\">\n",
       "      <th></th>\n",
       "      <th>membership:sample_set_id</th>\n",
       "      <th>sample</th>\n",
       "    </tr>\n",
       "  </thead>\n",
       "  <tbody>\n",
       "    <tr>\n",
       "      <th>0</th>\n",
       "      <td>Adipose_Subcutaneous</td>\n",
       "      <td>GTEX-1117F-0226-SM-5GZZ7</td>\n",
       "    </tr>\n",
       "    <tr>\n",
       "      <th>1</th>\n",
       "      <td>Adipose_Subcutaneous</td>\n",
       "      <td>GTEX-111CU-1826-SM-5GZYN</td>\n",
       "    </tr>\n",
       "    <tr>\n",
       "      <th>2</th>\n",
       "      <td>Adipose_Subcutaneous</td>\n",
       "      <td>GTEX-111FC-0226-SM-5N9B8</td>\n",
       "    </tr>\n",
       "    <tr>\n",
       "      <th>3</th>\n",
       "      <td>Adipose_Subcutaneous</td>\n",
       "      <td>GTEX-111VG-2326-SM-5N9BK</td>\n",
       "    </tr>\n",
       "    <tr>\n",
       "      <th>4</th>\n",
       "      <td>Adipose_Subcutaneous</td>\n",
       "      <td>GTEX-111YS-2426-SM-5GZZQ</td>\n",
       "    </tr>\n",
       "    <tr>\n",
       "      <th>...</th>\n",
       "      <td>...</td>\n",
       "      <td>...</td>\n",
       "    </tr>\n",
       "    <tr>\n",
       "      <th>750</th>\n",
       "      <td>Whole_Blood</td>\n",
       "      <td>GTEX-ZVTK-0006-SM-57WBK</td>\n",
       "    </tr>\n",
       "    <tr>\n",
       "      <th>751</th>\n",
       "      <td>Whole_Blood</td>\n",
       "      <td>GTEX-ZVZP-0006-SM-51MSW</td>\n",
       "    </tr>\n",
       "    <tr>\n",
       "      <th>752</th>\n",
       "      <td>Whole_Blood</td>\n",
       "      <td>GTEX-ZVZQ-0006-SM-51MR8</td>\n",
       "    </tr>\n",
       "    <tr>\n",
       "      <th>753</th>\n",
       "      <td>Whole_Blood</td>\n",
       "      <td>GTEX-ZXES-0005-SM-57WCB</td>\n",
       "    </tr>\n",
       "    <tr>\n",
       "      <th>754</th>\n",
       "      <td>Whole_Blood</td>\n",
       "      <td>GTEX-ZXG5-0005-SM-57WCN</td>\n",
       "    </tr>\n",
       "  </tbody>\n",
       "</table>\n",
       "<p>17382 rows × 2 columns</p>\n",
       "</div>"
      ],
      "text/plain": [
       "    membership:sample_set_id                    sample\n",
       "0       Adipose_Subcutaneous  GTEX-1117F-0226-SM-5GZZ7\n",
       "1       Adipose_Subcutaneous  GTEX-111CU-1826-SM-5GZYN\n",
       "2       Adipose_Subcutaneous  GTEX-111FC-0226-SM-5N9B8\n",
       "3       Adipose_Subcutaneous  GTEX-111VG-2326-SM-5N9BK\n",
       "4       Adipose_Subcutaneous  GTEX-111YS-2426-SM-5GZZQ\n",
       "..                       ...                       ...\n",
       "750              Whole_Blood   GTEX-ZVTK-0006-SM-57WBK\n",
       "751              Whole_Blood   GTEX-ZVZP-0006-SM-51MSW\n",
       "752              Whole_Blood   GTEX-ZVZQ-0006-SM-51MR8\n",
       "753              Whole_Blood   GTEX-ZXES-0005-SM-57WCB\n",
       "754              Whole_Blood   GTEX-ZXG5-0005-SM-57WCN\n",
       "\n",
       "[17382 rows x 2 columns]"
      ]
     },
     "execution_count": 7,
     "metadata": {},
     "output_type": "execute_result"
    }
   ],
   "source": [
    "setMembershipDF"
   ]
  },
  {
   "cell_type": "code",
   "execution_count": 8,
   "id": "edf26feb",
   "metadata": {},
   "outputs": [
    {
     "name": "stdout",
     "output_type": "stream",
     "text": [
      "writing file:\n",
      "../../../terraDataModels/test-aedavids-proj/AnVIL_GTEx_V8_hg38_edu_ucsc_kim_lab/sample_set_membership.tsv\n"
     ]
    }
   ],
   "source": [
    "entityName = \"sample_set_membership\"\n",
    "sampleSetMembershipTSV = rootDir + \"/\" + entityName + \".tsv\"\n",
    "tmp = sampleSetMembershipTSV\n",
    "#tmp = rootDir + \"/\" + \"tmp-\" + entityName + \".tsv\"\n",
    "print(\"writing file:\\n{}\".format(tmp))\n",
    "setMembershipDF.to_csv( tmp, sep='\\t', index=False )"
   ]
  },
  {
   "cell_type": "code",
   "execution_count": null,
   "id": "8fd7a045",
   "metadata": {},
   "outputs": [],
   "source": []
  },
  {
   "cell_type": "code",
   "execution_count": null,
   "id": "1a58e9d0",
   "metadata": {},
   "outputs": [],
   "source": []
  }
 ],
 "metadata": {
  "kernelspec": {
   "display_name": "Python 3",
   "language": "python",
   "name": "python3"
  },
  "language_info": {
   "codemirror_mode": {
    "name": "ipython",
    "version": 3
   },
   "file_extension": ".py",
   "mimetype": "text/x-python",
   "name": "python",
   "nbconvert_exporter": "python",
   "pygments_lexer": "ipython3",
   "version": "3.7.6"
  }
 },
 "nbformat": 4,
 "nbformat_minor": 5
}
