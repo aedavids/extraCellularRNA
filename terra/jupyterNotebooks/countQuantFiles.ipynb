{
 "cells": [
  {
   "cell_type": "markdown",
   "metadata": {},
   "source": [
    "# count quant files\n",
    "\n",
    "GTEx has 17,382 samples. as of monday 9/27/21 all samples have been run through 'SQworkflow v_16, bamToFastq diskSpace GB = 80 memory = 40'. A few may have failed. \n",
    "\n",
    "If for each successful sample we expect salmon has created a quant.sf file."
   ]
  },
  {
   "cell_type": "code",
   "execution_count": 1,
   "metadata": {},
   "outputs": [
    {
     "name": "stdout",
     "output_type": "stream",
     "text": [
      "run on 2021-11-17 19:10:39\n"
     ]
    }
   ],
   "source": [
    "from datetime import datetime\n",
    "now = datetime.now()\n",
    "print(\"run on {}\".format( now.strftime('%Y-%m-%d %H:%M:%S') ))\n",
    "\n",
    "import pandas as pd"
   ]
  },
  {
   "cell_type": "markdown",
   "metadata": {},
   "source": [
    "# Load AnVIL_GTEx_V8_hg38_edu_ucsc_kim_lab  sample data table"
   ]
  },
  {
   "cell_type": "code",
   "execution_count": 2,
   "metadata": {},
   "outputs": [
    {
     "name": "stdout",
     "output_type": "stream",
     "text": [
      "total 43160\n",
      "-rw-r--r--@ 1 andrewdavidson  staff      1072 Oct  4 15:22 2-template_sample-table.tsv\n",
      "-rw-r--r--  2 andrewdavidson  staff   4887670 Nov 17 14:19 colData.csv\n",
      "-rw-r--r--  1 andrewdavidson  staff       173 Sep 17 09:42 git.commit.msg.txt\n",
      "-rw-r--r--  1 andrewdavidson  staff       150 Aug 23 14:22 git.commit.msg.txt~\n",
      "-rw-r--r--@ 1 andrewdavidson  staff    977455 Jul 31 10:38 participant.tsv\n",
      "-rw-r--r--@ 2 andrewdavidson  staff  14416309 Nov 17 19:10 sample.tsv\n",
      "-rw-r--r--  1 andrewdavidson  staff      1254 Oct  3 09:15 sample_set_entity.tsv\n",
      "-rw-r--r--  1 andrewdavidson  staff    785903 Oct  3 09:15 sample_set_membership.tsv\n",
      "-rw-r--r--  1 andrewdavidson  staff    992379 Sep 17 09:49 t\n",
      "* \u001b[32mmaster\u001b[m 846420b create DESeq colData\n"
     ]
    }
   ],
   "source": [
    "# back ups of terra data models are stored in a separate repo\n",
    "# so that branch merges do not loose data model version\n",
    "rootDir = \"../../../terraDataModels/test-aedavids-proj/AnVIL_GTEx_V8_hg38_edu_ucsc_kim_lab\"\n",
    "! ls -l $rootDir\n",
    "! (cd $rootDir; git branch -vv)"
   ]
  },
  {
   "cell_type": "code",
   "execution_count": 3,
   "metadata": {
    "scrolled": true
   },
   "outputs": [
    {
     "data": {
      "text/html": [
       "<div>\n",
       "<style scoped>\n",
       "    .dataframe tbody tr th:only-of-type {\n",
       "        vertical-align: middle;\n",
       "    }\n",
       "\n",
       "    .dataframe tbody tr th {\n",
       "        vertical-align: top;\n",
       "    }\n",
       "\n",
       "    .dataframe thead th {\n",
       "        text-align: right;\n",
       "    }\n",
       "</style>\n",
       "<table border=\"1\" class=\"dataframe\">\n",
       "  <thead>\n",
       "    <tr style=\"text-align: right;\">\n",
       "      <th></th>\n",
       "      <th>entity:sample_id</th>\n",
       "      <th>aux_info</th>\n",
       "      <th>bam_file</th>\n",
       "      <th>bam_index</th>\n",
       "      <th>firstEndFastq</th>\n",
       "      <th>participant</th>\n",
       "      <th>quantFile</th>\n",
       "      <th>secondEndFastq</th>\n",
       "      <th>tissue_id</th>\n",
       "      <th>tissue_site_detail</th>\n",
       "      <th>unpairedFastq</th>\n",
       "    </tr>\n",
       "  </thead>\n",
       "  <tbody>\n",
       "    <tr>\n",
       "      <th>0</th>\n",
       "      <td>GTEX-1117F-0226-SM-5GZZ7</td>\n",
       "      <td>gs://fc-secure-f5aa8a37-78e5-45f6-9c59-c643016...</td>\n",
       "      <td>gs://fc-secure-ff8156a3-ddf3-42e4-9211-0fd89da...</td>\n",
       "      <td>gs://fc-secure-ff8156a3-ddf3-42e4-9211-0fd89da...</td>\n",
       "      <td>NaN</td>\n",
       "      <td>GTEX-1117F</td>\n",
       "      <td>gs://fc-secure-f5aa8a37-78e5-45f6-9c59-c643016...</td>\n",
       "      <td>NaN</td>\n",
       "      <td>Adipose_Subcutaneous</td>\n",
       "      <td>Adipose - Subcutaneous</td>\n",
       "      <td>NaN</td>\n",
       "    </tr>\n",
       "    <tr>\n",
       "      <th>1</th>\n",
       "      <td>GTEX-1117F-0426-SM-5EGHI</td>\n",
       "      <td>gs://fc-secure-f5aa8a37-78e5-45f6-9c59-c643016...</td>\n",
       "      <td>gs://fc-secure-ff8156a3-ddf3-42e4-9211-0fd89da...</td>\n",
       "      <td>gs://fc-secure-ff8156a3-ddf3-42e4-9211-0fd89da...</td>\n",
       "      <td>NaN</td>\n",
       "      <td>GTEX-1117F</td>\n",
       "      <td>gs://fc-secure-f5aa8a37-78e5-45f6-9c59-c643016...</td>\n",
       "      <td>NaN</td>\n",
       "      <td>Muscle_Skeletal</td>\n",
       "      <td>Muscle - Skeletal</td>\n",
       "      <td>NaN</td>\n",
       "    </tr>\n",
       "    <tr>\n",
       "      <th>2</th>\n",
       "      <td>GTEX-1117F-0526-SM-5EGHJ</td>\n",
       "      <td>gs://fc-secure-f5aa8a37-78e5-45f6-9c59-c643016...</td>\n",
       "      <td>gs://fc-secure-ff8156a3-ddf3-42e4-9211-0fd89da...</td>\n",
       "      <td>gs://fc-secure-ff8156a3-ddf3-42e4-9211-0fd89da...</td>\n",
       "      <td>NaN</td>\n",
       "      <td>GTEX-1117F</td>\n",
       "      <td>gs://fc-secure-f5aa8a37-78e5-45f6-9c59-c643016...</td>\n",
       "      <td>NaN</td>\n",
       "      <td>Artery_Tibial</td>\n",
       "      <td>Artery - Tibial</td>\n",
       "      <td>NaN</td>\n",
       "    </tr>\n",
       "    <tr>\n",
       "      <th>3</th>\n",
       "      <td>GTEX-1117F-0626-SM-5N9CS</td>\n",
       "      <td>gs://fc-secure-f5aa8a37-78e5-45f6-9c59-c643016...</td>\n",
       "      <td>gs://fc-secure-ff8156a3-ddf3-42e4-9211-0fd89da...</td>\n",
       "      <td>gs://fc-secure-ff8156a3-ddf3-42e4-9211-0fd89da...</td>\n",
       "      <td>NaN</td>\n",
       "      <td>GTEX-1117F</td>\n",
       "      <td>gs://fc-secure-f5aa8a37-78e5-45f6-9c59-c643016...</td>\n",
       "      <td>NaN</td>\n",
       "      <td>Artery_Coronary</td>\n",
       "      <td>Artery - Coronary</td>\n",
       "      <td>NaN</td>\n",
       "    </tr>\n",
       "    <tr>\n",
       "      <th>4</th>\n",
       "      <td>GTEX-1117F-0726-SM-5GIEN</td>\n",
       "      <td>gs://fc-secure-f5aa8a37-78e5-45f6-9c59-c643016...</td>\n",
       "      <td>gs://fc-secure-ff8156a3-ddf3-42e4-9211-0fd89da...</td>\n",
       "      <td>gs://fc-secure-ff8156a3-ddf3-42e4-9211-0fd89da...</td>\n",
       "      <td>NaN</td>\n",
       "      <td>GTEX-1117F</td>\n",
       "      <td>gs://fc-secure-f5aa8a37-78e5-45f6-9c59-c643016...</td>\n",
       "      <td>NaN</td>\n",
       "      <td>Heart_Atrial_Appendage</td>\n",
       "      <td>Heart - Atrial Appendage</td>\n",
       "      <td>NaN</td>\n",
       "    </tr>\n",
       "  </tbody>\n",
       "</table>\n",
       "</div>"
      ],
      "text/plain": [
       "           entity:sample_id  \\\n",
       "0  GTEX-1117F-0226-SM-5GZZ7   \n",
       "1  GTEX-1117F-0426-SM-5EGHI   \n",
       "2  GTEX-1117F-0526-SM-5EGHJ   \n",
       "3  GTEX-1117F-0626-SM-5N9CS   \n",
       "4  GTEX-1117F-0726-SM-5GIEN   \n",
       "\n",
       "                                            aux_info  \\\n",
       "0  gs://fc-secure-f5aa8a37-78e5-45f6-9c59-c643016...   \n",
       "1  gs://fc-secure-f5aa8a37-78e5-45f6-9c59-c643016...   \n",
       "2  gs://fc-secure-f5aa8a37-78e5-45f6-9c59-c643016...   \n",
       "3  gs://fc-secure-f5aa8a37-78e5-45f6-9c59-c643016...   \n",
       "4  gs://fc-secure-f5aa8a37-78e5-45f6-9c59-c643016...   \n",
       "\n",
       "                                            bam_file  \\\n",
       "0  gs://fc-secure-ff8156a3-ddf3-42e4-9211-0fd89da...   \n",
       "1  gs://fc-secure-ff8156a3-ddf3-42e4-9211-0fd89da...   \n",
       "2  gs://fc-secure-ff8156a3-ddf3-42e4-9211-0fd89da...   \n",
       "3  gs://fc-secure-ff8156a3-ddf3-42e4-9211-0fd89da...   \n",
       "4  gs://fc-secure-ff8156a3-ddf3-42e4-9211-0fd89da...   \n",
       "\n",
       "                                           bam_index firstEndFastq  \\\n",
       "0  gs://fc-secure-ff8156a3-ddf3-42e4-9211-0fd89da...           NaN   \n",
       "1  gs://fc-secure-ff8156a3-ddf3-42e4-9211-0fd89da...           NaN   \n",
       "2  gs://fc-secure-ff8156a3-ddf3-42e4-9211-0fd89da...           NaN   \n",
       "3  gs://fc-secure-ff8156a3-ddf3-42e4-9211-0fd89da...           NaN   \n",
       "4  gs://fc-secure-ff8156a3-ddf3-42e4-9211-0fd89da...           NaN   \n",
       "\n",
       "  participant                                          quantFile  \\\n",
       "0  GTEX-1117F  gs://fc-secure-f5aa8a37-78e5-45f6-9c59-c643016...   \n",
       "1  GTEX-1117F  gs://fc-secure-f5aa8a37-78e5-45f6-9c59-c643016...   \n",
       "2  GTEX-1117F  gs://fc-secure-f5aa8a37-78e5-45f6-9c59-c643016...   \n",
       "3  GTEX-1117F  gs://fc-secure-f5aa8a37-78e5-45f6-9c59-c643016...   \n",
       "4  GTEX-1117F  gs://fc-secure-f5aa8a37-78e5-45f6-9c59-c643016...   \n",
       "\n",
       "  secondEndFastq               tissue_id        tissue_site_detail  \\\n",
       "0            NaN    Adipose_Subcutaneous    Adipose - Subcutaneous   \n",
       "1            NaN         Muscle_Skeletal         Muscle - Skeletal   \n",
       "2            NaN           Artery_Tibial           Artery - Tibial   \n",
       "3            NaN         Artery_Coronary         Artery - Coronary   \n",
       "4            NaN  Heart_Atrial_Appendage  Heart - Atrial Appendage   \n",
       "\n",
       "  unpairedFastq  \n",
       "0           NaN  \n",
       "1           NaN  \n",
       "2           NaN  \n",
       "3           NaN  \n",
       "4           NaN  "
      ]
     },
     "execution_count": 3,
     "metadata": {},
     "output_type": "execute_result"
    }
   ],
   "source": [
    "entityName = \"sample\"\n",
    "sampleTSV = rootDir + \"/\" + entityName + \".tsv\"\n",
    "sampleDF = pd.read_csv(sampleTSV, delimiter='\\t')\n",
    "sampleDF.head()"
   ]
  },
  {
   "cell_type": "code",
   "execution_count": 4,
   "metadata": {},
   "outputs": [
    {
     "data": {
      "text/html": [
       "<div>\n",
       "<style scoped>\n",
       "    .dataframe tbody tr th:only-of-type {\n",
       "        vertical-align: middle;\n",
       "    }\n",
       "\n",
       "    .dataframe tbody tr th {\n",
       "        vertical-align: top;\n",
       "    }\n",
       "\n",
       "    .dataframe thead th {\n",
       "        text-align: right;\n",
       "    }\n",
       "</style>\n",
       "<table border=\"1\" class=\"dataframe\">\n",
       "  <thead>\n",
       "    <tr style=\"text-align: right;\">\n",
       "      <th></th>\n",
       "      <th>entity:sample_id</th>\n",
       "      <th>aux_info</th>\n",
       "      <th>bam_file</th>\n",
       "      <th>bam_index</th>\n",
       "      <th>firstEndFastq</th>\n",
       "      <th>participant</th>\n",
       "      <th>quantFile</th>\n",
       "      <th>secondEndFastq</th>\n",
       "      <th>tissue_id</th>\n",
       "      <th>tissue_site_detail</th>\n",
       "      <th>unpairedFastq</th>\n",
       "    </tr>\n",
       "  </thead>\n",
       "  <tbody>\n",
       "    <tr>\n",
       "      <th>17377</th>\n",
       "      <td>GTEX-ZZPU-2126-SM-5EGIU</td>\n",
       "      <td>gs://fc-secure-f5aa8a37-78e5-45f6-9c59-c643016...</td>\n",
       "      <td>gs://fc-secure-ff8156a3-ddf3-42e4-9211-0fd89da...</td>\n",
       "      <td>gs://fc-secure-ff8156a3-ddf3-42e4-9211-0fd89da...</td>\n",
       "      <td>NaN</td>\n",
       "      <td>GTEX-ZZPU</td>\n",
       "      <td>gs://fc-secure-f5aa8a37-78e5-45f6-9c59-c643016...</td>\n",
       "      <td>NaN</td>\n",
       "      <td>Ovary</td>\n",
       "      <td>Ovary</td>\n",
       "      <td>NaN</td>\n",
       "    </tr>\n",
       "    <tr>\n",
       "      <th>17378</th>\n",
       "      <td>GTEX-ZZPU-2226-SM-5EGIV</td>\n",
       "      <td>gs://fc-secure-f5aa8a37-78e5-45f6-9c59-c643016...</td>\n",
       "      <td>gs://fc-secure-ff8156a3-ddf3-42e4-9211-0fd89da...</td>\n",
       "      <td>gs://fc-secure-ff8156a3-ddf3-42e4-9211-0fd89da...</td>\n",
       "      <td>NaN</td>\n",
       "      <td>GTEX-ZZPU</td>\n",
       "      <td>gs://fc-secure-f5aa8a37-78e5-45f6-9c59-c643016...</td>\n",
       "      <td>NaN</td>\n",
       "      <td>Vagina</td>\n",
       "      <td>Vagina</td>\n",
       "      <td>NaN</td>\n",
       "    </tr>\n",
       "    <tr>\n",
       "      <th>17379</th>\n",
       "      <td>GTEX-ZZPU-2426-SM-5E44I</td>\n",
       "      <td>gs://fc-secure-f5aa8a37-78e5-45f6-9c59-c643016...</td>\n",
       "      <td>gs://fc-secure-ff8156a3-ddf3-42e4-9211-0fd89da...</td>\n",
       "      <td>gs://fc-secure-ff8156a3-ddf3-42e4-9211-0fd89da...</td>\n",
       "      <td>NaN</td>\n",
       "      <td>GTEX-ZZPU</td>\n",
       "      <td>gs://fc-secure-f5aa8a37-78e5-45f6-9c59-c643016...</td>\n",
       "      <td>NaN</td>\n",
       "      <td>Artery_Tibial</td>\n",
       "      <td>Artery - Tibial</td>\n",
       "      <td>NaN</td>\n",
       "    </tr>\n",
       "    <tr>\n",
       "      <th>17380</th>\n",
       "      <td>GTEX-ZZPU-2626-SM-5E45Y</td>\n",
       "      <td>gs://fc-secure-f5aa8a37-78e5-45f6-9c59-c643016...</td>\n",
       "      <td>gs://fc-secure-ff8156a3-ddf3-42e4-9211-0fd89da...</td>\n",
       "      <td>gs://fc-secure-ff8156a3-ddf3-42e4-9211-0fd89da...</td>\n",
       "      <td>NaN</td>\n",
       "      <td>GTEX-ZZPU</td>\n",
       "      <td>gs://fc-secure-f5aa8a37-78e5-45f6-9c59-c643016...</td>\n",
       "      <td>NaN</td>\n",
       "      <td>Muscle_Skeletal</td>\n",
       "      <td>Muscle - Skeletal</td>\n",
       "      <td>NaN</td>\n",
       "    </tr>\n",
       "    <tr>\n",
       "      <th>17381</th>\n",
       "      <td>GTEX-ZZPU-2726-SM-5NQ8O</td>\n",
       "      <td>gs://fc-secure-f5aa8a37-78e5-45f6-9c59-c643016...</td>\n",
       "      <td>gs://fc-secure-ff8156a3-ddf3-42e4-9211-0fd89da...</td>\n",
       "      <td>gs://fc-secure-ff8156a3-ddf3-42e4-9211-0fd89da...</td>\n",
       "      <td>NaN</td>\n",
       "      <td>GTEX-ZZPU</td>\n",
       "      <td>gs://fc-secure-f5aa8a37-78e5-45f6-9c59-c643016...</td>\n",
       "      <td>NaN</td>\n",
       "      <td>Adipose_Subcutaneous</td>\n",
       "      <td>Adipose - Subcutaneous</td>\n",
       "      <td>NaN</td>\n",
       "    </tr>\n",
       "  </tbody>\n",
       "</table>\n",
       "</div>"
      ],
      "text/plain": [
       "              entity:sample_id  \\\n",
       "17377  GTEX-ZZPU-2126-SM-5EGIU   \n",
       "17378  GTEX-ZZPU-2226-SM-5EGIV   \n",
       "17379  GTEX-ZZPU-2426-SM-5E44I   \n",
       "17380  GTEX-ZZPU-2626-SM-5E45Y   \n",
       "17381  GTEX-ZZPU-2726-SM-5NQ8O   \n",
       "\n",
       "                                                aux_info  \\\n",
       "17377  gs://fc-secure-f5aa8a37-78e5-45f6-9c59-c643016...   \n",
       "17378  gs://fc-secure-f5aa8a37-78e5-45f6-9c59-c643016...   \n",
       "17379  gs://fc-secure-f5aa8a37-78e5-45f6-9c59-c643016...   \n",
       "17380  gs://fc-secure-f5aa8a37-78e5-45f6-9c59-c643016...   \n",
       "17381  gs://fc-secure-f5aa8a37-78e5-45f6-9c59-c643016...   \n",
       "\n",
       "                                                bam_file  \\\n",
       "17377  gs://fc-secure-ff8156a3-ddf3-42e4-9211-0fd89da...   \n",
       "17378  gs://fc-secure-ff8156a3-ddf3-42e4-9211-0fd89da...   \n",
       "17379  gs://fc-secure-ff8156a3-ddf3-42e4-9211-0fd89da...   \n",
       "17380  gs://fc-secure-ff8156a3-ddf3-42e4-9211-0fd89da...   \n",
       "17381  gs://fc-secure-ff8156a3-ddf3-42e4-9211-0fd89da...   \n",
       "\n",
       "                                               bam_index firstEndFastq  \\\n",
       "17377  gs://fc-secure-ff8156a3-ddf3-42e4-9211-0fd89da...           NaN   \n",
       "17378  gs://fc-secure-ff8156a3-ddf3-42e4-9211-0fd89da...           NaN   \n",
       "17379  gs://fc-secure-ff8156a3-ddf3-42e4-9211-0fd89da...           NaN   \n",
       "17380  gs://fc-secure-ff8156a3-ddf3-42e4-9211-0fd89da...           NaN   \n",
       "17381  gs://fc-secure-ff8156a3-ddf3-42e4-9211-0fd89da...           NaN   \n",
       "\n",
       "      participant                                          quantFile  \\\n",
       "17377   GTEX-ZZPU  gs://fc-secure-f5aa8a37-78e5-45f6-9c59-c643016...   \n",
       "17378   GTEX-ZZPU  gs://fc-secure-f5aa8a37-78e5-45f6-9c59-c643016...   \n",
       "17379   GTEX-ZZPU  gs://fc-secure-f5aa8a37-78e5-45f6-9c59-c643016...   \n",
       "17380   GTEX-ZZPU  gs://fc-secure-f5aa8a37-78e5-45f6-9c59-c643016...   \n",
       "17381   GTEX-ZZPU  gs://fc-secure-f5aa8a37-78e5-45f6-9c59-c643016...   \n",
       "\n",
       "      secondEndFastq             tissue_id      tissue_site_detail  \\\n",
       "17377            NaN                 Ovary                   Ovary   \n",
       "17378            NaN                Vagina                  Vagina   \n",
       "17379            NaN         Artery_Tibial         Artery - Tibial   \n",
       "17380            NaN       Muscle_Skeletal       Muscle - Skeletal   \n",
       "17381            NaN  Adipose_Subcutaneous  Adipose - Subcutaneous   \n",
       "\n",
       "      unpairedFastq  \n",
       "17377           NaN  \n",
       "17378           NaN  \n",
       "17379           NaN  \n",
       "17380           NaN  \n",
       "17381           NaN  "
      ]
     },
     "execution_count": 4,
     "metadata": {},
     "output_type": "execute_result"
    }
   ],
   "source": [
    "sampleDF.tail()"
   ]
  },
  {
   "cell_type": "code",
   "execution_count": 5,
   "metadata": {},
   "outputs": [
    {
     "data": {
      "text/plain": [
       "quantFile    17382\n",
       "dtype: int64"
      ]
     },
     "execution_count": 5,
     "metadata": {},
     "output_type": "execute_result"
    }
   ],
   "source": [
    "sampleDF.loc[:, ['quantFile']].count()"
   ]
  },
  {
   "cell_type": "code",
   "execution_count": 6,
   "metadata": {},
   "outputs": [
    {
     "name": "stdout",
     "output_type": "stream",
     "text": [
      "number of failed samples = 0\n"
     ]
    },
    {
     "data": {
      "text/html": [
       "<div>\n",
       "<style scoped>\n",
       "    .dataframe tbody tr th:only-of-type {\n",
       "        vertical-align: middle;\n",
       "    }\n",
       "\n",
       "    .dataframe tbody tr th {\n",
       "        vertical-align: top;\n",
       "    }\n",
       "\n",
       "    .dataframe thead th {\n",
       "        text-align: right;\n",
       "    }\n",
       "</style>\n",
       "<table border=\"1\" class=\"dataframe\">\n",
       "  <thead>\n",
       "    <tr style=\"text-align: right;\">\n",
       "      <th></th>\n",
       "      <th>entity:sample_id</th>\n",
       "      <th>tissue_id</th>\n",
       "    </tr>\n",
       "  </thead>\n",
       "  <tbody>\n",
       "  </tbody>\n",
       "</table>\n",
       "</div>"
      ],
      "text/plain": [
       "Empty DataFrame\n",
       "Columns: [entity:sample_id, tissue_id]\n",
       "Index: []"
      ]
     },
     "execution_count": 6,
     "metadata": {},
     "output_type": "execute_result"
    }
   ],
   "source": [
    "missingQuantFileRows = sampleDF['quantFile'].isna()\n",
    "print( \"number of failed samples = {}\".format( sum(missingQuantFileRows) ) )\n",
    "missingQuantFileDF = sampleDF.loc[ missingQuantFileRows, ['entity:sample_id', 'tissue_id'] ]\n",
    "missingQuantFileDF.head()"
   ]
  },
  {
   "cell_type": "markdown",
   "metadata": {},
   "source": [
    "## Are there  tissue types we did not run?"
   ]
  },
  {
   "cell_type": "code",
   "execution_count": 7,
   "metadata": {},
   "outputs": [
    {
     "data": {
      "text/html": [
       "<div>\n",
       "<style scoped>\n",
       "    .dataframe tbody tr th:only-of-type {\n",
       "        vertical-align: middle;\n",
       "    }\n",
       "\n",
       "    .dataframe tbody tr th {\n",
       "        vertical-align: top;\n",
       "    }\n",
       "\n",
       "    .dataframe thead th {\n",
       "        text-align: right;\n",
       "    }\n",
       "</style>\n",
       "<table border=\"1\" class=\"dataframe\">\n",
       "  <thead>\n",
       "    <tr style=\"text-align: right;\">\n",
       "      <th></th>\n",
       "      <th>entity:sample_id</th>\n",
       "    </tr>\n",
       "    <tr>\n",
       "      <th>tissue_id</th>\n",
       "      <th></th>\n",
       "    </tr>\n",
       "  </thead>\n",
       "  <tbody>\n",
       "  </tbody>\n",
       "</table>\n",
       "</div>"
      ],
      "text/plain": [
       "Empty DataFrame\n",
       "Columns: [entity:sample_id]\n",
       "Index: []"
      ]
     },
     "execution_count": 7,
     "metadata": {},
     "output_type": "execute_result"
    }
   ],
   "source": [
    "missingQuantFileDF.groupby(\"tissue_id\").count()"
   ]
  }
 ],
 "metadata": {
  "kernelspec": {
   "display_name": "Python [conda env:extraCellularRNA] *",
   "language": "python",
   "name": "conda-env-extraCellularRNA-py"
  },
  "language_info": {
   "codemirror_mode": {
    "name": "ipython",
    "version": 3
   },
   "file_extension": ".py",
   "mimetype": "text/x-python",
   "name": "python",
   "nbconvert_exporter": "python",
   "pygments_lexer": "ipython3",
   "version": "3.7.6"
  }
 },
 "nbformat": 4,
 "nbformat_minor": 4
}
