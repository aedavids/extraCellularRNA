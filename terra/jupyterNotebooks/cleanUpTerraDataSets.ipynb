{
 "cells": [
  {
   "cell_type": "markdown",
   "id": "cd24a627",
   "metadata": {},
   "source": [
    "# Clean up Terra data sets\n",
    "remove old data set. Typically these sets contained failed sample that needed to be re reun\n",
    "```\n",
    "Andrew E. Davidson\n",
    "aedavids@ucsc.edu\n",
    "```"
   ]
  },
  {
   "cell_type": "code",
   "execution_count": 1,
   "id": "7215503c",
   "metadata": {},
   "outputs": [],
   "source": [
    "import pandas as pd\n",
    "from pandas import DataFrame"
   ]
  },
  {
   "cell_type": "code",
   "execution_count": 2,
   "id": "2d319f58",
   "metadata": {},
   "outputs": [
    {
     "data": {
      "text/plain": [
       "['TCGA_ACC_ControlledAccess_V1-0_DATA_edu_ucsc_kim_lab',\n",
       " 'TCGA_BLCA_ControlledAccess_V1-0_DATA_edu_ucsc_kim_lab',\n",
       " 'TCGA_BRCA_ControlledAccess_V1-0_DATA_edu_ucsc_kim_lab',\n",
       " 'TCGA_CESC_ControlledAccess_V1-0_DATA_edu_ucsc_kim_lab',\n",
       " 'TCGA_CHOL_ControlledAccess_V1-0_DATA_edu_ucsc_kim_lab',\n",
       " 'TCGA_COAD_ControlledAccess_V1-0_DATA_edu_ucsc_kim_lab',\n",
       " 'TCGA_DLBC_ControlledAccess_V1-0_DATA _edu_ucsc_kim_lab',\n",
       " 'TCGA_ESCA_ControlledAccess_V1-0_DATA_edu_ucsc_kim_lab',\n",
       " 'TCGA_GBM_ControlledAccess_V1-0_DATA_edu_ucsc_kim_lab',\n",
       " 'TCGA_HNSC_ControlledAccess_V1-0_DATA_edu_ucsc_kim_lab',\n",
       " 'TCGA_KICH_ControlledAccess_V1-0_DATA_edu_ucsc_kim_lab',\n",
       " 'TCGA_KIRC_ControlledAccess_V1-0_DATA_edu_ucsc_kim_lab',\n",
       " 'TCGA_KIRP_ControlledAccess_V1-0_DATA_edu_ucsc_kim_lab',\n",
       " 'TCGA_LAML_ControlledAccess_V1-0_DATA_edu_ucsc_kim_lab',\n",
       " 'TCGA_LGG_ControlledAccess_V1-0_DATA_edu_ucsc_kim_lab',\n",
       " 'TCGA_LIHC_ControlledAccess_V1-0_DATA_edu_ucsc_kim_lab',\n",
       " 'TCGA_LUAD_ControlledAccess_V1-0_DATA_edu_ucsc_kim_lab',\n",
       " 'TCGA_LUAD_ControlledAccess_V1-0_DATA_edu_ucsc_kim_lab',\n",
       " 'TCGA_LUSC_ControlledAccess_V1-0_DATA_edu_ucsc_kim_lab',\n",
       " 'TCGA_MESO_ControlledAccess_V1-0_DATA_edu_ucsc_kim_lab',\n",
       " 'TCGA_OV_ControlledAccess_V1-0_DATA_edu_ucsc_kim_lab',\n",
       " 'TCGA_PAAD_ControlledAccess_V1-0_DATA_edu_ucsc_kim_lab',\n",
       " 'TCGA_PCPG_ControlledAccess_V1-0_DATA_edu_ucsc_kim_lab',\n",
       " 'TCGA_PRAD_ControlledAccess_V1-0_DATA_edu_ucsc_kim_lab',\n",
       " 'TCGA_READ_ControlledAccess_V1-0_DATA_edu_ucsc_kim_lab',\n",
       " 'TCGA_SARC_ControlledAccess_V1-0_DATA_edu_ucsc_kim_lab',\n",
       " 'TCGA_SARC_ControlledAccess_V1-0_DATA_edu_ucsc_kim_lab',\n",
       " 'TCGA_SKCM_ControlledAccess_V1-0_DATA_edu_ucsc_kim_lab',\n",
       " 'TCGA_STAD_ControlledAccess_V1-0_DATA_edu_ucsc_kim_lab',\n",
       " 'TCGA_TGCT_ControlledAccess_V1-0_DATA_edu_ucsc_kim_lab',\n",
       " 'TCGA_THCA_ControlledAccess_V1-0_DATA_edu_ucsc_kim_lab',\n",
       " 'TCGA_THYM_ControlledAccess_V1-0_DATA_edu_ucsc_kim_lab',\n",
       " 'TCGA_UCEC_ControlledAccess_V1-0_DATA_edu_ucsc_kim_lab',\n",
       " 'TCGA_UCS_ControlledAccess_V1-0_DATA_edu_ucsc_kim_lab',\n",
       " 'TCGA_UVM_ControlledAccess_V1-0_DATA_edu_ucsc_kim_lab']"
      ]
     },
     "execution_count": 2,
     "metadata": {},
     "output_type": "execute_result"
    }
   ],
   "source": [
    "root = \"terraDataModels-hack/test-aedavids-proj/TCGA\"\n",
    "rootDir = \"../../../terraDataModels/test-aedavids-proj/TCGA\"\n",
    "listOfWorkSpacePath = rootDir + \"/\" + \"listOfWorkSpaces.txt\" \n",
    "workspaceDF = pd.read_csv( listOfWorkSpacePath )\n",
    "workSpaceNamesList = workspaceDF.loc[:, \"wokspace\"].to_list()\n",
    "workSpaceNamesList"
   ]
  },
  {
   "cell_type": "code",
   "execution_count": 3,
   "id": "ea41bb7b",
   "metadata": {},
   "outputs": [],
   "source": [
    "# upload sample_set_entity.tsv  and sample_set_membership.tsv failed. http timeout\n",
    "# think it may be because they are really big. We ran createFailedSamplesData.set.ipybn many \n",
    "# time while debugging\n",
    "failedToUploadList = [\"TCGA_BRCA_ControlledAccess_V1-0_DATA_edu_ucsc_kim_lab\",\n",
    "                      \"TCGA_LUAD_ControlledAccess_V1-0_DATA_edu_ucsc_kim_lab\", \n",
    "                      \"TCGA_LUAD_ControlledAccess_V1-0_DATA_edu_ucsc_kim_lab\"]"
   ]
  },
  {
   "cell_type": "code",
   "execution_count": 4,
   "id": "bf882259",
   "metadata": {},
   "outputs": [],
   "source": [
    "def readDataModel( rootDir, workspaceName, entityName ) :\n",
    "    dataModelTSV = rootDir + \"/\" + workspaceName + \"/\" + entityName + \".tsv\"\n",
    "    dataModelDF = pd.read_csv(dataModelTSV, delimiter='\\t')\n",
    "    return dataModelDF"
   ]
  },
  {
   "cell_type": "code",
   "execution_count": 5,
   "id": "0f726373",
   "metadata": {},
   "outputs": [],
   "source": [
    "def saveDataModel( rootDir, workspaceName, entityName, dataModelDF ) :\n",
    "    dataModelTSV = rootDir + \"/\" + workspaceName + \"/\" + entityName + \".tsv\"\n",
    "    print(\"writing {}\".format(dataModelTSV))\n",
    "    dataModelDF.to_csv(dataModelTSV, sep='\\t', index=False)"
   ]
  },
  {
   "cell_type": "code",
   "execution_count": 6,
   "id": "04e31799",
   "metadata": {},
   "outputs": [
    {
     "name": "stdout",
     "output_type": "stream",
     "text": [
      "TCGA_BRCA_ControlledAccess_V1-0_DATA_edu_ucsc_kim_lab starting membership\n",
      "                                                 sample\n",
      "membership:sample_set_id                               \n",
      "BRCA                                               2263\n",
      "failedPair-2022-02-17-15-56                          62\n",
      "salmonSingleEndReadTask-wdl_2021-10-06T22-53-16    2263\n",
      "\n",
      "removing set 'salmonSingleEndReadTask-wdl_2021-10-06T22-53-16 with items 2263\n"
     ]
    }
   ],
   "source": [
    "def deleteSets( workspaceName, setList):\n",
    "    sampleSetEntityDF = readDataModel( rootDir, workspaceName, \"sample_set_entity\" )\n",
    "    sampleSetMembershipDF = readDataModel( rootDir, workspaceName, \"sample_set_membership\" )\n",
    "    \n",
    "    print(\"{} starting membership\".format(workspaceName))\n",
    "    print(sampleSetMembershipDF.groupby('membership:sample_set_id').count())\n",
    "    print()\n",
    "    \n",
    "    for s in setList:\n",
    "        deleteMembersPS = sampleSetMembershipDF['membership:sample_set_id'] == s\n",
    "        memberRowsPS =  sampleSetMembershipDF['membership:sample_set_id'] != s\n",
    "        sampleSetMembershipDF = sampleSetMembershipDF.loc[memberRowsPS, :]\n",
    "        print(\"removing set '{} with items {}\".format(s, sum( deleteMembersPS) ))  \n",
    "        \n",
    "        entityRowsPS = sampleSetEntityDF['entity:sample_set_id'] != s\n",
    "        sampleSetEntityDF = sampleSetEntityDF.loc[entityRowsPS, :]\n",
    "        \n",
    "    return (sampleSetEntityDF, sampleSetMembershipDF)\n",
    "\n",
    "rmSets = [\"salmonSingleEndReadTask-wdl_2021-10-06T22-53-16\"]\n",
    "cleanSampleSetEntityDF, cleanSampleSetMembershipDF \\\n",
    "    = deleteSets( \"TCGA_BRCA_ControlledAccess_V1-0_DATA_edu_ucsc_kim_lab\", rmSets )"
   ]
  },
  {
   "cell_type": "code",
   "execution_count": 7,
   "id": "7becb0e6",
   "metadata": {},
   "outputs": [
    {
     "data": {
      "text/html": [
       "<div>\n",
       "<style scoped>\n",
       "    .dataframe tbody tr th:only-of-type {\n",
       "        vertical-align: middle;\n",
       "    }\n",
       "\n",
       "    .dataframe tbody tr th {\n",
       "        vertical-align: top;\n",
       "    }\n",
       "\n",
       "    .dataframe thead th {\n",
       "        text-align: right;\n",
       "    }\n",
       "</style>\n",
       "<table border=\"1\" class=\"dataframe\">\n",
       "  <thead>\n",
       "    <tr style=\"text-align: right;\">\n",
       "      <th></th>\n",
       "      <th>entity:sample_set_id</th>\n",
       "    </tr>\n",
       "  </thead>\n",
       "  <tbody>\n",
       "    <tr>\n",
       "      <th>0</th>\n",
       "      <td>BRCA</td>\n",
       "    </tr>\n",
       "    <tr>\n",
       "      <th>2</th>\n",
       "      <td>failedPair-2022-02-17-15-56</td>\n",
       "    </tr>\n",
       "  </tbody>\n",
       "</table>\n",
       "</div>"
      ],
      "text/plain": [
       "          entity:sample_set_id\n",
       "0                         BRCA\n",
       "2  failedPair-2022-02-17-15-56"
      ]
     },
     "execution_count": 7,
     "metadata": {},
     "output_type": "execute_result"
    }
   ],
   "source": [
    "cleanSampleSetEntityDF"
   ]
  },
  {
   "cell_type": "code",
   "execution_count": 8,
   "id": "0f4f14b4",
   "metadata": {},
   "outputs": [
    {
     "data": {
      "text/html": [
       "<div>\n",
       "<style scoped>\n",
       "    .dataframe tbody tr th:only-of-type {\n",
       "        vertical-align: middle;\n",
       "    }\n",
       "\n",
       "    .dataframe tbody tr th {\n",
       "        vertical-align: top;\n",
       "    }\n",
       "\n",
       "    .dataframe thead th {\n",
       "        text-align: right;\n",
       "    }\n",
       "</style>\n",
       "<table border=\"1\" class=\"dataframe\">\n",
       "  <thead>\n",
       "    <tr style=\"text-align: right;\">\n",
       "      <th></th>\n",
       "      <th>sample</th>\n",
       "    </tr>\n",
       "    <tr>\n",
       "      <th>membership:sample_set_id</th>\n",
       "      <th></th>\n",
       "    </tr>\n",
       "  </thead>\n",
       "  <tbody>\n",
       "    <tr>\n",
       "      <th>BRCA</th>\n",
       "      <td>2263</td>\n",
       "    </tr>\n",
       "    <tr>\n",
       "      <th>failedPair-2022-02-17-15-56</th>\n",
       "      <td>62</td>\n",
       "    </tr>\n",
       "  </tbody>\n",
       "</table>\n",
       "</div>"
      ],
      "text/plain": [
       "                             sample\n",
       "membership:sample_set_id           \n",
       "BRCA                           2263\n",
       "failedPair-2022-02-17-15-56      62"
      ]
     },
     "execution_count": 8,
     "metadata": {},
     "output_type": "execute_result"
    }
   ],
   "source": [
    "cleanSampleSetMembershipDF.groupby('membership:sample_set_id').count()"
   ]
  },
  {
   "cell_type": "code",
   "execution_count": 9,
   "id": "5f1b2fe0",
   "metadata": {},
   "outputs": [
    {
     "name": "stdout",
     "output_type": "stream",
     "text": [
      "writing ../../../terraDataModels/test-aedavids-proj/TCGA/TCGA_BRCA_ControlledAccess_V1-0_DATA_edu_ucsc_kim_lab/sample_set_entity.tsv\n",
      "writing ../../../terraDataModels/test-aedavids-proj/TCGA/TCGA_BRCA_ControlledAccess_V1-0_DATA_edu_ucsc_kim_lab/sample_set_membership.tsv\n"
     ]
    }
   ],
   "source": [
    "saveDataModel(rootDir, \"TCGA_BRCA_ControlledAccess_V1-0_DATA_edu_ucsc_kim_lab\", \"sample_set_entity\",   \n",
    "              cleanSampleSetEntityDF)\n",
    "saveDataModel(rootDir, \"TCGA_BRCA_ControlledAccess_V1-0_DATA_edu_ucsc_kim_lab\", \"sample_set_membership\",\n",
    "              cleanSampleSetMembershipDF)"
   ]
  },
  {
   "cell_type": "code",
   "execution_count": null,
   "id": "e9187c73",
   "metadata": {},
   "outputs": [],
   "source": []
  }
 ],
 "metadata": {
  "kernelspec": {
   "display_name": "Python 3",
   "language": "python",
   "name": "python3"
  },
  "language_info": {
   "codemirror_mode": {
    "name": "ipython",
    "version": 3
   },
   "file_extension": ".py",
   "mimetype": "text/x-python",
   "name": "python",
   "nbconvert_exporter": "python",
   "pygments_lexer": "ipython3",
   "version": "3.7.6"
  }
 },
 "nbformat": 4,
 "nbformat_minor": 5
}
