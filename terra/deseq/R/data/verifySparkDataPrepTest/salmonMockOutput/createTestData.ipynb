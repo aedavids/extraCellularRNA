{
 "cells": [
  {
   "cell_type": "markdown",
   "id": "humanitarian-justice",
   "metadata": {},
   "source": [
    "# Create Test data\n",
    "create a data set we use to debug our spark equivalent of DESeq tximport, DESeqDataSetFromTximport, and estimateSizeFactors"
   ]
  },
  {
   "cell_type": "code",
   "execution_count": 1,
   "id": "separate-divide",
   "metadata": {},
   "outputs": [
    {
     "name": "stdout",
     "output_type": "stream",
     "text": [
      "/private/home/aedavids/extraCellularRNA/juypterNotebooks/spark/testData/sparkDESeqTest2\r\n"
     ]
    }
   ],
   "source": [
    "import pandas as pd\n",
    "!pwd"
   ]
  },
  {
   "cell_type": "markdown",
   "id": "developmental-tiffany",
   "metadata": {},
   "source": [
    "# create mock salmon quant.sf files"
   ]
  },
  {
   "cell_type": "code",
   "execution_count": 2,
   "id": "short-practitioner",
   "metadata": {},
   "outputs": [
    {
     "name": "stdout",
     "output_type": "stream",
     "text": [
      "['txId_1', 'txId_2', 'txId_3', 'txId_4', 'txId_5', 'txId_6', 'txId_7', 'txId_8', 'txId_9', 'txId_10']\n",
      "['gene_1', 'gene_2', 'gene_3', 'gene_4', 'gene_5', 'gene_6', 'gene_7', 'gene_8']\n"
     ]
    }
   ],
   "source": [
    "sampleNames = [ \"ctrl_1\", \"ctrl_2\", \"ctrl_3\", \"kras_1\", \"kras_2\", \"kras_3\" ]\n",
    "\n",
    "numTranscripts = 10\n",
    "transcriptIds = [ \"txId_\" + str(i + 1) for i in range( numTranscripts ) ]\n",
    "print(transcriptIds)\n",
    "\n",
    "numGenes = numTranscripts - 2\n",
    "geneNames = [ \"gene_\" + str(i + 1) for i in range( numGenes ) ]\n",
    "print(geneNames)\n",
    "\n",
    "\n",
    "# create average transcript counts. Make numbers easy to work with\n",
    "# salmon NumReads are floats\n",
    "ctrlNumReads = [ 10.0  +  i for i in range(numTranscripts) ]\n",
    "krasNumReads = [ 100.0 + 10 * i for i in range(numTranscripts)]\n",
    "\n",
    "# knock out a gene so we can test prefiltering\n",
    "# assume this gene only has a single transcript\n",
    "ctrlNumReads[0] = krasNumReads[0] = 0.0\n",
    "\n",
    "# following columns are part of the salmon output but not used\n",
    "# by DESeq. To double check they are not used. make values different\n",
    "# to make debug easier\n",
    "Length = [ 1500 + 10 * i for i in range( numTranscripts ) ]\n",
    "EffectiveLength = [ 1234.5 + 10 * i for i in range( numTranscripts ) ]\n",
    "Tpm = [ 12.1 + i for i in range( numTranscripts ) ]"
   ]
  },
  {
   "cell_type": "code",
   "execution_count": 3,
   "id": "present-investigation",
   "metadata": {},
   "outputs": [],
   "source": [
    "def createDFs( sampleNamesArg, numReads ) :\n",
    "    retList = []\n",
    "    for i in range(len(sampleNamesArg)):\n",
    "        sampleName = sampleNamesArg[i]\n",
    "        dataDict = {\n",
    "            'Name'           : transcriptIds,\n",
    "            'Length'         : Length,\n",
    "            'EffectiveLength': EffectiveLength,\n",
    "            'TPM'            : Tpm,\n",
    "            \n",
    "            # make the samples slightly different\n",
    "            #'NumReads'       : [v + i for v in numReads]\n",
    "            'NumReads'       : [v + i/10.0 for v in numReads]\n",
    "        }\n",
    "        df = pd.DataFrame( data=dataDict )\n",
    "        retList.append( df )\n",
    "        \n",
    "    return retList\n",
    "    \n",
    "ctrlDFs = createDFs( sampleNames[0:3], ctrlNumReads)\n",
    "krasDFs = createDFs( sampleNames[3:], krasNumReads)"
   ]
  },
  {
   "cell_type": "code",
   "execution_count": 4,
   "id": "sharing-stage",
   "metadata": {},
   "outputs": [
    {
     "name": "stdout",
     "output_type": "stream",
     "text": [
      "      Name  Length  EffectiveLength   TPM  NumReads\n",
      "0   txId_1    1500           1234.5  12.1       0.2\n",
      "1   txId_2    1510           1244.5  13.1      11.2\n",
      "2   txId_3    1520           1254.5  14.1      12.2\n",
      "3   txId_4    1530           1264.5  15.1      13.2\n",
      "4   txId_5    1540           1274.5  16.1      14.2\n",
      "5   txId_6    1550           1284.5  17.1      15.2\n",
      "6   txId_7    1560           1294.5  18.1      16.2\n",
      "7   txId_8    1570           1304.5  19.1      17.2\n",
      "8   txId_9    1580           1314.5  20.1      18.2\n",
      "9  txId_10    1590           1324.5  21.1      19.2\n",
      "\n",
      "      Name  Length  EffectiveLength   TPM  NumReads\n",
      "0   txId_1    1500           1234.5  12.1       0.2\n",
      "1   txId_2    1510           1244.5  13.1      11.2\n",
      "2   txId_3    1520           1254.5  14.1       0.0\n",
      "3   txId_4    1530           1264.5  15.1      13.2\n",
      "4   txId_5    1540           1274.5  16.1      14.2\n",
      "5   txId_6    1550           1284.5  17.1      15.2\n",
      "6   txId_7    1560           1294.5  18.1      16.2\n",
      "7   txId_8    1570           1304.5  19.1      17.2\n",
      "8   txId_9    1580           1314.5  20.1      18.2\n",
      "9  txId_10    1590           1324.5  21.1      19.2\n"
     ]
    }
   ],
   "source": [
    "# knock out a couple of gene counts so we can test\n",
    "# filtering in estimatedScalingFactors()\n",
    "kdf = ctrlDFs[2]\n",
    "print(kdf)\n",
    "kdf.loc[2,\"NumReads\"] = 0.0\n",
    "print()\n",
    "print(kdf)"
   ]
  },
  {
   "cell_type": "code",
   "execution_count": 5,
   "id": "touched-concrete",
   "metadata": {},
   "outputs": [],
   "source": [
    "def saveMockQuantFiles( dfList, sampleNamesArg ) :\n",
    "    for i in range(len(dfList)):\n",
    "        df = dfList[i]\n",
    "        fileName = sampleNamesArg[i] + \".quant.sf\"\n",
    "        df.to_csv(fileName, sep=\"\\t\", index=False)\n",
    "        \n",
    "saveMockQuantFiles( ctrlDFs, sampleNames[0:3] )\n",
    "saveMockQuantFiles( krasDFs, sampleNames[3:])"
   ]
  },
  {
   "cell_type": "markdown",
   "id": "heard-wheat",
   "metadata": {},
   "source": [
    "# Create colData"
   ]
  },
  {
   "cell_type": "code",
   "execution_count": 6,
   "id": "occasional-thompson",
   "metadata": {},
   "outputs": [],
   "source": [
    "sampleType = [\"bulk\"] * 6\n",
    "treatment = [\"ctrl\"] * 3 + [\"kras\"] * 3\n",
    "day = [\"5\"] * 6\n",
    "colDataDF = pd.DataFrame( {\n",
    "    \"sampleName\": sampleNames,\n",
    "    \"sampleType\": sampleType,\n",
    "    \"treatment\" : treatment,\n",
    "    \"day\"       : day\n",
    "})\n",
    "\n",
    "colDataDF.to_csv(\"colData.csv\", index=False)"
   ]
  },
  {
   "cell_type": "markdown",
   "id": "affiliated-actor",
   "metadata": {},
   "source": [
    "# Create txId2GeneId.csv\n",
    "create some isoforms we can use to test group_by(gene id) count"
   ]
  },
  {
   "cell_type": "code",
   "execution_count": 7,
   "id": "posted-mistake",
   "metadata": {},
   "outputs": [
    {
     "data": {
      "text/html": [
       "<div>\n",
       "<style scoped>\n",
       "    .dataframe tbody tr th:only-of-type {\n",
       "        vertical-align: middle;\n",
       "    }\n",
       "\n",
       "    .dataframe tbody tr th {\n",
       "        vertical-align: top;\n",
       "    }\n",
       "\n",
       "    .dataframe thead th {\n",
       "        text-align: right;\n",
       "    }\n",
       "</style>\n",
       "<table border=\"1\" class=\"dataframe\">\n",
       "  <thead>\n",
       "    <tr style=\"text-align: right;\">\n",
       "      <th></th>\n",
       "      <th>txId</th>\n",
       "      <th>geneId</th>\n",
       "    </tr>\n",
       "  </thead>\n",
       "  <tbody>\n",
       "    <tr>\n",
       "      <th>0</th>\n",
       "      <td>txId_1</td>\n",
       "      <td>gene_1</td>\n",
       "    </tr>\n",
       "    <tr>\n",
       "      <th>1</th>\n",
       "      <td>txId_2</td>\n",
       "      <td>gene_2</td>\n",
       "    </tr>\n",
       "    <tr>\n",
       "      <th>2</th>\n",
       "      <td>txId_3</td>\n",
       "      <td>gene_3</td>\n",
       "    </tr>\n",
       "    <tr>\n",
       "      <th>3</th>\n",
       "      <td>txId_4</td>\n",
       "      <td>gene_4</td>\n",
       "    </tr>\n",
       "    <tr>\n",
       "      <th>4</th>\n",
       "      <td>txId_5</td>\n",
       "      <td>gene_5</td>\n",
       "    </tr>\n",
       "    <tr>\n",
       "      <th>5</th>\n",
       "      <td>txId_6</td>\n",
       "      <td>gene_6</td>\n",
       "    </tr>\n",
       "    <tr>\n",
       "      <th>6</th>\n",
       "      <td>txId_7</td>\n",
       "      <td>gene_7</td>\n",
       "    </tr>\n",
       "    <tr>\n",
       "      <th>7</th>\n",
       "      <td>txId_8</td>\n",
       "      <td>gene_8</td>\n",
       "    </tr>\n",
       "    <tr>\n",
       "      <th>8</th>\n",
       "      <td>txId_9</td>\n",
       "      <td>gene_8</td>\n",
       "    </tr>\n",
       "    <tr>\n",
       "      <th>9</th>\n",
       "      <td>txId_10</td>\n",
       "      <td>gene_8</td>\n",
       "    </tr>\n",
       "  </tbody>\n",
       "</table>\n",
       "</div>"
      ],
      "text/plain": [
       "      txId  geneId\n",
       "0   txId_1  gene_1\n",
       "1   txId_2  gene_2\n",
       "2   txId_3  gene_3\n",
       "3   txId_4  gene_4\n",
       "4   txId_5  gene_5\n",
       "5   txId_6  gene_6\n",
       "6   txId_7  gene_7\n",
       "7   txId_8  gene_8\n",
       "8   txId_9  gene_8\n",
       "9  txId_10  gene_8"
      ]
     },
     "execution_count": 7,
     "metadata": {},
     "output_type": "execute_result"
    }
   ],
   "source": [
    "geneIds = geneNames + [ geneNames[numGenes -1] ] * (numTranscripts - numGenes)\n",
    "\n",
    "txId2GeneIdDF = pd.DataFrame(data={\n",
    "    'txId'  : transcriptIds,\n",
    "    'geneId': geneIds\n",
    "})\n",
    "txId2GeneIdDF"
   ]
  },
  {
   "cell_type": "code",
   "execution_count": 8,
   "id": "lesbian-coffee",
   "metadata": {},
   "outputs": [],
   "source": [
    "txId2GeneIdDF.to_csv(\"txId2GeneId.csv\", index=False)"
   ]
  },
  {
   "cell_type": "code",
   "execution_count": null,
   "id": "vulnerable-screen",
   "metadata": {},
   "outputs": [],
   "source": []
  }
 ],
 "metadata": {
  "kernelspec": {
   "display_name": "Python 3",
   "language": "python",
   "name": "python3"
  },
  "language_info": {
   "codemirror_mode": {
    "name": "ipython",
    "version": 3
   },
   "file_extension": ".py",
   "mimetype": "text/x-python",
   "name": "python",
   "nbconvert_exporter": "python",
   "pygments_lexer": "ipython3",
   "version": "3.7.6"
  }
 },
 "nbformat": 4,
 "nbformat_minor": 5
}
