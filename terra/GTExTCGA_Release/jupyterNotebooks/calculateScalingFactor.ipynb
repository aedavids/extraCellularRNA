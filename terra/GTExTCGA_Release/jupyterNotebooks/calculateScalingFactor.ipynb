{
 "cells": [
  {
   "cell_type": "markdown",
   "id": "75fbbfb1-32e6-4718-a905-d15f907b2f98",
   "metadata": {},
   "source": [
    "# Calculate Scaling Factors\n",
    "Andrew E. Davidson  \n",
    "aedavids@ucsc.edu  \n",
    "2/23/24  \n",
    "\n",
    "Copyright (c) 2020-2023, Regents of the University of California All rights reserved. https://polyformproject.org/licenses/noncommercial/1.0.0\n",
    "\n",
    "Calculates DESeq2 normalization scaling factors\n",
    "\n",
    "ref: \n",
    "- https://bioconductor.org/packages/release/bioc/html/DESeq2.html\n",
    "-  1. Love, M. I., Huber, W. & Anders, S. Moderated estimation of fold change and dispersion for RNA-seq data with DESeq2. Genome Biol 15, 550 (2014).\n"
   ]
  },
  {
   "cell_type": "code",
   "execution_count": 44,
   "id": "08132d39-875e-48aa-8824-f304ea42a3a8",
   "metadata": {},
   "outputs": [],
   "source": [
    "import ipynbname\n",
    "from IPython.display import display\n",
    "import pandas as pd\n",
    "# display all rows\n",
    "#pd.set_option('display.max_rows', None)\n",
    "\n",
    "# https://joelmccune.com/pandas-dataframe-to-markdown/\n",
    "#from pandas.io.clipboards import to_clipboard\n",
    "\n",
    "#import pathlib as pl\n",
    "import pprint as pp\n",
    "import numpy as np\n",
    "import os"
   ]
  },
  {
   "cell_type": "code",
   "execution_count": 45,
   "id": "359f075b-e713-4ae6-bc0b-fb0e594456b2",
   "metadata": {},
   "outputs": [
    {
     "name": "stdout",
     "output_type": "stream",
     "text": [
      "outDir:\n",
      "/scratch/aedavids/normalizeCounts.out\n"
     ]
    }
   ],
   "source": [
    "dataRoot = \"/private/groups/kimlab/GTEx_TCGA/groupbyGeneTrainingSets\"\n",
    "# print(f'!!!!!!!!!! copied data to /scratch/aedavids to speed up testing.')\n",
    "# dataRoot = \"/scratch/aedavids/normalizeCounts.data/\"\n",
    "\n",
    "def loadCSV(path : str) -> pd.DataFrame:\n",
    "    print(path)\n",
    "    df = pd.read_csv(path)\n",
    "    print(df.shape)\n",
    "    \n",
    "    return df\n",
    "\n",
    "#\n",
    "# create tmp output directory\n",
    "#\n",
    "notebookName = ipynbname.name()\n",
    "# notebookPath = ipynbname.path()\n",
    "# notebookDir = os.path.dirname(notebookPath)\n",
    "\n",
    "outDir = f'/scratch/aedavids/{notebookName}.out'\n",
    "os.makedirs(outDir, exist_ok=True)\n",
    "print(f'outDir:\\n{outDir}')"
   ]
  },
  {
   "cell_type": "code",
   "execution_count": 51,
   "id": "ca885816-5bff-4b2c-b8e7-d09bd171fc4e",
   "metadata": {},
   "outputs": [
    {
     "name": "stdout",
     "output_type": "stream",
     "text": [
      "/private/groups/kimlab/GTEx_TCGA/groupbyGeneTrainingSets/GTEx_TCGA_Groupby.csv\n",
      "(74777, 26338)\n",
      "CPU times: user 9min 12s, sys: 32.2 s, total: 9min 44s\n",
      "Wall time: 9min 44s\n"
     ]
    }
   ],
   "source": [
    "%%time\n",
    "groupbyPath = f'{dataRoot}/GTEx_TCGA_Groupby.csv'\n",
    "groupbyDF   = loadCSV( groupbyPath )"
   ]
  },
  {
   "cell_type": "code",
   "execution_count": 52,
   "id": "531258c1-41cb-4af0-8f8e-eb167f56433f",
   "metadata": {},
   "outputs": [],
   "source": [
    "def calculateScalingFactor(countDF : pd.DataFrame,\n",
    "                          verbose : bool = False) -> pd.Series :\n",
    "    '''\n",
    "    ref: \n",
    "        https://bioconductor.org/packages/release/bioc/html/DESeq2.html \n",
    "        1. Love, M. I., Huber, W. & Anders, S. Moderated estimation of fold change and dispersion for RNA-seq data with DESeq2. Genome Biol 15, 550 (2014).\n",
    "\n",
    "    '''\n",
    "    # print(\"\\n********** countDF\")\n",
    "    # print(countDF)\n",
    "    \n",
    "    # remove rows with zeros. log is undefined\n",
    "    byRows = 1\n",
    "    selectRowsWithoutZeros = (countDF != 0).all(axis=byRows)\n",
    "    if verbose:\n",
    "        print(\"\\n********** selectRowsWithoutZeros\")\n",
    "        display(selectRowsWithoutZeros)\n",
    "    \n",
    "    countDF = countDF.loc[selectRowsWithoutZeros, :]\n",
    "    if verbose:\n",
    "        print(\"\\n********** countDF\")\n",
    "        print(countDF)\n",
    "    \n",
    "    # natural log\n",
    "    # smooths over outliers\n",
    "    logIntensityDF = np.log(countDF)\n",
    "    if verbose:\n",
    "        print(\"\\n************ logIntensityDF \")\n",
    "        display(logIntensityDF)   \n",
    "    \n",
    "    # calculate row average of logs. ie geometric means\n",
    "    # geometric mean is not swayed by outliers. It will \n",
    "    # always be <= the arithmetic mean\n",
    "    rowMeansSeries = logIntensityDF.mean(axis=byRows)\n",
    "    if verbose:\n",
    "        print(\"\\n************ rowMeansSeries \")\n",
    "        display(rowMeansSeries)   \n",
    "    \n",
    "    # find metabolites that are signifigantly larger or smaller than \n",
    "    # the average subtracting averages from intensities\n",
    "    # log(a) - log(b) = log(a/b)\n",
    "    byCols= 0\n",
    "    outlierDF = logIntensityDF.subtract(rowMeansSeries, axis=byCols)\n",
    "    if verbose:\n",
    "        print(\"\\n************ outlierDF \")\n",
    "        print(type(outlierDF))\n",
    "        display(outlierDF)   \n",
    "    \n",
    "    # calculate the scan/sample median log(estimated scaling factors)\n",
    "    medianDF = outlierDF.median(axis=byCols)\n",
    "    if verbose:\n",
    "        print(\"\\n************ medianDF \")\n",
    "        print(type(medianDF))\n",
    "        display(medianDF)      \n",
    "    \n",
    "    # convert back to base 10\n",
    "    extimatedScalingFactorsSeries = np.exp(medianDF)\n",
    "    # print(\"\\n************ extimatedScalingFactorsSeries \")\n",
    "    # print(type(extimatedScalingFactorsSeries))\n",
    "    # display(extimatedScalingFactorsSeries)  \n",
    "    \n",
    "    return extimatedScalingFactorsSeries\n",
    " "
   ]
  },
  {
   "cell_type": "code",
   "execution_count": 53,
   "id": "73ac2b0c-0cac-4cf2-9949-5dcfae884e59",
   "metadata": {},
   "outputs": [
    {
     "name": "stdout",
     "output_type": "stream",
     "text": [
      "scalingFactorsSeries.shape : (26337,)\n",
      "scalingFactorsSeries[0:5] : GTEX-1117F-0226-SM-5GZZ7    0.834005\n",
      "GTEX-1117F-0526-SM-5EGHJ    0.689240\n",
      "GTEX-1117F-0726-SM-5GIEN    0.537215\n",
      "GTEX-1117F-2826-SM-5GZXL    0.845562\n",
      "GTEX-1117F-3226-SM-5N9CT    0.668533\n",
      "dtype: float64\n"
     ]
    }
   ],
   "source": [
    "# select the sample columns\n",
    "sampleCols = ~groupbyDF.columns.isin( ['geneId'] )\n",
    "countDF = groupbyDF.loc[:, sampleCols]\n",
    "\n",
    "scalingFactorsSeries = calculateScalingFactor( countDF ) \n",
    "print(f'scalingFactorsSeries.shape : {scalingFactorsSeries.shape}' )\n",
    "print(f'scalingFactorsSeries[0:5] : {scalingFactorsSeries[0:5]}' )"
   ]
  },
  {
   "cell_type": "code",
   "execution_count": 54,
   "id": "83dee040-2334-4a8a-8922-3d88f42ac579",
   "metadata": {},
   "outputs": [],
   "source": [
    "scalingFactorsPath = f'{dataRoot}/GTEx_TCGA_GroupbyEstimatedSizeFactors.csv'\n",
    "scalingFactorsSeries.to_csv(scalingFactorsPath, index_label='sampleId', header=['factor'])"
   ]
  },
  {
   "cell_type": "code",
   "execution_count": 55,
   "id": "d8f98bf5-201e-47c5-b21d-03d93dc51a03",
   "metadata": {},
   "outputs": [
    {
     "ename": "SyntaxError",
     "evalue": "invalid syntax (484515467.py, line 1)",
     "output_type": "error",
     "traceback": [
      "\u001b[0;36m  Cell \u001b[0;32mIn[55], line 1\u001b[0;36m\u001b[0m\n\u001b[0;31m    aedwip save time do not run test\u001b[0m\n\u001b[0m           ^\u001b[0m\n\u001b[0;31mSyntaxError\u001b[0m\u001b[0;31m:\u001b[0m invalid syntax\n"
     ]
    }
   ],
   "source": [
    "aedwip save time do not run test"
   ]
  },
  {
   "cell_type": "markdown",
   "id": "921329a5-4b32-4859-bb2e-6828dc2da358",
   "metadata": {},
   "source": [
    "## test\n",
    "The training set scaling factors should match the estimated scaling factors calucalted by DESeq2 [R]\n",
    "/private/groups/kimlab/GTEx_TCGA/1vsAll/estimatedSizeFactors.csv"
   ]
  },
  {
   "cell_type": "code",
   "execution_count": null,
   "id": "affdad74-169c-466f-bf80-9ac9150e554d",
   "metadata": {},
   "outputs": [],
   "source": [
    "%%time\n",
    "trainGroupbyPath = f'{dataRoot}/GTEx_TCGA_TrainGroupby.csv'\n",
    "trainGroupbyDF   = loadCSV( trainGroupbyPath )"
   ]
  },
  {
   "cell_type": "code",
   "execution_count": null,
   "id": "d3b903e7-4d3b-4d10-a1e6-2179705fd3b9",
   "metadata": {},
   "outputs": [],
   "source": [
    "trainGroupbyDF.shape"
   ]
  },
  {
   "cell_type": "code",
   "execution_count": null,
   "id": "b82c4a0f-b9ad-4d1a-acce-fd4312086c7e",
   "metadata": {},
   "outputs": [],
   "source": [
    "%%time \n",
    "# select the sample columns\n",
    "sampleCols = ~trainGroupbyDF.columns.isin( ['geneId'] )\n",
    "countDF = trainGroupbyDF.loc[:, sampleCols]\n",
    "\n",
    "scalingFactorsSeries = calculateScalingFactor( countDF ) \n",
    "print(f'scalingFactorsSeries.shape : {scalingFactorsSeries.shape}' )\n",
    "print(f'scalingFactorsSeries[0:5] : {scalingFactorsSeries[0:5]}' )"
   ]
  },
  {
   "cell_type": "markdown",
   "id": "d64cc612-8e4a-4067-973b-146386852c36",
   "metadata": {},
   "source": [
    "## Load \n",
    "expected scalling factors"
   ]
  },
  {
   "cell_type": "code",
   "execution_count": null,
   "id": "30143b7e-c3f7-4b02-9495-38ecb8a85773",
   "metadata": {},
   "outputs": [],
   "source": [
    "estimatedSizeFactorsPath = f'{dataRoot}/estimatedSizeFactors.csv'\n",
    "with open(estimatedSizeFactorsPath , 'r') as fd:\n",
    "    factorStrs = fd.read().splitlines()\n",
    "\n",
    "print(len(factorStrs))\n",
    "esfNP = np.array( factorStrs[1:], dtype=float) \n",
    "print(esfNP.shape)\n",
    "esfNP[0:5]\n",
    "assert sum( np.isclose(scalingFactorsSeries.values, esfNP) ) == scalingFactorsSeries.shape[0], \"ERROR \""
   ]
  },
  {
   "cell_type": "code",
   "execution_count": null,
   "id": "e12a59f1-7b14-4448-82f9-1e55b49f3987",
   "metadata": {},
   "outputs": [],
   "source": [
    "# scalingFactorsPath = f'{dataRoot}/testScaling.csv'\n",
    "\n",
    "# scalingFactorsSeries.to_csv(scalingFactorsPath, index_label='sampleId', header=['factor'])"
   ]
  },
  {
   "cell_type": "code",
   "execution_count": null,
   "id": "59f8d6a5-5e23-4aaa-95e9-02ebc7c86cc7",
   "metadata": {},
   "outputs": [],
   "source": []
  },
  {
   "cell_type": "code",
   "execution_count": null,
   "id": "084e15f5-9257-4be6-82d4-68b32fbcb49f",
   "metadata": {},
   "outputs": [],
   "source": []
  },
  {
   "cell_type": "code",
   "execution_count": null,
   "id": "75c549c0-a9e4-4e23-ad9a-5bad881c9663",
   "metadata": {},
   "outputs": [],
   "source": []
  },
  {
   "cell_type": "code",
   "execution_count": null,
   "id": "d3b36463-aee6-43ce-b058-1036c678c7e5",
   "metadata": {},
   "outputs": [],
   "source": []
  },
  {
   "cell_type": "code",
   "execution_count": null,
   "id": "b1b1e39b-28e5-43dc-9129-b2ac53411038",
   "metadata": {},
   "outputs": [],
   "source": []
  },
  {
   "cell_type": "code",
   "execution_count": null,
   "id": "d6caac49-a8ef-4d48-81fe-2e075a3511b0",
   "metadata": {},
   "outputs": [],
   "source": []
  },
  {
   "cell_type": "code",
   "execution_count": null,
   "id": "6a2b9243-1524-435e-9db3-ec6079077bc6",
   "metadata": {},
   "outputs": [],
   "source": [
    "groupbyDF.columns[0:5]"
   ]
  },
  {
   "cell_type": "code",
   "execution_count": null,
   "id": "88f2feca-4346-480a-9573-19180302c36b",
   "metadata": {},
   "outputs": [],
   "source": []
  },
  {
   "cell_type": "code",
   "execution_count": null,
   "id": "42d4db04-2589-4cbd-81f4-742ae130debe",
   "metadata": {},
   "outputs": [],
   "source": []
  }
 ],
 "metadata": {
  "kernelspec": {
   "display_name": "Python 3 (ipykernel)",
   "language": "python",
   "name": "python3"
  },
  "language_info": {
   "codemirror_mode": {
    "name": "ipython",
    "version": 3
   },
   "file_extension": ".py",
   "mimetype": "text/x-python",
   "name": "python",
   "nbconvert_exporter": "python",
   "pygments_lexer": "ipython3",
   "version": "3.11.4"
  }
 },
 "nbformat": 4,
 "nbformat_minor": 5
}
