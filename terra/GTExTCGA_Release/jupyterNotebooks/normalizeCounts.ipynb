{
 "cells": [
  {
   "cell_type": "markdown",
   "id": "e520a274-89d9-48c3-8ab2-f2ccd8244d44",
   "metadata": {},
   "source": [
    "# Normalize Counts\n",
    "Andrew E. Davidson\n",
    "aedavids@ucsc.edu\n",
    "2/23/24\n",
    "\n",
    "Copyright (c) 2020-2023, Regents of the University of California All rights reserved. https://polyformproject.org/licenses/noncommercial/1.0.0\n",
    "\n",
    "Calculates DESeq2 normalization scaling factors\n",
    "\n",
    "ref:\n",
    "\n",
    "https://bioconductor.org/packages/release/bioc/html/DESeq2.html\n",
    "Love, M. I., Huber, W. & Anders, S. Moderated estimation of fold change and dispersion for RNA-seq data with DESeq2. Genome Biol 15, 550 (2014).\n"
   ]
  },
  {
   "cell_type": "code",
   "execution_count": 1,
   "id": "134a00bb-d27f-4f76-bced-01c304e31931",
   "metadata": {},
   "outputs": [
    {
     "name": "stderr",
     "output_type": "stream",
     "text": [
      "/data/tmp/ipykernel_3404105/2157970556.py:3: DeprecationWarning: \n",
      "Pyarrow will become a required dependency of pandas in the next major release of pandas (pandas 3.0),\n",
      "(to allow more performant data types, such as the Arrow string type, and better interoperability with other libraries)\n",
      "but was not found to be installed on your system.\n",
      "If this would cause problems for you,\n",
      "please provide us feedback at https://github.com/pandas-dev/pandas/issues/54466\n",
      "        \n",
      "  import pandas as pd\n"
     ]
    }
   ],
   "source": [
    "import ipynbname\n",
    "from IPython.display import display\n",
    "import pandas as pd\n",
    "# display all rows\n",
    "#pd.set_option('display.max_rows', None)\n",
    "\n",
    "# https://joelmccune.com/pandas-dataframe-to-markdown/\n",
    "#from pandas.io.clipboards import to_clipboard\n",
    "\n",
    "#import pathlib as pl\n",
    "import pprint as pp\n",
    "import numpy as np\n",
    "import os"
   ]
  },
  {
   "cell_type": "code",
   "execution_count": 2,
   "id": "9fc426fb-5abd-4108-a433-f6a05cfba680",
   "metadata": {},
   "outputs": [],
   "source": [
    "dataRoot = \"/private/groups/kimlab/GTEx_TCGA/groupbyGeneTrainingSets\"\n",
    "\n",
    "def loadCSV(path : str) -> pd.DataFrame:\n",
    "    print(path)\n",
    "    df = pd.read_csv(path)\n",
    "    print(df.shape)\n",
    "    \n",
    "    return df"
   ]
  },
  {
   "cell_type": "code",
   "execution_count": 3,
   "id": "a1f2e0de-d31c-48a6-80ab-6c4092c46f5d",
   "metadata": {},
   "outputs": [
    {
     "name": "stdout",
     "output_type": "stream",
     "text": [
      "/private/groups/kimlab/GTEx_TCGA/groupbyGeneTrainingSets/GTEx_TCGA_Groupby.csv\n",
      "(74777, 26338)\n",
      "groupbyDF.shape : (74777, 26338)\n",
      "CPU times: user 9min 27s, sys: 35 s, total: 10min 2s\n",
      "Wall time: 10min 6s\n"
     ]
    }
   ],
   "source": [
    "%%time\n",
    "groupbyPath = f'{dataRoot}/GTEx_TCGA_Groupby.csv'\n",
    "groupbyDF   = loadCSV( groupbyPath )\n",
    "print( f'groupbyDF.shape : {groupbyDF.shape}' )"
   ]
  },
  {
   "cell_type": "code",
   "execution_count": 4,
   "id": "1ca1bb13-708a-4082-868a-4bf4b6e289ea",
   "metadata": {},
   "outputs": [
    {
     "name": "stdout",
     "output_type": "stream",
     "text": [
      "/private/groups/kimlab/GTEx_TCGA/groupbyGeneTrainingSets/GTEx_TCGA_GroupbyEstimatedSizeFactors.csv\n",
      "(26337, 2)\n",
      "scalingFactorsDF.shape : (26337, 2)\n",
      "CPU times: user 16.3 ms, sys: 7.46 ms, total: 23.7 ms\n",
      "Wall time: 23.1 ms\n"
     ]
    }
   ],
   "source": [
    "%%time\n",
    "estimatedSizeFactorsPath = f'{dataRoot}/GTEx_TCGA_GroupbyEstimatedSizeFactors.csv'\n",
    "scalingFactorsDF = loadCSV( estimatedSizeFactorsPath )\n",
    "print( f'scalingFactorsDF.shape : {scalingFactorsDF.shape}' )"
   ]
  },
  {
   "cell_type": "markdown",
   "id": "882c1004-7bc2-4c48-942e-52fd268ae1fd",
   "metadata": {},
   "source": [
    "## scale the groupby data frame"
   ]
  },
  {
   "cell_type": "code",
   "execution_count": 5,
   "id": "bdf86f66-de2b-495d-9a47-6606266d9fc8",
   "metadata": {},
   "outputs": [
    {
     "name": "stdout",
     "output_type": "stream",
     "text": [
      "groupbyDF.shape (74777, 26338)\n",
      "groupbyDF.shape (74777, 26337)\n"
     ]
    }
   ],
   "source": [
    "# make sure we do not loose the geneId info when we multiply\n",
    "print(f'groupbyDF.shape {groupbyDF.shape}' )\n",
    "\n",
    "groupbyDF = groupbyDF.set_index('geneId')\n",
    "print(f'groupbyDF.shape {groupbyDF.shape}' )"
   ]
  },
  {
   "cell_type": "code",
   "execution_count": 6,
   "id": "defe3807-49ee-4fb4-a7dd-ba02d4bc89c8",
   "metadata": {},
   "outputs": [
    {
     "name": "stdout",
     "output_type": "stream",
     "text": [
      "groupbyTransposeDF.shape : (26337, 74777)\n",
      "CPU times: user 2.31 s, sys: 4.52 s, total: 6.82 s\n",
      "Wall time: 6.82 s\n"
     ]
    }
   ],
   "source": [
    "%%time\n",
    "groupbyTransposeDF   = groupbyDF.transpose(copy=True)\n",
    "print( f'groupbyTransposeDF.shape : {groupbyTransposeDF.shape}' )"
   ]
  },
  {
   "cell_type": "code",
   "execution_count": 7,
   "id": "fb0505ed-da5c-4afa-a8fb-c410183ecc08",
   "metadata": {},
   "outputs": [
    {
     "name": "stdout",
     "output_type": "stream",
     "text": [
      "scalingFactorsDF.shape (26337, 2)\n",
      "scalingFactorsDF.shape (26337, 1)\n"
     ]
    }
   ],
   "source": [
    "# make sure we do not loose sampleId info when we multiply\n",
    "print(f'scalingFactorsDF.shape {scalingFactorsDF.shape}' )\n",
    "scalingFactorsDF = scalingFactorsDF.set_index('sampleId')\n",
    "print(f'scalingFactorsDF.shape {scalingFactorsDF.shape}' )"
   ]
  },
  {
   "cell_type": "code",
   "execution_count": 8,
   "id": "738a14ee-709c-4e85-9e57-b4d1c6b6234c",
   "metadata": {},
   "outputs": [
    {
     "name": "stdout",
     "output_type": "stream",
     "text": [
      "transposedScaledDF.shape (26337, 74777)\n"
     ]
    }
   ],
   "source": [
    "# element wises multiplication \n",
    "transposedScaledDF = groupbyTransposeDF * scalingFactorsDF.values\n",
    "print(f'transposedScaledDF.shape {transposedScaledDF.shape}' )"
   ]
  },
  {
   "cell_type": "code",
   "execution_count": 9,
   "id": "3fe4f051-19ce-40de-87f4-8a1ab14d9a69",
   "metadata": {},
   "outputs": [
    {
     "name": "stdout",
     "output_type": "stream",
     "text": [
      "scaledGroupbyDF.shape (74777, 26337)\n",
      "CPU times: user 19 ms, sys: 277 µs, total: 19.3 ms\n",
      "Wall time: 18.3 ms\n"
     ]
    }
   ],
   "source": [
    "%%time\n",
    "# transpose so that shape is the same as the original groupBy dataFrame\n",
    "scaledGroupbyDF = transposedScaledDF.transpose()\n",
    "print(f'scaledGroupbyDF.shape {scaledGroupbyDF.shape}' )"
   ]
  },
  {
   "cell_type": "code",
   "execution_count": 10,
   "id": "406555cb-cad2-4c4f-bc95-4e793518fb9f",
   "metadata": {},
   "outputs": [
    {
     "name": "stdout",
     "output_type": "stream",
     "text": [
      "CPU times: user 44min 9s, sys: 15.4 s, total: 44min 24s\n",
      "Wall time: 54min 27s\n"
     ]
    }
   ],
   "source": [
    "%%time\n",
    "\n",
    "aedwip save in HDF format. csv is very slow see csv2hdf5.ipynb\n",
    "normalizedGroupbyHDF5_DF = pd.read_hdf(normalizedGroupbyHDF5Path)\n",
    "print( f'normalizedGroupbyHDF5_DF.shape : {normalizedGroupbyHDF5_DF.shape}' )\n",
    "\n",
    "# save\n",
    "# the index is the geneId\n",
    "scaledGroupbyPath = f'{dataRoot}/GTEx_TCGA_NormalizedGroupby.csv'\n",
    "scaledGroupbyDF.to_csv( scaledGroupbyPath, index=True)"
   ]
  },
  {
   "cell_type": "code",
   "execution_count": null,
   "id": "a53c2015-ec03-460c-ba17-0a43c4359a21",
   "metadata": {},
   "outputs": [],
   "source": []
  }
 ],
 "metadata": {
  "kernelspec": {
   "display_name": "Python 3 (ipykernel)",
   "language": "python",
   "name": "python3"
  },
  "language_info": {
   "codemirror_mode": {
    "name": "ipython",
    "version": 3
   },
   "file_extension": ".py",
   "mimetype": "text/x-python",
   "name": "python",
   "nbconvert_exporter": "python",
   "pygments_lexer": "ipython3",
   "version": "3.11.4"
  }
 },
 "nbformat": 4,
 "nbformat_minor": 5
}
