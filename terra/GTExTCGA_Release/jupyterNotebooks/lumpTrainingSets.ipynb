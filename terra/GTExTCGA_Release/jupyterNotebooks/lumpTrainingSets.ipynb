{
 "cells": [
  {
   "cell_type": "markdown",
   "id": "0fb8a550-225f-4488-a8aa-8e7ffbc3c2fc",
   "metadata": {},
   "source": [
    "# Lump training sets\n",
    "Andrew E. Davidson  \n",
    "aedavids@ucsc.edu \n",
    "2/22/24\n",
    "\n",
    "Copyright (c) 2020-2023, Regents of the University of California All rights reserved. https://polyformproject.org/licenses/noncommercial/1.0.0\n",
    "\n",
    "Combine the train/validate/test data sets into a single table"
   ]
  },
  {
   "cell_type": "code",
   "execution_count": 1,
   "id": "8c86bfe7-2107-4297-81ad-1a3256b96d3f",
   "metadata": {},
   "outputs": [
    {
     "name": "stderr",
     "output_type": "stream",
     "text": [
      "/data/tmp/ipykernel_2116429/2157970556.py:3: DeprecationWarning: \n",
      "Pyarrow will become a required dependency of pandas in the next major release of pandas (pandas 3.0),\n",
      "(to allow more performant data types, such as the Arrow string type, and better interoperability with other libraries)\n",
      "but was not found to be installed on your system.\n",
      "If this would cause problems for you,\n",
      "please provide us feedback at https://github.com/pandas-dev/pandas/issues/54466\n",
      "        \n",
      "  import pandas as pd\n"
     ]
    }
   ],
   "source": [
    "import ipynbname\n",
    "from IPython.display import display\n",
    "import pandas as pd\n",
    "# display all rows\n",
    "#pd.set_option('display.max_rows', None)\n",
    "\n",
    "# https://joelmccune.com/pandas-dataframe-to-markdown/\n",
    "#from pandas.io.clipboards import to_clipboard\n",
    "\n",
    "#import pathlib as pl\n",
    "import pprint as pp\n",
    "import numpy as np\n",
    "import os"
   ]
  },
  {
   "cell_type": "code",
   "execution_count": 2,
   "id": "8fc0f0b3-2b48-4698-ad29-9cb2ac2c2d70",
   "metadata": {},
   "outputs": [],
   "source": [
    "dataRoot = \"/private/groups/kimlab/GTEx_TCGA/groupbyGeneTrainingSets\"\n",
    "\n",
    "def loadCSV(path : str) -> pd.DataFrame:\n",
    "    print(path)\n",
    "    df = pd.read_csv(path)\n",
    "    print(df.shape)\n",
    "    \n",
    "    return df"
   ]
  },
  {
   "cell_type": "markdown",
   "id": "867ce0d4-db9b-421e-bdfc-1d24853b5f37",
   "metadata": {},
   "source": [
    "## merge col data"
   ]
  },
  {
   "cell_type": "code",
   "execution_count": 3,
   "id": "b41fcc61-9343-4676-a841-54bd24c5aeb4",
   "metadata": {},
   "outputs": [
    {
     "name": "stdout",
     "output_type": "stream",
     "text": [
      "/private/groups/kimlab/GTEx_TCGA/groupbyGeneTrainingSets/GTEx_TCGA_TrainColData.csv\n",
      "(15801, 6)\n",
      "/private/groups/kimlab/GTEx_TCGA/groupbyGeneTrainingSets/GTEx_TCGA_ValidateColData.csv\n",
      "(5268, 6)\n",
      "/private/groups/kimlab/GTEx_TCGA/groupbyGeneTrainingSets/GTEx_TCGA_TestColData.csv\n",
      "(5268, 6)\n",
      "CPU times: user 33 ms, sys: 8.93 ms, total: 42 ms\n",
      "Wall time: 46.9 ms\n"
     ]
    }
   ],
   "source": [
    "%%time\n",
    "trainColDataPath = f'{dataRoot}/GTEx_TCGA_TrainColData.csv'\n",
    "trainColDataDF   = loadCSV( trainColDataPath )\n",
    "\n",
    "validateColDataPath = f'{dataRoot}/GTEx_TCGA_ValidateColData.csv'\n",
    "validateColDataDF   = loadCSV( validateColDataPath )\n",
    "\n",
    "testColDataPath = f'{dataRoot}/GTEx_TCGA_TestColData.csv'\n",
    "testColDataDF   = loadCSV( testColDataPath )"
   ]
  },
  {
   "cell_type": "code",
   "execution_count": 4,
   "id": "01286a44-a632-4dfd-89aa-92ae98903d05",
   "metadata": {},
   "outputs": [],
   "source": [
    "expectedNumberOfRows = trainColDataDF.shape[0] + validateColDataDF.shape[0] + testColDataDF.shape[0]\n",
    "expectedNumberOfCols = trainColDataDF.shape[1]"
   ]
  },
  {
   "cell_type": "code",
   "execution_count": 5,
   "id": "26197b41-0683-4e22-bf6d-2e7745051960",
   "metadata": {},
   "outputs": [
    {
     "name": "stdout",
     "output_type": "stream",
     "text": [
      "colDataDF.shape : (26337, 6)\n"
     ]
    }
   ],
   "source": [
    "colDataDF = pd.concat( [trainColDataDF, validateColDataDF, testColDataDF] )\n",
    "\n",
    "print(f'colDataDF.shape : {colDataDF.shape}' )\n",
    "assert colDataDF.shape[0] == expectedNumberOfRows, \"ERROR number of rows does not match expected\"\n",
    "assert colDataDF.shape[1] == expectedNumberOfCols, \"ERROR number of columns does not match expected\""
   ]
  },
  {
   "cell_type": "markdown",
   "id": "d02e64d1-d8cb-481a-94dd-38e5f4cdeff6",
   "metadata": {},
   "source": [
    "## merge group by count data"
   ]
  },
  {
   "cell_type": "code",
   "execution_count": 6,
   "id": "0f0eeb0f-a026-4eb5-b626-cd9293dae770",
   "metadata": {},
   "outputs": [
    {
     "name": "stdout",
     "output_type": "stream",
     "text": [
      "/private/groups/kimlab/GTEx_TCGA/groupbyGeneTrainingSets/GTEx_TCGA_TrainGroupby.csv\n",
      "(74777, 15802)\n",
      "/private/groups/kimlab/GTEx_TCGA/groupbyGeneTrainingSets/GTEx_TCGA_ValidateGroupby.csv\n",
      "(74777, 5269)\n",
      "/private/groups/kimlab/GTEx_TCGA/groupbyGeneTrainingSets/GTEx_TCGA_TestGroupby.csv\n",
      "(74777, 5269)\n",
      "CPU times: user 4min 51s, sys: 21.5 s, total: 5min 13s\n",
      "Wall time: 5min 19s\n"
     ]
    }
   ],
   "source": [
    "%%time\n",
    "trainGroupbyPath = f'{dataRoot}/GTEx_TCGA_TrainGroupby.csv'\n",
    "trainGroupbyDF   = loadCSV( trainGroupbyPath )\n",
    "\n",
    "validateGroupbyPath = f'{dataRoot}/GTEx_TCGA_ValidateGroupby.csv'\n",
    "validateGroupbyDF   = loadCSV( validateGroupbyPath )\n",
    "\n",
    "testGroupbyPath = f'{dataRoot}/GTEx_TCGA_TestGroupby.csv'\n",
    "testGroupbyDF   = loadCSV( testGroupbyPath )"
   ]
  },
  {
   "cell_type": "code",
   "execution_count": 7,
   "id": "47f5ebcd-3df7-40b9-a5ea-28a0f08277db",
   "metadata": {},
   "outputs": [],
   "source": [
    "expectedNumberOfRows = trainGroupbyDF.shape[0] \n",
    "# -2 all groupby data frames have a geneId col. final results should only have 1\n",
    "expectedNumberOfCols = trainGroupbyDF.shape[1]+ validateGroupbyDF.shape[1] + testGroupbyDF.shape[1] - 2"
   ]
  },
  {
   "cell_type": "code",
   "execution_count": 8,
   "id": "892705ed-f6a3-4ac4-a388-f432d025bbab",
   "metadata": {},
   "outputs": [],
   "source": [
    "# sanity check make sure the gene ids are in the same order\n",
    "trainGeneDF = trainGroupbyDF .loc[:, ['geneId']]\n",
    "validateGeneDF = validateGroupbyDF.loc[:, ['geneId']]\n",
    "testGeneDF = testGroupbyDF.loc[:, ['geneId']]\n",
    "\n",
    "pd.testing.assert_frame_equal(trainGeneDF, validateGeneDF)\n",
    "pd.testing.assert_frame_equal(trainGeneDF, testGeneDF)"
   ]
  },
  {
   "cell_type": "code",
   "execution_count": 1,
   "id": "64d634ac-b89b-496a-97f9-f75ef8123916",
   "metadata": {},
   "outputs": [
    {
     "ename": "SyntaxError",
     "evalue": "invalid syntax (1890914453.py, line 3)",
     "output_type": "error",
     "traceback": [
      "\u001b[0;36m  Cell \u001b[0;32mIn[1], line 3\u001b[0;36m\u001b[0m\n\u001b[0;31m    turns out we are missing some samples.\u001b[0m\n\u001b[0m          ^\u001b[0m\n\u001b[0;31mSyntaxError\u001b[0m\u001b[0;31m:\u001b[0m invalid syntax\n"
     ]
    }
   ],
   "source": [
    "aedwip\n",
    "\n",
    "turns out we are missing some samples. \n",
    "\n",
    "interesection size should be zero\n",
    "len( TrainColData.intersection(ValidateColData ) ) 2090\n",
    "len( TrainColData.intersection(TestColData ) ) 2064\n",
    "len( ValidateColData.intersection(TestColData ) ) 0\n",
    "\n",
    "see \n",
    "- tree/terra/GTExTCGA_Release/jupyterNotebooks/fixColData.ipynb\n",
    "- terra/GTExTCGA_Release/jupyterNotebooks/checkColDataForDuplicateSamples.ipynb"
   ]
  },
  {
   "cell_type": "code",
   "execution_count": 9,
   "id": "56d7facc-7a7f-4cb7-9f2f-cc394018b4a9",
   "metadata": {},
   "outputs": [
    {
     "name": "stdout",
     "output_type": "stream",
     "text": [
      "CPU times: user 3.84 s, sys: 7.15 s, total: 11 s\n",
      "Wall time: 11 s\n"
     ]
    }
   ],
   "source": [
    "%%time\n",
    "# all groupby data frames have a geneId col. final results should only have 1\n",
    "valSampleCols = ~validateGroupbyDF.columns.isin( ['geneId'] )\n",
    "testSampleCols = ~testGroupbyDF.columns.isin( ['geneId'] )\n",
    "dataFrames = [ trainGroupbyDF, validateGroupbyDF.loc[:, valSampleCols] , testGroupbyDF.loc[:,testSampleCols] ]\n",
    "\n",
    "# concat like unix paste , i.e. make the data frame wider not longer\n",
    "byCols = 1\n",
    "groupbyDF = pd.concat( dataFrames, axis=byCols ) "
   ]
  },
  {
   "cell_type": "code",
   "execution_count": 10,
   "id": "848dafd1-0486-40f1-b247-9b0eb34bb62c",
   "metadata": {},
   "outputs": [
    {
     "name": "stdout",
     "output_type": "stream",
     "text": [
      "groupbyDF.shape : (74777, 26338)\n"
     ]
    }
   ],
   "source": [
    "print( f'groupbyDF.shape : {groupbyDF.shape}' )\n",
    "assert groupbyDF.shape[0] == expectedNumberOfRows, \"ERROR number of rows does not match expected\"\n",
    "assert groupbyDF.shape[1] == expectedNumberOfCols, \"ERROR number of columns does not match expected\""
   ]
  },
  {
   "cell_type": "markdown",
   "id": "2e511a11-692a-4f54-a1e0-a1fd2b3af91b",
   "metadata": {},
   "source": [
    "## Save"
   ]
  },
  {
   "cell_type": "code",
   "execution_count": 14,
   "id": "1868402d-65dd-4e86-9929-638dd5f67f00",
   "metadata": {},
   "outputs": [
    {
     "name": "stdout",
     "output_type": "stream",
     "text": [
      "\n",
      "/private/groups/kimlab/GTEx_TCGA/groupbyGeneTrainingSets/GTEx_TCGA_Groupby.csv\n",
      "CPU times: user 23min 24s, sys: 4.67 s, total: 23min 29s\n",
      "Wall time: 23min 32s\n"
     ]
    }
   ],
   "source": [
    "%%time\n",
    "# colDataPath = f'{dataRoot}/GTEx_TCGA_ColData.csv'\n",
    "# print(f'{colDataPath}')\n",
    "# colDataDF.to_csv( colDataPath, index=False ) \n",
    "\n",
    "groupbyPath = f'{dataRoot}/GTEx_TCGA_Groupby.csv'\n",
    "print(f'\\n{groupbyPath}')\n",
    "groupbyDF.to_csv( groupbyPath, index=False)"
   ]
  },
  {
   "cell_type": "code",
   "execution_count": 12,
   "id": "933bd3fa-be0b-46e8-b451-d463ec73b8ab",
   "metadata": {},
   "outputs": [
    {
     "name": "stdout",
     "output_type": "stream",
     "text": [
      "/private/groups/kimlab/GTEx_TCGA/groupbyGeneTrainingSets/GTEx_TCGA_ColData.csv\n"
     ]
    },
    {
     "ename": "NameError",
     "evalue": "name 'groupbyPath' is not defined",
     "output_type": "error",
     "traceback": [
      "\u001b[0;31m---------------------------------------------------------------------------\u001b[0m",
      "\u001b[0;31mNameError\u001b[0m                                 Traceback (most recent call last)",
      "Cell \u001b[0;32mIn[12], line 2\u001b[0m\n\u001b[1;32m      1\u001b[0m \u001b[38;5;28mprint\u001b[39m(\u001b[38;5;124mf\u001b[39m\u001b[38;5;124m'\u001b[39m\u001b[38;5;132;01m{\u001b[39;00mcolDataPath\u001b[38;5;132;01m}\u001b[39;00m\u001b[38;5;124m'\u001b[39m)\n\u001b[0;32m----> 2\u001b[0m \u001b[38;5;28mprint\u001b[39m(\u001b[38;5;124mf\u001b[39m\u001b[38;5;124m'\u001b[39m\u001b[38;5;130;01m\\n\u001b[39;00m\u001b[38;5;132;01m{\u001b[39;00m\u001b[43mgroupbyPath\u001b[49m\u001b[38;5;132;01m}\u001b[39;00m\u001b[38;5;124m'\u001b[39m)\n",
      "\u001b[0;31mNameError\u001b[0m: name 'groupbyPath' is not defined"
     ]
    }
   ],
   "source": [
    "print(f'{colDataPath}')\n",
    "print(f'\\n{groupbyPath}')"
   ]
  },
  {
   "cell_type": "code",
   "execution_count": null,
   "id": "1c809848-3f64-46d6-a004-6083f3ee86a9",
   "metadata": {},
   "outputs": [],
   "source": []
  }
 ],
 "metadata": {
  "kernelspec": {
   "display_name": "Python 3 (ipykernel)",
   "language": "python",
   "name": "python3"
  },
  "language_info": {
   "codemirror_mode": {
    "name": "ipython",
    "version": 3
   },
   "file_extension": ".py",
   "mimetype": "text/x-python",
   "name": "python",
   "nbconvert_exporter": "python",
   "pygments_lexer": "ipython3",
   "version": "3.11.4"
  }
 },
 "nbformat": 4,
 "nbformat_minor": 5
}
