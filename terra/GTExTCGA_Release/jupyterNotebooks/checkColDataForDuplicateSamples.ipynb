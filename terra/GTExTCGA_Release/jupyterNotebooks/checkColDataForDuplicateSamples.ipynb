{
 "cells": [
  {
   "cell_type": "markdown",
   "id": "4b7cfdaf-c6f3-4e6c-8d79-be393d72fd5c",
   "metadata": {},
   "source": [
    "# check colData for dups\n",
    "\n",
    "It looks like the col data training set shares some sample ids with both the val and test test. How ever when we check the sample ids in the count data set. we do not find any duplicates? This seems strange because the number sample ids in the count data set matchs the number of sample ids including the dups?\n",
    "\n",
    "\n",
    "**<span style=\"color:red;background-color:yellow\">see 'do all the count sample ids have col data?'</span>**  \n",
    "turns out the number of sampleId's in colData matches the number of sampleIds in the countData. How ever there are 4154 duplicate sampleIds in colData and 4154 count data sample is do not have colData!\n",
    "\n",
    "**TODO**\n",
    "- test training, val, and test colData. Do they have the missing ids? Was there a bug when we concat them?\n",
    "- fix colData"
   ]
  },
  {
   "cell_type": "code",
   "execution_count": 1,
   "id": "bb8b6a40-0a2d-4453-80ce-930958a9d54e",
   "metadata": {},
   "outputs": [
    {
     "name": "stderr",
     "output_type": "stream",
     "text": [
      "/data/tmp/ipykernel_3097906/3026182786.py:5: DeprecationWarning: \n",
      "Pyarrow will become a required dependency of pandas in the next major release of pandas (pandas 3.0),\n",
      "(to allow more performant data types, such as the Arrow string type, and better interoperability with other libraries)\n",
      "but was not found to be installed on your system.\n",
      "If this would cause problems for you,\n",
      "please provide us feedback at https://github.com/pandas-dev/pandas/issues/54466\n",
      "        \n",
      "  import pandas as pd\n"
     ]
    }
   ],
   "source": [
    "import ipynbname\n",
    "from IPython.display import display\n",
    "import matplotlib.pyplot as plt\n",
    "\n",
    "import pandas as pd\n",
    "# display all rows\n",
    "pd.set_option('display.max_columns', None)\n",
    "pd.set_option('display.max_rows', None)\n",
    "\n",
    "# https://joelmccune.com/pandas-dataframe-to-markdown/\n",
    "from pandas.io.clipboards import to_clipboard\n",
    "\n",
    "import pathlib as pl\n",
    "import pprint as pp\n",
    "import numpy as np\n",
    "import os\n",
    "import sys"
   ]
  },
  {
   "cell_type": "code",
   "execution_count": 2,
   "id": "84198c96-3983-4e06-a720-2c6633cd5912",
   "metadata": {},
   "outputs": [
    {
     "name": "stdout",
     "output_type": "stream",
     "text": [
      "colDataDF.shape : (26337, 6)\n"
     ]
    },
    {
     "data": {
      "text/html": [
       "<div>\n",
       "<style scoped>\n",
       "    .dataframe tbody tr th:only-of-type {\n",
       "        vertical-align: middle;\n",
       "    }\n",
       "\n",
       "    .dataframe tbody tr th {\n",
       "        vertical-align: top;\n",
       "    }\n",
       "\n",
       "    .dataframe thead th {\n",
       "        text-align: right;\n",
       "    }\n",
       "</style>\n",
       "<table border=\"1\" class=\"dataframe\">\n",
       "  <thead>\n",
       "    <tr style=\"text-align: right;\">\n",
       "      <th></th>\n",
       "      <th>sample_id</th>\n",
       "      <th>participant_id</th>\n",
       "      <th>category</th>\n",
       "      <th>gender</th>\n",
       "      <th>age</th>\n",
       "      <th>dataSet</th>\n",
       "    </tr>\n",
       "  </thead>\n",
       "  <tbody>\n",
       "    <tr>\n",
       "      <th>0</th>\n",
       "      <td>GTEX-1117F-0226-SM-5GZZ7</td>\n",
       "      <td>GTEX-1117F</td>\n",
       "      <td>Adipose_Subcutaneous</td>\n",
       "      <td>Female</td>\n",
       "      <td>66.0</td>\n",
       "      <td>GTEx</td>\n",
       "    </tr>\n",
       "    <tr>\n",
       "      <th>1</th>\n",
       "      <td>GTEX-1117F-0526-SM-5EGHJ</td>\n",
       "      <td>GTEX-1117F</td>\n",
       "      <td>Artery_Tibial</td>\n",
       "      <td>Female</td>\n",
       "      <td>66.0</td>\n",
       "      <td>GTEx</td>\n",
       "    </tr>\n",
       "    <tr>\n",
       "      <th>2</th>\n",
       "      <td>GTEX-1117F-0726-SM-5GIEN</td>\n",
       "      <td>GTEX-1117F</td>\n",
       "      <td>Heart_Atrial_Appendage</td>\n",
       "      <td>Female</td>\n",
       "      <td>66.0</td>\n",
       "      <td>GTEx</td>\n",
       "    </tr>\n",
       "    <tr>\n",
       "      <th>3</th>\n",
       "      <td>GTEX-1117F-2826-SM-5GZXL</td>\n",
       "      <td>GTEX-1117F</td>\n",
       "      <td>Breast_Mammary_Tissue</td>\n",
       "      <td>Female</td>\n",
       "      <td>66.0</td>\n",
       "      <td>GTEx</td>\n",
       "    </tr>\n",
       "    <tr>\n",
       "      <th>4</th>\n",
       "      <td>GTEX-1117F-3226-SM-5N9CT</td>\n",
       "      <td>GTEX-1117F</td>\n",
       "      <td>Brain_Cortex</td>\n",
       "      <td>Female</td>\n",
       "      <td>66.0</td>\n",
       "      <td>GTEx</td>\n",
       "    </tr>\n",
       "  </tbody>\n",
       "</table>\n",
       "</div>"
      ],
      "text/plain": [
       "                  sample_id participant_id                category  gender  \\\n",
       "0  GTEX-1117F-0226-SM-5GZZ7     GTEX-1117F    Adipose_Subcutaneous  Female   \n",
       "1  GTEX-1117F-0526-SM-5EGHJ     GTEX-1117F           Artery_Tibial  Female   \n",
       "2  GTEX-1117F-0726-SM-5GIEN     GTEX-1117F  Heart_Atrial_Appendage  Female   \n",
       "3  GTEX-1117F-2826-SM-5GZXL     GTEX-1117F   Breast_Mammary_Tissue  Female   \n",
       "4  GTEX-1117F-3226-SM-5N9CT     GTEX-1117F            Brain_Cortex  Female   \n",
       "\n",
       "    age dataSet  \n",
       "0  66.0    GTEx  \n",
       "1  66.0    GTEx  \n",
       "2  66.0    GTEx  \n",
       "3  66.0    GTEx  \n",
       "4  66.0    GTEx  "
      ]
     },
     "execution_count": 2,
     "metadata": {},
     "output_type": "execute_result"
    }
   ],
   "source": [
    "dataRoot = \"/private/groups/kimlab/GTEx_TCGA/groupbyGeneTrainingSets\"\n",
    "dataRoot = \"/scratch/aedavids/tmp\"\n",
    "colDataPath = f\"{dataRoot}/GTEx_TCGA_ColData.csv\"\n",
    "colDataDF = pd.read_csv(colDataPath)\n",
    "print(f'colDataDF.shape : {colDataDF.shape}' )\n",
    "colDataDF.head()"
   ]
  },
  {
   "cell_type": "code",
   "execution_count": 3,
   "id": "8dd042b8-f06d-49b0-b63d-daefa8af8c99",
   "metadata": {},
   "outputs": [
    {
     "name": "stdout",
     "output_type": "stream",
     "text": [
      "22183\n",
      "!!!!!!!!!!!!! there are dups\n"
     ]
    }
   ],
   "source": [
    "print( len( colDataDF.loc[:, \"sample_id\"].unique() ))\n",
    "print(f'!!!!!!!!!!!!! there are dups' )"
   ]
  },
  {
   "cell_type": "markdown",
   "id": "a4c704cc-2fb7-4938-b09e-2b279d094b88",
   "metadata": {},
   "source": [
    "# check training sets"
   ]
  },
  {
   "cell_type": "code",
   "execution_count": 4,
   "id": "79402809-b4c0-4ad1-ba74-03d6d001b6fe",
   "metadata": {},
   "outputs": [
    {
     "name": "stdout",
     "output_type": "stream",
     "text": [
      "trainColDataDF.shape : (15801, 6)\n",
      "\n",
      "valColDataDF.shape : (5268, 6)\n",
      "\n",
      "testColDataDF.shape : (5268, 6)\n"
     ]
    }
   ],
   "source": [
    "klDataRoot = \"/private/groups/kimlab/GTEx_TCGA/groupbyGeneTrainingSets\"\n",
    "\n",
    "trainPath = f'{klDataRoot}/GTEx_TCGA_TrainColData.csv'\n",
    "trainColDataDF = pd.read_csv(trainPath)\n",
    "print(f'trainColDataDF.shape : {trainColDataDF.shape}')\n",
    "\n",
    "valPath = f'{klDataRoot}/GTEx_TCGA_ValidateColData.csv'\n",
    "valColDataDF = pd.read_csv(valPath)\n",
    "print( f'\\nvalColDataDF.shape : {valColDataDF.shape}' )\n",
    "\n",
    "testPath = f'{klDataRoot}/GTEx_TCGA_TestColData.csv'\n",
    "testColDataDF = pd.read_csv(testPath)\n",
    "print(f'\\ntestColDataDF.shape : {testColDataDF.shape}')"
   ]
  },
  {
   "cell_type": "code",
   "execution_count": 5,
   "id": "44dad2e7-0f36-497c-958e-203b36a30288",
   "metadata": {},
   "outputs": [
    {
     "name": "stdout",
     "output_type": "stream",
     "text": [
      "!!!!!!! there are duplicated in the training col data set !!!!!!!!\n",
      "uber num sample id: 26337 numUnique : 22183\n",
      "\n",
      "train num sample id: 15801 numUnique : 15801\n",
      "\n",
      "val num sample id: 5268 numUnique : 5268\n",
      "\n",
      "test num sample id: 5268 numUnique : 5268\n"
     ]
    }
   ],
   "source": [
    "def checkForDups(df, label=\"\") :\n",
    "    num = df.loc[:, \"sample_id\"].shape[0]\n",
    "    numUnique = len( df.loc[:, \"sample_id\"].unique() )\n",
    "    print(f'{label} num sample id: {num} numUnique : {numUnique}' )\n",
    "\n",
    "print(f'!!!!!!! there are duplicated in the training col data set !!!!!!!!')\n",
    "checkForDups(colDataDF, 'uber')\n",
    "print()\n",
    "\n",
    "checkForDups(trainColDataDF, 'train')\n",
    "print()\n",
    "\n",
    "checkForDups(valColDataDF, 'val')\n",
    "print()\n",
    "\n",
    "checkForDups(testColDataDF, 'test')"
   ]
  },
  {
   "cell_type": "code",
   "execution_count": 6,
   "id": "3c1df2ac-7323-4f94-ac6e-0a0e6d8cde5d",
   "metadata": {},
   "outputs": [
    {
     "name": "stdout",
     "output_type": "stream",
     "text": [
      "26337\n",
      "number of dup sample ids 4154\n"
     ]
    }
   ],
   "source": [
    "print( 15801 + 5268 + 5268 )\n",
    "print(f'number of dup sample ids {26337 - 22183}')"
   ]
  },
  {
   "cell_type": "code",
   "execution_count": 7,
   "id": "9fe09f08-a187-4dd5-82b0-e120cb9c4c40",
   "metadata": {},
   "outputs": [
    {
     "name": "stdout",
     "output_type": "stream",
     "text": [
      "check sampleIds interesections. The should be the empty set\n",
      "\n",
      "test and validate are disjoint as expected\n",
      "both test and validated share samples some sample with training data set\n",
      "\n",
      "len(trainSampleIdSet.intersection(valSampleIdSet) : 2090\n",
      "len(trainSampleIdSet.intersection(testSampleIdSet) : 2064\n",
      "len(valSampleIdSet.intersection(testSampleIdSet) : 0\n"
     ]
    }
   ],
   "source": [
    "print(f'check sampleIds interesections. The should be the empty set\\n')\n",
    "print(f'test and validate are disjoint as expected')\n",
    "print(f'both test and validated share samples some sample with training data set\\n')\n",
    "\n",
    "trainSampleIdSet = set( trainColDataDF.loc[:, \"sample_id\"] )\n",
    "valSampleIdSet   = set( valColDataDF.loc[:, \"sample_id\"] )\n",
    "testSampleIdSet  = set( testColDataDF.loc[:, \"sample_id\"] )\n",
    "\n",
    "print(f'len(trainSampleIdSet.intersection(valSampleIdSet) : {len(trainSampleIdSet.intersection(valSampleIdSet))}' )\n",
    "print(f'len(trainSampleIdSet.intersection(testSampleIdSet) : {len(trainSampleIdSet.intersection(testSampleIdSet))}' )\n",
    "print(f'len(valSampleIdSet.intersection(testSampleIdSet) : {len(valSampleIdSet.intersection(testSampleIdSet))}' )"
   ]
  },
  {
   "cell_type": "code",
   "execution_count": 8,
   "id": "5af64cf7-39ba-4461-a498-cbfee9ea9392",
   "metadata": {},
   "outputs": [
    {
     "name": "stdout",
     "output_type": "stream",
     "text": [
      "find duplicates in uber col data\n",
      "duplicateRows[0:5] : 0    False\n",
      "1    False\n",
      "2    False\n",
      "3    False\n",
      "4    False\n",
      "dtype: bool\n",
      "sum(duplicateRows) : 4154\n"
     ]
    }
   ],
   "source": [
    "print(f'find duplicates in uber col data')\n",
    "duplicateRows = colDataDF.duplicated()\n",
    "print(f'duplicateRows[0:5] : {duplicateRows[0:5]}')\n",
    "print(f'sum(duplicateRows) : {sum(duplicateRows)}')"
   ]
  },
  {
   "cell_type": "code",
   "execution_count": 9,
   "id": "a7d60a76-b4e4-4a85-b2c3-390a29116a59",
   "metadata": {},
   "outputs": [
    {
     "name": "stdout",
     "output_type": "stream",
     "text": [
      "(4154, 6)\n"
     ]
    },
    {
     "data": {
      "text/html": [
       "<div>\n",
       "<style scoped>\n",
       "    .dataframe tbody tr th:only-of-type {\n",
       "        vertical-align: middle;\n",
       "    }\n",
       "\n",
       "    .dataframe tbody tr th {\n",
       "        vertical-align: top;\n",
       "    }\n",
       "\n",
       "    .dataframe thead th {\n",
       "        text-align: right;\n",
       "    }\n",
       "</style>\n",
       "<table border=\"1\" class=\"dataframe\">\n",
       "  <thead>\n",
       "    <tr style=\"text-align: right;\">\n",
       "      <th></th>\n",
       "      <th>sample_id</th>\n",
       "      <th>participant_id</th>\n",
       "      <th>category</th>\n",
       "      <th>gender</th>\n",
       "      <th>age</th>\n",
       "      <th>dataSet</th>\n",
       "    </tr>\n",
       "  </thead>\n",
       "  <tbody>\n",
       "    <tr>\n",
       "      <th>15802</th>\n",
       "      <td>GTEX-1117F-0726-SM-5GIEN</td>\n",
       "      <td>GTEX-1117F</td>\n",
       "      <td>Heart_Atrial_Appendage</td>\n",
       "      <td>Female</td>\n",
       "      <td>66.0</td>\n",
       "      <td>GTEx</td>\n",
       "    </tr>\n",
       "    <tr>\n",
       "      <th>15804</th>\n",
       "      <td>GTEX-1117F-2826-SM-5GZXL</td>\n",
       "      <td>GTEX-1117F</td>\n",
       "      <td>Breast_Mammary_Tissue</td>\n",
       "      <td>Female</td>\n",
       "      <td>66.0</td>\n",
       "      <td>GTEx</td>\n",
       "    </tr>\n",
       "    <tr>\n",
       "      <th>15807</th>\n",
       "      <td>GTEX-1117F-3226-SM-5N9CT</td>\n",
       "      <td>GTEX-1117F</td>\n",
       "      <td>Brain_Cortex</td>\n",
       "      <td>Female</td>\n",
       "      <td>66.0</td>\n",
       "      <td>GTEx</td>\n",
       "    </tr>\n",
       "    <tr>\n",
       "      <th>15808</th>\n",
       "      <td>GTEX-111CU-0326-SM-5GZXO</td>\n",
       "      <td>GTEX-111CU</td>\n",
       "      <td>Lung</td>\n",
       "      <td>Male</td>\n",
       "      <td>57.0</td>\n",
       "      <td>GTEx</td>\n",
       "    </tr>\n",
       "    <tr>\n",
       "      <th>15809</th>\n",
       "      <td>GTEX-111CU-0426-SM-5GZY1</td>\n",
       "      <td>GTEX-111CU</td>\n",
       "      <td>Spleen</td>\n",
       "      <td>Male</td>\n",
       "      <td>57.0</td>\n",
       "      <td>GTEx</td>\n",
       "    </tr>\n",
       "  </tbody>\n",
       "</table>\n",
       "</div>"
      ],
      "text/plain": [
       "                      sample_id participant_id                category  \\\n",
       "15802  GTEX-1117F-0726-SM-5GIEN     GTEX-1117F  Heart_Atrial_Appendage   \n",
       "15804  GTEX-1117F-2826-SM-5GZXL     GTEX-1117F   Breast_Mammary_Tissue   \n",
       "15807  GTEX-1117F-3226-SM-5N9CT     GTEX-1117F            Brain_Cortex   \n",
       "15808  GTEX-111CU-0326-SM-5GZXO     GTEX-111CU                    Lung   \n",
       "15809  GTEX-111CU-0426-SM-5GZY1     GTEX-111CU                  Spleen   \n",
       "\n",
       "       gender   age dataSet  \n",
       "15802  Female  66.0    GTEx  \n",
       "15804  Female  66.0    GTEx  \n",
       "15807  Female  66.0    GTEx  \n",
       "15808    Male  57.0    GTEx  \n",
       "15809    Male  57.0    GTEx  "
      ]
     },
     "execution_count": 9,
     "metadata": {},
     "output_type": "execute_result"
    }
   ],
   "source": [
    "colDataDuplicatedDF = colDataDF.loc[duplicateRows , :]\n",
    "print(f'{colDataDuplicatedDF.shape}')\n",
    "colDataDuplicatedDF.head()"
   ]
  },
  {
   "cell_type": "code",
   "execution_count": 10,
   "id": "232e92bd-2121-410f-a5b2-713c227eae52",
   "metadata": {},
   "outputs": [
    {
     "data": {
      "text/html": [
       "<div>\n",
       "<style scoped>\n",
       "    .dataframe tbody tr th:only-of-type {\n",
       "        vertical-align: middle;\n",
       "    }\n",
       "\n",
       "    .dataframe tbody tr th {\n",
       "        vertical-align: top;\n",
       "    }\n",
       "\n",
       "    .dataframe thead th {\n",
       "        text-align: right;\n",
       "    }\n",
       "</style>\n",
       "<table border=\"1\" class=\"dataframe\">\n",
       "  <thead>\n",
       "    <tr style=\"text-align: right;\">\n",
       "      <th></th>\n",
       "      <th>sample_id</th>\n",
       "      <th>participant_id</th>\n",
       "      <th>category</th>\n",
       "      <th>gender</th>\n",
       "      <th>age</th>\n",
       "    </tr>\n",
       "    <tr>\n",
       "      <th>dataSet</th>\n",
       "      <th></th>\n",
       "      <th></th>\n",
       "      <th></th>\n",
       "      <th></th>\n",
       "      <th></th>\n",
       "    </tr>\n",
       "  </thead>\n",
       "  <tbody>\n",
       "    <tr>\n",
       "      <th>GTEx</th>\n",
       "      <td>4154</td>\n",
       "      <td>4154</td>\n",
       "      <td>4154</td>\n",
       "      <td>4154</td>\n",
       "      <td>4154</td>\n",
       "    </tr>\n",
       "  </tbody>\n",
       "</table>\n",
       "</div>"
      ],
      "text/plain": [
       "         sample_id  participant_id  category  gender   age\n",
       "dataSet                                                   \n",
       "GTEx          4154            4154      4154    4154  4154"
      ]
     },
     "execution_count": 10,
     "metadata": {},
     "output_type": "execute_result"
    }
   ],
   "source": [
    "colDataDuplicatedDF.groupby(['dataSet']).count()"
   ]
  },
  {
   "cell_type": "code",
   "execution_count": 11,
   "id": "1d9793d1-653b-40b6-808e-2662f9c4f19b",
   "metadata": {
    "scrolled": true
   },
   "outputs": [
    {
     "data": {
      "text/html": [
       "<div>\n",
       "<style scoped>\n",
       "    .dataframe tbody tr th:only-of-type {\n",
       "        vertical-align: middle;\n",
       "    }\n",
       "\n",
       "    .dataframe tbody tr th {\n",
       "        vertical-align: top;\n",
       "    }\n",
       "\n",
       "    .dataframe thead th {\n",
       "        text-align: right;\n",
       "    }\n",
       "</style>\n",
       "<table border=\"1\" class=\"dataframe\">\n",
       "  <thead>\n",
       "    <tr style=\"text-align: right;\">\n",
       "      <th></th>\n",
       "      <th>sample_id</th>\n",
       "      <th>participant_id</th>\n",
       "      <th>gender</th>\n",
       "      <th>age</th>\n",
       "      <th>dataSet</th>\n",
       "    </tr>\n",
       "    <tr>\n",
       "      <th>category</th>\n",
       "      <th></th>\n",
       "      <th></th>\n",
       "      <th></th>\n",
       "      <th></th>\n",
       "      <th></th>\n",
       "    </tr>\n",
       "  </thead>\n",
       "  <tbody>\n",
       "    <tr>\n",
       "      <th>Adipose_Subcutaneous</th>\n",
       "      <td>149</td>\n",
       "      <td>149</td>\n",
       "      <td>149</td>\n",
       "      <td>149</td>\n",
       "      <td>149</td>\n",
       "    </tr>\n",
       "    <tr>\n",
       "      <th>Adipose_Visceral_Omentum</th>\n",
       "      <td>137</td>\n",
       "      <td>137</td>\n",
       "      <td>137</td>\n",
       "      <td>137</td>\n",
       "      <td>137</td>\n",
       "    </tr>\n",
       "    <tr>\n",
       "      <th>Adrenal_Gland</th>\n",
       "      <td>70</td>\n",
       "      <td>70</td>\n",
       "      <td>70</td>\n",
       "      <td>70</td>\n",
       "      <td>70</td>\n",
       "    </tr>\n",
       "    <tr>\n",
       "      <th>Artery_Aorta</th>\n",
       "      <td>98</td>\n",
       "      <td>98</td>\n",
       "      <td>98</td>\n",
       "      <td>98</td>\n",
       "      <td>98</td>\n",
       "    </tr>\n",
       "    <tr>\n",
       "      <th>Artery_Coronary</th>\n",
       "      <td>62</td>\n",
       "      <td>62</td>\n",
       "      <td>62</td>\n",
       "      <td>62</td>\n",
       "      <td>62</td>\n",
       "    </tr>\n",
       "  </tbody>\n",
       "</table>\n",
       "</div>"
      ],
      "text/plain": [
       "                          sample_id  participant_id  gender  age  dataSet\n",
       "category                                                                 \n",
       "Adipose_Subcutaneous            149             149     149  149      149\n",
       "Adipose_Visceral_Omentum        137             137     137  137      137\n",
       "Adrenal_Gland                    70              70      70   70       70\n",
       "Artery_Aorta                     98              98      98   98       98\n",
       "Artery_Coronary                  62              62      62   62       62"
      ]
     },
     "execution_count": 11,
     "metadata": {},
     "output_type": "execute_result"
    }
   ],
   "source": [
    "colDataDuplicatedDF.groupby(['category']).count().head()"
   ]
  },
  {
   "cell_type": "markdown",
   "id": "d45cd9d9-3d43-4561-a592-e7675d8e13cd",
   "metadata": {},
   "source": [
    "# Are there dups in the count data sets?"
   ]
  },
  {
   "cell_type": "code",
   "execution_count": 12,
   "id": "0959dfbf-d779-4ead-87fb-c08e1f410154",
   "metadata": {},
   "outputs": [
    {
     "name": "stdout",
     "output_type": "stream",
     "text": [
      "normalizedGroupbyHDF5_DF.shape : (74777, 26337)\n",
      "\n",
      "CPU times: user 16.2 s, sys: 18.6 s, total: 34.8 s\n",
      "Wall time: 36 s\n"
     ]
    }
   ],
   "source": [
    "%%time\n",
    "dataRoot = \"/private/groups/kimlab/GTEx_TCGA/groupbyGeneTrainingSets\"\n",
    "dataRoot = \"/scratch/aedavids/tmp\"\n",
    "\n",
    "# it is faster to read the data, then set the index.\n",
    "# this probably has to do with the way the hdf5 file was saved to disk\n",
    "normalizedGroupbyHDF5Path = f'{dataRoot}/GTEx_TCGA_NormalizedGroupby.hdf5'\n",
    "normalizedGroupbyHDF5_DF = pd.read_hdf(normalizedGroupbyHDF5Path)\n",
    "normalizedGroupbyHDF5_DF =  normalizedGroupbyHDF5_DF.set_index( 'geneId' )\n",
    "print( f'normalizedGroupbyHDF5_DF.shape : {normalizedGroupbyHDF5_DF.shape}' )\n",
    "normalizedGroupbyHDF5_DF.columns[0:3]\n",
    "print()"
   ]
  },
  {
   "cell_type": "code",
   "execution_count": 13,
   "id": "583109ba-33f9-4684-8b60-fa4c3cfd32dc",
   "metadata": {},
   "outputs": [
    {
     "name": "stdout",
     "output_type": "stream",
     "text": [
      "Index(['GTEX-1117F-0226-SM-5GZZ7', 'GTEX-1117F-0526-SM-5EGHJ',\n",
      "       'GTEX-1117F-0726-SM-5GIEN'],\n",
      "      dtype='object')\n",
      "Index(['UVM-WC-A87Y-TP', 'UVM-WC-AA9A-TP', 'UVM-YZ-A982-TP'], dtype='object')\n"
     ]
    },
    {
     "data": {
      "text/plain": [
       "26337"
      ]
     },
     "execution_count": 13,
     "metadata": {},
     "output_type": "execute_result"
    }
   ],
   "source": [
    "print(normalizedGroupbyHDF5_DF.columns[0:3])\n",
    "print(normalizedGroupbyHDF5_DF.columns[-3:])\n",
    "len( normalizedGroupbyHDF5_DF.columns.unique() )"
   ]
  },
  {
   "cell_type": "code",
   "execution_count": 14,
   "id": "798c26f2-0efc-4c74-9ce8-c7dad32fb723",
   "metadata": {},
   "outputs": [
    {
     "data": {
      "text/plain": [
       "26337"
      ]
     },
     "execution_count": 14,
     "metadata": {},
     "output_type": "execute_result"
    }
   ],
   "source": [
    "len( np.unique( normalizedGroupbyHDF5_DF.columns) )"
   ]
  },
  {
   "cell_type": "code",
   "execution_count": 15,
   "id": "101bd62e-ca12-4499-b186-229f7003ef18",
   "metadata": {},
   "outputs": [
    {
     "data": {
      "text/plain": [
       "0"
      ]
     },
     "execution_count": 15,
     "metadata": {},
     "output_type": "execute_result"
    }
   ],
   "source": [
    "countDuplicatedSeries = normalizedGroupbyHDF5_DF.columns.duplicated()\n",
    "sum( countDuplicatedSeries )"
   ]
  },
  {
   "cell_type": "code",
   "execution_count": 33,
   "id": "328b86f6-84ce-4070-b796-ea303888d7be",
   "metadata": {},
   "outputs": [
    {
     "name": "stdout",
     "output_type": "stream",
     "text": [
      "?????? looks like dups in colData but not count data, yet the number of sample match?\n"
     ]
    }
   ],
   "source": [
    "print(f'?????? looks like dups in colData but not count data, yet the number of sample match?')"
   ]
  },
  {
   "cell_type": "code",
   "execution_count": 17,
   "id": "9926d487-eb2f-4250-9ac7-d4d188fb0500",
   "metadata": {},
   "outputs": [
    {
     "name": "stdout",
     "output_type": "stream",
     "text": [
      "['GTEX-1117F-0726-SM-5GIEN' 'GTEX-1117F-2826-SM-5GZXL'\n",
      " 'GTEX-1117F-3226-SM-5N9CT']\n",
      "\n"
     ]
    },
    {
     "data": {
      "text/html": [
       "<div>\n",
       "<style scoped>\n",
       "    .dataframe tbody tr th:only-of-type {\n",
       "        vertical-align: middle;\n",
       "    }\n",
       "\n",
       "    .dataframe tbody tr th {\n",
       "        vertical-align: top;\n",
       "    }\n",
       "\n",
       "    .dataframe thead th {\n",
       "        text-align: right;\n",
       "    }\n",
       "</style>\n",
       "<table border=\"1\" class=\"dataframe\">\n",
       "  <thead>\n",
       "    <tr style=\"text-align: right;\">\n",
       "      <th></th>\n",
       "      <th>sample_id</th>\n",
       "      <th>participant_id</th>\n",
       "      <th>category</th>\n",
       "      <th>gender</th>\n",
       "      <th>age</th>\n",
       "      <th>dataSet</th>\n",
       "    </tr>\n",
       "  </thead>\n",
       "  <tbody>\n",
       "    <tr>\n",
       "      <th>2</th>\n",
       "      <td>GTEX-1117F-0726-SM-5GIEN</td>\n",
       "      <td>GTEX-1117F</td>\n",
       "      <td>Heart_Atrial_Appendage</td>\n",
       "      <td>Female</td>\n",
       "      <td>66.0</td>\n",
       "      <td>GTEx</td>\n",
       "    </tr>\n",
       "    <tr>\n",
       "      <th>15802</th>\n",
       "      <td>GTEX-1117F-0726-SM-5GIEN</td>\n",
       "      <td>GTEX-1117F</td>\n",
       "      <td>Heart_Atrial_Appendage</td>\n",
       "      <td>Female</td>\n",
       "      <td>66.0</td>\n",
       "      <td>GTEx</td>\n",
       "    </tr>\n",
       "    <tr>\n",
       "      <th>3</th>\n",
       "      <td>GTEX-1117F-2826-SM-5GZXL</td>\n",
       "      <td>GTEX-1117F</td>\n",
       "      <td>Breast_Mammary_Tissue</td>\n",
       "      <td>Female</td>\n",
       "      <td>66.0</td>\n",
       "      <td>GTEx</td>\n",
       "    </tr>\n",
       "    <tr>\n",
       "      <th>15804</th>\n",
       "      <td>GTEX-1117F-2826-SM-5GZXL</td>\n",
       "      <td>GTEX-1117F</td>\n",
       "      <td>Breast_Mammary_Tissue</td>\n",
       "      <td>Female</td>\n",
       "      <td>66.0</td>\n",
       "      <td>GTEx</td>\n",
       "    </tr>\n",
       "    <tr>\n",
       "      <th>4</th>\n",
       "      <td>GTEX-1117F-3226-SM-5N9CT</td>\n",
       "      <td>GTEX-1117F</td>\n",
       "      <td>Brain_Cortex</td>\n",
       "      <td>Female</td>\n",
       "      <td>66.0</td>\n",
       "      <td>GTEx</td>\n",
       "    </tr>\n",
       "    <tr>\n",
       "      <th>15807</th>\n",
       "      <td>GTEX-1117F-3226-SM-5N9CT</td>\n",
       "      <td>GTEX-1117F</td>\n",
       "      <td>Brain_Cortex</td>\n",
       "      <td>Female</td>\n",
       "      <td>66.0</td>\n",
       "      <td>GTEx</td>\n",
       "    </tr>\n",
       "  </tbody>\n",
       "</table>\n",
       "</div>"
      ],
      "text/plain": [
       "                      sample_id participant_id                category  \\\n",
       "2      GTEX-1117F-0726-SM-5GIEN     GTEX-1117F  Heart_Atrial_Appendage   \n",
       "15802  GTEX-1117F-0726-SM-5GIEN     GTEX-1117F  Heart_Atrial_Appendage   \n",
       "3      GTEX-1117F-2826-SM-5GZXL     GTEX-1117F   Breast_Mammary_Tissue   \n",
       "15804  GTEX-1117F-2826-SM-5GZXL     GTEX-1117F   Breast_Mammary_Tissue   \n",
       "4      GTEX-1117F-3226-SM-5N9CT     GTEX-1117F            Brain_Cortex   \n",
       "15807  GTEX-1117F-3226-SM-5N9CT     GTEX-1117F            Brain_Cortex   \n",
       "\n",
       "       gender   age dataSet  \n",
       "2      Female  66.0    GTEx  \n",
       "15802  Female  66.0    GTEx  \n",
       "3      Female  66.0    GTEx  \n",
       "15804  Female  66.0    GTEx  \n",
       "4      Female  66.0    GTEx  \n",
       "15807  Female  66.0    GTEx  "
      ]
     },
     "execution_count": 17,
     "metadata": {},
     "output_type": "execute_result"
    }
   ],
   "source": [
    "dupSampleIds = colDataDuplicatedDF.loc[:, \"sample_id\"]\n",
    "testDupIds = dupSampleIds[0:3].values\n",
    "print(testDupIds)\n",
    "\n",
    "\n",
    "print()\n",
    "selectTestDupRows = colDataDF.loc[:, \"sample_id\"].isin(testDupIds)\n",
    "colDataDF.loc[selectTestDupRows , :].sort_values(by=\"sample_id\")"
   ]
  },
  {
   "cell_type": "code",
   "execution_count": 18,
   "id": "a8cedfec-2100-416a-ac9b-8f833e392b70",
   "metadata": {},
   "outputs": [
    {
     "data": {
      "text/html": [
       "<div>\n",
       "<style scoped>\n",
       "    .dataframe tbody tr th:only-of-type {\n",
       "        vertical-align: middle;\n",
       "    }\n",
       "\n",
       "    .dataframe tbody tr th {\n",
       "        vertical-align: top;\n",
       "    }\n",
       "\n",
       "    .dataframe thead th {\n",
       "        text-align: right;\n",
       "    }\n",
       "</style>\n",
       "<table border=\"1\" class=\"dataframe\">\n",
       "  <thead>\n",
       "    <tr style=\"text-align: right;\">\n",
       "      <th></th>\n",
       "      <th>GTEX-1117F-0726-SM-5GIEN</th>\n",
       "      <th>GTEX-1117F-2826-SM-5GZXL</th>\n",
       "      <th>GTEX-1117F-3226-SM-5N9CT</th>\n",
       "    </tr>\n",
       "    <tr>\n",
       "      <th>geneId</th>\n",
       "      <th></th>\n",
       "      <th></th>\n",
       "      <th></th>\n",
       "    </tr>\n",
       "  </thead>\n",
       "  <tbody>\n",
       "    <tr>\n",
       "      <th>(A)n</th>\n",
       "      <td>1.611646</td>\n",
       "      <td>10.992304</td>\n",
       "      <td>0.668533</td>\n",
       "    </tr>\n",
       "    <tr>\n",
       "      <th>(AAA)n</th>\n",
       "      <td>0.000000</td>\n",
       "      <td>0.000000</td>\n",
       "      <td>0.000000</td>\n",
       "    </tr>\n",
       "    <tr>\n",
       "      <th>(AAAAAAC)n</th>\n",
       "      <td>0.000000</td>\n",
       "      <td>0.000000</td>\n",
       "      <td>0.000000</td>\n",
       "    </tr>\n",
       "    <tr>\n",
       "      <th>(AAAAAAG)n</th>\n",
       "      <td>0.000000</td>\n",
       "      <td>0.000000</td>\n",
       "      <td>0.000000</td>\n",
       "    </tr>\n",
       "    <tr>\n",
       "      <th>(AAAAAAT)n</th>\n",
       "      <td>0.000000</td>\n",
       "      <td>0.000000</td>\n",
       "      <td>0.000000</td>\n",
       "    </tr>\n",
       "  </tbody>\n",
       "</table>\n",
       "</div>"
      ],
      "text/plain": [
       "            GTEX-1117F-0726-SM-5GIEN  GTEX-1117F-2826-SM-5GZXL  \\\n",
       "geneId                                                           \n",
       "(A)n                        1.611646                 10.992304   \n",
       "(AAA)n                      0.000000                  0.000000   \n",
       "(AAAAAAC)n                  0.000000                  0.000000   \n",
       "(AAAAAAG)n                  0.000000                  0.000000   \n",
       "(AAAAAAT)n                  0.000000                  0.000000   \n",
       "\n",
       "            GTEX-1117F-3226-SM-5N9CT  \n",
       "geneId                                \n",
       "(A)n                        0.668533  \n",
       "(AAA)n                      0.000000  \n",
       "(AAAAAAC)n                  0.000000  \n",
       "(AAAAAAG)n                  0.000000  \n",
       "(AAAAAAT)n                  0.000000  "
      ]
     },
     "execution_count": 18,
     "metadata": {},
     "output_type": "execute_result"
    }
   ],
   "source": [
    "fooDF = normalizedGroupbyHDF5_DF.loc[:, testDupIds]\n",
    "fooDF.iloc[0:5, :]"
   ]
  },
  {
   "cell_type": "markdown",
   "id": "3ae515df-062c-4416-a845-2373f8d026e7",
   "metadata": {},
   "source": [
    "# how did lump work?"
   ]
  },
  {
   "cell_type": "code",
   "execution_count": 19,
   "id": "d4814862-35f6-44ce-b9d5-1039cf8286b3",
   "metadata": {},
   "outputs": [
    {
     "data": {
      "text/html": [
       "<div>\n",
       "<style scoped>\n",
       "    .dataframe tbody tr th:only-of-type {\n",
       "        vertical-align: middle;\n",
       "    }\n",
       "\n",
       "    .dataframe tbody tr th {\n",
       "        vertical-align: top;\n",
       "    }\n",
       "\n",
       "    .dataframe thead th {\n",
       "        text-align: right;\n",
       "    }\n",
       "</style>\n",
       "<table border=\"1\" class=\"dataframe\">\n",
       "  <thead>\n",
       "    <tr style=\"text-align: right;\">\n",
       "      <th></th>\n",
       "      <th>A</th>\n",
       "      <th>B</th>\n",
       "      <th>A</th>\n",
       "      <th>C</th>\n",
       "    </tr>\n",
       "  </thead>\n",
       "  <tbody>\n",
       "    <tr>\n",
       "      <th>0</th>\n",
       "      <td>1</td>\n",
       "      <td>4</td>\n",
       "      <td>7</td>\n",
       "      <td>10</td>\n",
       "    </tr>\n",
       "    <tr>\n",
       "      <th>1</th>\n",
       "      <td>2</td>\n",
       "      <td>5</td>\n",
       "      <td>8</td>\n",
       "      <td>11</td>\n",
       "    </tr>\n",
       "    <tr>\n",
       "      <th>2</th>\n",
       "      <td>3</td>\n",
       "      <td>6</td>\n",
       "      <td>9</td>\n",
       "      <td>12</td>\n",
       "    </tr>\n",
       "  </tbody>\n",
       "</table>\n",
       "</div>"
      ],
      "text/plain": [
       "   A  B  A   C\n",
       "0  1  4  7  10\n",
       "1  2  5  8  11\n",
       "2  3  6  9  12"
      ]
     },
     "metadata": {},
     "output_type": "display_data"
    },
    {
     "name": "stdout",
     "output_type": "stream",
     "text": [
      "\n",
      "len(resultDF.columns) 4\n"
     ]
    },
    {
     "data": {
      "text/plain": [
       "array([False, False,  True, False])"
      ]
     },
     "execution_count": 19,
     "metadata": {},
     "output_type": "execute_result"
    }
   ],
   "source": [
    "# we combined counts using axis = 1\n",
    "\n",
    "# Creating two sample DataFrames\n",
    "df1 = pd.DataFrame({'A': [1, 2, 3], 'B': [4, 5, 6]})\n",
    "df2 = pd.DataFrame({'A': [7, 8, 9], 'C': [10, 11, 12]})\n",
    "\n",
    "# Concatenating the DataFrames side by side\n",
    "resultDF = pd.concat([df1, df2], axis=1)\n",
    "\n",
    "display( resultDF )\n",
    "print()\n",
    "print(f'len(resultDF.columns) {len(resultDF.columns)}')\n",
    "resultDF.columns.duplicated()"
   ]
  },
  {
   "cell_type": "code",
   "execution_count": 20,
   "id": "d51b3f3e-bb44-4752-9ae6-e7eb4d5c6d9e",
   "metadata": {},
   "outputs": [
    {
     "data": {
      "text/html": [
       "<div>\n",
       "<style scoped>\n",
       "    .dataframe tbody tr th:only-of-type {\n",
       "        vertical-align: middle;\n",
       "    }\n",
       "\n",
       "    .dataframe tbody tr th {\n",
       "        vertical-align: top;\n",
       "    }\n",
       "\n",
       "    .dataframe thead th {\n",
       "        text-align: right;\n",
       "    }\n",
       "</style>\n",
       "<table border=\"1\" class=\"dataframe\">\n",
       "  <thead>\n",
       "    <tr style=\"text-align: right;\">\n",
       "      <th></th>\n",
       "      <th>A</th>\n",
       "      <th>B</th>\n",
       "    </tr>\n",
       "  </thead>\n",
       "  <tbody>\n",
       "    <tr>\n",
       "      <th>0</th>\n",
       "      <td>1</td>\n",
       "      <td>4</td>\n",
       "    </tr>\n",
       "    <tr>\n",
       "      <th>1</th>\n",
       "      <td>2</td>\n",
       "      <td>5</td>\n",
       "    </tr>\n",
       "    <tr>\n",
       "      <th>2</th>\n",
       "      <td>3</td>\n",
       "      <td>6</td>\n",
       "    </tr>\n",
       "  </tbody>\n",
       "</table>\n",
       "</div>"
      ],
      "text/plain": [
       "   A  B\n",
       "0  1  4\n",
       "1  2  5\n",
       "2  3  6"
      ]
     },
     "metadata": {},
     "output_type": "display_data"
    },
    {
     "name": "stdout",
     "output_type": "stream",
     "text": [
      "\n"
     ]
    },
    {
     "data": {
      "text/html": [
       "<div>\n",
       "<style scoped>\n",
       "    .dataframe tbody tr th:only-of-type {\n",
       "        vertical-align: middle;\n",
       "    }\n",
       "\n",
       "    .dataframe tbody tr th {\n",
       "        vertical-align: top;\n",
       "    }\n",
       "\n",
       "    .dataframe thead th {\n",
       "        text-align: right;\n",
       "    }\n",
       "</style>\n",
       "<table border=\"1\" class=\"dataframe\">\n",
       "  <thead>\n",
       "    <tr style=\"text-align: right;\">\n",
       "      <th></th>\n",
       "      <th>A</th>\n",
       "      <th>C</th>\n",
       "    </tr>\n",
       "  </thead>\n",
       "  <tbody>\n",
       "    <tr>\n",
       "      <th>0</th>\n",
       "      <td>7</td>\n",
       "      <td>10</td>\n",
       "    </tr>\n",
       "    <tr>\n",
       "      <th>1</th>\n",
       "      <td>8</td>\n",
       "      <td>11</td>\n",
       "    </tr>\n",
       "    <tr>\n",
       "      <th>2</th>\n",
       "      <td>9</td>\n",
       "      <td>12</td>\n",
       "    </tr>\n",
       "  </tbody>\n",
       "</table>\n",
       "</div>"
      ],
      "text/plain": [
       "   A   C\n",
       "0  7  10\n",
       "1  8  11\n",
       "2  9  12"
      ]
     },
     "metadata": {},
     "output_type": "display_data"
    },
    {
     "name": "stdout",
     "output_type": "stream",
     "text": [
      "\n",
      "***********\n"
     ]
    },
    {
     "data": {
      "text/html": [
       "<div>\n",
       "<style scoped>\n",
       "    .dataframe tbody tr th:only-of-type {\n",
       "        vertical-align: middle;\n",
       "    }\n",
       "\n",
       "    .dataframe tbody tr th {\n",
       "        vertical-align: top;\n",
       "    }\n",
       "\n",
       "    .dataframe thead th {\n",
       "        text-align: right;\n",
       "    }\n",
       "</style>\n",
       "<table border=\"1\" class=\"dataframe\">\n",
       "  <thead>\n",
       "    <tr style=\"text-align: right;\">\n",
       "      <th></th>\n",
       "      <th>A</th>\n",
       "      <th>B</th>\n",
       "      <th>A</th>\n",
       "      <th>C</th>\n",
       "    </tr>\n",
       "  </thead>\n",
       "  <tbody>\n",
       "    <tr>\n",
       "      <th>0</th>\n",
       "      <td>1</td>\n",
       "      <td>4</td>\n",
       "      <td>7</td>\n",
       "      <td>10</td>\n",
       "    </tr>\n",
       "    <tr>\n",
       "      <th>1</th>\n",
       "      <td>2</td>\n",
       "      <td>5</td>\n",
       "      <td>8</td>\n",
       "      <td>11</td>\n",
       "    </tr>\n",
       "    <tr>\n",
       "      <th>2</th>\n",
       "      <td>3</td>\n",
       "      <td>6</td>\n",
       "      <td>9</td>\n",
       "      <td>12</td>\n",
       "    </tr>\n",
       "  </tbody>\n",
       "</table>\n",
       "</div>"
      ],
      "text/plain": [
       "   A  B  A   C\n",
       "0  1  4  7  10\n",
       "1  2  5  8  11\n",
       "2  3  6  9  12"
      ]
     },
     "metadata": {},
     "output_type": "display_data"
    },
    {
     "name": "stdout",
     "output_type": "stream",
     "text": [
      "\n",
      "len(resultDF.columns) 4\n"
     ]
    },
    {
     "data": {
      "text/plain": [
       "array([False, False,  True, False])"
      ]
     },
     "execution_count": 20,
     "metadata": {},
     "output_type": "execute_result"
    }
   ],
   "source": [
    "# we count  using  axis = 1\n",
    "\n",
    "# Creating two sample DataFrames\n",
    "df1 = pd.DataFrame({'A': [1, 2, 3], 'B': [4, 5, 6]})\n",
    "df2 = pd.DataFrame({'A': [7, 8, 9], 'C': [10, 11, 12]})\n",
    "display(df1)\n",
    "print()\n",
    "display(df2)\n",
    "\n",
    "# Concatenating the DataFrames side by side\n",
    "print(\"\\n***********\")\n",
    "resultDF = pd.concat([df1, df2], axis=1)\n",
    "\n",
    "display( resultDF )\n",
    "print()\n",
    "print(f'len(resultDF.columns) {len(resultDF.columns)}')\n",
    "resultDF.columns.duplicated()"
   ]
  },
  {
   "cell_type": "code",
   "execution_count": 21,
   "id": "034d9c14-083c-4aa4-9b70-4ccf99fc59d1",
   "metadata": {},
   "outputs": [
    {
     "name": "stdout",
     "output_type": "stream",
     "text": [
      "\n",
      "***********\n"
     ]
    },
    {
     "data": {
      "text/html": [
       "<div>\n",
       "<style scoped>\n",
       "    .dataframe tbody tr th:only-of-type {\n",
       "        vertical-align: middle;\n",
       "    }\n",
       "\n",
       "    .dataframe tbody tr th {\n",
       "        vertical-align: top;\n",
       "    }\n",
       "\n",
       "    .dataframe thead th {\n",
       "        text-align: right;\n",
       "    }\n",
       "</style>\n",
       "<table border=\"1\" class=\"dataframe\">\n",
       "  <thead>\n",
       "    <tr style=\"text-align: right;\">\n",
       "      <th></th>\n",
       "      <th>A</th>\n",
       "      <th>B</th>\n",
       "      <th>C</th>\n",
       "    </tr>\n",
       "  </thead>\n",
       "  <tbody>\n",
       "    <tr>\n",
       "      <th>0</th>\n",
       "      <td>1</td>\n",
       "      <td>4.0</td>\n",
       "      <td>NaN</td>\n",
       "    </tr>\n",
       "    <tr>\n",
       "      <th>1</th>\n",
       "      <td>2</td>\n",
       "      <td>5.0</td>\n",
       "      <td>NaN</td>\n",
       "    </tr>\n",
       "    <tr>\n",
       "      <th>2</th>\n",
       "      <td>3</td>\n",
       "      <td>6.0</td>\n",
       "      <td>NaN</td>\n",
       "    </tr>\n",
       "    <tr>\n",
       "      <th>0</th>\n",
       "      <td>7</td>\n",
       "      <td>NaN</td>\n",
       "      <td>10.0</td>\n",
       "    </tr>\n",
       "    <tr>\n",
       "      <th>1</th>\n",
       "      <td>8</td>\n",
       "      <td>NaN</td>\n",
       "      <td>11.0</td>\n",
       "    </tr>\n",
       "    <tr>\n",
       "      <th>2</th>\n",
       "      <td>9</td>\n",
       "      <td>NaN</td>\n",
       "      <td>12.0</td>\n",
       "    </tr>\n",
       "  </tbody>\n",
       "</table>\n",
       "</div>"
      ],
      "text/plain": [
       "   A    B     C\n",
       "0  1  4.0   NaN\n",
       "1  2  5.0   NaN\n",
       "2  3  6.0   NaN\n",
       "0  7  NaN  10.0\n",
       "1  8  NaN  11.0\n",
       "2  9  NaN  12.0"
      ]
     },
     "metadata": {},
     "output_type": "display_data"
    },
    {
     "name": "stdout",
     "output_type": "stream",
     "text": [
      "\n",
      "len(resultDF.columns) 3\n"
     ]
    },
    {
     "data": {
      "text/plain": [
       "array([False, False, False])"
      ]
     },
     "execution_count": 21,
     "metadata": {},
     "output_type": "execute_result"
    }
   ],
   "source": [
    "# we concat colData using default axis = 0\n",
    "\n",
    "\n",
    "# Concatenating the DataFrames on top of each othger\n",
    "print(\"\\n***********\")\n",
    "resultDF = pd.concat([df1, df2], axis=0)\n",
    "\n",
    "display( resultDF )\n",
    "print()\n",
    "print(f'len(resultDF.columns) {len(resultDF.columns)}')\n",
    "resultDF.columns.duplicated()"
   ]
  },
  {
   "cell_type": "markdown",
   "id": "b05fc480-94f9-4dea-9870-a34670759f4e",
   "metadata": {},
   "source": [
    "# could there be white space in sample ids\n",
    "No!"
   ]
  },
  {
   "cell_type": "code",
   "execution_count": 22,
   "id": "03bb76d8-6153-4f52-8571-04ea230a76f9",
   "metadata": {},
   "outputs": [
    {
     "name": "stdout",
     "output_type": "stream",
     "text": [
      "len(countCols) 26337 len(countCols.unique()) : 26337\n",
      "len(stripedCountCols) 26337\n",
      "len(stripedCountCols.unique()) : 26337\n"
     ]
    }
   ],
   "source": [
    "countCols = normalizedGroupbyHDF5_DF.columns\n",
    "print(f'len(countCols) {len(countCols)} len(countCols.unique()) : {len(countCols.unique())}' )\n",
    "\n",
    "stripedCountCols = list()\n",
    "for c in countCols:\n",
    "    stripedCountCols.append( c.strip() )\n",
    "\n",
    "print(f'len(stripedCountCols) {len(stripedCountCols)}')\n",
    "print(f'len(stripedCountCols.unique()) : {len(set(stripedCountCols))}' )"
   ]
  },
  {
   "cell_type": "markdown",
   "id": "51288e14-1719-4aab-855d-46c012d1b619",
   "metadata": {},
   "source": [
    "# Does dup sample id's change the filtered count data?"
   ]
  },
  {
   "cell_type": "code",
   "execution_count": 23,
   "id": "41da50c4-c417-4e7e-93cc-fb353c8be1aa",
   "metadata": {},
   "outputs": [
    {
     "data": {
      "text/html": [
       "<div>\n",
       "<style scoped>\n",
       "    .dataframe tbody tr th:only-of-type {\n",
       "        vertical-align: middle;\n",
       "    }\n",
       "\n",
       "    .dataframe tbody tr th {\n",
       "        vertical-align: top;\n",
       "    }\n",
       "\n",
       "    .dataframe thead th {\n",
       "        text-align: right;\n",
       "    }\n",
       "</style>\n",
       "<table border=\"1\" class=\"dataframe\">\n",
       "  <thead>\n",
       "    <tr style=\"text-align: right;\">\n",
       "      <th></th>\n",
       "      <th>A</th>\n",
       "      <th>B</th>\n",
       "    </tr>\n",
       "  </thead>\n",
       "  <tbody>\n",
       "    <tr>\n",
       "      <th>0</th>\n",
       "      <td>1</td>\n",
       "      <td>4</td>\n",
       "    </tr>\n",
       "    <tr>\n",
       "      <th>1</th>\n",
       "      <td>2</td>\n",
       "      <td>5</td>\n",
       "    </tr>\n",
       "    <tr>\n",
       "      <th>2</th>\n",
       "      <td>3</td>\n",
       "      <td>6</td>\n",
       "    </tr>\n",
       "  </tbody>\n",
       "</table>\n",
       "</div>"
      ],
      "text/plain": [
       "   A  B\n",
       "0  1  4\n",
       "1  2  5\n",
       "2  3  6"
      ]
     },
     "metadata": {},
     "output_type": "display_data"
    },
    {
     "name": "stdout",
     "output_type": "stream",
     "text": [
      "\n"
     ]
    },
    {
     "data": {
      "text/html": [
       "<div>\n",
       "<style scoped>\n",
       "    .dataframe tbody tr th:only-of-type {\n",
       "        vertical-align: middle;\n",
       "    }\n",
       "\n",
       "    .dataframe tbody tr th {\n",
       "        vertical-align: top;\n",
       "    }\n",
       "\n",
       "    .dataframe thead th {\n",
       "        text-align: right;\n",
       "    }\n",
       "</style>\n",
       "<table border=\"1\" class=\"dataframe\">\n",
       "  <thead>\n",
       "    <tr style=\"text-align: right;\">\n",
       "      <th></th>\n",
       "      <th>A</th>\n",
       "      <th>C</th>\n",
       "    </tr>\n",
       "  </thead>\n",
       "  <tbody>\n",
       "    <tr>\n",
       "      <th>0</th>\n",
       "      <td>1</td>\n",
       "      <td>10</td>\n",
       "    </tr>\n",
       "    <tr>\n",
       "      <th>1</th>\n",
       "      <td>2</td>\n",
       "      <td>11</td>\n",
       "    </tr>\n",
       "    <tr>\n",
       "      <th>2</th>\n",
       "      <td>3</td>\n",
       "      <td>12</td>\n",
       "    </tr>\n",
       "  </tbody>\n",
       "</table>\n",
       "</div>"
      ],
      "text/plain": [
       "   A   C\n",
       "0  1  10\n",
       "1  2  11\n",
       "2  3  12"
      ]
     },
     "metadata": {},
     "output_type": "display_data"
    },
    {
     "name": "stdout",
     "output_type": "stream",
     "text": [
      "\n",
      "***********\n"
     ]
    },
    {
     "data": {
      "text/html": [
       "<div>\n",
       "<style scoped>\n",
       "    .dataframe tbody tr th:only-of-type {\n",
       "        vertical-align: middle;\n",
       "    }\n",
       "\n",
       "    .dataframe tbody tr th {\n",
       "        vertical-align: top;\n",
       "    }\n",
       "\n",
       "    .dataframe thead th {\n",
       "        text-align: right;\n",
       "    }\n",
       "</style>\n",
       "<table border=\"1\" class=\"dataframe\">\n",
       "  <thead>\n",
       "    <tr style=\"text-align: right;\">\n",
       "      <th></th>\n",
       "      <th>A</th>\n",
       "      <th>B</th>\n",
       "      <th>A</th>\n",
       "      <th>C</th>\n",
       "    </tr>\n",
       "  </thead>\n",
       "  <tbody>\n",
       "    <tr>\n",
       "      <th>0</th>\n",
       "      <td>1</td>\n",
       "      <td>4</td>\n",
       "      <td>1</td>\n",
       "      <td>10</td>\n",
       "    </tr>\n",
       "    <tr>\n",
       "      <th>1</th>\n",
       "      <td>2</td>\n",
       "      <td>5</td>\n",
       "      <td>2</td>\n",
       "      <td>11</td>\n",
       "    </tr>\n",
       "    <tr>\n",
       "      <th>2</th>\n",
       "      <td>3</td>\n",
       "      <td>6</td>\n",
       "      <td>3</td>\n",
       "      <td>12</td>\n",
       "    </tr>\n",
       "  </tbody>\n",
       "</table>\n",
       "</div>"
      ],
      "text/plain": [
       "   A  B  A   C\n",
       "0  1  4  1  10\n",
       "1  2  5  2  11\n",
       "2  3  6  3  12"
      ]
     },
     "metadata": {},
     "output_type": "display_data"
    },
    {
     "name": "stdout",
     "output_type": "stream",
     "text": [
      "\n",
      "*****\n"
     ]
    },
    {
     "data": {
      "text/html": [
       "<div>\n",
       "<style scoped>\n",
       "    .dataframe tbody tr th:only-of-type {\n",
       "        vertical-align: middle;\n",
       "    }\n",
       "\n",
       "    .dataframe tbody tr th {\n",
       "        vertical-align: top;\n",
       "    }\n",
       "\n",
       "    .dataframe thead th {\n",
       "        text-align: right;\n",
       "    }\n",
       "</style>\n",
       "<table border=\"1\" class=\"dataframe\">\n",
       "  <thead>\n",
       "    <tr style=\"text-align: right;\">\n",
       "      <th></th>\n",
       "      <th>A</th>\n",
       "      <th>A</th>\n",
       "    </tr>\n",
       "  </thead>\n",
       "  <tbody>\n",
       "    <tr>\n",
       "      <th>0</th>\n",
       "      <td>1</td>\n",
       "      <td>1</td>\n",
       "    </tr>\n",
       "    <tr>\n",
       "      <th>1</th>\n",
       "      <td>2</td>\n",
       "      <td>2</td>\n",
       "    </tr>\n",
       "    <tr>\n",
       "      <th>2</th>\n",
       "      <td>3</td>\n",
       "      <td>3</td>\n",
       "    </tr>\n",
       "  </tbody>\n",
       "</table>\n",
       "</div>"
      ],
      "text/plain": [
       "   A  A\n",
       "0  1  1\n",
       "1  2  2\n",
       "2  3  3"
      ]
     },
     "metadata": {},
     "output_type": "display_data"
    }
   ],
   "source": [
    "def aedwip():\n",
    "    # Creating two sample DataFrames\n",
    "    df1 = pd.DataFrame({'A': [1, 2, 3], 'B': [4, 5, 6]})\n",
    "    df2 = pd.DataFrame({'A': [1, 2, 3], 'C': [10, 11, 12]})\n",
    "    display(df1)\n",
    "    print()\n",
    "    display(df2)\n",
    "    \n",
    "    # Concatenating the DataFrames side by side\n",
    "    print(\"\\n***********\")\n",
    "    resultDF = pd.concat([df1, df2], axis=1)\n",
    "    display(resultDF)\n",
    "\n",
    "    print(\"\\n*****\")\n",
    "    df = resultDF.loc[:, \"A\"]\n",
    "    display(df)\n",
    "\n",
    "aedwip()"
   ]
  },
  {
   "cell_type": "markdown",
   "id": "5dbc7e2d-233e-417b-9533-4ba30f517378",
   "metadata": {},
   "source": [
    "# do all the count sample ids have col data?\n",
    "## **<span style=\"color:red;background-color:yellow\">NO!</span>**\n",
    "\n",
    "4154 count sample ids do not have col data!"
   ]
  },
  {
   "cell_type": "code",
   "execution_count": 31,
   "id": "e343c565-fbb8-4a52-a3a8-28958136ad49",
   "metadata": {},
   "outputs": [
    {
     "name": "stdout",
     "output_type": "stream",
     "text": [
      "len(countSampleIds) : 26337\n",
      "len(colDataSampleIds) : 26337\n",
      "\n",
      "are their sample ids in the count data set that do not have colData?\n",
      "YES!!!!\n",
      "len( countSampleIdSet - colDataSampleIdSet) : 4154\n",
      "\n",
      "are the col data sample ids that do not have cooresponding count data?\n",
      "no\n",
      "len(colDataSampleIdSet - countSampleIdSet) : 0\n"
     ]
    }
   ],
   "source": [
    "def findMissingColDataSampleIds():\n",
    "    '''\n",
    "    make sure all the count data has colData\n",
    "    '''\n",
    "    countSampleIds = normalizedGroupbyHDF5_DF.columns\n",
    "    print(f'len(countSampleIds) : {len(countSampleIds)}')\n",
    "    \n",
    "    colDataSampleIds = colDataDF.loc[:, \"sample_id\"]\n",
    "    print(f'len(colDataSampleIds) : {len(colDataSampleIds)}')\n",
    "\n",
    "    countSampleIdSet = set(countSampleIds)\n",
    "    colDataSampleIdSet = set(colDataSampleIds)\n",
    "\n",
    "    print()\n",
    "    print( 'are their sample ids in the count data set that do not have colData?')\n",
    "    print('YES!!!!')\n",
    "    print(f'len( countSampleIdSet - colDataSampleIdSet) : {len( countSampleIdSet - colDataSampleIdSet)}' )\n",
    "\n",
    "    print('\\nare the col data sample ids that do not have cooresponding count data?')\n",
    "    print('no')\n",
    "    print(f'len(colDataSampleIdSet - countSampleIdSet) : {len( colDataSampleIdSet - countSampleIdSet)}' )\n",
    "\n",
    "    missingSampleIds = countSampleIdSet - colDataSampleIdSet\n",
    "\n",
    "    return missingSampleIds\n",
    "\n",
    "\n",
    "missingColDataSampleIds = findMissingColDataSampleIds()"
   ]
  },
  {
   "cell_type": "markdown",
   "id": "138574b6-7b2e-4564-830a-a778bea48394",
   "metadata": {},
   "source": [
    "### Check was there a bug in concat? \n",
    "check to see if train, val, and test colData have missing sample ids\n",
    "### **<span style=\"color:red;background-color:yellow\">NO!</span>**"
   ]
  },
  {
   "cell_type": "code",
   "execution_count": 39,
   "id": "89fbeaf3-a7fa-4450-9e09-e2dfa0081e95",
   "metadata": {},
   "outputs": [
    {
     "name": "stdout",
     "output_type": "stream",
     "text": [
      "\n",
      "colData_uber 4154\n",
      "colData_uber 22183\n",
      "\n",
      "colData_train 4154\n",
      "colData_train 15801\n",
      "\n",
      "colData_val 4154\n",
      "colData_val 5268\n",
      "\n",
      "colData_test 4154\n",
      "colData_test 5268\n"
     ]
    }
   ],
   "source": [
    "colDataSampleIdDict = {\n",
    "    'colData_uber':  colDataDF.loc[:, \"sample_id\"],\n",
    "    'colData_train': trainColDataDF.loc[:, \"sample_id\"],\n",
    "    'colData_val':   valColDataDF.loc[:, \"sample_id\"],\n",
    "    'colData_test':  testColDataDF.loc[:, \"sample_id\"],\n",
    "}\n",
    "\n",
    "for datasetName,sampleId in colDataSampleIdDict.items():\n",
    "    print()\n",
    "    print(f'{datasetName} {len(missingColDataSampleIds - set(sampleId))}' )\n",
    "    print(f'{datasetName} {len( set(sampleId) - missingColDataSampleIds)}' )\n"
   ]
  },
  {
   "cell_type": "markdown",
   "id": "af28ecbb-4909-4585-aa9a-813bdc639bed",
   "metadata": {},
   "source": [
    "# Do all the colData data sets have count data?"
   ]
  },
  {
   "cell_type": "code",
   "execution_count": null,
   "id": "82792495-33d7-4c1f-b4c8-464defe1f126",
   "metadata": {},
   "outputs": [],
   "source": []
  }
 ],
 "metadata": {
  "kernelspec": {
   "display_name": "Python 3 (ipykernel)",
   "language": "python",
   "name": "python3"
  },
  "language_info": {
   "codemirror_mode": {
    "name": "ipython",
    "version": 3
   },
   "file_extension": ".py",
   "mimetype": "text/x-python",
   "name": "python",
   "nbconvert_exporter": "python",
   "pygments_lexer": "ipython3",
   "version": "3.11.4"
  }
 },
 "nbformat": 4,
 "nbformat_minor": 5
}
