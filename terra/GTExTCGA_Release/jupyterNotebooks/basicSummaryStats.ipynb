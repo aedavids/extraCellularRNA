{
 "cells": [
  {
   "cell_type": "markdown",
   "id": "99fb913c-6bc5-4c07-898c-e723d102beca",
   "metadata": {},
   "source": [
    "# Basic Summary Stats\n",
    "Andrew E. Davidson  \n",
    "aedavids@ucsc.edu\n",
    "\n",
    "Copyright (c) 2020-2023, Regents of the University of California All rights reserved. https://polyformproject.org/licenses/noncommercial/1.0.0\n",
    "\n",
    "General Data set stats"
   ]
  },
  {
   "cell_type": "code",
   "execution_count": 1,
   "id": "1fe78e34-841c-443f-867d-44f6747fd7d1",
   "metadata": {},
   "outputs": [
    {
     "name": "stdout",
     "output_type": "stream",
     "text": [
      "outDir:\n",
      "/private/home/aedavids/extraCellularRNA/terra/jupyterNotebooks/April2024Release.out\n"
     ]
    },
    {
     "name": "stderr",
     "output_type": "stream",
     "text": [
      "/data/tmp/ipykernel_3083445/4036185250.py:3: DeprecationWarning: \n",
      "Pyarrow will become a required dependency of pandas in the next major release of pandas (pandas 3.0),\n",
      "(to allow more performant data types, such as the Arrow string type, and better interoperability with other libraries)\n",
      "but was not found to be installed on your system.\n",
      "If this would cause problems for you,\n",
      "please provide us feedback at https://github.com/pandas-dev/pandas/issues/54466\n",
      "        \n",
      "  import pandas as pd\n"
     ]
    }
   ],
   "source": [
    "import ipynbname\n",
    "from IPython.display import display\n",
    "import pandas as pd\n",
    "# display all rows\n",
    "pd.set_option('display.max_rows', None)\n",
    "\n",
    "# https://joelmccune.com/pandas-dataframe-to-markdown/\n",
    "from pandas.io.clipboards import to_clipboard\n",
    "import os\n",
    "\n",
    "notebookName = ipynbname.name()\n",
    "notebookPath = ipynbname.path()\n",
    "notebookDir = os.path.dirname(notebookPath)\n",
    "\n",
    "outDir = f'{notebookDir}/{notebookName}.out'\n",
    "os.makedirs(outDir, exist_ok=True)\n",
    "print(f'outDir:\\n{outDir}')"
   ]
  },
  {
   "cell_type": "markdown",
   "id": "ac2d2f01-3245-402b-9216-b936a6d74aad",
   "metadata": {},
   "source": [
    "# GTEx"
   ]
  },
  {
   "cell_type": "code",
   "execution_count": 2,
   "id": "fc88ec9c-7740-4c7f-a24e-b172cc498b6c",
   "metadata": {},
   "outputs": [],
   "source": [
    "GTExDataDir = '/private/groups/kimlab/GTEx'\n",
    "colDataPathsDict = { f:f'{GTExDataDir}/GTEx{f}ColData.csv' for f in ['Train', 'Validate', 'Test'] }\n",
    "colDataDFDict =  { key:pd.read_csv(path)  for (key, path) in colDataPathsDict.items() }\n",
    "\n",
    "# create factors\n",
    "for k,df in colDataDFDict.items():\n",
    "    df['tissue_id'] = df['tissue_id'].astype('category')\n",
    "    df['tissue_site_detail'] = df['tissue_site_detail'].astype('category')\n",
    "    df['sex'] = df['sex'].astype('category')\n"
   ]
  },
  {
   "cell_type": "code",
   "execution_count": 3,
   "id": "217d3ff3-0590-46f5-8e6b-58f73cf9c899",
   "metadata": {},
   "outputs": [
    {
     "name": "stdout",
     "output_type": "stream",
     "text": [
      "(3471, 6)\n"
     ]
    },
    {
     "data": {
      "text/html": [
       "<div>\n",
       "<style scoped>\n",
       "    .dataframe tbody tr th:only-of-type {\n",
       "        vertical-align: middle;\n",
       "    }\n",
       "\n",
       "    .dataframe tbody tr th {\n",
       "        vertical-align: top;\n",
       "    }\n",
       "\n",
       "    .dataframe thead th {\n",
       "        text-align: right;\n",
       "    }\n",
       "</style>\n",
       "<table border=\"1\" class=\"dataframe\">\n",
       "  <thead>\n",
       "    <tr style=\"text-align: right;\">\n",
       "      <th></th>\n",
       "      <th>sample_id</th>\n",
       "      <th>participant_id</th>\n",
       "      <th>tissue_id</th>\n",
       "      <th>tissue_site_detail</th>\n",
       "      <th>sex</th>\n",
       "      <th>age</th>\n",
       "    </tr>\n",
       "  </thead>\n",
       "  <tbody>\n",
       "    <tr>\n",
       "      <th>0</th>\n",
       "      <td>GTEX-1117F-0226-SM-5GZZ7</td>\n",
       "      <td>GTEX-1117F</td>\n",
       "      <td>Adipose_Subcutaneous</td>\n",
       "      <td>Adipose - Subcutaneous</td>\n",
       "      <td>Female</td>\n",
       "      <td>66</td>\n",
       "    </tr>\n",
       "    <tr>\n",
       "      <th>1</th>\n",
       "      <td>GTEX-1117F-0526-SM-5EGHJ</td>\n",
       "      <td>GTEX-1117F</td>\n",
       "      <td>Artery_Tibial</td>\n",
       "      <td>Artery - Tibial</td>\n",
       "      <td>Female</td>\n",
       "      <td>66</td>\n",
       "    </tr>\n",
       "    <tr>\n",
       "      <th>2</th>\n",
       "      <td>GTEX-1117F-0626-SM-5N9CS</td>\n",
       "      <td>GTEX-1117F</td>\n",
       "      <td>Artery_Coronary</td>\n",
       "      <td>Artery - Coronary</td>\n",
       "      <td>Female</td>\n",
       "      <td>66</td>\n",
       "    </tr>\n",
       "    <tr>\n",
       "      <th>3</th>\n",
       "      <td>GTEX-1117F-1326-SM-5EGHH</td>\n",
       "      <td>GTEX-1117F</td>\n",
       "      <td>Adipose_Visceral_Omentum</td>\n",
       "      <td>Adipose - Visceral (Omentum)</td>\n",
       "      <td>Female</td>\n",
       "      <td>66</td>\n",
       "    </tr>\n",
       "    <tr>\n",
       "      <th>4</th>\n",
       "      <td>GTEX-1117F-2526-SM-5GZY6</td>\n",
       "      <td>GTEX-1117F</td>\n",
       "      <td>Vagina</td>\n",
       "      <td>Vagina</td>\n",
       "      <td>Female</td>\n",
       "      <td>66</td>\n",
       "    </tr>\n",
       "  </tbody>\n",
       "</table>\n",
       "</div>"
      ],
      "text/plain": [
       "                  sample_id participant_id                 tissue_id  \\\n",
       "0  GTEX-1117F-0226-SM-5GZZ7     GTEX-1117F      Adipose_Subcutaneous   \n",
       "1  GTEX-1117F-0526-SM-5EGHJ     GTEX-1117F             Artery_Tibial   \n",
       "2  GTEX-1117F-0626-SM-5N9CS     GTEX-1117F           Artery_Coronary   \n",
       "3  GTEX-1117F-1326-SM-5EGHH     GTEX-1117F  Adipose_Visceral_Omentum   \n",
       "4  GTEX-1117F-2526-SM-5GZY6     GTEX-1117F                    Vagina   \n",
       "\n",
       "             tissue_site_detail     sex  age  \n",
       "0        Adipose - Subcutaneous  Female   66  \n",
       "1               Artery - Tibial  Female   66  \n",
       "2             Artery - Coronary  Female   66  \n",
       "3  Adipose - Visceral (Omentum)  Female   66  \n",
       "4                        Vagina  Female   66  "
      ]
     },
     "metadata": {},
     "output_type": "display_data"
    }
   ],
   "source": [
    "# xDF = pd.read_csv( colDataPathsDict['Test'] )\n",
    "xDF = colDataDFDict['Test']\n",
    "print(xDF.shape)\n",
    "display( xDF.head() )"
   ]
  },
  {
   "cell_type": "code",
   "execution_count": 4,
   "id": "9f1729bf-ddb5-44f4-96f9-cf989d354299",
   "metadata": {},
   "outputs": [
    {
     "name": "stdout",
     "output_type": "stream",
     "text": [
      "<class 'pandas.core.frame.DataFrame'>\n",
      "RangeIndex: 3471 entries, 0 to 3470\n",
      "Data columns (total 6 columns):\n",
      " #   Column              Non-Null Count  Dtype   \n",
      "---  ------              --------------  -----   \n",
      " 0   sample_id           3471 non-null   object  \n",
      " 1   participant_id      3471 non-null   object  \n",
      " 2   tissue_id           3471 non-null   category\n",
      " 3   tissue_site_detail  3471 non-null   category\n",
      " 4   sex                 3471 non-null   category\n",
      " 5   age                 3471 non-null   int64   \n",
      "dtypes: category(3), int64(1), object(2)\n",
      "memory usage: 94.6+ KB\n"
     ]
    }
   ],
   "source": [
    "# yDF = xDF.groupby(by=['sample_id']).count()\n",
    "# print(yDF.shape)\n",
    "# display(yDF.head())\n",
    "\n",
    "xDF.info()"
   ]
  },
  {
   "cell_type": "code",
   "execution_count": 5,
   "id": "45cd3d22-0437-4d7e-a651-12471f111976",
   "metadata": {},
   "outputs": [],
   "source": [
    "# is issue_id\t== tissue_site_detail\n",
    "# isEqual = xDF['tissue_id'] == xDF['tissue_site_detail']\n",
    "# print(sum(isEqual))\n",
    "# print(xDF.shape)"
   ]
  },
  {
   "cell_type": "code",
   "execution_count": 6,
   "id": "f145091f-8e71-4e5c-811e-ddcb1c0a9706",
   "metadata": {},
   "outputs": [],
   "source": [
    "# xDF.groupby(by=['tissue_id', 'tissue_site_detail', 'sex']).count()"
   ]
  },
  {
   "cell_type": "code",
   "execution_count": 7,
   "id": "f8ae9793-a317-48f7-ae9b-efde8d1b65bd",
   "metadata": {},
   "outputs": [
    {
     "data": {
      "text/html": [
       "<div>\n",
       "<style scoped>\n",
       "    .dataframe tbody tr th:only-of-type {\n",
       "        vertical-align: middle;\n",
       "    }\n",
       "\n",
       "    .dataframe tbody tr th {\n",
       "        vertical-align: top;\n",
       "    }\n",
       "\n",
       "    .dataframe thead th {\n",
       "        text-align: right;\n",
       "    }\n",
       "</style>\n",
       "<table border=\"1\" class=\"dataframe\">\n",
       "  <thead>\n",
       "    <tr style=\"text-align: right;\">\n",
       "      <th></th>\n",
       "      <th></th>\n",
       "      <th></th>\n",
       "      <th>sample_id</th>\n",
       "    </tr>\n",
       "    <tr>\n",
       "      <th>tissue_id</th>\n",
       "      <th>tissue_site_detail</th>\n",
       "      <th>sex</th>\n",
       "      <th></th>\n",
       "    </tr>\n",
       "  </thead>\n",
       "  <tbody>\n",
       "    <tr>\n",
       "      <th rowspan=\"2\" valign=\"top\">Adipose_Subcutaneous</th>\n",
       "      <th rowspan=\"2\" valign=\"top\">Adipose - Subcutaneous</th>\n",
       "      <th>Female</th>\n",
       "      <td>40</td>\n",
       "    </tr>\n",
       "    <tr>\n",
       "      <th>Male</th>\n",
       "      <td>97</td>\n",
       "    </tr>\n",
       "    <tr>\n",
       "      <th rowspan=\"2\" valign=\"top\">Adipose_Visceral_Omentum</th>\n",
       "      <th rowspan=\"2\" valign=\"top\">Adipose - Visceral (Omentum)</th>\n",
       "      <th>Female</th>\n",
       "      <td>37</td>\n",
       "    </tr>\n",
       "    <tr>\n",
       "      <th>Male</th>\n",
       "      <td>78</td>\n",
       "    </tr>\n",
       "    <tr>\n",
       "      <th rowspan=\"2\" valign=\"top\">Adrenal_Gland</th>\n",
       "      <th rowspan=\"2\" valign=\"top\">Adrenal Gland</th>\n",
       "      <th>Female</th>\n",
       "      <td>24</td>\n",
       "    </tr>\n",
       "    <tr>\n",
       "      <th>Male</th>\n",
       "      <td>29</td>\n",
       "    </tr>\n",
       "    <tr>\n",
       "      <th rowspan=\"2\" valign=\"top\">Artery_Aorta</th>\n",
       "      <th rowspan=\"2\" valign=\"top\">Artery - Aorta</th>\n",
       "      <th>Female</th>\n",
       "      <td>30</td>\n",
       "    </tr>\n",
       "    <tr>\n",
       "      <th>Male</th>\n",
       "      <td>51</td>\n",
       "    </tr>\n",
       "    <tr>\n",
       "      <th rowspan=\"2\" valign=\"top\">Artery_Coronary</th>\n",
       "      <th rowspan=\"2\" valign=\"top\">Artery - Coronary</th>\n",
       "      <th>Female</th>\n",
       "      <td>18</td>\n",
       "    </tr>\n",
       "    <tr>\n",
       "      <th>Male</th>\n",
       "      <td>31</td>\n",
       "    </tr>\n",
       "  </tbody>\n",
       "</table>\n",
       "</div>"
      ],
      "text/plain": [
       "                                                              sample_id\n",
       "tissue_id                tissue_site_detail           sex              \n",
       "Adipose_Subcutaneous     Adipose - Subcutaneous       Female         40\n",
       "                                                      Male           97\n",
       "Adipose_Visceral_Omentum Adipose - Visceral (Omentum) Female         37\n",
       "                                                      Male           78\n",
       "Adrenal_Gland            Adrenal Gland                Female         24\n",
       "                                                      Male           29\n",
       "Artery_Aorta             Artery - Aorta               Female         30\n",
       "                                                      Male           51\n",
       "Artery_Coronary          Artery - Coronary            Female         18\n",
       "                                                      Male           31"
      ]
     },
     "execution_count": 7,
     "metadata": {},
     "output_type": "execute_result"
    }
   ],
   "source": [
    "cols = ~xDF.columns.isin( [\t'participant_id',\t'age'] ) # 'sample_id',\n",
    "xDF.loc[:, cols].groupby(by=['tissue_id', 'tissue_site_detail', 'sex'], observed=True).count().head(n=10) "
   ]
  },
  {
   "cell_type": "code",
   "execution_count": 8,
   "id": "59c3d6ca-c3de-457c-98fb-c51dd67c755a",
   "metadata": {},
   "outputs": [],
   "source": [
    "# xDF['tissue_id'] = xDF['tissue_id'].astype('category')\n",
    "# display( xDF.loc[:, cols].groupby(by=['tissue_id', 'tissue_site_detail', 'sex'], observed=True).count().head(n=10) )"
   ]
  },
  {
   "cell_type": "code",
   "execution_count": 9,
   "id": "8147c00b-522e-43d1-bd70-de479105107d",
   "metadata": {},
   "outputs": [],
   "source": [
    "# xDF.info()"
   ]
  },
  {
   "cell_type": "code",
   "execution_count": 10,
   "id": "e82103d0-0070-4ced-b7d1-20c8554ce4ec",
   "metadata": {},
   "outputs": [],
   "source": [
    "# xDF['sex'] = xDF['sex'].astype('category')\n",
    "# display( xDF.loc[:, cols].groupby(by=['tissue_id', 'tissue_site_detail', 'sex'], observed=True).count().head(n=10) )"
   ]
  },
  {
   "cell_type": "code",
   "execution_count": 11,
   "id": "72f57f6a-9df5-45dc-b757-1ae893c8e8a1",
   "metadata": {},
   "outputs": [],
   "source": [
    "# xDF['tissue_site_detail'] = xDF['tissue_site_detail'].astype('category')\n",
    "# display( xDF.loc[:, cols].groupby(by=['tissue_id', 'tissue_site_detail', 'sex'], observed=True).count().head(n=10) )"
   ]
  },
  {
   "cell_type": "code",
   "execution_count": null,
   "id": "4c9007b2-39f6-4991-aa46-8d2c5744f650",
   "metadata": {},
   "outputs": [],
   "source": []
  }
 ],
 "metadata": {
  "kernelspec": {
   "display_name": "Python 3 (ipykernel)",
   "language": "python",
   "name": "python3"
  },
  "language_info": {
   "codemirror_mode": {
    "name": "ipython",
    "version": 3
   },
   "file_extension": ".py",
   "mimetype": "text/x-python",
   "name": "python",
   "nbconvert_exporter": "python",
   "pygments_lexer": "ipython3",
   "version": "3.11.4"
  }
 },
 "nbformat": 4,
 "nbformat_minor": 5
}
