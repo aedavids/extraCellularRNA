{
 "cells": [
  {
   "cell_type": "markdown",
   "id": "de684ae0-26e4-4eb9-8588-0b10bf3a8820",
   "metadata": {},
   "source": [
    "# fix non disjoint data sets\n",
    "\n",
    "Both our GTEx_TCGA validation and test data sets have sample that are included in the training Data set.\n",
    "\n",
    "ref extracellular/terra/GTExTCGA_Release/jupyterNotebooks/checkColDataForDuplicateSamples.ipynb\n",
    "\n",
    "**summary**\n",
    "- we have unique 22183 TCGA + GTEx samples\n",
    "- GTEx\n",
    "    * we have GTEx 13,199 samples expected 17,383\n",
    "    * we are missing  GTEx samples 4154\n",
    "        + there should be 17,383 GTEx samples : wc -l colData.csv = 17383\n",
    "        + The number of non disjoint sample between training and validation and test sets is 4154\n",
    "- TCGA\n",
    "    ```\n",
    "    /Users/andrewdavidson/googleUCSC/kimLab/terraDataModels/test-aedavids-proj/TCGA\n",
    "    find . -name \"*edu_ucsc_kim_lab_colData.csv\"\n",
    "    ```\n",
    "    * 33 cancer types\n",
    "    * 10347 samples\n",
    "    * we have 8984 in train/val/test set\n",
    "    * <span style=\"color:red;background-color:yellow\">do the validation and test sets have GTEx samples?</span>\n",
    "\n",
    "**We do not have a problem** We never used the validation or test sets  \n",
    "\n",
    "## <span style=\"color:red;background-color:yellow\">short term fix</span>\n",
    "**A**\n",
    "- all the sample ids in the training count data set are unique\n",
    "- just use training data for now\n",
    "\n",
    "**B**\n",
    "- create a new data set from unique samples\n",
    "- saved to : /scratch/aedavids/tmp/GTEx_TCGA_NormalizedGroupby.hdf5 (74777, 22183)\n",
    "- saved to : /scratch/aedavids/tmp/GTEx_TCGA_ColData.hdf5 (22183, 5)\n",
    "- cp all sample id data sets to GTEx_TCGA/groupbyGeneTrainingSets\n",
    "- mv copies non disjoint data sets to /private/groups/kimlab/GTEx_TCGA/groupbyGeneTrainingSets\n",
    "  ```\n",
    "  $ ls notDisjoint/\n",
    "    GTEx_TCGA_ColData.csv                      GTEx_TCGA_NormalizedGroupby.csv\n",
    "    GTEx_TCGA_TestGroupby.csv\n",
    "    GTEx_TCGA_Groupby.csv                      GTEx_TCGA_NormalizedGroupby.hdf5\n",
    "    GTEx_TCGA_ValidateColData.csv\n",
    "    GTEx_TCGA_GroupbyEstimatedSizeFactors.csv  GTEx_TCGA_TestColData.csv\n",
    "    GTEx_TCGA_ValidateGroupby.csv\n",
    "  ```"
   ]
  },
  {
   "cell_type": "code",
   "execution_count": 1,
   "id": "5d76cc4c-0f50-4eb2-a1f1-b0071799a1a5",
   "metadata": {},
   "outputs": [
    {
     "name": "stderr",
     "output_type": "stream",
     "text": [
      "/data/tmp/ipykernel_1865845/1169245813.py:3: DeprecationWarning: \n",
      "Pyarrow will become a required dependency of pandas in the next major release of pandas (pandas 3.0),\n",
      "(to allow more performant data types, such as the Arrow string type, and better interoperability with other libraries)\n",
      "but was not found to be installed on your system.\n",
      "If this would cause problems for you,\n",
      "please provide us feedback at https://github.com/pandas-dev/pandas/issues/54466\n",
      "        \n",
      "  import pandas as pd\n"
     ]
    }
   ],
   "source": [
    "from IPython.display import display\n",
    "import numpy as np\n",
    "import pandas as pd\n",
    "dataRoot = \"/scratch/aedavids/tmp\""
   ]
  },
  {
   "cell_type": "code",
   "execution_count": 2,
   "id": "37189e8e-2e81-4cbd-b024-40402fd4d5bd",
   "metadata": {},
   "outputs": [
    {
     "name": "stdout",
     "output_type": "stream",
     "text": [
      "TestColData /scratch/aedavids/tmp/GTEx_TCGA_TestColData.csv (5268, 5)\n",
      "TrainColData /scratch/aedavids/tmp/GTEx_TCGA_TrainColData.csv (15801, 5)\n",
      "ValidateColData /scratch/aedavids/tmp/GTEx_TCGA_ValidateColData.csv (5268, 5)\n",
      "colDataDict.keys() : dict_keys(['TestColData', 'TrainColData', 'ValidateColData'])\n"
     ]
    },
    {
     "data": {
      "text/html": [
       "<div>\n",
       "<style scoped>\n",
       "    .dataframe tbody tr th:only-of-type {\n",
       "        vertical-align: middle;\n",
       "    }\n",
       "\n",
       "    .dataframe tbody tr th {\n",
       "        vertical-align: top;\n",
       "    }\n",
       "\n",
       "    .dataframe thead th {\n",
       "        text-align: right;\n",
       "    }\n",
       "</style>\n",
       "<table border=\"1\" class=\"dataframe\">\n",
       "  <thead>\n",
       "    <tr style=\"text-align: right;\">\n",
       "      <th></th>\n",
       "      <th>participant_id</th>\n",
       "      <th>category</th>\n",
       "      <th>gender</th>\n",
       "      <th>age</th>\n",
       "      <th>dataSet</th>\n",
       "    </tr>\n",
       "    <tr>\n",
       "      <th>sample_id</th>\n",
       "      <th></th>\n",
       "      <th></th>\n",
       "      <th></th>\n",
       "      <th></th>\n",
       "      <th></th>\n",
       "    </tr>\n",
       "  </thead>\n",
       "  <tbody>\n",
       "    <tr>\n",
       "      <th>GTEX-1117F-0226-SM-5GZZ7</th>\n",
       "      <td>GTEX-1117F</td>\n",
       "      <td>Adipose_Subcutaneous</td>\n",
       "      <td>Female</td>\n",
       "      <td>66.0</td>\n",
       "      <td>GTEx</td>\n",
       "    </tr>\n",
       "    <tr>\n",
       "      <th>GTEX-1117F-0526-SM-5EGHJ</th>\n",
       "      <td>GTEX-1117F</td>\n",
       "      <td>Artery_Tibial</td>\n",
       "      <td>Female</td>\n",
       "      <td>66.0</td>\n",
       "      <td>GTEx</td>\n",
       "    </tr>\n",
       "    <tr>\n",
       "      <th>GTEX-1117F-0726-SM-5GIEN</th>\n",
       "      <td>GTEX-1117F</td>\n",
       "      <td>Heart_Atrial_Appendage</td>\n",
       "      <td>Female</td>\n",
       "      <td>66.0</td>\n",
       "      <td>GTEx</td>\n",
       "    </tr>\n",
       "    <tr>\n",
       "      <th>GTEX-1117F-2826-SM-5GZXL</th>\n",
       "      <td>GTEX-1117F</td>\n",
       "      <td>Breast_Mammary_Tissue</td>\n",
       "      <td>Female</td>\n",
       "      <td>66.0</td>\n",
       "      <td>GTEx</td>\n",
       "    </tr>\n",
       "    <tr>\n",
       "      <th>GTEX-1117F-3226-SM-5N9CT</th>\n",
       "      <td>GTEX-1117F</td>\n",
       "      <td>Brain_Cortex</td>\n",
       "      <td>Female</td>\n",
       "      <td>66.0</td>\n",
       "      <td>GTEx</td>\n",
       "    </tr>\n",
       "  </tbody>\n",
       "</table>\n",
       "</div>"
      ],
      "text/plain": [
       "                         participant_id                category  gender   age  \\\n",
       "sample_id                                                                       \n",
       "GTEX-1117F-0226-SM-5GZZ7     GTEX-1117F    Adipose_Subcutaneous  Female  66.0   \n",
       "GTEX-1117F-0526-SM-5EGHJ     GTEX-1117F           Artery_Tibial  Female  66.0   \n",
       "GTEX-1117F-0726-SM-5GIEN     GTEX-1117F  Heart_Atrial_Appendage  Female  66.0   \n",
       "GTEX-1117F-2826-SM-5GZXL     GTEX-1117F   Breast_Mammary_Tissue  Female  66.0   \n",
       "GTEX-1117F-3226-SM-5N9CT     GTEX-1117F            Brain_Cortex  Female  66.0   \n",
       "\n",
       "                         dataSet  \n",
       "sample_id                         \n",
       "GTEX-1117F-0226-SM-5GZZ7    GTEx  \n",
       "GTEX-1117F-0526-SM-5EGHJ    GTEx  \n",
       "GTEX-1117F-0726-SM-5GIEN    GTEx  \n",
       "GTEX-1117F-2826-SM-5GZXL    GTEx  \n",
       "GTEX-1117F-3226-SM-5N9CT    GTEx  "
      ]
     },
     "metadata": {},
     "output_type": "display_data"
    },
    {
     "data": {
      "text/html": [
       "<div>\n",
       "<style scoped>\n",
       "    .dataframe tbody tr th:only-of-type {\n",
       "        vertical-align: middle;\n",
       "    }\n",
       "\n",
       "    .dataframe tbody tr th {\n",
       "        vertical-align: top;\n",
       "    }\n",
       "\n",
       "    .dataframe thead th {\n",
       "        text-align: right;\n",
       "    }\n",
       "</style>\n",
       "<table border=\"1\" class=\"dataframe\">\n",
       "  <thead>\n",
       "    <tr style=\"text-align: right;\">\n",
       "      <th></th>\n",
       "      <th>participant_id</th>\n",
       "      <th>category</th>\n",
       "      <th>gender</th>\n",
       "      <th>age</th>\n",
       "      <th>dataSet</th>\n",
       "    </tr>\n",
       "    <tr>\n",
       "      <th>sample_id</th>\n",
       "      <th></th>\n",
       "      <th></th>\n",
       "      <th></th>\n",
       "      <th></th>\n",
       "      <th></th>\n",
       "    </tr>\n",
       "  </thead>\n",
       "  <tbody>\n",
       "    <tr>\n",
       "      <th>UVM-WC-AA9E-TP</th>\n",
       "      <td>UVM-WC-AA9E</td>\n",
       "      <td>UVM</td>\n",
       "      <td>male</td>\n",
       "      <td>60.0</td>\n",
       "      <td>TCGA</td>\n",
       "    </tr>\n",
       "    <tr>\n",
       "      <th>UVM-YZ-A980-TP</th>\n",
       "      <td>UVM-YZ-A980</td>\n",
       "      <td>UVM</td>\n",
       "      <td>male</td>\n",
       "      <td>75.0</td>\n",
       "      <td>TCGA</td>\n",
       "    </tr>\n",
       "    <tr>\n",
       "      <th>UVM-YZ-A983-TP</th>\n",
       "      <td>UVM-YZ-A983</td>\n",
       "      <td>UVM</td>\n",
       "      <td>female</td>\n",
       "      <td>51.0</td>\n",
       "      <td>TCGA</td>\n",
       "    </tr>\n",
       "    <tr>\n",
       "      <th>UVM-YZ-A984-TP</th>\n",
       "      <td>UVM-YZ-A984</td>\n",
       "      <td>UVM</td>\n",
       "      <td>female</td>\n",
       "      <td>50.0</td>\n",
       "      <td>TCGA</td>\n",
       "    </tr>\n",
       "    <tr>\n",
       "      <th>UVM-YZ-A985-TP</th>\n",
       "      <td>UVM-YZ-A985</td>\n",
       "      <td>UVM</td>\n",
       "      <td>female</td>\n",
       "      <td>41.0</td>\n",
       "      <td>TCGA</td>\n",
       "    </tr>\n",
       "  </tbody>\n",
       "</table>\n",
       "</div>"
      ],
      "text/plain": [
       "               participant_id category  gender   age dataSet\n",
       "sample_id                                                   \n",
       "UVM-WC-AA9E-TP    UVM-WC-AA9E      UVM    male  60.0    TCGA\n",
       "UVM-YZ-A980-TP    UVM-YZ-A980      UVM    male  75.0    TCGA\n",
       "UVM-YZ-A983-TP    UVM-YZ-A983      UVM  female  51.0    TCGA\n",
       "UVM-YZ-A984-TP    UVM-YZ-A984      UVM  female  50.0    TCGA\n",
       "UVM-YZ-A985-TP    UVM-YZ-A985      UVM  female  41.0    TCGA"
      ]
     },
     "metadata": {},
     "output_type": "display_data"
    },
    {
     "name": "stdout",
     "output_type": "stream",
     "text": [
      "\n",
      "CPU times: user 81.3 ms, sys: 9.99 ms, total: 91.3 ms\n",
      "Wall time: 146 ms\n"
     ]
    }
   ],
   "source": [
    "%%time\n",
    "def loadColData(dataRoot):\n",
    "    # \"GTEx_TCGA_ColData.csv\",\n",
    "    colDataFiles = [ \"GTEx_TCGA_TestColData.csv\", \"GTEx_TCGA_TrainColData.csv\", \"GTEx_TCGA_ValidateColData.csv\"]\n",
    "    colDataDict = dict()\n",
    "    for f in colDataFiles:\n",
    "        key = f.split(\"_\")[2].split(\".\")[0]\n",
    "        fPath = f'{dataRoot}/{f}'\n",
    "        df = pd.read_csv(fPath, index_col=\"sample_id\")\n",
    "        print(f'{key} {fPath} {df.shape}')\n",
    "        colDataDict[key] = df\n",
    "\n",
    "    return colDataDict\n",
    "\n",
    "colDataDict = loadColData(dataRoot)\n",
    "print(f'colDataDict.keys() : {colDataDict.keys()}')\n",
    "display(colDataDict[ 'TrainColData'].head())\n",
    "display(colDataDict[ 'TrainColData'].tail())\n",
    "print()"
   ]
  },
  {
   "cell_type": "code",
   "execution_count": 3,
   "id": "dcc59fc0-a2a3-4939-8851-be2912845f6e",
   "metadata": {},
   "outputs": [
    {
     "name": "stdout",
     "output_type": "stream",
     "text": [
      "CPU times: user 11 µs, sys: 0 ns, total: 11 µs\n",
      "Wall time: 20.3 µs\n"
     ]
    }
   ],
   "source": [
    "%%time\n",
    "def saveAsHDF(dict ):\n",
    "    for key in dict.keys():\n",
    "        df = dict[key]\n",
    "        hdf5Path = f'{dataRoot}/{key}.hdf5'\n",
    "        df.to_hdf(hdf5Path, key=key)\n",
    "        print(f'saved to : {hdf5Path}')\n",
    "\n",
    "# Wall time: 1min 21s\n",
    "# saveAsHDF(countDict)        "
   ]
  },
  {
   "cell_type": "code",
   "execution_count": 4,
   "id": "931d2355-2fab-4058-a3ad-07b951a3b380",
   "metadata": {},
   "outputs": [
    {
     "name": "stdout",
     "output_type": "stream",
     "text": [
      "TestGroupby /scratch/aedavids/tmp/GTEx_TCGA_TestGroupby.hdf5 (74777, 5268)\n",
      "TrainGroupby /scratch/aedavids/tmp/GTEx_TCGA_TrainGroupby.hdf5 (74777, 15801)\n",
      "ValidateGroupby /scratch/aedavids/tmp/GTEx_TCGA_ValidateGroupby.hdf5 (74777, 5268)\n",
      "countDict.keys() : dict_keys(['TestGroupby', 'TrainGroupby', 'ValidateGroupby'])\n"
     ]
    },
    {
     "data": {
      "text/html": [
       "<div>\n",
       "<style scoped>\n",
       "    .dataframe tbody tr th:only-of-type {\n",
       "        vertical-align: middle;\n",
       "    }\n",
       "\n",
       "    .dataframe tbody tr th {\n",
       "        vertical-align: top;\n",
       "    }\n",
       "\n",
       "    .dataframe thead th {\n",
       "        text-align: right;\n",
       "    }\n",
       "</style>\n",
       "<table border=\"1\" class=\"dataframe\">\n",
       "  <thead>\n",
       "    <tr style=\"text-align: right;\">\n",
       "      <th></th>\n",
       "      <th>GTEX-1117F-0226-SM-5GZZ7</th>\n",
       "      <th>GTEX-1117F-0526-SM-5EGHJ</th>\n",
       "      <th>GTEX-1117F-0726-SM-5GIEN</th>\n",
       "    </tr>\n",
       "    <tr>\n",
       "      <th>geneId</th>\n",
       "      <th></th>\n",
       "      <th></th>\n",
       "      <th></th>\n",
       "    </tr>\n",
       "  </thead>\n",
       "  <tbody>\n",
       "    <tr>\n",
       "      <th>(A)n</th>\n",
       "      <td>9</td>\n",
       "      <td>1</td>\n",
       "      <td>3</td>\n",
       "    </tr>\n",
       "    <tr>\n",
       "      <th>(AAA)n</th>\n",
       "      <td>0</td>\n",
       "      <td>0</td>\n",
       "      <td>0</td>\n",
       "    </tr>\n",
       "    <tr>\n",
       "      <th>(AAAAAAC)n</th>\n",
       "      <td>0</td>\n",
       "      <td>0</td>\n",
       "      <td>0</td>\n",
       "    </tr>\n",
       "  </tbody>\n",
       "</table>\n",
       "</div>"
      ],
      "text/plain": [
       "            GTEX-1117F-0226-SM-5GZZ7  GTEX-1117F-0526-SM-5EGHJ  \\\n",
       "geneId                                                           \n",
       "(A)n                               9                         1   \n",
       "(AAA)n                             0                         0   \n",
       "(AAAAAAC)n                         0                         0   \n",
       "\n",
       "            GTEX-1117F-0726-SM-5GIEN  \n",
       "geneId                                \n",
       "(A)n                               3  \n",
       "(AAA)n                             0  \n",
       "(AAAAAAC)n                         0  "
      ]
     },
     "metadata": {},
     "output_type": "display_data"
    },
    {
     "name": "stdout",
     "output_type": "stream",
     "text": [
      "\n",
      "CPU times: user 12.5 s, sys: 15.8 s, total: 28.3 s\n",
      "Wall time: 44.1 s\n"
     ]
    }
   ],
   "source": [
    "%%time\n",
    "def loadCountData(dataRoot):\n",
    "    '''\n",
    "    csv Wall time: 7min 33s\n",
    "    hdf5 Wall time: 41.3 s\n",
    "    '''\n",
    "    #\"GTEx_TCGA_Groupby.csv\",\n",
    "    #countFiles = [ \"GTEx_TCGA_TestGroupby.csv\", \"GTEx_TCGA_TrainGroupby.csv\", \"GTEx_TCGA_ValidateGroupby.csv\"]\n",
    "    countFiles = [ \"GTEx_TCGA_TestGroupby.hdf5\", \"GTEx_TCGA_TrainGroupby.hdf5\", \"GTEx_TCGA_ValidateGroupby.hdf5\"]\n",
    "    countDict = dict()\n",
    "    for f in countFiles:\n",
    "        key = f.split(\"_\")[2].split(\".\")[0]\n",
    "        fPath = f'{dataRoot}/{f}'\n",
    "        # df = pd.read_csv(fPath, index_col=\"geneId\")\n",
    "        df = pd.read_hdf(fPath)\n",
    "        print(f'{key} {fPath} {df.shape}')\n",
    "        countDict[key] = df\n",
    "\n",
    "    return countDict\n",
    "\n",
    "countDict = loadCountData(dataRoot)\n",
    "print(f'countDict.keys() : {countDict.keys()}')\n",
    "display(countDict[ 'TrainGroupby'].head().iloc[0:3, 0:3])\n",
    "print()"
   ]
  },
  {
   "cell_type": "code",
   "execution_count": 5,
   "id": "ea4234aa-9b96-46c1-9ef7-42fcfc998bf7",
   "metadata": {},
   "outputs": [
    {
     "name": "stdout",
     "output_type": "stream",
     "text": [
      "the len should equal the number unique ids\n",
      "TestColData     num sample ids : 5268 num unique : (5268,)\n",
      "TrainColData    num sample ids : 15801 num unique : (15801,)\n",
      "ValidateColData num sample ids : 5268 num unique : (5268,)\n"
     ]
    }
   ],
   "source": [
    "def createColDataSampleIdDict() :\n",
    "    retDict = dict()\n",
    "    for key in colDataDict.keys():\n",
    "        df = colDataDict[key]\n",
    "        sampleIds = df.index\n",
    "        retDict[key] = sampleIds\n",
    "        print(f'{key :<15} num sample ids : {len(sampleIds)} num unique : {sampleIds.unique().shape}' )\n",
    "\n",
    "    return retDict\n",
    "        \n",
    "print(f'the len should equal the number unique ids')\n",
    "colDataSampleIdsDict = createColDataSampleIdDict()"
   ]
  },
  {
   "cell_type": "code",
   "execution_count": 6,
   "id": "2b76ea96-0991-450f-83bb-d1c8956db85d",
   "metadata": {},
   "outputs": [
    {
     "name": "stdout",
     "output_type": "stream",
     "text": [
      "the len should equal the number unique ids\n",
      "TestGroupby     num sample ids : 5268 num unique : (5268,)\n",
      "TrainGroupby    num sample ids : 15801 num unique : (15801,)\n",
      "ValidateGroupby num sample ids : 5268 num unique : (5268,)\n"
     ]
    }
   ],
   "source": [
    "def createCountSampleIdDict() :\n",
    "    retDict = dict()\n",
    "    for key in countDict.keys():\n",
    "        df = countDict[key]\n",
    "        sampleIds = df.columns\n",
    "        retDict[key] = sampleIds\n",
    "        # print(f'{key} len(sampleIds) {len(sampleIds)}' )\n",
    "        print(f'{key :<15} num sample ids : {len(sampleIds)} num unique : {sampleIds.unique().shape}' )\n",
    "\n",
    "    return retDict\n",
    "\n",
    "print(f'the len should equal the number unique ids')\n",
    "countSampleIdsDict = createCountSampleIdDict()"
   ]
  },
  {
   "cell_type": "markdown",
   "id": "d5d05f35-8f98-44e2-a4c0-33a372f4e98e",
   "metadata": {},
   "source": [
    "# Check for duplicates"
   ]
  },
  {
   "cell_type": "code",
   "execution_count": 7,
   "id": "6d041f6d-1822-46cc-97cc-15bc0d499ffc",
   "metadata": {},
   "outputs": [
    {
     "name": "stdout",
     "output_type": "stream",
     "text": [
      "TestColData     num duplicates : 0\n",
      "TrainColData    num duplicates : 0\n",
      "ValidateColData num duplicates : 0\n"
     ]
    }
   ],
   "source": [
    "def checkforColDataDuplicates():\n",
    "    '''\n",
    "    with in each col data set check for duplicate row\n",
    "    '''\n",
    "    for key in colDataDict.keys():\n",
    "        duplicateRows = colDataDict[key].duplicated()\n",
    "        print(f'{key :<15} num duplicates : {sum(duplicateRows)}')\n",
    "\n",
    "checkforColDataDuplicates()"
   ]
  },
  {
   "cell_type": "code",
   "execution_count": 8,
   "id": "938df006-474e-4b7e-b937-82b8e057465e",
   "metadata": {},
   "outputs": [
    {
     "name": "stdout",
     "output_type": "stream",
     "text": [
      "TestColData     len(set) : 5268\n",
      "TrainColData    len(set) : 15801\n",
      "ValidateColData len(set) : 5268\n",
      "\n",
      "TestGroupby     len(set) : 5268\n",
      "TrainGroupby    len(set) : 15801\n",
      "ValidateGroupby len(set) : 5268\n"
     ]
    }
   ],
   "source": [
    "# check if colData & count sets share sample ids\n",
    "def createSampleIdSetDict( sampleIdsDict ):\n",
    "    retDict = dict()\n",
    "    for key in sampleIdsDict:\n",
    "        s = sampleIdsDict[key]\n",
    "        retDict[key] = s\n",
    "        print(f'{key:<15} len(set) : {len(s)}')\n",
    "\n",
    "    return retDict\n",
    "\n",
    "colDataSetDict= createSampleIdSetDict(colDataSampleIdsDict)\n",
    "print()\n",
    "countSetDict= createSampleIdSetDict(countSampleIdsDict)"
   ]
  },
  {
   "cell_type": "code",
   "execution_count": 9,
   "id": "df206f94-32c8-499e-a8ea-9a576839fbdc",
   "metadata": {},
   "outputs": [],
   "source": [
    "def checkForSharedSamples(key1, key2, sampleIdDict):\n",
    "    s1 = sampleIdDict[key1]\n",
    "    s2 = sampleIdDict[key2]\n",
    "    intersection = s1.intersection(s2)\n",
    "    print(f'len( {key1}.intersection({key2} ) ) { len(intersection) }' )\n",
    "\n",
    "    return intersection"
   ]
  },
  {
   "cell_type": "code",
   "execution_count": 10,
   "id": "b3e39834-9147-4f1f-af9d-9258228511e7",
   "metadata": {},
   "outputs": [
    {
     "name": "stdout",
     "output_type": "stream",
     "text": [
      "interesection size should be zero\n",
      "len( TrainColData.intersection(ValidateColData ) ) 2090\n",
      "len( TrainColData.intersection(TestColData ) ) 2064\n",
      "len( ValidateColData.intersection(TestColData ) ) 0\n"
     ]
    }
   ],
   "source": [
    "print(f'interesection size should be zero')\n",
    "colDataTrainValIntersection  = checkForSharedSamples('TrainColData',    'ValidateColData', colDataSetDict)\n",
    "colDataTrainTestIntersection = checkForSharedSamples('TrainColData',    'TestColData',     colDataSetDict)\n",
    "colDataValTestIntersection   = checkForSharedSamples('ValidateColData', 'TestColData',     colDataSetDict)"
   ]
  },
  {
   "cell_type": "code",
   "execution_count": 11,
   "id": "6298096e-4d29-4b72-a308-9351afe2d776",
   "metadata": {},
   "outputs": [
    {
     "name": "stdout",
     "output_type": "stream",
     "text": [
      "interesection size should be zero\n",
      "len( TrainGroupby.intersection(ValidateGroupby ) ) 2090\n",
      "len( TrainGroupby.intersection(TestGroupby ) ) 2064\n",
      "len( ValidateGroupby.intersection(TestGroupby ) ) 0\n"
     ]
    }
   ],
   "source": [
    "print(f'interesection size should be zero')\n",
    "countTrainValIntersection  = checkForSharedSamples('TrainGroupby',    'ValidateGroupby', countSetDict)\n",
    "countTrainTestIntersection = checkForSharedSamples('TrainGroupby',    'TestGroupby',     countSetDict)\n",
    "countValTestIntersection   = checkForSharedSamples('ValidateGroupby', 'TestGroupby',     countSetDict)"
   ]
  },
  {
   "cell_type": "code",
   "execution_count": null,
   "id": "a64bd142-dae5-4cb8-b6da-13e02c2158f0",
   "metadata": {},
   "outputs": [],
   "source": []
  },
  {
   "cell_type": "markdown",
   "id": "a72a2a45-997a-4e29-b3de-21db0d6b16c2",
   "metadata": {},
   "source": [
    "## Are the samples in the intersection the same?"
   ]
  },
  {
   "cell_type": "code",
   "execution_count": 12,
   "id": "9494d196-1009-41d2-a44e-7d0edf9495b9",
   "metadata": {},
   "outputs": [
    {
     "name": "stdout",
     "output_type": "stream",
     "text": [
      "we expected sum to be zero if the intersections are the same\n",
      "0\n",
      "0\n",
      "0\n"
     ]
    }
   ],
   "source": [
    "print('we expected sum to be zero if the intersections are the same')\n",
    "print( sum(colDataTrainValIntersection != countTrainValIntersection) )\n",
    "print( sum(colDataTrainTestIntersection != countTrainTestIntersection) )\n",
    "print( sum(colDataValTestIntersection != countValTestIntersection) )"
   ]
  },
  {
   "cell_type": "markdown",
   "id": "960753ed-de2d-4854-811a-779f478838fb",
   "metadata": {},
   "source": [
    "# How to fix?"
   ]
  },
  {
   "cell_type": "code",
   "execution_count": 13,
   "id": "cb93d535-7743-4336-8850-ca6b4536b87c",
   "metadata": {},
   "outputs": [
    {
     "name": "stdout",
     "output_type": "stream",
     "text": [
      "some how we messed up GTEx!!!!\n",
      "\n",
      "number of samples in colDataTrainValIntersection : (2090,)\n",
      "ValidateColData\n"
     ]
    },
    {
     "data": {
      "text/html": [
       "<div>\n",
       "<style scoped>\n",
       "    .dataframe tbody tr th:only-of-type {\n",
       "        vertical-align: middle;\n",
       "    }\n",
       "\n",
       "    .dataframe tbody tr th {\n",
       "        vertical-align: top;\n",
       "    }\n",
       "\n",
       "    .dataframe thead th {\n",
       "        text-align: right;\n",
       "    }\n",
       "</style>\n",
       "<table border=\"1\" class=\"dataframe\">\n",
       "  <thead>\n",
       "    <tr style=\"text-align: right;\">\n",
       "      <th></th>\n",
       "      <th>participant_id</th>\n",
       "      <th>category</th>\n",
       "      <th>gender</th>\n",
       "      <th>age</th>\n",
       "    </tr>\n",
       "    <tr>\n",
       "      <th>dataSet</th>\n",
       "      <th></th>\n",
       "      <th></th>\n",
       "      <th></th>\n",
       "      <th></th>\n",
       "    </tr>\n",
       "  </thead>\n",
       "  <tbody>\n",
       "    <tr>\n",
       "      <th>GTEx</th>\n",
       "      <td>2090</td>\n",
       "      <td>2090</td>\n",
       "      <td>2090</td>\n",
       "      <td>2090</td>\n",
       "    </tr>\n",
       "  </tbody>\n",
       "</table>\n",
       "</div>"
      ],
      "text/plain": [
       "         participant_id  category  gender   age\n",
       "dataSet                                        \n",
       "GTEx               2090      2090    2090  2090"
      ]
     },
     "metadata": {},
     "output_type": "display_data"
    },
    {
     "name": "stdout",
     "output_type": "stream",
     "text": [
      "\n",
      "number of samples in colDataTrainTestIntersection : (2064,)\n",
      "TestColData\n"
     ]
    },
    {
     "data": {
      "text/html": [
       "<div>\n",
       "<style scoped>\n",
       "    .dataframe tbody tr th:only-of-type {\n",
       "        vertical-align: middle;\n",
       "    }\n",
       "\n",
       "    .dataframe tbody tr th {\n",
       "        vertical-align: top;\n",
       "    }\n",
       "\n",
       "    .dataframe thead th {\n",
       "        text-align: right;\n",
       "    }\n",
       "</style>\n",
       "<table border=\"1\" class=\"dataframe\">\n",
       "  <thead>\n",
       "    <tr style=\"text-align: right;\">\n",
       "      <th></th>\n",
       "      <th>participant_id</th>\n",
       "      <th>category</th>\n",
       "      <th>gender</th>\n",
       "      <th>age</th>\n",
       "    </tr>\n",
       "    <tr>\n",
       "      <th>dataSet</th>\n",
       "      <th></th>\n",
       "      <th></th>\n",
       "      <th></th>\n",
       "      <th></th>\n",
       "    </tr>\n",
       "  </thead>\n",
       "  <tbody>\n",
       "    <tr>\n",
       "      <th>GTEx</th>\n",
       "      <td>2064</td>\n",
       "      <td>2064</td>\n",
       "      <td>2064</td>\n",
       "      <td>2064</td>\n",
       "    </tr>\n",
       "  </tbody>\n",
       "</table>\n",
       "</div>"
      ],
      "text/plain": [
       "         participant_id  category  gender   age\n",
       "dataSet                                        \n",
       "GTEx               2064      2064    2064  2064"
      ]
     },
     "execution_count": 13,
     "metadata": {},
     "output_type": "execute_result"
    }
   ],
   "source": [
    "print(f'some how we messed up GTEx!!!!\\n')\n",
    "\n",
    "print(f'number of samples in colDataTrainValIntersection : {colDataTrainValIntersection.shape}')\n",
    "print(f'ValidateColData')\n",
    "display( colDataDict['ValidateColData'].loc[colDataTrainValIntersection, :].groupby(\"dataSet\").count() )\n",
    "\n",
    "print()\n",
    "print(f'number of samples in colDataTrainTestIntersection : {colDataTrainTestIntersection.shape}')\n",
    "print(f'TestColData')\n",
    "colDataDict['TestColData'].loc[colDataTrainTestIntersection, :].groupby(\"dataSet\").count()\n"
   ]
  },
  {
   "cell_type": "markdown",
   "id": "c5ab1990-8cd2-4400-a4ea-cf5cbcb8a50e",
   "metadata": {},
   "source": [
    "## <span style=\"color:red;background-color:yellow\">short term fix</span>\n",
    "- all the sample ids in the training count data set are unique\n",
    "- if all the count data has colData just use training data for now"
   ]
  },
  {
   "cell_type": "code",
   "execution_count": 14,
   "id": "4cda31df-ba5d-42bf-b205-7ee6474dcc9b",
   "metadata": {},
   "outputs": [
    {
     "name": "stdout",
     "output_type": "stream",
     "text": [
      "we expected sum to be zero if the sample ids are the same\n",
      "0\n"
     ]
    }
   ],
   "source": [
    "print('we expected sum to be zero if the sample ids are the same')\n",
    "print(f\"{sum( colDataSampleIdsDict['TrainColData'] != countSampleIdsDict['TrainGroupby'] )}\")"
   ]
  },
  {
   "cell_type": "code",
   "execution_count": 15,
   "id": "8f36bbd2-acf4-4165-9751-26f5705421bc",
   "metadata": {},
   "outputs": [
    {
     "name": "stdout",
     "output_type": "stream",
     "text": [
      "TestGroupby     len(sampleIdSet) :   5268 s.unique().shape (5268,) total : 5268 len(retSet) : 5268\n",
      "TrainGroupby    len(sampleIdSet) :  15801 s.unique().shape (15801,) total : 21069 len(retSet) : 19005\n",
      "ValidateGroupby len(sampleIdSet) :   5268 s.unique().shape (5268,) total : 26337 len(retSet) : 22183\n",
      "\n",
      "total num sample ids: 26337 num unique 22183 \n",
      "\n",
      "num missing GTEx samples 4154\n",
      "num overlapping ie train/val and train/test sample ids are not disjoin GTEx samples 4154\n"
     ]
    }
   ],
   "source": [
    "# how many samples in total do we have?\n",
    "def howManySamplesInTotal(setDict):\n",
    "    retSet = set()\n",
    "    total = 0\n",
    "    for key, s in setDict.items():\n",
    "        retSet = retSet.union(set(s))\n",
    "        total += (len(s))\n",
    "        print(f'{key :<15} len(sampleIdSet) : {len(s) :>6} s.unique().shape { s.unique().shape } total : {total} len(retSet) : {len(retSet)}')\n",
    "\n",
    "    l = list(retSet)\n",
    "    print(f'\\ntotal num sample ids: {total} num unique { len( np.unique(l)) } ')\n",
    "\n",
    "howManySamplesInTotal(countSetDict)\n",
    "\n",
    "print()\n",
    "print(f'num missing GTEx samples {26337 - 22183}')\n",
    "print(f'num overlapping ie train/val and train/test sample ids are not disjoin GTEx samples {2090 + 2064}')"
   ]
  },
  {
   "cell_type": "markdown",
   "id": "43ab91ba-418e-41b6-b1fe-f15c6706ce59",
   "metadata": {},
   "source": [
    "# How many GTEx samples do we actuall have? Check GTEx/"
   ]
  },
  {
   "cell_type": "code",
   "execution_count": 16,
   "id": "f7b20579-bb37-448e-aa7c-66f8fa6bbc30",
   "metadata": {},
   "outputs": [
    {
     "name": "stdout",
     "output_type": "stream",
     "text": [
      "17383 /private/groups/kimlab/GTEx/colData.csv\n"
     ]
    }
   ],
   "source": [
    "! wc -l /private/groups/kimlab/GTEx/colData.csv"
   ]
  },
  {
   "cell_type": "code",
   "execution_count": 17,
   "id": "43d0eac2-793d-4400-b3de-a1007b550c50",
   "metadata": {},
   "outputs": [
    {
     "name": "stdout",
     "output_type": "stream",
     "text": [
      "GTExTestGroupBy /scratch/aedavids/tmp/GTExTestGroupByGenesCountMatrix.hdf5 (74777, 3471)\n",
      "GTExValidateGroupBy /scratch/aedavids/tmp/GTExValidateGroupByGenesCountMatrix.hdf5 (74777, 3471)\n",
      "GTExTrainGroupBy /scratch/aedavids/tmp/GTExTrainGroupByGenesCountMatrix.hdf5 (74777, 10411)\n",
      "GTExCountDict.keys() : dict_keys(['GTExTestGroupBy', 'GTExValidateGroupBy', 'GTExTrainGroupBy'])\n"
     ]
    },
    {
     "data": {
      "text/html": [
       "<div>\n",
       "<style scoped>\n",
       "    .dataframe tbody tr th:only-of-type {\n",
       "        vertical-align: middle;\n",
       "    }\n",
       "\n",
       "    .dataframe tbody tr th {\n",
       "        vertical-align: top;\n",
       "    }\n",
       "\n",
       "    .dataframe thead th {\n",
       "        text-align: right;\n",
       "    }\n",
       "</style>\n",
       "<table border=\"1\" class=\"dataframe\">\n",
       "  <thead>\n",
       "    <tr style=\"text-align: right;\">\n",
       "      <th></th>\n",
       "      <th>GTEX-1117F-0226-SM-5GZZ7</th>\n",
       "      <th>GTEX-1117F-0526-SM-5EGHJ</th>\n",
       "      <th>GTEX-1117F-0626-SM-5N9CS</th>\n",
       "    </tr>\n",
       "    <tr>\n",
       "      <th>geneId</th>\n",
       "      <th></th>\n",
       "      <th></th>\n",
       "      <th></th>\n",
       "    </tr>\n",
       "  </thead>\n",
       "  <tbody>\n",
       "    <tr>\n",
       "      <th>(A)n</th>\n",
       "      <td>9</td>\n",
       "      <td>1</td>\n",
       "      <td>3</td>\n",
       "    </tr>\n",
       "    <tr>\n",
       "      <th>(AAA)n</th>\n",
       "      <td>0</td>\n",
       "      <td>0</td>\n",
       "      <td>0</td>\n",
       "    </tr>\n",
       "    <tr>\n",
       "      <th>(AAAAAAC)n</th>\n",
       "      <td>0</td>\n",
       "      <td>0</td>\n",
       "      <td>0</td>\n",
       "    </tr>\n",
       "  </tbody>\n",
       "</table>\n",
       "</div>"
      ],
      "text/plain": [
       "            GTEX-1117F-0226-SM-5GZZ7  GTEX-1117F-0526-SM-5EGHJ  \\\n",
       "geneId                                                           \n",
       "(A)n                               9                         1   \n",
       "(AAA)n                             0                         0   \n",
       "(AAAAAAC)n                         0                         0   \n",
       "\n",
       "            GTEX-1117F-0626-SM-5N9CS  \n",
       "geneId                                \n",
       "(A)n                               3  \n",
       "(AAA)n                             0  \n",
       "(AAAAAAC)n                         0  "
      ]
     },
     "metadata": {},
     "output_type": "display_data"
    },
    {
     "name": "stdout",
     "output_type": "stream",
     "text": [
      "\n",
      "CPU times: user 9.3 s, sys: 12.8 s, total: 22.1 s\n",
      "Wall time: 34.5 s\n"
     ]
    }
   ],
   "source": [
    "%%time\n",
    "GTExRootDir = \"/private/groups/kimlab/GTEx\"\n",
    "\n",
    "\n",
    "def loadGTExCountData(dataRoot):\n",
    "    '''\n",
    "    csv Wall time: 5min 18s\n",
    "    hdf5 Wall time: 19.9 s\n",
    "    '''\n",
    "    #countFiles= [\"GTExTestGroupByGenesCountMatrix.csv\", \"GTExValidateGroupByGenesCountMatrix.csv\", \"GTExTrainGroupByGenesCountMatrix.csv\"]\n",
    "    countFiles= [\"GTExTestGroupByGenesCountMatrix.hdf5\", \"GTExValidateGroupByGenesCountMatrix.hdf5\", \"GTExTrainGroupByGenesCountMatrix.hdf5\"]\n",
    "    countDict = dict()\n",
    "    suffix = len('GenesCountMatrix.hdf5')\n",
    "    for f in countFiles:\n",
    "        key = f[:-suffix]\n",
    "        fPath = f'{dataRoot}/{f}'\n",
    "        #df = pd.read_csv(fPath, index_col=\"geneId\")\n",
    "        df = pd.read_hdf(fPath)\n",
    "        print(f'{key} {fPath} {df.shape}')\n",
    "        countDict[key] = df\n",
    "\n",
    "    return countDict\n",
    "\n",
    "GTExCountDict = loadGTExCountData(dataRoot)\n",
    "\n",
    "print(f'GTExCountDict.keys() : {GTExCountDict.keys()}')\n",
    "display(GTExCountDict[ 'GTExTestGroupBy'].head().iloc[0:3, 0:3])\n",
    "print()"
   ]
  },
  {
   "cell_type": "code",
   "execution_count": 18,
   "id": "b6a78b3f-b642-4464-8cea-06adda73c233",
   "metadata": {},
   "outputs": [],
   "source": [
    "#saveAsHDF(GTExCountDict) "
   ]
  },
  {
   "cell_type": "code",
   "execution_count": 19,
   "id": "8f9d699a-c4d1-4fd1-8969-ccc17369f6d1",
   "metadata": {},
   "outputs": [
    {
     "name": "stdout",
     "output_type": "stream",
     "text": [
      "GTExTestGroupBy     len(sampleIdSet) :   3471 s.unique().shape (3471,) total : 3471 len(retSet) : 3471\n",
      "GTExValidateGroupBy len(sampleIdSet) :   3471 s.unique().shape (3471,) total : 6942 len(retSet) : 6942\n",
      "GTExTrainGroupBy    len(sampleIdSet) :  10411 s.unique().shape (10411,) total : 17353 len(retSet) : 13199\n",
      "\n",
      "total num sample ids: 17353 num unique 13199 \n"
     ]
    }
   ],
   "source": [
    "def howManyGTExSamplesInTotal(countDict):\n",
    "    retSet = set()\n",
    "    total = 0\n",
    "    for key, df in countDict.items():\n",
    "        s = df.columns\n",
    "        retSet = retSet.union(set(s))\n",
    "        total += (len(s))\n",
    "        print(f'{key :<19} len(sampleIdSet) : {len(s) :>6} s.unique().shape { s.unique().shape } total : {total} len(retSet) : {len(retSet)}')\n",
    "\n",
    "    l = list(retSet)\n",
    "    print(f'\\ntotal num sample ids: {total} num unique { len( np.unique(l)) } ')\n",
    "\n",
    "howManyGTExSamplesInTotal(GTExCountDict)"
   ]
  },
  {
   "cell_type": "code",
   "execution_count": null,
   "id": "512f07d1-3cf1-423a-afdf-c5761734656c",
   "metadata": {},
   "outputs": [],
   "source": []
  },
  {
   "cell_type": "markdown",
   "id": "72d30964-5be7-4b70-b1cc-e0145f2e1c98",
   "metadata": {},
   "source": [
    "# How many TCGA samples do we have?"
   ]
  },
  {
   "cell_type": "code",
   "execution_count": 20,
   "id": "917d8526-d803-4e6e-97bb-470e0b178936",
   "metadata": {},
   "outputs": [
    {
     "name": "stdout",
     "output_type": "stream",
     "text": [
      "TestColData     total: 1797 len(samples) : 1797 num unique : 1797 \n",
      "TrainColData    total: 7187 len(samples) : 5390 num unique : 5390 \n",
      "ValidateColData total: 8984 len(samples) : 1797 num unique : 1797 \n",
      "total : 8984 num unique : 8984\n"
     ]
    }
   ],
   "source": [
    "def howManyTCGASamples():\n",
    "    sampleIdSet = set()\n",
    "    total = 0\n",
    "    for key, df in colDataDict.items():\n",
    "        selectTCGASamples = df.loc[:, \"dataSet\"] == 'TCGA'\n",
    "        samples = df.loc[selectTCGASamples, :].index\n",
    "        s = set(samples)\n",
    "        sampleIdSet = sampleIdSet.union(s)\n",
    "        total += len(samples)\n",
    "        \n",
    "        print(f'{key :<15} total: {total} len(samples) : {len(samples)} num unique : {len(s)} ' )\n",
    "\n",
    "    print(f'total : {total} num unique : {len(sampleIdSet)}')\n",
    "        \n",
    "howManyTCGASamples()       "
   ]
  },
  {
   "cell_type": "code",
   "execution_count": null,
   "id": "6f303fab-f153-4b50-9bb0-fed06529621e",
   "metadata": {},
   "outputs": [],
   "source": []
  },
  {
   "cell_type": "code",
   "execution_count": null,
   "id": "2b787c13-ea43-4672-afad-61f18314058d",
   "metadata": {},
   "outputs": [],
   "source": []
  },
  {
   "cell_type": "markdown",
   "id": "cf0e3de5-7128-4a2d-bd4c-b76b45a3fe65",
   "metadata": {},
   "source": [
    "# Gather all the uniqe a samples into a single data set"
   ]
  },
  {
   "cell_type": "code",
   "execution_count": null,
   "id": "344576ed-c867-40e3-981d-d51b705b8b41",
   "metadata": {},
   "outputs": [],
   "source": []
  },
  {
   "cell_type": "code",
   "execution_count": 21,
   "id": "1aaa38a8-fa2d-433a-9025-2ec2f7176bc5",
   "metadata": {},
   "outputs": [
    {
     "name": "stdout",
     "output_type": "stream",
     "text": [
      "normalizedGroupbyHDF5_DF.shape : (74777, 26337)\n",
      "CPU times: user 17.4 s, sys: 56.8 s, total: 1min 14s\n",
      "Wall time: 1min 22s\n"
     ]
    }
   ],
   "source": [
    "%%time\n",
    "normalizedGroupbyHDF5Path = f'{dataRoot}/GTEx_TCGA_NormalizedGroupby.hdf5'\n",
    "normalizedGroupbyHDF5_DF = pd.read_hdf(normalizedGroupbyHDF5Path)\n",
    "normalizedGroupbyHDF5_DF =  normalizedGroupbyHDF5_DF.set_index( 'geneId' )\n",
    "print( f'normalizedGroupbyHDF5_DF.shape : {normalizedGroupbyHDF5_DF.shape}' )"
   ]
  },
  {
   "cell_type": "code",
   "execution_count": 26,
   "id": "1f8cb89e-bede-4cc4-8ae8-628d6f3efa38",
   "metadata": {},
   "outputs": [
    {
     "data": {
      "text/html": [
       "<div>\n",
       "<style scoped>\n",
       "    .dataframe tbody tr th:only-of-type {\n",
       "        vertical-align: middle;\n",
       "    }\n",
       "\n",
       "    .dataframe tbody tr th {\n",
       "        vertical-align: top;\n",
       "    }\n",
       "\n",
       "    .dataframe thead th {\n",
       "        text-align: right;\n",
       "    }\n",
       "</style>\n",
       "<table border=\"1\" class=\"dataframe\">\n",
       "  <thead>\n",
       "    <tr style=\"text-align: right;\">\n",
       "      <th></th>\n",
       "      <th>GTEX-1117F-0226-SM-5GZZ7</th>\n",
       "      <th>GTEX-1117F-0526-SM-5EGHJ</th>\n",
       "      <th>GTEX-1117F-0726-SM-5GIEN</th>\n",
       "    </tr>\n",
       "    <tr>\n",
       "      <th>geneId</th>\n",
       "      <th></th>\n",
       "      <th></th>\n",
       "      <th></th>\n",
       "    </tr>\n",
       "  </thead>\n",
       "  <tbody>\n",
       "    <tr>\n",
       "      <th>(A)n</th>\n",
       "      <td>7.506043</td>\n",
       "      <td>0.68924</td>\n",
       "      <td>1.611646</td>\n",
       "    </tr>\n",
       "    <tr>\n",
       "      <th>(AAA)n</th>\n",
       "      <td>0.000000</td>\n",
       "      <td>0.00000</td>\n",
       "      <td>0.000000</td>\n",
       "    </tr>\n",
       "    <tr>\n",
       "      <th>(AAAAAAC)n</th>\n",
       "      <td>0.000000</td>\n",
       "      <td>0.00000</td>\n",
       "      <td>0.000000</td>\n",
       "    </tr>\n",
       "  </tbody>\n",
       "</table>\n",
       "</div>"
      ],
      "text/plain": [
       "            GTEX-1117F-0226-SM-5GZZ7  GTEX-1117F-0526-SM-5EGHJ  \\\n",
       "geneId                                                           \n",
       "(A)n                        7.506043                   0.68924   \n",
       "(AAA)n                      0.000000                   0.00000   \n",
       "(AAAAAAC)n                  0.000000                   0.00000   \n",
       "\n",
       "            GTEX-1117F-0726-SM-5GIEN  \n",
       "geneId                                \n",
       "(A)n                        1.611646  \n",
       "(AAA)n                      0.000000  \n",
       "(AAAAAAC)n                  0.000000  "
      ]
     },
     "execution_count": 26,
     "metadata": {},
     "output_type": "execute_result"
    }
   ],
   "source": [
    "normalizedGroupbyHDF5_DF.iloc[0:3, 0:3]"
   ]
  },
  {
   "cell_type": "code",
   "execution_count": 22,
   "id": "6c98e5ce-86c4-4c28-ab46-b9d0e2735d5d",
   "metadata": {},
   "outputs": [
    {
     "name": "stdout",
     "output_type": "stream",
     "text": [
      "colDataDF.shape : (26337, 5)\n",
      "CPU times: user 40.5 ms, sys: 13.3 ms, total: 53.9 ms\n",
      "Wall time: 52.6 ms\n"
     ]
    },
    {
     "data": {
      "text/html": [
       "<div>\n",
       "<style scoped>\n",
       "    .dataframe tbody tr th:only-of-type {\n",
       "        vertical-align: middle;\n",
       "    }\n",
       "\n",
       "    .dataframe tbody tr th {\n",
       "        vertical-align: top;\n",
       "    }\n",
       "\n",
       "    .dataframe thead th {\n",
       "        text-align: right;\n",
       "    }\n",
       "</style>\n",
       "<table border=\"1\" class=\"dataframe\">\n",
       "  <thead>\n",
       "    <tr style=\"text-align: right;\">\n",
       "      <th></th>\n",
       "      <th>participant_id</th>\n",
       "      <th>category</th>\n",
       "      <th>gender</th>\n",
       "      <th>age</th>\n",
       "      <th>dataSet</th>\n",
       "    </tr>\n",
       "    <tr>\n",
       "      <th>sample_id</th>\n",
       "      <th></th>\n",
       "      <th></th>\n",
       "      <th></th>\n",
       "      <th></th>\n",
       "      <th></th>\n",
       "    </tr>\n",
       "  </thead>\n",
       "  <tbody>\n",
       "    <tr>\n",
       "      <th>GTEX-1117F-0226-SM-5GZZ7</th>\n",
       "      <td>GTEX-1117F</td>\n",
       "      <td>Adipose_Subcutaneous</td>\n",
       "      <td>Female</td>\n",
       "      <td>66.0</td>\n",
       "      <td>GTEx</td>\n",
       "    </tr>\n",
       "    <tr>\n",
       "      <th>GTEX-1117F-0526-SM-5EGHJ</th>\n",
       "      <td>GTEX-1117F</td>\n",
       "      <td>Artery_Tibial</td>\n",
       "      <td>Female</td>\n",
       "      <td>66.0</td>\n",
       "      <td>GTEx</td>\n",
       "    </tr>\n",
       "    <tr>\n",
       "      <th>GTEX-1117F-0726-SM-5GIEN</th>\n",
       "      <td>GTEX-1117F</td>\n",
       "      <td>Heart_Atrial_Appendage</td>\n",
       "      <td>Female</td>\n",
       "      <td>66.0</td>\n",
       "      <td>GTEx</td>\n",
       "    </tr>\n",
       "    <tr>\n",
       "      <th>GTEX-1117F-2826-SM-5GZXL</th>\n",
       "      <td>GTEX-1117F</td>\n",
       "      <td>Breast_Mammary_Tissue</td>\n",
       "      <td>Female</td>\n",
       "      <td>66.0</td>\n",
       "      <td>GTEx</td>\n",
       "    </tr>\n",
       "    <tr>\n",
       "      <th>GTEX-1117F-3226-SM-5N9CT</th>\n",
       "      <td>GTEX-1117F</td>\n",
       "      <td>Brain_Cortex</td>\n",
       "      <td>Female</td>\n",
       "      <td>66.0</td>\n",
       "      <td>GTEx</td>\n",
       "    </tr>\n",
       "  </tbody>\n",
       "</table>\n",
       "</div>"
      ],
      "text/plain": [
       "                         participant_id                category  gender   age  \\\n",
       "sample_id                                                                       \n",
       "GTEX-1117F-0226-SM-5GZZ7     GTEX-1117F    Adipose_Subcutaneous  Female  66.0   \n",
       "GTEX-1117F-0526-SM-5EGHJ     GTEX-1117F           Artery_Tibial  Female  66.0   \n",
       "GTEX-1117F-0726-SM-5GIEN     GTEX-1117F  Heart_Atrial_Appendage  Female  66.0   \n",
       "GTEX-1117F-2826-SM-5GZXL     GTEX-1117F   Breast_Mammary_Tissue  Female  66.0   \n",
       "GTEX-1117F-3226-SM-5N9CT     GTEX-1117F            Brain_Cortex  Female  66.0   \n",
       "\n",
       "                         dataSet  \n",
       "sample_id                         \n",
       "GTEX-1117F-0226-SM-5GZZ7    GTEx  \n",
       "GTEX-1117F-0526-SM-5EGHJ    GTEx  \n",
       "GTEX-1117F-0726-SM-5GIEN    GTEx  \n",
       "GTEX-1117F-2826-SM-5GZXL    GTEx  \n",
       "GTEX-1117F-3226-SM-5N9CT    GTEx  "
      ]
     },
     "execution_count": 22,
     "metadata": {},
     "output_type": "execute_result"
    }
   ],
   "source": [
    "%%time\n",
    "colDataPath = f\"{dataRoot}/GTEx_TCGA_ColData.csv\"\n",
    "colDataDF = pd.read_csv(colDataPath, index_col=\"sample_id\")\n",
    "print(f'colDataDF.shape : {colDataDF.shape}' )\n",
    "colDataDF.head()"
   ]
  },
  {
   "cell_type": "code",
   "execution_count": 27,
   "id": "7b4c167a-8e24-483d-8b14-045a9e485112",
   "metadata": {},
   "outputs": [
    {
     "name": "stdout",
     "output_type": "stream",
     "text": [
      "26337\n",
      "22183\n"
     ]
    }
   ],
   "source": [
    "uniqueCountSampleIds = normalizedGroupbyHDF5_DF.columns.unique()\n",
    "uniqueColDataSampleIds = colDataDF.index.unique()\n",
    "\n",
    "print(len(uniqueCountSampleIds))\n",
    "print( len(uniqueColDataSampleIds))\n",
    "\n"
   ]
  },
  {
   "cell_type": "code",
   "execution_count": 24,
   "id": "b4565b00-458e-4390-8557-83de6c34628f",
   "metadata": {},
   "outputs": [
    {
     "name": "stdout",
     "output_type": "stream",
     "text": [
      "0\n",
      "4154\n",
      "22183\n"
     ]
    },
    {
     "data": {
      "text/plain": [
       "4154"
      ]
     },
     "execution_count": 24,
     "metadata": {},
     "output_type": "execute_result"
    }
   ],
   "source": [
    "print( sum( normalizedGroupbyHDF5_DF.columns.duplicated() ) )\n",
    "print( sum( colDataDF.index.duplicated() ) )\n",
    "print( sum( ~colDataDF.index.duplicated() ) )\n",
    "sum( normalizedGroupbyHDF5_DF.columns != colDataDF.index ) "
   ]
  },
  {
   "cell_type": "code",
   "execution_count": 32,
   "id": "fa1b2f68-84ec-41d7-a487-be88fd33b023",
   "metadata": {},
   "outputs": [
    {
     "name": "stdout",
     "output_type": "stream",
     "text": [
      "(74777, 22183)\n"
     ]
    },
    {
     "data": {
      "text/html": [
       "<div>\n",
       "<style scoped>\n",
       "    .dataframe tbody tr th:only-of-type {\n",
       "        vertical-align: middle;\n",
       "    }\n",
       "\n",
       "    .dataframe tbody tr th {\n",
       "        vertical-align: top;\n",
       "    }\n",
       "\n",
       "    .dataframe thead th {\n",
       "        text-align: right;\n",
       "    }\n",
       "</style>\n",
       "<table border=\"1\" class=\"dataframe\">\n",
       "  <thead>\n",
       "    <tr style=\"text-align: right;\">\n",
       "      <th></th>\n",
       "      <th>GTEX-1117F-0226-SM-5GZZ7</th>\n",
       "      <th>GTEX-1117F-0526-SM-5EGHJ</th>\n",
       "      <th>GTEX-1117F-0726-SM-5GIEN</th>\n",
       "    </tr>\n",
       "    <tr>\n",
       "      <th>geneId</th>\n",
       "      <th></th>\n",
       "      <th></th>\n",
       "      <th></th>\n",
       "    </tr>\n",
       "  </thead>\n",
       "  <tbody>\n",
       "    <tr>\n",
       "      <th>(A)n</th>\n",
       "      <td>7.506043</td>\n",
       "      <td>0.68924</td>\n",
       "      <td>1.611646</td>\n",
       "    </tr>\n",
       "    <tr>\n",
       "      <th>(AAA)n</th>\n",
       "      <td>0.000000</td>\n",
       "      <td>0.00000</td>\n",
       "      <td>0.000000</td>\n",
       "    </tr>\n",
       "    <tr>\n",
       "      <th>(AAAAAAC)n</th>\n",
       "      <td>0.000000</td>\n",
       "      <td>0.00000</td>\n",
       "      <td>0.000000</td>\n",
       "    </tr>\n",
       "  </tbody>\n",
       "</table>\n",
       "</div>"
      ],
      "text/plain": [
       "            GTEX-1117F-0226-SM-5GZZ7  GTEX-1117F-0526-SM-5EGHJ  \\\n",
       "geneId                                                           \n",
       "(A)n                        7.506043                   0.68924   \n",
       "(AAA)n                      0.000000                   0.00000   \n",
       "(AAAAAAC)n                  0.000000                   0.00000   \n",
       "\n",
       "            GTEX-1117F-0726-SM-5GIEN  \n",
       "geneId                                \n",
       "(A)n                        1.611646  \n",
       "(AAA)n                      0.000000  \n",
       "(AAAAAAC)n                  0.000000  "
      ]
     },
     "metadata": {},
     "output_type": "display_data"
    },
    {
     "name": "stdout",
     "output_type": "stream",
     "text": [
      "\n",
      "CPU times: user 2.4 s, sys: 36.7 s, total: 39.1 s\n",
      "Wall time: 41.1 s\n"
     ]
    }
   ],
   "source": [
    "%%time\n",
    "uniqueSampleIds = ~colDataDF.index.duplicated()\n",
    "noDupsNormalizedGroupbyHDF5_DF = normalizedGroupbyHDF5_DF.loc[:, uniqueSampleIds]\n",
    "print( noDupsNormalizedGroupbyHDF5_DF.shape )\n",
    "display( noDupsNormalizedGroupbyHDF5_DF.iloc[0:3, 0:3] )\n",
    "print()"
   ]
  },
  {
   "cell_type": "code",
   "execution_count": 30,
   "id": "b35d2d52-1014-48af-b99b-6bc265f12ddb",
   "metadata": {},
   "outputs": [
    {
     "name": "stdout",
     "output_type": "stream",
     "text": [
      "(22183, 5)\n"
     ]
    },
    {
     "data": {
      "text/html": [
       "<div>\n",
       "<style scoped>\n",
       "    .dataframe tbody tr th:only-of-type {\n",
       "        vertical-align: middle;\n",
       "    }\n",
       "\n",
       "    .dataframe tbody tr th {\n",
       "        vertical-align: top;\n",
       "    }\n",
       "\n",
       "    .dataframe thead th {\n",
       "        text-align: right;\n",
       "    }\n",
       "</style>\n",
       "<table border=\"1\" class=\"dataframe\">\n",
       "  <thead>\n",
       "    <tr style=\"text-align: right;\">\n",
       "      <th></th>\n",
       "      <th>participant_id</th>\n",
       "      <th>category</th>\n",
       "      <th>gender</th>\n",
       "      <th>age</th>\n",
       "      <th>dataSet</th>\n",
       "    </tr>\n",
       "    <tr>\n",
       "      <th>sample_id</th>\n",
       "      <th></th>\n",
       "      <th></th>\n",
       "      <th></th>\n",
       "      <th></th>\n",
       "      <th></th>\n",
       "    </tr>\n",
       "  </thead>\n",
       "  <tbody>\n",
       "    <tr>\n",
       "      <th>GTEX-1117F-0226-SM-5GZZ7</th>\n",
       "      <td>GTEX-1117F</td>\n",
       "      <td>Adipose_Subcutaneous</td>\n",
       "      <td>Female</td>\n",
       "      <td>66.0</td>\n",
       "      <td>GTEx</td>\n",
       "    </tr>\n",
       "    <tr>\n",
       "      <th>GTEX-1117F-0526-SM-5EGHJ</th>\n",
       "      <td>GTEX-1117F</td>\n",
       "      <td>Artery_Tibial</td>\n",
       "      <td>Female</td>\n",
       "      <td>66.0</td>\n",
       "      <td>GTEx</td>\n",
       "    </tr>\n",
       "    <tr>\n",
       "      <th>GTEX-1117F-0726-SM-5GIEN</th>\n",
       "      <td>GTEX-1117F</td>\n",
       "      <td>Heart_Atrial_Appendage</td>\n",
       "      <td>Female</td>\n",
       "      <td>66.0</td>\n",
       "      <td>GTEx</td>\n",
       "    </tr>\n",
       "    <tr>\n",
       "      <th>GTEX-1117F-2826-SM-5GZXL</th>\n",
       "      <td>GTEX-1117F</td>\n",
       "      <td>Breast_Mammary_Tissue</td>\n",
       "      <td>Female</td>\n",
       "      <td>66.0</td>\n",
       "      <td>GTEx</td>\n",
       "    </tr>\n",
       "    <tr>\n",
       "      <th>GTEX-1117F-3226-SM-5N9CT</th>\n",
       "      <td>GTEX-1117F</td>\n",
       "      <td>Brain_Cortex</td>\n",
       "      <td>Female</td>\n",
       "      <td>66.0</td>\n",
       "      <td>GTEx</td>\n",
       "    </tr>\n",
       "  </tbody>\n",
       "</table>\n",
       "</div>"
      ],
      "text/plain": [
       "                         participant_id                category  gender   age  \\\n",
       "sample_id                                                                       \n",
       "GTEX-1117F-0226-SM-5GZZ7     GTEX-1117F    Adipose_Subcutaneous  Female  66.0   \n",
       "GTEX-1117F-0526-SM-5EGHJ     GTEX-1117F           Artery_Tibial  Female  66.0   \n",
       "GTEX-1117F-0726-SM-5GIEN     GTEX-1117F  Heart_Atrial_Appendage  Female  66.0   \n",
       "GTEX-1117F-2826-SM-5GZXL     GTEX-1117F   Breast_Mammary_Tissue  Female  66.0   \n",
       "GTEX-1117F-3226-SM-5N9CT     GTEX-1117F            Brain_Cortex  Female  66.0   \n",
       "\n",
       "                         dataSet  \n",
       "sample_id                         \n",
       "GTEX-1117F-0226-SM-5GZZ7    GTEx  \n",
       "GTEX-1117F-0526-SM-5EGHJ    GTEx  \n",
       "GTEX-1117F-0726-SM-5GIEN    GTEx  \n",
       "GTEX-1117F-2826-SM-5GZXL    GTEx  \n",
       "GTEX-1117F-3226-SM-5N9CT    GTEx  "
      ]
     },
     "metadata": {},
     "output_type": "display_data"
    },
    {
     "name": "stdout",
     "output_type": "stream",
     "text": [
      "\n",
      "CPU times: user 16.1 ms, sys: 0 ns, total: 16.1 ms\n",
      "Wall time: 14.7 ms\n"
     ]
    }
   ],
   "source": [
    "%%time\n",
    "noDupsColDataDF = colDataDF.loc[uniqueSampleIds, :]\n",
    "print( noDupsColDataDF.shape )\n",
    "display( colDataDF.head() )\n",
    "print()"
   ]
  },
  {
   "cell_type": "markdown",
   "id": "cdcdf5ef-1a4a-4291-bc2a-b86634879636",
   "metadata": {},
   "source": [
    "# <span style=\"color:red;background-color:yellow\"> save unique samples as a single data set</span>"
   ]
  },
  {
   "cell_type": "code",
   "execution_count": 33,
   "id": "c8c8787e-0649-420d-bbbc-8a259a9117fb",
   "metadata": {},
   "outputs": [
    {
     "name": "stdout",
     "output_type": "stream",
     "text": [
      "saved to : /scratch/aedavids/tmp/GTEx_TCGA_NormalizedGroupby.hdf5\n",
      "saved to : /scratch/aedavids/tmp/GTEx_TCGA_ColData.hdf5\n",
      "CPU times: user 28.4 s, sys: 1min 22s, total: 1min 50s\n",
      "Wall time: 2min\n"
     ]
    }
   ],
   "source": [
    "%%time\n",
    "def saveAsHDF2( dataRoot, fileName, df, key):\n",
    "    hdf5Path = f'{dataRoot}/{fileName}.hdf5'\n",
    "    df.to_hdf(hdf5Path, key=key)\n",
    "    print(f'saved to : {hdf5Path}')\n",
    "\n",
    "# saveAsHDF2( dataRoot, 'GTEx_TCGA_NormalizedGroupby', noDupsNormalizedGroupbyHDF5_DF, 'normalizedGroupbyGenesCounts')\n",
    "# saveAsHDF2( dataRoot, 'GTEx_TCGA_ColData', noDupsColDataDF, 'colData')"
   ]
  },
  {
   "cell_type": "code",
   "execution_count": null,
   "id": "94024d2c-ae1f-4656-9fad-203ca72399a9",
   "metadata": {},
   "outputs": [],
   "source": []
  }
 ],
 "metadata": {
  "kernelspec": {
   "display_name": "Python 3 (ipykernel)",
   "language": "python",
   "name": "python3"
  },
  "language_info": {
   "codemirror_mode": {
    "name": "ipython",
    "version": 3
   },
   "file_extension": ".py",
   "mimetype": "text/x-python",
   "name": "python",
   "nbconvert_exporter": "python",
   "pygments_lexer": "ipython3",
   "version": "3.11.4"
  }
 },
 "nbformat": 4,
 "nbformat_minor": 5
}
